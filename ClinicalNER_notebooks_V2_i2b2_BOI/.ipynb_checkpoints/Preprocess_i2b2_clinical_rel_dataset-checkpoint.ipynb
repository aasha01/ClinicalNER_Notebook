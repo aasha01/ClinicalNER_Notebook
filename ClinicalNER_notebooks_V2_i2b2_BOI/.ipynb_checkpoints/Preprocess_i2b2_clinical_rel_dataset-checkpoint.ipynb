{
 "cells": [
  {
   "cell_type": "code",
   "execution_count": 1,
   "metadata": {},
   "outputs": [
    {
     "ename": "OSError",
     "evalue": "[WinError 127] The specified procedure could not be found. Error loading \"C:\\Users\\aasha\\anaconda3\\envs\\tfgpu\\lib\\site-packages\\torch\\lib\\caffe2_detectron_ops.dll\" or one of its dependencies.",
     "output_type": "error",
     "traceback": [
      "\u001b[1;31m---------------------------------------------------------------------------\u001b[0m",
      "\u001b[1;31mOSError\u001b[0m                                   Traceback (most recent call last)",
      "\u001b[1;32m<ipython-input-1-d29c52593386>\u001b[0m in \u001b[0;36m<module>\u001b[1;34m\u001b[0m\n\u001b[1;32m----> 1\u001b[1;33m \u001b[1;32mimport\u001b[0m \u001b[0mtorch\u001b[0m\u001b[1;33m\u001b[0m\u001b[1;33m\u001b[0m\u001b[0m\n\u001b[0m\u001b[0;32m      2\u001b[0m \u001b[0mtorch\u001b[0m\u001b[1;33m.\u001b[0m\u001b[0mcuda\u001b[0m\u001b[1;33m.\u001b[0m\u001b[0mis_available\u001b[0m\u001b[1;33m(\u001b[0m\u001b[1;33m)\u001b[0m\u001b[1;33m\u001b[0m\u001b[1;33m\u001b[0m\u001b[0m\n",
      "\u001b[1;32m~\\anaconda3\\envs\\tfgpu\\lib\\site-packages\\torch\\__init__.py\u001b[0m in \u001b[0;36m<module>\u001b[1;34m\u001b[0m\n\u001b[0;32m    115\u001b[0m                 \u001b[0merr\u001b[0m \u001b[1;33m=\u001b[0m \u001b[0mctypes\u001b[0m\u001b[1;33m.\u001b[0m\u001b[0mWinError\u001b[0m\u001b[1;33m(\u001b[0m\u001b[0mlast_error\u001b[0m\u001b[1;33m)\u001b[0m\u001b[1;33m\u001b[0m\u001b[1;33m\u001b[0m\u001b[0m\n\u001b[0;32m    116\u001b[0m                 \u001b[0merr\u001b[0m\u001b[1;33m.\u001b[0m\u001b[0mstrerror\u001b[0m \u001b[1;33m+=\u001b[0m \u001b[1;34mf' Error loading \"{dll}\" or one of its dependencies.'\u001b[0m\u001b[1;33m\u001b[0m\u001b[1;33m\u001b[0m\u001b[0m\n\u001b[1;32m--> 117\u001b[1;33m                 \u001b[1;32mraise\u001b[0m \u001b[0merr\u001b[0m\u001b[1;33m\u001b[0m\u001b[1;33m\u001b[0m\u001b[0m\n\u001b[0m\u001b[0;32m    118\u001b[0m             \u001b[1;32melif\u001b[0m \u001b[0mres\u001b[0m \u001b[1;32mis\u001b[0m \u001b[1;32mnot\u001b[0m \u001b[1;32mNone\u001b[0m\u001b[1;33m:\u001b[0m\u001b[1;33m\u001b[0m\u001b[1;33m\u001b[0m\u001b[0m\n\u001b[0;32m    119\u001b[0m                 \u001b[0mis_loaded\u001b[0m \u001b[1;33m=\u001b[0m \u001b[1;32mTrue\u001b[0m\u001b[1;33m\u001b[0m\u001b[1;33m\u001b[0m\u001b[0m\n",
      "\u001b[1;31mOSError\u001b[0m: [WinError 127] The specified procedure could not be found. Error loading \"C:\\Users\\aasha\\anaconda3\\envs\\tfgpu\\lib\\site-packages\\torch\\lib\\caffe2_detectron_ops.dll\" or one of its dependencies."
     ]
    }
   ],
   "source": [
    "import torch\n",
    "torch.cuda.is_available()\n"
   ]
  },
  {
   "cell_type": "code",
   "execution_count": 2,
   "metadata": {},
   "outputs": [
    {
     "ename": "OSError",
     "evalue": "[WinError 127] The specified procedure could not be found. Error loading \"C:\\Users\\aasha\\anaconda3\\envs\\tfgpu\\lib\\site-packages\\torch\\lib\\caffe2_detectron_ops.dll\" or one of its dependencies.",
     "output_type": "error",
     "traceback": [
      "\u001b[1;31m---------------------------------------------------------------------------\u001b[0m",
      "\u001b[1;31mOSError\u001b[0m                                   Traceback (most recent call last)",
      "\u001b[1;32m<ipython-input-2-9ac2774cef20>\u001b[0m in \u001b[0;36m<module>\u001b[1;34m\u001b[0m\n\u001b[0;32m      3\u001b[0m \u001b[1;32mfrom\u001b[0m \u001b[0mtqdm\u001b[0m \u001b[1;32mimport\u001b[0m \u001b[0mtqdm\u001b[0m\u001b[1;33m\u001b[0m\u001b[1;33m\u001b[0m\u001b[0m\n\u001b[0;32m      4\u001b[0m \u001b[1;33m\u001b[0m\u001b[0m\n\u001b[1;32m----> 5\u001b[1;33m \u001b[1;32mimport\u001b[0m \u001b[0mspacy\u001b[0m\u001b[1;33m\u001b[0m\u001b[1;33m\u001b[0m\u001b[0m\n\u001b[0m\u001b[0;32m      6\u001b[0m \u001b[1;33m\u001b[0m\u001b[0m\n\u001b[0;32m      7\u001b[0m \u001b[1;32mfrom\u001b[0m \u001b[0mspacy\u001b[0m\u001b[1;33m.\u001b[0m\u001b[0mtokenizer\u001b[0m \u001b[1;32mimport\u001b[0m \u001b[0mTokenizer\u001b[0m\u001b[1;33m\u001b[0m\u001b[1;33m\u001b[0m\u001b[0m\n",
      "\u001b[1;32m~\\AppData\\Roaming\\Python\\Python37\\site-packages\\spacy\\__init__.py\u001b[0m in \u001b[0;36m<module>\u001b[1;34m\u001b[0m\n\u001b[0;32m      9\u001b[0m \u001b[1;33m\u001b[0m\u001b[0m\n\u001b[0;32m     10\u001b[0m \u001b[1;31m# These are imported as part of the API\u001b[0m\u001b[1;33m\u001b[0m\u001b[1;33m\u001b[0m\u001b[1;33m\u001b[0m\u001b[0m\n\u001b[1;32m---> 11\u001b[1;33m \u001b[1;32mfrom\u001b[0m \u001b[0mthinc\u001b[0m\u001b[1;33m.\u001b[0m\u001b[0mapi\u001b[0m \u001b[1;32mimport\u001b[0m \u001b[0mprefer_gpu\u001b[0m\u001b[1;33m,\u001b[0m \u001b[0mrequire_gpu\u001b[0m\u001b[1;33m,\u001b[0m \u001b[0mrequire_cpu\u001b[0m  \u001b[1;31m# noqa: F401\u001b[0m\u001b[1;33m\u001b[0m\u001b[1;33m\u001b[0m\u001b[0m\n\u001b[0m\u001b[0;32m     12\u001b[0m \u001b[1;32mfrom\u001b[0m \u001b[0mthinc\u001b[0m\u001b[1;33m.\u001b[0m\u001b[0mapi\u001b[0m \u001b[1;32mimport\u001b[0m \u001b[0mConfig\u001b[0m\u001b[1;33m\u001b[0m\u001b[1;33m\u001b[0m\u001b[0m\n\u001b[0;32m     13\u001b[0m \u001b[1;33m\u001b[0m\u001b[0m\n",
      "\u001b[1;32m~\\AppData\\Roaming\\Python\\Python37\\site-packages\\thinc\\api.py\u001b[0m in \u001b[0;36m<module>\u001b[1;34m\u001b[0m\n\u001b[0;32m      1\u001b[0m \u001b[1;32mfrom\u001b[0m \u001b[1;33m.\u001b[0m\u001b[0mconfig\u001b[0m \u001b[1;32mimport\u001b[0m \u001b[0mConfig\u001b[0m\u001b[1;33m,\u001b[0m \u001b[0mregistry\u001b[0m\u001b[1;33m,\u001b[0m \u001b[0mConfigValidationError\u001b[0m\u001b[1;33m\u001b[0m\u001b[1;33m\u001b[0m\u001b[0m\n\u001b[1;32m----> 2\u001b[1;33m \u001b[1;32mfrom\u001b[0m \u001b[1;33m.\u001b[0m\u001b[0minitializers\u001b[0m \u001b[1;32mimport\u001b[0m \u001b[0mnormal_init\u001b[0m\u001b[1;33m,\u001b[0m \u001b[0muniform_init\u001b[0m\u001b[1;33m,\u001b[0m \u001b[0mglorot_uniform_init\u001b[0m\u001b[1;33m,\u001b[0m \u001b[0mzero_init\u001b[0m\u001b[1;33m\u001b[0m\u001b[1;33m\u001b[0m\u001b[0m\n\u001b[0m\u001b[0;32m      3\u001b[0m \u001b[1;32mfrom\u001b[0m \u001b[1;33m.\u001b[0m\u001b[0minitializers\u001b[0m \u001b[1;32mimport\u001b[0m \u001b[0mconfigure_normal_init\u001b[0m\u001b[1;33m\u001b[0m\u001b[1;33m\u001b[0m\u001b[0m\n\u001b[0;32m      4\u001b[0m \u001b[1;32mfrom\u001b[0m \u001b[1;33m.\u001b[0m\u001b[0mloss\u001b[0m \u001b[1;32mimport\u001b[0m \u001b[0mCategoricalCrossentropy\u001b[0m\u001b[1;33m,\u001b[0m \u001b[0mL2Distance\u001b[0m\u001b[1;33m,\u001b[0m \u001b[0mCosineDistance\u001b[0m\u001b[1;33m\u001b[0m\u001b[1;33m\u001b[0m\u001b[0m\n\u001b[0;32m      5\u001b[0m \u001b[1;32mfrom\u001b[0m \u001b[1;33m.\u001b[0m\u001b[0mloss\u001b[0m \u001b[1;32mimport\u001b[0m \u001b[0mSequenceCategoricalCrossentropy\u001b[0m\u001b[1;33m\u001b[0m\u001b[1;33m\u001b[0m\u001b[0m\n",
      "\u001b[1;32m~\\AppData\\Roaming\\Python\\Python37\\site-packages\\thinc\\initializers.py\u001b[0m in \u001b[0;36m<module>\u001b[1;34m\u001b[0m\n\u001b[0;32m      2\u001b[0m \u001b[1;32mimport\u001b[0m \u001b[0mnumpy\u001b[0m\u001b[1;33m\u001b[0m\u001b[1;33m\u001b[0m\u001b[0m\n\u001b[0;32m      3\u001b[0m \u001b[1;33m\u001b[0m\u001b[0m\n\u001b[1;32m----> 4\u001b[1;33m \u001b[1;32mfrom\u001b[0m \u001b[1;33m.\u001b[0m\u001b[0mbackends\u001b[0m \u001b[1;32mimport\u001b[0m \u001b[0mOps\u001b[0m\u001b[1;33m\u001b[0m\u001b[1;33m\u001b[0m\u001b[0m\n\u001b[0m\u001b[0;32m      5\u001b[0m \u001b[1;32mfrom\u001b[0m \u001b[1;33m.\u001b[0m\u001b[0mconfig\u001b[0m \u001b[1;32mimport\u001b[0m \u001b[0mregistry\u001b[0m\u001b[1;33m\u001b[0m\u001b[1;33m\u001b[0m\u001b[0m\n\u001b[0;32m      6\u001b[0m \u001b[1;32mfrom\u001b[0m \u001b[1;33m.\u001b[0m\u001b[0mtypes\u001b[0m \u001b[1;32mimport\u001b[0m \u001b[0mFloatsXd\u001b[0m\u001b[1;33m,\u001b[0m \u001b[0mShape\u001b[0m\u001b[1;33m\u001b[0m\u001b[1;33m\u001b[0m\u001b[0m\n",
      "\u001b[1;32m~\\AppData\\Roaming\\Python\\Python37\\site-packages\\thinc\\backends\\__init__.py\u001b[0m in \u001b[0;36m<module>\u001b[1;34m\u001b[0m\n\u001b[0;32m      5\u001b[0m \u001b[1;32mimport\u001b[0m \u001b[0mthreading\u001b[0m\u001b[1;33m\u001b[0m\u001b[1;33m\u001b[0m\u001b[0m\n\u001b[0;32m      6\u001b[0m \u001b[1;33m\u001b[0m\u001b[0m\n\u001b[1;32m----> 7\u001b[1;33m \u001b[1;32mfrom\u001b[0m \u001b[1;33m.\u001b[0m\u001b[0mops\u001b[0m \u001b[1;32mimport\u001b[0m \u001b[0mOps\u001b[0m\u001b[1;33m\u001b[0m\u001b[1;33m\u001b[0m\u001b[0m\n\u001b[0m\u001b[0;32m      8\u001b[0m \u001b[1;32mfrom\u001b[0m \u001b[1;33m.\u001b[0m\u001b[0mcupy_ops\u001b[0m \u001b[1;32mimport\u001b[0m \u001b[0mCupyOps\u001b[0m\u001b[1;33m,\u001b[0m \u001b[0mhas_cupy\u001b[0m\u001b[1;33m\u001b[0m\u001b[1;33m\u001b[0m\u001b[0m\n\u001b[0;32m      9\u001b[0m \u001b[1;32mfrom\u001b[0m \u001b[1;33m.\u001b[0m\u001b[0mnumpy_ops\u001b[0m \u001b[1;32mimport\u001b[0m \u001b[0mNumpyOps\u001b[0m\u001b[1;33m\u001b[0m\u001b[1;33m\u001b[0m\u001b[0m\n",
      "\u001b[1;32m~\\AppData\\Roaming\\Python\\Python37\\site-packages\\thinc\\backends\\ops.py\u001b[0m in \u001b[0;36m<module>\u001b[1;34m\u001b[0m\n\u001b[0;32m      8\u001b[0m \u001b[1;32mfrom\u001b[0m \u001b[1;33m.\u001b[0m\u001b[1;33m.\u001b[0m\u001b[0mtypes\u001b[0m \u001b[1;32mimport\u001b[0m \u001b[0mFloatsXd\u001b[0m\u001b[1;33m,\u001b[0m \u001b[0mInts1d\u001b[0m\u001b[1;33m,\u001b[0m \u001b[0mInts2d\u001b[0m\u001b[1;33m,\u001b[0m \u001b[0mInts3d\u001b[0m\u001b[1;33m,\u001b[0m \u001b[0mInts4d\u001b[0m\u001b[1;33m,\u001b[0m \u001b[0mIntsXd\u001b[0m\u001b[1;33m,\u001b[0m \u001b[0m_Floats\u001b[0m\u001b[1;33m\u001b[0m\u001b[1;33m\u001b[0m\u001b[0m\n\u001b[0;32m      9\u001b[0m \u001b[1;32mfrom\u001b[0m \u001b[1;33m.\u001b[0m\u001b[1;33m.\u001b[0m\u001b[0mtypes\u001b[0m \u001b[1;32mimport\u001b[0m \u001b[0mDeviceTypes\u001b[0m\u001b[1;33m,\u001b[0m \u001b[0mGenerator\u001b[0m\u001b[1;33m,\u001b[0m \u001b[0mPadded\u001b[0m\u001b[1;33m,\u001b[0m \u001b[0mBatchable\u001b[0m\u001b[1;33m,\u001b[0m \u001b[0mSizedGenerator\u001b[0m\u001b[1;33m\u001b[0m\u001b[1;33m\u001b[0m\u001b[0m\n\u001b[1;32m---> 10\u001b[1;33m \u001b[1;32mfrom\u001b[0m \u001b[1;33m.\u001b[0m\u001b[1;33m.\u001b[0m\u001b[0mutil\u001b[0m \u001b[1;32mimport\u001b[0m \u001b[0mget_array_module\u001b[0m\u001b[1;33m,\u001b[0m \u001b[0mis_xp_array\u001b[0m\u001b[1;33m,\u001b[0m \u001b[0mto_numpy\u001b[0m\u001b[1;33m\u001b[0m\u001b[1;33m\u001b[0m\u001b[0m\n\u001b[0m\u001b[0;32m     11\u001b[0m \u001b[1;33m\u001b[0m\u001b[0m\n\u001b[0;32m     12\u001b[0m \u001b[1;33m\u001b[0m\u001b[0m\n",
      "\u001b[1;32m~\\AppData\\Roaming\\Python\\Python37\\site-packages\\thinc\\util.py\u001b[0m in \u001b[0;36m<module>\u001b[1;34m\u001b[0m\n\u001b[0;32m     25\u001b[0m \u001b[1;33m\u001b[0m\u001b[0m\n\u001b[0;32m     26\u001b[0m \u001b[1;32mtry\u001b[0m\u001b[1;33m:\u001b[0m  \u001b[1;31m# pragma: no cover\u001b[0m\u001b[1;33m\u001b[0m\u001b[1;33m\u001b[0m\u001b[0m\n\u001b[1;32m---> 27\u001b[1;33m     \u001b[1;32mimport\u001b[0m \u001b[0mtorch\u001b[0m\u001b[1;33m\u001b[0m\u001b[1;33m\u001b[0m\u001b[0m\n\u001b[0m\u001b[0;32m     28\u001b[0m     \u001b[1;32mfrom\u001b[0m \u001b[0mtorch\u001b[0m \u001b[1;32mimport\u001b[0m \u001b[0mtensor\u001b[0m\u001b[1;33m\u001b[0m\u001b[1;33m\u001b[0m\u001b[0m\n\u001b[0;32m     29\u001b[0m     \u001b[1;32mimport\u001b[0m \u001b[0mtorch\u001b[0m\u001b[1;33m.\u001b[0m\u001b[0mutils\u001b[0m\u001b[1;33m.\u001b[0m\u001b[0mdlpack\u001b[0m\u001b[1;33m\u001b[0m\u001b[1;33m\u001b[0m\u001b[0m\n",
      "\u001b[1;32m~\\anaconda3\\envs\\tfgpu\\lib\\site-packages\\torch\\__init__.py\u001b[0m in \u001b[0;36m<module>\u001b[1;34m\u001b[0m\n\u001b[0;32m    115\u001b[0m                 \u001b[0merr\u001b[0m \u001b[1;33m=\u001b[0m \u001b[0mctypes\u001b[0m\u001b[1;33m.\u001b[0m\u001b[0mWinError\u001b[0m\u001b[1;33m(\u001b[0m\u001b[0mlast_error\u001b[0m\u001b[1;33m)\u001b[0m\u001b[1;33m\u001b[0m\u001b[1;33m\u001b[0m\u001b[0m\n\u001b[0;32m    116\u001b[0m                 \u001b[0merr\u001b[0m\u001b[1;33m.\u001b[0m\u001b[0mstrerror\u001b[0m \u001b[1;33m+=\u001b[0m \u001b[1;34mf' Error loading \"{dll}\" or one of its dependencies.'\u001b[0m\u001b[1;33m\u001b[0m\u001b[1;33m\u001b[0m\u001b[0m\n\u001b[1;32m--> 117\u001b[1;33m                 \u001b[1;32mraise\u001b[0m \u001b[0merr\u001b[0m\u001b[1;33m\u001b[0m\u001b[1;33m\u001b[0m\u001b[0m\n\u001b[0m\u001b[0;32m    118\u001b[0m             \u001b[1;32melif\u001b[0m \u001b[0mres\u001b[0m \u001b[1;32mis\u001b[0m \u001b[1;32mnot\u001b[0m \u001b[1;32mNone\u001b[0m\u001b[1;33m:\u001b[0m\u001b[1;33m\u001b[0m\u001b[1;33m\u001b[0m\u001b[0m\n\u001b[0;32m    119\u001b[0m                 \u001b[0mis_loaded\u001b[0m \u001b[1;33m=\u001b[0m \u001b[1;32mTrue\u001b[0m\u001b[1;33m\u001b[0m\u001b[1;33m\u001b[0m\u001b[0m\n",
      "\u001b[1;31mOSError\u001b[0m: [WinError 127] The specified procedure could not be found. Error loading \"C:\\Users\\aasha\\anaconda3\\envs\\tfgpu\\lib\\site-packages\\torch\\lib\\caffe2_detectron_ops.dll\" or one of its dependencies."
     ]
    }
   ],
   "source": [
    "import pandas as pd\n",
    "\n",
    "from tqdm import tqdm\n",
    "\n",
    "import spacy\n",
    "\n",
    "from spacy.tokenizer import Tokenizer\n",
    "spacy.prefer_gpu()\n",
    "#spacy.require_gpu()\n"
   ]
  },
  {
   "cell_type": "code",
   "execution_count": null,
   "metadata": {},
   "outputs": [],
   "source": []
  },
  {
   "cell_type": "code",
   "execution_count": 2,
   "metadata": {},
   "outputs": [
    {
     "ename": "AttributeError",
     "evalue": "module 'torch._C' has no attribute '_cuda_setDevice'",
     "output_type": "error",
     "traceback": [
      "\u001b[1;31m---------------------------------------------------------------------------\u001b[0m",
      "\u001b[1;31mAttributeError\u001b[0m                            Traceback (most recent call last)",
      "\u001b[1;32m<ipython-input-2-ffa7a905abff>\u001b[0m in \u001b[0;36m<module>\u001b[1;34m\u001b[0m\n\u001b[1;32m----> 1\u001b[1;33m \u001b[0mspacy\u001b[0m\u001b[1;33m.\u001b[0m\u001b[0mrequire_gpu\u001b[0m\u001b[1;33m(\u001b[0m\u001b[1;33m)\u001b[0m\u001b[1;33m\u001b[0m\u001b[1;33m\u001b[0m\u001b[0m\n\u001b[0m",
      "\u001b[1;32m~\\AppData\\Roaming\\Python\\Python37\\site-packages\\thinc\\util.py\u001b[0m in \u001b[0;36mrequire_gpu\u001b[1;34m(gpu_id)\u001b[0m\n\u001b[0;32m    188\u001b[0m \u001b[1;33m\u001b[0m\u001b[0m\n\u001b[0;32m    189\u001b[0m     \u001b[0mset_current_ops\u001b[0m\u001b[1;33m(\u001b[0m\u001b[0mCupyOps\u001b[0m\u001b[1;33m(\u001b[0m\u001b[1;33m)\u001b[0m\u001b[1;33m)\u001b[0m\u001b[1;33m\u001b[0m\u001b[1;33m\u001b[0m\u001b[0m\n\u001b[1;32m--> 190\u001b[1;33m     \u001b[0mset_active_gpu\u001b[0m\u001b[1;33m(\u001b[0m\u001b[0mgpu_id\u001b[0m\u001b[1;33m)\u001b[0m\u001b[1;33m\u001b[0m\u001b[1;33m\u001b[0m\u001b[0m\n\u001b[0m\u001b[0;32m    191\u001b[0m     \u001b[1;32mreturn\u001b[0m \u001b[1;32mTrue\u001b[0m\u001b[1;33m\u001b[0m\u001b[1;33m\u001b[0m\u001b[0m\n\u001b[0;32m    192\u001b[0m \u001b[1;33m\u001b[0m\u001b[0m\n",
      "\u001b[1;32m~\\AppData\\Roaming\\Python\\Python37\\site-packages\\thinc\\util.py\u001b[0m in \u001b[0;36mset_active_gpu\u001b[1;34m(gpu_id)\u001b[0m\n\u001b[0;32m    149\u001b[0m         \u001b[1;32mimport\u001b[0m \u001b[0mtorch\u001b[0m\u001b[1;33m\u001b[0m\u001b[1;33m\u001b[0m\u001b[0m\n\u001b[0;32m    150\u001b[0m \u001b[1;33m\u001b[0m\u001b[0m\n\u001b[1;32m--> 151\u001b[1;33m         \u001b[0mtorch\u001b[0m\u001b[1;33m.\u001b[0m\u001b[0mcuda\u001b[0m\u001b[1;33m.\u001b[0m\u001b[0mset_device\u001b[0m\u001b[1;33m(\u001b[0m\u001b[0mgpu_id\u001b[0m\u001b[1;33m)\u001b[0m\u001b[1;33m\u001b[0m\u001b[1;33m\u001b[0m\u001b[0m\n\u001b[0m\u001b[0;32m    152\u001b[0m         \u001b[0mtorch\u001b[0m\u001b[1;33m.\u001b[0m\u001b[0mset_default_tensor_type\u001b[0m\u001b[1;33m(\u001b[0m\u001b[1;34m\"torch.cuda.FloatTensor\"\u001b[0m\u001b[1;33m)\u001b[0m\u001b[1;33m\u001b[0m\u001b[1;33m\u001b[0m\u001b[0m\n\u001b[0;32m    153\u001b[0m     \u001b[1;32mexcept\u001b[0m \u001b[0mImportError\u001b[0m\u001b[1;33m:\u001b[0m\u001b[1;33m\u001b[0m\u001b[1;33m\u001b[0m\u001b[0m\n",
      "\u001b[1;32m~\\anaconda3\\envs\\tfgpu\\lib\\site-packages\\torch\\cuda\\__init__.py\u001b[0m in \u001b[0;36mset_device\u001b[1;34m(device)\u001b[0m\n\u001b[0;32m    259\u001b[0m     \u001b[0mdevice\u001b[0m \u001b[1;33m=\u001b[0m \u001b[0m_get_device_index\u001b[0m\u001b[1;33m(\u001b[0m\u001b[0mdevice\u001b[0m\u001b[1;33m)\u001b[0m\u001b[1;33m\u001b[0m\u001b[1;33m\u001b[0m\u001b[0m\n\u001b[0;32m    260\u001b[0m     \u001b[1;32mif\u001b[0m \u001b[0mdevice\u001b[0m \u001b[1;33m>=\u001b[0m \u001b[1;36m0\u001b[0m\u001b[1;33m:\u001b[0m\u001b[1;33m\u001b[0m\u001b[1;33m\u001b[0m\u001b[0m\n\u001b[1;32m--> 261\u001b[1;33m         \u001b[0mtorch\u001b[0m\u001b[1;33m.\u001b[0m\u001b[0m_C\u001b[0m\u001b[1;33m.\u001b[0m\u001b[0m_cuda_setDevice\u001b[0m\u001b[1;33m(\u001b[0m\u001b[0mdevice\u001b[0m\u001b[1;33m)\u001b[0m\u001b[1;33m\u001b[0m\u001b[1;33m\u001b[0m\u001b[0m\n\u001b[0m\u001b[0;32m    262\u001b[0m \u001b[1;33m\u001b[0m\u001b[0m\n\u001b[0;32m    263\u001b[0m \u001b[1;33m\u001b[0m\u001b[0m\n",
      "\u001b[1;31mAttributeError\u001b[0m: module 'torch._C' has no attribute '_cuda_setDevice'"
     ]
    }
   ],
   "source": [
    "spacy.require_gpu()"
   ]
  },
  {
   "cell_type": "code",
   "execution_count": null,
   "metadata": {},
   "outputs": [],
   "source": [
    "nlp = spacy.load(\"en_core_web_md\")\n",
    "nlp.tokenizer = Tokenizer(nlp.vocab, token_match=re.compile(r'\\S+').match)"
   ]
  },
  {
   "cell_type": "code",
   "execution_count": 99,
   "metadata": {},
   "outputs": [],
   "source": [
    "raw = pd.read_csv(\"GoldStdData/i2b2_clinical_rel_dataset.csv\")\n",
    "\n",
    "# test labeled data count 650\n",
    "# train labeled data count 1000 - 650\n",
    "\n",
    "train_raw = raw.loc[raw['dataset'] == 'test']\n",
    "test_raw = raw.loc[raw['dataset'] == 'train']"
   ]
  },
  {
   "cell_type": "code",
   "execution_count": 100,
   "metadata": {},
   "outputs": [
    {
     "data": {
      "text/plain": [
       "((350, 21), (650, 21))"
      ]
     },
     "execution_count": 100,
     "metadata": {},
     "output_type": "execute_result"
    }
   ],
   "source": [
    "test_raw.shape, train_raw.shape"
   ]
  },
  {
   "cell_type": "code",
   "execution_count": 101,
   "metadata": {},
   "outputs": [
    {
     "data": {
      "text/plain": [
       "Index(['dataset', 'source', 'txt_file', 'sentence', 'sent_id', 'chunk1',\n",
       "       'begin1', 'end1', 'rel', 'chunk2', 'begin2', 'end2', 'label1', 'label2',\n",
       "       'lastCharEnt1', 'firstCharEnt1', 'lastCharEnt2', 'firstCharEnt2',\n",
       "       'words_in_ent1', 'words_in_ent2', 'words_between'],\n",
       "      dtype='object')"
      ]
     },
     "execution_count": 101,
     "metadata": {},
     "output_type": "execute_result"
    }
   ],
   "source": [
    "train_raw.columns"
   ]
  },
  {
   "cell_type": "markdown",
   "metadata": {},
   "source": [
    "## Get words from sentences and set labels\n",
    "### Dataframe format: Sentence #  |\tWord\t| POS\t| Tag\n",
    "### This df is used get the labels"
   ]
  },
  {
   "cell_type": "code",
   "execution_count": 85,
   "metadata": {},
   "outputs": [
    {
     "name": "stdout",
     "output_type": "stream",
     "text": [
      "0 VITAL\n",
      "1 SIGNS\n",
      "2 -\n",
      "3 Temp\n",
      "4 98.8\n",
      "5 ,\n",
      "6 pulse\n",
      "7 60\n",
      "8 ,\n",
      "9 BP\n",
      "10 150/94\n",
      "11 ,\n",
      "12 respiratory\n",
      "13 rate\n",
      "14 18\n",
      "15 ,\n",
      "16 and\n",
      "17 saturation\n",
      "18 96%\n",
      "19 on\n",
      "20 room\n",
      "21 air\n",
      "22 .\n",
      "0 No\n",
      "1 lotions\n",
      "2 ,\n",
      "3 creams\n",
      "4 or\n",
      "5 powders\n",
      "6 to\n",
      "7 incisions\n",
      "8 .\n",
      "0 Because\n",
      "1 of\n",
      "2 expected\n",
      "3 long\n",
      "4 term\n",
      "5 antibiotic\n",
      "6 administration\n",
      "7 ,\n",
      "8 a\n",
      "9 PICC\n",
      "10 line\n",
      "11 was\n",
      "12 placed\n",
      "13 and\n",
      "14 the\n",
      "15 patient\n",
      "16 was\n",
      "17 prepared\n",
      "18 for\n",
      "19 transfer\n",
      "20 back\n",
      "21 to\n",
      "22 Fo\n",
      "23 Hospital\n",
      "24 .\n",
      "0 She\n",
      "1 states\n",
      "2 this\n",
      "3 light-headedness\n",
      "4 is\n",
      "5 often\n",
      "6 associated\n",
      "7 with\n",
      "8 shortness\n",
      "9 of\n",
      "10 breath\n",
      "11 and\n",
      "12 diaphoresis\n",
      "13 occasionally\n",
      "14 with\n",
      "15 nausea\n",
      "16 .\n",
      "0 Initial\n",
      "1 electrocardiogram\n",
      "2 showed\n",
      "3 a\n",
      "4 normal\n",
      "5 sinus\n",
      "6 rhythm\n",
      "7 at\n",
      "8 65\n",
      "9 ,\n",
      "10 normal\n",
      "11 axis\n",
      "12 ,\n",
      "13 2-mm\n",
      "14 ST\n",
      "15 elevations\n",
      "16 in\n",
      "17 lead\n",
      "18 III\n",
      "19 ,\n",
      "20 1-mm\n",
      "21 ST\n",
      "22 elevations\n",
      "23 in\n",
      "24 aVF\n",
      "25 and\n",
      "26 V1\n",
      "27 ,\n",
      "28 1-mm\n",
      "29 ST\n",
      "30 depressions\n",
      "31 in\n",
      "32 I\n",
      "33 and\n",
      "34 aVL\n",
      "35 ;\n",
      "36 consistent\n",
      "37 with\n",
      "38 an\n",
      "39 inferior\n",
      "40 and\n",
      "41 right\n",
      "42 ventricular\n",
      "43 infarction\n",
      "44 .\n"
     ]
    }
   ],
   "source": [
    "from spacy.tokenizer import Tokenizer\n",
    "\n",
    "nlp.tokenizer = Tokenizer(nlp.vocab, token_match=re.compile(r'\\S+').match)\n",
    "\n",
    "G1 = pd.DataFrame(columns = ['Sentence #', 'Word', 'POS', 'Tag'])\n",
    "# iterate through each row and select \n",
    "for row in sampled.itertuples(index = True, name = 'Pandas'):\n",
    "    #print(\"row index: \",row.index)\n",
    "    row_index = getattr(row, 'Index')\n",
    "    \n",
    "    text = row.sentence\n",
    "    chunk1 = row.chunk1\n",
    "    begin1 = row.begin1\n",
    "    end1 = row.end1\n",
    "    label1 = row.label1\n",
    "    chunk2 = row.chunk2\n",
    "    begin2 = row.begin2\n",
    "    end2 = row.end2\n",
    "    label2 = row.label2\n",
    "    \n",
    "    rel = row.rel\n",
    "    \n",
    "    doc = nlp(text)\n",
    "    doc_len = len(doc) - 1\n",
    "    \n",
    "    tag = 'O'\n",
    "    inside_tag1 = False\n",
    "    inside_tag2 = False\n",
    "\n",
    "    for token in doc:        \n",
    "        \n",
    "        print(token.i, token.text)\n",
    "        if row.rel == 'O':\n",
    "            tag = 'O'\n",
    "        else:        \n",
    "            if token.i == begin1:\n",
    "                tag = 'B' + '-' + label1\n",
    "                inside_tag1 = True\n",
    "            elif token.i == begin2:\n",
    "                tag = 'B' + '-' + label2\n",
    "                inside_tag2 = True\n",
    "            else:\n",
    "                if inside_tag1:\n",
    "                    if token.i < end1:\n",
    "                        tag = 'I' + '-' + label1\n",
    "                    elif token.i == end1:\n",
    "                        tag = 'I' + '-' + label1\n",
    "                        inside_tag1 = False\n",
    "                    else:\n",
    "                        tag = 'O'\n",
    "                elif inside_tag2:\n",
    "                    if token.i < end2:\n",
    "                        tag = 'I' + '-' + label2\n",
    "                    elif token.i == end2:\n",
    "                        tag = 'I' + '-' + label2\n",
    "                        inside_tag2 = False\n",
    "                    else:\n",
    "                        tag = 'O'\n",
    "                else:\n",
    "                    tag = 'O'\n",
    "        \n",
    "        #\tSentence #\tWord\tPOS\tTag\n",
    "        \n",
    "        train_data = {'Sentence #':row_index,'Word':token.text, 'POS':token.pos_, 'Tag':tag}\n",
    "        G1 = G1.append(train_data,ignore_index=True)"
   ]
  },
  {
   "cell_type": "code",
   "execution_count": 110,
   "metadata": {},
   "outputs": [],
   "source": [
    "def parse_data(df):\n",
    "    G1 = pd.DataFrame(columns = ['Sentence #', 'Word', 'POS', 'Tag'])\n",
    "    nlp.tokenizer = Tokenizer(nlp.vocab, token_match=re.compile(r'\\S+').match)\n",
    "    # iterate through each row and select \n",
    "    for row in tqdm(df.itertuples(index = True, name = 'Pandas')):\n",
    "        #print(\"row index: \",row.index)\n",
    "        row_index = getattr(row, 'Index')\n",
    "\n",
    "        text = row.sentence\n",
    "        chunk1 = row.chunk1\n",
    "        begin1 = row.begin1\n",
    "        end1 = row.end1\n",
    "        label1 = row.label1\n",
    "        chunk2 = row.chunk2\n",
    "        begin2 = row.begin2\n",
    "        end2 = row.end2\n",
    "        label2 = row.label2\n",
    "\n",
    "        rel = row.rel\n",
    "\n",
    "        doc = nlp(text)\n",
    "        doc_len = len(doc) - 1\n",
    "\n",
    "        tag = 'O'\n",
    "        inside_tag1 = False\n",
    "        inside_tag2 = False\n",
    "\n",
    "        for token in doc:        \n",
    "\n",
    "            #print(token.i, token.text)\n",
    "            if row.rel == 'O':\n",
    "                tag = 'O'\n",
    "            else:        \n",
    "                if token.i == begin1:\n",
    "                    tag = 'B' + '-' + label1\n",
    "                    inside_tag1 = True\n",
    "                elif token.i == begin2:\n",
    "                    tag = 'B' + '-' + label2\n",
    "                    inside_tag2 = True\n",
    "                else:\n",
    "                    if inside_tag1:\n",
    "                        if token.i < end1:\n",
    "                            tag = 'I' + '-' + label1\n",
    "                        elif token.i == end1:\n",
    "                            tag = 'I' + '-' + label1\n",
    "                            inside_tag1 = False\n",
    "                        else:\n",
    "                            tag = 'O'\n",
    "                    elif inside_tag2:\n",
    "                        if token.i < end2:\n",
    "                            tag = 'I' + '-' + label2\n",
    "                        elif token.i == end2:\n",
    "                            tag = 'I' + '-' + label2\n",
    "                            inside_tag2 = False\n",
    "                        else:\n",
    "                            tag = 'O'\n",
    "                    else:\n",
    "                        tag = 'O'\n",
    "\n",
    "            #\tSentence #\tWord\tPOS\tTag\n",
    "\n",
    "            train_data = {'Sentence #':row_index,'Word':token.text, 'POS':token.pos_, 'Tag':tag}\n",
    "            G1 = G1.append(train_data,ignore_index=True)\n",
    "    return G1"
   ]
  },
  {
   "cell_type": "code",
   "execution_count": 112,
   "metadata": {},
   "outputs": [
    {
     "name": "stderr",
     "output_type": "stream",
     "text": [
      "1it [00:00,  8.15it/s]\n"
     ]
    }
   ],
   "source": [
    "df = parse_data(train_raw.loc[4:4])"
   ]
  },
  {
   "cell_type": "code",
   "execution_count": 116,
   "metadata": {},
   "outputs": [
    {
     "name": "stderr",
     "output_type": "stream",
     "text": [
      "650it [00:40, 15.87it/s]\n"
     ]
    },
    {
     "data": {
      "text/plain": [
       "(16378, 4)"
      ]
     },
     "execution_count": 116,
     "metadata": {},
     "output_type": "execute_result"
    }
   ],
   "source": [
    "train_df = parse_data(train_raw)\n",
    "train_df.shape"
   ]
  },
  {
   "cell_type": "code",
   "execution_count": 115,
   "metadata": {},
   "outputs": [
    {
     "name": "stderr",
     "output_type": "stream",
     "text": [
      "350it [00:21, 16.63it/s]\n"
     ]
    },
    {
     "data": {
      "text/plain": [
       "(8503, 4)"
      ]
     },
     "execution_count": 115,
     "metadata": {},
     "output_type": "execute_result"
    }
   ],
   "source": [
    "test_df = parse_data(test_raw)\n",
    "test_df.shape"
   ]
  },
  {
   "cell_type": "code",
   "execution_count": 117,
   "metadata": {},
   "outputs": [],
   "source": [
    "train_df.to_csv(\"rpt_words_clean_train_02Aug2021.csv\")\n",
    "test_df.to_csv(\"rpt_words_clean_test_02Aug2021.csv\")"
   ]
  },
  {
   "cell_type": "markdown",
   "metadata": {},
   "source": [
    "## Get features from sentences\n",
    "### \n",
    "### "
   ]
  },
  {
   "cell_type": "code",
   "execution_count": 118,
   "metadata": {},
   "outputs": [],
   "source": [
    "reports = pd.read_csv(\"GoldStdData/i2b2_clinical_rel_dataset.csv\")"
   ]
  },
  {
   "cell_type": "code",
   "execution_count": 120,
   "metadata": {},
   "outputs": [
    {
     "data": {
      "text/plain": [
       "Index(['dataset', 'source', 'txt_file', 'sentence', 'sent_id', 'chunk1',\n",
       "       'begin1', 'end1', 'rel', 'chunk2', 'begin2', 'end2', 'label1', 'label2',\n",
       "       'lastCharEnt1', 'firstCharEnt1', 'lastCharEnt2', 'firstCharEnt2',\n",
       "       'words_in_ent1', 'words_in_ent2', 'words_between'],\n",
       "      dtype='object')"
      ]
     },
     "execution_count": 120,
     "metadata": {},
     "output_type": "execute_result"
    }
   ],
   "source": [
    "reports.columns"
   ]
  },
  {
   "cell_type": "code",
   "execution_count": 122,
   "metadata": {},
   "outputs": [
    {
     "data": {
      "text/plain": [
       "0      VITAL SIGNS - Temp 98.8 , pulse 60 , BP 150/94...\n",
       "1          No lotions , creams or powders to incisions .\n",
       "2      Because of expected long term antibiotic admin...\n",
       "3      She states this light-headedness is often asso...\n",
       "4      Initial electrocardiogram showed a normal sinu...\n",
       "                             ...                        \n",
       "995    2013-09-25 02:54 AM BLOOD Type - ART pO2 - 64 ...\n",
       "996    Neuro : no asterixis , CN II-XII intact , 5/5 ...\n",
       "997    Blood pressure 156/67 , pulse 80 and respirato...\n",
       "998    White blood cell count is 7.65 , hematocrit of...\n",
       "999        No lotions , creams or powders to incisions .\n",
       "Name: sentence, Length: 1000, dtype: object"
      ]
     },
     "execution_count": 122,
     "metadata": {},
     "output_type": "execute_result"
    }
   ],
   "source": [
    "rpt_sentences = reports['sentence']\n",
    "rpt_sentences"
   ]
  },
  {
   "cell_type": "code",
   "execution_count": 123,
   "metadata": {},
   "outputs": [],
   "source": [
    "import mysql.connector as mysqlCon\n",
    "import mysql.connector\n",
    "\n",
    "import pickle as pkl\n",
    "\n",
    "\n",
    "def get_connection():\n",
    "    conn = connect_umls('aasha', '24H=1day', 'localhost', 'umls')\n",
    "    return conn\n",
    "\n",
    "\n",
    "def connect_umls(uname, password, host, database):\n",
    "    connection = mysqlCon.connect(user=uname, password=password,\n",
    "                                  host=host, database=database)\n",
    "    return connection\n",
    "\n",
    "\n",
    "def close_connection(connection):\n",
    "    connection.close()\n",
    "\n",
    "\n",
    "def get_entity(string):\n",
    "    \"\"\" get definitions/descriptions for the given string \"\"\"\n",
    "    try:\n",
    "        # Get descritpions\n",
    "        sql_select_Query = \"select * from mrconso where STR like '\" + string + \"';\"\n",
    "        conn = get_connection()\n",
    "        cursor = conn.cursor()\n",
    "        cursor.execute(sql_select_Query)\n",
    "        # get all records\n",
    "        return cursor.fetchone()\n",
    "    except mysql.connector.Error as e:\n",
    "        print(e.msg)\n",
    "        return \"\"\n",
    "    finally:\n",
    "        close_connection(conn)\n",
    "\n",
    "\n",
    "def symantic_type_lookup(string):\n",
    "    \"\"\" get definitions/descriptions for the given string \"\"\"\n",
    "    \"\"\" Get Semantic Typ for a given string \"\"\"\n",
    "    try:\n",
    "        # Get descritpions\n",
    "        # sql_select_Query = \"select * from mrconso where STR like '\" + string + \"';\"\n",
    "        conn = get_connection()\n",
    "        cursor = conn.cursor()\n",
    "        cursor.execute(\"SELECT sty FROM MRCONSO a, MRSTY b WHERE a.cui = b.cui AND str = %s; \", (string,))\n",
    "        # get all records\n",
    "        next_user = cursor.fetchone()\n",
    "        if next_user is not None:\n",
    "            user_blah = next_user[0]\n",
    "        else:\n",
    "            user_blah = ''\n",
    "        return user_blah\n",
    "    except mysql.connector.Error as e:\n",
    "        print(e.msg)\n",
    "        return \"\"\n",
    "    finally:\n",
    "        close_connection(conn)\n",
    "\n",
    "\n",
    "def is_symantic_type_found(string):\n",
    "    \"\"\" find whether any semantic type available for the given string \"\"\"\n",
    "    \"\"\" return True if semantic type is available otherwise return False \"\"\"\n",
    "    try:\n",
    "        sem_type_list = symantic_type_lookup(string)\n",
    "        if not sem_type_list:\n",
    "            return False\n",
    "        else:\n",
    "            return True\n",
    "    except Exception as e:\n",
    "        print(e)\n",
    "        return False\n",
    "\n",
    "\n",
    "def cui_lookup(string):\n",
    "    \"\"\" get definitions/descriptions for the given string \"\"\"\n",
    "    \"\"\" Get Semantic Typ for a given string \"\"\"\n",
    "    try:\n",
    "        # Get descritpions\n",
    "        # sql_select_Query = \"select * from mrconso where STR like '\" + string + \"';\"\n",
    "        conn = get_connection()\n",
    "        cursor = conn.cursor()\n",
    "        cursor.execute(\"SELECT cui FROM MRCONSO WHERE str = %s;\", (string,))\n",
    "        #row = cursor.fetchone()\n",
    "        next_user = cursor.fetchone()\n",
    "        if next_user is not None:\n",
    "            user_blah = next_user[0]\n",
    "        else:\n",
    "            user_blah = ''\n",
    "        return user_blah\n",
    "    except mysql.connector.Error as e:\n",
    "        print(e.msg)\n",
    "        return \"\"\n",
    "    finally:\n",
    "        close_connection(conn)\n",
    "\n",
    "\n",
    "def is_cui_found(string):\n",
    "    \"\"\" find whether any semantic type available for the given string \"\"\"\n",
    "    \"\"\" return True if semantic type is available otherwise return False \"\"\"\n",
    "    try:\n",
    "        sem_type_list = cui_lookup(string)\n",
    "        if not sem_type_list:\n",
    "            return False\n",
    "        else:\n",
    "            return True\n",
    "    except Exception as e:\n",
    "        print(e)\n",
    "        return False\n"
   ]
  },
  {
   "cell_type": "code",
   "execution_count": 127,
   "metadata": {},
   "outputs": [],
   "source": [
    "def get_parent_token(doc, token_text):\n",
    "    for chunk in doc.noun_chunks:\n",
    "        if str(chunk).find(token_text) != -1:\n",
    "            return chunk.root.head\n",
    "        \n",
    "\n",
    "def get_features_sentence(sentence, i):\n",
    "    #G1 = pd.DataFrame(columns = ['word', 'prev_word', 'next_word', 'word_length', 'prev_2_words', 'next_2_words',\n",
    "    #                            'word_POS_tag','prev_POS_tag', 'next_POS_tag', 'lemmatized', 'parent',\n",
    "    #                             'bigram', 'trigram', 'reverse_bigram'])\n",
    "    \n",
    "    features = []\n",
    "    \n",
    "    doc = nlp(sentence)\n",
    "    doc_len = len(doc) - 1\n",
    "    \n",
    "    for token in doc:\n",
    "        current_word = token.text.lower()\n",
    "        \n",
    "        word_length = len(current_word)\n",
    "        BOS = False\n",
    "        EOS = False\n",
    "        \n",
    "        if(word_length == 0):\n",
    "            continue;\n",
    "        \n",
    "        token_index = token.i\n",
    "        \n",
    "        if(token_index == 0):\n",
    "            BOS = True\n",
    "            \n",
    "        if(token_index == doc_len):\n",
    "            EOS = True\n",
    "        \n",
    "        if(token_index == 0):\n",
    "            prev_word = \"*\"\n",
    "        else:\n",
    "            prev_token = doc[token_index - 1]\n",
    "            prev_word = prev_token.text\n",
    "        \n",
    "        \n",
    "        if(token_index < doc_len):\n",
    "            next_token = doc[token_index + 1]\n",
    "            next_word = next_token.text\n",
    "        else:\n",
    "            next_word = \"*\"\n",
    "        \n",
    "        if(token_index > 1):\n",
    "            prev_2_words = doc[token_index - 2].text + ' ' + doc[token_index - 1].text\n",
    "        elif (token_index == 1):\n",
    "            prev_2_words = doc[token_index - 1].text \n",
    "        else:\n",
    "            prev_2_words = \"*\"\n",
    "        \n",
    "        if(token_index < (doc_len - 2)):\n",
    "            next_2_words = doc[token_index + 1].text + ' ' + doc[token_index + 2].text\n",
    "        elif(token_index == (doc_len - 1)):\n",
    "            next_2_words = doc[token_index + 1].text \n",
    "        else:\n",
    "            next_2_words = \"*\"\n",
    "            \n",
    "        word_POS_tag = token.pos_\n",
    "        \n",
    "        if(token_index == 0):\n",
    "            prev_POS_tag = ''\n",
    "        else:\n",
    "            prev_POS_tag = prev_token.pos_\n",
    "            \n",
    "        if(token_index < doc_len):\n",
    "            next_POS_tag = next_token.pos_\n",
    "        else:\n",
    "            next_POS_tag = ''\n",
    "        \n",
    "        lemma = token.lemma_\n",
    "        \n",
    "        parent = get_parent_token(doc, current_word)\n",
    "        if(type(parent) == type(None)):\n",
    "            parent_text = ''\n",
    "        else:\n",
    "            parent_text = parent.text\n",
    "        #Parent node's chunk is not very accurate. So may be excluded when using it in learning CRF\n",
    "        \n",
    "        bigram = current_word + ' ' + next_word\n",
    "        trigram = prev_word + ' ' + current_word + ' ' + next_word\n",
    "        reverse_bigram = prev_word + ' ' + current_word\n",
    "        \n",
    "               \n",
    "        ## UMLS Features to Dict\n",
    "        sty_word = symantic_type_lookup(current_word)\n",
    "        sty_prev_word = symantic_type_lookup(prev_word)\n",
    "        sty_next_word = symantic_type_lookup(next_word)\n",
    "        match_bigram = is_cui_found(bigram)\n",
    "        match_trigram = is_cui_found(trigram)\n",
    "        match_reverse_bigram = is_cui_found(reverse_bigram)\n",
    "        CIU_word = cui_lookup(current_word)\n",
    "        \n",
    "        feat_dict = {'sent':i,'word':current_word, 'prev_word':prev_word, 'next_word':next_word,\n",
    "                     'word_length':word_length, 'prev_2_words':prev_2_words, 'next_2_words':next_2_words,\n",
    "                     'word_POS_tag':word_POS_tag,'prev_POS_tag':prev_POS_tag, 'next_POS_tag':next_POS_tag, \n",
    "                     'lemmatized':lemma, 'parent':parent_text, 'bigram':bigram, 'trigram':trigram,\n",
    "                     'reverse_bigram':reverse_bigram, 'BOS': BOS, 'EOS': EOS,\n",
    "                     'sty_word': sty_word, 'sty_prev_word': sty_prev_word, 'sty_next_word': sty_next_word,\n",
    "                     'match_bigram': match_bigram, 'match_trigram': match_trigram, 'match_reverse_bigram': match_reverse_bigram,\n",
    "                     'CIU_word': CIU_word}\n",
    "        \n",
    "        features.append(feat_dict)\n",
    "    return features\n",
    "\n",
    "def get_features_corpus(report_sentences):\n",
    "    corpus = []\n",
    "    for i, each_sentence in enumerate(tqdm(report_sentences)):\n",
    "        print(each_sentence, ' - ', i)\n",
    "        corpus.append(get_features_sentence(each_sentence, i))\n",
    "    return corpus\n"
   ]
  },
  {
   "cell_type": "code",
   "execution_count": 131,
   "metadata": {},
   "outputs": [],
   "source": [
    "train_sentences = raw.loc[raw['dataset'] == 'test', 'sentence']\n",
    "test_sentences = raw.loc[raw['dataset'] == 'train', 'sentence']"
   ]
  },
  {
   "cell_type": "code",
   "execution_count": 135,
   "metadata": {},
   "outputs": [
    {
     "data": {
      "text/plain": [
       "((650,), (350,))"
      ]
     },
     "execution_count": 135,
     "metadata": {},
     "output_type": "execute_result"
    }
   ],
   "source": [
    "train_sentences.shape, test_sentences.shape"
   ]
  },
  {
   "cell_type": "code",
   "execution_count": 136,
   "metadata": {},
   "outputs": [
    {
     "name": "stderr",
     "output_type": "stream",
     "text": [
      "\r",
      "  0%|                                                                                          | 0/650 [00:00<?, ?it/s]"
     ]
    },
    {
     "name": "stdout",
     "output_type": "stream",
     "text": [
      "VITAL SIGNS - Temp 98.8 , pulse 60 , BP 150/94 , respiratory rate 18 , and saturation 96% on room air .  -  0\n"
     ]
    },
    {
     "name": "stderr",
     "output_type": "stream",
     "text": [
      "\r",
      "  0%|▏                                                                                 | 1/650 [00:05<56:41,  5.24s/it]"
     ]
    },
    {
     "name": "stdout",
     "output_type": "stream",
     "text": [
      "No lotions , creams or powders to incisions .  -  1\n"
     ]
    },
    {
     "name": "stderr",
     "output_type": "stream",
     "text": [
      "\r",
      "  0%|▎                                                                                 | 2/650 [00:07<46:33,  4.31s/it]"
     ]
    },
    {
     "name": "stdout",
     "output_type": "stream",
     "text": [
      "Initial electrocardiogram showed a normal sinus rhythm at 65 , normal axis , 2-mm ST elevations in lead III , 1-mm ST elevations in aVF and V1 , 1-mm ST depressions in I and aVL ; consistent with an inferior and right ventricular infarction .  -  2\n"
     ]
    },
    {
     "name": "stderr",
     "output_type": "stream",
     "text": [
      "\r",
      "  0%|▎                                                                               | 3/650 [00:17<1:05:51,  6.11s/it]"
     ]
    },
    {
     "name": "stdout",
     "output_type": "stream",
     "text": [
      "Abdominal ultrasound on 2/23/00 - This study revealed gallbladder sludge but no cholelithiasis .  -  3\n"
     ]
    },
    {
     "name": "stderr",
     "output_type": "stream",
     "text": [
      "\r",
      "  1%|▌                                                                                 | 4/650 [00:20<55:45,  5.18s/it]"
     ]
    },
    {
     "name": "stdout",
     "output_type": "stream",
     "text": [
      "At that time he was made NPO with IVF , placed on Ampicillin / Levofloxacin / Flagyl and underwent IR placement of a drainage catheter for his abdominopelvic fluid collection .  -  4\n"
     ]
    },
    {
     "name": "stderr",
     "output_type": "stream",
     "text": [
      "\r",
      "  1%|▌                                                                               | 5/650 [00:27<1:01:42,  5.74s/it]"
     ]
    },
    {
     "name": "stdout",
     "output_type": "stream",
     "text": [
      "He was transferred to the floor but a few days later began to show signs of respiratory distress and was transferred back to the CMED CSRU for reintubation for likely aspiration event leading to worsening pneumonia as well as some component of pulm edema .  -  5\n"
     ]
    },
    {
     "name": "stderr",
     "output_type": "stream",
     "text": [
      "\r",
      "  1%|▋                                                                               | 6/650 [00:37<1:15:33,  7.04s/it]"
     ]
    },
    {
     "name": "stdout",
     "output_type": "stream",
     "text": [
      "5) Anemia - previous w/u c/w ACD ( elev ferritin , low transferrin saturation ) .  -  6\n"
     ]
    },
    {
     "name": "stderr",
     "output_type": "stream",
     "text": [
      "\r",
      "  1%|▊                                                                               | 7/650 [00:41<1:04:08,  5.99s/it]"
     ]
    },
    {
     "name": "stdout",
     "output_type": "stream",
     "text": [
      "2014-01-20 05:30 AM BLOOD ALT - 15 AST - 22 LD ( LDH )- 254 * CK ( CPK )- 398 * AlkPhos - 125 * TotBili - 0.5  -  7\n"
     ]
    },
    {
     "name": "stderr",
     "output_type": "stream",
     "text": [
      "\r",
      "  1%|▉                                                                               | 8/650 [00:47<1:05:16,  6.10s/it]"
     ]
    },
    {
     "name": "stdout",
     "output_type": "stream",
     "text": [
      "Abdomen is obese , nontender , decreased bowel sounds .  -  8\n"
     ]
    },
    {
     "name": "stderr",
     "output_type": "stream",
     "text": [
      "\r",
      "  1%|█▏                                                                                | 9/650 [00:49<52:48,  4.94s/it]"
     ]
    },
    {
     "name": "stdout",
     "output_type": "stream",
     "text": [
      "Initial CBC had a white count of 16 , platelet count of 204 , 53 polys and 0 bands .  -  9\n"
     ]
    },
    {
     "name": "stderr",
     "output_type": "stream",
     "text": [
      "\r",
      "  2%|█▏                                                                               | 10/650 [00:54<51:12,  4.80s/it]"
     ]
    },
    {
     "name": "stdout",
     "output_type": "stream",
     "text": [
      "Urinalysis showed specific gravity 1.005 , pH 8.0 , positive proteins , positive red blood cells , negative white cell count , positive glucose .  -  10\n"
     ]
    },
    {
     "name": "stderr",
     "output_type": "stream",
     "text": [
      "\r",
      "  2%|█▎                                                                               | 11/650 [01:00<53:47,  5.05s/it]"
     ]
    },
    {
     "name": "stdout",
     "output_type": "stream",
     "text": [
      "In general , the patient was a thin white male , lying in bed , in no acute distress , with a hoarse voice .  -  11\n"
     ]
    },
    {
     "name": "stderr",
     "output_type": "stream",
     "text": [
      "\r",
      "  2%|█▍                                                                               | 12/650 [01:05<55:29,  5.22s/it]"
     ]
    },
    {
     "name": "stdout",
     "output_type": "stream",
     "text": [
      "CP / burning lasted several hours and was relieved after she received Maalox , lidocaine , and NTG in the ED .  -  12\n"
     ]
    },
    {
     "name": "stderr",
     "output_type": "stream",
     "text": [
      "\r",
      "  2%|█▌                                                                               | 13/650 [01:10<54:42,  5.15s/it]"
     ]
    },
    {
     "name": "stdout",
     "output_type": "stream",
     "text": [
      "A colonoscopy showed anteriordysplasia , no bleeding was seen .  -  13\n"
     ]
    },
    {
     "name": "stderr",
     "output_type": "stream",
     "text": [
      "\r",
      "  2%|█▋                                                                               | 14/650 [01:12<45:26,  4.29s/it]"
     ]
    },
    {
     "name": "stdout",
     "output_type": "stream",
     "text": [
      "During the operation , the patient received 13 units of packed red blood cells , four units of fresh frozen plasma and one unit of platelets with an estimated blood loss of 1500 cc .  -  14\n"
     ]
    },
    {
     "name": "stderr",
     "output_type": "stream",
     "text": [
      "\r",
      "  2%|█▊                                                                               | 15/650 [01:21<58:20,  5.51s/it]"
     ]
    },
    {
     "name": "stdout",
     "output_type": "stream",
     "text": [
      "The sodium was 142 ; potassium 4.5 ; chloride 105 ; bicarbonate 27 ; BUN and creatinine 31 and 1.3 ; glucose 107 ; total protein 7.7 ; albumin 3.2 ; globulin 4.5 ; uric acid 4.2 ; alkaline phosphatase 114 ; serum glutamic oxaloacetic transaminase 46 ; lactic acid dehydrogenase 370 ; white blood count 11,000 with 83 polymorphonuclear leukocytes ; hematocrit 42 ; platelet count 227,000 .  -  15\n"
     ]
    },
    {
     "name": "stderr",
     "output_type": "stream",
     "text": [
      "\r",
      "  2%|█▉                                                                             | 16/650 [01:37<1:30:40,  8.58s/it]"
     ]
    },
    {
     "name": "stdout",
     "output_type": "stream",
     "text": [
      "A CT abd showed 8mm obstructing stone , hydro with stranding consistent with pylonephritis .  -  16\n"
     ]
    },
    {
     "name": "stderr",
     "output_type": "stream",
     "text": [
      "\r",
      "  3%|██                                                                             | 17/650 [01:40<1:13:52,  7.00s/it]"
     ]
    },
    {
     "name": "stdout",
     "output_type": "stream",
     "text": [
      "She was treated briefly with levofloxacin because of the gram-positive cocci in her sputum culture ; however , her symptoms were felt to be consistent with a viral upper respiratory infection , and levofloxacin was continued at the time of discharge .  -  17\n"
     ]
    },
    {
     "name": "stderr",
     "output_type": "stream",
     "text": [
      "\r",
      "  3%|██▏                                                                            | 18/650 [01:49<1:21:38,  7.75s/it]"
     ]
    },
    {
     "name": "stdout",
     "output_type": "stream",
     "text": [
      "Pathology revealed poorly differentiated squamous cell carcinoma of the cervix with spots of vaginal margins and metastatic squamous cell carcinoma in the cardinal ligaments with extensive lymphatic invasion .  -  18\n"
     ]
    },
    {
     "name": "stderr",
     "output_type": "stream",
     "text": [
      "\r",
      "  3%|██▎                                                                            | 19/650 [01:56<1:17:47,  7.40s/it]"
     ]
    },
    {
     "name": "stdout",
     "output_type": "stream",
     "text": [
      "Urine cultures were significant for Klebsiella UTI and sputum cultures were significant for MRSA .  -  19\n"
     ]
    },
    {
     "name": "stderr",
     "output_type": "stream",
     "text": [
      "\r",
      "  3%|██▍                                                                            | 20/650 [01:59<1:05:12,  6.21s/it]"
     ]
    },
    {
     "name": "stdout",
     "output_type": "stream",
     "text": [
      "Given amio bolu , started on gtt and transferred to NVH for further evaluation .   -  20\n"
     ]
    },
    {
     "name": "stderr",
     "output_type": "stream",
     "text": [
      "\r",
      "  3%|██▌                                                                              | 21/650 [02:03<56:12,  5.36s/it]"
     ]
    },
    {
     "name": "stdout",
     "output_type": "stream",
     "text": [
      "The patient did well and her suprapubic tube was clamped starting on postoperative day four .  -  21\n"
     ]
    },
    {
     "name": "stderr",
     "output_type": "stream",
     "text": [
      "\r",
      "  3%|██▋                                                                              | 22/650 [02:06<51:02,  4.88s/it]"
     ]
    },
    {
     "name": "stdout",
     "output_type": "stream",
     "text": [
      "pelvic organ prolapse stress urinary incontinence retroperitoneal bleed hemoperitoneum  -  22\n"
     ]
    },
    {
     "name": "stderr",
     "output_type": "stream",
     "text": [
      "\r",
      "  4%|██▊                                                                              | 23/650 [02:09<42:39,  4.08s/it]"
     ]
    },
    {
     "name": "stdout",
     "output_type": "stream",
     "text": [
      "She was started empirically on Bactrim , while culture and sensitivity results were pending and remained pending at the time of this dictation .  -  23\n"
     ]
    },
    {
     "name": "stderr",
     "output_type": "stream",
     "text": [
      "\r",
      "  4%|██▉                                                                              | 24/650 [02:15<48:19,  4.63s/it]"
     ]
    },
    {
     "name": "stdout",
     "output_type": "stream",
     "text": [
      "A small polyp was found in the fundus which stigmata of old bleeding ; an Endoclip was applied to this .  -  24\n"
     ]
    },
    {
     "name": "stderr",
     "output_type": "stream",
     "text": [
      "\r",
      "  4%|███                                                                              | 25/650 [02:19<48:50,  4.69s/it]"
     ]
    },
    {
     "name": "stdout",
     "output_type": "stream",
     "text": [
      "The patient 's treatment will include typical peripherally inserted central catheter line care with frequent wound checks .  -  25\n"
     ]
    },
    {
     "name": "stderr",
     "output_type": "stream",
     "text": [
      "\r",
      "  4%|███▏                                                                             | 26/650 [02:24<46:54,  4.51s/it]"
     ]
    },
    {
     "name": "stdout",
     "output_type": "stream",
     "text": [
      "The lung sounds were rhonchorous , otherwise clear to auscultation and percussion .  -  26\n"
     ]
    },
    {
     "name": "stderr",
     "output_type": "stream",
     "text": [
      "\r",
      "  4%|███▎                                                                             | 27/650 [02:26<41:36,  4.01s/it]"
     ]
    },
    {
     "name": "stdout",
     "output_type": "stream",
     "text": [
      "Patient was continued on BID PPI , H .  -  27\n"
     ]
    },
    {
     "name": "stderr",
     "output_type": "stream",
     "text": [
      "\r",
      "  4%|███▍                                                                             | 28/650 [02:28<35:25,  3.42s/it]"
     ]
    },
    {
     "name": "stdout",
     "output_type": "stream",
     "text": [
      "Mychelia demonstrated slow gastrointestinal motility and abdominal distention felt to be due to CPAP .  -  28\n"
     ]
    },
    {
     "name": "stderr",
     "output_type": "stream",
     "text": [
      "\r",
      "  4%|███▌                                                                             | 29/650 [02:32<35:09,  3.40s/it]"
     ]
    },
    {
     "name": "stdout",
     "output_type": "stream",
     "text": [
      "The patient underwent cardiac catheterization on 2011-10-17 which revealed a 20% left vein osteal lesion as well as 70% LAD lesion and an 80% right coronary .  -  29\n"
     ]
    },
    {
     "name": "stderr",
     "output_type": "stream",
     "text": [
      "\r",
      "  5%|███▋                                                                             | 30/650 [02:38<43:10,  4.18s/it]"
     ]
    },
    {
     "name": "stdout",
     "output_type": "stream",
     "text": [
      "Intially concern for sepsis in the setting of fevers and high blood count .  -  30\n"
     ]
    },
    {
     "name": "stderr",
     "output_type": "stream",
     "text": [
      "\r",
      "  5%|███▊                                                                             | 31/650 [02:41<39:53,  3.87s/it]"
     ]
    },
    {
     "name": "stdout",
     "output_type": "stream",
     "text": [
      "Type - ART Temp - 37.2 Rates - /12 Tidal V - 560  -  31\n"
     ]
    },
    {
     "name": "stderr",
     "output_type": "stream",
     "text": [
      "\r",
      "  5%|███▉                                                                             | 32/650 [02:44<36:55,  3.58s/it]"
     ]
    },
    {
     "name": "stdout",
     "output_type": "stream",
     "text": [
      "Creatinine elevation appears to be related to both elevated abdominal pressures from ascites as well as to attempts at diuresis .  -  32\n"
     ]
    },
    {
     "name": "stderr",
     "output_type": "stream",
     "text": [
      "\r",
      "  5%|████                                                                             | 33/650 [02:49<40:36,  3.95s/it]"
     ]
    },
    {
     "name": "stdout",
     "output_type": "stream",
     "text": [
      "She continued to remained nauseated so she was treated with phenergan , anzemet , zofran , and ativan .  -  33\n"
     ]
    },
    {
     "name": "stderr",
     "output_type": "stream",
     "text": [
      "\r",
      "  5%|████▏                                                                            | 34/650 [02:53<41:18,  4.02s/it]"
     ]
    },
    {
     "name": "stdout",
     "output_type": "stream",
     "text": [
      "Since she was at high risk for both local and metastatic recurrence of her tumor , she received both systemic chemotherapy and radiation therapy .  -  34\n"
     ]
    },
    {
     "name": "stderr",
     "output_type": "stream",
     "text": [
      "\r",
      "  5%|████▎                                                                            | 35/650 [02:58<45:54,  4.48s/it]"
     ]
    },
    {
     "name": "stdout",
     "output_type": "stream",
     "text": [
      "Cardiology felt that follow-up echo was indicated on 06/18 as she had another echocardiogram which showed no change or evidence of tamponade .  -  35\n"
     ]
    },
    {
     "name": "stderr",
     "output_type": "stream",
     "text": [
      "\r",
      "  6%|████▍                                                                            | 36/650 [03:04<47:58,  4.69s/it]"
     ]
    },
    {
     "name": "stdout",
     "output_type": "stream",
     "text": [
      "3 ) The patient will continue to have her CBC , LDH , bilirubin , chem-7 and magnesium and calcium checked with each dialysis and the results will be faxed to Dr. Ian Zineisfreierm , the hematology attending at fax number 751-329-8840 .  -  36\n"
     ]
    },
    {
     "name": "stderr",
     "output_type": "stream",
     "text": [
      "\r",
      "  6%|████▍                                                                          | 37/650 [03:13<1:03:35,  6.22s/it]"
     ]
    },
    {
     "name": "stdout",
     "output_type": "stream",
     "text": [
      "Her presentation was thought likely due to urosepsis given h/o foul smelling urine and in setting of stone w/ hydro + pyelo by CT. The patient went to IR on 2014-11-30 given evidence of right hydronephrosis on imaging for decompression and drainage. Upon admission , she was treated with Vancomycin and Gentamycin and Flagyl .  -  37\n"
     ]
    },
    {
     "name": "stderr",
     "output_type": "stream",
     "text": [
      "\r",
      "  6%|████▌                                                                          | 38/650 [03:26<1:21:38,  8.00s/it]"
     ]
    },
    {
     "name": "stdout",
     "output_type": "stream",
     "text": [
      "His headache improved , but her remained profoundly weak and intermittently febrile with dyspnea .  -  38\n"
     ]
    },
    {
     "name": "stderr",
     "output_type": "stream",
     "text": [
      "\r",
      "  6%|████▋                                                                          | 39/650 [03:29<1:07:25,  6.62s/it]"
     ]
    },
    {
     "name": "stdout",
     "output_type": "stream",
     "text": [
      "Hearing screen was performed with automated auditory brainstem responses and was normal on 2014-11-24 .  -  39\n"
     ]
    },
    {
     "name": "stderr",
     "output_type": "stream",
     "text": [
      "\r",
      "  6%|████▉                                                                            | 40/650 [03:32<57:21,  5.64s/it]"
     ]
    },
    {
     "name": "stdout",
     "output_type": "stream",
     "text": [
      "BASOS - 0 ATYPS - 0 METAS - 0 MYELOS - 0  -  40\n"
     ]
    },
    {
     "name": "stderr",
     "output_type": "stream",
     "text": [
      "\r",
      "  6%|█████                                                                            | 41/650 [03:35<47:57,  4.72s/it]"
     ]
    },
    {
     "name": "stdout",
     "output_type": "stream",
     "text": [
      "The patient is a 65-year-old man with refractory CLL , status post non-myeloblative stem cell transplant approximately nine months prior to admission , and status post prolonged recent Retelk County Medical Center stay for Acanthamoeba infection of skin and sinuses , complicated by ARS due to medication toxicity , as well as GVHD and recent CMV infection , readmitted for new fever , increasing creatinine , hepatomegaly and fluid surge spacing , in the setting of hyponatremia .  -  41\n"
     ]
    },
    {
     "name": "stderr",
     "output_type": "stream",
     "text": [
      "\r",
      "  6%|█████                                                                          | 42/650 [03:52<1:26:10,  8.50s/it]"
     ]
    },
    {
     "name": "stdout",
     "output_type": "stream",
     "text": [
      "1. An 8 x 7 x 7 mm stone in the proximal right ureter with associated right hydronephrosis and inflammatory perinephric stranding .  -  42\n"
     ]
    },
    {
     "name": "stderr",
     "output_type": "stream",
     "text": [
      "\r",
      "  7%|█████▏                                                                         | 43/650 [03:57<1:15:33,  7.47s/it]"
     ]
    },
    {
     "name": "stdout",
     "output_type": "stream",
     "text": [
      "She did not have any untoward affects or allergic reactions to the procedure .  -  43\n"
     ]
    },
    {
     "name": "stderr",
     "output_type": "stream",
     "text": [
      "\r",
      "  7%|█████▎                                                                         | 44/650 [04:00<1:02:14,  6.16s/it]"
     ]
    },
    {
     "name": "stdout",
     "output_type": "stream",
     "text": [
      "Sodium 139 , potassium 4.7 , chloride 106 , bicarbonate 21.6 , BUN 22 , creatinine 1.6 , glucose 107 , amylase 120 , calcium 8.7 , phosphorus 3.3 , magnesium 1.9 , total protein 7.5 , albumin 3.9 , globulin 3.6 , uric acid 5.6 , alkaline phosphatase 43 , GOT 42 , LDH 549 with hemolyzed sample .  -  44\n"
     ]
    },
    {
     "name": "stderr",
     "output_type": "stream",
     "text": [
      "\r",
      "  7%|█████▍                                                                         | 45/650 [04:14<1:24:53,  8.42s/it]"
     ]
    },
    {
     "name": "stdout",
     "output_type": "stream",
     "text": [
      "Lungs - clear to percussion and auscultation on both sides .  -  45\n"
     ]
    },
    {
     "name": "stderr",
     "output_type": "stream",
     "text": [
      "\r",
      "  7%|█████▌                                                                         | 46/650 [04:16<1:06:44,  6.63s/it]"
     ]
    },
    {
     "name": "stdout",
     "output_type": "stream",
     "text": [
      "57 y/o F with multiple medical problems including polyendocrine deficiency comprised of adrenal insufficiency , DM , premature ovarian failure , hypoparathyroidism , addison 's disease and also breast CA and depression with multiple suicide attempts in the past who originally presented s/p tylenol with codeine overdose and hypotension , was intubated and admitted to the FICU .  -  46\n"
     ]
    },
    {
     "name": "stderr",
     "output_type": "stream",
     "text": [
      "\r",
      "  7%|█████▋                                                                         | 47/650 [04:29<1:25:19,  8.49s/it]"
     ]
    },
    {
     "name": "stdout",
     "output_type": "stream",
     "text": [
      "Sodium 142 , potassium 4.1 , chloride 104 , bicarbonate 30 , BUN 7 , creatinine 0.7 , glucose 41 .  -  47\n"
     ]
    },
    {
     "name": "stderr",
     "output_type": "stream",
     "text": [
      "\r",
      "  7%|█████▊                                                                         | 48/650 [04:34<1:13:58,  7.37s/it]"
     ]
    },
    {
     "name": "stdout",
     "output_type": "stream",
     "text": [
      "The patient did not tolerate antiemetics well and it was subsequently decided to avoid phenothiazides secondary to jitteryness and restless legs .  -  48\n"
     ]
    },
    {
     "name": "stderr",
     "output_type": "stream",
     "text": [
      "\r",
      "  8%|█████▉                                                                         | 49/650 [04:39<1:06:14,  6.61s/it]"
     ]
    },
    {
     "name": "stdout",
     "output_type": "stream",
     "text": [
      "ORIF with repair of neck fracture 2016-03-23 .  -  49\n"
     ]
    },
    {
     "name": "stderr",
     "output_type": "stream",
     "text": [
      "\r",
      "  8%|██████▏                                                                          | 50/650 [04:41<51:38,  5.16s/it]"
     ]
    },
    {
     "name": "stdout",
     "output_type": "stream",
     "text": [
      "A surgicel dressing was placed and prolonged pressure resulted in resolution of the bleeding .  -  50\n"
     ]
    },
    {
     "name": "stderr",
     "output_type": "stream",
     "text": [
      "\r",
      "  8%|██████▎                                                                          | 51/650 [04:44<45:59,  4.61s/it]"
     ]
    },
    {
     "name": "stdout",
     "output_type": "stream",
     "text": [
      "4. Failed swallow study status post percutaneous endoscopic gastrostomy tube placement .  -  51\n"
     ]
    },
    {
     "name": "stderr",
     "output_type": "stream",
     "text": [
      "\r",
      "  8%|██████▍                                                                          | 52/650 [04:47<40:00,  4.01s/it]"
     ]
    },
    {
     "name": "stdout",
     "output_type": "stream",
     "text": [
      "2015-09-22 03:04 PM URINE Color - Straw Appear - Clear Sp Dixon - 1.010  -  52\n"
     ]
    },
    {
     "name": "stderr",
     "output_type": "stream",
     "text": [
      "\r",
      "  8%|██████▌                                                                          | 53/650 [04:50<37:10,  3.74s/it]"
     ]
    },
    {
     "name": "stdout",
     "output_type": "stream",
     "text": [
      "With blood pressure control via a nitroglycerin drip and fluid restriction , the patient quickly improved and a had a relatively short stay in the Intensive Care Unit .  -  53\n"
     ]
    },
    {
     "name": "stderr",
     "output_type": "stream",
     "text": [
      "\r",
      "  8%|██████▋                                                                          | 54/650 [04:56<45:10,  4.55s/it]"
     ]
    },
    {
     "name": "stdout",
     "output_type": "stream",
     "text": [
      "2017-07-13 05:30 AM BLOOD PT - 11.3 PTT - 24.9 INR ( PT )- 1.0  -  54\n"
     ]
    },
    {
     "name": "stderr",
     "output_type": "stream",
     "text": [
      "\r",
      "  8%|██████▊                                                                          | 55/650 [05:00<41:41,  4.20s/it]"
     ]
    },
    {
     "name": "stdout",
     "output_type": "stream",
     "text": [
      "He has gained 30 lb since the tubefeed was initiated ( 70 lb to 100 lb ) during this admission .  -  55\n"
     ]
    },
    {
     "name": "stderr",
     "output_type": "stream",
     "text": [
      "\r",
      "  9%|██████▉                                                                          | 56/650 [05:04<42:54,  4.33s/it]"
     ]
    },
    {
     "name": "stdout",
     "output_type": "stream",
     "text": [
      "The patient is a 79-year-old man status postradical cystoprostatectomy with ileal loop for locally invasive prostate cancer .  -  56\n"
     ]
    },
    {
     "name": "stderr",
     "output_type": "stream",
     "text": [
      "\r",
      "  9%|███████                                                                          | 57/650 [05:09<42:43,  4.32s/it]"
     ]
    },
    {
     "name": "stdout",
     "output_type": "stream",
     "text": [
      "DM , sp L ax-bifem , L fem-CMED , ERCP  '04 , T+A , Appy , CEA , L4-L5 laminectomy .  -  57\n"
     ]
    },
    {
     "name": "stderr",
     "output_type": "stream",
     "text": [
      "\r",
      "  9%|███████▏                                                                         | 58/650 [05:14<44:48,  4.54s/it]"
     ]
    },
    {
     "name": "stdout",
     "output_type": "stream",
     "text": [
      "She also has follow up with Dr. Savage in the Pulmonary Clinic on 12-25 at 12:15 p.m. for management of her pulmonary hypertension .  -  58\n"
     ]
    },
    {
     "name": "stderr",
     "output_type": "stream",
     "text": [
      "\r",
      "  9%|███████▎                                                                         | 59/650 [05:19<47:03,  4.78s/it]"
     ]
    },
    {
     "name": "stdout",
     "output_type": "stream",
     "text": [
      "He also noted a new two to three-pillow orthopnea and paroxysmal nocturnal dyspnea .  -  59\n"
     ]
    },
    {
     "name": "stderr",
     "output_type": "stream",
     "text": [
      "\r",
      "  9%|███████▍                                                                         | 60/650 [05:22<42:15,  4.30s/it]"
     ]
    },
    {
     "name": "stdout",
     "output_type": "stream",
     "text": [
      "This ecchymosis is much improved from previous examinations .  -  60\n"
     ]
    },
    {
     "name": "stderr",
     "output_type": "stream",
     "text": [
      "\r",
      "  9%|███████▌                                                                         | 61/650 [05:24<35:19,  3.60s/it]"
     ]
    },
    {
     "name": "stdout",
     "output_type": "stream",
     "text": [
      "Medications at the time of admission include Dapsone 50 mg p.o. on Monday , Wednesday and Friday , Ceftazidime 1 gram IV q. 8 hours , Cipro 750 mg p.o. b.i.d. , Acyclovir 400 mg p.o. q. day , Megastrol 80 mg p.o. t.i.d. and G-CSF 150 micrograms subcu b.i.d.  -  61\n"
     ]
    },
    {
     "name": "stderr",
     "output_type": "stream",
     "text": [
      "\r",
      " 10%|███████▋                                                                         | 62/650 [05:36<58:38,  5.98s/it]"
     ]
    },
    {
     "name": "stdout",
     "output_type": "stream",
     "text": [
      "The patient however complained of a persistent wheeze with beta blocker , therefore it was agreed that we would stop the beta blocker until the patient was followed up as an outpatient .  -  62\n"
     ]
    },
    {
     "name": "stderr",
     "output_type": "stream",
     "text": [
      "\r",
      " 10%|███████▋                                                                       | 63/650 [05:44<1:04:39,  6.61s/it]"
     ]
    },
    {
     "name": "stdout",
     "output_type": "stream",
     "text": [
      "The ultrasound showed biliary sludge and swelling of the body and tail of the pancreas .  -  63\n"
     ]
    },
    {
     "name": "stderr",
     "output_type": "stream",
     "text": [
      "\r",
      " 10%|███████▉                                                                         | 64/650 [05:48<56:48,  5.82s/it]"
     ]
    },
    {
     "name": "stdout",
     "output_type": "stream",
     "text": [
      "2. Acetaminophen - Caff - Butalbital 504-61-78 mg Capsule Sig : 01-28 Tablets PO Q4-6H ( every 4 to 6 hours ) as needed for 1 months .  -  64\n"
     ]
    },
    {
     "name": "stderr",
     "output_type": "stream",
     "text": [
      "\r",
      " 10%|████████                                                                         | 65/650 [05:54<58:42,  6.02s/it]"
     ]
    },
    {
     "name": "stdout",
     "output_type": "stream",
     "text": [
      "Leona Wheeler had continued episodes of atrial fibrillation which were treated with intravenous Amiodarone and later intravenous Diltiazem .  -  65\n"
     ]
    },
    {
     "name": "stderr",
     "output_type": "stream",
     "text": [
      "\r",
      " 10%|████████▏                                                                        | 66/650 [05:59<54:40,  5.62s/it]"
     ]
    },
    {
     "name": "stdout",
     "output_type": "stream",
     "text": [
      "The complications that I have listed include the hyponatremia , pulmonary embolus and also the elevatd blood pressure .  -  66\n"
     ]
    },
    {
     "name": "stderr",
     "output_type": "stream",
     "text": [
      "\r",
      " 10%|████████▎                                                                        | 67/650 [06:03<50:56,  5.24s/it]"
     ]
    },
    {
     "name": "stdout",
     "output_type": "stream",
     "text": [
      "ALT 141 , AST 40 , alk phos 108 , and a total bili of 1.0. Total protein was 5.7 , albumin 2.5 and globulin 3.2 .  -  67\n"
     ]
    },
    {
     "name": "stderr",
     "output_type": "stream",
     "text": [
      "\r",
      " 10%|████████▍                                                                        | 68/650 [06:09<53:48,  5.55s/it]"
     ]
    },
    {
     "name": "stdout",
     "output_type": "stream",
     "text": [
      "She was given betamethasone times one and transferred to the Nantucket Cottage Hospital where she was delivered by cesarean section with rupture of membranes at time of delivery notable for slight meconium stained amniotic fluid .  -  68\n"
     ]
    },
    {
     "name": "stderr",
     "output_type": "stream",
     "text": [
      "\r",
      " 11%|████████▍                                                                      | 69/650 [06:18<1:01:07,  6.31s/it]"
     ]
    },
    {
     "name": "stdout",
     "output_type": "stream",
     "text": [
      "He characterized this headache as the worst headache of his life and had associated nausea and vomiting times one .  -  69\n"
     ]
    },
    {
     "name": "stderr",
     "output_type": "stream",
     "text": [
      "\r",
      " 11%|████████▋                                                                        | 70/650 [06:22<55:52,  5.78s/it]"
     ]
    },
    {
     "name": "stdout",
     "output_type": "stream",
     "text": [
      "She has not used any anti retroviral therapy since then , because of pancytopenia and vomiting on DDI .  -  70\n"
     ]
    },
    {
     "name": "stderr",
     "output_type": "stream",
     "text": [
      "\r",
      " 11%|████████▊                                                                        | 71/650 [06:26<51:24,  5.33s/it]"
     ]
    },
    {
     "name": "stdout",
     "output_type": "stream",
     "text": [
      "1. Successful removal of CBD stone and placement of plastic biliary stent for confirmed cystic duct leak .  -  71\n"
     ]
    },
    {
     "name": "stderr",
     "output_type": "stream",
     "text": [
      "\r",
      " 11%|████████▉                                                                        | 72/650 [06:30<47:33,  4.94s/it]"
     ]
    },
    {
     "name": "stdout",
     "output_type": "stream",
     "text": [
      "He has had persistent pain over the years which has worsened in the past several months including inability to sleep .  -  72\n"
     ]
    },
    {
     "name": "stderr",
     "output_type": "stream",
     "text": [
      "\r",
      " 11%|█████████                                                                        | 73/650 [06:35<46:47,  4.87s/it]"
     ]
    },
    {
     "name": "stdout",
     "output_type": "stream",
     "text": [
      "This showed tracheal compressions but no other lesions that were obvious at the time .  -  73\n"
     ]
    },
    {
     "name": "stderr",
     "output_type": "stream",
     "text": [
      "\r",
      " 11%|█████████▏                                                                       | 74/650 [06:38<42:22,  4.41s/it]"
     ]
    },
    {
     "name": "stdout",
     "output_type": "stream",
     "text": [
      "Throughout her course on the Intensive Care Unit service , she has remained unresponsive with imaging studies consistent with a large left middle cerebral artery and posterior cerebral artery distribution cerebral infarction with mass effect and midline shift .  -  74\n"
     ]
    },
    {
     "name": "stderr",
     "output_type": "stream",
     "text": [
      "\r",
      " 12%|█████████▎                                                                       | 75/650 [06:47<54:45,  5.71s/it]"
     ]
    },
    {
     "name": "stdout",
     "output_type": "stream",
     "text": [
      "Conditions , Infections , Complications , affecting Treatment / Stay Allergies - PCN - rash - Bactrim - hives - Erythro - nausea - Ceclor - nausea - Clarythro = rash  -  75\n"
     ]
    },
    {
     "name": "stderr",
     "output_type": "stream",
     "text": [
      "\r",
      " 12%|█████████▍                                                                       | 76/650 [06:54<58:30,  6.12s/it]"
     ]
    },
    {
     "name": "stdout",
     "output_type": "stream",
     "text": [
      "Despite bleeding from the Hickman site , she did not require any transfusion therapy .  -  76\n"
     ]
    },
    {
     "name": "stderr",
     "output_type": "stream",
     "text": [
      "\r",
      " 12%|█████████▌                                                                       | 77/650 [06:58<50:33,  5.29s/it]"
     ]
    },
    {
     "name": "stdout",
     "output_type": "stream",
     "text": [
      "However , the study was limited due to inadequate po contrast intake by the patient ; it did show a question of a cecal cystic lesion verse normal loop of bowel .  -  77\n"
     ]
    },
    {
     "name": "stderr",
     "output_type": "stream",
     "text": [
      "\r",
      " 12%|█████████▋                                                                       | 78/650 [07:05<55:52,  5.86s/it]"
     ]
    },
    {
     "name": "stdout",
     "output_type": "stream",
     "text": [
      "She had a cardiac catheterization which revealed 3-vessel disease with normal left main , mid left anterior descending artery 60% , diffuse 90% mid distal stenosis at the origin of the diagonal , serial 70% and 90% left circumflex lesions , and 90% first obtuse marginal , and mid right coronary artery 60% .  -  78\n"
     ]
    },
    {
     "name": "stderr",
     "output_type": "stream",
     "text": [
      "\r",
      " 12%|█████████▌                                                                     | 79/650 [07:17<1:13:26,  7.72s/it]"
     ]
    },
    {
     "name": "stdout",
     "output_type": "stream",
     "text": [
      "The patient was advanced to a full regular diet , which he tolerated without complication , and had adequate pain control provided via oral pain medications .  -  79\n"
     ]
    },
    {
     "name": "stderr",
     "output_type": "stream",
     "text": [
      "\r",
      " 12%|█████████▋                                                                     | 80/650 [07:23<1:08:28,  7.21s/it]"
     ]
    },
    {
     "name": "stdout",
     "output_type": "stream",
     "text": [
      "Baby was delivered by repeat C-section with rupture of membranes at delivery .  -  80\n"
     ]
    },
    {
     "name": "stderr",
     "output_type": "stream",
     "text": [
      "\r",
      " 12%|██████████                                                                       | 81/650 [07:26<56:00,  5.91s/it]"
     ]
    },
    {
     "name": "stdout",
     "output_type": "stream",
     "text": [
      "On the left nasolabial , there was a boil with pus and surrounding erythema and tenderness .  -  81\n"
     ]
    },
    {
     "name": "stderr",
     "output_type": "stream",
     "text": [
      "\r",
      " 13%|██████████▏                                                                      | 82/650 [07:30<49:59,  5.28s/it]"
     ]
    },
    {
     "name": "stdout",
     "output_type": "stream",
     "text": [
      "Of note the pelvic lymph nodes which were dissected were positive for tumor by frozen section analysis .  -  82\n"
     ]
    },
    {
     "name": "stderr",
     "output_type": "stream",
     "text": [
      "\r",
      " 13%|██████████▎                                                                      | 83/650 [07:34<46:17,  4.90s/it]"
     ]
    },
    {
     "name": "stdout",
     "output_type": "stream",
     "text": [
      "Laboratory data revealed a sodium of 139 , potassium 3.4 , chloride 101 , bicarbonate 28 , BUN 11 , creatinine 1.2 , glucose 151 .  -  83\n"
     ]
    },
    {
     "name": "stderr",
     "output_type": "stream",
     "text": [
      "\r",
      " 13%|██████████▍                                                                      | 84/650 [07:39<49:02,  5.20s/it]"
     ]
    },
    {
     "name": "stdout",
     "output_type": "stream",
     "text": [
      "She denied HI , SI , and illusions / hallucinations .  -  84\n"
     ]
    },
    {
     "name": "stderr",
     "output_type": "stream",
     "text": [
      "\r",
      " 13%|██████████▌                                                                      | 85/650 [07:42<41:20,  4.39s/it]"
     ]
    },
    {
     "name": "stdout",
     "output_type": "stream",
     "text": [
      "A single blood culture positive for coagulase negative Staphylococcus was treated with a course of vancomycin in the setting of a PICC line and a chest x-ray on November 20 indicating possible developing pneumonia , resulted in a course of levofloxacin , for both possible pneumonia , as well as treatment of any bacterial superinfection of Acanthamoeba sinusitis .  -  85\n"
     ]
    },
    {
     "name": "stderr",
     "output_type": "stream",
     "text": [
      "\r",
      " 13%|██████████▍                                                                    | 86/650 [07:55<1:06:32,  7.08s/it]"
     ]
    },
    {
     "name": "stdout",
     "output_type": "stream",
     "text": [
      "A single blood culture positive for coagulase negative Staphylococcus was treated with a course of vancomycin in the setting of a PICC line and a chest x-ray on November 20 indicating possible developing pneumonia , resulted in a course of levofloxacin , for both possible pneumonia , as well as treatment of any bacterial superinfection of Acanthamoeba sinusitis .  -  86\n"
     ]
    },
    {
     "name": "stderr",
     "output_type": "stream",
     "text": [
      "\r",
      " 13%|██████████▌                                                                    | 87/650 [08:09<1:24:26,  9.00s/it]"
     ]
    },
    {
     "name": "stdout",
     "output_type": "stream",
     "text": [
      "Most recently , he was on a 28 day course of Vancomycin , ofloxacin , and Flagyl , for blood cultures that were positive for gram positive cocci and enteric and non-enteric gram negative rods .  -  87\n"
     ]
    },
    {
     "name": "stderr",
     "output_type": "stream",
     "text": [
      "\r",
      " 14%|██████████▋                                                                    | 88/650 [08:17<1:21:41,  8.72s/it]"
     ]
    },
    {
     "name": "stdout",
     "output_type": "stream",
     "text": [
      "Prior to catheterization a VQ scan was performed which revealed a moderate probability for PE with a subsegmental defect in the lingular on the left lung .  -  88\n"
     ]
    },
    {
     "name": "stderr",
     "output_type": "stream",
     "text": [
      "\r",
      " 14%|██████████▊                                                                    | 89/650 [08:23<1:13:54,  7.90s/it]"
     ]
    },
    {
     "name": "stdout",
     "output_type": "stream",
     "text": [
      "Soft , nontender , nondistended , without masses or organomegaly .  -  89\n"
     ]
    },
    {
     "name": "stderr",
     "output_type": "stream",
     "text": [
      "\r",
      " 14%|███████████▏                                                                     | 90/650 [08:25<58:20,  6.25s/it]"
     ]
    },
    {
     "name": "stdout",
     "output_type": "stream",
     "text": [
      "Please call transplant office ( 789 ) 583 5023 if fevers , chills , nausea / vomiting , bleeding , decreased urine output , weight gain of 3 pounds in a day , abdominal pain or shortness of breath  -  90\n"
     ]
    },
    {
     "name": "stderr",
     "output_type": "stream",
     "text": [
      "\r",
      " 14%|███████████                                                                    | 91/650 [08:34<1:05:43,  7.05s/it]"
     ]
    },
    {
     "name": "stdout",
     "output_type": "stream",
     "text": [
      "Bronchoscopy and mediastinoscopy revealed an unresectable mediastinal tumor with the left tracheobronchial angle node positive for cancer , and the right paratracheal node positive for anthracosis .  -  91\n"
     ]
    },
    {
     "name": "stderr",
     "output_type": "stream",
     "text": [
      "\r",
      " 14%|███████████▏                                                                   | 92/650 [08:40<1:02:48,  6.75s/it]"
     ]
    },
    {
     "name": "stdout",
     "output_type": "stream",
     "text": [
      "Digoxin , .25 mg PO QD ; Ecotrin , 325 mg QD ; Coumadin , 2.5 mg PO QD ; Lisinopril , 2.5 mg PO QD ; Micronase , 5 mg PO BID .  -  92\n"
     ]
    },
    {
     "name": "stderr",
     "output_type": "stream",
     "text": [
      "\r",
      " 14%|███████████▎                                                                   | 93/650 [08:48<1:04:49,  6.98s/it]"
     ]
    },
    {
     "name": "stdout",
     "output_type": "stream",
     "text": [
      "The left sided slowing and voltage reduction surpassed an additional dysfunction on the left side , possibly wide-spread cortical dysfunction .  -  93\n"
     ]
    },
    {
     "name": "stderr",
     "output_type": "stream",
     "text": [
      "\r",
      " 14%|███████████▋                                                                     | 94/650 [08:52<58:10,  6.28s/it]"
     ]
    },
    {
     "name": "stdout",
     "output_type": "stream",
     "text": [
      "5) Anemia - previous w/u c/w ACD ( elev ferritin , low transferrin saturation ) .  -  94\n"
     ]
    },
    {
     "name": "stderr",
     "output_type": "stream",
     "text": [
      "\r",
      " 15%|███████████▊                                                                     | 95/650 [08:56<50:43,  5.48s/it]"
     ]
    },
    {
     "name": "stdout",
     "output_type": "stream",
     "text": [
      "EKG showed normal sinus rhythm at 90 with normal intervals and ST wave inversions and early R wave progression .  -  95\n"
     ]
    },
    {
     "name": "stderr",
     "output_type": "stream",
     "text": [
      "\r",
      " 15%|███████████▉                                                                     | 96/650 [09:00<47:46,  5.18s/it]"
     ]
    },
    {
     "name": "stdout",
     "output_type": "stream",
     "text": [
      "MRI was performed and showed new lesions vs sz effects in the left temporal lobe .  -  96\n"
     ]
    },
    {
     "name": "stderr",
     "output_type": "stream",
     "text": [
      "\r",
      " 15%|████████████                                                                     | 97/650 [09:04<43:14,  4.69s/it]"
     ]
    },
    {
     "name": "stdout",
     "output_type": "stream",
     "text": [
      "She subsequently could not urinate and was in pain secondary to her problem .  -  97\n"
     ]
    },
    {
     "name": "stderr",
     "output_type": "stream",
     "text": [
      "\r",
      " 15%|████████████▏                                                                    | 98/650 [09:07<38:55,  4.23s/it]"
     ]
    },
    {
     "name": "stdout",
     "output_type": "stream",
     "text": [
      "Baby Julian Stead had been stable with improvement of the subgaleal bleed and good peak and trough factor 8 levels after the bolus infusion .  -  98\n"
     ]
    },
    {
     "name": "stderr",
     "output_type": "stream",
     "text": [
      "\r",
      " 15%|████████████▎                                                                    | 99/650 [09:13<42:43,  4.65s/it]"
     ]
    },
    {
     "name": "stdout",
     "output_type": "stream",
     "text": [
      "The patient was made comfortable with morphine for pain and for air hunger , and sinus suctioning was continued to relieve congestion , in conjunction with continuation of nasal sprays .  -  99\n"
     ]
    },
    {
     "name": "stderr",
     "output_type": "stream",
     "text": [
      "\r",
      " 15%|████████████▎                                                                   | 100/650 [09:20<48:49,  5.33s/it]"
     ]
    },
    {
     "name": "stdout",
     "output_type": "stream",
     "text": [
      "The day following this episode , EKG showed loss of R wave progression in anterior leads and Q waves in leads III and AVF consistent with anteroseptal myocardial infarction .  -  100\n"
     ]
    },
    {
     "name": "stderr",
     "output_type": "stream",
     "text": [
      "\r",
      " 16%|████████████▍                                                                   | 101/650 [09:26<52:24,  5.73s/it]"
     ]
    },
    {
     "name": "stdout",
     "output_type": "stream",
     "text": [
      "EKG - technically poor tracing with what appears to be normal sinus rhythm with very small P waves , there are Q-waves in leads V1 and V2 , as well as in V3 .  -  101\n"
     ]
    },
    {
     "name": "stderr",
     "output_type": "stream",
     "text": [
      "\r",
      " 16%|████████████▌                                                                   | 102/650 [09:34<57:38,  6.31s/it]"
     ]
    },
    {
     "name": "stdout",
     "output_type": "stream",
     "text": [
      "The pulmonary function tests revealed an FEV1 of 1.51 , FVC 2.72 , and FEV1/FVC ratio of 56% .  -  102\n"
     ]
    },
    {
     "name": "stderr",
     "output_type": "stream",
     "text": [
      "\r",
      " 16%|████████████▋                                                                   | 103/650 [09:38<51:49,  5.68s/it]"
     ]
    },
    {
     "name": "stdout",
     "output_type": "stream",
     "text": [
      "+ Epigastric discomfort , gurgling gas-like pain , no association with food .  -  103\n"
     ]
    },
    {
     "name": "stderr",
     "output_type": "stream",
     "text": [
      "\r",
      " 16%|████████████▊                                                                   | 104/650 [09:41<44:20,  4.87s/it]"
     ]
    },
    {
     "name": "stdout",
     "output_type": "stream",
     "text": [
      "He was started on IV ig and IV Solu-Medrol for a diagnosis of myasthenia gravis given his past history of thymoma .  -  104\n"
     ]
    },
    {
     "name": "stderr",
     "output_type": "stream",
     "text": [
      "\r",
      " 16%|████████████▉                                                                   | 105/650 [09:46<44:17,  4.88s/it]"
     ]
    },
    {
     "name": "stdout",
     "output_type": "stream",
     "text": [
      "Echo showed normal function , trace AR , and no MR .  -  105\n"
     ]
    },
    {
     "name": "stderr",
     "output_type": "stream",
     "text": [
      "\r",
      " 16%|█████████████                                                                   | 106/650 [09:49<38:29,  4.25s/it]"
     ]
    },
    {
     "name": "stdout",
     "output_type": "stream",
     "text": [
      "She had cultures drawn , was given tylenol ( tylenol screen prior to this dose was negative , as was a urine tox ) , was started on levofloxacin , metronidazole , and vancomycin to cover emperically for hospital aquired pneumonia , GI sources , and a potential hip infection .  -  106\n"
     ]
    },
    {
     "name": "stderr",
     "output_type": "stream",
     "text": [
      "\r",
      " 16%|█████████████▏                                                                  | 107/650 [10:00<57:48,  6.39s/it]"
     ]
    },
    {
     "name": "stdout",
     "output_type": "stream",
     "text": [
      "Medium hiatal hernia , Barrett's esophagus , erosion of the gastroesophageal junction , granularity , erythema and congestion of the antrum in the pre-pyloric region compatible with gastritis .  -  107\n"
     ]
    },
    {
     "name": "stderr",
     "output_type": "stream",
     "text": [
      "\r",
      " 17%|█████████████▎                                                                  | 108/650 [10:07<58:03,  6.43s/it]"
     ]
    },
    {
     "name": "stdout",
     "output_type": "stream",
     "text": [
      "An echocardiogram on 4/12 revealed a dilated left ventricle which was diffusely mildly hypokinetic with no vegetations .  -  108\n"
     ]
    },
    {
     "name": "stderr",
     "output_type": "stream",
     "text": [
      "\r",
      " 17%|█████████████▍                                                                  | 109/650 [10:13<57:26,  6.37s/it]"
     ]
    },
    {
     "name": "stdout",
     "output_type": "stream",
     "text": [
      "He currently notes improvement in his throat pain after some Decadron and clindamycin .  -  109\n"
     ]
    },
    {
     "name": "stderr",
     "output_type": "stream",
     "text": [
      "\r",
      " 17%|█████████████▌                                                                  | 110/650 [10:17<50:37,  5.62s/it]"
     ]
    },
    {
     "name": "stdout",
     "output_type": "stream",
     "text": [
      "2015-09-20 03:54 AM BLOOD WBC - 11.4 *# RBC - 3.96 * Hgb - 12.1 Hct - 35.1 * MCV - 88 MCH - 30.6 MCHC - 34.6 RDW - 13.1 Plt Ct - 152  -  110\n"
     ]
    },
    {
     "name": "stderr",
     "output_type": "stream",
     "text": [
      "\r",
      " 17%|█████████████▎                                                                | 111/650 [10:26<1:00:22,  6.72s/it]"
     ]
    },
    {
     "name": "stdout",
     "output_type": "stream",
     "text": [
      "The patient was sent for an MRI of the head , which raised the question of a right posterior cerebral artery aneurysm .  -  111\n"
     ]
    },
    {
     "name": "stderr",
     "output_type": "stream",
     "text": [
      "\r",
      " 17%|█████████████▊                                                                  | 112/650 [10:32<57:48,  6.45s/it]"
     ]
    },
    {
     "name": "stdout",
     "output_type": "stream",
     "text": [
      "WBC - 5.7 RBC - 3.10 * Hgb - 8.9 * Hct - 26.2 * MCV - 85 MCH - 28.7 MCHC - 33.9 RDW - 15.4 Plt Ct - 186 PT - 11.5 PTT - 25.6 INR ( PT )- 1.0 Fibrinogen - 443 * Glucose - 104 UreaN - 60 * Creat - 4.8 * Na - 139 K - 4.3 Cl - 105 HCO3 - 26 AnGap - 12 Calcium - 8.8 Phos - 5.0 * Mg - 2.2  -  112\n"
     ]
    },
    {
     "name": "stderr",
     "output_type": "stream",
     "text": [
      "\r",
      " 17%|█████████████▌                                                                | 113/650 [10:53<1:35:26, 10.66s/it]"
     ]
    },
    {
     "name": "stdout",
     "output_type": "stream",
     "text": [
      "His gastrointestinal bleeding issues were investigated with an upper endoscopy which revealed multiple superficial gastric ulcerations consistent with an non-steroidal anti-inflammatory drugs gastropathy .  -  113\n"
     ]
    },
    {
     "name": "stderr",
     "output_type": "stream",
     "text": [
      "\r",
      " 18%|█████████████▋                                                                | 114/650 [10:58<1:22:06,  9.19s/it]"
     ]
    },
    {
     "name": "stdout",
     "output_type": "stream",
     "text": [
      "5. Carafate , one gram , po or per nasogastric tube , q.i.d. , Cardizem , 30 mg. , po , q6h , digoxin , 0.25 mg. , po or intravenously , qD , fluconazole , 200 mg. , qD , for five more days , after transfer , for a total of a 14 day course , total parenteral nutrition to meet the patient &apos;s nutritional needs .  -  114\n"
     ]
    },
    {
     "name": "stderr",
     "output_type": "stream",
     "text": [
      "\r",
      " 18%|█████████████▊                                                                | 115/650 [11:14<1:40:02, 11.22s/it]"
     ]
    },
    {
     "name": "stdout",
     "output_type": "stream",
     "text": [
      "after the procedure and 2 more units of packed red blood cells , the patient was hemodynamically stable and hematocrit was stable at 31.2 .  -  115\n"
     ]
    },
    {
     "name": "stderr",
     "output_type": "stream",
     "text": [
      "\r",
      " 18%|█████████████▉                                                                | 116/650 [11:20<1:25:43,  9.63s/it]"
     ]
    },
    {
     "name": "stdout",
     "output_type": "stream",
     "text": [
      "He was taken to the Sephsandpot Center where he was hypotensive with a blood pressure of 105/85 , tachycardic with a heart rate to 186 , aneuric , hyperthermic , with a temperature to 105 degrees F , and progressively more confused .  -  116\n"
     ]
    },
    {
     "name": "stderr",
     "output_type": "stream",
     "text": [
      "\r",
      " 18%|██████████████                                                                | 117/650 [11:30<1:26:51,  9.78s/it]"
     ]
    },
    {
     "name": "stdout",
     "output_type": "stream",
     "text": [
      "An EKG showed ST segment depression along the lateral pre-cordial leads .  -  117\n"
     ]
    },
    {
     "name": "stderr",
     "output_type": "stream",
     "text": [
      "\r",
      " 18%|██████████████▏                                                               | 118/650 [11:33<1:08:19,  7.71s/it]"
     ]
    },
    {
     "name": "stdout",
     "output_type": "stream",
     "text": [
      "WBC - 6.3 RBC - 4.17 * Hgb - 13.7 * Hct - 40.2 MCV - 96 MCH - 32.7 * MCHC - 34.0 RDW - 13.6 Plt Ct - 143 * PT - 11.9 PTT - 21.1 * INR ( PT )- 0.9 Glucose - 207 * UreaN - 17 Creat - 0.9 Na - 134 K - 4.6 Cl - 93 * HCO3 - 35 * AnGap - 11 Calcium - 8.3 * Phos - 1.8 *# Mg - 2.1  -  118\n"
     ]
    },
    {
     "name": "stderr",
     "output_type": "stream",
     "text": [
      "\r",
      " 18%|██████████████▎                                                               | 119/650 [11:53<1:40:18, 11.33s/it]"
     ]
    },
    {
     "name": "stdout",
     "output_type": "stream",
     "text": [
      "He was then referred to the CMED CCU for assessment and management of the increased bleeding .  -  119\n"
     ]
    },
    {
     "name": "stderr",
     "output_type": "stream",
     "text": [
      "\r",
      " 18%|██████████████▍                                                               | 120/650 [11:57<1:21:01,  9.17s/it]"
     ]
    },
    {
     "name": "stdout",
     "output_type": "stream",
     "text": [
      "EXTREMITIES - Bilateral radial , dorsalis pedis , posterior tibial , and femoral pulses are all 2+ .  -  120\n"
     ]
    },
    {
     "name": "stderr",
     "output_type": "stream",
     "text": [
      "\r",
      " 19%|██████████████▌                                                               | 121/650 [12:01<1:07:33,  7.66s/it]"
     ]
    },
    {
     "name": "stdout",
     "output_type": "stream",
     "text": [
      "In addition her liver transaminases were elevated , we thought about doing further work-up , but that was deferred because the patient wanted to wait on that .  -  121\n"
     ]
    },
    {
     "name": "stderr",
     "output_type": "stream",
     "text": [
      "\r",
      " 19%|██████████████▋                                                               | 122/650 [12:08<1:05:00,  7.39s/it]"
     ]
    },
    {
     "name": "stdout",
     "output_type": "stream",
     "text": [
      "His throat pain began 2 to 3 days prior to admission , initially treated with ibuprofen , seen in an outside hospital emergency room day prior to admission where he received IV penicillin and was sent home .  -  122\n"
     ]
    },
    {
     "name": "stderr",
     "output_type": "stream",
     "text": [
      "\r",
      " 19%|██████████████▊                                                               | 123/650 [12:17<1:09:39,  7.93s/it]"
     ]
    },
    {
     "name": "stdout",
     "output_type": "stream",
     "text": [
      "Heparin , consisting of thrombocytopenia ; Pronestyl , consisting of nausea .  -  123\n"
     ]
    },
    {
     "name": "stderr",
     "output_type": "stream",
     "text": [
      "\r",
      " 19%|███████████████▎                                                                | 124/650 [12:20<56:01,  6.39s/it]"
     ]
    },
    {
     "name": "stdout",
     "output_type": "stream",
     "text": [
      "On examination , Belmont Coma Scale was 6T ; blood pressure was 120 / palpable with a heart rate of 122 .  -  124\n"
     ]
    },
    {
     "name": "stderr",
     "output_type": "stream",
     "text": [
      "\r",
      " 19%|███████████████▍                                                                | 125/650 [12:25<52:52,  6.04s/it]"
     ]
    },
    {
     "name": "stdout",
     "output_type": "stream",
     "text": [
      "She has no nausea or vomiting , chills , dysuria , hematochezia , or melena .  -  125\n"
     ]
    },
    {
     "name": "stderr",
     "output_type": "stream",
     "text": [
      "\r",
      " 19%|███████████████▌                                                                | 126/650 [12:29<46:39,  5.34s/it]"
     ]
    },
    {
     "name": "stdout",
     "output_type": "stream",
     "text": [
      "Patient was hospitalized September 26 to November 11 for what was diagnosed by skin biopsy and sinus washings as Acanthamoeba infection of skin and sinuses , without any progression to neurologic infection ( as assessed by head CT and MRI ) .  -  126\n"
     ]
    },
    {
     "name": "stderr",
     "output_type": "stream",
     "text": [
      "\r",
      " 20%|███████████████▋                                                                | 127/650 [12:38<57:28,  6.59s/it]"
     ]
    },
    {
     "name": "stdout",
     "output_type": "stream",
     "text": [
      "She is from Maryland , apparently had no blood transfusions before the birth of her children so it is presumed heterosexual transmission .  -  127\n"
     ]
    },
    {
     "name": "stderr",
     "output_type": "stream",
     "text": [
      "\r",
      " 20%|███████████████▊                                                                | 128/650 [12:44<53:43,  6.17s/it]"
     ]
    },
    {
     "name": "stdout",
     "output_type": "stream",
     "text": [
      "Repeat chest x-rays and chest CT scans appeared consistent with pulmonary edema from volume overload given her renal failure and eventually , the patient &apos;s pulmonary status did improve after significant volume removal with dialysis for several weeks .  -  128\n"
     ]
    },
    {
     "name": "stderr",
     "output_type": "stream",
     "text": [
      "\r",
      " 20%|███████████████▍                                                              | 129/650 [12:52<1:00:25,  6.96s/it]"
     ]
    },
    {
     "name": "stdout",
     "output_type": "stream",
     "text": [
      "On admission , the sodium was 136 , potassium 3.0 , chloride 98 , CO2 20 , BUN 8 , creatinine 0.8 and glucose 94 , ALT 5 , AST 10 , LDH 166 , alkaline phosphatase 81 , total bili 0.6 , direct bili .3 , albumin 3.3 , calcium 8.8 and uric acid 3.1 .  -  129\n"
     ]
    },
    {
     "name": "stderr",
     "output_type": "stream",
     "text": [
      "\r",
      " 20%|███████████████▌                                                              | 130/650 [13:06<1:17:22,  8.93s/it]"
     ]
    },
    {
     "name": "stdout",
     "output_type": "stream",
     "text": [
      "The patient also at that time was followed by Cardiology and for preoperative evaluation had a stress test which was positive and he became diaphoretic but denied any chest pain .  -  130\n"
     ]
    },
    {
     "name": "stderr",
     "output_type": "stream",
     "text": [
      "\r",
      " 20%|███████████████▋                                                              | 131/650 [13:13<1:12:30,  8.38s/it]"
     ]
    },
    {
     "name": "stdout",
     "output_type": "stream",
     "text": [
      "Subsequent cardiac catheterization at Nantucket Cottage Hospital Hospital on 2014-04-16 was significant for severe two vessel coronary artery disease .  -  131\n"
     ]
    },
    {
     "name": "stderr",
     "output_type": "stream",
     "text": [
      "\r",
      " 20%|███████████████▊                                                              | 132/650 [13:18<1:02:19,  7.22s/it]"
     ]
    },
    {
     "name": "stdout",
     "output_type": "stream",
     "text": [
      "Pt 's respiratory distress is most likely on setting of aspiration pneumonia vs. pneumonitis in the setting of depressed mental status secondary to post-operative narcotics .  -  132\n"
     ]
    },
    {
     "name": "stderr",
     "output_type": "stream",
     "text": [
      "\r",
      " 20%|████████████████▎                                                               | 133/650 [13:23<58:54,  6.84s/it]"
     ]
    },
    {
     "name": "stdout",
     "output_type": "stream",
     "text": [
      "Chest x-ray was negative for infiltrate .  -  133\n"
     ]
    },
    {
     "name": "stderr",
     "output_type": "stream",
     "text": [
      "\r",
      " 21%|████████████████▍                                                               | 134/650 [13:25<45:13,  5.26s/it]"
     ]
    },
    {
     "name": "stdout",
     "output_type": "stream",
     "text": [
      "ON admission , physical examination reveals a non dysmorphic infant , well saturated and perfused with multiple bruises noted over the upper legs , left arm and chest .  -  134\n"
     ]
    },
    {
     "name": "stderr",
     "output_type": "stream",
     "text": [
      "\r",
      " 21%|████████████████▌                                                               | 135/650 [13:32<48:28,  5.65s/it]"
     ]
    },
    {
     "name": "stdout",
     "output_type": "stream",
     "text": [
      "Aspirin 325 , he was restarted on a PPI , also on iron , vitamin C , Lopressor 12.5 b.i.d .  -  135\n"
     ]
    },
    {
     "name": "stderr",
     "output_type": "stream",
     "text": [
      "\r",
      " 21%|████████████████▋                                                               | 136/650 [13:36<46:07,  5.38s/it]"
     ]
    },
    {
     "name": "stdout",
     "output_type": "stream",
     "text": [
      "Initially the patient was treated with broad spectrum antibiotics including Vancomycin , Ceptaz , Levaquin , Clindamycin and _________.  -  136\n"
     ]
    },
    {
     "name": "stderr",
     "output_type": "stream",
     "text": [
      "\r",
      " 21%|████████████████▊                                                               | 137/650 [13:41<43:13,  5.05s/it]"
     ]
    },
    {
     "name": "stdout",
     "output_type": "stream",
     "text": [
      "His chest x-ray showed diffuse patchy infiltrates on left lung with left upper lung patchy infiltrates and right hemidiaphragm elevated , consistent with adult respiratory distress syndrome from possible pneumonia .  -  137\n"
     ]
    },
    {
     "name": "stderr",
     "output_type": "stream",
     "text": [
      "\r",
      " 21%|████████████████▉                                                               | 138/650 [13:48<48:00,  5.63s/it]"
     ]
    },
    {
     "name": "stdout",
     "output_type": "stream",
     "text": [
      "He went to Sondi Memorial where he ruled out for myocardial infarction and was found to have a left lower lobe infiltrate / pneumonia , started on cefuroxime .  -  138\n"
     ]
    },
    {
     "name": "stderr",
     "output_type": "stream",
     "text": [
      "\r",
      " 21%|█████████████████                                                               | 139/650 [13:54<50:11,  5.89s/it]"
     ]
    },
    {
     "name": "stdout",
     "output_type": "stream",
     "text": [
      "3) MS change - on admission pt was agitated , requiring restraints and antipsychotics , however as he became increasingly hypoxic he became somnolent .  -  139\n"
     ]
    },
    {
     "name": "stderr",
     "output_type": "stream",
     "text": [
      "\r",
      " 22%|█████████████████▏                                                              | 140/650 [14:00<49:32,  5.83s/it]"
     ]
    },
    {
     "name": "stdout",
     "output_type": "stream",
     "text": [
      "The patient reported fatigue and nausea , as well as noted coca cola colored urine .  -  140\n"
     ]
    },
    {
     "name": "stderr",
     "output_type": "stream",
     "text": [
      "\r",
      " 22%|█████████████████▎                                                              | 141/650 [14:04<44:00,  5.19s/it]"
     ]
    },
    {
     "name": "stdout",
     "output_type": "stream",
     "text": [
      "A biliary stent was placed after the removal of the stone .  -  141\n"
     ]
    },
    {
     "name": "stderr",
     "output_type": "stream",
     "text": [
      "\r",
      " 22%|█████████████████▍                                                              | 142/650 [14:06<37:41,  4.45s/it]"
     ]
    },
    {
     "name": "stdout",
     "output_type": "stream",
     "text": [
      "A computerized tomography scan had showed multiple lacunes , right greater than left , and the deep gray and white matters suspicious for proximal middle cerebral artery stem occlusion or stenosis .  -  142\n"
     ]
    },
    {
     "name": "stderr",
     "output_type": "stream",
     "text": [
      "\r",
      " 22%|█████████████████▌                                                              | 143/650 [14:13<44:31,  5.27s/it]"
     ]
    },
    {
     "name": "stdout",
     "output_type": "stream",
     "text": [
      "He had been noting night sweats , increasing fatigue , anorexia , and dyspnea , which were not particularly improved by increased transfusions or alterations of hydroxy urea .  -  143\n"
     ]
    },
    {
     "name": "stderr",
     "output_type": "stream",
     "text": [
      "\r",
      " 22%|█████████████████▋                                                              | 144/650 [14:20<47:56,  5.68s/it]"
     ]
    },
    {
     "name": "stdout",
     "output_type": "stream",
     "text": [
      "She was placed on a bowel regimen of Dulcolax , Fleet enema , and Colace .  -  144\n"
     ]
    },
    {
     "name": "stderr",
     "output_type": "stream",
     "text": [
      "\r",
      " 22%|█████████████████▊                                                              | 145/650 [14:24<42:40,  5.07s/it]"
     ]
    },
    {
     "name": "stdout",
     "output_type": "stream",
     "text": [
      "Medium hiatal hernia , Barrett's esophagus , erosion of the gastroesophageal junction , granularity , erythema and congestion of the antrum in the pre-pyloric region compatible with gastritis .  -  145\n"
     ]
    },
    {
     "name": "stderr",
     "output_type": "stream",
     "text": [
      "\r",
      " 22%|█████████████████▉                                                              | 146/650 [14:30<46:07,  5.49s/it]"
     ]
    },
    {
     "name": "stdout",
     "output_type": "stream",
     "text": [
      "Given the rapid extension of the subgaleal bleed , coagulopathy workup was initiated revealing an elevated PTT level of 77 as well as factor 8 level that was below detection in the presence of normal factors 5 , 9 , 10 , and 11 .  -  146\n"
     ]
    },
    {
     "name": "stderr",
     "output_type": "stream",
     "text": [
      "\r",
      " 23%|██████████████████                                                              | 147/650 [14:40<57:19,  6.84s/it]"
     ]
    },
    {
     "name": "stdout",
     "output_type": "stream",
     "text": [
      "She was rescoped on 10-28 and varices were sclerosed ( no banding due to latex allergy ) and diuretics of lasix and aldactone were readded for ascites since BP stable .  -  147\n"
     ]
    },
    {
     "name": "stderr",
     "output_type": "stream",
     "text": [
      "\r",
      " 23%|██████████████████▏                                                             | 148/650 [14:47<57:27,  6.87s/it]"
     ]
    },
    {
     "name": "stdout",
     "output_type": "stream",
     "text": [
      "Admission sodium of 136 , potassium 3.8 , chloride 99 , bicarbonate 27.3 , BUN and creatinine of 13 and 0.6 , glucose 86 , calcium 9.3 , liver function tests notable for an albumin of 2.5 , globulin 4.5 .  -  148\n"
     ]
    },
    {
     "name": "stderr",
     "output_type": "stream",
     "text": [
      "\r",
      " 23%|█████████████████▉                                                            | 149/650 [14:57<1:04:12,  7.69s/it]"
     ]
    },
    {
     "name": "stdout",
     "output_type": "stream",
     "text": [
      "At the time , patient had bright red blood per rectum as well and patient had cardiac catheterization at the time which showed 95% left anterior descending , which was percutaneous transluminal coronary angioplastied and had intra-aortic balloon pump placement .  -  149\n"
     ]
    },
    {
     "name": "stderr",
     "output_type": "stream",
     "text": [
      "\r",
      " 23%|██████████████████                                                            | 150/650 [15:06<1:09:08,  8.30s/it]"
     ]
    },
    {
     "name": "stdout",
     "output_type": "stream",
     "text": [
      "On physical examination on admission , the blood pressure was 146/80 , weight 146 , temperature 98.6 , and pulse of 92 .  -  150\n"
     ]
    },
    {
     "name": "stderr",
     "output_type": "stream",
     "text": [
      "\r",
      " 23%|██████████████████                                                            | 151/650 [15:12<1:01:14,  7.36s/it]"
     ]
    },
    {
     "name": "stdout",
     "output_type": "stream",
     "text": [
      "Additionally , he had a perfusion , diffusion MR study earlier on , which suggested the presence of viable penumbra , including the overlying cortex .  -  151\n"
     ]
    },
    {
     "name": "stderr",
     "output_type": "stream",
     "text": [
      "\r",
      " 23%|██████████████████▋                                                             | 152/650 [15:17<57:08,  6.88s/it]"
     ]
    },
    {
     "name": "stdout",
     "output_type": "stream",
     "text": [
      "Sternum is stable , incision with staples , opened to air , clean and dry .  -  152\n"
     ]
    },
    {
     "name": "stderr",
     "output_type": "stream",
     "text": [
      "\r",
      " 24%|██████████████████▊                                                             | 153/650 [15:21<48:53,  5.90s/it]"
     ]
    },
    {
     "name": "stdout",
     "output_type": "stream",
     "text": [
      "5 PLAVIX ( CLOPIDOGREL ) 75 MG PO QD Starting Today ( 01/06 ) KEFLEX ( CEPHALEXIN ) 500 MG PO QID X 40 doses AMIODARONE 400 MG PO QD   -  153\n"
     ]
    },
    {
     "name": "stderr",
     "output_type": "stream",
     "text": [
      "\r",
      " 24%|██████████████████▉                                                             | 154/650 [15:28<51:03,  6.18s/it]"
     ]
    },
    {
     "name": "stdout",
     "output_type": "stream",
     "text": [
      "He did have some blood loss anemia with a hematocrit of 20.9 .  -  154\n"
     ]
    },
    {
     "name": "stderr",
     "output_type": "stream",
     "text": [
      "\r",
      " 24%|███████████████████                                                             | 155/650 [15:31<42:55,  5.20s/it]"
     ]
    },
    {
     "name": "stdout",
     "output_type": "stream",
     "text": [
      "A CT scan on admission revealed no evidence of hemorrhage though he did have sphenoid sinusitis .  -  155\n"
     ]
    },
    {
     "name": "stderr",
     "output_type": "stream",
     "text": [
      "\r",
      " 24%|███████████████████▏                                                            | 156/650 [15:35<39:19,  4.78s/it]"
     ]
    },
    {
     "name": "stdout",
     "output_type": "stream",
     "text": [
      "Medications at the time of admission include Dapsone 50 mg p.o. on Monday , Wednesday and Friday , Ceftazidime 1 gram IV q. 8 hours , Cipro 750 mg p.o. b.i.d. , Acyclovir 400 mg p.o. q. day , Megastrol 80 mg p.o. t.i.d. and G-CSF 150 micrograms subcu b.i.d.  -  156\n"
     ]
    },
    {
     "name": "stderr",
     "output_type": "stream",
     "text": [
      "\r",
      " 24%|███████████████████▎                                                            | 157/650 [15:46<55:03,  6.70s/it]"
     ]
    },
    {
     "name": "stdout",
     "output_type": "stream",
     "text": [
      "Pain 2/10 persisted , relieved by MSO4 .  -  157\n"
     ]
    },
    {
     "name": "stderr",
     "output_type": "stream",
     "text": [
      "\r",
      " 24%|███████████████████▍                                                            | 158/650 [15:48<42:53,  5.23s/it]"
     ]
    },
    {
     "name": "stdout",
     "output_type": "stream",
     "text": [
      "In December of 1992 , she underwent a transverse colectomy for colon carcinoma which was Duke &apos;s grade B-II , lymph nodes were negative .  -  158\n"
     ]
    },
    {
     "name": "stderr",
     "output_type": "stream",
     "text": [
      "\r",
      " 24%|███████████████████▌                                                            | 159/650 [15:53<43:48,  5.35s/it]"
     ]
    },
    {
     "name": "stdout",
     "output_type": "stream",
     "text": [
      "The patient was transferred to NVH after receiving intravenous fluid with potassium , Demerol for pain control and clindamycin , Valium and droperidol .  -  159\n"
     ]
    },
    {
     "name": "stderr",
     "output_type": "stream",
     "text": [
      "\r",
      " 25%|███████████████████▋                                                            | 160/650 [15:59<43:57,  5.38s/it]"
     ]
    },
    {
     "name": "stdout",
     "output_type": "stream",
     "text": [
      "An echocardiogram was performed to evaluate the LV function , which showed an ejection fraction of 53% with inferoposteriorakinesis / hypokinesis .  -  160\n"
     ]
    },
    {
     "name": "stderr",
     "output_type": "stream",
     "text": [
      "\r",
      " 25%|███████████████████▊                                                            | 161/650 [16:04<42:45,  5.25s/it]"
     ]
    },
    {
     "name": "stdout",
     "output_type": "stream",
     "text": [
      "The patient &apos;s incisions sternal and right leg were clean and healing well , normal sinus rhythm at 70-80 , with blood pressure 98-110/60 and patient was doing well , recovering , ambulating , tolerating regular diet and last hematocrit prior to discharge was 39% with a BUN and creatinine of 15 and 1.0 , prothrombin time level of 13.8 , chest X-ray prior to discharge showed small bilateral effusions with mild cardiomegaly and subsegmental atelectasis bibasilar and electrocardiogram showed normal sinus rhythm with left atrial enlargement and no acute ischemic changes on electrocardiogram .  -  161\n"
     ]
    },
    {
     "name": "stderr",
     "output_type": "stream",
     "text": [
      "\r",
      " 25%|███████████████████▍                                                          | 162/650 [16:25<1:22:19, 10.12s/it]"
     ]
    },
    {
     "name": "stdout",
     "output_type": "stream",
     "text": [
      "1 . Coronary artery disease status post myocardial infarction in 2006 and 1997 and status post percutaneous transluminal coronary angioplasty times two .  -  162\n"
     ]
    },
    {
     "name": "stderr",
     "output_type": "stream",
     "text": [
      "\r",
      " 25%|███████████████████▌                                                          | 163/650 [16:30<1:09:55,  8.62s/it]"
     ]
    },
    {
     "name": "stdout",
     "output_type": "stream",
     "text": [
      "The abdomen was soft , flat , nontender , with normal bowel sounds and no hepatosplenomegaly was noticed .  -  163\n"
     ]
    },
    {
     "name": "stderr",
     "output_type": "stream",
     "text": [
      "\r",
      " 25%|████████████████████▏                                                           | 164/650 [16:34<59:14,  7.31s/it]"
     ]
    },
    {
     "name": "stdout",
     "output_type": "stream",
     "text": [
      "The patient has an ulcer on his penis that has been treated with dressing changes .  -  164\n"
     ]
    },
    {
     "name": "stderr",
     "output_type": "stream",
     "text": [
      "\r",
      " 25%|████████████████████▎                                                           | 165/650 [16:38<49:58,  6.18s/it]"
     ]
    },
    {
     "name": "stdout",
     "output_type": "stream",
     "text": [
      "ETT - MIBI 5/27/05 - normal , no e / o ischemia .  -  165\n"
     ]
    },
    {
     "name": "stderr",
     "output_type": "stream",
     "text": [
      "\r",
      " 26%|████████████████████▍                                                           | 166/650 [16:41<41:52,  5.19s/it]"
     ]
    },
    {
     "name": "stdout",
     "output_type": "stream",
     "text": [
      "She underwent a pelvic ultrasound and an abdomen and pelvis CT , which revealed continued air in the endometrial cavity vs. in the fundal fibroid .  -  166\n"
     ]
    },
    {
     "name": "stderr",
     "output_type": "stream",
     "text": [
      "\r",
      " 26%|████████████████████▌                                                           | 167/650 [16:47<43:18,  5.38s/it]"
     ]
    },
    {
     "name": "stdout",
     "output_type": "stream",
     "text": [
      "WBC - 5.7 RBC - 3.10 * Hgb - 8.9 * Hct - 26.2 * MCV - 85 MCH - 28.7 MCHC - 33.9 RDW - 15.4 Plt Ct - 186 PT - 11.5 PTT - 25.6 INR ( PT )- 1.0 Fibrinogen - 443 * Glucose - 104 UreaN - 60 * Creat - 4.8 * Na - 139 K - 4.3 Cl - 105 HCO3 - 26 AnGap - 12 Calcium - 8.8 Phos - 5.0 * Mg - 2.2  -  167\n"
     ]
    },
    {
     "name": "stderr",
     "output_type": "stream",
     "text": [
      "\r",
      " 26%|████████████████████▏                                                         | 168/650 [17:05<1:14:44,  9.30s/it]"
     ]
    },
    {
     "name": "stdout",
     "output_type": "stream",
     "text": [
      "Because of the intense diffuse inflammatory reaction that had already set in , it was decided that neither distal pancreatic resection nor Roux-en-Y drainage was feasible .  -  168\n"
     ]
    },
    {
     "name": "stderr",
     "output_type": "stream",
     "text": [
      "\r",
      " 26%|████████████████████▎                                                         | 169/650 [17:11<1:06:51,  8.34s/it]"
     ]
    },
    {
     "name": "stdout",
     "output_type": "stream",
     "text": [
      "Furthermore there was a mass on the right pectoralis muscle which is supposed to be metastatic cancer .  -  169\n"
     ]
    },
    {
     "name": "stderr",
     "output_type": "stream",
     "text": [
      "\r",
      " 26%|████████████████████▉                                                           | 170/650 [17:15<56:26,  7.05s/it]"
     ]
    },
    {
     "name": "stdout",
     "output_type": "stream",
     "text": [
      "mylanta 15 cc mixed with Viscous lidocaine every 8 hours if needed for severe pain only can use mylanta without lidocaine more frequently bland diet , no caffeine , chilli , or alcohol ...  -  170\n"
     ]
    },
    {
     "name": "stderr",
     "output_type": "stream",
     "text": [
      "\r",
      " 26%|█████████████████████                                                           | 171/650 [17:23<58:02,  7.27s/it]"
     ]
    },
    {
     "name": "stdout",
     "output_type": "stream",
     "text": [
      "69 yo M with known Atrial fibrillation and coronary artery disease admitted preop for transition fro Coumadin to Heparin .  -  171\n"
     ]
    },
    {
     "name": "stderr",
     "output_type": "stream",
     "text": [
      "\r",
      " 26%|█████████████████████▏                                                          | 172/650 [17:28<51:25,  6.46s/it]"
     ]
    },
    {
     "name": "stdout",
     "output_type": "stream",
     "text": [
      "The patient denied angina , syncope , preceding worsening orthopnea , paroxysmal nocturnal dyspnea , palpitations , chest pain , hematemesis or melena .  -  172\n"
     ]
    },
    {
     "name": "stderr",
     "output_type": "stream",
     "text": [
      "\r",
      " 27%|█████████████████████▎                                                          | 173/650 [17:33<48:54,  6.15s/it]"
     ]
    },
    {
     "name": "stdout",
     "output_type": "stream",
     "text": [
      "ABDOMENAL PAIN AND NAUSEA  -  173\n"
     ]
    },
    {
     "name": "stderr",
     "output_type": "stream",
     "text": [
      "\r",
      " 27%|█████████████████████▍                                                          | 174/650 [17:34<36:20,  4.58s/it]"
     ]
    },
    {
     "name": "stdout",
     "output_type": "stream",
     "text": [
      "These bacteria turned out to be MRSA and she was continued on her vancomycin .  -  174\n"
     ]
    },
    {
     "name": "stderr",
     "output_type": "stream",
     "text": [
      "\r",
      " 27%|█████████████████████▌                                                          | 175/650 [17:37<33:22,  4.21s/it]"
     ]
    },
    {
     "name": "stdout",
     "output_type": "stream",
     "text": [
      "General exam at the time was notable for pale mucous membranes , left lateral eye deviation , clear lungs , 2/6 holosystolic murmur , best heard at the apex , abdomen was mildly distended but was soft and nontender and his extremities were without edema and skin without any rashes .  -  175\n"
     ]
    },
    {
     "name": "stderr",
     "output_type": "stream",
     "text": [
      "\r",
      " 27%|█████████████████████▋                                                          | 176/650 [17:49<50:19,  6.37s/it]"
     ]
    },
    {
     "name": "stdout",
     "output_type": "stream",
     "text": [
      "without clubbing , claudication , or edema .  -  176\n"
     ]
    },
    {
     "name": "stderr",
     "output_type": "stream",
     "text": [
      "\r",
      " 27%|█████████████████████▊                                                          | 177/650 [17:51<39:28,  5.01s/it]"
     ]
    },
    {
     "name": "stdout",
     "output_type": "stream",
     "text": [
      "There were also runs of ventricular tachycardia which generated into ventricular fibrillation that was refractory to multiple cardioversions .  -  177\n"
     ]
    },
    {
     "name": "stderr",
     "output_type": "stream",
     "text": [
      "\r",
      " 27%|█████████████████████▉                                                          | 178/650 [17:55<37:36,  4.78s/it]"
     ]
    },
    {
     "name": "stdout",
     "output_type": "stream",
     "text": [
      "Intermittent grunting , moderate intercostal retractions , diminished air entry , regular rate and rhythm without murmur , 2+ femoral pulses .  -  178\n"
     ]
    },
    {
     "name": "stderr",
     "output_type": "stream",
     "text": [
      "\r",
      " 28%|██████████████████████                                                          | 179/650 [18:00<37:43,  4.81s/it]"
     ]
    },
    {
     "name": "stdout",
     "output_type": "stream",
     "text": [
      "Multiple wires were used to attempt to cross the total occlusion , but were ultimately unsuccessful .  -  179\n"
     ]
    },
    {
     "name": "stderr",
     "output_type": "stream",
     "text": [
      "\r",
      " 28%|██████████████████████▏                                                         | 180/650 [18:03<35:08,  4.49s/it]"
     ]
    },
    {
     "name": "stdout",
     "output_type": "stream",
     "text": [
      "She had post-infarction angina , was transferred here for angiography and possible percutaneous transluminal coronary angioplasty .   -  180\n"
     ]
    },
    {
     "name": "stderr",
     "output_type": "stream",
     "text": [
      "\r",
      " 28%|██████████████████████▎                                                         | 181/650 [18:07<33:41,  4.31s/it]"
     ]
    },
    {
     "name": "stdout",
     "output_type": "stream",
     "text": [
      "In the emergency room , vitals were temperature 96.4 , pulse 40-50 , blood pressure 154-58 , satting 86% on room air , 99% on 3 liters of 3 liters cannula .  -  181\n"
     ]
    },
    {
     "name": "stderr",
     "output_type": "stream",
     "text": [
      "\r",
      " 28%|██████████████████████▍                                                         | 182/650 [18:15<40:30,  5.19s/it]"
     ]
    },
    {
     "name": "stdout",
     "output_type": "stream",
     "text": [
      "2. Coronary artery disease status post NQWMI 02-25 , s/p LAD angioplasty and stent 05-26 . Known non-dominant 90% RCA lesion not intervened upon .  -  182\n"
     ]
    },
    {
     "name": "stderr",
     "output_type": "stream",
     "text": [
      "\r",
      " 28%|██████████████████████▌                                                         | 183/650 [18:20<41:19,  5.31s/it]"
     ]
    },
    {
     "name": "stdout",
     "output_type": "stream",
     "text": [
      "Tidal volume is 700 with a rate of 10 , 10 of pressure support , and 10 of PEEP , and 100% FiO2 , satting 100% .  -  183\n"
     ]
    },
    {
     "name": "stderr",
     "output_type": "stream",
     "text": [
      "\r",
      " 28%|██████████████████████▋                                                         | 184/650 [18:26<43:00,  5.54s/it]"
     ]
    },
    {
     "name": "stdout",
     "output_type": "stream",
     "text": [
      "The patient was monitored for symptoms of Flolan therapy including nausea , vomiting , first bite jaw claudication , or hypotension .  -  184\n"
     ]
    },
    {
     "name": "stderr",
     "output_type": "stream",
     "text": [
      "\r",
      " 28%|██████████████████████▊                                                         | 185/650 [18:31<41:39,  5.38s/it]"
     ]
    },
    {
     "name": "stdout",
     "output_type": "stream",
     "text": [
      "WBC - 9.6 RBC - 4.02 * HGB - 11.4 * HCT - 36.3 MCV - 90 MCH - 28.4 MCHC - 31.4 RDW - 17.8 *  -  185\n"
     ]
    },
    {
     "name": "stderr",
     "output_type": "stream",
     "text": [
      "\r",
      " 29%|██████████████████████▉                                                         | 186/650 [18:37<42:58,  5.56s/it]"
     ]
    },
    {
     "name": "stdout",
     "output_type": "stream",
     "text": [
      "She was given lasix and 2 mg IV morphine at New England Sinai Hospital & Rehab Center Rehab , and sent to Nantucket Cottage Hospital for further evaluation .  -  186\n"
     ]
    },
    {
     "name": "stderr",
     "output_type": "stream",
     "text": [
      "\r",
      " 29%|███████████████████████                                                         | 187/650 [18:44<45:10,  5.85s/it]"
     ]
    },
    {
     "name": "stdout",
     "output_type": "stream",
     "text": [
      "HEENT : Pupils pinpoint , equal , anicteric , normal conjunctiva , intubated , OGT in place , OMMM , normocephalic , atraumatic  -  187\n"
     ]
    },
    {
     "name": "stderr",
     "output_type": "stream",
     "text": [
      "\r",
      " 29%|███████████████████████▏                                                        | 188/650 [18:49<43:23,  5.63s/it]"
     ]
    },
    {
     "name": "stdout",
     "output_type": "stream",
     "text": [
      "If you have any further black stools , bleeding , lightheadedness or any other concerning symptoms please contact your PCP or return to the emergency room .  -  188\n"
     ]
    },
    {
     "name": "stderr",
     "output_type": "stream",
     "text": [
      "\r",
      " 29%|███████████████████████▎                                                        | 189/650 [18:55<44:23,  5.78s/it]"
     ]
    },
    {
     "name": "stdout",
     "output_type": "stream",
     "text": [
      "However , due to the absence of clear benefit at this level , and further deterioration in his left sided strength , this goal was increased and Neo-Synephrine was added to his regimen to achieve mean arterial pressures in the 110-120 range .  -  189\n"
     ]
    },
    {
     "name": "stderr",
     "output_type": "stream",
     "text": [
      "\r",
      " 29%|███████████████████████▍                                                        | 190/650 [19:05<53:16,  6.95s/it]"
     ]
    },
    {
     "name": "stdout",
     "output_type": "stream",
     "text": [
      "There was no rash and no edema and the neurological examination was non-focal .  -  190\n"
     ]
    },
    {
     "name": "stderr",
     "output_type": "stream",
     "text": [
      "\r",
      " 29%|███████████████████████▌                                                        | 191/650 [19:08<45:17,  5.92s/it]"
     ]
    },
    {
     "name": "stdout",
     "output_type": "stream",
     "text": [
      "White count 20.0 , hematocrit 52 , platelets 439 .  -  191\n"
     ]
    },
    {
     "name": "stderr",
     "output_type": "stream",
     "text": [
      "\r",
      " 30%|███████████████████████▋                                                        | 192/650 [19:10<36:46,  4.82s/it]"
     ]
    },
    {
     "name": "stdout",
     "output_type": "stream",
     "text": [
      "05-11- Urine culture : no growth ( final )  -  192\n"
     ]
    },
    {
     "name": "stderr",
     "output_type": "stream",
     "text": [
      "\r",
      " 30%|███████████████████████▊                                                        | 193/650 [19:12<30:26,  4.00s/it]"
     ]
    },
    {
     "name": "stdout",
     "output_type": "stream",
     "text": [
      "11. Mesalamine 400 mg Tablet , Delayed Release ( E.C. ) Sig : Three ( 3 ) Tablet , Delayed Release ( E.C. ) PO TID ( 3 times a day ) as needed for ulcerative colitis w/o recent severe flares .  -  193\n"
     ]
    },
    {
     "name": "stderr",
     "output_type": "stream",
     "text": [
      "\r",
      " 30%|███████████████████████▉                                                        | 194/650 [19:22<42:16,  5.56s/it]"
     ]
    },
    {
     "name": "stdout",
     "output_type": "stream",
     "text": [
      "At that time , tumor was found to be studding on the right diaphragm , gross tumor in the omentum and large bowel , tumor through the uterine serosa .  -  194\n"
     ]
    },
    {
     "name": "stderr",
     "output_type": "stream",
     "text": [
      "\r",
      " 30%|████████████████████████                                                        | 195/650 [19:28<44:30,  5.87s/it]"
     ]
    },
    {
     "name": "stdout",
     "output_type": "stream",
     "text": [
      "78 M w/ longstanding CAD s / p CABG '97 , had PPM and AICD placed in '02 after admitted for presyncope and found to have inducible VT .   -  195\n"
     ]
    },
    {
     "name": "stderr",
     "output_type": "stream",
     "text": [
      "\r",
      " 30%|████████████████████████                                                        | 196/650 [19:35<45:47,  6.05s/it]"
     ]
    },
    {
     "name": "stdout",
     "output_type": "stream",
     "text": [
      "The patient was ultimately discharged on postoperative day number 16 , tolerating a regular diet , and adequate pain control on p.o. pain medications , having no anginal symptoms and with an INR of 2.0 .  -  196\n"
     ]
    },
    {
     "name": "stderr",
     "output_type": "stream",
     "text": [
      "\r",
      " 30%|████████████████████████▏                                                       | 197/650 [19:43<50:12,  6.65s/it]"
     ]
    },
    {
     "name": "stdout",
     "output_type": "stream",
     "text": [
      "A CT abd showed 8mm obstructing stone , hydro with stranding consistent with pylonephritis .  -  197\n"
     ]
    },
    {
     "name": "stderr",
     "output_type": "stream",
     "text": [
      "\r",
      " 30%|████████████████████████▎                                                       | 198/650 [19:46<42:30,  5.64s/it]"
     ]
    },
    {
     "name": "stdout",
     "output_type": "stream",
     "text": [
      "The differential showed 45 polys , 6 bands , 8 lymphs , 32 monos .  -  198\n"
     ]
    },
    {
     "name": "stderr",
     "output_type": "stream",
     "text": [
      "\r",
      " 31%|████████████████████████▍                                                       | 199/650 [19:49<37:10,  4.95s/it]"
     ]
    },
    {
     "name": "stdout",
     "output_type": "stream",
     "text": [
      "End-stage cirrhosis with refractory ascites .  -  199\n"
     ]
    },
    {
     "name": "stderr",
     "output_type": "stream",
     "text": [
      "\r",
      " 31%|████████████████████████▌                                                       | 200/650 [19:51<28:59,  3.86s/it]"
     ]
    },
    {
     "name": "stdout",
     "output_type": "stream",
     "text": [
      "NEUTS - 86.1 * LYMPHS - 5.4 * MONOS - 5.7 EOS - 2.2 BASOS - 0.6  -  200\n"
     ]
    },
    {
     "name": "stderr",
     "output_type": "stream",
     "text": [
      "\r",
      " 31%|████████████████████████▋                                                       | 201/650 [19:54<28:33,  3.82s/it]"
     ]
    },
    {
     "name": "stdout",
     "output_type": "stream",
     "text": [
      "She was intubated for this hypoxia and treated with lasix , metoprolol , and diltiazem .  -  201\n"
     ]
    },
    {
     "name": "stderr",
     "output_type": "stream",
     "text": [
      "\r",
      " 31%|████████████████████████▊                                                       | 202/650 [19:58<27:57,  3.74s/it]"
     ]
    },
    {
     "name": "stdout",
     "output_type": "stream",
     "text": [
      "He was given lopressor 5 mg x 2 ( 3rd dose given by medflight , 5 mg morphine , ativan , nitro gtt , heparin , and integrillin .  -  202\n"
     ]
    },
    {
     "name": "stderr",
     "output_type": "stream",
     "text": [
      "\r",
      " 31%|████████████████████████▉                                                       | 203/650 [20:05<34:17,  4.60s/it]"
     ]
    },
    {
     "name": "stdout",
     "output_type": "stream",
     "text": [
      "2014-04-22 07:10 AM BLOOD WBC - 6.5 RBC - 2.89 * Hgb - 9.3 * Hct - 26.4 * MCV - 92 MCH - 32.3 * MCHC - 35.2 * RDW - 13.8 Plt Ct - 155  -  203\n"
     ]
    },
    {
     "name": "stderr",
     "output_type": "stream",
     "text": [
      "\r",
      " 31%|█████████████████████████                                                       | 204/650 [20:13<42:34,  5.73s/it]"
     ]
    },
    {
     "name": "stdout",
     "output_type": "stream",
     "text": [
      "He was intubated with multiple abrasions , and severe swelling and contusions of his face .  -  204\n"
     ]
    },
    {
     "name": "stderr",
     "output_type": "stream",
     "text": [
      "\r",
      " 32%|█████████████████████████▏                                                      | 205/650 [20:17<37:39,  5.08s/it]"
     ]
    },
    {
     "name": "stdout",
     "output_type": "stream",
     "text": [
      "A single blood culture positive for coagulase negative Staphylococcus was treated with a course of vancomycin in the setting of a PICC line and a chest x-ray on November 20 indicating possible developing pneumonia , resulted in a course of levofloxacin , for both possible pneumonia , as well as treatment of any bacterial superinfection of Acanthamoeba sinusitis .  -  205\n"
     ]
    },
    {
     "name": "stderr",
     "output_type": "stream",
     "text": [
      "\r",
      " 32%|█████████████████████████▎                                                      | 206/650 [20:30<55:28,  7.50s/it]"
     ]
    },
    {
     "name": "stdout",
     "output_type": "stream",
     "text": [
      "2019-04-07 11:00 AM BLOOD WBC - 4.4 RBC - 2.34 *# Hgb - 7.5 * Hct - 21.2 *# MCV - 91 MCH - 32.1 * MCHC - 35.4 * RDW - 14.5 Plt Ct - 94 *  -  206\n"
     ]
    },
    {
     "name": "stderr",
     "output_type": "stream",
     "text": [
      "\r",
      " 32%|█████████████████████████▍                                                      | 207/650 [20:38<57:29,  7.79s/it]"
     ]
    },
    {
     "name": "stdout",
     "output_type": "stream",
     "text": [
      "A CT abd showed 8mm obstructing stone , hydro with stranding consistent with pylonephritis .  -  207\n"
     ]
    },
    {
     "name": "stderr",
     "output_type": "stream",
     "text": [
      "\r",
      " 32%|█████████████████████████▌                                                      | 208/650 [20:41<47:21,  6.43s/it]"
     ]
    },
    {
     "name": "stdout",
     "output_type": "stream",
     "text": [
      "BLOOD - LG NITRITE - NEG PROTEIN - NEG GLUCOSE - 250 KETONE - NEG BILIRUBIN - NEG UROBILNGN - NEG PH - 6.5  -  208\n"
     ]
    },
    {
     "name": "stderr",
     "output_type": "stream",
     "text": [
      "\r",
      " 32%|█████████████████████████▋                                                      | 209/650 [20:47<44:59,  6.12s/it]"
     ]
    },
    {
     "name": "stdout",
     "output_type": "stream",
     "text": [
      "There were bibasilar rales with some wheezing .  -  209\n"
     ]
    },
    {
     "name": "stderr",
     "output_type": "stream",
     "text": [
      "\r",
      " 32%|█████████████████████████▊                                                      | 210/650 [20:49<35:18,  4.81s/it]"
     ]
    },
    {
     "name": "stdout",
     "output_type": "stream",
     "text": [
      "Wife denies any recent bleeding , surgeries , or upper respiratory infection .  -  210\n"
     ]
    },
    {
     "name": "stderr",
     "output_type": "stream",
     "text": [
      "\r",
      " 32%|█████████████████████████▉                                                      | 211/650 [20:52<31:06,  4.25s/it]"
     ]
    },
    {
     "name": "stdout",
     "output_type": "stream",
     "text": [
      "The patient was treated with Tylenol orally as well as Ativan for anxiety that she had about going home .  -  211\n"
     ]
    },
    {
     "name": "stderr",
     "output_type": "stream",
     "text": [
      "\r",
      " 33%|██████████████████████████                                                      | 212/650 [20:56<31:32,  4.32s/it]"
     ]
    },
    {
     "name": "stdout",
     "output_type": "stream",
     "text": [
      "He expressed interest in taking an anti-depressant for a short time while he was recovering and was started on Celexa .  -  212\n"
     ]
    },
    {
     "name": "stderr",
     "output_type": "stream",
     "text": [
      "\r",
      " 33%|██████████████████████████▏                                                     | 213/650 [21:01<32:30,  4.46s/it]"
     ]
    },
    {
     "name": "stdout",
     "output_type": "stream",
     "text": [
      "Patient experienced acute renal failure on chronic renal insufficiency , with previous baseline creatinine 1.6 , felt to be due to medication toxicity , requiring Kayexalate and Phoslo to manage electrolytes , but never any need for hemodialysis , with mild improvement of creatinine by discharge , with peak creatinine 3.4 , discharge creatinine 2.6 .  -  213\n"
     ]
    },
    {
     "name": "stderr",
     "output_type": "stream",
     "text": [
      "\r",
      " 33%|██████████████████████████▎                                                     | 214/650 [21:13<50:12,  6.91s/it]"
     ]
    },
    {
     "name": "stdout",
     "output_type": "stream",
     "text": [
      "Medium hiatal hernia , Barrett's esophagus , erosion of the gastroesophageal junction , granularity , erythema and congestion of the antrum in the pre-pyloric region compatible with gastritis .  -  214\n"
     ]
    },
    {
     "name": "stderr",
     "output_type": "stream",
     "text": [
      "\r",
      " 33%|██████████████████████████▍                                                     | 215/650 [21:20<49:17,  6.80s/it]"
     ]
    },
    {
     "name": "stdout",
     "output_type": "stream",
     "text": [
      "A negative , antibody negative , hepatitis surface antigen negative , RPR nonreactive , rubella immune and GBS negative .  -  215\n"
     ]
    },
    {
     "name": "stderr",
     "output_type": "stream",
     "text": [
      "\r",
      " 33%|██████████████████████████▌                                                     | 216/650 [21:24<44:02,  6.09s/it]"
     ]
    },
    {
     "name": "stdout",
     "output_type": "stream",
     "text": [
      "In summary , the patient is a 49 year old woman with metastatic breast cell CA , status post chemotherapy with CMSAP and PVSC and XRT who presented with fever , four days of diarrhea , nausea and vomiting and had been on Keflex for an erythema on her left chest wall .  -  216\n"
     ]
    },
    {
     "name": "stderr",
     "output_type": "stream",
     "text": [
      "\r",
      " 33%|██████████████████████████▋                                                     | 217/650 [21:36<56:26,  7.82s/it]"
     ]
    },
    {
     "name": "stdout",
     "output_type": "stream",
     "text": [
      "His hip flexion was 4+ on the right and 4- on the left ; extension 5 on the right , 4+ on the left ; knee flexion evidently trace on the right and 4- on the left with knee extension 5- on the left , 5 on the right ; knee flexion 4- on the left , trace on the right ; ankle dorsi flexion 4- on the left , trace on the right .  -  217\n"
     ]
    },
    {
     "name": "stderr",
     "output_type": "stream",
     "text": [
      "\r",
      " 34%|██████████████████████████▏                                                   | 218/650 [21:53<1:14:54, 10.40s/it]"
     ]
    },
    {
     "name": "stdout",
     "output_type": "stream",
     "text": [
      "Globulin was 1.6 , uric acid was 6.5 , alkaline phosphatase 150 , SGPT 11 , SGOT 85 , LDH 524 , CK 152 , NH3 81 .  -  218\n"
     ]
    },
    {
     "name": "stderr",
     "output_type": "stream",
     "text": [
      "\r",
      " 34%|██████████████████████████▎                                                   | 219/650 [21:59<1:05:46,  9.16s/it]"
     ]
    },
    {
     "name": "stdout",
     "output_type": "stream",
     "text": [
      "We can go up by 25 mg on the fentanyl patch as needed to control her pain and we can always go up on the dilaudid because she is still in considerable amount of pain .  -  219\n"
     ]
    },
    {
     "name": "stderr",
     "output_type": "stream",
     "text": [
      "\r",
      " 34%|██████████████████████████▍                                                   | 220/650 [22:07<1:03:34,  8.87s/it]"
     ]
    },
    {
     "name": "stdout",
     "output_type": "stream",
     "text": [
      "Echocardiogram in 2016-09-16 , with preserved ejection fraction of 60 percent with trivial mitral regurgitation and mild left atrial enlargement .  -  220\n"
     ]
    },
    {
     "name": "stderr",
     "output_type": "stream",
     "text": [
      "\r",
      " 34%|███████████████████████████▏                                                    | 221/650 [22:12<54:42,  7.65s/it]"
     ]
    },
    {
     "name": "stdout",
     "output_type": "stream",
     "text": [
      "Tricuspid insufficiency , atrial fibrillation , congestive heart failure , chronic obstructive pulmonary disease , pulmonary hypertension .   -  221\n"
     ]
    },
    {
     "name": "stderr",
     "output_type": "stream",
     "text": [
      "\r",
      " 34%|███████████████████████████▎                                                    | 222/650 [22:16<46:53,  6.57s/it]"
     ]
    },
    {
     "name": "stdout",
     "output_type": "stream",
     "text": [
      "The cultures grew out enterobacter cloacae .  -  222\n"
     ]
    },
    {
     "name": "stderr",
     "output_type": "stream",
     "text": [
      "\r",
      " 34%|███████████████████████████▍                                                    | 223/650 [22:18<36:05,  5.07s/it]"
     ]
    },
    {
     "name": "stdout",
     "output_type": "stream",
     "text": [
      "Given his recent MRSA pneumonia , he will be treated with 2 week course of Vanc / Levo / Flagyl .  -  223\n"
     ]
    },
    {
     "name": "stderr",
     "output_type": "stream",
     "text": [
      "\r",
      " 34%|███████████████████████████▌                                                    | 224/650 [22:22<35:05,  4.94s/it]"
     ]
    },
    {
     "name": "stdout",
     "output_type": "stream",
     "text": [
      "Tenormin 50 mg bid , Valium 5 mg bid to tid , Premarin 0.625 mg qd , Provera 2.5 mg qod , Desyrel 50 mg qhs .  -  224\n"
     ]
    },
    {
     "name": "stderr",
     "output_type": "stream",
     "text": [
      "\r",
      " 35%|███████████████████████████▋                                                    | 225/650 [22:28<37:15,  5.26s/it]"
     ]
    },
    {
     "name": "stdout",
     "output_type": "stream",
     "text": [
      "At this time , it was believed that her clot was due to a rupture of this parathyroid adenoma .  -  225\n"
     ]
    },
    {
     "name": "stderr",
     "output_type": "stream",
     "text": [
      "\r",
      " 35%|███████████████████████████▊                                                    | 226/650 [22:33<35:36,  5.04s/it]"
     ]
    },
    {
     "name": "stdout",
     "output_type": "stream",
     "text": [
      "On admission he had no upper respiratory tract symptoms , recent infections , chest pain , shortness of breath , nausea or vomiting , change in bowel habits or abdomen pain .  -  226\n"
     ]
    },
    {
     "name": "stderr",
     "output_type": "stream",
     "text": [
      "\r",
      " 35%|███████████████████████████▉                                                    | 227/650 [22:40<40:17,  5.72s/it]"
     ]
    },
    {
     "name": "stdout",
     "output_type": "stream",
     "text": [
      "Briefly , this 68 year old male with a history of coronary artery disease , diabetes mellitus , peripheral vascular disease , was admitted originally to the Podiatry Service for a left patellar mid-foot ulcer .  -  227\n"
     ]
    },
    {
     "name": "stderr",
     "output_type": "stream",
     "text": [
      "\r",
      " 35%|████████████████████████████                                                    | 228/650 [22:48<45:24,  6.46s/it]"
     ]
    },
    {
     "name": "stdout",
     "output_type": "stream",
     "text": [
      "The patient was made comfortable with morphine for pain and for air hunger , and sinus suctioning was continued to relieve congestion , in conjunction with continuation of nasal sprays .  -  228\n"
     ]
    },
    {
     "name": "stderr",
     "output_type": "stream",
     "text": [
      "\r",
      " 35%|████████████████████████████▏                                                   | 229/650 [22:55<46:17,  6.60s/it]"
     ]
    },
    {
     "name": "stdout",
     "output_type": "stream",
     "text": [
      "Vitals : T 98.9 , BP 148/70 , HR 57 , RR 20 , SAT 95 on room air  -  229\n"
     ]
    },
    {
     "name": "stderr",
     "output_type": "stream",
     "text": [
      "\r",
      " 35%|████████████████████████████▎                                                   | 230/650 [22:59<41:18,  5.90s/it]"
     ]
    },
    {
     "name": "stdout",
     "output_type": "stream",
     "text": [
      "TLC , TIB and blood culture were all negative .  -  230\n"
     ]
    },
    {
     "name": "stderr",
     "output_type": "stream",
     "text": [
      "\r",
      " 36%|████████████████████████████▍                                                   | 231/650 [23:02<33:36,  4.81s/it]"
     ]
    },
    {
     "name": "stdout",
     "output_type": "stream",
     "text": [
      "Exam notable for hyperactive bowel sounds with abd distention and tenderness to palpation at LLQ and RLQ .  -  231\n"
     ]
    },
    {
     "name": "stderr",
     "output_type": "stream",
     "text": [
      "\r",
      " 36%|████████████████████████████▌                                                   | 232/650 [23:06<31:54,  4.58s/it]"
     ]
    },
    {
     "name": "stdout",
     "output_type": "stream",
     "text": [
      "She spiked a fever to 103 with blood pressures hypertensive into the systolic 80 s and with rigors .  -  232\n"
     ]
    },
    {
     "name": "stderr",
     "output_type": "stream",
     "text": [
      "\r",
      " 36%|████████████████████████████▋                                                   | 233/650 [23:10<31:23,  4.52s/it]"
     ]
    },
    {
     "name": "stdout",
     "output_type": "stream",
     "text": [
      "The patient &apos;s rhythm degenerated to ventricular tachycardia and he was shocked , initially without response but after several doses of Epinephine , one-half mg. of Atropine and a bolus of Lidocaine we were able to obtain a blood pressure and rhythm only briefly , and quickly deteriorated back to ventricular fibrillation .  -  233\n"
     ]
    },
    {
     "name": "stderr",
     "output_type": "stream",
     "text": [
      "\r",
      " 36%|████████████████████████████▊                                                   | 234/650 [23:22<46:33,  6.72s/it]"
     ]
    },
    {
     "name": "stdout",
     "output_type": "stream",
     "text": [
      "2019-04-07 06:00 AM BLOOD WBC - 3.2 *# RBC - 3.14 * Hgb - 10.0 * Hct - 28.9 * MCV - 92 MCH - 32.0 MCHC - 34.8 RDW - 14.1 Plt Ct - 82 *#  -  234\n"
     ]
    },
    {
     "name": "stderr",
     "output_type": "stream",
     "text": [
      "\r",
      " 36%|████████████████████████████▉                                                   | 235/650 [23:30<49:25,  7.15s/it]"
     ]
    },
    {
     "name": "stdout",
     "output_type": "stream",
     "text": [
      "Cardiac catheterization showed an ejection fraction of 50% , left ventricular end diastolic pressure of 20 , 90% left anterior descending lesion , 80% left circumflex lesion , 80% mid right coronary artery lesion and 80% distal right coronary artery lesion .  -  235\n"
     ]
    },
    {
     "name": "stderr",
     "output_type": "stream",
     "text": [
      "\r",
      " 36%|█████████████████████████████                                                   | 236/650 [23:39<53:28,  7.75s/it]"
     ]
    },
    {
     "name": "stdout",
     "output_type": "stream",
     "text": [
      "A/P - 83yo F with valvular disorder , AF , and h/o CAD a/w hypercarbic respiratory failure .  -  236\n"
     ]
    },
    {
     "name": "stderr",
     "output_type": "stream",
     "text": [
      "\r",
      " 36%|█████████████████████████████▏                                                  | 237/650 [23:43<45:30,  6.61s/it]"
     ]
    },
    {
     "name": "stdout",
     "output_type": "stream",
     "text": [
      "Neurontin , Keppra , Lamictal , decadron , multivitamin , Murray , Calcium  -  237\n"
     ]
    },
    {
     "name": "stderr",
     "output_type": "stream",
     "text": [
      "\r",
      " 37%|█████████████████████████████▎                                                  | 238/650 [23:46<37:47,  5.50s/it]"
     ]
    },
    {
     "name": "stdout",
     "output_type": "stream",
     "text": [
      "Conditions , Infections , Complications , affecting Treatment / Stay Allergies - PCN - rash - Bactrim - hives - Erythro - nausea - Ceclor - nausea - Clarythro = rash  -  238\n"
     ]
    },
    {
     "name": "stderr",
     "output_type": "stream",
     "text": [
      "\r",
      " 37%|█████████████████████████████▍                                                  | 239/650 [23:53<40:52,  5.97s/it]"
     ]
    },
    {
     "name": "stdout",
     "output_type": "stream",
     "text": [
      "Residual deficits include right side facial droop from previous stroke and moderately severe dysarthria and anterior aphasia with word finding difficulties .  -  239\n"
     ]
    },
    {
     "name": "stderr",
     "output_type": "stream",
     "text": [
      "\r",
      " 37%|█████████████████████████████▌                                                  | 240/650 [23:58<38:42,  5.67s/it]"
     ]
    },
    {
     "name": "stdout",
     "output_type": "stream",
     "text": [
      "17. Ibuprofen 600 mg Tablet Sig : One ( 1 ) Tablet PO Q8H ( every 8 hours ) as needed for pain .  -  240\n"
     ]
    },
    {
     "name": "stderr",
     "output_type": "stream",
     "text": [
      "\r",
      " 37%|█████████████████████████████▋                                                  | 241/650 [24:04<38:08,  5.60s/it]"
     ]
    },
    {
     "name": "stdout",
     "output_type": "stream",
     "text": [
      "WBC - 8.9 RBC - 3.93 * HGB - 12.1 * HCT - 36.7 * MCV - 93 MCH - 30.8 MCHC - 33.0 RDW - 13.0  -  241\n"
     ]
    },
    {
     "name": "stderr",
     "output_type": "stream",
     "text": [
      "\r",
      " 37%|█████████████████████████████▊                                                  | 242/650 [24:10<38:58,  5.73s/it]"
     ]
    },
    {
     "name": "stdout",
     "output_type": "stream",
     "text": [
      "Additional assay shows slight widening of the mediastinum on chest x-ray .  -  242\n"
     ]
    },
    {
     "name": "stderr",
     "output_type": "stream",
     "text": [
      "\r",
      " 37%|█████████████████████████████▉                                                  | 243/650 [24:12<32:47,  4.84s/it]"
     ]
    },
    {
     "name": "stdout",
     "output_type": "stream",
     "text": [
      "The sodium was 142 ; potassium 4.5 ; chloride 105 ; bicarbonate 27 ; BUN and creatinine 31 and 1.3 ; glucose 107 ; total protein 7.7 ; albumin 3.2 ; globulin 4.5 ; uric acid 4.2 ; alkaline phosphatase 114 ; serum glutamic oxaloacetic transaminase 46 ; lactic acid dehydrogenase 370 ; white blood count 11,000 with 83 polymorphonuclear leukocytes ; hematocrit 42 ; platelet count 227,000 .  -  243\n"
     ]
    },
    {
     "name": "stderr",
     "output_type": "stream",
     "text": [
      "\r",
      " 38%|██████████████████████████████                                                  | 244/650 [24:28<53:58,  7.98s/it]"
     ]
    },
    {
     "name": "stdout",
     "output_type": "stream",
     "text": [
      "2019-04-15 09:25 AM BLOOD Glucose - 134 * UreaN - 19 Creat - 0.8 Na - 135 K - 3.5 Cl - 100 HCO3 - 28 AnGap - 11  -  244\n"
     ]
    },
    {
     "name": "stderr",
     "output_type": "stream",
     "text": [
      "\r",
      " 38%|██████████████████████████████▏                                                 | 245/650 [24:34<51:00,  7.56s/it]"
     ]
    },
    {
     "name": "stdout",
     "output_type": "stream",
     "text": [
      "5. Immunizations received: The infant has not received any immunizations at this time .  -  245\n"
     ]
    },
    {
     "name": "stderr",
     "output_type": "stream",
     "text": [
      "\r",
      " 38%|██████████████████████████████▎                                                 | 246/650 [24:37<41:53,  6.22s/it]"
     ]
    },
    {
     "name": "stdout",
     "output_type": "stream",
     "text": [
      "The patient was monitored for symptoms of Flolan therapy including nausea , vomiting , first bite jaw claudication , or hypotension .  -  246\n"
     ]
    },
    {
     "name": "stderr",
     "output_type": "stream",
     "text": [
      "\r",
      " 38%|██████████████████████████████▍                                                 | 247/650 [24:42<39:11,  5.84s/it]"
     ]
    },
    {
     "name": "stdout",
     "output_type": "stream",
     "text": [
      "Throughout admission , hematemesis flow decreased while on PPI and clear liquids .  -  247\n"
     ]
    },
    {
     "name": "stderr",
     "output_type": "stream",
     "text": [
      "\r",
      " 38%|██████████████████████████████▌                                                 | 248/650 [24:45<33:09,  4.95s/it]"
     ]
    },
    {
     "name": "stdout",
     "output_type": "stream",
     "text": [
      "Electrolytes and thyroid studies were noted to be in the normal range with serum sodium of 136 , potassium 4.7 , chloride 98 and CO2 34 .  -  248\n"
     ]
    },
    {
     "name": "stderr",
     "output_type": "stream",
     "text": [
      "\r",
      " 38%|██████████████████████████████▋                                                 | 249/650 [24:51<35:10,  5.26s/it]"
     ]
    },
    {
     "name": "stdout",
     "output_type": "stream",
     "text": [
      "He denies orthopnea , edema , paroxysmal nocturnal dyspnea , diaphoresis , claudication .  -  249\n"
     ]
    },
    {
     "name": "stderr",
     "output_type": "stream",
     "text": [
      "\r",
      " 38%|██████████████████████████████▊                                                 | 250/650 [24:54<30:46,  4.62s/it]"
     ]
    },
    {
     "name": "stdout",
     "output_type": "stream",
     "text": [
      "2018-08-02 04:40 PM BLOOD WBC - 3.2 * RBC - 2.49 *# Hgb - 8.4 *# Hct - 24.5 *# MCV - 98 MCH - 33.7 * MCHC - 34.3 RDW - 18.5 * Plt Ct - 69 *  -  250\n"
     ]
    },
    {
     "name": "stderr",
     "output_type": "stream",
     "text": [
      "\r",
      " 39%|██████████████████████████████▉                                                 | 251/650 [25:03<38:46,  5.83s/it]"
     ]
    },
    {
     "name": "stdout",
     "output_type": "stream",
     "text": [
      "The patient is a 49 year old woman with a metastatic adenocarcinoma of the breast who is status post high dose chemotherapy with PBSE and CCSS support ending June 1994 .  -  251\n"
     ]
    },
    {
     "name": "stderr",
     "output_type": "stream",
     "text": [
      "\r",
      " 39%|███████████████████████████████                                                 | 252/650 [25:10<41:04,  6.19s/it]"
     ]
    },
    {
     "name": "stdout",
     "output_type": "stream",
     "text": [
      "1. Nonischemic dilated cardiomyopathy with an ejection fraction of 15-20% .  -  252\n"
     ]
    },
    {
     "name": "stderr",
     "output_type": "stream",
     "text": [
      "\r",
      " 39%|███████████████████████████████▏                                                | 253/650 [25:13<33:48,  5.11s/it]"
     ]
    },
    {
     "name": "stdout",
     "output_type": "stream",
     "text": [
      "No pneumatosis or free air was seen .  -  253\n"
     ]
    },
    {
     "name": "stderr",
     "output_type": "stream",
     "text": [
      "\r",
      " 39%|███████████████████████████████▎                                                | 254/650 [25:14<27:19,  4.14s/it]"
     ]
    },
    {
     "name": "stdout",
     "output_type": "stream",
     "text": [
      "The patient continued to do well on the medical regimen and was without chest pain , shortness of breath , or any other symptoms .  -  254\n"
     ]
    },
    {
     "name": "stderr",
     "output_type": "stream",
     "text": [
      "\r",
      " 39%|███████████████████████████████▍                                                | 255/650 [25:20<30:07,  4.57s/it]"
     ]
    },
    {
     "name": "stdout",
     "output_type": "stream",
     "text": [
      "Iron studies included a ferritin of 607 , an iron of 10 , and a TIBC of 239 .  -  255\n"
     ]
    },
    {
     "name": "stderr",
     "output_type": "stream",
     "text": [
      "\r",
      " 39%|███████████████████████████████▌                                                | 256/650 [25:24<29:21,  4.47s/it]"
     ]
    },
    {
     "name": "stdout",
     "output_type": "stream",
     "text": [
      "Over the ensuing twenty-four hours , bilateral infiltrates on chest X-ray with poor oxygenation and labile blood pressure requiring PA line guided fluid and pressors developed .  -  256\n"
     ]
    },
    {
     "name": "stderr",
     "output_type": "stream",
     "text": [
      "\r",
      " 40%|███████████████████████████████▋                                                | 257/650 [25:30<32:22,  4.94s/it]"
     ]
    },
    {
     "name": "stdout",
     "output_type": "stream",
     "text": [
      "White blood cell count 16.9 , hematocrit 32.2 , platelet count 418 , sodium 131 , potassium 3.4 , chloride 102 , bicarbonate 21.4 , BUN27 , creatinine 1.4 , glucose 150 .  -  257\n"
     ]
    },
    {
     "name": "stderr",
     "output_type": "stream",
     "text": [
      "\r",
      " 40%|███████████████████████████████▊                                                | 258/650 [25:38<36:58,  5.66s/it]"
     ]
    },
    {
     "name": "stdout",
     "output_type": "stream",
     "text": [
      "Immunostains for cytokeratin AE1/3 and CAM 5.2 , CD-68 , CD-79a , CD-138 , S-100 , LCA absorbed CEA , EMA , CD34 , CD31 , TTF-1 , actin , desmin , MNF-116 , calcitonin , and thyroglobulin are negative .  -  258\n"
     ]
    },
    {
     "name": "stderr",
     "output_type": "stream",
     "text": [
      "\r",
      " 40%|███████████████████████████████▉                                                | 259/650 [25:47<43:31,  6.68s/it]"
     ]
    },
    {
     "name": "stdout",
     "output_type": "stream",
     "text": [
      "While in the ICU he developed seizures , requiring large amounts of intravenous Valium to break his seizures , and he was maintained on Tegretol and Dilantin .  -  259\n"
     ]
    },
    {
     "name": "stderr",
     "output_type": "stream",
     "text": [
      "\r",
      " 40%|████████████████████████████████                                                | 260/650 [25:53<42:20,  6.52s/it]"
     ]
    },
    {
     "name": "stdout",
     "output_type": "stream",
     "text": [
      "There is no interval loss of focal gray - white matter differentiation to suggest acute infarction , though CT is not sensitive in the early stages .  -  260\n"
     ]
    },
    {
     "name": "stderr",
     "output_type": "stream",
     "text": [
      "\r",
      " 40%|████████████████████████████████                                                | 261/650 [25:59<41:19,  6.37s/it]"
     ]
    },
    {
     "name": "stdout",
     "output_type": "stream",
     "text": [
      "On postop day 9 , bilateral upper extremity Dopplers revealed a right IJ clot .  -  261\n"
     ]
    },
    {
     "name": "stderr",
     "output_type": "stream",
     "text": [
      "\r",
      " 40%|████████████████████████████████▏                                               | 262/650 [26:02<35:25,  5.48s/it]"
     ]
    },
    {
     "name": "stdout",
     "output_type": "stream",
     "text": [
      "With the history of DVT , we plan Coumadin and check her coags .  -  262\n"
     ]
    },
    {
     "name": "stderr",
     "output_type": "stream",
     "text": [
      "\r",
      " 40%|████████████████████████████████▎                                               | 263/650 [26:05<30:57,  4.80s/it]"
     ]
    },
    {
     "name": "stdout",
     "output_type": "stream",
     "text": [
      "Cardiovascular examination demonstrated a regular rate and rhythm with 2/6 cresendo / descrecendo murmur heard best at the apex with preservation of the second heart sound , no S3 or S4 .  -  263\n"
     ]
    },
    {
     "name": "stderr",
     "output_type": "stream",
     "text": [
      "\r",
      " 41%|████████████████████████████████▍                                               | 264/650 [26:13<35:43,  5.55s/it]"
     ]
    },
    {
     "name": "stdout",
     "output_type": "stream",
     "text": [
      "Calcium - 7.4* Phos - 3.6 Mg - 2.2  -  264\n"
     ]
    },
    {
     "name": "stderr",
     "output_type": "stream",
     "text": [
      "\r",
      " 41%|████████████████████████████████▌                                               | 265/650 [26:15<28:54,  4.50s/it]"
     ]
    },
    {
     "name": "stdout",
     "output_type": "stream",
     "text": [
      "2016-12-15 03:31 PM BLOOD WBC - 6.2 RBC - 3.82 * Hgb - 12.2 Hct - 34.5 * MCV - 91 MCH - 32.0 MCHC - 35.4 * RDW - 12.7 Plt Ct - 246  -  265\n"
     ]
    },
    {
     "name": "stderr",
     "output_type": "stream",
     "text": [
      "\r",
      " 41%|████████████████████████████████▋                                               | 266/650 [26:23<35:20,  5.52s/it]"
     ]
    },
    {
     "name": "stdout",
     "output_type": "stream",
     "text": [
      "He also started treatment for gallstones with cholestasis on the medication ursodiol .  -  266\n"
     ]
    },
    {
     "name": "stderr",
     "output_type": "stream",
     "text": [
      "\r",
      " 41%|████████████████████████████████▊                                               | 267/650 [26:26<30:15,  4.74s/it]"
     ]
    },
    {
     "name": "stdout",
     "output_type": "stream",
     "text": [
      "CBC - White count 7.5 , hematocrit 28.5 , platelets 452 .  -  267\n"
     ]
    },
    {
     "name": "stderr",
     "output_type": "stream",
     "text": [
      "\r",
      " 41%|████████████████████████████████▉                                               | 268/650 [26:28<26:14,  4.12s/it]"
     ]
    },
    {
     "name": "stdout",
     "output_type": "stream",
     "text": [
      "Creatinine 0.6 , SGOT 52 , bilirubin 0.5 .  -  268\n"
     ]
    },
    {
     "name": "stderr",
     "output_type": "stream",
     "text": [
      "\r",
      " 41%|█████████████████████████████████                                               | 269/650 [26:30<22:07,  3.48s/it]"
     ]
    },
    {
     "name": "stdout",
     "output_type": "stream",
     "text": [
      "However , tube placement was complicated by renal artery puncture , afib , and increased dyspnea .  -  269\n"
     ]
    },
    {
     "name": "stderr",
     "output_type": "stream",
     "text": [
      "\r",
      " 42%|█████████████████████████████████▏                                              | 270/650 [26:34<22:35,  3.57s/it]"
     ]
    },
    {
     "name": "stdout",
     "output_type": "stream",
     "text": [
      "The patient also now complains of increased right upper quadrant / right rib cage pain and new headache .  -  270\n"
     ]
    },
    {
     "name": "stderr",
     "output_type": "stream",
     "text": [
      "\r",
      " 42%|█████████████████████████████████▎                                              | 271/650 [26:38<23:51,  3.78s/it]"
     ]
    },
    {
     "name": "stdout",
     "output_type": "stream",
     "text": [
      "THere was a question of ionfiltrative cardiomyopathy , and the patient underwent abdominal fat pad biopsy to assess for amyloidosis .  -  271\n"
     ]
    },
    {
     "name": "stderr",
     "output_type": "stream",
     "text": [
      "\r",
      " 42%|█████████████████████████████████▍                                              | 272/650 [26:43<25:33,  4.06s/it]"
     ]
    },
    {
     "name": "stdout",
     "output_type": "stream",
     "text": [
      "In the Intensive Care Unit the patient was kept intubated and sedated until 09/02/98 which was postoperative day no. 1 following the homograft replacement .  -  272\n"
     ]
    },
    {
     "name": "stderr",
     "output_type": "stream",
     "text": [
      "\r",
      " 42%|█████████████████████████████████▌                                              | 273/650 [26:49<28:09,  4.48s/it]"
     ]
    },
    {
     "name": "stdout",
     "output_type": "stream",
     "text": [
      "Given that the patient had been maintaining a MAP of 60 without fluids or pressors , her goal CVP was decreased to >8 to avoid fluid overload .  -  273\n"
     ]
    },
    {
     "name": "stderr",
     "output_type": "stream",
     "text": [
      "\r",
      " 42%|█████████████████████████████████▋                                              | 274/650 [26:55<31:26,  5.02s/it]"
     ]
    },
    {
     "name": "stdout",
     "output_type": "stream",
     "text": [
      "14. Colon cancer status post colectomy with XRT four years ago .  -  274\n"
     ]
    },
    {
     "name": "stderr",
     "output_type": "stream",
     "text": [
      "\r",
      " 42%|█████████████████████████████████▊                                              | 275/650 [26:58<27:02,  4.33s/it]"
     ]
    },
    {
     "name": "stdout",
     "output_type": "stream",
     "text": [
      "Distant peptic ulcer disease , thumb and middle finger lost secondary to lawnmower accident at age five years , no peripheral vascular disease .  -  275\n"
     ]
    },
    {
     "name": "stderr",
     "output_type": "stream",
     "text": [
      "\r",
      " 42%|█████████████████████████████████▉                                              | 276/650 [27:03<29:07,  4.67s/it]"
     ]
    },
    {
     "name": "stdout",
     "output_type": "stream",
     "text": [
      "12. Insulin 45 NPH in am with 33 NPH at bedtime  -  276\n"
     ]
    },
    {
     "name": "stderr",
     "output_type": "stream",
     "text": [
      "\r",
      " 43%|██████████████████████████████████                                              | 277/650 [27:06<25:07,  4.04s/it]"
     ]
    },
    {
     "name": "stdout",
     "output_type": "stream",
     "text": [
      "An echocardiogram obtained at Oaksgekesser/ Memorial Hospital obtained as a transthoracic echocardiogram showed an ejection fraction of 33% , wall thickness 12 mms at the septum , posterior wall 11 mms. , left atrial size 40 mms .  -  277\n"
     ]
    },
    {
     "name": "stderr",
     "output_type": "stream",
     "text": [
      "\r",
      " 43%|██████████████████████████████████▏                                             | 278/650 [27:14<33:35,  5.42s/it]"
     ]
    },
    {
     "name": "stdout",
     "output_type": "stream",
     "text": [
      "In the ICU the pt remained stuporous , responsive to painful stimuli .  -  278\n"
     ]
    },
    {
     "name": "stderr",
     "output_type": "stream",
     "text": [
      "\r",
      " 43%|██████████████████████████████████▎                                             | 279/650 [27:17<28:58,  4.69s/it]"
     ]
    },
    {
     "name": "stdout",
     "output_type": "stream",
     "text": [
      "Unfortunately throughout her admission , we were unable to test any more titers since she was receiving daily plasma exchange .  -  279\n"
     ]
    },
    {
     "name": "stderr",
     "output_type": "stream",
     "text": [
      "\r",
      " 43%|██████████████████████████████████▍                                             | 280/650 [27:22<28:52,  4.68s/it]"
     ]
    },
    {
     "name": "stdout",
     "output_type": "stream",
     "text": [
      "He remained unresponsive despite the administration of Narcan .  -  280\n"
     ]
    },
    {
     "name": "stderr",
     "output_type": "stream",
     "text": [
      "\r",
      " 43%|██████████████████████████████████▌                                             | 281/650 [27:24<23:48,  3.87s/it]"
     ]
    },
    {
     "name": "stdout",
     "output_type": "stream",
     "text": [
      "Endoscopy never revealed specific sources of bleeding , although he appeared to have a diffuse duodenitis .  -  281\n"
     ]
    },
    {
     "name": "stderr",
     "output_type": "stream",
     "text": [
      "\r",
      " 43%|██████████████████████████████████▋                                             | 282/650 [27:28<23:32,  3.84s/it]"
     ]
    },
    {
     "name": "stdout",
     "output_type": "stream",
     "text": [
      "9. Diabetes mellitus , on oral medications  -  282\n"
     ]
    },
    {
     "name": "stderr",
     "output_type": "stream",
     "text": [
      "\r",
      " 44%|██████████████████████████████████▊                                             | 283/650 [27:29<19:18,  3.16s/it]"
     ]
    },
    {
     "name": "stdout",
     "output_type": "stream",
     "text": [
      "On serial exams by neurology and ICU attendings in the morning on 2013-11-12 , patient had no clinical signs of brainstem activity .  -  283\n"
     ]
    },
    {
     "name": "stderr",
     "output_type": "stream",
     "text": [
      "\r",
      " 44%|██████████████████████████████████▉                                             | 284/650 [27:34<22:54,  3.76s/it]"
     ]
    },
    {
     "name": "stdout",
     "output_type": "stream",
     "text": [
      "The patient denies shortness of breath , chest pain , orthopnea , no dysuria , hematuria , no visual changes , no rashes , no blurry vision .  -  284\n"
     ]
    },
    {
     "name": "stderr",
     "output_type": "stream",
     "text": [
      "\r",
      " 44%|███████████████████████████████████                                             | 285/650 [27:41<27:35,  4.54s/it]"
     ]
    },
    {
     "name": "stdout",
     "output_type": "stream",
     "text": [
      "The bilirubin was 0.2 , SGOT 20 , magnesium of 1.4 .  -  285\n"
     ]
    },
    {
     "name": "stderr",
     "output_type": "stream",
     "text": [
      "\r",
      " 44%|███████████████████████████████████▏                                            | 286/650 [27:43<24:15,  4.00s/it]"
     ]
    },
    {
     "name": "stdout",
     "output_type": "stream",
     "text": [
      "The patient was seen in consultation by Dr. Wire who felt that manipulation of the tracheal tube was the best approach to the air leak since it was a new trach and he was requiring such high ventilator support that it was risky to change it .  -  286\n"
     ]
    },
    {
     "name": "stderr",
     "output_type": "stream",
     "text": [
      "\r",
      " 44%|███████████████████████████████████▎                                            | 287/650 [27:54<35:53,  5.93s/it]"
     ]
    },
    {
     "name": "stdout",
     "output_type": "stream",
     "text": [
      "WBC - 3.0 * RBC - 2.25 * HGB - 7.2 * HCT - 20.9 * MCV - 93 MCH - 31.8 MCHC - 34.3 RDW - 14.7  -  287\n"
     ]
    },
    {
     "name": "stderr",
     "output_type": "stream",
     "text": [
      "\r",
      " 44%|███████████████████████████████████▍                                            | 288/650 [28:00<36:14,  6.01s/it]"
     ]
    },
    {
     "name": "stdout",
     "output_type": "stream",
     "text": [
      "Chem-7 notable for potassium of 3.2 and bicarbonate of 30 .  -  288\n"
     ]
    },
    {
     "name": "stderr",
     "output_type": "stream",
     "text": [
      "\r",
      " 44%|███████████████████████████████████▌                                            | 289/650 [28:03<29:53,  4.97s/it]"
     ]
    },
    {
     "name": "stdout",
     "output_type": "stream",
     "text": [
      "At this time , his head CT was negative , and he was treated with Dilantin and Phenobarbital .  -  289\n"
     ]
    },
    {
     "name": "stderr",
     "output_type": "stream",
     "text": [
      "\r",
      " 45%|███████████████████████████████████▋                                            | 290/650 [28:07<28:41,  4.78s/it]"
     ]
    },
    {
     "name": "stdout",
     "output_type": "stream",
     "text": [
      "2013-03-27 02:25 AM PT - 13.2 * PTT - 22.9 INR(PT) - 1.2 *  -  290\n"
     ]
    },
    {
     "name": "stderr",
     "output_type": "stream",
     "text": [
      "\r",
      " 45%|███████████████████████████████████▊                                            | 291/650 [28:10<25:39,  4.29s/it]"
     ]
    },
    {
     "name": "stdout",
     "output_type": "stream",
     "text": [
      "He sustained left humerus fracture and left tib-fib fracture .  -  291\n"
     ]
    },
    {
     "name": "stderr",
     "output_type": "stream",
     "text": [
      "\r",
      " 45%|███████████████████████████████████▉                                            | 292/650 [28:12<21:58,  3.68s/it]"
     ]
    },
    {
     "name": "stdout",
     "output_type": "stream",
     "text": [
      "Pulmonary felt this was consistent also with lymphangitic spread and they did not feel that a bronchoscopy would be of any assistance at this time .  -  292\n"
     ]
    },
    {
     "name": "stderr",
     "output_type": "stream",
     "text": [
      "\r",
      " 45%|████████████████████████████████████                                            | 293/650 [28:18<25:51,  4.35s/it]"
     ]
    },
    {
     "name": "stdout",
     "output_type": "stream",
     "text": [
      "Daycare during RSV season , a smoker in the household , neuromuscular disease , airway abnormalities or school age sibling , or 3 with chronic lung disease .  -  293\n"
     ]
    },
    {
     "name": "stderr",
     "output_type": "stream",
     "text": [
      "\r",
      " 45%|████████████████████████████████████▏                                           | 294/650 [28:25<29:14,  4.93s/it]"
     ]
    },
    {
     "name": "stdout",
     "output_type": "stream",
     "text": [
      "Temperature 96.9 F , pulse 84 , respiratory rate 18 , blood pressure 106/59 .  -  294\n"
     ]
    },
    {
     "name": "stderr",
     "output_type": "stream",
     "text": [
      "\r",
      " 45%|████████████████████████████████████▎                                           | 295/650 [28:28<26:16,  4.44s/it]"
     ]
    },
    {
     "name": "stdout",
     "output_type": "stream",
     "text": [
      "The cardiac catheterization revealed a total occlusion of the proximal right coronary artery and diffuse right coronary artery disease .  -  295\n"
     ]
    },
    {
     "name": "stderr",
     "output_type": "stream",
     "text": [
      "\r",
      " 46%|████████████████████████████████████▍                                           | 296/650 [28:32<26:11,  4.44s/it]"
     ]
    },
    {
     "name": "stdout",
     "output_type": "stream",
     "text": [
      "CAT scan was performed on 2013-09-20 at Kindred Park View Specialty Hospital of Springfield , which revealed that she had a recurrence of the tumor with occlusion of her portal vein occluding bile ducts , hepatic artery nearly completely occluded , and much ascites and was started on diuretics .  -  296\n"
     ]
    },
    {
     "name": "stderr",
     "output_type": "stream",
     "text": [
      "\r",
      " 46%|████████████████████████████████████▌                                           | 297/650 [28:43<38:07,  6.48s/it]"
     ]
    },
    {
     "name": "stdout",
     "output_type": "stream",
     "text": [
      "The patient is very limited in how much she can do right now because of her pain primarily and her difficulty breathing .  -  297\n"
     ]
    },
    {
     "name": "stderr",
     "output_type": "stream",
     "text": [
      "\r",
      " 46%|████████████████████████████████████▋                                           | 298/650 [28:49<35:37,  6.07s/it]"
     ]
    },
    {
     "name": "stdout",
     "output_type": "stream",
     "text": [
      "The patient went to his nursing home on 7-9-91 but the next day he developed a temperature to 102.4 degrees , diarrhea , and orthostasis and he was transferred back to Gaanvantsir .  -  298\n"
     ]
    },
    {
     "name": "stderr",
     "output_type": "stream",
     "text": [
      "\r",
      " 46%|████████████████████████████████████▊                                           | 299/650 [28:56<37:35,  6.43s/it]"
     ]
    },
    {
     "name": "stdout",
     "output_type": "stream",
     "text": [
      "The MRA of the intracranial circulation demonstrated gross patency of the internal carotid arteries bilaterally and the basilar arteries .  -  299\n"
     ]
    },
    {
     "name": "stderr",
     "output_type": "stream",
     "text": [
      "\r",
      " 46%|████████████████████████████████████▉                                           | 300/650 [29:00<34:00,  5.83s/it]"
     ]
    },
    {
     "name": "stdout",
     "output_type": "stream",
     "text": [
      "The rhythm revealed sinus tachycardia with no palpable or measurable blood pressure .  -  300\n"
     ]
    },
    {
     "name": "stderr",
     "output_type": "stream",
     "text": [
      "\r",
      " 46%|█████████████████████████████████████                                           | 301/650 [29:03<28:56,  4.98s/it]"
     ]
    },
    {
     "name": "stdout",
     "output_type": "stream",
     "text": [
      "Residual deficits include right side facial droop from previous stroke and moderately severe dysarthria and anterior aphasia with word finding difficulties .  -  301\n"
     ]
    },
    {
     "name": "stderr",
     "output_type": "stream",
     "text": [
      "\r",
      " 46%|█████████████████████████████████████▏                                          | 302/650 [29:09<29:52,  5.15s/it]"
     ]
    },
    {
     "name": "stdout",
     "output_type": "stream",
     "text": [
      "2014-01-20 05:30 AM BLOOD Neuts - 82.6 * Lymphs - 14.5 * Monos - 2.2 Eos - 0.2 Baso - 0.4  -  302\n"
     ]
    },
    {
     "name": "stderr",
     "output_type": "stream",
     "text": [
      "\r",
      " 47%|█████████████████████████████████████▎                                          | 303/650 [29:14<29:35,  5.12s/it]"
     ]
    },
    {
     "name": "stdout",
     "output_type": "stream",
     "text": [
      "Evaluation in the emergency room revealed the patient to be stable and he was evaluated by ophthalmology who also felt that the patient had no injury to his eyes .  -  303\n"
     ]
    },
    {
     "name": "stderr",
     "output_type": "stream",
     "text": [
      "\r",
      " 47%|█████████████████████████████████████▍                                          | 304/650 [29:21<32:33,  5.65s/it]"
     ]
    },
    {
     "name": "stdout",
     "output_type": "stream",
     "text": [
      "3) MS change - on admission pt was agitated , requiring restraints and antipsychotics , however as he became increasingly hypoxic he became somnolent .  -  304\n"
     ]
    },
    {
     "name": "stderr",
     "output_type": "stream",
     "text": [
      "\r",
      " 47%|█████████████████████████████████████▌                                          | 305/650 [29:26<32:31,  5.66s/it]"
     ]
    },
    {
     "name": "stdout",
     "output_type": "stream",
     "text": [
      "s/p stroke : continue aspirin , statin , plavix  -  305\n"
     ]
    },
    {
     "name": "stderr",
     "output_type": "stream",
     "text": [
      "\r",
      " 47%|█████████████████████████████████████▋                                          | 306/650 [29:29<26:16,  4.58s/it]"
     ]
    },
    {
     "name": "stdout",
     "output_type": "stream",
     "text": [
      "IMPRESSION : Abnormal portable EEG due to the bursts of generalized slowing and additional left-sided slowing and voltage dimunition , along with some slowing of the background .  -  306\n"
     ]
    },
    {
     "name": "stderr",
     "output_type": "stream",
     "text": [
      "\r",
      " 47%|█████████████████████████████████████▊                                          | 307/650 [29:35<29:08,  5.10s/it]"
     ]
    },
    {
     "name": "stdout",
     "output_type": "stream",
     "text": [
      "She was treated with vancomycin to cover her MRSA pneumonia .  -  307\n"
     ]
    },
    {
     "name": "stderr",
     "output_type": "stream",
     "text": [
      "\r",
      " 47%|█████████████████████████████████████▉                                          | 308/650 [29:37<24:37,  4.32s/it]"
     ]
    },
    {
     "name": "stdout",
     "output_type": "stream",
     "text": [
      "In November , 2001 , he progressed to leukemic phase , received Rituxan and CVP .  -  308\n"
     ]
    },
    {
     "name": "stderr",
     "output_type": "stream",
     "text": [
      "\r",
      " 48%|██████████████████████████████████████                                          | 309/650 [29:41<23:20,  4.11s/it]"
     ]
    },
    {
     "name": "stdout",
     "output_type": "stream",
     "text": [
      "The GI service was consulted and an upper endoscopy study showed grade III varices with no active bleeding and a clean base gastric ulcer possibly secondary to the Blakemore tube .  -  309\n"
     ]
    },
    {
     "name": "stderr",
     "output_type": "stream",
     "text": [
      "\r",
      " 48%|██████████████████████████████████████▏                                         | 310/650 [29:48<28:03,  4.95s/it]"
     ]
    },
    {
     "name": "stdout",
     "output_type": "stream",
     "text": [
      "The head , eyes , ears , nose , throat exam was normocephalic , with trauma as described , pupils were 2 mm bilaterally which were minimally reactive , fundi was not seen , conjunctivae without erythema , sclerae anicteric , positive corneal reflexes noted .  -  310\n"
     ]
    },
    {
     "name": "stderr",
     "output_type": "stream",
     "text": [
      "\r",
      " 48%|██████████████████████████████████████▎                                         | 311/650 [29:58<37:08,  6.57s/it]"
     ]
    },
    {
     "name": "stdout",
     "output_type": "stream",
     "text": [
      "An inferior vena cava filter was considered but was deferred , as it was felt that Mr. Roach was too unstable to undergo the procedure .  -  311\n"
     ]
    },
    {
     "name": "stderr",
     "output_type": "stream",
     "text": [
      "\r",
      " 48%|██████████████████████████████████████▍                                         | 312/650 [30:04<35:47,  6.35s/it]"
     ]
    },
    {
     "name": "stdout",
     "output_type": "stream",
     "text": [
      "In the few days prior to his demise , he was intermittently somewhat lethargic buton the morning of June 25 , 1999 , his white count was noted to have increased from 8 to 13,000 .  -  312\n"
     ]
    },
    {
     "name": "stderr",
     "output_type": "stream",
     "text": [
      "\r",
      " 48%|██████████████████████████████████████▌                                         | 313/650 [30:13<39:43,  7.07s/it]"
     ]
    },
    {
     "name": "stdout",
     "output_type": "stream",
     "text": [
      "His chest x-ray was initially remarkable for some mediastinal shift due to the right-sided lesion with increasing shift present on the last x-ray .  -  313\n"
     ]
    },
    {
     "name": "stderr",
     "output_type": "stream",
     "text": [
      "\r",
      " 48%|██████████████████████████████████████▋                                         | 314/650 [30:18<37:11,  6.64s/it]"
     ]
    },
    {
     "name": "stdout",
     "output_type": "stream",
     "text": [
      "On discharge included tetracycline , 250 mg po q.i.d. ; cyclosporin , 325 mg po b.i.d. ; prednisone , 30 mg po q day ; Bactrim DS , one po q.o.d. ; diltiazem , 30 mg po q.i.d. ; Mycostatin , 15 cc swish and swallow q.i.d. ; Lasix , 40 mg po q day ; Colace , 100 mg po q.i.d. ; Carafate , 1 gram po q.i.d. ; Imuran , 50 mg po t.i.d. ; NPH insulin , 44 units and 10 units of regular q a.m. ; NPH , 22 units and 8 units of regular q p.m.   -  314\n"
     ]
    },
    {
     "name": "stderr",
     "output_type": "stream",
     "text": [
      "\r",
      " 48%|█████████████████████████████████████▊                                        | 315/650 [30:41<1:04:21, 11.53s/it]"
     ]
    },
    {
     "name": "stdout",
     "output_type": "stream",
     "text": [
      "O2 95% on 3L NC mixed Quinn 82% genrl : in nad , resting comfortably heent : perrla ( 4->3 mm ) bilaterally , blind in right visual field , eomi , dry mm , ? thrush neck : no bruits cv : rrr , no m/r/g , faint s1/s2 pulm : cta bilaterally abd : midline scar ( from urostomy ) , nabs , soft , appears distended but patient denies , ostomy RLQ c/d/i , NT to palpation back : right flank urostomy tube , c/d/i , nt to palpation extr : no Gardner neuro : a , ox3 , wiggles toes bilaterally , unable to lift LE , 06-12 grip bilaterally w/ UE , decrease sensation to soft touch in left  -  315\n"
     ]
    },
    {
     "name": "stderr",
     "output_type": "stream",
     "text": [
      "\r",
      " 49%|█████████████████████████████████████▉                                        | 316/650 [31:09<1:31:31, 16.44s/it]"
     ]
    },
    {
     "name": "stdout",
     "output_type": "stream",
     "text": [
      "On 07-24 , he had an emesis x 1 , and had aspiration pneumonia ( + interstital markings on the left on CXR , fever , leukocytosis ) .  -  316\n"
     ]
    },
    {
     "name": "stderr",
     "output_type": "stream",
     "text": [
      "\r",
      " 49%|██████████████████████████████████████                                        | 317/650 [31:16<1:14:45, 13.47s/it]"
     ]
    },
    {
     "name": "stdout",
     "output_type": "stream",
     "text": [
      "A CT revealed a large amount of free air .  -  317\n"
     ]
    },
    {
     "name": "stderr",
     "output_type": "stream",
     "text": [
      "\r",
      " 49%|███████████████████████████████████████▏                                        | 318/650 [31:18<55:59, 10.12s/it]"
     ]
    },
    {
     "name": "stdout",
     "output_type": "stream",
     "text": [
      "Patient is a 28 year old gravida IV , para 2 with metastatic cervical cancer admitted with a question of malignant pericardial effusion .  -  318\n"
     ]
    },
    {
     "name": "stderr",
     "output_type": "stream",
     "text": [
      "\r",
      " 49%|███████████████████████████████████████▎                                        | 319/650 [31:24<47:59,  8.70s/it]"
     ]
    },
    {
     "name": "stdout",
     "output_type": "stream",
     "text": [
      "His left lower lobe micro results revealed alpha hemolytic Streptococcus on culture and he was then switched to penicillin and Gentamicin after being started on triples of Flagyl , Ampicillin , and Gentamicin .  -  319\n"
     ]
    },
    {
     "name": "stderr",
     "output_type": "stream",
     "text": [
      "\r",
      " 49%|███████████████████████████████████████▍                                        | 320/650 [31:31<46:07,  8.39s/it]"
     ]
    },
    {
     "name": "stdout",
     "output_type": "stream",
     "text": [
      "These were cultured because the patient &apos;s white blood count was increasing to the mid 20s without fever or other symptoms for explanation .  -  320\n"
     ]
    },
    {
     "name": "stderr",
     "output_type": "stream",
     "text": [
      "\r",
      " 49%|███████████████████████████████████████▌                                        | 321/650 [31:37<41:05,  7.49s/it]"
     ]
    },
    {
     "name": "stdout",
     "output_type": "stream",
     "text": [
      "Remarkable for a white cell count of 0.4 , with 0 neutrophils , 0 bands , 19 lymphs , 0 monos , hematocrit 28.8% , platelets 300,000 .  -  321\n"
     ]
    },
    {
     "name": "stderr",
     "output_type": "stream",
     "text": [
      "\r",
      " 50%|███████████████████████████████████████▋                                        | 322/650 [31:43<39:03,  7.15s/it]"
     ]
    },
    {
     "name": "stdout",
     "output_type": "stream",
     "text": [
      "Her right foot was without capillary refill , with a marked change of temperature at a level of the mid calf .  -  322\n"
     ]
    },
    {
     "name": "stderr",
     "output_type": "stream",
     "text": [
      "\r",
      " 50%|███████████████████████████████████████▊                                        | 323/650 [31:48<35:18,  6.48s/it]"
     ]
    },
    {
     "name": "stdout",
     "output_type": "stream",
     "text": [
      "Of note there was a clear A wave in the RV tracing , suggestive of RV infarct .  -  323\n"
     ]
    },
    {
     "name": "stderr",
     "output_type": "stream",
     "text": [
      "\r",
      " 50%|███████████████████████████████████████▉                                        | 324/650 [31:52<31:04,  5.72s/it]"
     ]
    },
    {
     "name": "stdout",
     "output_type": "stream",
     "text": [
      "2014-01-20 10:46 PM BLOOD Type - ART pO2 - 148 * pCO2 - 129 * pH - 7.03 * calHCO3 - 37 * Base XS - -1  -  324\n"
     ]
    },
    {
     "name": "stderr",
     "output_type": "stream",
     "text": [
      "\r",
      " 50%|████████████████████████████████████████                                        | 325/650 [31:58<31:40,  5.85s/it]"
     ]
    },
    {
     "name": "stdout",
     "output_type": "stream",
     "text": [
      "Chest x-ray showed questionable nodule in the right lower lobe , reasonably stable .  -  325\n"
     ]
    },
    {
     "name": "stderr",
     "output_type": "stream",
     "text": [
      "\r",
      " 50%|████████████████████████████████████████                                        | 326/650 [32:01<27:13,  5.04s/it]"
     ]
    },
    {
     "name": "stdout",
     "output_type": "stream",
     "text": [
      "Pt underwent bronchoscopy on 11-22 following transfer to the ICU for hypoxic respiratory failure and intubation ( 7.25/52/70 on 100% NRB ) .  -  326\n"
     ]
    },
    {
     "name": "stderr",
     "output_type": "stream",
     "text": [
      "\r",
      " 50%|████████████████████████████████████████▏                                       | 327/650 [32:06<27:32,  5.12s/it]"
     ]
    },
    {
     "name": "stdout",
     "output_type": "stream",
     "text": [
      "This was determined by head CT , head MRI , head MRA , carotid noninvasive studies , transcranial Dopplers .  -  327\n"
     ]
    },
    {
     "name": "stderr",
     "output_type": "stream",
     "text": [
      "\r",
      " 50%|████████████████████████████████████████▎                                       | 328/650 [32:11<26:32,  4.95s/it]"
     ]
    },
    {
     "name": "stdout",
     "output_type": "stream",
     "text": [
      "Her pulmonary examination shows she has bronchial breath sounds with dry crackles at the bases .  -  328\n"
     ]
    },
    {
     "name": "stderr",
     "output_type": "stream",
     "text": [
      "\r",
      " 51%|████████████████████████████████████████▍                                       | 329/650 [32:15<24:20,  4.55s/it]"
     ]
    },
    {
     "name": "stdout",
     "output_type": "stream",
     "text": [
      "Blood pressure 152/74 , pulse 60 , respirations 16 .  -  329\n"
     ]
    },
    {
     "name": "stderr",
     "output_type": "stream",
     "text": [
      "\r",
      " 51%|████████████████████████████████████████▌                                       | 330/650 [32:17<20:31,  3.85s/it]"
     ]
    },
    {
     "name": "stdout",
     "output_type": "stream",
     "text": [
      "Pyridium 200 mg po three times a day for UTI symptoms x 2 days .  -  330\n"
     ]
    },
    {
     "name": "stderr",
     "output_type": "stream",
     "text": [
      "\r",
      " 51%|████████████████████████████████████████▋                                       | 331/650 [32:20<19:45,  3.72s/it]"
     ]
    },
    {
     "name": "stdout",
     "output_type": "stream",
     "text": [
      "Rectal had normal tone , empty rectal vault , and guaiac negative .  -  331\n"
     ]
    },
    {
     "name": "stderr",
     "output_type": "stream",
     "text": [
      "\r",
      " 51%|████████████████████████████████████████▊                                       | 332/650 [32:23<18:22,  3.47s/it]"
     ]
    },
    {
     "name": "stdout",
     "output_type": "stream",
     "text": [
      "On the evening of postoperative day number zero , the patient had decreased urine output and was placed on a Lasix drip for diuresis .  -  332\n"
     ]
    },
    {
     "name": "stderr",
     "output_type": "stream",
     "text": [
      "\r",
      " 51%|████████████████████████████████████████▉                                       | 333/650 [32:29<21:46,  4.12s/it]"
     ]
    },
    {
     "name": "stdout",
     "output_type": "stream",
     "text": [
      "Urinary tract infection , E. Coli .  -  333\n"
     ]
    },
    {
     "name": "stderr",
     "output_type": "stream",
     "text": [
      "\r",
      " 51%|█████████████████████████████████████████                                       | 334/650 [32:30<17:39,  3.35s/it]"
     ]
    },
    {
     "name": "stdout",
     "output_type": "stream",
     "text": [
      "Workup revealed ischemic bowel secondary to Celiac and SMA stenoses .  -  334\n"
     ]
    },
    {
     "name": "stderr",
     "output_type": "stream",
     "text": [
      "\r",
      " 52%|█████████████████████████████████████████▏                                      | 335/650 [32:33<16:09,  3.08s/it]"
     ]
    },
    {
     "name": "stdout",
     "output_type": "stream",
     "text": [
      "White count was 14.4 , hematocrit was 36.2 , platelet count was 217 , sodium was 135 , potassium was 3.3 , chloride was 99 , bicarbonate was 25 , BUN was 40 , creatinine was 1.9 , glucose was 124 , urinalysis was negative , PT was 12.2 , PTT was 24.5 , calcium was 7.8 , phosphorus was 3.7 , albumin was 2.3 , total bilirubin was 1.3 , alkaline phosphatase was 202 , SGPT was 32 , SGOT was 64 , LDH was 998 , amylase was 150 .  -  335\n"
     ]
    },
    {
     "name": "stderr",
     "output_type": "stream",
     "text": [
      "\r",
      " 52%|█████████████████████████████████████████▎                                      | 336/650 [32:53<43:47,  8.37s/it]"
     ]
    },
    {
     "name": "stdout",
     "output_type": "stream",
     "text": [
      "Chest tubes and wires were all discontinued according to protocol on postoperative day number four .  -  336\n"
     ]
    },
    {
     "name": "stderr",
     "output_type": "stream",
     "text": [
      "\r",
      " 52%|█████████████████████████████████████████▍                                      | 337/650 [32:57<36:07,  6.93s/it]"
     ]
    },
    {
     "name": "stdout",
     "output_type": "stream",
     "text": [
      "--- Hold coumadin for afib given hx of upper GIB and surgery in AM  -  337\n"
     ]
    },
    {
     "name": "stderr",
     "output_type": "stream",
     "text": [
      "\r",
      " 52%|█████████████████████████████████████████▌                                      | 338/650 [33:00<30:10,  5.80s/it]"
     ]
    },
    {
     "name": "stdout",
     "output_type": "stream",
     "text": [
      "The patient was found to be in congestive heart failure and thought likely secondary to diastolic dysfunction secondary to hypertension .  -  338\n"
     ]
    },
    {
     "name": "stderr",
     "output_type": "stream",
     "text": [
      "\r",
      " 52%|█████████████████████████████████████████▋                                      | 339/650 [33:05<28:25,  5.48s/it]"
     ]
    },
    {
     "name": "stdout",
     "output_type": "stream",
     "text": [
      "Most likely her waxing and waning mental status and hypercarbia/hypoxia compounded by infection of pneumonia and UTI .  -  339\n"
     ]
    },
    {
     "name": "stderr",
     "output_type": "stream",
     "text": [
      "\r",
      " 52%|█████████████████████████████████████████▊                                      | 340/650 [33:09<26:16,  5.08s/it]"
     ]
    },
    {
     "name": "stdout",
     "output_type": "stream",
     "text": [
      "2. Ureteral stone - The patient had a nephrostomy tube placed by IR to relieve her hydronephrosis .  -  340\n"
     ]
    },
    {
     "name": "stderr",
     "output_type": "stream",
     "text": [
      "\r",
      " 52%|█████████████████████████████████████████▉                                      | 341/650 [33:13<24:48,  4.82s/it]"
     ]
    },
    {
     "name": "stdout",
     "output_type": "stream",
     "text": [
      "No headache , neckpain , nausea , vomiting or focal weakness / numbness .  -  341\n"
     ]
    },
    {
     "name": "stderr",
     "output_type": "stream",
     "text": [
      "\r",
      " 53%|██████████████████████████████████████████                                      | 342/650 [33:16<22:13,  4.33s/it]"
     ]
    },
    {
     "name": "stdout",
     "output_type": "stream",
     "text": [
      "Without cyanosis or edema .  -  342\n"
     ]
    },
    {
     "name": "stderr",
     "output_type": "stream",
     "text": [
      "\r",
      " 53%|██████████████████████████████████████████▏                                     | 343/650 [33:18<17:15,  3.37s/it]"
     ]
    },
    {
     "name": "stdout",
     "output_type": "stream",
     "text": [
      "CAT scan was performed on 2013-09-20 at Kindred Park View Specialty Hospital of Springfield , which revealed that she had a recurrence of the tumor with occlusion of her portal vein occluding bile ducts , hepatic artery nearly completely occluded , and much ascites and was started on diuretics .  -  343\n"
     ]
    },
    {
     "name": "stderr",
     "output_type": "stream",
     "text": [
      "\r",
      " 53%|██████████████████████████████████████████▎                                     | 344/650 [33:29<29:19,  5.75s/it]"
     ]
    },
    {
     "name": "stdout",
     "output_type": "stream",
     "text": [
      "The lack of EEG correlate to the facial twitching does not exclude a central cause ( and , indeed , this appeared most likely based on the clinical and video observations ).  -  344\n"
     ]
    },
    {
     "name": "stderr",
     "output_type": "stream",
     "text": [
      "\r",
      " 53%|██████████████████████████████████████████▍                                     | 345/650 [33:36<31:18,  6.16s/it]"
     ]
    },
    {
     "name": "stdout",
     "output_type": "stream",
     "text": [
      "2013-03-27 12:59 AM URINE bnzodzpn - NEG barbitrt - NEG opiates - NEG cocaine - NEG amphetmn - POS mthdone - NEG  -  345\n"
     ]
    },
    {
     "name": "stderr",
     "output_type": "stream",
     "text": [
      "\r",
      " 53%|██████████████████████████████████████████▌                                     | 346/650 [33:41<29:15,  5.77s/it]"
     ]
    },
    {
     "name": "stdout",
     "output_type": "stream",
     "text": [
      "Primary closure of wound .  -  346\n"
     ]
    },
    {
     "name": "stderr",
     "output_type": "stream",
     "text": [
      "\r",
      " 53%|██████████████████████████████████████████▋                                     | 347/650 [33:42<22:07,  4.38s/it]"
     ]
    },
    {
     "name": "stdout",
     "output_type": "stream",
     "text": [
      "A CT scan was performed on 07-17 to evaluate the soft tissue swelling seen on CT at the outside hospital .  -  347\n"
     ]
    },
    {
     "name": "stderr",
     "output_type": "stream",
     "text": [
      "\r",
      " 54%|██████████████████████████████████████████▊                                     | 348/650 [33:47<22:32,  4.48s/it]"
     ]
    },
    {
     "name": "stdout",
     "output_type": "stream",
     "text": [
      "soft , nontender with hepatosplenomegaly , or hepatojugular reflex , bruits or pulsations .  -  348\n"
     ]
    },
    {
     "name": "stderr",
     "output_type": "stream",
     "text": [
      "\r",
      " 54%|██████████████████████████████████████████▉                                     | 349/650 [33:50<20:26,  4.08s/it]"
     ]
    },
    {
     "name": "stdout",
     "output_type": "stream",
     "text": [
      "Postoperatively , she was again noted to have a cold right lower extremity with diminished pulses and was again taken to the operating room , where she underwent a right popliteal exploration and thrombectomy .  -  349\n"
     ]
    },
    {
     "name": "stderr",
     "output_type": "stream",
     "text": [
      "\r",
      " 54%|███████████████████████████████████████████                                     | 350/650 [33:58<27:03,  5.41s/it]"
     ]
    },
    {
     "name": "stdout",
     "output_type": "stream",
     "text": [
      "On POD2 his chest tubes and epicardial pacing wires were removed and his Coumadin was restarted .  -  350\n"
     ]
    },
    {
     "name": "stderr",
     "output_type": "stream",
     "text": [
      "\r",
      " 54%|███████████████████████████████████████████▏                                    | 351/650 [34:02<24:36,  4.94s/it]"
     ]
    },
    {
     "name": "stdout",
     "output_type": "stream",
     "text": [
      "The family is confident in any decision Dr. Ford would make re : therapy for her MS .  -  351\n"
     ]
    },
    {
     "name": "stderr",
     "output_type": "stream",
     "text": [
      "\r",
      " 54%|███████████████████████████████████████████▎                                    | 352/650 [34:06<23:23,  4.71s/it]"
     ]
    },
    {
     "name": "stdout",
     "output_type": "stream",
     "text": [
      "PT - 11.8 PTT - 22.4 INR(PT) - 1.0  -  352\n"
     ]
    },
    {
     "name": "stderr",
     "output_type": "stream",
     "text": [
      "\r",
      " 54%|███████████████████████████████████████████▍                                    | 353/650 [34:08<19:20,  3.91s/it]"
     ]
    },
    {
     "name": "stdout",
     "output_type": "stream",
     "text": [
      "2017-07-17 04:50 AM BLOOD WBC - 7.2 RBC - 2.69 * Hgb - 8.0 * Hct - 24.0 * MCV - 89 MCH - 29.7 MCHC - 33.3 RDW - 18.7 * Plt Ct - 363  -  353\n"
     ]
    },
    {
     "name": "stderr",
     "output_type": "stream",
     "text": [
      "\r",
      " 54%|███████████████████████████████████████████▌                                    | 354/650 [34:17<25:35,  5.19s/it]"
     ]
    },
    {
     "name": "stdout",
     "output_type": "stream",
     "text": [
      "Endoscopy with biopsy revealed gastric carcinoma , poorly differentiated , within the body of the stomach along the greater curvature .  -  354\n"
     ]
    },
    {
     "name": "stderr",
     "output_type": "stream",
     "text": [
      "\r",
      " 55%|███████████████████████████████████████████▋                                    | 355/650 [34:21<25:03,  5.10s/it]"
     ]
    },
    {
     "name": "stdout",
     "output_type": "stream",
     "text": [
      "70 y/o F w/ tracheobronchomalacia , COPD , PMR , recurrent pneumonias who was recently discharged from Hallmark Health System to Pocasset Mental Health Center  -  355\n"
     ]
    },
    {
     "name": "stderr",
     "output_type": "stream",
     "text": [
      "\r",
      " 55%|███████████████████████████████████████████▊                                    | 356/650 [34:27<25:41,  5.24s/it]"
     ]
    },
    {
     "name": "stdout",
     "output_type": "stream",
     "text": [
      "His right hip is irritable with a 10-degree fixed flexion contracture .  -  356\n"
     ]
    },
    {
     "name": "stderr",
     "output_type": "stream",
     "text": [
      "\r",
      " 55%|███████████████████████████████████████████▉                                    | 357/650 [34:30<21:47,  4.46s/it]"
     ]
    },
    {
     "name": "stdout",
     "output_type": "stream",
     "text": [
      "The patient was started on Meclizine on December 31 , 2000 for her nausea and vertigo .  -  357\n"
     ]
    },
    {
     "name": "stderr",
     "output_type": "stream",
     "text": [
      "\r",
      " 55%|████████████████████████████████████████████                                    | 358/650 [34:33<20:41,  4.25s/it]"
     ]
    },
    {
     "name": "stdout",
     "output_type": "stream",
     "text": [
      "The patient was treated with ampicillin , gentamicin , and Flagyl .  -  358\n"
     ]
    },
    {
     "name": "stderr",
     "output_type": "stream",
     "text": [
      "\r",
      " 55%|████████████████████████████████████████████▏                                   | 359/650 [34:36<18:15,  3.76s/it]"
     ]
    },
    {
     "name": "stdout",
     "output_type": "stream",
     "text": [
      "Initial differential was 35 polys and zero bands , not suspicious for infectious condition .  -  359\n"
     ]
    },
    {
     "name": "stderr",
     "output_type": "stream",
     "text": [
      "\r",
      " 55%|████████████████████████████████████████████▎                                   | 360/650 [34:39<17:36,  3.64s/it]"
     ]
    },
    {
     "name": "stdout",
     "output_type": "stream",
     "text": [
      "Echo did not reveal potential source of emboli , but showed striking left ventricle akinesis and hypokinesis presumbly due to past MI x 2 .  -  360\n"
     ]
    },
    {
     "name": "stderr",
     "output_type": "stream",
     "text": [
      "\r",
      " 56%|████████████████████████████████████████████▍                                   | 361/650 [34:45<20:19,  4.22s/it]"
     ]
    },
    {
     "name": "stdout",
     "output_type": "stream",
     "text": [
      "68M with multiple vascular risk factors presents with acute onset right-sided hemiparesis and dysarthria , aphasia concerning for acute left MCA infarct .  -  361\n"
     ]
    },
    {
     "name": "stderr",
     "output_type": "stream",
     "text": [
      "\r",
      " 56%|████████████████████████████████████████████▌                                   | 362/650 [34:50<21:29,  4.48s/it]"
     ]
    },
    {
     "name": "stdout",
     "output_type": "stream",
     "text": [
      "He has a PICC line in place for his antibiotics which are as follows .  -  362\n"
     ]
    },
    {
     "name": "stderr",
     "output_type": "stream",
     "text": [
      "\r",
      " 56%|████████████████████████████████████████████▋                                   | 363/650 [34:53<19:52,  4.15s/it]"
     ]
    },
    {
     "name": "stdout",
     "output_type": "stream",
     "text": [
      "There was no evidence of necrosis , erythema or exudate at the site .  -  363\n"
     ]
    },
    {
     "name": "stderr",
     "output_type": "stream",
     "text": [
      "\r",
      " 56%|████████████████████████████████████████████▊                                   | 364/650 [34:57<18:19,  3.84s/it]"
     ]
    },
    {
     "name": "stdout",
     "output_type": "stream",
     "text": [
      "Large left ventricle , bilateral atelectasis or effusion .  -  364\n"
     ]
    },
    {
     "name": "stderr",
     "output_type": "stream",
     "text": [
      "\r",
      " 56%|████████████████████████████████████████████▉                                   | 365/650 [34:59<15:37,  3.29s/it]"
     ]
    },
    {
     "name": "stdout",
     "output_type": "stream",
     "text": [
      "Patient recorded as having No Known Allergies to Drugs  -  365\n"
     ]
    },
    {
     "name": "stderr",
     "output_type": "stream",
     "text": [
      "\r",
      " 56%|█████████████████████████████████████████████                                   | 366/650 [35:01<14:00,  2.96s/it]"
     ]
    },
    {
     "name": "stdout",
     "output_type": "stream",
     "text": [
      "She persisted with right sided seizure activity there and was given valium 10 mg and ativan 1 mg , as well as loaded with dilantin 1000 mg .  -  366\n"
     ]
    },
    {
     "name": "stderr",
     "output_type": "stream",
     "text": [
      "\r",
      " 56%|█████████████████████████████████████████████▏                                  | 367/650 [35:07<18:48,  3.99s/it]"
     ]
    },
    {
     "name": "stdout",
     "output_type": "stream",
     "text": [
      "Cyclosporin levels were followed and his sugars were followed with a sliding scale .   -  367\n"
     ]
    },
    {
     "name": "stderr",
     "output_type": "stream",
     "text": [
      "\r",
      " 57%|█████████████████████████████████████████████▎                                  | 368/650 [35:10<17:44,  3.77s/it]"
     ]
    },
    {
     "name": "stdout",
     "output_type": "stream",
     "text": [
      "Throughout the month of June , she had a rising Potassium phosphate and increasing volume overload with decreasing response to diuretics and she was finally initiated on dialysis with ultrafiltration on July 12 , 1998 .  -  368\n"
     ]
    },
    {
     "name": "stderr",
     "output_type": "stream",
     "text": [
      "\r",
      " 57%|█████████████████████████████████████████████▍                                  | 369/650 [35:18<23:39,  5.05s/it]"
     ]
    },
    {
     "name": "stdout",
     "output_type": "stream",
     "text": [
      "2018-08-07 12:56 AM BLOOD UreaN - 27 * Creat - 4.1 * Na - 130 * K - 3.7 Cl - 94 * HCO3 - 27 AnGap - 13  -  369\n"
     ]
    },
    {
     "name": "stderr",
     "output_type": "stream",
     "text": [
      "\r",
      " 57%|█████████████████████████████████████████████▌                                  | 370/650 [35:25<25:26,  5.45s/it]"
     ]
    },
    {
     "name": "stdout",
     "output_type": "stream",
     "text": [
      "The patient was aggressively treated with fluid resuscitation and pressors for his septic physiology .  -  370\n"
     ]
    },
    {
     "name": "stderr",
     "output_type": "stream",
     "text": [
      "\r",
      " 57%|█████████████████████████████████████████████▋                                  | 371/650 [35:28<22:17,  4.80s/it]"
     ]
    },
    {
     "name": "stdout",
     "output_type": "stream",
     "text": [
      "Started on levo / flagyl / ceftriaxone and lasix for sbp and questionable meningitis .  -  371\n"
     ]
    },
    {
     "name": "stderr",
     "output_type": "stream",
     "text": [
      "\r",
      " 57%|█████████████████████████████████████████████▊                                  | 372/650 [35:32<20:18,  4.38s/it]"
     ]
    },
    {
     "name": "stdout",
     "output_type": "stream",
     "text": [
      "A CT of her head demonstrated intraparenchymal and extraaxial blood ( mostly subarachnoid ) in bilateral cerebral hemispheres , right greater than left , in a pattern indicating contrecoup injury .  -  372\n"
     ]
    },
    {
     "name": "stderr",
     "output_type": "stream",
     "text": [
      "\r",
      " 57%|█████████████████████████████████████████████▉                                  | 373/650 [35:38<23:42,  5.13s/it]"
     ]
    },
    {
     "name": "stdout",
     "output_type": "stream",
     "text": [
      "2014-01-20 05:30 AM BLOOD CK-MB - 7  -  373\n"
     ]
    },
    {
     "name": "stderr",
     "output_type": "stream",
     "text": [
      "\r",
      " 58%|██████████████████████████████████████████████                                  | 374/650 [35:40<18:43,  4.07s/it]"
     ]
    },
    {
     "name": "stdout",
     "output_type": "stream",
     "text": [
      "Cervical carcinoma ; bilateral ureteral obstruction secondary to the cancer .  -  374\n"
     ]
    },
    {
     "name": "stderr",
     "output_type": "stream",
     "text": [
      "\r",
      " 58%|██████████████████████████████████████████████▏                                 | 375/650 [35:42<16:26,  3.59s/it]"
     ]
    },
    {
     "name": "stdout",
     "output_type": "stream",
     "text": [
      "He received 1 mg IV Narcan ( numerous bottles of oxycontin , percocet were found in room ); his pupils dilated to ~ 8 mm and he became combative / agitated .  -  375\n"
     ]
    },
    {
     "name": "stderr",
     "output_type": "stream",
     "text": [
      "\r",
      " 58%|██████████████████████████████████████████████▎                                 | 376/650 [35:50<21:08,  4.63s/it]"
     ]
    },
    {
     "name": "stdout",
     "output_type": "stream",
     "text": [
      "She complained of a sore throat which was likely the etiology of her atypical chest complaints .  -  376\n"
     ]
    },
    {
     "name": "stderr",
     "output_type": "stream",
     "text": [
      "\r",
      " 58%|██████████████████████████████████████████████▍                                 | 377/650 [35:53<19:56,  4.38s/it]"
     ]
    },
    {
     "name": "stdout",
     "output_type": "stream",
     "text": [
      "Na was elevated , as was blood pressure .  -  377\n"
     ]
    },
    {
     "name": "stderr",
     "output_type": "stream",
     "text": [
      "\r",
      " 58%|██████████████████████████████████████████████▌                                 | 378/650 [35:55<16:39,  3.67s/it]"
     ]
    },
    {
     "name": "stdout",
     "output_type": "stream",
     "text": [
      "The patient did have a hypotensive episode and the systolic blood pressure was 80 , after the patient received his regular cardiac medications .  -  378\n"
     ]
    },
    {
     "name": "stderr",
     "output_type": "stream",
     "text": [
      "\r",
      " 58%|██████████████████████████████████████████████▋                                 | 379/650 [36:01<18:52,  4.18s/it]"
     ]
    },
    {
     "name": "stdout",
     "output_type": "stream",
     "text": [
      "(1) ID - Pt received Clinda and Ancef in ED .  -  379\n"
     ]
    },
    {
     "name": "stderr",
     "output_type": "stream",
     "text": [
      "\r",
      " 58%|██████████████████████████████████████████████▊                                 | 380/650 [36:03<16:36,  3.69s/it]"
     ]
    },
    {
     "name": "stdout",
     "output_type": "stream",
     "text": [
      "Echo , MRA ( r / o dissection ) , urine catecholamines and VMA .  -  380\n"
     ]
    },
    {
     "name": "stderr",
     "output_type": "stream",
     "text": [
      "\r",
      " 59%|██████████████████████████████████████████████▉                                 | 381/650 [36:07<16:13,  3.62s/it]"
     ]
    },
    {
     "name": "stdout",
     "output_type": "stream",
     "text": [
      "This is an 85 year old female with prior history of non-hodgkins lymphoma , s/p Cytoxan in 2003 a with recurrence in 2009 .  -  381\n"
     ]
    },
    {
     "name": "stderr",
     "output_type": "stream",
     "text": [
      "\r",
      " 59%|███████████████████████████████████████████████                                 | 382/650 [36:12<18:36,  4.16s/it]"
     ]
    },
    {
     "name": "stdout",
     "output_type": "stream",
     "text": [
      "2015-04-16 07:10 PM BLOOD Glucose - 280 * UreaN - 18 Creat - 1.0 Na - 135 K - 4.2 Cl - 98 HCO3 - 22 AnGap - 19  -  382\n"
     ]
    },
    {
     "name": "stderr",
     "output_type": "stream",
     "text": [
      "\r",
      " 59%|███████████████████████████████████████████████▏                                | 383/650 [36:19<21:47,  4.90s/it]"
     ]
    },
    {
     "name": "stdout",
     "output_type": "stream",
     "text": [
      "2017-07-12 10:40 AM BLOOD Neuts - 86 * Bands - 5 Lymphs - 4 * Monos - 5 Eos - 0 Baso - 0 Atyps - 0 Metas - 0 Myelos - 0  -  383\n"
     ]
    },
    {
     "name": "stderr",
     "output_type": "stream",
     "text": [
      "\r",
      " 59%|███████████████████████████████████████████████▎                                | 384/650 [36:26<24:50,  5.60s/it]"
     ]
    },
    {
     "name": "stdout",
     "output_type": "stream",
     "text": [
      "Hypertension and gout .  -  384\n"
     ]
    },
    {
     "name": "stderr",
     "output_type": "stream",
     "text": [
      "\r",
      " 59%|███████████████████████████████████████████████▍                                | 385/650 [36:27<18:34,  4.20s/it]"
     ]
    },
    {
     "name": "stdout",
     "output_type": "stream",
     "text": [
      "Abdominal series showed non-specific dilatation of the large bowel with no evidence of ileus .  -  385\n"
     ]
    },
    {
     "name": "stderr",
     "output_type": "stream",
     "text": [
      "\r",
      " 59%|███████████████████████████████████████████████▌                                | 386/650 [36:30<17:23,  3.95s/it]"
     ]
    },
    {
     "name": "stdout",
     "output_type": "stream",
     "text": [
      "The EGD did show three esophageal ulcers that were localized and apparent suggestion of pill esophagitis .  -  386\n"
     ]
    },
    {
     "name": "stderr",
     "output_type": "stream",
     "text": [
      "\r",
      " 60%|███████████████████████████████████████████████▋                                | 387/650 [36:34<17:02,  3.89s/it]"
     ]
    },
    {
     "name": "stdout",
     "output_type": "stream",
     "text": [
      "A thyroid scan revealed decreased function and displacement of the thyroid by a cold mass located inferiorly with calcifications on the right side .  -  387\n"
     ]
    },
    {
     "name": "stderr",
     "output_type": "stream",
     "text": [
      "\r",
      " 60%|███████████████████████████████████████████████▊                                | 388/650 [36:39<18:43,  4.29s/it]"
     ]
    },
    {
     "name": "stdout",
     "output_type": "stream",
     "text": [
      "Slo-Mag one tab p.o. b.i.d. Stelazine 2 mg. p.o. q.d. Ativan 1 mg p.o. or s.l. q. 4-6 hr. p.r.n. nausea .  -  388\n"
     ]
    },
    {
     "name": "stderr",
     "output_type": "stream",
     "text": [
      "\r",
      " 60%|███████████████████████████████████████████████▉                                | 389/650 [36:44<19:32,  4.49s/it]"
     ]
    },
    {
     "name": "stdout",
     "output_type": "stream",
     "text": [
      "2015-09-20 03:54 AM BLOOD Albumin - 4.0 Calcium - 8.0 * Phos - 2.9 Mg - 2.0  -  389\n"
     ]
    },
    {
     "name": "stderr",
     "output_type": "stream",
     "text": [
      "\r",
      " 60%|████████████████████████████████████████████████                                | 390/650 [36:48<18:31,  4.27s/it]"
     ]
    },
    {
     "name": "stdout",
     "output_type": "stream",
     "text": [
      "BLOOD - NEG NITRITE - NEG PROTEIN - NEG GLUCOSE - NEG KETONE - NEG BILIRUBIN - NEG UROBILNGN - NEG PH - 5.0 LEUK - SM  -  390\n"
     ]
    },
    {
     "name": "stderr",
     "output_type": "stream",
     "text": [
      "\r",
      " 60%|████████████████████████████████████████████████                                | 391/650 [36:54<20:42,  4.80s/it]"
     ]
    },
    {
     "name": "stdout",
     "output_type": "stream",
     "text": [
      "She was sent for a CT scan of her abdomen , which revealed fluid and question of gas in the endometrial cavity , and she was sent to Pinewood , Norfolk for treatment and admission .  -  391\n"
     ]
    },
    {
     "name": "stderr",
     "output_type": "stream",
     "text": [
      "\r",
      " 60%|████████████████████████████████████████████████▏                               | 392/650 [37:02<24:56,  5.80s/it]"
     ]
    },
    {
     "name": "stdout",
     "output_type": "stream",
     "text": [
      "BP meds held while unstable .  -  392\n"
     ]
    },
    {
     "name": "stderr",
     "output_type": "stream",
     "text": [
      "\r",
      " 60%|████████████████████████████████████████████████▎                               | 393/650 [37:04<19:08,  4.47s/it]"
     ]
    },
    {
     "name": "stdout",
     "output_type": "stream",
     "text": [
      "The patient was started on Clindamycin intravenous and Cefuroxime intravenous with clearing of his fever but persistence of cough , choking , and intermittently many coarse rales in his base with no clearing by x-ray .  -  393\n"
     ]
    },
    {
     "name": "stderr",
     "output_type": "stream",
     "text": [
      "\r",
      " 61%|████████████████████████████████████████████████▍                               | 394/650 [37:12<23:51,  5.59s/it]"
     ]
    },
    {
     "name": "stdout",
     "output_type": "stream",
     "text": [
      "2014-04-24 06:35 AM BLOOD Glucose - 96 UreaN - 13 Creat - 1.4 * Na - 143 K - 4.8 Cl - 104 HCO3 - 33 * AnGap - 11  -  394\n"
     ]
    },
    {
     "name": "stderr",
     "output_type": "stream",
     "text": [
      "\r",
      " 61%|████████████████████████████████████████████████▌                               | 395/650 [37:18<25:07,  5.91s/it]"
     ]
    },
    {
     "name": "stdout",
     "output_type": "stream",
     "text": [
      "On the left nasolabial , there was a boil with pus and surrounding erythema and tenderness .  -  395\n"
     ]
    },
    {
     "name": "stderr",
     "output_type": "stream",
     "text": [
      "\r",
      " 61%|████████████████████████████████████████████████▋                               | 396/650 [37:22<22:20,  5.28s/it]"
     ]
    },
    {
     "name": "stdout",
     "output_type": "stream",
     "text": [
      "B12 was noted to be low and the patient was given an injection of IM B12 while in the hospital .  -  396\n"
     ]
    },
    {
     "name": "stderr",
     "output_type": "stream",
     "text": [
      "\r",
      " 61%|████████████████████████████████████████████████▊                               | 397/650 [37:27<21:25,  5.08s/it]"
     ]
    },
    {
     "name": "stdout",
     "output_type": "stream",
     "text": [
      "Rectal examination was notable for guiaiac positive maroon stool .  -  397\n"
     ]
    },
    {
     "name": "stderr",
     "output_type": "stream",
     "text": [
      "\r",
      " 61%|████████████████████████████████████████████████▉                               | 398/650 [37:29<17:51,  4.25s/it]"
     ]
    },
    {
     "name": "stdout",
     "output_type": "stream",
     "text": [
      "She was placed in supplemental oxygen by shovel mask and her sats immediately improved .  -  398\n"
     ]
    },
    {
     "name": "stderr",
     "output_type": "stream",
     "text": [
      "\r",
      " 61%|█████████████████████████████████████████████████                               | 399/650 [37:33<16:50,  4.02s/it]"
     ]
    },
    {
     "name": "stdout",
     "output_type": "stream",
     "text": [
      "These were initially continued as above and later , when she became hypotensive and febrile , stress dose steroids were started and planned for a 7 day course followed by a return to her prior dose of prednisone .  -  399\n"
     ]
    },
    {
     "name": "stderr",
     "output_type": "stream",
     "text": [
      "\r",
      " 62%|█████████████████████████████████████████████████▏                              | 400/650 [37:41<22:35,  5.42s/it]"
     ]
    },
    {
     "name": "stdout",
     "output_type": "stream",
     "text": [
      "STATUS POST TOTAL ABDOMINAL HYSTERECTOMY AND BILATERAL SALPINGO-OOPHORECTOMY .  -  400\n"
     ]
    },
    {
     "name": "stderr",
     "output_type": "stream",
     "text": [
      "\r",
      " 62%|█████████████████████████████████████████████████▎                              | 401/650 [37:43<18:12,  4.39s/it]"
     ]
    },
    {
     "name": "stdout",
     "output_type": "stream",
     "text": [
      "CAD : on asa , b blocker , ace .  -  401\n"
     ]
    },
    {
     "name": "stderr",
     "output_type": "stream",
     "text": [
      "\r",
      " 62%|█████████████████████████████████████████████████▍                              | 402/650 [37:46<15:43,  3.81s/it]"
     ]
    },
    {
     "name": "stdout",
     "output_type": "stream",
     "text": [
      "Very early in the morning on postoperative day # 3 , the patient became acutely hypoxic after several hours of marginal oxygenation with respiratory rates in the thirties and the patient was urgently intubated , without complication .  -  402\n"
     ]
    },
    {
     "name": "stderr",
     "output_type": "stream",
     "text": [
      "\r",
      " 62%|█████████████████████████████████████████████████▌                              | 403/650 [37:55<21:59,  5.34s/it]"
     ]
    },
    {
     "name": "stdout",
     "output_type": "stream",
     "text": [
      "The graft used was a homograft .  -  403\n"
     ]
    },
    {
     "name": "stderr",
     "output_type": "stream",
     "text": [
      "\r",
      " 62%|█████████████████████████████████████████████████▋                              | 404/650 [37:56<17:19,  4.23s/it]"
     ]
    },
    {
     "name": "stdout",
     "output_type": "stream",
     "text": [
      "Since she has seen Dr. Ollie , she has had at least two episodes of status epilepticus and one generalized seizure , as well as some less significant seizures which are characterized by left gaze preference and left sided tonic-clonic activity .  -  404\n"
     ]
    },
    {
     "name": "stderr",
     "output_type": "stream",
     "text": [
      "\r",
      " 62%|█████████████████████████████████████████████████▊                              | 405/650 [38:06<23:42,  5.81s/it]"
     ]
    },
    {
     "name": "stdout",
     "output_type": "stream",
     "text": [
      "No effusion or rub was heard .  -  405\n"
     ]
    },
    {
     "name": "stderr",
     "output_type": "stream",
     "text": [
      "\r",
      " 62%|█████████████████████████████████████████████████▉                              | 406/650 [38:07<18:26,  4.53s/it]"
     ]
    },
    {
     "name": "stdout",
     "output_type": "stream",
     "text": [
      "The patient is a 65 year old male who sustained a small myocardial infarction first in 1978 , with course thereafter including a coronary artery bypass graft by Dr. Wierst ______________at Noughwell Entanbon Health in 1986 .  -  406\n"
     ]
    },
    {
     "name": "stderr",
     "output_type": "stream",
     "text": [
      "\r",
      " 63%|██████████████████████████████████████████████████                              | 407/650 [38:16<22:58,  5.67s/it]"
     ]
    },
    {
     "name": "stdout",
     "output_type": "stream",
     "text": [
      "The GI service was consulted and an upper endoscopy study showed grade III varices with no active bleeding and a clean base gastric ulcer possibly secondary to the Blakemore tube .  -  407\n"
     ]
    },
    {
     "name": "stderr",
     "output_type": "stream",
     "text": [
      "\r",
      " 63%|██████████████████████████████████████████████████▏                             | 408/650 [38:23<24:15,  6.02s/it]"
     ]
    },
    {
     "name": "stdout",
     "output_type": "stream",
     "text": [
      "Chest x-ray revealed moderate cardiomegaly with no clear interstitial or alveolar pulmonary edema and chronic atelectasis and / or scarring at both lung bases .  -  408\n"
     ]
    },
    {
     "name": "stderr",
     "output_type": "stream",
     "text": [
      "\r",
      " 63%|██████████████████████████████████████████████████▎                             | 409/650 [38:28<23:40,  5.89s/it]"
     ]
    },
    {
     "name": "stdout",
     "output_type": "stream",
     "text": [
      "Bronchoscopy and mediastinoscopy revealed an unresectable mediastinal tumor with the left tracheobronchial angle node positive for cancer , and the right paratracheal node positive for anthracosis .  -  409\n"
     ]
    },
    {
     "name": "stderr",
     "output_type": "stream",
     "text": [
      "\r",
      " 63%|██████████████████████████████████████████████████▍                             | 410/650 [38:34<23:34,  5.89s/it]"
     ]
    },
    {
     "name": "stdout",
     "output_type": "stream",
     "text": [
      "The study was repeated and yet again Mr. Knueppel was unable to swallow without evidence of aspiration .  -  410\n"
     ]
    },
    {
     "name": "stderr",
     "output_type": "stream",
     "text": [
      "\r",
      " 63%|██████████████████████████████████████████████████▌                             | 411/650 [38:38<21:10,  5.32s/it]"
     ]
    },
    {
     "name": "stdout",
     "output_type": "stream",
     "text": [
      "MRI was performed and showed new lesions vs sz effects in the left temporal lobe .  -  411\n"
     ]
    },
    {
     "name": "stderr",
     "output_type": "stream",
     "text": [
      "\r",
      " 63%|██████████████████████████████████████████████████▋                             | 412/650 [38:42<19:01,  4.80s/it]"
     ]
    },
    {
     "name": "stdout",
     "output_type": "stream",
     "text": [
      "She presented with left upper quadrant pain as well as nausea and vomiting which is a long-standing complaint .  -  412\n"
     ]
    },
    {
     "name": "stderr",
     "output_type": "stream",
     "text": [
      "\r",
      " 64%|██████████████████████████████████████████████████▊                             | 413/650 [38:46<18:20,  4.64s/it]"
     ]
    },
    {
     "name": "stdout",
     "output_type": "stream",
     "text": [
      "The differential diagnosis included viral pneumonitis , Mycoplasma , Chlamydia .  -  413\n"
     ]
    },
    {
     "name": "stderr",
     "output_type": "stream",
     "text": [
      "\r",
      " 64%|██████████████████████████████████████████████████▉                             | 414/650 [38:48<15:43,  4.00s/it]"
     ]
    },
    {
     "name": "stdout",
     "output_type": "stream",
     "text": [
      "The discrepancy in the patient &apos;s pulses and blood pressure was felt to be consistent with a subclavian artery stenosis .  -  414\n"
     ]
    },
    {
     "name": "stderr",
     "output_type": "stream",
     "text": [
      "\r",
      " 64%|███████████████████████████████████████████████████                             | 415/650 [38:53<16:31,  4.22s/it]"
     ]
    },
    {
     "name": "stdout",
     "output_type": "stream",
     "text": [
      "At this time , his neurologic exam is notable for hemiplegia of his left arm , severe hemiparesis of his left leg , mild large fiber sensory loss in his left arm , and otherwise fairly intact mental status , cranial nerve function , and right sided motor and sensory function .  -  415\n"
     ]
    },
    {
     "name": "stderr",
     "output_type": "stream",
     "text": [
      "\r",
      " 64%|███████████████████████████████████████████████████▏                            | 416/650 [39:05<25:07,  6.44s/it]"
     ]
    },
    {
     "name": "stdout",
     "output_type": "stream",
     "text": [
      "NPH 70 units q.a.m. , 50 units q.p.m. , regular insulin-sliding scale .  -  416\n"
     ]
    },
    {
     "name": "stderr",
     "output_type": "stream",
     "text": [
      "\r",
      " 64%|███████████████████████████████████████████████████▎                            | 417/650 [39:08<21:09,  5.45s/it]"
     ]
    },
    {
     "name": "stdout",
     "output_type": "stream",
     "text": [
      "No CPR / No defib / No intubation / No pressors  -  417\n"
     ]
    },
    {
     "name": "stderr",
     "output_type": "stream",
     "text": [
      "\r",
      " 64%|███████████████████████████████████████████████████▍                            | 418/650 [39:10<17:47,  4.60s/it]"
     ]
    },
    {
     "name": "stdout",
     "output_type": "stream",
     "text": [
      "His gastrointestinal bleeding issues were investigated with an upper endoscopy which revealed multiple superficial gastric ulcerations consistent with an non-steroidal anti-inflammatory drugs gastropathy .  -  418\n"
     ]
    },
    {
     "name": "stderr",
     "output_type": "stream",
     "text": [
      "\r",
      " 64%|███████████████████████████████████████████████████▌                            | 419/650 [39:16<19:14,  5.00s/it]"
     ]
    },
    {
     "name": "stdout",
     "output_type": "stream",
     "text": [
      "His nonsustained ventricular tachycardia was treated with a lidocaine drip .  -  419\n"
     ]
    },
    {
     "name": "stderr",
     "output_type": "stream",
     "text": [
      "\r",
      " 65%|███████████████████████████████████████████████████▋                            | 420/650 [39:19<16:18,  4.25s/it]"
     ]
    },
    {
     "name": "stdout",
     "output_type": "stream",
     "text": [
      "He was seen by a doctor in Arizona and treated with dressing changes and debridement until approximately six weeks ago , when antibiotics were started with Ciprofloxacin .  -  420\n"
     ]
    },
    {
     "name": "stderr",
     "output_type": "stream",
     "text": [
      "\r",
      " 65%|███████████████████████████████████████████████████▊                            | 421/650 [39:25<18:48,  4.93s/it]"
     ]
    },
    {
     "name": "stdout",
     "output_type": "stream",
     "text": [
      "She averaged 2-3 apnea episodes a day with bradycardia and desaturations .  -  421\n"
     ]
    },
    {
     "name": "stderr",
     "output_type": "stream",
     "text": [
      "\r",
      " 65%|███████████████████████████████████████████████████▉                            | 422/650 [39:28<16:25,  4.32s/it]"
     ]
    },
    {
     "name": "stdout",
     "output_type": "stream",
     "text": [
      "Is notable for an inferior myocardial infarction , restrictive and obstructive lung disease with an FEV1 of .9 and FVC of 1.34 and a moderate at best response to bronchodilators , and a negative sestamibi scan in May , 1999 apart from a severe fixed inferolateral defect , systolic dysfunction with recent echocardiography revealing an LVID of 62 mm. and ejection fraction of 28 percent , moderate mitral regurgitation and mild-to-moderate aortic stenosis with a peak gradient of 33 and a mean gradient of 19 and a valve area of 1.4 cm. squared .  -  422\n"
     ]
    },
    {
     "name": "stderr",
     "output_type": "stream",
     "text": [
      "\r",
      " 65%|████████████████████████████████████████████████████                            | 423/650 [39:51<36:42,  9.70s/it]"
     ]
    },
    {
     "name": "stdout",
     "output_type": "stream",
     "text": [
      "Blood pressure is 150/90 , heart rate of 90 , respiratory rate 20 with saturation of 98% .  -  423\n"
     ]
    },
    {
     "name": "stderr",
     "output_type": "stream",
     "text": [
      "\r",
      " 65%|████████████████████████████████████████████████████▏                           | 424/650 [39:55<30:37,  8.13s/it]"
     ]
    },
    {
     "name": "stdout",
     "output_type": "stream",
     "text": [
      "Tylenol 650 mg p.o. q 4-6 hours p.r.n. headache , enteric coated aspirin 325 mg p.o. q day , calcium gluconate 1000 mg p.o. b.i.d. , Colace 100 mg p.o. b.i.d. , enema of choice and laxative of choice p.o. q day p.r.n. constipation , Lasix 20 mg p.o. q day , Coumadin 7.5 mg p.o.q.h.s. for goal INR of 2.0-3.0 .  -  424\n"
     ]
    },
    {
     "name": "stderr",
     "output_type": "stream",
     "text": [
      "\r",
      " 65%|████████████████████████████████████████████████████▎                           | 425/650 [40:10<37:53, 10.10s/it]"
     ]
    },
    {
     "name": "stdout",
     "output_type": "stream",
     "text": [
      "Methylprednisolone 4 mg q. a.m. and 2 mg p.o. q.h.s. , spironolactone 50 mg p.o. q.d. , metformin 1500 mg p.o. q.h.s. , Pravastatin 10 mg p.o. q.h.s. , lisinopril 20 mg p.o. q. a.m. , Lasix 80 mg p.o. q. a.m. , Tylenol as needed , insulin regular 22 units in the morning and 12 units at night ( lispro regular ).  -  425\n"
     ]
    },
    {
     "name": "stderr",
     "output_type": "stream",
     "text": [
      "\r",
      " 66%|████████████████████████████████████████████████████▍                           | 426/650 [40:25<43:33, 11.67s/it]"
     ]
    },
    {
     "name": "stdout",
     "output_type": "stream",
     "text": [
      "2017-07-17 04:50 AM BLOOD Calcium - 8.2 * Phos - 3.2 Mg - 1.5 *  -  426\n"
     ]
    },
    {
     "name": "stderr",
     "output_type": "stream",
     "text": [
      "\r",
      " 66%|████████████████████████████████████████████████████▌                           | 427/650 [40:29<34:14,  9.21s/it]"
     ]
    },
    {
     "name": "stdout",
     "output_type": "stream",
     "text": [
      "The patient has a tracheostomy , NG tube , and a Foley catheter .  -  427\n"
     ]
    },
    {
     "name": "stderr",
     "output_type": "stream",
     "text": [
      "\r",
      " 66%|████████████████████████████████████████████████████▋                           | 428/650 [40:32<27:28,  7.43s/it]"
     ]
    },
    {
     "name": "stdout",
     "output_type": "stream",
     "text": [
      "Patient is a 75 year old right handed male with past medical history of coronary artery disease s/p NQWMI 02-25 , s/p LAD angioplasty and stent 05-26 , dementia , hyperlipidemia , aortic stenosis , atrial fibrillation on coumadin who presented from his CMED CSRU doctor 's office wtih acute onset left sided weakness and dysarthria .  -  428\n"
     ]
    },
    {
     "name": "stderr",
     "output_type": "stream",
     "text": [
      "\r",
      " 66%|████████████████████████████████████████████████████▊                           | 429/650 [40:45<33:45,  9.16s/it]"
     ]
    },
    {
     "name": "stdout",
     "output_type": "stream",
     "text": [
      "She received multiple bronchoscopies for pulmonary toilet .  -  429\n"
     ]
    },
    {
     "name": "stderr",
     "output_type": "stream",
     "text": [
      "\r",
      " 66%|████████████████████████████████████████████████████▉                           | 430/650 [40:47<25:35,  6.98s/it]"
     ]
    },
    {
     "name": "stdout",
     "output_type": "stream",
     "text": [
      "On examination on transfer to the Intensive Care Unit she is febrile with a low grade temperature of 100.1 , tachycardic to 110 , hypotensive 85/49 , tachypneic into the 50 s and 60 s, 95% on nonrebreather .  -  430\n"
     ]
    },
    {
     "name": "stderr",
     "output_type": "stream",
     "text": [
      "\r",
      " 66%|█████████████████████████████████████████████████████                           | 431/650 [40:56<27:59,  7.67s/it]"
     ]
    },
    {
     "name": "stdout",
     "output_type": "stream",
     "text": [
      "PRINCIPAL DISCHARGE DIAGNOSIS ; Responsible After Study for Causing Admission ) Sepsis , myocardial infarction , ARDS , pneumonia  -  431\n"
     ]
    },
    {
     "name": "stderr",
     "output_type": "stream",
     "text": [
      "\r",
      " 66%|█████████████████████████████████████████████████████▏                          | 432/650 [41:01<24:23,  6.71s/it]"
     ]
    },
    {
     "name": "stdout",
     "output_type": "stream",
     "text": [
      "Extremities had no edema , 2+ distal pedis .  -  432\n"
     ]
    },
    {
     "name": "stderr",
     "output_type": "stream",
     "text": [
      "\r",
      " 67%|█████████████████████████████████████████████████████▎                          | 433/650 [41:03<19:24,  5.37s/it]"
     ]
    },
    {
     "name": "stdout",
     "output_type": "stream",
     "text": [
      "A single blood culture positive for coagulase negative Staphylococcus was treated with a course of vancomycin in the setting of a PICC line and a chest x-ray on November 20 indicating possible developing pneumonia , resulted in a course of levofloxacin , for both possible pneumonia , as well as treatment of any bacterial superinfection of Acanthamoeba sinusitis .  -  433\n"
     ]
    },
    {
     "name": "stderr",
     "output_type": "stream",
     "text": [
      "\r",
      " 67%|█████████████████████████████████████████████████████▍                          | 434/650 [41:17<28:56,  8.04s/it]"
     ]
    },
    {
     "name": "stdout",
     "output_type": "stream",
     "text": [
      "2019-02-06 06:30 AM BLOOD WBC - 7.4 RBC - 3.82 * Hgb - 11.3 * Hct - 34.7 * MCV - 91 MCH - 29.5 MCHC - 32.5 RDW - 15.1 Plt Ct - 92 *  -  434\n"
     ]
    },
    {
     "name": "stderr",
     "output_type": "stream",
     "text": [
      "\r",
      " 67%|█████████████████████████████████████████████████████▌                          | 435/650 [41:26<29:13,  8.16s/it]"
     ]
    },
    {
     "name": "stdout",
     "output_type": "stream",
     "text": [
      "2013-03-27 12:59 AM URINE BLOOD - NEG NITRITE - NEG PROTEIN - TR GLUCOSE - NEG KETONE - 50 BILIRUBIN - NEG UROBILNGN - 1 PH - 7.0 LEUK - NEG  -  435\n"
     ]
    },
    {
     "name": "stderr",
     "output_type": "stream",
     "text": [
      "\r",
      " 67%|█████████████████████████████████████████████████████▋                          | 436/650 [41:33<28:07,  7.89s/it]"
     ]
    },
    {
     "name": "stdout",
     "output_type": "stream",
     "text": [
      "ALT(SGPT) - 149 * AST(SGOT) - 83 * ALK PHOS - 663 * AMYLASE - 37 TOT BILI - 8.2 *  -  436\n"
     ]
    },
    {
     "name": "stderr",
     "output_type": "stream",
     "text": [
      "\r",
      " 67%|█████████████████████████████████████████████████████▊                          | 437/650 [41:38<24:46,  6.98s/it]"
     ]
    },
    {
     "name": "stdout",
     "output_type": "stream",
     "text": [
      "The peritoneal fluid showed a glucose of 244 , total protein 0.8 and a albumin of 0.5 , globulin 0.3 , amylase 16 , LDH of 51 .  -  437\n"
     ]
    },
    {
     "name": "stderr",
     "output_type": "stream",
     "text": [
      "\r",
      " 67%|█████████████████████████████████████████████████████▉                          | 438/650 [41:44<24:21,  6.89s/it]"
     ]
    },
    {
     "name": "stdout",
     "output_type": "stream",
     "text": [
      "Currently , 03-14 blood cx are growing GNR in both anaerobic bottles .  -  438\n"
     ]
    },
    {
     "name": "stderr",
     "output_type": "stream",
     "text": [
      "\r",
      " 68%|██████████████████████████████████████████████████████                          | 439/650 [41:48<20:24,  5.80s/it]"
     ]
    },
    {
     "name": "stdout",
     "output_type": "stream",
     "text": [
      "She had a CT from the 29th of her abdomen and pelvis showing marked increased consolidations at the left lung base and question of new left sided pleural effusion .  -  439\n"
     ]
    },
    {
     "name": "stderr",
     "output_type": "stream",
     "text": [
      "\r",
      " 68%|██████████████████████████████████████████████████████▏                         | 440/650 [41:55<22:04,  6.31s/it]"
     ]
    },
    {
     "name": "stdout",
     "output_type": "stream",
     "text": [
      "v / q at outside hospital read as low prob. leni &apos;s here neg. d/c&apos;ed on levo / flagyl for presumed post-obstructive pneumonia .  -  440\n"
     ]
    },
    {
     "name": "stderr",
     "output_type": "stream",
     "text": [
      "\r",
      " 68%|██████████████████████████████████████████████████████▎                         | 441/650 [42:01<21:24,  6.15s/it]"
     ]
    },
    {
     "name": "stdout",
     "output_type": "stream",
     "text": [
      "Here she was given an additional valium 5 mg x 2 and ativan 1 mg x 3 for persistent twitching in her face and right hand .  -  441\n"
     ]
    },
    {
     "name": "stderr",
     "output_type": "stream",
     "text": [
      "\r",
      " 68%|██████████████████████████████████████████████████████▍                         | 442/650 [42:07<21:38,  6.24s/it]"
     ]
    },
    {
     "name": "stdout",
     "output_type": "stream",
     "text": [
      "2. Coronary artery disease , status post anterior myocardial infarction in 1993 .  -  442\n"
     ]
    },
    {
     "name": "stderr",
     "output_type": "stream",
     "text": [
      "\r",
      " 68%|██████████████████████████████████████████████████████▌                         | 443/650 [42:11<18:24,  5.34s/it]"
     ]
    },
    {
     "name": "stdout",
     "output_type": "stream",
     "text": [
      "Morphine Sulfate / Codeine / Keflex / Sudafed  -  443\n"
     ]
    },
    {
     "name": "stderr",
     "output_type": "stream",
     "text": [
      "\r",
      " 68%|██████████████████████████████████████████████████████▋                         | 444/650 [42:13<14:59,  4.37s/it]"
     ]
    },
    {
     "name": "stdout",
     "output_type": "stream",
     "text": [
      "He had a differential diagnosis of asystole preceded by an acute rise in central venous pressure included attention pneumothorax , cardiac tamponade , and pulmonary embolism .  -  444\n"
     ]
    },
    {
     "name": "stderr",
     "output_type": "stream",
     "text": [
      "\r",
      " 68%|██████████████████████████████████████████████████████▊                         | 445/650 [42:19<17:13,  5.04s/it]"
     ]
    },
    {
     "name": "stdout",
     "output_type": "stream",
     "text": [
      "possible drainage of the abscess vs. hysterectomy .  -  445\n"
     ]
    },
    {
     "name": "stderr",
     "output_type": "stream",
     "text": [
      "\r",
      " 69%|██████████████████████████████████████████████████████▉                         | 446/650 [42:21<13:55,  4.09s/it]"
     ]
    },
    {
     "name": "stdout",
     "output_type": "stream",
     "text": [
      "He had a cardiac catheterization which revealed 3-vessel disease .  -  446\n"
     ]
    },
    {
     "name": "stderr",
     "output_type": "stream",
     "text": [
      "\r",
      " 69%|███████████████████████████████████████████████████████                         | 447/650 [42:24<12:08,  3.59s/it]"
     ]
    },
    {
     "name": "stdout",
     "output_type": "stream",
     "text": [
      "O2 95% on 3L NC mixed Quinn 82% genrl : in nad , resting comfortably heent : perrla ( 4->3 mm ) bilaterally , blind in right visual field , eomi , dry mm , ? thrush neck : no bruits cv : rrr , no m/r/g , faint s1/s2 pulm : cta bilaterally abd : midline scar ( from urostomy ) , nabs , soft , appears distended but patient denies , ostomy RLQ c/d/i , NT to palpation back : right flank urostomy tube , c/d/i , nt to palpation extr : no Gardner neuro : a , ox3 , wiggles toes bilaterally , unable to lift LE , 06-12 grip bilaterally w/ UE , decrease sensation to soft touch in left  -  447\n"
     ]
    },
    {
     "name": "stderr",
     "output_type": "stream",
     "text": [
      "\r",
      " 69%|███████████████████████████████████████████████████████▏                        | 448/650 [42:54<39:37, 11.77s/it]"
     ]
    },
    {
     "name": "stdout",
     "output_type": "stream",
     "text": [
      "2017-07-11 08:00 AM BLOOD Glucose - 137 * UreaN - 19 Creat - 1.0 Na - 142 K - 4.0 Cl - 105 HCO3 - 29 AnGap - 12  -  448\n"
     ]
    },
    {
     "name": "stderr",
     "output_type": "stream",
     "text": [
      "\r",
      " 69%|███████████████████████████████████████████████████████▎                        | 449/650 [43:02<34:41, 10.36s/it]"
     ]
    },
    {
     "name": "stdout",
     "output_type": "stream",
     "text": [
      "Pulm had previously been consulted and felt that presentation was c/w PCP , Joann started on Bactrim .  -  449\n"
     ]
    },
    {
     "name": "stderr",
     "output_type": "stream",
     "text": [
      "\r",
      " 69%|███████████████████████████████████████████████████████▍                        | 450/650 [43:06<28:38,  8.59s/it]"
     ]
    },
    {
     "name": "stdout",
     "output_type": "stream",
     "text": [
      "Intubated for airway protection at 13:35 after Fentanyl , Etomidate , Vecuronium and Succhinylcholine given .  -  450\n"
     ]
    },
    {
     "name": "stderr",
     "output_type": "stream",
     "text": [
      "\r",
      " 69%|███████████████████████████████████████████████████████▌                        | 451/650 [43:10<23:52,  7.20s/it]"
     ]
    },
    {
     "name": "stdout",
     "output_type": "stream",
     "text": [
      "45F with recent inferior STEMI s / p stent to RCA .  -  451\n"
     ]
    },
    {
     "name": "stderr",
     "output_type": "stream",
     "text": [
      "\r",
      " 70%|███████████████████████████████████████████████████████▋                        | 452/650 [43:13<19:48,  6.00s/it]"
     ]
    },
    {
     "name": "stdout",
     "output_type": "stream",
     "text": [
      "His troponins remained lower than his baseline levels and there was no suspicion of ACS causing syncope .  -  452\n"
     ]
    },
    {
     "name": "stderr",
     "output_type": "stream",
     "text": [
      "\r",
      " 70%|███████████████████████████████████████████████████████▊                        | 453/650 [43:17<18:02,  5.50s/it]"
     ]
    },
    {
     "name": "stdout",
     "output_type": "stream",
     "text": [
      "hematocrit 33 , white count 4.4 , with 28% monos and 30% polys and bands .  -  453\n"
     ]
    },
    {
     "name": "stderr",
     "output_type": "stream",
     "text": [
      "\r",
      " 70%|███████████████████████████████████████████████████████▉                        | 454/650 [43:21<16:25,  5.03s/it]"
     ]
    },
    {
     "name": "stdout",
     "output_type": "stream",
     "text": [
      "He was found to have a temperature of 97.4 , heart rate 65 , pressure 107/52 , respiratory rate 22 and saturating 100% on 2 L of a nasal cannula .  -  454\n"
     ]
    },
    {
     "name": "stderr",
     "output_type": "stream",
     "text": [
      "\r",
      " 70%|████████████████████████████████████████████████████████                        | 455/650 [43:29<18:48,  5.79s/it]"
     ]
    },
    {
     "name": "stdout",
     "output_type": "stream",
     "text": [
      "2019-04-11 06:27 AM BLOOD WBC - 4.4 RBC - 3.03 * Hgb - 9.5 * Hct - 26.7 * MCV - 88 MCH - 31.2 MCHC - 35.4 * RDW - 14.7 Plt Ct - 94 *  -  455\n"
     ]
    },
    {
     "name": "stderr",
     "output_type": "stream",
     "text": [
      "\r",
      " 70%|████████████████████████████████████████████████████████                        | 456/650 [43:37<21:06,  6.53s/it]"
     ]
    },
    {
     "name": "stdout",
     "output_type": "stream",
     "text": [
      "On admission , he was on Isordil 10 tid and enteric coated aspirin , but he was not taking either of these medications .  -  456\n"
     ]
    },
    {
     "name": "stderr",
     "output_type": "stream",
     "text": [
      "\r",
      " 70%|████████████████████████████████████████████████████████▏                       | 457/650 [43:43<20:04,  6.24s/it]"
     ]
    },
    {
     "name": "stdout",
     "output_type": "stream",
     "text": [
      "The patient presented to the Sloan- Center Emergency Department , where he was resuscitated with normal saline and received morphine for pain .  -  457\n"
     ]
    },
    {
     "name": "stderr",
     "output_type": "stream",
     "text": [
      "\r",
      " 70%|████████████████████████████████████████████████████████▎                       | 458/650 [43:48<19:01,  5.95s/it]"
     ]
    },
    {
     "name": "stdout",
     "output_type": "stream",
     "text": [
      "Hypertension - The patient had moderate control of her blood pressure throughout her admission .  -  458\n"
     ]
    },
    {
     "name": "stderr",
     "output_type": "stream",
     "text": [
      "\r",
      " 71%|████████████████████████████████████████████████████████▍                       | 459/650 [43:51<16:28,  5.17s/it]"
     ]
    },
    {
     "name": "stdout",
     "output_type": "stream",
     "text": [
      "She was subsequently referred to Dr. Ko for a possible resection of this carcinoma .  -  459\n"
     ]
    },
    {
     "name": "stderr",
     "output_type": "stream",
     "text": [
      "\r",
      " 71%|████████████████████████████████████████████████████████▌                       | 460/650 [43:55<14:43,  4.65s/it]"
     ]
    },
    {
     "name": "stdout",
     "output_type": "stream",
     "text": [
      "She will be d/c w/out her heparin as she is trending upwards with her INR and has no MR Paul Paquettec heart disease .  -  460\n"
     ]
    },
    {
     "name": "stderr",
     "output_type": "stream",
     "text": [
      "\r",
      " 71%|████████████████████████████████████████████████████████▋                       | 461/650 [44:00<15:22,  4.88s/it]"
     ]
    },
    {
     "name": "stdout",
     "output_type": "stream",
     "text": [
      "His discharge chest x-ray showed persistent bibasilar atelectasis with only tiny pleural effusions .  -  461\n"
     ]
    },
    {
     "name": "stderr",
     "output_type": "stream",
     "text": [
      "\r",
      " 71%|████████████████████████████████████████████████████████▊                       | 462/650 [44:03<13:43,  4.38s/it]"
     ]
    },
    {
     "name": "stdout",
     "output_type": "stream",
     "text": [
      "The patient is a 60-year-old male with a past medical history notable for coronary artery disease and CABG x2 in 2001 .  -  462\n"
     ]
    },
    {
     "name": "stderr",
     "output_type": "stream",
     "text": [
      "\r",
      " 71%|████████████████████████████████████████████████████████▉                       | 463/650 [44:08<14:11,  4.55s/it]"
     ]
    },
    {
     "name": "stdout",
     "output_type": "stream",
     "text": [
      "She was treated with Levaquin given her temperatures and differential diagnosis of increased PE burden load , infections or pneumonia and questionable lymphangitic spread of her cancer .  -  463\n"
     ]
    },
    {
     "name": "stderr",
     "output_type": "stream",
     "text": [
      "\r",
      " 71%|█████████████████████████████████████████████████████████                       | 464/650 [44:15<15:51,  5.11s/it]"
     ]
    },
    {
     "name": "stdout",
     "output_type": "stream",
     "text": [
      "2017-07-13 08:40 AM BLOOD Type - ART pO2 - 72 * pCO2 - 34 * pH - 7.46 * calHCO3 - 25 Base XS - 0  -  464\n"
     ]
    },
    {
     "name": "stderr",
     "output_type": "stream",
     "text": [
      "\r",
      " 72%|█████████████████████████████████████████████████████████▏                      | 465/650 [44:21<16:25,  5.33s/it]"
     ]
    },
    {
     "name": "stdout",
     "output_type": "stream",
     "text": [
      "Topical Bactroban to be applied three times a day to affected naris , prednisone 5 mg p.o. q.a.m. , K-Dur 10 mEq x2 p.o. q.d. , OxyContin 10 mg p.o. q.12h. , clindamycin 300 mg p.o. q.i.d. , lisinopril 10 mg p.o. q.d. , atenolol 25 mg p.o. q.d. , trazodone 100 mg p.o. q.h.s. , Prilosec 40 mg p.o. q.d , clotrimazole 1% cream topical to be applied b.i.d.  -  465\n"
     ]
    },
    {
     "name": "stderr",
     "output_type": "stream",
     "text": [
      "\r",
      " 72%|█████████████████████████████████████████████████████████▎                      | 466/650 [44:36<25:41,  8.38s/it]"
     ]
    },
    {
     "name": "stdout",
     "output_type": "stream",
     "text": [
      "Refractory CLL with bone marrow involvement , status post MUD , mini-allo stem cell transplant , December , 2002 , Acanthamoeba infection of skin and sinuses , recently treated with IV pentamidine and p.o. voriconazole , history of recurrent CMB infection , recent ARS on CRI , thought due to medication toxicity ( creatinine on discharge from Retelk County Medical Center on October 16 was 2.6) .  -  466\n"
     ]
    },
    {
     "name": "stderr",
     "output_type": "stream",
     "text": [
      "\r",
      " 72%|█████████████████████████████████████████████████████████▍                      | 467/650 [44:51<31:31, 10.34s/it]"
     ]
    },
    {
     "name": "stdout",
     "output_type": "stream",
     "text": [
      "Urine Cx in house grew Citrobacter Freundi and his sputum grew Acinetobacter Baummani .  -  467\n"
     ]
    },
    {
     "name": "stderr",
     "output_type": "stream",
     "text": [
      "\r",
      " 72%|█████████████████████████████████████████████████████████▌                      | 468/650 [44:54<24:51,  8.19s/it]"
     ]
    },
    {
     "name": "stdout",
     "output_type": "stream",
     "text": [
      "The patient had stable hematocrit of 38% on intravenous heparin .  -  468\n"
     ]
    },
    {
     "name": "stderr",
     "output_type": "stream",
     "text": [
      "\r",
      " 72%|█████████████████████████████████████████████████████████▋                      | 469/650 [44:57<19:28,  6.46s/it]"
     ]
    },
    {
     "name": "stdout",
     "output_type": "stream",
     "text": [
      "HPI This is a 60 yo gentleman who previously had an ileocolic resection for a right colon cancer , and was found to have recurrent disease on colonoscopy .  -  469\n"
     ]
    },
    {
     "name": "stderr",
     "output_type": "stream",
     "text": [
      "\r",
      " 72%|█████████████████████████████████████████████████████████▊                      | 470/650 [45:03<19:32,  6.51s/it]"
     ]
    },
    {
     "name": "stdout",
     "output_type": "stream",
     "text": [
      "3. fevers on admission : Pt w/ positive U/A , treated with bactrim x 3 days with defervescence .  -  470\n"
     ]
    },
    {
     "name": "stderr",
     "output_type": "stream",
     "text": [
      "\r",
      " 72%|█████████████████████████████████████████████████████████▉                      | 471/650 [45:08<17:25,  5.84s/it]"
     ]
    },
    {
     "name": "stdout",
     "output_type": "stream",
     "text": [
      "White blood cell count was 8.5 ( 80 percent neutrophils , 13 percent lymphocytes ) , hematocrit 27.4 , platelet count 277,000 .  -  471\n"
     ]
    },
    {
     "name": "stderr",
     "output_type": "stream",
     "text": [
      "\r",
      " 73%|██████████████████████████████████████████████████████████                      | 472/650 [45:13<16:48,  5.67s/it]"
     ]
    },
    {
     "name": "stdout",
     "output_type": "stream",
     "text": [
      "Pleural effusion : s/p pigtail cath drain .  -  472\n"
     ]
    },
    {
     "name": "stderr",
     "output_type": "stream",
     "text": [
      "\r",
      " 73%|██████████████████████████████████████████████████████████▏                     | 473/650 [45:15<13:16,  4.50s/it]"
     ]
    },
    {
     "name": "stdout",
     "output_type": "stream",
     "text": [
      "On 09-03-92 , patient underwent a left great toe buttontoe amputation under regional ankle block for chronic ulcer and osteomyelitis of the left great toe .  -  473\n"
     ]
    },
    {
     "name": "stderr",
     "output_type": "stream",
     "text": [
      "\r",
      " 73%|██████████████████████████████████████████████████████████▎                     | 474/650 [45:20<14:17,  4.87s/it]"
     ]
    },
    {
     "name": "stdout",
     "output_type": "stream",
     "text": [
      "The head , eyes , ears , nose , throat exam was normocephalic , with trauma as described , pupils were 2 mm bilaterally which were minimally reactive , fundi was not seen , conjunctivae without erythema , sclerae anicteric , positive corneal reflexes noted .  -  474\n"
     ]
    },
    {
     "name": "stderr",
     "output_type": "stream",
     "text": [
      "\r",
      " 73%|██████████████████████████████████████████████████████████▍                     | 475/650 [45:32<19:46,  6.78s/it]"
     ]
    },
    {
     "name": "stdout",
     "output_type": "stream",
     "text": [
      "Chest tubes and wires removed without incident .  -  475\n"
     ]
    },
    {
     "name": "stderr",
     "output_type": "stream",
     "text": [
      "\r",
      " 73%|██████████████████████████████████████████████████████████▌                     | 476/650 [45:33<15:19,  5.28s/it]"
     ]
    },
    {
     "name": "stdout",
     "output_type": "stream",
     "text": [
      "She averaged 2-3 apnea episodes a day with bradycardia and desaturations .  -  476\n"
     ]
    },
    {
     "name": "stderr",
     "output_type": "stream",
     "text": [
      "\r",
      " 73%|██████████████████████████████████████████████████████████▋                     | 477/650 [45:36<13:00,  4.51s/it]"
     ]
    },
    {
     "name": "stdout",
     "output_type": "stream",
     "text": [
      "Her hematocrit was 38.8 , hemoglobin 13.7 , platelet count 155,000 , PT 12.7/10.1 , PTT 33.9 , erythrocyte sedimentation rate 18 , calcium 7.5 , phosphorus 3.5 , sodium 136 , potassium 3.7 , BUN 15 , total protein 5.9 , albumin 2.3 , globulin 3.6 , alkaline phosphatase 379 , SGOT 37 , Digoxin level 0.7 .  -  477\n"
     ]
    },
    {
     "name": "stderr",
     "output_type": "stream",
     "text": [
      "\r",
      " 74%|██████████████████████████████████████████████████████████▊                     | 478/650 [45:50<20:54,  7.29s/it]"
     ]
    },
    {
     "name": "stdout",
     "output_type": "stream",
     "text": [
      "CV : tachycardic , regular rhythm , III/VI systolic , crescendo-decrescendo at USB bilaterally .  -  478\n"
     ]
    },
    {
     "name": "stderr",
     "output_type": "stream",
     "text": [
      "\r",
      " 74%|██████████████████████████████████████████████████████████▉                     | 479/650 [45:54<17:41,  6.21s/it]"
     ]
    },
    {
     "name": "stdout",
     "output_type": "stream",
     "text": [
      "Phenobarbital and Dilantin given for seizure control .  -  479\n"
     ]
    },
    {
     "name": "stderr",
     "output_type": "stream",
     "text": [
      "\r",
      " 74%|███████████████████████████████████████████████████████████                     | 480/650 [45:55<13:54,  4.91s/it]"
     ]
    },
    {
     "name": "stdout",
     "output_type": "stream",
     "text": [
      "Globulin was 1.6 , uric acid was 6.5 , alkaline phosphatase 150 , SGPT 11 , SGOT 85 , LDH 524 , CK 152 , NH3 81 .  -  480\n"
     ]
    },
    {
     "name": "stderr",
     "output_type": "stream",
     "text": [
      "\r",
      " 74%|███████████████████████████████████████████████████████████▏                    | 481/650 [46:02<15:01,  5.33s/it]"
     ]
    },
    {
     "name": "stdout",
     "output_type": "stream",
     "text": [
      "He denied any seizure activity , loss of consciousness , incontinence , shortness of breath , fevers , or chills , chest pain , change in urinary or bowel habits , or suicidal ideation .  -  481\n"
     ]
    },
    {
     "name": "stderr",
     "output_type": "stream",
     "text": [
      "\r",
      " 74%|███████████████████████████████████████████████████████████▎                    | 482/650 [46:10<17:46,  6.35s/it]"
     ]
    },
    {
     "name": "stdout",
     "output_type": "stream",
     "text": [
      "CXR shows diffuse b/l infiltrates R > L and pt was found to have a bandemia .  -  482\n"
     ]
    },
    {
     "name": "stderr",
     "output_type": "stream",
     "text": [
      "\r",
      " 74%|███████████████████████████████████████████████████████████▍                    | 483/650 [46:15<15:53,  5.71s/it]"
     ]
    },
    {
     "name": "stdout",
     "output_type": "stream",
     "text": [
      "Following the operation , he was brought to the CSRU for invasive monitoring .  -  483\n"
     ]
    },
    {
     "name": "stderr",
     "output_type": "stream",
     "text": [
      "\r",
      " 74%|███████████████████████████████████████████████████████████▌                    | 484/650 [46:18<13:49,  5.00s/it]"
     ]
    },
    {
     "name": "stdout",
     "output_type": "stream",
     "text": [
      "Urinalysis was positive for protein .  -  484\n"
     ]
    },
    {
     "name": "stderr",
     "output_type": "stream",
     "text": [
      "\r",
      " 75%|███████████████████████████████████████████████████████████▋                    | 485/650 [46:19<10:45,  3.91s/it]"
     ]
    },
    {
     "name": "stdout",
     "output_type": "stream",
     "text": [
      "2019-04-13 08:40 AM BLOOD WBC - 6.7 RBC - 3.07 * Hgb - 9.3 * Hct - 27.1 * MCV - 88 MCH - 30.4 MCHC - 34.5 RDW - 16.2 * Plt Ct - 144 *  -  485\n"
     ]
    },
    {
     "name": "stderr",
     "output_type": "stream",
     "text": [
      "\r",
      " 75%|███████████████████████████████████████████████████████████▊                    | 486/650 [46:28<14:18,  5.23s/it]"
     ]
    },
    {
     "name": "stdout",
     "output_type": "stream",
     "text": [
      "A biopsy at that time revealed grade 1B rejection with endothelialitis and eosinophils .  -  486\n"
     ]
    },
    {
     "name": "stderr",
     "output_type": "stream",
     "text": [
      "\r",
      " 75%|███████████████████████████████████████████████████████████▉                    | 487/650 [46:31<12:43,  4.69s/it]"
     ]
    },
    {
     "name": "stdout",
     "output_type": "stream",
     "text": [
      "This pregnancy was complicate by triplet gestation , cervical shortening , and pregnancy induced hypertension .  -  487\n"
     ]
    },
    {
     "name": "stderr",
     "output_type": "stream",
     "text": [
      "\r",
      " 75%|████████████████████████████████████████████████████████████                    | 488/650 [46:35<11:53,  4.41s/it]"
     ]
    },
    {
     "name": "stdout",
     "output_type": "stream",
     "text": [
      "Our leading theory at this point is that her cerebellar dysfunction relates to perineoplastic syndrome , relating to her history of breast Ca .  -  488\n"
     ]
    },
    {
     "name": "stderr",
     "output_type": "stream",
     "text": [
      "\r",
      " 75%|████████████████████████████████████████████████████████████▏                   | 489/650 [46:41<12:53,  4.81s/it]"
     ]
    },
    {
     "name": "stdout",
     "output_type": "stream",
     "text": [
      "Cardiac catheterization demonstrates severe triple vessel coronary artery disease , RCA 100% occluded , saphenous vein graft to OM1 graft was 100% occluded and a patent LIMA , but severely diseased LAD .  -  489\n"
     ]
    },
    {
     "name": "stderr",
     "output_type": "stream",
     "text": [
      "\r",
      " 75%|████████████████████████████████████████████████████████████▎                   | 490/650 [46:49<15:20,  5.76s/it]"
     ]
    },
    {
     "name": "stdout",
     "output_type": "stream",
     "text": [
      "Liver function tests were significant for an ALT 41 , AST 31 , alk phos 76 , T. bili 0.7 , D. bili 0.2 , amylase 345 , lipase 2510 , T. protein 8.1 , albumin 4.9 , globulin 3.2 , Ca 9.9 .  -  490\n"
     ]
    },
    {
     "name": "stderr",
     "output_type": "stream",
     "text": [
      "\r",
      " 76%|████████████████████████████████████████████████████████████▍                   | 491/650 [46:59<18:33,  7.00s/it]"
     ]
    },
    {
     "name": "stdout",
     "output_type": "stream",
     "text": [
      "Neurology consultation on the evening of 9/7/93 revealed supple neck , no response to external rub .  -  491\n"
     ]
    },
    {
     "name": "stderr",
     "output_type": "stream",
     "text": [
      "\r",
      " 76%|████████████████████████████████████████████████████████████▌                   | 492/650 [47:02<16:01,  6.09s/it]"
     ]
    },
    {
     "name": "stdout",
     "output_type": "stream",
     "text": [
      "Metoprolol 50 mg PO b.i.d. , Isordil 20 mg PO t.i.d. , Ecotrin aspirin q.day .  -  492\n"
     ]
    },
    {
     "name": "stderr",
     "output_type": "stream",
     "text": [
      "\r",
      " 76%|████████████████████████████████████████████████████████████▋                   | 493/650 [47:06<13:58,  5.34s/it]"
     ]
    },
    {
     "name": "stdout",
     "output_type": "stream",
     "text": [
      "Suture of right temporal head wound , performed on April 14 , 1994 .  -  493\n"
     ]
    },
    {
     "name": "stderr",
     "output_type": "stream",
     "text": [
      "\r",
      " 76%|████████████████████████████████████████████████████████████▊                   | 494/650 [47:09<12:18,  4.74s/it]"
     ]
    },
    {
     "name": "stdout",
     "output_type": "stream",
     "text": [
      "These culminated in an attempted cadaveric kidney transplant undertaken on 12/16/97 , which was complicated by thrombosis and necrosis of the cadaveric renal vein within 24 hours .  -  494\n"
     ]
    },
    {
     "name": "stderr",
     "output_type": "stream",
     "text": [
      "\r",
      " 76%|████████████████████████████████████████████████████████████▉                   | 495/650 [47:16<13:51,  5.36s/it]"
     ]
    },
    {
     "name": "stdout",
     "output_type": "stream",
     "text": [
      "Aspirin 325 q.d. ; albuterol nebs 2.5 mg q. 4h ; Colace 100 mg b.i.d. ; heparin 5,000 units subcu b.i.d. ; Synthroid 200 mcg q.d. ; Ocean Spray 2 sprays q. i.d. ; simvastatin 10 mg q. h.s. ; Flovent 220 mcg 2 puffs b.i.d. ; Zantac 150 b.i.d. ; nystatin ointment to the gluteal fold b.i.d. ; Lisinopril 20 mg q.d. ; Mestinon controlled release 180 q. h.s. ; Mestinon 30 mg q. 4h while awake ; prednisone 60 mg p.o. q. IM ; Atrovent nebs 0.5 mg q. i.d.  -  495\n"
     ]
    },
    {
     "name": "stderr",
     "output_type": "stream",
     "text": [
      "\r",
      " 76%|█████████████████████████████████████████████████████████████                   | 496/650 [47:37<25:54, 10.10s/it]"
     ]
    },
    {
     "name": "stdout",
     "output_type": "stream",
     "text": [
      "78 year old female with history of HTN , a.fib presenting with ureteral stone , hydronephrosis , and urosepsis .  -  496\n"
     ]
    },
    {
     "name": "stderr",
     "output_type": "stream",
     "text": [
      "\r",
      " 76%|█████████████████████████████████████████████████████████████▏                  | 497/650 [47:42<21:26,  8.41s/it]"
     ]
    },
    {
     "name": "stdout",
     "output_type": "stream",
     "text": [
      "He was in no acute distress , non-toxic .  -  497\n"
     ]
    },
    {
     "name": "stderr",
     "output_type": "stream",
     "text": [
      "\r",
      " 77%|█████████████████████████████████████████████████████████████▎                  | 498/650 [47:44<16:31,  6.52s/it]"
     ]
    },
    {
     "name": "stdout",
     "output_type": "stream",
     "text": [
      "Received 2 mg dilaudid for pain o/n .  -  498\n"
     ]
    },
    {
     "name": "stderr",
     "output_type": "stream",
     "text": [
      "\r",
      " 77%|█████████████████████████████████████████████████████████████▍                  | 499/650 [47:46<12:57,  5.15s/it]"
     ]
    },
    {
     "name": "stdout",
     "output_type": "stream",
     "text": [
      "17. Ibuprofen 600 mg Tablet Sig : One ( 1 ) Tablet PO Q8H ( every 8 hours ) as needed for pain .  -  499\n"
     ]
    },
    {
     "name": "stderr",
     "output_type": "stream",
     "text": [
      "\r",
      " 77%|█████████████████████████████████████████████████████████████▌                  | 500/650 [47:52<13:32,  5.42s/it]"
     ]
    },
    {
     "name": "stdout",
     "output_type": "stream",
     "text": [
      "Neurology felt that the patient 's cognitive symptoms were consistent w/ metabolic encephalopathy due to his multiple medical problems .  -  500\n"
     ]
    },
    {
     "name": "stderr",
     "output_type": "stream",
     "text": [
      "\r",
      " 77%|█████████████████████████████████████████████████████████████▋                  | 501/650 [47:57<12:54,  5.20s/it]"
     ]
    },
    {
     "name": "stdout",
     "output_type": "stream",
     "text": [
      "He was taken to bone marrow harvest in 08/22 at which time insufficient cells were obtained to proceed .  -  501\n"
     ]
    },
    {
     "name": "stderr",
     "output_type": "stream",
     "text": [
      "\r",
      " 77%|█████████████████████████████████████████████████████████████▊                  | 502/650 [48:01<12:08,  4.92s/it]"
     ]
    },
    {
     "name": "stdout",
     "output_type": "stream",
     "text": [
      "His pain was adequately controlled with oral medications .  -  502\n"
     ]
    },
    {
     "name": "stderr",
     "output_type": "stream",
     "text": [
      "\r",
      " 77%|█████████████████████████████████████████████████████████████▉                  | 503/650 [48:03<09:55,  4.05s/it]"
     ]
    },
    {
     "name": "stdout",
     "output_type": "stream",
     "text": [
      "He currently receives saline washes and Adaptic dressing changes twice a day .  -  503\n"
     ]
    },
    {
     "name": "stderr",
     "output_type": "stream",
     "text": [
      "\r",
      " 78%|██████████████████████████████████████████████████████████████                  | 504/650 [48:06<09:01,  3.71s/it]"
     ]
    },
    {
     "name": "stdout",
     "output_type": "stream",
     "text": [
      "Hepatitis B surface antigen negative , cystic fibrosis negative , and Group B strep unknown .  -  504\n"
     ]
    },
    {
     "name": "stderr",
     "output_type": "stream",
     "text": [
      "\r",
      " 78%|██████████████████████████████████████████████████████████████▏                 | 505/650 [48:10<08:57,  3.71s/it]"
     ]
    },
    {
     "name": "stdout",
     "output_type": "stream",
     "text": [
      "Started on levo / flagyl / ceftriaxone and lasix for sbp and questionable meningitis .  -  505\n"
     ]
    },
    {
     "name": "stderr",
     "output_type": "stream",
     "text": [
      "\r",
      " 78%|██████████████████████████████████████████████████████████████▎                 | 506/650 [48:13<08:57,  3.73s/it]"
     ]
    },
    {
     "name": "stdout",
     "output_type": "stream",
     "text": [
      "An echocardiogram was obtained on 4-26 which showed concentric left ventricular hypertrophy with normal _____ left ventricular function , severe right ventricular dilatation with septal hypokinesis and flattening with a question of right ventricular apical clot raised with mild aortic stenosis , severe tricuspid regurgitation and increased pulmonary artery pressure of approximately 70 millimeters , consistent with fairly severe pulmonary hypertension .  -  506\n"
     ]
    },
    {
     "name": "stderr",
     "output_type": "stream",
     "text": [
      "\r",
      " 78%|██████████████████████████████████████████████████████████████▍                 | 507/650 [48:28<17:01,  7.14s/it]"
     ]
    },
    {
     "name": "stdout",
     "output_type": "stream",
     "text": [
      "His deep tendon reflexes were 2+ at the right brachial radialis and right patella ; everywhere else his reflexes were 1 .  -  507\n"
     ]
    },
    {
     "name": "stderr",
     "output_type": "stream",
     "text": [
      "\r",
      " 78%|██████████████████████████████████████████████████████████████▌                 | 508/650 [48:33<15:25,  6.52s/it]"
     ]
    },
    {
     "name": "stdout",
     "output_type": "stream",
     "text": [
      "Sodium 137 , potassium 4.0 , blood urea nitrogen 16 , creatinine .9 , white blood cell count 4.9 , hematocrit 29.7 , platelet count 207 .  -  508\n"
     ]
    },
    {
     "name": "stderr",
     "output_type": "stream",
     "text": [
      "\r",
      " 78%|██████████████████████████████████████████████████████████████▋                 | 509/650 [48:40<15:03,  6.41s/it]"
     ]
    },
    {
     "name": "stdout",
     "output_type": "stream",
     "text": [
      "Blood cultures mentioned previously were positive for C. perfringens .  -  509\n"
     ]
    },
    {
     "name": "stderr",
     "output_type": "stream",
     "text": [
      "\r",
      " 78%|██████████████████████████████████████████████████████████████▊                 | 510/650 [48:42<12:03,  5.17s/it]"
     ]
    },
    {
     "name": "stdout",
     "output_type": "stream",
     "text": [
      "He was maintained variously on Levophed , Dobutamine , Dopamine , and ultimately Epinephrine for blood pressure support .  -  510\n"
     ]
    },
    {
     "name": "stderr",
     "output_type": "stream",
     "text": [
      "\r",
      " 79%|██████████████████████████████████████████████████████████████▉                 | 511/650 [48:46<11:24,  4.92s/it]"
     ]
    },
    {
     "name": "stdout",
     "output_type": "stream",
     "text": [
      "He had been noting night sweats , increasing fatigue , anorexia , and dyspnea , which were not particularly improved by increased transfusions or alterations of hydroxy urea .  -  511\n"
     ]
    },
    {
     "name": "stderr",
     "output_type": "stream",
     "text": [
      "\r",
      " 79%|███████████████████████████████████████████████████████████████                 | 512/650 [48:53<12:28,  5.42s/it]"
     ]
    },
    {
     "name": "stdout",
     "output_type": "stream",
     "text": [
      "Workup at the outside hospital included a CT scan of the head revealing a possible parietal subdural bleed on the right side .  -  512\n"
     ]
    },
    {
     "name": "stderr",
     "output_type": "stream",
     "text": [
      "\r",
      " 79%|███████████████████████████████████████████████████████████████▏                | 513/650 [48:58<12:10,  5.33s/it]"
     ]
    },
    {
     "name": "stdout",
     "output_type": "stream",
     "text": [
      "Therefore , he went to repeat cardiac catheterization which revealed that the left anterior descending site was patent and revealed a distal PDA lesion and a circumflex lesion after the OM .  -  513\n"
     ]
    },
    {
     "name": "stderr",
     "output_type": "stream",
     "text": [
      "\r",
      " 79%|███████████████████████████████████████████████████████████████▎                | 514/650 [49:05<13:25,  5.92s/it]"
     ]
    },
    {
     "name": "stdout",
     "output_type": "stream",
     "text": [
      "He had been noting night sweats , increasing fatigue , anorexia , and dyspnea , which were not particularly improved by increased transfusions or alterations of hydroxy urea .  -  514\n"
     ]
    },
    {
     "name": "stderr",
     "output_type": "stream",
     "text": [
      "\r",
      " 79%|███████████████████████████████████████████████████████████████▍                | 515/650 [49:12<13:58,  6.21s/it]"
     ]
    },
    {
     "name": "stdout",
     "output_type": "stream",
     "text": [
      "Birth weight 1455 grams ( 50th percentile ), head circumference 29.25 cm ( 50th percentile ), length 41.5 cm ( 50th percentile ).  -  515\n"
     ]
    },
    {
     "name": "stderr",
     "output_type": "stream",
     "text": [
      "\r",
      " 79%|███████████████████████████████████████████████████████████████▌                | 516/650 [49:17<13:13,  5.92s/it]"
     ]
    },
    {
     "name": "stdout",
     "output_type": "stream",
     "text": [
      "The patient gets hives to aspirin and tomatoes also cause her hives .  -  516\n"
     ]
    },
    {
     "name": "stderr",
     "output_type": "stream",
     "text": [
      "\r",
      " 80%|███████████████████████████████████████████████████████████████▋                | 517/650 [49:20<11:09,  5.03s/it]"
     ]
    },
    {
     "name": "stdout",
     "output_type": "stream",
     "text": [
      "Her echocardiogram curiously showed a normal left ventricular size and systolic function , a patent foramen ovale , with a trace right to left shunt , as determined by bubble study , trace MR was present .  -  517\n"
     ]
    },
    {
     "name": "stderr",
     "output_type": "stream",
     "text": [
      "\r",
      " 80%|███████████████████████████████████████████████████████████████▊                | 518/650 [49:29<13:13,  6.01s/it]"
     ]
    },
    {
     "name": "stdout",
     "output_type": "stream",
     "text": [
      "The patient &apos;s pain from his catheters was controlled with Oxycodone and Motrin .  -  518\n"
     ]
    },
    {
     "name": "stderr",
     "output_type": "stream",
     "text": [
      "\r",
      " 80%|███████████████████████████████████████████████████████████████▉                | 519/650 [49:32<11:12,  5.13s/it]"
     ]
    },
    {
     "name": "stdout",
     "output_type": "stream",
     "text": [
      "He came in on Carafate , Enteric Coated Aspirin , Albuterol Inhaler , Atrovent Inhaler , Procan SR , Mevacor , and Digoxin .  -  519\n"
     ]
    },
    {
     "name": "stderr",
     "output_type": "stream",
     "text": [
      "\r",
      " 80%|████████████████████████████████████████████████████████████████                | 520/650 [49:37<11:14,  5.19s/it]"
     ]
    },
    {
     "name": "stdout",
     "output_type": "stream",
     "text": [
      "Formal pathology revealed a poorly differentiated adenocarcinoma with focal giant cells .  -  520\n"
     ]
    },
    {
     "name": "stderr",
     "output_type": "stream",
     "text": [
      "\r",
      " 80%|████████████████████████████████████████████████████████████████                | 521/650 [49:40<09:31,  4.43s/it]"
     ]
    },
    {
     "name": "stdout",
     "output_type": "stream",
     "text": [
      "Delivery by cesarean section secondary to twin B breech presentation .  -  521\n"
     ]
    },
    {
     "name": "stderr",
     "output_type": "stream",
     "text": [
      "\r",
      " 80%|████████████████████████████████████████████████████████████████▏               | 522/650 [49:42<08:11,  3.84s/it]"
     ]
    },
    {
     "name": "stdout",
     "output_type": "stream",
     "text": [
      "He was also begun on anti-Candida regimen for his urinary tract infection with yeast being seen .  -  522\n"
     ]
    },
    {
     "name": "stderr",
     "output_type": "stream",
     "text": [
      "\r",
      " 80%|████████████████████████████████████████████████████████████████▎               | 523/650 [49:46<08:04,  3.82s/it]"
     ]
    },
    {
     "name": "stdout",
     "output_type": "stream",
     "text": [
      "In 1980 she had quadruple coronary artery bypass graft surgery by Dr. Elks at Feargunwake Otacaa Community Hospital and did well until 1988 when she had exertional angina and a positive stress test and found that three or four grafts were occluded .  -  523\n"
     ]
    },
    {
     "name": "stderr",
     "output_type": "stream",
     "text": [
      "\r",
      " 81%|████████████████████████████████████████████████████████████████▍               | 524/650 [49:55<11:36,  5.53s/it]"
     ]
    },
    {
     "name": "stdout",
     "output_type": "stream",
     "text": [
      "Negative for headaches , vision changes , numbness , tingling , dyspnea , hematuria , abdominal pain , diarrhea , melena or hematochezia .  -  524\n"
     ]
    },
    {
     "name": "stderr",
     "output_type": "stream",
     "text": [
      "\r",
      " 81%|████████████████████████████████████████████████████████████████▌               | 525/650 [50:01<11:25,  5.49s/it]"
     ]
    },
    {
     "name": "stdout",
     "output_type": "stream",
     "text": [
      "Repeat cardiac catheterization showed re-stenosis of proximal left anterior descending that had been percutaneous transluminal coronary angioplastied and a lesion in the first obtuse marginal and a moderate to severe left circumflex lesion after the third obtuse marginal .  -  525\n"
     ]
    },
    {
     "name": "stderr",
     "output_type": "stream",
     "text": [
      "\r",
      " 81%|████████████████████████████████████████████████████████████████▋               | 526/650 [50:10<13:20,  6.45s/it]"
     ]
    },
    {
     "name": "stdout",
     "output_type": "stream",
     "text": [
      "GLUCOSE - 173 * UREA N - 52 * CREAT - 1.5 * SODIUM - 145 POTASSIUM - 4.8 CHLORIDE - 100 TOTAL CO2 - 40 * ANION GAP - 10  -  526\n"
     ]
    },
    {
     "name": "stderr",
     "output_type": "stream",
     "text": [
      "\r",
      " 81%|████████████████████████████████████████████████████████████████▊               | 527/650 [50:17<13:36,  6.64s/it]"
     ]
    },
    {
     "name": "stdout",
     "output_type": "stream",
     "text": [
      "An I-head CT revealed left sphenoid and left maxillary sinusitis with mild cerebral edema and no focal hemorrhages .  -  527\n"
     ]
    },
    {
     "name": "stderr",
     "output_type": "stream",
     "text": [
      "\r",
      " 81%|████████████████████████████████████████████████████████████████▉               | 528/650 [50:21<12:02,  5.92s/it]"
     ]
    },
    {
     "name": "stdout",
     "output_type": "stream",
     "text": [
      "The family realizes that the long term outlook for this patient is not very good , but they would like to currently continue to provide him with all support necessary , short of resuscitation measures or heroic measures should he have a cardiopulmonary arrest .  -  528\n"
     ]
    },
    {
     "name": "stderr",
     "output_type": "stream",
     "text": [
      "\r",
      " 81%|█████████████████████████████████████████████████████████████████               | 529/650 [50:31<14:21,  7.12s/it]"
     ]
    },
    {
     "name": "stdout",
     "output_type": "stream",
     "text": [
      "Medications at the time of admission include Dapsone 50 mg p.o. on Monday , Wednesday and Friday , Ceftazidime 1 gram IV q. 8 hours , Cipro 750 mg p.o. b.i.d. , Acyclovir 400 mg p.o. q. day , Megastrol 80 mg p.o. t.i.d. and G-CSF 150 micrograms subcu b.i.d.  -  529\n"
     ]
    },
    {
     "name": "stderr",
     "output_type": "stream",
     "text": [
      "\r",
      " 82%|█████████████████████████████████████████████████████████████████▏              | 530/650 [50:42<16:34,  8.29s/it]"
     ]
    },
    {
     "name": "stdout",
     "output_type": "stream",
     "text": [
      "The infant required phototherapy for hyperbilirubinemia through day of life 7 , with peak bilirubin of 7 / 0.3 on day of life 3 , and last bilirubin of 4.9 / 0.3 on day of life 9 .  -  530\n"
     ]
    },
    {
     "name": "stderr",
     "output_type": "stream",
     "text": [
      "\r",
      " 82%|█████████████████████████████████████████████████████████████████▎              | 531/650 [50:51<16:45,  8.45s/it]"
     ]
    },
    {
     "name": "stdout",
     "output_type": "stream",
     "text": [
      "On ROS , she notes feeling poorly , nausea , and diarrhea since d/c .  -  531\n"
     ]
    },
    {
     "name": "stderr",
     "output_type": "stream",
     "text": [
      "\r",
      " 82%|█████████████████████████████████████████████████████████████████▍              | 532/650 [50:54<13:38,  6.94s/it]"
     ]
    },
    {
     "name": "stdout",
     "output_type": "stream",
     "text": [
      "Tylenol 650 mg p.o. q. 4-6h p.r.n. headache or pain ; acyclovir 400 mg p.o. t.i.d.; acyclovir topical t.i.d. to be applied to lesion on corner of mouth ; Peridex 15 ml p.o. b.i.d.; Mycelex 1 troche p.o. t.i.d.; g-csf 404 mcg subcu q.d.; folic acid 1 mg p.o. q.d.; lorazepam 1-2 mg p.o. q. 4-6h p.r.n. nausea and vomiting ; Miracle Cream topical q.d. p.r.n. perianal irritation ; Eucerin Cream topical b.i.d.; Zantac 150 mg p.o. b.i.d.; Restoril 15-30 mg p.o. q. h.s. p.r.n. insomnia ; multivitamin 1 tablet p.o. q.d.; viscous lidocaine 15 ml p.o. q. 3h can be applied to corner of mouth or lips p.r.n. pain control .  -  532\n"
     ]
    },
    {
     "name": "stderr",
     "output_type": "stream",
     "text": [
      "\r",
      " 82%|█████████████████████████████████████████████████████████████████▌              | 533/650 [51:19<24:12, 12.42s/it]"
     ]
    },
    {
     "name": "stdout",
     "output_type": "stream",
     "text": [
      "His DIC was further complicated by hepatic failure which resulted in poor endogenous production of clotting factors and he remained fresh frozen plasma dependent .  -  533\n"
     ]
    },
    {
     "name": "stderr",
     "output_type": "stream",
     "text": [
      "\r",
      " 82%|█████████████████████████████████████████████████████████████████▋              | 534/650 [51:25<20:01, 10.36s/it]"
     ]
    },
    {
     "name": "stdout",
     "output_type": "stream",
     "text": [
      "He had undergone C-spine surgery for spinal stenosis with a question of myelopathy and radiculopathy in 1992 with residual spastic paresis and monoparesis of the left upper extremity , but was ambulatory until a day prior to admission .  -  534\n"
     ]
    },
    {
     "name": "stderr",
     "output_type": "stream",
     "text": [
      "\r",
      " 82%|█████████████████████████████████████████████████████████████████▊              | 535/650 [51:33<18:50,  9.83s/it]"
     ]
    },
    {
     "name": "stdout",
     "output_type": "stream",
     "text": [
      "Erosions in the antrum and pre-pyloric region , granularity , erythema and congestion of the anterior bulb and posterior bulb compatible with duodenitis .  -  535\n"
     ]
    },
    {
     "name": "stderr",
     "output_type": "stream",
     "text": [
      "\r",
      " 82%|█████████████████████████████████████████████████████████████████▉              | 536/650 [51:39<16:04,  8.46s/it]"
     ]
    },
    {
     "name": "stdout",
     "output_type": "stream",
     "text": [
      "2. If you have further chest pain , shortness of breath , fevers , or other symptoms which concern you , call your doctor .  -  536\n"
     ]
    },
    {
     "name": "stderr",
     "output_type": "stream",
     "text": [
      "\r",
      " 83%|██████████████████████████████████████████████████████████████████              | 537/650 [51:44<14:16,  7.58s/it]"
     ]
    },
    {
     "name": "stdout",
     "output_type": "stream",
     "text": [
      "His chest x-ray showed diffuse patchy infiltrates on left lung with left upper lung patchy infiltrates and right hemidiaphragm elevated , consistent with adult respiratory distress syndrome from possible pneumonia .  -  537\n"
     ]
    },
    {
     "name": "stderr",
     "output_type": "stream",
     "text": [
      "\r",
      " 83%|██████████████████████████████████████████████████████████████████▏             | 538/650 [51:51<13:43,  7.35s/it]"
     ]
    },
    {
     "name": "stdout",
     "output_type": "stream",
     "text": [
      "Due to the risks of coronary ischemia if this represented an LCAPA , the infant was followed with regular ECHOs and EKGs during the remainder of hospitalization , with no evidence of ischemia , valvular regurgitation , or compromised ventricular function .  -  538\n"
     ]
    },
    {
     "name": "stderr",
     "output_type": "stream",
     "text": [
      "\r",
      " 83%|██████████████████████████████████████████████████████████████████▎             | 539/650 [52:00<14:43,  7.96s/it]"
     ]
    },
    {
     "name": "stdout",
     "output_type": "stream",
     "text": [
      "NEUTS - 79.7 * BANDS - 0 LYMPHS - 13.3 * MONOS - 4.6 EOS - 2.2 BASOS - 0.2  -  539\n"
     ]
    },
    {
     "name": "stderr",
     "output_type": "stream",
     "text": [
      "\r",
      " 83%|██████████████████████████████████████████████████████████████████▍             | 540/650 [52:05<12:39,  6.91s/it]"
     ]
    },
    {
     "name": "stdout",
     "output_type": "stream",
     "text": [
      "If you have fevers &gt; 101.5 F , vomiting , or increased redness , swelling , or discharge from your incision , call your MD or go to the nearest ER .  -  540\n"
     ]
    },
    {
     "name": "stderr",
     "output_type": "stream",
     "text": [
      "\r",
      " 83%|██████████████████████████████████████████████████████████████████▌             | 541/650 [52:12<12:45,  7.02s/it]"
     ]
    },
    {
     "name": "stdout",
     "output_type": "stream",
     "text": [
      "The laboratory data revealed normal electrolytes , BUN and creatinine , normal liver function tests , a first CPK of 140 , and a hematocrit of 43.1 .  -  541\n"
     ]
    },
    {
     "name": "stderr",
     "output_type": "stream",
     "text": [
      "\r",
      " 83%|██████████████████████████████████████████████████████████████████▋             | 542/650 [52:18<12:14,  6.80s/it]"
     ]
    },
    {
     "name": "stdout",
     "output_type": "stream",
     "text": [
      "There are bilateral moderate pleural effusions , both of which have increased in size since the previous study .  -  542\n"
     ]
    },
    {
     "name": "stderr",
     "output_type": "stream",
     "text": [
      "\r",
      " 84%|██████████████████████████████████████████████████████████████████▊             | 543/650 [52:23<10:44,  6.02s/it]"
     ]
    },
    {
     "name": "stdout",
     "output_type": "stream",
     "text": [
      "PLT SMR - LOW PLT COUNT - 86*  -  543\n"
     ]
    },
    {
     "name": "stderr",
     "output_type": "stream",
     "text": [
      "\r",
      " 84%|██████████████████████████████████████████████████████████████████▉             | 544/650 [52:24<08:22,  4.74s/it]"
     ]
    },
    {
     "name": "stdout",
     "output_type": "stream",
     "text": [
      "A single blood culture positive for coagulase negative Staphylococcus was treated with a course of vancomycin in the setting of a PICC line and a chest x-ray on November 20 indicating possible developing pneumonia , resulted in a course of levofloxacin , for both possible pneumonia , as well as treatment of any bacterial superinfection of Acanthamoeba sinusitis .  -  544\n"
     ]
    },
    {
     "name": "stderr",
     "output_type": "stream",
     "text": [
      "\r",
      " 84%|███████████████████████████████████████████████████████████████████             | 545/650 [52:38<12:45,  7.29s/it]"
     ]
    },
    {
     "name": "stdout",
     "output_type": "stream",
     "text": [
      "She was negative for PCP and subsequently _____________ was continued and Clindamycin was changed for anaerobic coverage .  -  545\n"
     ]
    },
    {
     "name": "stderr",
     "output_type": "stream",
     "text": [
      "\r",
      " 84%|███████████████████████████████████████████████████████████████████▏            | 546/650 [52:42<10:54,  6.29s/it]"
     ]
    },
    {
     "name": "stdout",
     "output_type": "stream",
     "text": [
      "There is increased signal seen in both basal ganglia region as well as along the rolandic region bilaterally which is suggestive of global hypoxic injury to the brain .  -  546\n"
     ]
    },
    {
     "name": "stderr",
     "output_type": "stream",
     "text": [
      "\r",
      " 84%|███████████████████████████████████████████████████████████████████▎            | 547/650 [52:48<10:52,  6.33s/it]"
     ]
    },
    {
     "name": "stdout",
     "output_type": "stream",
     "text": [
      "Breath sounds were decreased at the bases only with distant heart sounds and a 2 out of 6 systolic ejection murmur consistent with aortic stenosis with Gallavardin like radiation to the apex .  -  547\n"
     ]
    },
    {
     "name": "stderr",
     "output_type": "stream",
     "text": [
      "\r",
      " 84%|███████████████████████████████████████████████████████████████████▍            | 548/650 [52:55<11:14,  6.61s/it]"
     ]
    },
    {
     "name": "stdout",
     "output_type": "stream",
     "text": [
      "2019-02-01 03:20 PM BLOOD Glucose - 202 * UreaN - 31 * Creat - 1.3 * Na - 141 K - 4.0 Cl - 102 HCO3 - 27 AnGap - 16  -  548\n"
     ]
    },
    {
     "name": "stderr",
     "output_type": "stream",
     "text": [
      "\r",
      " 84%|███████████████████████████████████████████████████████████████████▌            | 549/650 [53:02<11:16,  6.70s/it]"
     ]
    },
    {
     "name": "stdout",
     "output_type": "stream",
     "text": [
      "Patient was also found to have several complaints of awaking in the middle of the night with tachypnea and some bilateral chest pain associated with breathing .  -  549\n"
     ]
    },
    {
     "name": "stderr",
     "output_type": "stream",
     "text": [
      "\r",
      " 85%|███████████████████████████████████████████████████████████████████▋            | 550/650 [53:08<10:52,  6.52s/it]"
     ]
    },
    {
     "name": "stdout",
     "output_type": "stream",
     "text": [
      "His glucose on the morning of discharge was about 60 so we opted to decrease his p.m. NPH dose slightly for discharge and continue covering him with sliding scale insulin .  -  550\n"
     ]
    },
    {
     "name": "stderr",
     "output_type": "stream",
     "text": [
      "\r",
      " 85%|███████████████████████████████████████████████████████████████████▊            | 551/650 [53:15<10:58,  6.65s/it]"
     ]
    },
    {
     "name": "stdout",
     "output_type": "stream",
     "text": [
      "Blood pressure stayed high with an SBP in the 170s , so amlodipine 10 mg q.d. was added and that blood pressure was still elevated .  -  551\n"
     ]
    },
    {
     "name": "stderr",
     "output_type": "stream",
     "text": [
      "\r",
      " 85%|███████████████████████████████████████████████████████████████████▉            | 552/650 [53:21<10:25,  6.38s/it]"
     ]
    },
    {
     "name": "stdout",
     "output_type": "stream",
     "text": [
      "After a Cardiology consulton 12/13/03 , the patient was started on metoprolol 100 mg p.o. q.i.d. , lisinopril 10 mg q.d. , hydrochlorothiazide 25 mg q.d. .  -  552\n"
     ]
    },
    {
     "name": "stderr",
     "output_type": "stream",
     "text": [
      "\r",
      " 85%|████████████████████████████████████████████████████████████████████            | 553/650 [53:27<10:05,  6.24s/it]"
     ]
    },
    {
     "name": "stdout",
     "output_type": "stream",
     "text": [
      "At that time he had presented with abdominal pain , and was found to have acute cholecystectomy .  -  553\n"
     ]
    },
    {
     "name": "stderr",
     "output_type": "stream",
     "text": [
      "\r",
      " 85%|████████████████████████████████████████████████████████████████████▏           | 554/650 [53:31<08:53,  5.56s/it]"
     ]
    },
    {
     "name": "stdout",
     "output_type": "stream",
     "text": [
      "Large ~6 x 6 cm sized right thyroid mass , soft , possibly cystic , non-tender.  -  554\n"
     ]
    },
    {
     "name": "stderr",
     "output_type": "stream",
     "text": [
      "\r",
      " 85%|████████████████████████████████████████████████████████████████████▎           | 555/650 [53:34<07:50,  4.96s/it]"
     ]
    },
    {
     "name": "stdout",
     "output_type": "stream",
     "text": [
      "The patient was in a good state of health until January of 1993 when she developed a serious upper respiratory tract infection associated with weakness and fatigue .  -  555\n"
     ]
    },
    {
     "name": "stderr",
     "output_type": "stream",
     "text": [
      "\r",
      " 86%|████████████████████████████████████████████████████████████████████▍           | 556/650 [53:41<08:20,  5.32s/it]"
     ]
    },
    {
     "name": "stdout",
     "output_type": "stream",
     "text": [
      "Immunostains for cytokeratin AE1/3 and CAM 5.2 , CD-68 , CD-79a , CD-138 , S-100 , LCA absorbed CEA , EMA , CD34 , CD31 , TTF-1 , actin , desmin , MNF-116 , calcitonin , and thyroglobulin are negative .  -  556\n"
     ]
    },
    {
     "name": "stderr",
     "output_type": "stream",
     "text": [
      "\r",
      " 86%|████████████████████████████████████████████████████████████████████▌           | 557/650 [53:50<10:01,  6.47s/it]"
     ]
    },
    {
     "name": "stdout",
     "output_type": "stream",
     "text": [
      "NEUTS - 92 * BANDS - 4 LYMPHS - 2 * MONOS - 2 EOS - 0 BASOS - 0 ATYPS - 0 METAS - 0 MYELOS - 0  -  557\n"
     ]
    },
    {
     "name": "stderr",
     "output_type": "stream",
     "text": [
      "\r",
      " 86%|████████████████████████████████████████████████████████████████████▋           | 558/650 [53:56<09:56,  6.48s/it]"
     ]
    },
    {
     "name": "stdout",
     "output_type": "stream",
     "text": [
      "Had fall pta with ? fx on initial CT , neg fx on f/u ct .  -  558\n"
     ]
    },
    {
     "name": "stderr",
     "output_type": "stream",
     "text": [
      "\r",
      " 86%|████████████████████████████████████████████████████████████████████▊           | 559/650 [54:00<08:32,  5.63s/it]"
     ]
    },
    {
     "name": "stdout",
     "output_type": "stream",
     "text": [
      "The patient presented with almost a stridor and a large mediastinal mass with shortness of breath .  -  559\n"
     ]
    },
    {
     "name": "stderr",
     "output_type": "stream",
     "text": [
      "\r",
      " 86%|████████████████████████████████████████████████████████████████████▉           | 560/650 [54:04<07:37,  5.09s/it]"
     ]
    },
    {
     "name": "stdout",
     "output_type": "stream",
     "text": [
      "In Monica : vitals : T 98.8 P 98 BP 136/68 R 29 Sat 98% RAPt had NG lavage which evantually cleared up , also was transfused 1U PRBC , GI consult called , also got zofran and iv protonix .  -  560\n"
     ]
    },
    {
     "name": "stderr",
     "output_type": "stream",
     "text": [
      "\r",
      " 86%|█████████████████████████████████████████████████████████████████████           | 561/650 [54:13<09:23,  6.34s/it]"
     ]
    },
    {
     "name": "stdout",
     "output_type": "stream",
     "text": [
      "The patient was terminally extubated on a morphine drip and ativan titrated for agonal breathing and discomfort ; scopolamine was used as an adjunct to control secretions and appeared comfortable when he died at 12:27 pm on 2017-03-04 .  -  561\n"
     ]
    },
    {
     "name": "stderr",
     "output_type": "stream",
     "text": [
      "\r",
      " 86%|█████████████████████████████████████████████████████████████████████▏          | 562/650 [54:22<10:18,  7.03s/it]"
     ]
    },
    {
     "name": "stdout",
     "output_type": "stream",
     "text": [
      "Clindamycin / Erythromycin Base / Amoxicillin / Keflex / Wellbutrin  -  562\n"
     ]
    },
    {
     "name": "stderr",
     "output_type": "stream",
     "text": [
      "\r",
      " 87%|█████████████████████████████████████████████████████████████████████▎          | 563/650 [54:24<08:06,  5.60s/it]"
     ]
    },
    {
     "name": "stdout",
     "output_type": "stream",
     "text": [
      "Cocaine intoxication , rhabdomyolysis , renal failure , disseminated intravascular coagulation , septic shock , hepatic failure , pneumonia , pancreatitis , catheter tip infection , anemia , coma .  -  563\n"
     ]
    },
    {
     "name": "stderr",
     "output_type": "stream",
     "text": [
      "\r",
      " 87%|█████████████████████████████████████████████████████████████████████▍          | 564/650 [54:31<08:31,  5.95s/it]"
     ]
    },
    {
     "name": "stdout",
     "output_type": "stream",
     "text": [
      "Also a VQ scan obtained the next day showed high probability for PE .  -  564\n"
     ]
    },
    {
     "name": "stderr",
     "output_type": "stream",
     "text": [
      "\r",
      " 87%|█████████████████████████████████████████████████████████████████████▌          | 565/650 [54:34<07:12,  5.09s/it]"
     ]
    },
    {
     "name": "stdout",
     "output_type": "stream",
     "text": [
      "He received one gram of Ceftriaxone intravenously after blood cultures were drawn .  -  565\n"
     ]
    },
    {
     "name": "stderr",
     "output_type": "stream",
     "text": [
      "\r",
      " 87%|█████████████████████████████████████████████████████████████████████▋          | 566/650 [54:37<06:11,  4.42s/it]"
     ]
    },
    {
     "name": "stdout",
     "output_type": "stream",
     "text": [
      "Most recent laboratory values are from 2011-10-25 which revealed a white blood cell count 8.4000 , hematocrit 35 , platelet count 202,000. Sodium 133 , potassium 4.4 , chloride 93 , CO2 30 , BUN 24 , creatinine 0.7 , glucose 198 .  -  566\n"
     ]
    },
    {
     "name": "stderr",
     "output_type": "stream",
     "text": [
      "\r",
      " 87%|█████████████████████████████████████████████████████████████████████▊          | 567/650 [54:46<08:16,  5.98s/it]"
     ]
    },
    {
     "name": "stdout",
     "output_type": "stream",
     "text": [
      "The patient complained of diaphoresis , confusion , dizziness , lightheadedness after drinking a 24 ounce beer and taking at least an extra 15 units of NPH insulin the evening of 2010-08-27 ( later reported over 70 U insulin administered from 2.30 PM until time of presentation ) followed by not eating dinner .  -  567\n"
     ]
    },
    {
     "name": "stderr",
     "output_type": "stream",
     "text": [
      "\r",
      " 87%|█████████████████████████████████████████████████████████████████████▉          | 568/650 [54:58<10:38,  7.78s/it]"
     ]
    },
    {
     "name": "stdout",
     "output_type": "stream",
     "text": [
      "On the day of admission , she was generally stable and she had no evidence of disease in the pelvis , no bleeding and no other abnormality .  -  568\n"
     ]
    },
    {
     "name": "stderr",
     "output_type": "stream",
     "text": [
      "\r",
      " 88%|██████████████████████████████████████████████████████████████████████          | 569/650 [55:04<09:53,  7.33s/it]"
     ]
    },
    {
     "name": "stdout",
     "output_type": "stream",
     "text": [
      "There was no urethritis , no balinitis , normal prostate , nontender .  -  569\n"
     ]
    },
    {
     "name": "stderr",
     "output_type": "stream",
     "text": [
      "\r",
      " 88%|██████████████████████████████████████████████████████████████████████▏         | 570/650 [55:07<08:01,  6.02s/it]"
     ]
    },
    {
     "name": "stdout",
     "output_type": "stream",
     "text": [
      "Her sputum then grew out Klebsiella and she was treated with amikacin and imipenem .  -  570\n"
     ]
    },
    {
     "name": "stderr",
     "output_type": "stream",
     "text": [
      "\r",
      " 88%|██████████████████████████████████████████████████████████████████████▎         | 571/650 [55:11<06:52,  5.22s/it]"
     ]
    },
    {
     "name": "stdout",
     "output_type": "stream",
     "text": [
      "CP / burning lasted several hours and was relieved after she received Maalox , lidocaine , and NTG in the ED .  -  571\n"
     ]
    },
    {
     "name": "stderr",
     "output_type": "stream",
     "text": [
      "\r",
      " 88%|██████████████████████████████████████████████████████████████████████▍         | 572/650 [55:16<06:41,  5.14s/it]"
     ]
    },
    {
     "name": "stdout",
     "output_type": "stream",
     "text": [
      "COPD and R pleural effusion , off oxygen and stable .  -  572\n"
     ]
    },
    {
     "name": "stderr",
     "output_type": "stream",
     "text": [
      "\r",
      " 88%|██████████████████████████████████████████████████████████████████████▌         | 573/650 [55:18<05:35,  4.36s/it]"
     ]
    },
    {
     "name": "stdout",
     "output_type": "stream",
     "text": [
      "He had a 95% proximal left anterior descending lesion which was PTCA &apos;d to a residual of 30% and an intra-aortic balloon pump was placed .  -  573\n"
     ]
    },
    {
     "name": "stderr",
     "output_type": "stream",
     "text": [
      "\r",
      " 88%|██████████████████████████████████████████████████████████████████████▋         | 574/650 [55:24<06:04,  4.79s/it]"
     ]
    },
    {
     "name": "stdout",
     "output_type": "stream",
     "text": [
      "We obtained sensitivities of his wound bacteria .  -  574\n"
     ]
    },
    {
     "name": "stderr",
     "output_type": "stream",
     "text": [
      "\r",
      " 88%|██████████████████████████████████████████████████████████████████████▊         | 575/650 [55:26<04:51,  3.89s/it]"
     ]
    },
    {
     "name": "stdout",
     "output_type": "stream",
     "text": [
      "Neck , no jugulovenous distension , carotids , no bruit in either right or left carotid artery .  -  575\n"
     ]
    },
    {
     "name": "stderr",
     "output_type": "stream",
     "text": [
      "\r",
      " 89%|██████████████████████████████████████████████████████████████████████▉         | 576/650 [55:30<04:51,  3.94s/it]"
     ]
    },
    {
     "name": "stdout",
     "output_type": "stream",
     "text": [
      "Once the organism was identified , he was transitioned to a regimen of intravenous penicillin and oral levofloxacin , which had successfully treated the infection during his most recent admission 1 year prior .  -  576\n"
     ]
    },
    {
     "name": "stderr",
     "output_type": "stream",
     "text": [
      "\r",
      " 89%|███████████████████████████████████████████████████████████████████████         | 577/650 [55:37<06:05,  5.00s/it]"
     ]
    },
    {
     "name": "stdout",
     "output_type": "stream",
     "text": [
      "5) Depression : He was restarted on his paxil on 03-25 and was given 1:1 sitter for suicidal ideation leading up to his suicide leading up to this admission .  -  577\n"
     ]
    },
    {
     "name": "stderr",
     "output_type": "stream",
     "text": [
      "\r",
      " 89%|███████████████████████████████████████████████████████████████████████▏        | 578/650 [55:44<06:35,  5.49s/it]"
     ]
    },
    {
     "name": "stdout",
     "output_type": "stream",
     "text": [
      "He was afebrile , blood pressure 154/75 , on Nipride drip , heart rate 81 , oxygen saturation 97% .  -  578\n"
     ]
    },
    {
     "name": "stderr",
     "output_type": "stream",
     "text": [
      "\r",
      " 89%|███████████████████████████████████████████████████████████████████████▎        | 579/650 [55:48<06:07,  5.18s/it]"
     ]
    },
    {
     "name": "stdout",
     "output_type": "stream",
     "text": [
      "Sodium 140 , potassium 4 , chloride 105 , bicarbonate 28 , BUN 17 , creatinine 0.8 , glucose 76 .  -  579\n"
     ]
    },
    {
     "name": "stderr",
     "output_type": "stream",
     "text": [
      "\r",
      " 89%|███████████████████████████████████████████████████████████████████████▍        | 580/650 [55:53<05:55,  5.08s/it]"
     ]
    },
    {
     "name": "stdout",
     "output_type": "stream",
     "text": [
      "Heart block - As noted previously , the patient 's electrocardiogram was significant for a 2:1 heart block and cardiology consult service was contacted for evaluation .  -  580\n"
     ]
    },
    {
     "name": "stderr",
     "output_type": "stream",
     "text": [
      "\r",
      " 89%|███████████████████████████████████████████████████████████████████████▌        | 581/650 [55:59<06:11,  5.38s/it]"
     ]
    },
    {
     "name": "stdout",
     "output_type": "stream",
     "text": [
      "A chest x-ray showed consolidation bilateral lyin the lower lobes .  -  581\n"
     ]
    },
    {
     "name": "stderr",
     "output_type": "stream",
     "text": [
      "\r",
      " 90%|███████████████████████████████████████████████████████████████████████▋        | 582/650 [56:02<05:06,  4.51s/it]"
     ]
    },
    {
     "name": "stdout",
     "output_type": "stream",
     "text": [
      "She has complaints of nausea and vomiting as well as left upper quadrant pain on and off getting progressively worse over the past month .  -  582\n"
     ]
    },
    {
     "name": "stderr",
     "output_type": "stream",
     "text": [
      "\r",
      " 90%|███████████████████████████████████████████████████████████████████████▊        | 583/650 [56:08<05:27,  4.89s/it]"
     ]
    },
    {
     "name": "stdout",
     "output_type": "stream",
     "text": [
      "- Seek medical attention for fevers ( temp &gt; 101.5 ) , worsening pain , drainage or excessive bleeding from incision , chest pain , shortness of breath , or any other symptoms of concern .  -  583\n"
     ]
    },
    {
     "name": "stderr",
     "output_type": "stream",
     "text": [
      "\r",
      " 90%|███████████████████████████████████████████████████████████████████████▉        | 584/650 [56:16<06:27,  5.87s/it]"
     ]
    },
    {
     "name": "stdout",
     "output_type": "stream",
     "text": [
      "This is a 64-year-old female with a history of hypertension , hypercholesterolemia , diabetes mellitus , and dilated cardiomyopathy ( with a transthoracic echocardiogram in 2016-01-13 showing an ejection fraction of 40% , posterior and inferior apical akinesis , and large left ventricular thrombus ).  -  584\n"
     ]
    },
    {
     "name": "stderr",
     "output_type": "stream",
     "text": [
      "\r",
      " 90%|████████████████████████████████████████████████████████████████████████        | 585/650 [56:26<07:40,  7.08s/it]"
     ]
    },
    {
     "name": "stdout",
     "output_type": "stream",
     "text": [
      "2015-04-24 06:35 AM BLOOD Glucose - 134 * UreaN - 8 Creat - 0.6 Na - 144 K - 3.7 Cl - 106 HCO3 - 31 AnGap - 11  -  585\n"
     ]
    },
    {
     "name": "stderr",
     "output_type": "stream",
     "text": [
      "\r",
      " 90%|████████████████████████████████████████████████████████████████████████        | 586/650 [56:32<07:21,  6.90s/it]"
     ]
    },
    {
     "name": "stdout",
     "output_type": "stream",
     "text": [
      "Immunostains for cytokeratin AE1/3 and CAM 5.2 , CD-68 , CD-79a , CD-138 , S-100 , LCA absorbed CEA , EMA , CD34 , CD31 , TTF-1 , actin , desmin , MNF-116 , calcitonin , and thyroglobulin are negative .  -  586\n"
     ]
    },
    {
     "name": "stderr",
     "output_type": "stream",
     "text": [
      "\r",
      " 90%|████████████████████████████████████████████████████████████████████████▏       | 587/650 [56:41<07:57,  7.58s/it]"
     ]
    },
    {
     "name": "stdout",
     "output_type": "stream",
     "text": [
      "Apparently , he had had a low hematocrit as an outpatient and was checked two weeks prior to admission but was not given transfusion because the patient did not want to come in at that time .  -  587\n"
     ]
    },
    {
     "name": "stderr",
     "output_type": "stream",
     "text": [
      "\r",
      " 90%|████████████████████████████████████████████████████████████████████████▎       | 588/650 [56:49<07:59,  7.74s/it]"
     ]
    },
    {
     "name": "stdout",
     "output_type": "stream",
     "text": [
      "Received 48 hours of Ampicillin and gentamicin for rule out sepsis .  -  588\n"
     ]
    },
    {
     "name": "stderr",
     "output_type": "stream",
     "text": [
      "\r",
      " 91%|████████████████████████████████████████████████████████████████████████▍       | 589/650 [56:52<06:18,  6.21s/it]"
     ]
    },
    {
     "name": "stdout",
     "output_type": "stream",
     "text": [
      "Blood cltures from 11-30 grew KLEBSIELLA PNEUMONIAE and 12-01 grew KLEBSIELLA PNEUMONIAE and PROTEUS MIRABILIS both sensitive to the Meropenam which she had already been receiving .  -  589\n"
     ]
    },
    {
     "name": "stderr",
     "output_type": "stream",
     "text": [
      "\r",
      " 91%|████████████████████████████████████████████████████████████████████████▌       | 590/650 [56:58<06:07,  6.12s/it]"
     ]
    },
    {
     "name": "stdout",
     "output_type": "stream",
     "text": [
      "WBC - 6.7 RBC - 4.53 * HGB - 14.8 HCT - 44.6 MCV - 99 * MCH - 32.8 * MCHC - 33.3 RDW - 12.6  -  590\n"
     ]
    },
    {
     "name": "stderr",
     "output_type": "stream",
     "text": [
      "\r",
      " 91%|████████████████████████████████████████████████████████████████████████▋       | 591/650 [57:04<05:58,  6.08s/it]"
     ]
    },
    {
     "name": "stdout",
     "output_type": "stream",
     "text": [
      "Her lipids were checked with a total cholesterol of 110 , triglycerides 59 , HDL32 , LDL 64 .  -  591\n"
     ]
    },
    {
     "name": "stderr",
     "output_type": "stream",
     "text": [
      "\r",
      " 91%|████████████████████████████████████████████████████████████████████████▊       | 592/650 [57:08<05:21,  5.54s/it]"
     ]
    },
    {
     "name": "stdout",
     "output_type": "stream",
     "text": [
      "Lorazepam / Penicillins / Prednisone / Hydrochlorothiazide / Ceftriaxone / Phenytoin  -  592\n"
     ]
    },
    {
     "name": "stderr",
     "output_type": "stream",
     "text": [
      "\r",
      " 91%|████████████████████████████████████████████████████████████████████████▉       | 593/650 [57:11<04:24,  4.64s/it]"
     ]
    },
    {
     "name": "stdout",
     "output_type": "stream",
     "text": [
      "Dedicated MR of the neck may be helpful for more complete assessment of the neck mass and lymphadenopathy if warranted clinically .  -  593\n"
     ]
    },
    {
     "name": "stderr",
     "output_type": "stream",
     "text": [
      "\r",
      " 91%|█████████████████████████████████████████████████████████████████████████       | 594/650 [57:16<04:23,  4.71s/it]"
     ]
    },
    {
     "name": "stdout",
     "output_type": "stream",
     "text": [
      "PE T97.5 P59 BP ( l ) 180/86 ( r ) 186/98 RR20 98% 2L .  -  594\n"
     ]
    },
    {
     "name": "stderr",
     "output_type": "stream",
     "text": [
      "\r",
      " 92%|█████████████████████████████████████████████████████████████████████████▏      | 595/650 [57:19<03:59,  4.36s/it]"
     ]
    },
    {
     "name": "stdout",
     "output_type": "stream",
     "text": [
      "In addition , a CT angiogram of the chest with pulmonary embolism protocol showed no intravascular filling defect but did show a right upper lobe ground-glass and scattered adenopathy .  -  595\n"
     ]
    },
    {
     "name": "stderr",
     "output_type": "stream",
     "text": [
      "\r",
      " 92%|█████████████████████████████████████████████████████████████████████████▎      | 596/650 [57:26<04:32,  5.05s/it]"
     ]
    },
    {
     "name": "stdout",
     "output_type": "stream",
     "text": [
      "Later during her Intensive Care Unit course she was felt to be somewhat overloaded and intravenous fluids were cut back .  -  596\n"
     ]
    },
    {
     "name": "stderr",
     "output_type": "stream",
     "text": [
      "\r",
      " 92%|█████████████████████████████████████████████████████████████████████████▍      | 597/650 [57:31<04:21,  4.93s/it]"
     ]
    },
    {
     "name": "stdout",
     "output_type": "stream",
     "text": [
      "CTS chest was negative for PE , however it did reveal pulmonary nodules in his RML which need fu imaging in 3 months .  -  597\n"
     ]
    },
    {
     "name": "stderr",
     "output_type": "stream",
     "text": [
      "\r",
      " 92%|█████████████████████████████████████████████████████████████████████████▌      | 598/650 [57:36<04:21,  5.02s/it]"
     ]
    },
    {
     "name": "stdout",
     "output_type": "stream",
     "text": [
      "He also , as Neo-Synephrinewas tapered , developed mild sensory findings , in particular diminished large fiber sensibility in his left hand , although he at times , including near the end of his Intensive Care Unit stay had a right gaze preference .  -  598\n"
     ]
    },
    {
     "name": "stderr",
     "output_type": "stream",
     "text": [
      "\r",
      " 92%|█████████████████████████████████████████████████████████████████████████▋      | 599/650 [57:45<05:26,  6.41s/it]"
     ]
    },
    {
     "name": "stdout",
     "output_type": "stream",
     "text": [
      "Guaifenesin 100 mg / 5 mL Liquid Sig : 01-28 teaspoons PO every six ( 6 ) hours as needed for cold symptoms .  -  599\n"
     ]
    },
    {
     "name": "stderr",
     "output_type": "stream",
     "text": [
      "\r",
      " 92%|█████████████████████████████████████████████████████████████████████████▊      | 600/650 [57:51<05:06,  6.12s/it]"
     ]
    },
    {
     "name": "stdout",
     "output_type": "stream",
     "text": [
      "Lipid panel was checked and showed good control of lipids on his home dose of zocor .  -  600\n"
     ]
    },
    {
     "name": "stderr",
     "output_type": "stream",
     "text": [
      "\r",
      " 92%|█████████████████████████████████████████████████████████████████████████▉      | 601/650 [57:55<04:24,  5.40s/it]"
     ]
    },
    {
     "name": "stdout",
     "output_type": "stream",
     "text": [
      "Arterial blood gases showed a pH of 7.19 , pCO2 of 22 and PO2 of 102 and a potassium of 3.9 .  -  601\n"
     ]
    },
    {
     "name": "stderr",
     "output_type": "stream",
     "text": [
      "\r",
      " 93%|██████████████████████████████████████████████████████████████████████████      | 602/650 [58:00<04:14,  5.31s/it]"
     ]
    },
    {
     "name": "stdout",
     "output_type": "stream",
     "text": [
      "The patient has a history of hypertension , coronary artery disease , previous myocardial infarction in 1983 , hypothyroidism , history of breast cancer and history of colon cancer .  -  602\n"
     ]
    },
    {
     "name": "stderr",
     "output_type": "stream",
     "text": [
      "\r",
      " 93%|██████████████████████████████████████████████████████████████████████████▏     | 603/650 [58:07<04:30,  5.76s/it]"
     ]
    },
    {
     "name": "stdout",
     "output_type": "stream",
     "text": [
      "Asthma , history of atrial fibrillation , non-small-cell lung cancer removed from his right lung by Dr. Vital four years prior to admission , status post chemotherapy and radiation for the non-small-cell lung cancer , gastroesophageal reflux disease , and history of constipation .  -  603\n"
     ]
    },
    {
     "name": "stderr",
     "output_type": "stream",
     "text": [
      "\r",
      " 93%|██████████████████████████████████████████████████████████████████████████▎     | 604/650 [58:16<05:21,  6.99s/it]"
     ]
    },
    {
     "name": "stdout",
     "output_type": "stream",
     "text": [
      "A pap smear that was obtained by her primary care physician showed an endometrial cell and thus she was referred to a gynecologist for an endometrial biopsy .  -  604\n"
     ]
    },
    {
     "name": "stderr",
     "output_type": "stream",
     "text": [
      "\r",
      " 93%|██████████████████████████████████████████████████████████████████████████▍     | 605/650 [58:23<05:03,  6.74s/it]"
     ]
    },
    {
     "name": "stdout",
     "output_type": "stream",
     "text": [
      "04-24 PICC Bld Cx : pseudomonas Diaz to zosyn , cipro , cefepime , Tardugno -- staph epi- Gray to vanc  -  605\n"
     ]
    },
    {
     "name": "stderr",
     "output_type": "stream",
     "text": [
      "\r",
      " 93%|██████████████████████████████████████████████████████████████████████████▌     | 606/650 [58:27<04:26,  6.07s/it]"
     ]
    },
    {
     "name": "stdout",
     "output_type": "stream",
     "text": [
      "2017-07-12 10:40 AM BLOOD Neuts - 86 * Bands - 5 Lymphs - 4 * Monos - 5 Eos - 0 Baso - 0 Atyps - 0 Metas - 0 Myelos - 0  -  606\n"
     ]
    },
    {
     "name": "stderr",
     "output_type": "stream",
     "text": [
      "\r",
      " 93%|██████████████████████████████████████████████████████████████████████████▋     | 607/650 [58:35<04:42,  6.58s/it]"
     ]
    },
    {
     "name": "stdout",
     "output_type": "stream",
     "text": [
      "2013-09-22 04:20 AM BLOOD Glucose - 86 UreaN - 18 Creat - 0.8 Na - 144 K - 3.7 Cl - 101 HCO3 - 40 * AnGap - 7 *  -  607\n"
     ]
    },
    {
     "name": "stderr",
     "output_type": "stream",
     "text": [
      "\r",
      " 94%|██████████████████████████████████████████████████████████████████████████▊     | 608/650 [58:42<04:41,  6.71s/it]"
     ]
    },
    {
     "name": "stdout",
     "output_type": "stream",
     "text": [
      "Do not apply lotions , creams , ointments or powders to incision .  -  608\n"
     ]
    },
    {
     "name": "stderr",
     "output_type": "stream",
     "text": [
      "\r",
      " 94%|██████████████████████████████████████████████████████████████████████████▉     | 609/650 [58:45<03:48,  5.57s/it]"
     ]
    },
    {
     "name": "stdout",
     "output_type": "stream",
     "text": [
      "She was started on Clindamycin and Ofloxacin at renal dose to cover the aspiration pneumonia and positive urine culture , which subsequently came back .  -  609\n"
     ]
    },
    {
     "name": "stderr",
     "output_type": "stream",
     "text": [
      "\r",
      " 94%|███████████████████████████████████████████████████████████████████████████     | 610/650 [58:51<03:49,  5.74s/it]"
     ]
    },
    {
     "name": "stdout",
     "output_type": "stream",
     "text": [
      "3. Hyperthyroidism , status post radioactive iodine ablation .  -  610\n"
     ]
    },
    {
     "name": "stderr",
     "output_type": "stream",
     "text": [
      "\r",
      " 94%|███████████████████████████████████████████████████████████████████████████▏    | 611/650 [58:53<03:01,  4.64s/it]"
     ]
    },
    {
     "name": "stdout",
     "output_type": "stream",
     "text": [
      "This showed the unchanged left temporal parenchymal interparenchymal hematoma and the old embolic right frontal infarct , but there were no new lesions and no evidence of his susceptibility studies to suggest old bleeds which might have been consistent with amylase angiopathy .  -  611\n"
     ]
    },
    {
     "name": "stderr",
     "output_type": "stream",
     "text": [
      "\r",
      " 94%|███████████████████████████████████████████████████████████████████████████▎    | 612/650 [59:03<03:57,  6.24s/it]"
     ]
    },
    {
     "name": "stdout",
     "output_type": "stream",
     "text": [
      "On 12/03/02 the patient underwent a repeat KUB which was suggestive of volvulus .  -  612\n"
     ]
    },
    {
     "name": "stderr",
     "output_type": "stream",
     "text": [
      "\r",
      " 94%|███████████████████████████████████████████████████████████████████████████▍    | 613/650 [59:06<03:16,  5.32s/it]"
     ]
    },
    {
     "name": "stdout",
     "output_type": "stream",
     "text": [
      "In the interim , the white blood count rose again to 4.2 with a hematocrit of 30.5 , platelet count of 196 thousand .  -  613\n"
     ]
    },
    {
     "name": "stderr",
     "output_type": "stream",
     "text": [
      "\r",
      " 94%|███████████████████████████████████████████████████████████████████████████▌    | 614/650 [59:12<03:13,  5.36s/it]"
     ]
    },
    {
     "name": "stdout",
     "output_type": "stream",
     "text": [
      "An MRI obtained and reviewed by the Hallmark Health System Radiology Department revealed focal gyral morphology consistent with prematurity , normal midline structures , normal myelination , no lesions , no signal abnormalities or extracerebral collections .  -  614\n"
     ]
    },
    {
     "name": "stderr",
     "output_type": "stream",
     "text": [
      "\r",
      " 95%|███████████████████████████████████████████████████████████████████████████▋    | 615/650 [59:20<03:40,  6.29s/it]"
     ]
    },
    {
     "name": "stdout",
     "output_type": "stream",
     "text": [
      "On 09-03-92 , patient underwent a left great toe buttontoe amputation under regional ankle block for chronic ulcer and osteomyelitis of the left great toe .  -  615\n"
     ]
    },
    {
     "name": "stderr",
     "output_type": "stream",
     "text": [
      "\r",
      " 95%|███████████████████████████████████████████████████████████████████████████▊    | 616/650 [59:26<03:30,  6.20s/it]"
     ]
    },
    {
     "name": "stdout",
     "output_type": "stream",
     "text": [
      "Her past medical history is notable for bilateral lower extremity venous insufficiency with edema , hypertension .  -  616\n"
     ]
    },
    {
     "name": "stderr",
     "output_type": "stream",
     "text": [
      "\r",
      " 95%|███████████████████████████████████████████████████████████████████████████▉    | 617/650 [59:30<02:59,  5.45s/it]"
     ]
    },
    {
     "name": "stdout",
     "output_type": "stream",
     "text": [
      "No Mumur / regurgiation / gallop  -  617\n"
     ]
    },
    {
     "name": "stderr",
     "output_type": "stream",
     "text": [
      "\r",
      " 95%|████████████████████████████████████████████████████████████████████████████    | 618/650 [59:31<02:15,  4.23s/it]"
     ]
    },
    {
     "name": "stdout",
     "output_type": "stream",
     "text": [
      "## h/o pyelo , last episode in  '03 ( MRSA in blood and urine )  -  618\n"
     ]
    },
    {
     "name": "stderr",
     "output_type": "stream",
     "text": [
      "\r",
      " 95%|████████████████████████████████████████████████████████████████████████████▏   | 619/650 [59:35<02:06,  4.09s/it]"
     ]
    },
    {
     "name": "stdout",
     "output_type": "stream",
     "text": [
      "Her hematocrit was 38.8 , hemoglobin 13.7 , platelet count 155,000 , PT 12.7/10.1 , PTT 33.9 , erythrocyte sedimentation rate 18 , calcium 7.5 , phosphorus 3.5 , sodium 136 , potassium 3.7 , BUN 15 , total protein 5.9 , albumin 2.3 , globulin 3.6 , alkaline phosphatase 379 , SGOT 37 , Digoxin level 0.7 .  -  619\n"
     ]
    },
    {
     "name": "stderr",
     "output_type": "stream",
     "text": [
      "\r",
      " 95%|████████████████████████████████████████████████████████████████████████████▎   | 620/650 [59:48<03:27,  6.93s/it]"
     ]
    },
    {
     "name": "stdout",
     "output_type": "stream",
     "text": [
      "Pt finished the 3 week course of meropenem while in house and was discharged to rehab on day 34/42 of the vancomycin .  -  620\n"
     ]
    },
    {
     "name": "stderr",
     "output_type": "stream",
     "text": [
      "\r",
      " 96%|████████████████████████████████████████████████████████████████████████████▍   | 621/650 [59:54<03:10,  6.56s/it]"
     ]
    },
    {
     "name": "stdout",
     "output_type": "stream",
     "text": [
      "# Renal insufficiency - baseline Cr unknown , may have CRI from DM .  -  621\n"
     ]
    },
    {
     "name": "stderr",
     "output_type": "stream",
     "text": [
      "\r",
      " 96%|████████████████████████████████████████████████████████████████████████████▌   | 622/650 [59:57<02:36,  5.60s/it]"
     ]
    },
    {
     "name": "stdout",
     "output_type": "stream",
     "text": [
      "The patient had a temperature of 98.4 , heart rate 72 , blood pressure 154/89 , respiratory rate 18 and oxygen saturation 90% in room air .  -  622\n"
     ]
    },
    {
     "name": "stderr",
     "output_type": "stream",
     "text": [
      "\r",
      " 96%|██████████████████████████████████████████████████████████████████████████▊   | 623/650 [1:00:04<02:37,  5.85s/it]"
     ]
    },
    {
     "name": "stdout",
     "output_type": "stream",
     "text": [
      "CT scan showed an anterior mediastinal mass compressing the trachea with air .  -  623\n"
     ]
    },
    {
     "name": "stderr",
     "output_type": "stream",
     "text": [
      "\r",
      " 96%|██████████████████████████████████████████████████████████████████████████▉   | 624/650 [1:00:07<02:10,  5.03s/it]"
     ]
    },
    {
     "name": "stdout",
     "output_type": "stream",
     "text": [
      "2019-06-30 06:45 AM BLOOD Glucose - 99 UreaN - 40 * Creat - 1.9 * Na - 137 K - 4.1 Cl - 99 HCO3 - 28 AnGap - 14  -  624\n"
     ]
    },
    {
     "name": "stderr",
     "output_type": "stream",
     "text": [
      "\r",
      " 96%|███████████████████████████████████████████████████████████████████████████   | 625/650 [1:00:14<02:21,  5.65s/it]"
     ]
    },
    {
     "name": "stdout",
     "output_type": "stream",
     "text": [
      "Because of her prolonged intubation and inability to wean , on February 24 , 1994 , she had a tracheostomy placed .  -  625\n"
     ]
    },
    {
     "name": "stderr",
     "output_type": "stream",
     "text": [
      "\r",
      " 96%|███████████████████████████████████████████████████████████████████████████   | 626/650 [1:00:19<02:11,  5.46s/it]"
     ]
    },
    {
     "name": "stdout",
     "output_type": "stream",
     "text": [
      "MR studies revealed a large left middle cerebral artery infarction with multiple smaller posterior circulation infarctions .  -  626\n"
     ]
    },
    {
     "name": "stderr",
     "output_type": "stream",
     "text": [
      "\r",
      " 96%|███████████████████████████████████████████████████████████████████████████▏  | 627/650 [1:00:23<01:54,  4.96s/it]"
     ]
    },
    {
     "name": "stdout",
     "output_type": "stream",
     "text": [
      "Her echocardiogram , however , was essentially normal with an ejection fraction of 55% without any gross wall motion abnormalities or valvular pathology .  -  627\n"
     ]
    },
    {
     "name": "stderr",
     "output_type": "stream",
     "text": [
      "\r",
      " 97%|███████████████████████████████████████████████████████████████████████████▎  | 628/650 [1:00:28<01:52,  5.11s/it]"
     ]
    },
    {
     "name": "stdout",
     "output_type": "stream",
     "text": [
      "In the Lori pt was given 3L NS as well as 1 unit of FFP , and oxygen requirements contimued to climb .  -  628\n"
     ]
    },
    {
     "name": "stderr",
     "output_type": "stream",
     "text": [
      "\r",
      " 97%|███████████████████████████████████████████████████████████████████████████▍  | 629/650 [1:00:33<01:47,  5.10s/it]"
     ]
    },
    {
     "name": "stdout",
     "output_type": "stream",
     "text": [
      "The fundal AVMs are a potential site of bleeding although do not explain the extent of bleeding .  -  629\n"
     ]
    },
    {
     "name": "stderr",
     "output_type": "stream",
     "text": [
      "\r",
      " 97%|███████████████████████████████████████████████████████████████████████████▌  | 630/650 [1:00:37<01:35,  4.76s/it]"
     ]
    },
    {
     "name": "stdout",
     "output_type": "stream",
     "text": [
      "Abdomen : normal bowel sounds , soft , nontender , nondistended  -  630\n"
     ]
    },
    {
     "name": "stderr",
     "output_type": "stream",
     "text": [
      "\r",
      " 97%|███████████████████████████████████████████████████████████████████████████▋  | 631/650 [1:00:40<01:17,  4.06s/it]"
     ]
    },
    {
     "name": "stdout",
     "output_type": "stream",
     "text": [
      "Sodium 139 , potassium 4.7 , chloride 106 , bicarbonate 21.6 , BUN 22 , creatinine 1.6 , glucose 107 , amylase 120 , calcium 8.7 , phosphorus 3.3 , magnesium 1.9 , total protein 7.5 , albumin 3.9 , globulin 3.6 , uric acid 5.6 , alkaline phosphatase 43 , GOT 42 , LDH 549 with hemolyzed sample .  -  631\n"
     ]
    },
    {
     "name": "stderr",
     "output_type": "stream",
     "text": [
      "\r",
      " 97%|███████████████████████████████████████████████████████████████████████████▊  | 632/650 [1:00:54<02:05,  6.96s/it]"
     ]
    },
    {
     "name": "stdout",
     "output_type": "stream",
     "text": [
      "Dyazide 25/37.5 p.o. q.d. , as well as Atrovent , albuterol , and Flovent inhalers , and Swanson 60 mg p.o. b.i.d. , and Serevent 2 puffs q.12h.  -  632\n"
     ]
    },
    {
     "name": "stderr",
     "output_type": "stream",
     "text": [
      "\r",
      " 97%|███████████████████████████████████████████████████████████████████████████▉  | 633/650 [1:01:00<01:54,  6.76s/it]"
     ]
    },
    {
     "name": "stdout",
     "output_type": "stream",
     "text": [
      "Blood electrolytes were remarkable for a sodium of 148 and a potassium of 5.1 .  -  633\n"
     ]
    },
    {
     "name": "stderr",
     "output_type": "stream",
     "text": [
      "\r",
      " 98%|████████████████████████████████████████████████████████████████████████████  | 634/650 [1:01:03<01:32,  5.77s/it]"
     ]
    },
    {
     "name": "stdout",
     "output_type": "stream",
     "text": [
      "The patient was supported with abundant use of fresh frozen plasma , cryoprecipitate , platelets , and packed red blood cells .  -  634\n"
     ]
    },
    {
     "name": "stderr",
     "output_type": "stream",
     "text": [
      "\r",
      " 98%|████████████████████████████████████████████████████████████████████████████▏ | 635/650 [1:01:08<01:23,  5.56s/it]"
     ]
    },
    {
     "name": "stdout",
     "output_type": "stream",
     "text": [
      "The right ventricle is dilated and diffusely hypokinetic and there is no evidence of constrictive physiology which was seen on December 6 , 1995 .  -  635\n"
     ]
    },
    {
     "name": "stderr",
     "output_type": "stream",
     "text": [
      "\r",
      " 98%|████████████████████████████████████████████████████████████████████████████▎ | 636/650 [1:01:14<01:19,  5.67s/it]"
     ]
    },
    {
     "name": "stdout",
     "output_type": "stream",
     "text": [
      "4. Gastrointestinal - The infant was started on single phototherapy on day of life two for a maximum bilirubin level of 9.1 with a direct of 0.3 .  -  636\n"
     ]
    },
    {
     "name": "stderr",
     "output_type": "stream",
     "text": [
      "\r",
      " 98%|████████████████████████████████████████████████████████████████████████████▍ | 637/650 [1:01:20<01:15,  5.82s/it]"
     ]
    },
    {
     "name": "stdout",
     "output_type": "stream",
     "text": [
      "2. Right upper lobe lung opacities which appear confluent , most suggestive of infectious etiology , however , cannot entirely exclude metastatic lesions .  -  637\n"
     ]
    },
    {
     "name": "stderr",
     "output_type": "stream",
     "text": [
      "\r",
      " 98%|████████████████████████████████████████████████████████████████████████████▌ | 638/650 [1:01:26<01:08,  5.70s/it]"
     ]
    },
    {
     "name": "stdout",
     "output_type": "stream",
     "text": [
      "## Urostomy s/p ileal loop conduit in 2007 for neurogenic bladder w/ persistent leak  -  638\n"
     ]
    },
    {
     "name": "stderr",
     "output_type": "stream",
     "text": [
      "\r",
      " 98%|████████████████████████████████████████████████████████████████████████████▋ | 639/650 [1:01:29<00:55,  5.02s/it]"
     ]
    },
    {
     "name": "stdout",
     "output_type": "stream",
     "text": [
      "Subsequent biliary stent was placed after the removal of the stone .  -  639\n"
     ]
    },
    {
     "name": "stderr",
     "output_type": "stream",
     "text": [
      "\r",
      " 98%|████████████████████████████████████████████████████████████████████████████▊ | 640/650 [1:01:32<00:43,  4.35s/it]"
     ]
    },
    {
     "name": "stdout",
     "output_type": "stream",
     "text": [
      "A repeat echocardiogram showed a decreased ejection fraction from prior .  -  640\n"
     ]
    },
    {
     "name": "stderr",
     "output_type": "stream",
     "text": [
      "\r",
      " 99%|████████████████████████████████████████████████████████████████████████████▉ | 641/650 [1:01:35<00:34,  3.83s/it]"
     ]
    },
    {
     "name": "stdout",
     "output_type": "stream",
     "text": [
      "When she arrived the plan was to go ahead and treat here rythematous induration and possible cellulitis with IV antibiotics .  -  641\n"
     ]
    },
    {
     "name": "stderr",
     "output_type": "stream",
     "text": [
      "\r",
      " 99%|█████████████████████████████████████████████████████████████████████████████ | 642/650 [1:01:40<00:33,  4.17s/it]"
     ]
    },
    {
     "name": "stdout",
     "output_type": "stream",
     "text": [
      "86 yo man with h/o CVA , CHF , recent episodes of aspiration pneumonia , who p/w dyspnea from his NH .  -  642\n"
     ]
    },
    {
     "name": "stderr",
     "output_type": "stream",
     "text": [
      "\r",
      " 99%|█████████████████████████████████████████████████████████████████████████████▏| 643/650 [1:01:45<00:31,  4.45s/it]"
     ]
    },
    {
     "name": "stdout",
     "output_type": "stream",
     "text": [
      "04-24 PICC Bld Cx : pseudomonas Diaz to zosyn , cipro , cefepime , Tardugno -- staph epi- Gray to vanc  -  643\n"
     ]
    },
    {
     "name": "stderr",
     "output_type": "stream",
     "text": [
      "\r",
      " 99%|█████████████████████████████████████████████████████████████████████████████▎| 644/650 [1:01:50<00:27,  4.54s/it]"
     ]
    },
    {
     "name": "stdout",
     "output_type": "stream",
     "text": [
      "Calcium 8.7 , bilirubin 0.3/1.3 , creatinine 1.1 , glucose 128 .  -  644\n"
     ]
    },
    {
     "name": "stderr",
     "output_type": "stream",
     "text": [
      "\r",
      " 99%|█████████████████████████████████████████████████████████████████████████████▍| 645/650 [1:01:52<00:20,  4.01s/it]"
     ]
    },
    {
     "name": "stdout",
     "output_type": "stream",
     "text": [
      "Chest x-ray there revealed bilateral pulmonary infiltrates with increasing pleural effusion .  -  645\n"
     ]
    },
    {
     "name": "stderr",
     "output_type": "stream",
     "text": [
      "\r",
      " 99%|█████████████████████████████████████████████████████████████████████████████▌| 646/650 [1:01:55<00:14,  3.63s/it]"
     ]
    },
    {
     "name": "stdout",
     "output_type": "stream",
     "text": [
      "He was sent home with a PICC line and IV antibiotics .  -  646\n"
     ]
    },
    {
     "name": "stderr",
     "output_type": "stream",
     "text": [
      "\r",
      "100%|█████████████████████████████████████████████████████████████████████████████▋| 647/650 [1:01:58<00:10,  3.35s/it]"
     ]
    },
    {
     "name": "stdout",
     "output_type": "stream",
     "text": [
      "2013-09-25 02:54 AM BLOOD Type - ART pO2 - 64 * pCO2 - 91 * pH - 7.23 * calTCO2 - 40 * Base XS - 6  -  647\n"
     ]
    },
    {
     "name": "stderr",
     "output_type": "stream",
     "text": [
      "\r",
      "100%|█████████████████████████████████████████████████████████████████████████████▊| 648/650 [1:02:04<00:08,  4.21s/it]"
     ]
    },
    {
     "name": "stdout",
     "output_type": "stream",
     "text": [
      "White blood cell count is 7.65 , hematocrit of 42 and platelets of 345 .  -  648\n"
     ]
    },
    {
     "name": "stderr",
     "output_type": "stream",
     "text": [
      "\r",
      "100%|█████████████████████████████████████████████████████████████████████████████▉| 649/650 [1:02:08<00:04,  4.01s/it]"
     ]
    },
    {
     "name": "stdout",
     "output_type": "stream",
     "text": [
      "No lotions , creams or powders to incisions .  -  649\n"
     ]
    },
    {
     "name": "stderr",
     "output_type": "stream",
     "text": [
      "100%|██████████████████████████████████████████████████████████████████████████████| 650/650 [1:02:10<00:00,  5.74s/it]\n"
     ]
    }
   ],
   "source": [
    "train_features = get_features_corpus(train_sentences)"
   ]
  },
  {
   "cell_type": "code",
   "execution_count": 137,
   "metadata": {},
   "outputs": [
    {
     "name": "stderr",
     "output_type": "stream",
     "text": [
      "\r",
      "  0%|                                                                                          | 0/350 [00:00<?, ?it/s]"
     ]
    },
    {
     "name": "stdout",
     "output_type": "stream",
     "text": [
      "Because of expected long term antibiotic administration , a PICC line was placed and the patient was prepared for transfer back to Fo Hospital .  -  0\n"
     ]
    },
    {
     "name": "stderr",
     "output_type": "stream",
     "text": [
      "\r",
      "  0%|▏                                                                                 | 1/350 [00:05<33:08,  5.70s/it]"
     ]
    },
    {
     "name": "stdout",
     "output_type": "stream",
     "text": [
      "She states this light-headedness is often associated with shortness of breath and diaphoresis occasionally with nausea .  -  1\n"
     ]
    },
    {
     "name": "stderr",
     "output_type": "stream",
     "text": [
      "\r",
      "  1%|▍                                                                                 | 2/350 [00:09<29:49,  5.14s/it]"
     ]
    },
    {
     "name": "stdout",
     "output_type": "stream",
     "text": [
      "The patient &apos;s pain was initially controlled with IV pain medications but at the time of discharge to the rehab facility he was able to control his pain on po pain medications .  -  2\n"
     ]
    },
    {
     "name": "stderr",
     "output_type": "stream",
     "text": [
      "\r",
      "  1%|▋                                                                                 | 3/350 [00:17<34:10,  5.91s/it]"
     ]
    },
    {
     "name": "stdout",
     "output_type": "stream",
     "text": [
      "It was felt that the patient &apos;s extensive pulmonary metastases and bilateral pleural effusions resulted in increased work of respiration and a sensation of shortness of breath .  -  3\n"
     ]
    },
    {
     "name": "stderr",
     "output_type": "stream",
     "text": [
      "\r",
      "  1%|▉                                                                                 | 4/350 [00:23<35:16,  6.12s/it]"
     ]
    },
    {
     "name": "stdout",
     "output_type": "stream",
     "text": [
      "Her urine output decreased to nearly zero .  -  4\n"
     ]
    },
    {
     "name": "stderr",
     "output_type": "stream",
     "text": [
      "\r",
      "  1%|█▏                                                                                | 5/350 [00:25<27:46,  4.83s/it]"
     ]
    },
    {
     "name": "stdout",
     "output_type": "stream",
     "text": [
      "A psychiatric consult was also obtained due to his mental status and confusion postoperatively but his psychiatric issues are mostly related to his neurologic insults and he has no distinctive psychiatric disorder , except for perhaps postoperative delirium .  -  5\n"
     ]
    },
    {
     "name": "stderr",
     "output_type": "stream",
     "text": [
      "\r",
      "  2%|█▍                                                                                | 6/350 [00:34<34:39,  6.05s/it]"
     ]
    },
    {
     "name": "stdout",
     "output_type": "stream",
     "text": [
      "Urine analysis showed 20-50 white blood cells and 3-5 red blood cells .  -  6\n"
     ]
    },
    {
     "name": "stderr",
     "output_type": "stream",
     "text": [
      "\r",
      "  2%|█▋                                                                                | 7/350 [00:37<29:02,  5.08s/it]"
     ]
    },
    {
     "name": "stdout",
     "output_type": "stream",
     "text": [
      "Sodium 138 , potassium 4.2 , chloride 98 , BUN 21 , creatinine 0.7 , glucose 117 , white blood cell count 13,200 , hematocrit 22.5 , platelet count 40,000 .  -  7\n"
     ]
    },
    {
     "name": "stderr",
     "output_type": "stream",
     "text": [
      "\r",
      "  2%|█▊                                                                                | 8/350 [00:44<32:19,  5.67s/it]"
     ]
    },
    {
     "name": "stdout",
     "output_type": "stream",
     "text": [
      "Further work-up of his neurologic conditions were planned as an outpatient .  -  8\n"
     ]
    },
    {
     "name": "stderr",
     "output_type": "stream",
     "text": [
      "\r",
      "  3%|██                                                                                | 9/350 [00:47<27:16,  4.80s/it]"
     ]
    },
    {
     "name": "stdout",
     "output_type": "stream",
     "text": [
      "Heart rate was 78 , blood pressure 98/50 , respiratory rate of 32 , satting 91% on four liters .  -  9\n"
     ]
    },
    {
     "name": "stderr",
     "output_type": "stream",
     "text": [
      "\r",
      "  3%|██▎                                                                              | 10/350 [00:51<26:40,  4.71s/it]"
     ]
    },
    {
     "name": "stdout",
     "output_type": "stream",
     "text": [
      "The patient had back pain on admission without any focal neurological signs .  -  10\n"
     ]
    },
    {
     "name": "stderr",
     "output_type": "stream",
     "text": [
      "\r",
      "  3%|██▌                                                                              | 11/350 [00:54<23:28,  4.16s/it]"
     ]
    },
    {
     "name": "stdout",
     "output_type": "stream",
     "text": [
      "A right upper quadrant ultrasound did not reveal any gallstones or common bile duct dilatation indicative of cholecystitis or cholelithiasis .  -  11\n"
     ]
    },
    {
     "name": "stderr",
     "output_type": "stream",
     "text": [
      "\r",
      "  3%|██▊                                                                              | 12/350 [00:59<24:23,  4.33s/it]"
     ]
    },
    {
     "name": "stdout",
     "output_type": "stream",
     "text": [
      "absomen soft , tender to palpation over RUQ , but no guarding or rebound  -  12\n"
     ]
    },
    {
     "name": "stderr",
     "output_type": "stream",
     "text": [
      "\r",
      "  4%|███                                                                              | 13/350 [01:02<22:22,  3.98s/it]"
     ]
    },
    {
     "name": "stdout",
     "output_type": "stream",
     "text": [
      "No air-fluid levels to suggest occult facial fractures .  -  13\n"
     ]
    },
    {
     "name": "stderr",
     "output_type": "stream",
     "text": [
      "\r",
      "  4%|███▏                                                                             | 14/350 [01:04<18:56,  3.38s/it]"
     ]
    },
    {
     "name": "stdout",
     "output_type": "stream",
     "text": [
      "The patient presented initially to Rehab Hospital of the Cape & Islands Hospital at the end of December for abdominal pain , and was found to have pancreatitis .  -  14\n"
     ]
    },
    {
     "name": "stderr",
     "output_type": "stream",
     "text": [
      "\r",
      "  4%|███▍                                                                             | 15/350 [01:10<24:02,  4.30s/it]"
     ]
    },
    {
     "name": "stdout",
     "output_type": "stream",
     "text": [
      "1. Non-small cell lung cancer s/p XRT and chemotherapy in Western Sahara , s/p right pneumonectomy in 2016-09-21 for recurrence .  -  15\n"
     ]
    },
    {
     "name": "stderr",
     "output_type": "stream",
     "text": [
      "\r",
      "  5%|███▋                                                                             | 16/350 [01:15<24:27,  4.39s/it]"
     ]
    },
    {
     "name": "stdout",
     "output_type": "stream",
     "text": [
      "Echo prior to scheduled cath showed mild LVH , inferior HK , EF 40% , mild MR , mild LAE .  -  16\n"
     ]
    },
    {
     "name": "stderr",
     "output_type": "stream",
     "text": [
      "\r",
      "  5%|███▉                                                                             | 17/350 [01:20<24:48,  4.47s/it]"
     ]
    },
    {
     "name": "stdout",
     "output_type": "stream",
     "text": [
      "His blood pressure was taken down from 230 systolic to approx 160 systolic / 100 diastolic on discharge .  -  17\n"
     ]
    },
    {
     "name": "stderr",
     "output_type": "stream",
     "text": [
      "\r",
      "  5%|████▏                                                                            | 18/350 [01:24<24:24,  4.41s/it]"
     ]
    },
    {
     "name": "stdout",
     "output_type": "stream",
     "text": [
      "Achest x-ray done at that time showed left pleural effusion and small right pleural effusion , not pulmonary edema and left lower lobe consolidations .  -  18\n"
     ]
    },
    {
     "name": "stderr",
     "output_type": "stream",
     "text": [
      "\r",
      "  5%|████▍                                                                            | 19/350 [01:29<26:07,  4.74s/it]"
     ]
    },
    {
     "name": "stdout",
     "output_type": "stream",
     "text": [
      "Therefore we will continue rate control with metoprolol this can be titrated if needed , and aspirin and plavix for anti-coagulation .  -  19\n"
     ]
    },
    {
     "name": "stderr",
     "output_type": "stream",
     "text": [
      "\r",
      "  6%|████▋                                                                            | 20/350 [01:34<26:17,  4.78s/it]"
     ]
    },
    {
     "name": "stdout",
     "output_type": "stream",
     "text": [
      "BUN 12 , creatinine 0.6 , glucose 92 , uric acid 3.3. Cholesterol 236 , triglycerides 115 , HDL 99 , LDL 114 , total protein 6.2 , globulin 2.6 , direct bilirubin 0 , total bilirubin 0.2 , alkaline phosphatase 59 , amylase 64 , SGOT 16 , LDH 141 , CPK 57 .  -  20\n"
     ]
    },
    {
     "name": "stderr",
     "output_type": "stream",
     "text": [
      "\r",
      "  6%|████▊                                                                            | 21/350 [01:47<38:41,  7.06s/it]"
     ]
    },
    {
     "name": "stdout",
     "output_type": "stream",
     "text": [
      "# ESRD : etiology likely 02-08 DM and HTN , pt tolerating HD well , and underwent dialysis without difficulty on 01-24 .  -  21\n"
     ]
    },
    {
     "name": "stderr",
     "output_type": "stream",
     "text": [
      "\r",
      "  6%|█████                                                                            | 22/350 [01:52<35:38,  6.52s/it]"
     ]
    },
    {
     "name": "stdout",
     "output_type": "stream",
     "text": [
      "White blood count 9.6 , hematocrit 38.8 , platelet 348,000 , mean corpuscular volume 85 and 86 , MCH 29 , MCHC 34 .  -  22\n"
     ]
    },
    {
     "name": "stderr",
     "output_type": "stream",
     "text": [
      "\r",
      "  7%|█████▎                                                                           | 23/350 [01:57<33:40,  6.18s/it]"
     ]
    },
    {
     "name": "stdout",
     "output_type": "stream",
     "text": [
      "The patient also had a head CT scan in the Emergency Department before coming to the Unit which reported no recent bleed and no change from a prior CT scan done on 2011-03-04 .  -  23\n"
     ]
    },
    {
     "name": "stderr",
     "output_type": "stream",
     "text": [
      "\r",
      "  7%|█████▌                                                                           | 24/350 [02:05<35:52,  6.60s/it]"
     ]
    },
    {
     "name": "stdout",
     "output_type": "stream",
     "text": [
      "During ER evaluation pt was noted to have some degree of dyspnea as well as mental status changes , including loss of short term memory and brief unresponsive period after one dose of IV Benadry and steroids prior to CT scan .  -  24\n"
     ]
    },
    {
     "name": "stderr",
     "output_type": "stream",
     "text": [
      "\r",
      "  7%|█████▊                                                                           | 25/350 [02:14<40:14,  7.43s/it]"
     ]
    },
    {
     "name": "stdout",
     "output_type": "stream",
     "text": [
      "He was initially placed on Ceftriaxone , Levaquin , and Flagyl in the ICU but then changed to   -  25\n"
     ]
    },
    {
     "name": "stderr",
     "output_type": "stream",
     "text": [
      "\r",
      "  7%|██████                                                                           | 26/350 [02:18<34:33,  6.40s/it]"
     ]
    },
    {
     "name": "stdout",
     "output_type": "stream",
     "text": [
      "The patient had an elevated bilirubin on admission with decreased output of biliary drain .  -  26\n"
     ]
    },
    {
     "name": "stderr",
     "output_type": "stream",
     "text": [
      "\r",
      "  8%|██████▏                                                                          | 27/350 [02:22<29:24,  5.46s/it]"
     ]
    },
    {
     "name": "stdout",
     "output_type": "stream",
     "text": [
      "WELLBUTRIN ( BUPROPION HCL ) 150 MG PO BID FOLATE ( FOLIC ACID ) 1 MG PO QD ATIVAN ( LORAZEPAM ) 1 MG PO Q12H X 1 Days ATIVAN ( LORAZEPAM ) 1 MG PO QHS X 7 Days Starting on 11/5 MVI THERAPEUTIC W / MINERALS ( THERAP VITS / MINERALS ) 1 TAB PO QD  -  27\n"
     ]
    },
    {
     "name": "stderr",
     "output_type": "stream",
     "text": [
      "\r",
      "  8%|██████▍                                                                          | 28/350 [02:35<41:24,  7.72s/it]"
     ]
    },
    {
     "name": "stdout",
     "output_type": "stream",
     "text": [
      "The plan was to start her on heparin and Coumadin and discontinue her heparin when her Coumadin levels became therapeutic as judged by the prothrombin time / INR .  -  28\n"
     ]
    },
    {
     "name": "stderr",
     "output_type": "stream",
     "text": [
      "\r",
      "  8%|██████▋                                                                          | 29/350 [02:41<39:41,  7.42s/it]"
     ]
    },
    {
     "name": "stdout",
     "output_type": "stream",
     "text": [
      "When she was taking clear liquids , her pain medication was switched to p.o. pain regimen with good affect .  -  29\n"
     ]
    },
    {
     "name": "stderr",
     "output_type": "stream",
     "text": [
      "\r",
      "  9%|██████▉                                                                          | 30/350 [02:46<35:09,  6.59s/it]"
     ]
    },
    {
     "name": "stdout",
     "output_type": "stream",
     "text": [
      "He was restarted on Coumadin for his low ejection fraction and started on diuresis with IV Lasix for two days and then switched to an oral Lasix regimen .  -  30\n"
     ]
    },
    {
     "name": "stderr",
     "output_type": "stream",
     "text": [
      "\r",
      "  9%|███████▏                                                                         | 31/350 [02:53<35:05,  6.60s/it]"
     ]
    },
    {
     "name": "stdout",
     "output_type": "stream",
     "text": [
      "TYLENOL ( ACETAMINOPHEN ) 650 MG PO Q4H PRN PAIN COLACE ( DOCUSATE SODIUM ) 100 MG PO BID PRN Constipation IBUPROFEN 600 MG PO Q4-6H PRN PAIN MILK OF MAGNESIA ( MAGNESIUM HYDROXIDE ) 30 MILLILITERS PO QD PRN Constipation PERCOCET 1-2 TAB PO Q4H PRN PAIN  -  31\n"
     ]
    },
    {
     "name": "stderr",
     "output_type": "stream",
     "text": [
      "\r",
      "  9%|███████▍                                                                         | 32/350 [03:04<42:20,  7.99s/it]"
     ]
    },
    {
     "name": "stdout",
     "output_type": "stream",
     "text": [
      "(1) Insulin dependent diabetes mellitus x 15 years with no retinopathy or foot lesions .  -  32\n"
     ]
    },
    {
     "name": "stderr",
     "output_type": "stream",
     "text": [
      "\r",
      "  9%|███████▋                                                                         | 33/350 [03:07<35:07,  6.65s/it]"
     ]
    },
    {
     "name": "stdout",
     "output_type": "stream",
     "text": [
      "4. Anemia , transfusion dependent every three months .  -  33\n"
     ]
    },
    {
     "name": "stderr",
     "output_type": "stream",
     "text": [
      "\r",
      " 10%|███████▊                                                                         | 34/350 [03:09<27:45,  5.27s/it]"
     ]
    },
    {
     "name": "stdout",
     "output_type": "stream",
     "text": [
      "2. Exposure and wide drainage of perforated posterior duodenal ulcer with internal and external drainage .  -  34\n"
     ]
    },
    {
     "name": "stderr",
     "output_type": "stream",
     "text": [
      "\r",
      " 10%|████████                                                                         | 35/350 [03:13<25:07,  4.79s/it]"
     ]
    },
    {
     "name": "stdout",
     "output_type": "stream",
     "text": [
      "The patient has a poor nutritional status with hypoalbuminemia .  -  35\n"
     ]
    },
    {
     "name": "stderr",
     "output_type": "stream",
     "text": [
      "\r",
      " 10%|████████▎                                                                        | 36/350 [03:15<21:16,  4.07s/it]"
     ]
    },
    {
     "name": "stdout",
     "output_type": "stream",
     "text": [
      "A Swan was placed and initial readings were CVP of 6 , wedge pressure of 10 to 12 , cardiac index of 4.7 , and SVR of 438 all consistent with a Pseudomonas sepsis picture .  -  36\n"
     ]
    },
    {
     "name": "stderr",
     "output_type": "stream",
     "text": [
      "\r",
      " 11%|████████▌                                                                        | 37/350 [03:24<28:01,  5.37s/it]"
     ]
    },
    {
     "name": "stdout",
     "output_type": "stream",
     "text": [
      "2015-10-28 03:30 PM BLOOD Glucose - 98 UreaN - 26 * Creat - 1.6 * Na - 140 K - 4.6 Cl - 104 HCO3 - 27 AnGap - 14  -  37\n"
     ]
    },
    {
     "name": "stderr",
     "output_type": "stream",
     "text": [
      "\r",
      " 11%|████████▊                                                                        | 38/350 [03:31<30:31,  5.87s/it]"
     ]
    },
    {
     "name": "stdout",
     "output_type": "stream",
     "text": [
      "Elavil by mouth 15 mg every night , Dulcolax rectally 10 mg once a day , Tegretol by mouth 100 mg twice a day , Benadryl by mouth 25 mg three times a day , Colace by mouth 200 mg twice a day , Vasotec by mouth 10 mg twice a day , EOC / LOC p.r./p.o. one each once a day as needed for constipation , Lasix by mouth 80 mg every morning , insulin regular according to insulin scale , Synthroid by mouth 25 mcg once a day , Maalox Plus Extra Strength by mouth 15 ml every six hours as needed for indigestion , Milk of Magnesia by mouth 30 ml once a day as needed for constipation , Asacol by mouth 400 mg every morning , Asacol 800 mg every night , Lopressor by mouth 25 mg twice a day , Miracle cream topically on skin once a day , nystatin swish and swallow by mouth 5 ml four times a day , Percocet by mouth one tab every four hours as needed for pain , and vancomycin by infusion 1 gm every 18 hours ; instructions in 250 ml slow IV infusion over one hour .  -  38\n"
     ]
    },
    {
     "name": "stderr",
     "output_type": "stream",
     "text": [
      "\r",
      " 11%|████████▊                                                                      | 39/350 [04:17<1:33:30, 18.04s/it]"
     ]
    },
    {
     "name": "stdout",
     "output_type": "stream",
     "text": [
      "With the help of physical therapy the patient was ambulated and on postoperative seven , with the patient tolerating a post surgical soft diet and with pain well controlled on oral pain medications , she was discharged to rehabilitation facility .  -  39\n"
     ]
    },
    {
     "name": "stderr",
     "output_type": "stream",
     "text": [
      "\r",
      " 11%|█████████                                                                      | 40/350 [04:26<1:19:19, 15.35s/it]"
     ]
    },
    {
     "name": "stdout",
     "output_type": "stream",
     "text": [
      "The patient &apos;s abdominal fluid cell counts showed 2400 white blood cells , 500 red cells with 82 polyps , 11 lymphs , 7 monos .  -  40\n"
     ]
    },
    {
     "name": "stderr",
     "output_type": "stream",
     "text": [
      "\r",
      " 12%|█████████▎                                                                     | 41/350 [04:32<1:04:18, 12.49s/it]"
     ]
    },
    {
     "name": "stdout",
     "output_type": "stream",
     "text": [
      "On admission the patient &apos;s biochemistry showed sodium of 140 , potassium 4.0 , chloride 107 , bicarb 14 , BUN 63 , creatinine 5.8 , blood sugar 133 .  -  41\n"
     ]
    },
    {
     "name": "stderr",
     "output_type": "stream",
     "text": [
      "\r",
      " 12%|█████████▋                                                                       | 42/350 [04:39<55:45, 10.86s/it]"
     ]
    },
    {
     "name": "stdout",
     "output_type": "stream",
     "text": [
      "Possible abnormality on the aortic valve as described above without aortic regurgitation .  -  42\n"
     ]
    },
    {
     "name": "stderr",
     "output_type": "stream",
     "text": [
      "\r",
      " 12%|█████████▉                                                                       | 43/350 [04:42<43:28,  8.50s/it]"
     ]
    },
    {
     "name": "stdout",
     "output_type": "stream",
     "text": [
      "1 CTROPNT > 0.10 NG/ML SUGGESTS ACUTE MI  -  43\n"
     ]
    },
    {
     "name": "stderr",
     "output_type": "stream",
     "text": [
      "\r",
      " 13%|██████████▏                                                                      | 44/350 [04:44<33:10,  6.50s/it]"
     ]
    },
    {
     "name": "stdout",
     "output_type": "stream",
     "text": [
      "NAD , pleasant , speaking in complete sentences , poor air movement bilaterally , L &gt; R , no wheezes or rales , rrr , distant , abd benign , no edema , alert and oriented times three , no focal deficits , conversant Studies :  -  44\n"
     ]
    },
    {
     "name": "stderr",
     "output_type": "stream",
     "text": [
      "\r",
      " 13%|██████████▍                                                                      | 45/350 [04:55<39:07,  7.70s/it]"
     ]
    },
    {
     "name": "stdout",
     "output_type": "stream",
     "text": [
      "Recent weight loss associated with the pneumonia .  -  45\n"
     ]
    },
    {
     "name": "stderr",
     "output_type": "stream",
     "text": [
      "\r",
      " 13%|██████████▋                                                                      | 46/350 [04:56<30:03,  5.93s/it]"
     ]
    },
    {
     "name": "stdout",
     "output_type": "stream",
     "text": [
      "She had a partial gastrectomy in 1972 for a &quot; tumor &quot; .  -  46\n"
     ]
    },
    {
     "name": "stderr",
     "output_type": "stream",
     "text": [
      "\r",
      " 13%|██████████▉                                                                      | 47/350 [04:59<25:28,  5.05s/it]"
     ]
    },
    {
     "name": "stdout",
     "output_type": "stream",
     "text": [
      "nausea and vomiting  -  47\n"
     ]
    },
    {
     "name": "stderr",
     "output_type": "stream",
     "text": [
      "\r",
      " 14%|███████████                                                                      | 48/350 [05:00<18:54,  3.76s/it]"
     ]
    },
    {
     "name": "stdout",
     "output_type": "stream",
     "text": [
      "eval for fx  -  48\n"
     ]
    },
    {
     "name": "stderr",
     "output_type": "stream",
     "text": [
      "\r",
      " 14%|███████████▎                                                                     | 49/350 [05:01<14:14,  2.84s/it]"
     ]
    },
    {
     "name": "stdout",
     "output_type": "stream",
     "text": [
      "He developed physiologic hyperbilirubinemia ( peak bili 8.6/0.3 on 06-08 , DOL3 ) for which he was treated with a single phototherapy .  -  49\n"
     ]
    },
    {
     "name": "stderr",
     "output_type": "stream",
     "text": [
      "\r",
      " 14%|███████████▌                                                                     | 50/350 [05:06<17:43,  3.55s/it]"
     ]
    },
    {
     "name": "stdout",
     "output_type": "stream",
     "text": [
      "Intra-aortic balloon pump augmented systole was 109 , augmented diastole was 111 .  -  50\n"
     ]
    },
    {
     "name": "stderr",
     "output_type": "stream",
     "text": [
      "\r",
      " 15%|███████████▊                                                                     | 51/350 [05:09<16:48,  3.37s/it]"
     ]
    },
    {
     "name": "stdout",
     "output_type": "stream",
     "text": [
      "The patient 's postoperative course was notable for an elevation in white blood cell count peaking at 30.0 on postoperative day number two .  -  51\n"
     ]
    },
    {
     "name": "stderr",
     "output_type": "stream",
     "text": [
      "\r",
      " 15%|████████████                                                                     | 52/350 [05:15<20:09,  4.06s/it]"
     ]
    },
    {
     "name": "stdout",
     "output_type": "stream",
     "text": [
      "After BiPAP was initiated , the patient became hypotensive down to 75/28 and bradycardiac , responding to 3 fluid boluses over the course of the night .  -  52\n"
     ]
    },
    {
     "name": "stderr",
     "output_type": "stream",
     "text": [
      "\r",
      " 15%|████████████▎                                                                    | 53/350 [05:21<23:22,  4.72s/it]"
     ]
    },
    {
     "name": "stdout",
     "output_type": "stream",
     "text": [
      "1. Exploratory laparotomy with drainage of intra-abdominal abscess and peritonitis with gross soilage with bile and gastric contents .  -  53\n"
     ]
    },
    {
     "name": "stderr",
     "output_type": "stream",
     "text": [
      "\r",
      " 15%|████████████▍                                                                    | 54/350 [05:25<23:01,  4.67s/it]"
     ]
    },
    {
     "name": "stdout",
     "output_type": "stream",
     "text": [
      "Mr. Patient was a poor candidate for anticoagulation because of his history of metastatic melanoma and the question of CNS metastases .  -  54\n"
     ]
    },
    {
     "name": "stderr",
     "output_type": "stream",
     "text": [
      "\r",
      " 16%|████████████▋                                                                    | 55/350 [05:31<23:42,  4.82s/it]"
     ]
    },
    {
     "name": "stdout",
     "output_type": "stream",
     "text": [
      "2019-06-19 07:20 AM BLOOD Calcium - 8.0 * Phos - 3.3 Mg - 2.0  -  55\n"
     ]
    },
    {
     "name": "stderr",
     "output_type": "stream",
     "text": [
      "\r",
      " 16%|████████████▉                                                                    | 56/350 [05:34<21:21,  4.36s/it]"
     ]
    },
    {
     "name": "stdout",
     "output_type": "stream",
     "text": [
      "On this examination , the patient was found to have mild biliary stricture most likely secondary to chronic pancreatitis .  -  56\n"
     ]
    },
    {
     "name": "stderr",
     "output_type": "stream",
     "text": [
      "\r",
      " 16%|█████████████▏                                                                   | 57/350 [05:39<22:01,  4.51s/it]"
     ]
    },
    {
     "name": "stdout",
     "output_type": "stream",
     "text": [
      "At the time of discharge , her weight is 2,200 grams ; her length is 49.5 centimeters ( 19.5 inches ) and her head circumference is 30.5 centimeters .  -  57\n"
     ]
    },
    {
     "name": "stderr",
     "output_type": "stream",
     "text": [
      "\r",
      " 17%|█████████████▍                                                                   | 58/350 [05:45<25:14,  5.19s/it]"
     ]
    },
    {
     "name": "stdout",
     "output_type": "stream",
     "text": [
      "An ultrasound of the right upper quadrant did not reveal any cholelithiasis or cholecystitis , however , an irregular hepatic contour was seen which is suggestive of underlying chronic liver disease .  -  58\n"
     ]
    },
    {
     "name": "stderr",
     "output_type": "stream",
     "text": [
      "\r",
      " 17%|█████████████▋                                                                   | 59/350 [05:53<28:11,  5.81s/it]"
     ]
    },
    {
     "name": "stdout",
     "output_type": "stream",
     "text": [
      "CHEMISTRY TotProt Albumin Globuln Calcium Phos Mg UricAcd Iron Cholest  -  59\n"
     ]
    },
    {
     "name": "stderr",
     "output_type": "stream",
     "text": [
      "\r",
      " 17%|█████████████▉                                                                   | 60/350 [05:55<22:54,  4.74s/it]"
     ]
    },
    {
     "name": "stdout",
     "output_type": "stream",
     "text": [
      "Pulmonary consult was done , and it was felt that the patient should undergo a formal sleep study , full PFTs , and a repeat CT scan in 1 year to assess for pulmonary nodule that was seen .  -  60\n"
     ]
    },
    {
     "name": "stderr",
     "output_type": "stream",
     "text": [
      "\r",
      " 17%|██████████████                                                                   | 61/350 [06:04<28:46,  5.97s/it]"
     ]
    },
    {
     "name": "stdout",
     "output_type": "stream",
     "text": [
      "The Neurology Service evaluated the patient who felt that her agitation was most likely due to infection , her multiple medications , or her metabolic condition .  -  61\n"
     ]
    },
    {
     "name": "stderr",
     "output_type": "stream",
     "text": [
      "\r",
      " 18%|██████████████▎                                                                  | 62/350 [06:10<28:55,  6.03s/it]"
     ]
    },
    {
     "name": "stdout",
     "output_type": "stream",
     "text": [
      "Hypertension was managed with beta blocker and ACE inhibitor and Integrilin was continued post MI for 18 hours .  -  62\n"
     ]
    },
    {
     "name": "stderr",
     "output_type": "stream",
     "text": [
      "\r",
      " 18%|██████████████▌                                                                  | 63/350 [06:15<26:41,  5.58s/it]"
     ]
    },
    {
     "name": "stdout",
     "output_type": "stream",
     "text": [
      "TYPE - ART TEMP - 36.6 RATES - 14 / TIDAL VOL - 550 PEEP - 5 O2 - 100 PO2 - 416 * PCO2 - 39 PH - 7.41 TOTAL CO2 - 26 BASE XS - 0 AADO2 - 279 REQ O2 - 52 - ASSIST / CON INTUBATED - INTUBATED  -  63\n"
     ]
    },
    {
     "name": "stderr",
     "output_type": "stream",
     "text": [
      "\r",
      " 18%|██████████████▊                                                                  | 64/350 [06:27<35:50,  7.52s/it]"
     ]
    },
    {
     "name": "stdout",
     "output_type": "stream",
     "text": [
      "He underwent a staging CT scan torso which suggested no significant increase in tumor burden .  -  64\n"
     ]
    },
    {
     "name": "stderr",
     "output_type": "stream",
     "text": [
      "\r",
      " 19%|███████████████                                                                  | 65/350 [06:30<30:17,  6.38s/it]"
     ]
    },
    {
     "name": "stdout",
     "output_type": "stream",
     "text": [
      "Upon further review of CT and angiography results with Neuroradiology and Neurology service , it was decided that CT myelography was not indicated at this time .  -  65\n"
     ]
    },
    {
     "name": "stderr",
     "output_type": "stream",
     "text": [
      "\r",
      " 19%|███████████████▎                                                                 | 66/350 [06:36<29:54,  6.32s/it]"
     ]
    },
    {
     "name": "stdout",
     "output_type": "stream",
     "text": [
      "In the Deanna , Tmax 102.8 , BP 100 - 140/60 s, HR 80 s, RR 20 s, Sat 75% on RA in triage , up to 100% on NRB .  -  66\n"
     ]
    },
    {
     "name": "stderr",
     "output_type": "stream",
     "text": [
      "\r",
      " 19%|███████████████▌                                                                 | 67/350 [06:44<31:18,  6.64s/it]"
     ]
    },
    {
     "name": "stdout",
     "output_type": "stream",
     "text": [
      "Right lower extremity examination demonstrated mild swelling and ecchymosis of the right posterior thigh and approximately a 3 cm laceration in the lower leg , expressive of moderate amounts of standard sterile  -  67\n"
     ]
    },
    {
     "name": "stderr",
     "output_type": "stream",
     "text": [
      "\r",
      " 19%|███████████████▋                                                                 | 68/350 [06:51<32:02,  6.82s/it]"
     ]
    },
    {
     "name": "stdout",
     "output_type": "stream",
     "text": [
      "Blood cultures returned positive with GPC in pairs and clusters , so a TTE and surveillance cultures were ordered and vancomycin was started .  -  68\n"
     ]
    },
    {
     "name": "stderr",
     "output_type": "stream",
     "text": [
      "\r",
      " 20%|███████████████▉                                                                 | 69/350 [06:56<29:53,  6.38s/it]"
     ]
    },
    {
     "name": "stdout",
     "output_type": "stream",
     "text": [
      "Of note , the patient has extreme pain with these dressing changes and requires parenteral morphine sulfate for pain control during dressing changes .  -  69\n"
     ]
    },
    {
     "name": "stderr",
     "output_type": "stream",
     "text": [
      "\r",
      " 20%|████████████████▏                                                                | 70/350 [07:02<28:30,  6.11s/it]"
     ]
    },
    {
     "name": "stdout",
     "output_type": "stream",
     "text": [
      "Since then , the patient has occasional chest pain with emotional stress , when he is angry or upset .  -  70\n"
     ]
    },
    {
     "name": "stderr",
     "output_type": "stream",
     "text": [
      "\r",
      " 20%|████████████████▍                                                                | 71/350 [07:06<26:04,  5.61s/it]"
     ]
    },
    {
     "name": "stdout",
     "output_type": "stream",
     "text": [
      "An MRI was done and this showed a signal abno in L3 L4 ? disciitis vs osteo without a definitive epidural abscess .  -  71\n"
     ]
    },
    {
     "name": "stderr",
     "output_type": "stream",
     "text": [
      "\r",
      " 21%|████████████████▋                                                                | 72/350 [07:11<25:17,  5.46s/it]"
     ]
    },
    {
     "name": "stdout",
     "output_type": "stream",
     "text": [
      "For the left chest wound , they recommended cleansing with commercial wound cleanser , pat dry , pack aquacel AG rope and moisten with saline , cover with dry gauze and change daily .  -  72\n"
     ]
    },
    {
     "name": "stderr",
     "output_type": "stream",
     "text": [
      "\r",
      " 21%|████████████████▉                                                                | 73/350 [07:19<28:12,  6.11s/it]"
     ]
    },
    {
     "name": "stdout",
     "output_type": "stream",
     "text": [
      "She has had continuing vaginal discharge , and was diagnosed with bacterial vaginosis one day prior to admission , and was given a prescription for Flagyl .  -  73\n"
     ]
    },
    {
     "name": "stderr",
     "output_type": "stream",
     "text": [
      "\r",
      " 21%|█████████████████▏                                                               | 74/350 [07:25<27:47,  6.04s/it]"
     ]
    },
    {
     "name": "stdout",
     "output_type": "stream",
     "text": [
      "Due to continued worsening pulmonary status and an overall grim prognosis , the family decided , in consultation with the Medical Team , to withdraw ventilatory support .  -  74\n"
     ]
    },
    {
     "name": "stderr",
     "output_type": "stream",
     "text": [
      "\r",
      " 21%|█████████████████▎                                                               | 75/350 [07:31<27:49,  6.07s/it]"
     ]
    },
    {
     "name": "stdout",
     "output_type": "stream",
     "text": [
      "He was awake , alert , uncomfortable secondary to incisional tenderness at neck site as well as right iliac graft site .  -  75\n"
     ]
    },
    {
     "name": "stderr",
     "output_type": "stream",
     "text": [
      "\r",
      " 22%|█████████████████▌                                                               | 76/350 [07:36<26:04,  5.71s/it]"
     ]
    },
    {
     "name": "stdout",
     "output_type": "stream",
     "text": [
      "He continued to pass about 1500-2000 cc of urine a day and his renal function improved slowly with creatinine decreased to 4.2 on the day of discharge .  -  76\n"
     ]
    },
    {
     "name": "stderr",
     "output_type": "stream",
     "text": [
      "\r",
      " 22%|█████████████████▊                                                               | 77/350 [07:42<26:35,  5.84s/it]"
     ]
    },
    {
     "name": "stdout",
     "output_type": "stream",
     "text": [
      "CHEST : Port a cath in R chest , no erythema or tenderness .  -  77\n"
     ]
    },
    {
     "name": "stderr",
     "output_type": "stream",
     "text": [
      "\r",
      " 22%|██████████████████                                                               | 78/350 [07:45<22:45,  5.02s/it]"
     ]
    },
    {
     "name": "stdout",
     "output_type": "stream",
     "text": [
      "VS : 99.4 HR 111 BP 110/64 RR16 97% 2LNC  -  78\n"
     ]
    },
    {
     "name": "stderr",
     "output_type": "stream",
     "text": [
      "\r",
      " 23%|██████████████████▎                                                              | 79/350 [07:47<18:50,  4.17s/it]"
     ]
    },
    {
     "name": "stdout",
     "output_type": "stream",
     "text": [
      "A left and right heart catheterization and coronary angiogram revealed aortic 120/70 , mean 95 , PA 26/10 , mean 17 , PC 7 , RV 26/6 , RA 4 , cardiac output 5.7 , index 3.8 .  -  79\n"
     ]
    },
    {
     "name": "stderr",
     "output_type": "stream",
     "text": [
      "\r",
      " 23%|██████████████████▌                                                              | 80/350 [07:56<24:42,  5.49s/it]"
     ]
    },
    {
     "name": "stdout",
     "output_type": "stream",
     "text": [
      "They felt that there was obstruction and possible obstruction to airflow generating some obstructive apnea , as well as partial obstructive events .  -  80\n"
     ]
    },
    {
     "name": "stderr",
     "output_type": "stream",
     "text": [
      "\r",
      " 23%|██████████████████▋                                                              | 81/350 [08:01<24:15,  5.41s/it]"
     ]
    },
    {
     "name": "stdout",
     "output_type": "stream",
     "text": [
      "No known drug allergies at the time of admission , however , it is assumed that her rigidity and jaw clenching was secondary to Fentanyl .  -  81\n"
     ]
    },
    {
     "name": "stderr",
     "output_type": "stream",
     "text": [
      "\r",
      " 23%|██████████████████▉                                                              | 82/350 [08:07<24:39,  5.52s/it]"
     ]
    },
    {
     "name": "stdout",
     "output_type": "stream",
     "text": [
      "Chest x-ray shows no infiltrate or pneumothorax .  -  82\n"
     ]
    },
    {
     "name": "stderr",
     "output_type": "stream",
     "text": [
      "\r",
      " 24%|███████████████████▏                                                             | 83/350 [08:09<19:36,  4.41s/it]"
     ]
    },
    {
     "name": "stdout",
     "output_type": "stream",
     "text": [
      "Percocet one to two tablets PO q.4h. to 6h.p.r.n. pain .  -  83\n"
     ]
    },
    {
     "name": "stderr",
     "output_type": "stream",
     "text": [
      "\r",
      " 24%|███████████████████▍                                                             | 84/350 [08:11<16:52,  3.81s/it]"
     ]
    },
    {
     "name": "stdout",
     "output_type": "stream",
     "text": [
      "Exam : T 96.2 HR 70 BP 118/46 R 24 sat 90% on 60%FM  -  84\n"
     ]
    },
    {
     "name": "stderr",
     "output_type": "stream",
     "text": [
      "\r",
      " 24%|███████████████████▋                                                             | 85/350 [08:14<15:55,  3.61s/it]"
     ]
    },
    {
     "name": "stdout",
     "output_type": "stream",
     "text": [
      "OTHER DIAGNOSIS ; Conditions , Infections , Complications , affecting Treatment / Stay dm ( diabetes mellitus ) anxiety ( anxiety ) htn ( hypertension ) gerd ( esophageal reflux )  -  85\n"
     ]
    },
    {
     "name": "stderr",
     "output_type": "stream",
     "text": [
      "\r",
      " 25%|███████████████████▉                                                             | 86/350 [08:22<20:46,  4.72s/it]"
     ]
    },
    {
     "name": "stdout",
     "output_type": "stream",
     "text": [
      "46 - yo-man w/ cocaine abuse presents w/ LE edema and DOE likely from diastolic heart failure in the setting of cocaine use complicated by hypertensive urgency .  -  86\n"
     ]
    },
    {
     "name": "stderr",
     "output_type": "stream",
     "text": [
      "\r",
      " 25%|████████████████████▏                                                            | 87/350 [08:28<23:04,  5.26s/it]"
     ]
    },
    {
     "name": "stdout",
     "output_type": "stream",
     "text": [
      "Colace 100 mg. p.o. t.i.d. Senokot 1 p.o. q. h.s. Nystatin powder to affected area t.i.d. Lopressor 25 mg. p.o. b.i.d. Atrovent 0.8/2.5 c.c. normal saline nebulizers q. 8 h. Albuterol 2.5/5 c.c. normal saline nebulizers q. 4 h. with q. 2 h. p.r.n. Percocet 1-2 p.o. q. 4 h. p.r.n. pain .  -  87\n"
     ]
    },
    {
     "name": "stderr",
     "output_type": "stream",
     "text": [
      "\r",
      " 25%|████████████████████▎                                                            | 88/350 [08:40<31:36,  7.24s/it]"
     ]
    },
    {
     "name": "stdout",
     "output_type": "stream",
     "text": [
      "Blood pressure 120/70 , temperature 97.8 F , pulse 68 , respirations 22 , Sa02 on 2 L 94% .  -  88\n"
     ]
    },
    {
     "name": "stderr",
     "output_type": "stream",
     "text": [
      "\r",
      " 25%|████████████████████▌                                                            | 89/350 [08:45<27:49,  6.39s/it]"
     ]
    },
    {
     "name": "stdout",
     "output_type": "stream",
     "text": [
      "The patient was also covered with Erythromycin and Gentamicin for coverage of community acquired pneumonias and gram negative rods .  -  89\n"
     ]
    },
    {
     "name": "stderr",
     "output_type": "stream",
     "text": [
      "\r",
      " 26%|████████████████████▊                                                            | 90/350 [08:49<25:17,  5.84s/it]"
     ]
    },
    {
     "name": "stdout",
     "output_type": "stream",
     "text": [
      "- DM with neuropathy .  -  90\n"
     ]
    },
    {
     "name": "stderr",
     "output_type": "stream",
     "text": [
      "\r",
      " 26%|█████████████████████                                                            | 91/350 [08:50<19:06,  4.43s/it]"
     ]
    },
    {
     "name": "stdout",
     "output_type": "stream",
     "text": [
      "A magnetic resonance imaging and magnetic resonance angiogram study was obtained , which showed no clear evidence of arterial dissections or infarction or other pathologic processes .  -  91\n"
     ]
    },
    {
     "name": "stderr",
     "output_type": "stream",
     "text": [
      "\r",
      " 26%|█████████████████████▎                                                           | 92/350 [08:56<21:08,  4.92s/it]"
     ]
    },
    {
     "name": "stdout",
     "output_type": "stream",
     "text": [
      "Breech , Multiple gestation ,  -  92\n"
     ]
    },
    {
     "name": "stderr",
     "output_type": "stream",
     "text": [
      "\r",
      " 27%|█████████████████████▌                                                           | 93/350 [08:57<16:09,  3.77s/it]"
     ]
    },
    {
     "name": "stdout",
     "output_type": "stream",
     "text": [
      "Ahead CT scan revealed a metastatic lesion in the right vertex of the calvarium but no intracranial abnormalities .  -  93\n"
     ]
    },
    {
     "name": "stderr",
     "output_type": "stream",
     "text": [
      "\r",
      " 27%|█████████████████████▊                                                           | 94/350 [09:02<16:55,  3.97s/it]"
     ]
    },
    {
     "name": "stdout",
     "output_type": "stream",
     "text": [
      "The ulcer was managed conservatively at Har Hospital by Dr. Holes with Silvadene b.i.d. lower extremity non-invasive study obtained at that time showed poor distal right extremity perfusion .  -  94\n"
     ]
    },
    {
     "name": "stderr",
     "output_type": "stream",
     "text": [
      "\r",
      " 27%|█████████████████████▉                                                           | 95/350 [09:09<20:45,  4.88s/it]"
     ]
    },
    {
     "name": "stdout",
     "output_type": "stream",
     "text": [
      "The patient presented with a serum calcium of 11.8 and an albumin of 2.3 on admission .  -  95\n"
     ]
    },
    {
     "name": "stderr",
     "output_type": "stream",
     "text": [
      "\r",
      " 27%|██████████████████████▏                                                          | 96/350 [09:13<19:40,  4.65s/it]"
     ]
    },
    {
     "name": "stdout",
     "output_type": "stream",
     "text": [
      "Lopressor 100 mg p.o. b.i.d. ; Nifedipine 10 mg p.o. t.i.d. ; Timoptic solution 0.5% OS b.i.d. ; Coumadin 1 mg alternating with 1.5 mg q.o.d. at q.h.s. and Haldol 2 mg p.o. q.h.s. p.r.n. in the evening , only for agitation associated with confusion .  -  96\n"
     ]
    },
    {
     "name": "stderr",
     "output_type": "stream",
     "text": [
      "\r",
      " 28%|██████████████████████▍                                                          | 97/350 [09:24<27:54,  6.62s/it]"
     ]
    },
    {
     "name": "stdout",
     "output_type": "stream",
     "text": [
      "Physical examination revealed temperature was 96.9 , heart rate was 121 , blood pressure was 122/86 , respiratory rate was 22 , and oxygen saturation was 96% on room air .  -  97\n"
     ]
    },
    {
     "name": "stderr",
     "output_type": "stream",
     "text": [
      "\r",
      " 28%|██████████████████████▋                                                          | 98/350 [09:32<29:12,  6.96s/it]"
     ]
    },
    {
     "name": "stdout",
     "output_type": "stream",
     "text": [
      "Hypertension was managed with beta blocker and ACE inhibitor and Integrilin was continued post MI for 18 hours .  -  98\n"
     ]
    },
    {
     "name": "stderr",
     "output_type": "stream",
     "text": [
      "\r",
      " 28%|██████████████████████▉                                                          | 99/350 [09:36<26:11,  6.26s/it]"
     ]
    },
    {
     "name": "stdout",
     "output_type": "stream",
     "text": [
      "Temperature 95.4 , pulse 120 , blood pressure 150/80 , respiratory rate 24 , 95% on room air .  -  99\n"
     ]
    },
    {
     "name": "stderr",
     "output_type": "stream",
     "text": [
      "\r",
      " 29%|██████████████████████▊                                                         | 100/350 [09:41<23:48,  5.71s/it]"
     ]
    },
    {
     "name": "stdout",
     "output_type": "stream",
     "text": [
      "Head CT scan without contrast showed normal brain parenchyma and no intracranial process .  -  100\n"
     ]
    },
    {
     "name": "stderr",
     "output_type": "stream",
     "text": [
      "\r",
      " 29%|███████████████████████                                                         | 101/350 [09:44<20:39,  4.98s/it]"
     ]
    },
    {
     "name": "stdout",
     "output_type": "stream",
     "text": [
      "Chest x-rays revealed evidence of congestive heart failure .  -  101\n"
     ]
    },
    {
     "name": "stderr",
     "output_type": "stream",
     "text": [
      "\r",
      " 29%|███████████████████████▎                                                        | 102/350 [09:46<17:03,  4.13s/it]"
     ]
    },
    {
     "name": "stdout",
     "output_type": "stream",
     "text": [
      "Upon transfer to the CMED CCU the patient appears somewhat uncomfortable , reporting nausea and abdominal pain , but when questioned he was unable / unwilling to participate in HPI or exam d/t sleepiness .  -  102\n"
     ]
    },
    {
     "name": "stderr",
     "output_type": "stream",
     "text": [
      "\r",
      " 29%|███████████████████████▌                                                        | 103/350 [09:55<22:15,  5.41s/it]"
     ]
    },
    {
     "name": "stdout",
     "output_type": "stream",
     "text": [
      "He received a two week course of broad spectrum antibiotics and will be maintained on Levofloxacin IV for prophylaxis against SBP .  -  103\n"
     ]
    },
    {
     "name": "stderr",
     "output_type": "stream",
     "text": [
      "\r",
      " 30%|███████████████████████▊                                                        | 104/350 [10:00<21:43,  5.30s/it]"
     ]
    },
    {
     "name": "stdout",
     "output_type": "stream",
     "text": [
      "Steroid complications , including cataract , osteoporosis , diffuse fibrocystic breast disease , trigeminal neuralgia .  -  104\n"
     ]
    },
    {
     "name": "stderr",
     "output_type": "stream",
     "text": [
      "\r",
      " 30%|████████████████████████                                                        | 105/350 [10:03<19:34,  4.79s/it]"
     ]
    },
    {
     "name": "stdout",
     "output_type": "stream",
     "text": [
      "2. Respiratory - Intubated for airway protection due to change in mental status .  -  105\n"
     ]
    },
    {
     "name": "stderr",
     "output_type": "stream",
     "text": [
      "\r",
      " 30%|████████████████████████▏                                                       | 106/350 [10:07<17:27,  4.29s/it]"
     ]
    },
    {
     "name": "stdout",
     "output_type": "stream",
     "text": [
      "In addition , the patient received the above-described diagnostic procedures , which demonstrated injuries limited to a posterior scalp laceration , left fractured clavicle , left fractured radius , right thigh hematoma , and right leg laceration .  -  106\n"
     ]
    },
    {
     "name": "stderr",
     "output_type": "stream",
     "text": [
      "\r",
      " 31%|████████████████████████▍                                                       | 107/350 [10:15<22:22,  5.52s/it]"
     ]
    },
    {
     "name": "stdout",
     "output_type": "stream",
     "text": [
      "4. History of esophageal erosion , MW tear  -  107\n"
     ]
    },
    {
     "name": "stderr",
     "output_type": "stream",
     "text": [
      "\r",
      " 31%|████████████████████████▋                                                       | 108/350 [10:17<17:45,  4.40s/it]"
     ]
    },
    {
     "name": "stdout",
     "output_type": "stream",
     "text": [
      "Because of his confusion , a neurology consult was obtained and subsequent radiographic imaging revealed chronic appearing infarcts in the right occipital lobe as well as both cerebellar hemispheres , suggestive of more chronic infarcts , as well as an area in the left corona radiata , adjacent to the left lateral ventricle which may or may not be an acute infarct .  -  108\n"
     ]
    },
    {
     "name": "stderr",
     "output_type": "stream",
     "text": [
      "\r",
      " 31%|████████████████████████▉                                                       | 109/350 [10:31<29:15,  7.29s/it]"
     ]
    },
    {
     "name": "stdout",
     "output_type": "stream",
     "text": [
      "She states this light-headedness is often associated with shortness of breath and diaphoresis occasionally with nausea .  -  109\n"
     ]
    },
    {
     "name": "stderr",
     "output_type": "stream",
     "text": [
      "\r",
      " 31%|█████████████████████████▏                                                      | 110/350 [10:35<25:02,  6.26s/it]"
     ]
    },
    {
     "name": "stdout",
     "output_type": "stream",
     "text": [
      "- worsening pain or weakness in your legs , loss of bowel or bladder function or any other concerning symptoms .  -  110\n"
     ]
    },
    {
     "name": "stderr",
     "output_type": "stream",
     "text": [
      "\r",
      " 32%|█████████████████████████▎                                                      | 111/350 [10:39<23:01,  5.78s/it]"
     ]
    },
    {
     "name": "stdout",
     "output_type": "stream",
     "text": [
      "On admission the patient &apos;s biochemistry showed sodium of 140 , potassium 4.0 , chloride 107 , bicarb 14 , BUN 63 , creatinine 5.8 , blood sugar 133 .  -  111\n"
     ]
    },
    {
     "name": "stderr",
     "output_type": "stream",
     "text": [
      "\r",
      " 32%|█████████████████████████▌                                                      | 112/350 [10:46<24:03,  6.07s/it]"
     ]
    },
    {
     "name": "stdout",
     "output_type": "stream",
     "text": [
      "The LH was 4.9 , FSH 3.3 .  -  112\n"
     ]
    },
    {
     "name": "stderr",
     "output_type": "stream",
     "text": [
      "\r",
      " 32%|█████████████████████████▊                                                      | 113/350 [10:48<18:53,  4.78s/it]"
     ]
    },
    {
     "name": "stdout",
     "output_type": "stream",
     "text": [
      "2013-10-29 11:37 AM BLOOD WBC - 11.4 *# RBC - 3.09 *# Hgb - 9.1 *# Hct - 27.5 *# MCV - 89 MCH - 29.5 MCHC - 33.3 RDW - 14.6 Plt Ct - 180  -  113\n"
     ]
    },
    {
     "name": "stderr",
     "output_type": "stream",
     "text": [
      "\r",
      " 33%|██████████████████████████                                                      | 114/350 [10:56<22:28,  5.71s/it]"
     ]
    },
    {
     "name": "stdout",
     "output_type": "stream",
     "text": [
      "Bipolar D/O with one suicide attempt by overdose several years ago  -  114\n"
     ]
    },
    {
     "name": "stderr",
     "output_type": "stream",
     "text": [
      "\r",
      " 33%|██████████████████████████▎                                                     | 115/350 [10:58<18:31,  4.73s/it]"
     ]
    },
    {
     "name": "stdout",
     "output_type": "stream",
     "text": [
      "She denies any CP / cough / fever , abdominal pain / diarrhea , black or bloody stools or headache .  -  115\n"
     ]
    },
    {
     "name": "stderr",
     "output_type": "stream",
     "text": [
      "\r",
      " 33%|██████████████████████████▌                                                     | 116/350 [11:03<18:34,  4.76s/it]"
     ]
    },
    {
     "name": "stdout",
     "output_type": "stream",
     "text": [
      "Heart is regular without murmurs , rubs , or gallops .  -  116\n"
     ]
    },
    {
     "name": "stderr",
     "output_type": "stream",
     "text": [
      "\r",
      " 33%|██████████████████████████▋                                                     | 117/350 [11:05<15:45,  4.06s/it]"
     ]
    },
    {
     "name": "stdout",
     "output_type": "stream",
     "text": [
      "On the day of transfer , the patient was noted to be confused with waxing and waning sensorium ; thus , a delirium work-up was initiated looking for precipitants .  -  117\n"
     ]
    },
    {
     "name": "stderr",
     "output_type": "stream",
     "text": [
      "\r",
      " 34%|██████████████████████████▉                                                     | 118/350 [11:12<18:36,  4.81s/it]"
     ]
    },
    {
     "name": "stdout",
     "output_type": "stream",
     "text": [
      "60 yo M with exertional angina -> positive ETT -> cath with severe 3VD  -  118\n"
     ]
    },
    {
     "name": "stderr",
     "output_type": "stream",
     "text": [
      "\r",
      " 34%|███████████████████████████▏                                                    | 119/350 [11:15<16:40,  4.33s/it]"
     ]
    },
    {
     "name": "stdout",
     "output_type": "stream",
     "text": [
      "Palpation of the neck discloses a multinodular goiter , larger on the right side , with no associated cervical lymphadenopathy .  -  119\n"
     ]
    },
    {
     "name": "stderr",
     "output_type": "stream",
     "text": [
      "\r",
      " 34%|███████████████████████████▍                                                    | 120/350 [11:20<16:57,  4.42s/it]"
     ]
    },
    {
     "name": "stdout",
     "output_type": "stream",
     "text": [
      "Pt discharged with instructions to continue coumadin 1.5 mg po q daily with goal INR 02-09 .  -  120\n"
     ]
    },
    {
     "name": "stderr",
     "output_type": "stream",
     "text": [
      "\r",
      " 35%|███████████████████████████▋                                                    | 121/350 [11:24<16:09,  4.23s/it]"
     ]
    },
    {
     "name": "stdout",
     "output_type": "stream",
     "text": [
      "5. Autograft , bone morphogenic protein , and allograft .  -  121\n"
     ]
    },
    {
     "name": "stderr",
     "output_type": "stream",
     "text": [
      "\r",
      " 35%|███████████████████████████▉                                                    | 122/350 [11:26<13:46,  3.62s/it]"
     ]
    },
    {
     "name": "stdout",
     "output_type": "stream",
     "text": [
      "2. Bilateral pleural effusions , right greater than left , with left-sided compressive atelectasis .  -  122\n"
     ]
    },
    {
     "name": "stderr",
     "output_type": "stream",
     "text": [
      "\r",
      " 35%|████████████████████████████                                                    | 123/350 [11:29<13:19,  3.52s/it]"
     ]
    },
    {
     "name": "stdout",
     "output_type": "stream",
     "text": [
      "Therefore we will continue rate control with metoprolol this can be titrated if needed , and aspirin and plavix for anti-coagulation .  -  123\n"
     ]
    },
    {
     "name": "stderr",
     "output_type": "stream",
     "text": [
      "\r",
      " 35%|████████████████████████████▎                                                   | 124/350 [11:34<14:53,  3.96s/it]"
     ]
    },
    {
     "name": "stdout",
     "output_type": "stream",
     "text": [
      "Infection / sepsis was not likely given she was afebrile and had no localizing sx with an improving lung exam and 02 requirement .  -  124\n"
     ]
    },
    {
     "name": "stderr",
     "output_type": "stream",
     "text": [
      "\r",
      " 36%|████████████████████████████▌                                                   | 125/350 [11:39<16:27,  4.39s/it]"
     ]
    },
    {
     "name": "stdout",
     "output_type": "stream",
     "text": [
      "Her affect was slightly inappropriate at times ; for example , singing or humming along while performing some of the motor tasks and giving the impression of indifference to the deficits that were demonstrated on the examination .  -  125\n"
     ]
    },
    {
     "name": "stderr",
     "output_type": "stream",
     "text": [
      "\r",
      " 36%|████████████████████████████▊                                                   | 126/350 [11:48<20:47,  5.57s/it]"
     ]
    },
    {
     "name": "stdout",
     "output_type": "stream",
     "text": [
      "His complete blood count showed 11% bandemia with a total white count of 10 .  -  126\n"
     ]
    },
    {
     "name": "stderr",
     "output_type": "stream",
     "text": [
      "\r",
      " 36%|█████████████████████████████                                                   | 127/350 [11:51<18:14,  4.91s/it]"
     ]
    },
    {
     "name": "stdout",
     "output_type": "stream",
     "text": [
      "The patient 's also began to climb and the percent blasts in his differential decreased significantly .  -  127\n"
     ]
    },
    {
     "name": "stderr",
     "output_type": "stream",
     "text": [
      "\r",
      " 37%|█████████████████████████████▎                                                  | 128/350 [11:55<16:55,  4.57s/it]"
     ]
    },
    {
     "name": "stdout",
     "output_type": "stream",
     "text": [
      "The patient was found to have 5057 E. Sixth Blvd. elevations in I , aVL , and V1 through V2 and ST depressions in II , III , and aVF .  -  128\n"
     ]
    },
    {
     "name": "stderr",
     "output_type": "stream",
     "text": [
      "\r",
      " 37%|█████████████████████████████▍                                                  | 129/350 [12:02<19:32,  5.31s/it]"
     ]
    },
    {
     "name": "stdout",
     "output_type": "stream",
     "text": [
      "In this 2 week interval he denied having CP / chest discomfort or difficulty breathing , no cough or hemoptysis .  -  129\n"
     ]
    },
    {
     "name": "stderr",
     "output_type": "stream",
     "text": [
      "\r",
      " 37%|█████████████████████████████▋                                                  | 130/350 [12:07<18:50,  5.14s/it]"
     ]
    },
    {
     "name": "stdout",
     "output_type": "stream",
     "text": [
      "Second , he had a witnessed episode in which his eyes rolled to the back of his head and there was a question of some seizure activity .  -  130\n"
     ]
    },
    {
     "name": "stderr",
     "output_type": "stream",
     "text": [
      "\r",
      " 37%|█████████████████████████████▉                                                  | 131/350 [12:13<19:52,  5.45s/it]"
     ]
    },
    {
     "name": "stdout",
     "output_type": "stream",
     "text": [
      "Clonidine 2.5 milligrams topical q. week , Nitropaste 2 inches q.4h. , Nilandron 50 milligrams p.o. q.d. , Lupron , Dulcolax p.r.n. , Colace 100 milligrams p.o. b.i.d. , Ferrous sulfate 300 milligrams p.o. b.i.d. , Lansopiacole 15 milligrams p.o. q.d. , bethanechol 25 milligrams p.o. t.i.d.  -  131\n"
     ]
    },
    {
     "name": "stderr",
     "output_type": "stream",
     "text": [
      "\r",
      " 38%|██████████████████████████████▏                                                 | 132/350 [12:23<25:04,  6.90s/it]"
     ]
    },
    {
     "name": "stdout",
     "output_type": "stream",
     "text": [
      "Sodium 137 , potassium 4.5 , chloride97 , bicarb 24 , BUN 124 , creatinine 4.1 , glucose 144 , AST 49 , ALT33 , alkaline phosphatase 253 , total bili 1.6 , calcium 9.2 , magnesium 2.3 , albumin 3.4 .  -  132\n"
     ]
    },
    {
     "name": "stderr",
     "output_type": "stream",
     "text": [
      "\r",
      " 38%|██████████████████████████████▍                                                 | 133/350 [12:33<27:45,  7.67s/it]"
     ]
    },
    {
     "name": "stdout",
     "output_type": "stream",
     "text": [
      "Scattered parenchymal opacities in the left lower lobe represent superimposed infection vs atelectasis .  -  133\n"
     ]
    },
    {
     "name": "stderr",
     "output_type": "stream",
     "text": [
      "\r",
      " 38%|██████████████████████████████▋                                                 | 134/350 [12:36<22:41,  6.30s/it]"
     ]
    },
    {
     "name": "stdout",
     "output_type": "stream",
     "text": [
      "The plan is to complete a full course of Imipenem and Tobramycin for his Pseudomonas cellulitis .  -  134\n"
     ]
    },
    {
     "name": "stderr",
     "output_type": "stream",
     "text": [
      "\r",
      " 39%|██████████████████████████████▊                                                 | 135/350 [12:39<19:48,  5.53s/it]"
     ]
    },
    {
     "name": "stdout",
     "output_type": "stream",
     "text": [
      "Moderate to severe enlargement of the cardiac silhouette , and  particularly the left atrium accompanied by pulmonary vascular congestion and mild pulmonary edema consistent with heart failure .  -  135\n"
     ]
    },
    {
     "name": "stderr",
     "output_type": "stream",
     "text": [
      "\r",
      " 39%|███████████████████████████████                                                 | 136/350 [12:46<20:36,  5.78s/it]"
     ]
    },
    {
     "name": "stdout",
     "output_type": "stream",
     "text": [
      "Extremities : 05-09 + pretibial edema extending above knee R > L , no asterixis .  -  136\n"
     ]
    },
    {
     "name": "stderr",
     "output_type": "stream",
     "text": [
      "\r",
      " 39%|███████████████████████████████▎                                                | 137/350 [12:49<18:11,  5.12s/it]"
     ]
    },
    {
     "name": "stdout",
     "output_type": "stream",
     "text": [
      "Cervical spine imaging demonstrated no evidence of cervical spine injury .  -  137\n"
     ]
    },
    {
     "name": "stderr",
     "output_type": "stream",
     "text": [
      "\r",
      " 39%|███████████████████████████████▌                                                | 138/350 [12:52<15:13,  4.31s/it]"
     ]
    },
    {
     "name": "stdout",
     "output_type": "stream",
     "text": [
      "2013-10-29 01:09 PM BLOOD Glucose - 172 * UreaN - 11 Creat - 0.9 Na - 142 Cl - 111 * HCO3 - 22  -  138\n"
     ]
    },
    {
     "name": "stderr",
     "output_type": "stream",
     "text": [
      "\r",
      " 40%|███████████████████████████████▊                                                | 139/350 [12:57<16:14,  4.62s/it]"
     ]
    },
    {
     "name": "stdout",
     "output_type": "stream",
     "text": [
      "Return to the ED for worsening chest pain , shortness of breath , nausea / vomiting , fever / chills , weakness / dizziness/numbness , or any other problems .  -  139\n"
     ]
    },
    {
     "name": "stderr",
     "output_type": "stream",
     "text": [
      "\r",
      " 40%|████████████████████████████████                                                | 140/350 [13:04<18:28,  5.28s/it]"
     ]
    },
    {
     "name": "stdout",
     "output_type": "stream",
     "text": [
      "However , subsequent it was determined that the patient 's hypotension may have been related to his rapid ventricular response and right heart failure .  -  140\n"
     ]
    },
    {
     "name": "stderr",
     "output_type": "stream",
     "text": [
      "\r",
      " 40%|████████████████████████████████▏                                               | 141/350 [13:10<18:42,  5.37s/it]"
     ]
    },
    {
     "name": "stdout",
     "output_type": "stream",
     "text": [
      "2015-03-26 10:10 AM BLOOD WBC - 8.1 RBC - 3.69 * Hgb - 11.0 * Hct - 32.4 * MCV - 88 MCH - 29.8 MCHC - 33.9 RDW - 26.0 * Plt Ct - 72 *#  -  141\n"
     ]
    },
    {
     "name": "stderr",
     "output_type": "stream",
     "text": [
      "\r",
      " 41%|████████████████████████████████▍                                               | 142/350 [13:18<21:31,  6.21s/it]"
     ]
    },
    {
     "name": "stdout",
     "output_type": "stream",
     "text": [
      "2017-08-14 07:30 PM TYPE - ART PO2 - 468 * PCO2 - 44 PH - 7.50 * TOTAL CO2 - 36 * BASE XS - 10 INTUBATED - INTUBATED  -  142\n"
     ]
    },
    {
     "name": "stderr",
     "output_type": "stream",
     "text": [
      "\r",
      " 41%|████████████████████████████████▋                                               | 143/350 [13:24<21:44,  6.30s/it]"
     ]
    },
    {
     "name": "stdout",
     "output_type": "stream",
     "text": [
      "She was found to be febrile to 101.9 and received levoflox and vancomycin .  -  143\n"
     ]
    },
    {
     "name": "stderr",
     "output_type": "stream",
     "text": [
      "\r",
      " 41%|████████████████████████████████▉                                               | 144/350 [13:27<18:21,  5.35s/it]"
     ]
    },
    {
     "name": "stdout",
     "output_type": "stream",
     "text": [
      "Head computerized tomography scan on 10/19 : 3 centimeter hyperdensity within the right putamenal area in the right external capsusle consistent with intra-parenchymal hematoma with mild local mass effect and surrounding edema .  -  144\n"
     ]
    },
    {
     "name": "stderr",
     "output_type": "stream",
     "text": [
      "\r",
      " 41%|█████████████████████████████████▏                                              | 145/350 [13:35<20:14,  5.92s/it]"
     ]
    },
    {
     "name": "stdout",
     "output_type": "stream",
     "text": [
      "Serologies include blood type O negative , antibody negative , RPR nonreactive .  -  145\n"
     ]
    },
    {
     "name": "stderr",
     "output_type": "stream",
     "text": [
      "\r",
      " 42%|█████████████████████████████████▎                                              | 146/350 [13:37<17:04,  5.02s/it]"
     ]
    },
    {
     "name": "stdout",
     "output_type": "stream",
     "text": [
      "Chest tubes were removed on post-op day two and epicardial pacing wires on post-op day three .  -  146\n"
     ]
    },
    {
     "name": "stderr",
     "output_type": "stream",
     "text": [
      "\r",
      " 42%|█████████████████████████████████▌                                              | 147/350 [13:41<15:41,  4.64s/it]"
     ]
    },
    {
     "name": "stdout",
     "output_type": "stream",
     "text": [
      "An abdominal and pelvic CT scan with IV contrast revealed bilateral pulmonary nodules and bilateral pleural effusions , extensive liver metastases , narrowing of the intra hepatic IVC and distention of the azygous system suggestive of IVC obstruction by liver metastases ; ascites ; multiple bony metastases ; and an isolated splenic metastases .  -  147\n"
     ]
    },
    {
     "name": "stderr",
     "output_type": "stream",
     "text": [
      "\r",
      " 42%|█████████████████████████████████▊                                              | 148/350 [13:53<22:51,  6.79s/it]"
     ]
    },
    {
     "name": "stdout",
     "output_type": "stream",
     "text": [
      "IVF pregnancy complicated by IUGR , 2 vessel cord , normal fetal echo reverse diastolic flow and demise of twin A at 27 weeks .  -  148\n"
     ]
    },
    {
     "name": "stderr",
     "output_type": "stream",
     "text": [
      "\r",
      " 43%|██████████████████████████████████                                              | 149/350 [13:59<21:56,  6.55s/it]"
     ]
    },
    {
     "name": "stdout",
     "output_type": "stream",
     "text": [
      "2017-08-14 07:30 PM TYPE - ART PO2 - 468 * PCO2 - 44 PH - 7.50 * TOTAL CO2 - 36 * BASE XS - 10 INTUBATED - INTUBATED  -  149\n"
     ]
    },
    {
     "name": "stderr",
     "output_type": "stream",
     "text": [
      "\r",
      " 43%|██████████████████████████████████▎                                             | 150/350 [14:06<21:46,  6.53s/it]"
     ]
    },
    {
     "name": "stdout",
     "output_type": "stream",
     "text": [
      "WELLBUTRIN ( BUPROPION HCL ) 150 MG PO BID FOLATE ( FOLIC ACID ) 1 MG PO QD ATIVAN ( LORAZEPAM ) 1 MG PO Q12H X 1 Days ATIVAN ( LORAZEPAM ) 1 MG PO QHS X 7 Days Starting on 11/5 MVI THERAPEUTIC W / MINERALS ( THERAP VITS / MINERALS ) 1 TAB PO QD  -  150\n"
     ]
    },
    {
     "name": "stderr",
     "output_type": "stream",
     "text": [
      "\r",
      " 43%|██████████████████████████████████▌                                             | 151/350 [14:19<28:04,  8.47s/it]"
     ]
    },
    {
     "name": "stdout",
     "output_type": "stream",
     "text": [
      "NECK : JVP not elevated .  -  151\n"
     ]
    },
    {
     "name": "stderr",
     "output_type": "stream",
     "text": [
      "\r",
      " 43%|██████████████████████████████████▋                                             | 152/350 [14:20<20:52,  6.33s/it]"
     ]
    },
    {
     "name": "stdout",
     "output_type": "stream",
     "text": [
      "This is a 59 year old male with a past medical history significant for an atrioseptal defect repair at age 18 , congestive heart failure with an ejection fraction of 45% and a recent cardiac myocardial infarction , pulmonary hypertension and mitral regurgitation , and atrial fibrillation .  -  152\n"
     ]
    },
    {
     "name": "stderr",
     "output_type": "stream",
     "text": [
      "\r",
      " 44%|██████████████████████████████████▉                                             | 153/350 [14:31<25:04,  7.64s/it]"
     ]
    },
    {
     "name": "stdout",
     "output_type": "stream",
     "text": [
      "She also had an episode of nausea with some emesis , after being treated with Zofran with no relief , a nasogastric tube was placed which drained 1200 cc of bilious fluid .  -  153\n"
     ]
    },
    {
     "name": "stderr",
     "output_type": "stream",
     "text": [
      "\r",
      " 44%|███████████████████████████████████▏                                            | 154/350 [14:38<24:39,  7.55s/it]"
     ]
    },
    {
     "name": "stdout",
     "output_type": "stream",
     "text": [
      "WBC - 7.7 RBC - 5.00 HGB - 15.0 HCT - 42.8 MCV - 86 MCH - 30.0 MCHC - 35.0 RDW - 14.6  -  154\n"
     ]
    },
    {
     "name": "stderr",
     "output_type": "stream",
     "text": [
      "\r",
      " 44%|███████████████████████████████████▍                                            | 155/350 [14:43<22:15,  6.85s/it]"
     ]
    },
    {
     "name": "stdout",
     "output_type": "stream",
     "text": [
      "Mr. Lockley is a 73 yo male with a complicated past medical history , recently discharged from St. Margaret 's Center for Women & Infants on 08-02 following a prolonged admission for STEMI , respiratory failure felt secondary to pulmonary edema requiring intubation and subsequent tracheostomy 02-22 failure to wean , sepsis and C.difficile colitis treated with Vancomycin and Flagyl with a course of Levophed .  -  155\n"
     ]
    },
    {
     "name": "stderr",
     "output_type": "stream",
     "text": [
      "\r",
      " 45%|███████████████████████████████████▋                                            | 156/350 [14:58<29:39,  9.17s/it]"
     ]
    },
    {
     "name": "stdout",
     "output_type": "stream",
     "text": [
      "2012-06-07 09:55 PM BLOOD PT - 12.8 PTT - 25.7 INR(PT) - 1.0  -  156\n"
     ]
    },
    {
     "name": "stderr",
     "output_type": "stream",
     "text": [
      "\r",
      " 45%|███████████████████████████████████▉                                            | 157/350 [15:01<23:30,  7.31s/it]"
     ]
    },
    {
     "name": "stdout",
     "output_type": "stream",
     "text": [
      "Return immediately for worsening signs of infection ( increased swelling , pain , redness ) or for any neurologic changes ( blurry or double vision , headaches , trouble walking , etc ) .  -  157\n"
     ]
    },
    {
     "name": "stderr",
     "output_type": "stream",
     "text": [
      "\r",
      " 45%|████████████████████████████████████                                            | 158/350 [15:08<23:50,  7.45s/it]"
     ]
    },
    {
     "name": "stdout",
     "output_type": "stream",
     "text": [
      "Mr. Breutzfarstxei was recently diagnosed with acquired immunodeficiency syndrome when he had Pneumocystis carinii pneumonia on 01/17/91 .  -  158\n"
     ]
    },
    {
     "name": "stderr",
     "output_type": "stream",
     "text": [
      "\r",
      " 45%|████████████████████████████████████▎                                           | 159/350 [15:13<20:45,  6.52s/it]"
     ]
    },
    {
     "name": "stdout",
     "output_type": "stream",
     "text": [
      "In addition , the patient received the above-described diagnostic procedures , which demonstrated injuries limited to a posterior scalp laceration , left fractured clavicle , left fractured radius , right thigh hematoma , and right leg laceration .  -  159\n"
     ]
    },
    {
     "name": "stderr",
     "output_type": "stream",
     "text": [
      "\r",
      " 46%|████████████████████████████████████▌                                           | 160/350 [15:21<22:39,  7.15s/it]"
     ]
    },
    {
     "name": "stdout",
     "output_type": "stream",
     "text": [
      "The patient has a history of exertional angina and chest pain associated with light-headedness for nine years which was noted to increase in frequency over the past year , then upon admission had light-headedness and chest pain with a dull pressure in her neck to her substernal area , with only minimal exertion such as &quot; walking across the room &quot; .  -  160\n"
     ]
    },
    {
     "name": "stderr",
     "output_type": "stream",
     "text": [
      "\r",
      " 46%|████████████████████████████████████▊                                           | 161/350 [15:35<28:55,  9.18s/it]"
     ]
    },
    {
     "name": "stdout",
     "output_type": "stream",
     "text": [
      "13. Heparin Flush PICC ( 100 units / ml ) 2 ml IV DAILY : PRN 10 ml NS followed by 2 ml of 100 Units / ml heparin ( 200 units heparin ) each lumen Daily and PRN .  -  161\n"
     ]
    },
    {
     "name": "stderr",
     "output_type": "stream",
     "text": [
      "\r",
      " 46%|█████████████████████████████████████                                           | 162/350 [15:44<28:34,  9.12s/it]"
     ]
    },
    {
     "name": "stdout",
     "output_type": "stream",
     "text": [
      "Electrocardiogram showed atrial fibrillation with rapid ventricular response and atrial flutter .  -  162\n"
     ]
    },
    {
     "name": "stderr",
     "output_type": "stream",
     "text": [
      "\r",
      " 47%|█████████████████████████████████████▎                                          | 163/350 [15:47<22:21,  7.18s/it]"
     ]
    },
    {
     "name": "stdout",
     "output_type": "stream",
     "text": [
      "2019-10-04 06:50 AM BLOOD PT - 13.2 * PTT - 32.1 INR(PT) - 1.2 *  -  163\n"
     ]
    },
    {
     "name": "stderr",
     "output_type": "stream",
     "text": [
      "\r",
      " 47%|█████████████████████████████████████▍                                          | 164/350 [15:50<18:41,  6.03s/it]"
     ]
    },
    {
     "name": "stdout",
     "output_type": "stream",
     "text": [
      "Pt feeling well , denies abd pain , N/V , LH , SOB , CP .  -  164\n"
     ]
    },
    {
     "name": "stderr",
     "output_type": "stream",
     "text": [
      "\r",
      " 47%|█████████████████████████████████████▋                                          | 165/350 [15:54<16:21,  5.31s/it]"
     ]
    },
    {
     "name": "stdout",
     "output_type": "stream",
     "text": [
      "2. His non-essential medications that may have been contributing to his change in mental status were discontinued ; those included Temocillin , Nortriptyline , Haldol , Lorazepam , Venlafaxine , Bupropion , and Gabapentin .  -  165\n"
     ]
    },
    {
     "name": "stderr",
     "output_type": "stream",
     "text": [
      "\r",
      " 47%|█████████████████████████████████████▉                                          | 166/350 [16:02<18:49,  6.14s/it]"
     ]
    },
    {
     "name": "stdout",
     "output_type": "stream",
     "text": [
      "2. Docusate Sodium 100 mg Capsule Sig : One ( 1 ) Capsule PO BID ( 2 times a day ) as needed for constipation .  -  166\n"
     ]
    },
    {
     "name": "stderr",
     "output_type": "stream",
     "text": [
      "\r",
      " 48%|██████████████████████████████████████▏                                         | 167/350 [16:08<18:26,  6.05s/it]"
     ]
    },
    {
     "name": "stdout",
     "output_type": "stream",
     "text": [
      "9. Magnesium Hydroxide 400 mg / 5 mL Suspension Sig : Thirty ( 30 ) ML PO Q6H ( every 6 hours ) as needed for consitpation .  -  167\n"
     ]
    },
    {
     "name": "stderr",
     "output_type": "stream",
     "text": [
      "\r",
      " 48%|██████████████████████████████████████▍                                         | 168/350 [16:14<18:30,  6.10s/it]"
     ]
    },
    {
     "name": "stdout",
     "output_type": "stream",
     "text": [
      "2019-06-19 07:20 AM BLOOD Neuts - 77.0 * Bands - 5.0 Lymphs - 11.0 * Monos - 3.0 Eos - 0 Baso - 0 Atyps - 1.0 * Metas - 2.0 * Myelos - 1.0 *  -  168\n"
     ]
    },
    {
     "name": "stderr",
     "output_type": "stream",
     "text": [
      "\r",
      " 48%|██████████████████████████████████████▋                                         | 169/350 [16:22<19:57,  6.61s/it]"
     ]
    },
    {
     "name": "stdout",
     "output_type": "stream",
     "text": [
      "She was treated in IUC for unstable angina with nitroglycerin .  -  169\n"
     ]
    },
    {
     "name": "stderr",
     "output_type": "stream",
     "text": [
      "\r",
      " 49%|██████████████████████████████████████▊                                         | 170/350 [16:24<16:04,  5.36s/it]"
     ]
    },
    {
     "name": "stdout",
     "output_type": "stream",
     "text": [
      "All of this occurred in the setting of aggressive BP management with metoprolol 25 BID , HCTZ / Triampterene ( as a replacment for lasix due to recurrent hypokalemia ), Benicar 20 mg QD , and Imdur 30 mg QD .  -  170\n"
     ]
    },
    {
     "name": "stderr",
     "output_type": "stream",
     "text": [
      "\r",
      " 49%|███████████████████████████████████████                                         | 171/350 [16:33<19:21,  6.49s/it]"
     ]
    },
    {
     "name": "stdout",
     "output_type": "stream",
     "text": [
      "Explained to Lewin that pt will likely need to be intubated , as she cannot lie flat , and most likely cannot undergo pericardial drainage , thoracentesis , or right heart cath with BiPAP ( which would have been the next measure after NRB , and prior to intubation ).  -  171\n"
     ]
    },
    {
     "name": "stderr",
     "output_type": "stream",
     "text": [
      "\r",
      " 49%|███████████████████████████████████████▎                                        | 172/350 [16:44<23:14,  7.83s/it]"
     ]
    },
    {
     "name": "stdout",
     "output_type": "stream",
     "text": [
      "Skin examination was notable for a leg ulcer and cellulitis to be delineated below .  -  172\n"
     ]
    },
    {
     "name": "stderr",
     "output_type": "stream",
     "text": [
      "\r",
      " 49%|███████████████████████████████████████▌                                        | 173/350 [16:48<19:11,  6.51s/it]"
     ]
    },
    {
     "name": "stdout",
     "output_type": "stream",
     "text": [
      "Impression was that this was an 83-year-old female with cardiac history , dyspnea on exertion , increased calcium and hyperparathyroidism who presents for parathyroidectomy .  -  173\n"
     ]
    },
    {
     "name": "stderr",
     "output_type": "stream",
     "text": [
      "\r",
      " 50%|███████████████████████████████████████▊                                        | 174/350 [16:53<18:15,  6.23s/it]"
     ]
    },
    {
     "name": "stdout",
     "output_type": "stream",
     "text": [
      "Chest x-ray shows no infiltrate or pneumothorax .  -  174\n"
     ]
    },
    {
     "name": "stderr",
     "output_type": "stream",
     "text": [
      "\r",
      " 50%|████████████████████████████████████████                                        | 175/350 [16:55<14:16,  4.89s/it]"
     ]
    },
    {
     "name": "stdout",
     "output_type": "stream",
     "text": [
      "Mother is a 37 year old Gravida 1 , Para 0 now 2 woman whose blood type is A negative , antibody negative , rubella immune , RPR nonreactive , hepatitis B surface antigen negative and Group B Streptococcus unknown .  -  175\n"
     ]
    },
    {
     "name": "stderr",
     "output_type": "stream",
     "text": [
      "\r",
      " 50%|████████████████████████████████████████▏                                       | 176/350 [17:05<18:03,  6.23s/it]"
     ]
    },
    {
     "name": "stdout",
     "output_type": "stream",
     "text": [
      "ALT 14 , AST 31 , alkaline phosphatase 283 , total bilirubin 1.0 , amylase 71 , glucose tolerance test 317 .  -  176\n"
     ]
    },
    {
     "name": "stderr",
     "output_type": "stream",
     "text": [
      "\r",
      " 51%|████████████████████████████████████████▍                                       | 177/350 [17:09<16:50,  5.84s/it]"
     ]
    },
    {
     "name": "stdout",
     "output_type": "stream",
     "text": [
      "Please take an over the counter stool softener such as Colace or a gentle laxative such as Milk of Magnesia if you experience constipation .  -  177\n"
     ]
    },
    {
     "name": "stderr",
     "output_type": "stream",
     "text": [
      "\r",
      " 51%|████████████████████████████████████████▋                                       | 178/350 [17:15<16:32,  5.77s/it]"
     ]
    },
    {
     "name": "stdout",
     "output_type": "stream",
     "text": [
      "- We continued ASA / imdur / CCB / hold diovan until pt was made CMO .  -  178\n"
     ]
    },
    {
     "name": "stderr",
     "output_type": "stream",
     "text": [
      "\r",
      " 51%|████████████████████████████████████████▉                                       | 179/350 [17:19<14:44,  5.17s/it]"
     ]
    },
    {
     "name": "stdout",
     "output_type": "stream",
     "text": [
      "Her electrocardiogram revealed normal sinus rhythm , left atrial enlargement , left axis deviation , poor R-wave progression in V1 through V4 , consistent with marked clockwise rotation , cannot rule out an old anteroseptal wall myocardial infarction .  -  179\n"
     ]
    },
    {
     "name": "stderr",
     "output_type": "stream",
     "text": [
      "\r",
      " 51%|█████████████████████████████████████████▏                                      | 180/350 [17:28<17:50,  6.30s/it]"
     ]
    },
    {
     "name": "stdout",
     "output_type": "stream",
     "text": [
      "She states this light-headedness is often associated with shortness of breath and diaphoresis occasionally with nausea .  -  180\n"
     ]
    },
    {
     "name": "stderr",
     "output_type": "stream",
     "text": [
      "\r",
      " 52%|█████████████████████████████████████████▎                                      | 181/350 [17:32<15:42,  5.57s/it]"
     ]
    },
    {
     "name": "stdout",
     "output_type": "stream",
     "text": [
      "EKG showed atrial fibrillation , left axis deviation , LVH , nonspecific ST-T changes either due to digitalis affect .  -  181\n"
     ]
    },
    {
     "name": "stderr",
     "output_type": "stream",
     "text": [
      "\r",
      " 52%|█████████████████████████████████████████▌                                      | 182/350 [17:36<14:42,  5.25s/it]"
     ]
    },
    {
     "name": "stdout",
     "output_type": "stream",
     "text": [
      "Head computerized tomography scan showed 1.5 to 2 centimeter bleed in the right thalamus extending to the internal capsule with mild distortion only , no shift .  -  182\n"
     ]
    },
    {
     "name": "stderr",
     "output_type": "stream",
     "text": [
      "\r",
      " 52%|█████████████████████████████████████████▊                                      | 183/350 [17:42<15:16,  5.49s/it]"
     ]
    },
    {
     "name": "stdout",
     "output_type": "stream",
     "text": [
      "This is an 82 - year-old male with a history of prior tobacco use , hypertension , chronic renal insufficiency , COPD , gastritis , and TIA who initially presented to Braintree with a non-ST elevation MI and Guaiac positive stools , transferred to St. Margaret's Center for Women & Infants for cardiac catheterization with PTCA to mid LAD lesion complicated by hypotension and bradycardia requiring Atropine , IV fluids and transient dopamine possibly secondary to vagal reaction , subsequently transferred to CCU for close monitoring , hemodynamically stable at the time of admission to the CCU .  -  183\n"
     ]
    },
    {
     "name": "stderr",
     "output_type": "stream",
     "text": [
      "\r",
      " 53%|██████████████████████████████████████████                                      | 184/350 [18:04<28:58, 10.47s/it]"
     ]
    },
    {
     "name": "stdout",
     "output_type": "stream",
     "text": [
      "AST 29 , ALK 151 , total bilirubin 0.2 , total protein 7.2 , albumin 4.3 , globulins 2.9 , calcium 8.9 .  -  184\n"
     ]
    },
    {
     "name": "stderr",
     "output_type": "stream",
     "text": [
      "\r",
      " 53%|██████████████████████████████████████████▎                                     | 185/350 [18:09<24:23,  8.87s/it]"
     ]
    },
    {
     "name": "stdout",
     "output_type": "stream",
     "text": [
      "Mr. Andersen is a 71-year-old male with worsening anginal symptoms who underwent catheterization that showed severe three-vessel disease .  -  185\n"
     ]
    },
    {
     "name": "stderr",
     "output_type": "stream",
     "text": [
      "\r",
      " 53%|██████████████████████████████████████████▌                                     | 186/350 [18:14<20:27,  7.49s/it]"
     ]
    },
    {
     "name": "stdout",
     "output_type": "stream",
     "text": [
      "He underwent a head CT scan to rule out intracranial pathology leading to diabetes insipidus .  -  186\n"
     ]
    },
    {
     "name": "stderr",
     "output_type": "stream",
     "text": [
      "\r",
      " 53%|██████████████████████████████████████████▋                                     | 187/350 [18:17<17:10,  6.32s/it]"
     ]
    },
    {
     "name": "stdout",
     "output_type": "stream",
     "text": [
      "RESP : Decreased air entry and crackles at both lung bases .  -  187\n"
     ]
    },
    {
     "name": "stderr",
     "output_type": "stream",
     "text": [
      "\r",
      " 54%|██████████████████████████████████████████▉                                     | 188/350 [18:20<14:09,  5.24s/it]"
     ]
    },
    {
     "name": "stdout",
     "output_type": "stream",
     "text": [
      "CHEST : Port a cath in R chest , no erythema or tenderness .  -  188\n"
     ]
    },
    {
     "name": "stderr",
     "output_type": "stream",
     "text": [
      "\r",
      " 54%|███████████████████████████████████████████▏                                    | 189/350 [18:23<12:19,  4.60s/it]"
     ]
    },
    {
     "name": "stdout",
     "output_type": "stream",
     "text": [
      "She was in her usual state of health until 3/20/97 when she experienced the fairly sudden onset of predominantly right-sided arm and leg weakness and ataxia .  -  189\n"
     ]
    },
    {
     "name": "stderr",
     "output_type": "stream",
     "text": [
      "\r",
      " 54%|███████████████████████████████████████████▍                                    | 190/350 [18:29<13:23,  5.02s/it]"
     ]
    },
    {
     "name": "stdout",
     "output_type": "stream",
     "text": [
      "Asthma / COPD on BiPAP , history of intubation .  -  190\n"
     ]
    },
    {
     "name": "stderr",
     "output_type": "stream",
     "text": [
      "\r",
      " 55%|███████████████████████████████████████████▋                                    | 191/350 [18:31<11:04,  4.18s/it]"
     ]
    },
    {
     "name": "stdout",
     "output_type": "stream",
     "text": [
      "IMPRESSION : No new cortical territorial infarction or hemorrhage is identified .  -  191\n"
     ]
    },
    {
     "name": "stderr",
     "output_type": "stream",
     "text": [
      "\r",
      " 55%|███████████████████████████████████████████▉                                    | 192/350 [18:34<09:53,  3.75s/it]"
     ]
    },
    {
     "name": "stdout",
     "output_type": "stream",
     "text": [
      "Troponins remained mildly elevated as high as 0.6 throughout her admission , and most recent result now 0.1 .  -  192\n"
     ]
    },
    {
     "name": "stderr",
     "output_type": "stream",
     "text": [
      "\r",
      " 55%|████████████████████████████████████████████                                    | 193/350 [18:38<10:09,  3.88s/it]"
     ]
    },
    {
     "name": "stdout",
     "output_type": "stream",
     "text": [
      "She underwent cadaveric pancreas transplantation without complication .  -  193\n"
     ]
    },
    {
     "name": "stderr",
     "output_type": "stream",
     "text": [
      "\r",
      " 55%|████████████████████████████████████████████▎                                   | 194/350 [18:40<08:26,  3.25s/it]"
     ]
    },
    {
     "name": "stdout",
     "output_type": "stream",
     "text": [
      "2015-11-13 06:15 AM BLOOD Glucose - 96 UreaN - 20 Creat - 1.6 * Na - 141 K - 4.3 Cl - 106 HCO3 - 24 AnGap - 15  -  194\n"
     ]
    },
    {
     "name": "stderr",
     "output_type": "stream",
     "text": [
      "\r",
      " 56%|████████████████████████████████████████████▌                                   | 195/350 [18:46<10:53,  4.22s/it]"
     ]
    },
    {
     "name": "stdout",
     "output_type": "stream",
     "text": [
      "Soft , obese , nontender , nondistended .  -  195\n"
     ]
    },
    {
     "name": "stderr",
     "output_type": "stream",
     "text": [
      "\r",
      " 56%|████████████████████████████████████████████▊                                   | 196/350 [18:48<08:54,  3.47s/it]"
     ]
    },
    {
     "name": "stdout",
     "output_type": "stream",
     "text": [
      "Following evaluation and treatment , the patient &apos;s disposition at the end of the visit was admitted as an inpatient to Ro Woodma Healthcare .  -  196\n"
     ]
    },
    {
     "name": "stderr",
     "output_type": "stream",
     "text": [
      "\r",
      " 56%|█████████████████████████████████████████████                                   | 197/350 [18:54<10:25,  4.09s/it]"
     ]
    },
    {
     "name": "stdout",
     "output_type": "stream",
     "text": [
      "Sigmoid diverticulosis with focal narrowing of the sigmoid colon just distal to the dilatation with wall thickening , due to diverticulitis .  -  197\n"
     ]
    },
    {
     "name": "stderr",
     "output_type": "stream",
     "text": [
      "\r",
      " 57%|█████████████████████████████████████████████▎                                  | 198/350 [18:59<10:52,  4.29s/it]"
     ]
    },
    {
     "name": "stdout",
     "output_type": "stream",
     "text": [
      "Of note , the patient has extreme pain with these dressing changes and requires parenteral morphine sulfate for pain control during dressing changes .  -  198\n"
     ]
    },
    {
     "name": "stderr",
     "output_type": "stream",
     "text": [
      "\r",
      " 57%|█████████████████████████████████████████████▍                                  | 199/350 [19:04<11:45,  4.67s/it]"
     ]
    },
    {
     "name": "stdout",
     "output_type": "stream",
     "text": [
      "#. Oliguric ARF : likely prerenal due to n/v poor po intake and poor forward flow , However , need to continue diuresis .  -  199\n"
     ]
    },
    {
     "name": "stderr",
     "output_type": "stream",
     "text": [
      "\r",
      " 57%|█████████████████████████████████████████████▋                                  | 200/350 [19:09<12:11,  4.87s/it]"
     ]
    },
    {
     "name": "stdout",
     "output_type": "stream",
     "text": [
      "CXR ( Youville Hospital 2020-03-09 ): Persistent unchanged L mid and lower lung field airspace disease with moderate L pleural effusion .  -  200\n"
     ]
    },
    {
     "name": "stderr",
     "output_type": "stream",
     "text": [
      "\r",
      " 57%|█████████████████████████████████████████████▉                                  | 201/350 [19:14<12:08,  4.89s/it]"
     ]
    },
    {
     "name": "stdout",
     "output_type": "stream",
     "text": [
      "Mr. Pohl is a 53 - year-old male with a history of ETOH , hypertension who presented int he emergency room with increased agitation , like secondary to ETOH intoxication and developed subsequent hypotension , systolic blood pressures in the 80 's, status post Ativan and Haldol , but was responsive  -  201\n"
     ]
    },
    {
     "name": "stderr",
     "output_type": "stream",
     "text": [
      "\r",
      " 58%|██████████████████████████████████████████████▏                                 | 202/350 [19:26<16:50,  6.83s/it]"
     ]
    },
    {
     "name": "stdout",
     "output_type": "stream",
     "text": [
      "There were no electrolytes or mineral abnormalities that could explain his delirium .  -  202\n"
     ]
    },
    {
     "name": "stderr",
     "output_type": "stream",
     "text": [
      "\r",
      " 58%|██████████████████████████████████████████████▍                                 | 203/350 [19:29<13:54,  5.68s/it]"
     ]
    },
    {
     "name": "stdout",
     "output_type": "stream",
     "text": [
      "- colon cancer with mets to liver s/p resection 09-07 .  -  203\n"
     ]
    },
    {
     "name": "stderr",
     "output_type": "stream",
     "text": [
      "\r",
      " 58%|██████████████████████████████████████████████▋                                 | 204/350 [19:31<11:30,  4.73s/it]"
     ]
    },
    {
     "name": "stdout",
     "output_type": "stream",
     "text": [
      "Chronic Kidney disease - on hemodialysis type 2 diabetes hypercholestrolemia anemia of chornic disease h/o PE , s/p PEA arrest 11-14  -  204\n"
     ]
    },
    {
     "name": "stderr",
     "output_type": "stream",
     "text": [
      "\r",
      " 59%|██████████████████████████████████████████████▊                                 | 205/350 [19:36<11:25,  4.72s/it]"
     ]
    },
    {
     "name": "stdout",
     "output_type": "stream",
     "text": [
      "The skin examination revealed the right breast had a dark two centimeter ecchymosis and the left medial thigh had two pale blue two centimeter macules .  -  205\n"
     ]
    },
    {
     "name": "stderr",
     "output_type": "stream",
     "text": [
      "\r",
      " 59%|███████████████████████████████████████████████                                 | 206/350 [19:42<12:06,  5.05s/it]"
     ]
    },
    {
     "name": "stdout",
     "output_type": "stream",
     "text": [
      "HEMOGLOBLIN FRACTIONS ( COOXIMETRY ) Hgb calcHCT O2 Sat COHgb MetHgb  -  206\n"
     ]
    },
    {
     "name": "stderr",
     "output_type": "stream",
     "text": [
      "\r",
      " 59%|███████████████████████████████████████████████▎                                | 207/350 [19:44<10:10,  4.27s/it]"
     ]
    },
    {
     "name": "stdout",
     "output_type": "stream",
     "text": [
      "Rectal exam showed no masses and is guaiac negative .  -  207\n"
     ]
    },
    {
     "name": "stderr",
     "output_type": "stream",
     "text": [
      "\r",
      " 59%|███████████████████████████████████████████████▌                                | 208/350 [19:46<08:39,  3.66s/it]"
     ]
    },
    {
     "name": "stdout",
     "output_type": "stream",
     "text": [
      "Since the hematocrit of the patient was stable and outside records from 2015-03-28 mentioned a mass in the right pelvis , the patient was discharged .  -  208\n"
     ]
    },
    {
     "name": "stderr",
     "output_type": "stream",
     "text": [
      "\r",
      " 60%|███████████████████████████████████████████████▊                                | 209/350 [19:52<10:08,  4.32s/it]"
     ]
    },
    {
     "name": "stdout",
     "output_type": "stream",
     "text": [
      "His most recent echocardiogram in April of 1996 showed an ejection fraction of 20% with a thin fibrotic septum with akinesis and moderately severe hypokinesis in all other regions except for the lateral wall .  -  209\n"
     ]
    },
    {
     "name": "stderr",
     "output_type": "stream",
     "text": [
      "\r",
      " 60%|████████████████████████████████████████████████                                | 210/350 [20:00<12:35,  5.40s/it]"
     ]
    },
    {
     "name": "stdout",
     "output_type": "stream",
     "text": [
      "No murmurs , rubs or gallops .  -  210\n"
     ]
    },
    {
     "name": "stderr",
     "output_type": "stream",
     "text": [
      "\r",
      " 60%|████████████████████████████████████████████████▏                               | 211/350 [20:02<09:54,  4.28s/it]"
     ]
    },
    {
     "name": "stdout",
     "output_type": "stream",
     "text": [
      "73 yo M transferred from Youville Hospital with h/o colon cancer with known liver mets now with epidural abscess and corynebacterium bacteremia :  -  211\n"
     ]
    },
    {
     "name": "stderr",
     "output_type": "stream",
     "text": [
      "\r",
      " 61%|████████████████████████████████████████████████▍                               | 212/350 [20:07<10:30,  4.57s/it]"
     ]
    },
    {
     "name": "stdout",
     "output_type": "stream",
     "text": [
      "Continue to deteriorate spiking fevers with ventilatory support on pressors to hold the bp. with no improvement in mental staus was made CMO 5/20/5 .  -  212\n"
     ]
    },
    {
     "name": "stderr",
     "output_type": "stream",
     "text": [
      "\r",
      " 61%|████████████████████████████████████████████████▋                               | 213/350 [20:13<11:07,  4.87s/it]"
     ]
    },
    {
     "name": "stdout",
     "output_type": "stream",
     "text": [
      "This is a 49-year-old gravida III , para II , status post uterine artery embolization on 2009-01-07 due to uterine fibroids , with continued abdominal pain and CT scan revealing fluid and gas in the endometrial cavity .  -  213\n"
     ]
    },
    {
     "name": "stderr",
     "output_type": "stream",
     "text": [
      "\r",
      " 61%|████████████████████████████████████████████████▉                               | 214/350 [20:21<13:32,  5.98s/it]"
     ]
    },
    {
     "name": "stdout",
     "output_type": "stream",
     "text": [
      "The patient had a steady decline in her hematocrit during this hospitalization .  -  214\n"
     ]
    },
    {
     "name": "stderr",
     "output_type": "stream",
     "text": [
      "\r",
      " 61%|█████████████████████████████████████████████████▏                              | 215/350 [20:24<11:23,  5.06s/it]"
     ]
    },
    {
     "name": "stdout",
     "output_type": "stream",
     "text": [
      "He also noted a 23 pound weight loss in the past 11 months despite having an increased appetite .  -  215\n"
     ]
    },
    {
     "name": "stderr",
     "output_type": "stream",
     "text": [
      "\r",
      " 62%|█████████████████████████████████████████████████▎                              | 216/350 [20:28<10:45,  4.81s/it]"
     ]
    },
    {
     "name": "stdout",
     "output_type": "stream",
     "text": [
      "He did have burst of atrial fibrillation and was started on a Amiodarone gtt .  -  216\n"
     ]
    },
    {
     "name": "stderr",
     "output_type": "stream",
     "text": [
      "\r",
      " 62%|█████████████████████████████████████████████████▌                              | 217/350 [20:32<09:41,  4.37s/it]"
     ]
    },
    {
     "name": "stdout",
     "output_type": "stream",
     "text": [
      "TSH was within normal limits as was B12 and folate .  -  217\n"
     ]
    },
    {
     "name": "stderr",
     "output_type": "stream",
     "text": [
      "\r",
      " 62%|█████████████████████████████████████████████████▊                              | 218/350 [20:34<08:21,  3.80s/it]"
     ]
    },
    {
     "name": "stdout",
     "output_type": "stream",
     "text": [
      "2. Completion sigmoid colectomy , repair of colovesicular fistula , small bowel repair  -  218\n"
     ]
    },
    {
     "name": "stderr",
     "output_type": "stream",
     "text": [
      "\r",
      " 63%|██████████████████████████████████████████████████                              | 219/350 [20:37<07:42,  3.53s/it]"
     ]
    },
    {
     "name": "stdout",
     "output_type": "stream",
     "text": [
      "The pt is a 55yo F s / p Roux en Y GBP in 12/20 presenting to the ED this AM c / o mod severe midepigastric pain .  -  219\n"
     ]
    },
    {
     "name": "stderr",
     "output_type": "stream",
     "text": [
      "\r",
      " 63%|██████████████████████████████████████████████████▎                             | 220/350 [20:44<09:37,  4.44s/it]"
     ]
    },
    {
     "name": "stdout",
     "output_type": "stream",
     "text": [
      "24. Warfarin 1 mg Tablet Sig : One ( 1 ) Tablet PO at bedtime : Please monitor INR with goal 02-24 .  -  220\n"
     ]
    },
    {
     "name": "stderr",
     "output_type": "stream",
     "text": [
      "\r",
      " 63%|██████████████████████████████████████████████████▌                             | 221/350 [20:49<09:58,  4.64s/it]"
     ]
    },
    {
     "name": "stdout",
     "output_type": "stream",
     "text": [
      "2015-10-28 03:30 PM BLOOD Glucose - 98 UreaN - 26 * Creat - 1.6 * Na - 140 K - 4.6 Cl - 104 HCO3 - 27 AnGap - 14  -  221\n"
     ]
    },
    {
     "name": "stderr",
     "output_type": "stream",
     "text": [
      "\r",
      " 63%|██████████████████████████████████████████████████▋                             | 222/350 [20:56<11:15,  5.28s/it]"
     ]
    },
    {
     "name": "stdout",
     "output_type": "stream",
     "text": [
      "The cause of death was a combination of GI bleeding felt to be ultimately related to his known metastatic pancreatic cancer .  -  222\n"
     ]
    },
    {
     "name": "stderr",
     "output_type": "stream",
     "text": [
      "\r",
      " 64%|██████████████████████████████████████████████████▉                             | 223/350 [21:01<11:00,  5.20s/it]"
     ]
    },
    {
     "name": "stdout",
     "output_type": "stream",
     "text": [
      "The hypotension was likely due to volume depletion caused by her diarrhea / loose stools in addition to decreased PO intake secondary to her GERD and thrush .  -  223\n"
     ]
    },
    {
     "name": "stderr",
     "output_type": "stream",
     "text": [
      "\r",
      " 64%|███████████████████████████████████████████████████▏                            | 224/350 [21:07<11:40,  5.56s/it]"
     ]
    },
    {
     "name": "stdout",
     "output_type": "stream",
     "text": [
      "1. Coronary artery disease status post non-ST-elevation myocardial infarction in 2009-05-05 , status post cardiac catheterization with left anterior descending artery stent placement in 05/2001 .  -  224\n"
     ]
    },
    {
     "name": "stderr",
     "output_type": "stream",
     "text": [
      "\r",
      " 64%|███████████████████████████████████████████████████▍                            | 225/350 [21:13<11:45,  5.64s/it]"
     ]
    },
    {
     "name": "stdout",
     "output_type": "stream",
     "text": [
      "Given his history and physical exam , Mr. Anders presented with an injury most consistent with meniscal tear .  -  225\n"
     ]
    },
    {
     "name": "stderr",
     "output_type": "stream",
     "text": [
      "\r",
      " 65%|███████████████████████████████████████████████████▋                            | 226/350 [21:17<10:47,  5.22s/it]"
     ]
    },
    {
     "name": "stdout",
     "output_type": "stream",
     "text": [
      "The patient &apos;s abdominal CT scan showed no liver disease and no obstruction .  -  226\n"
     ]
    },
    {
     "name": "stderr",
     "output_type": "stream",
     "text": [
      "\r",
      " 65%|███████████████████████████████████████████████████▉                            | 227/350 [21:20<09:26,  4.60s/it]"
     ]
    },
    {
     "name": "stdout",
     "output_type": "stream",
     "text": [
      "GLUCOSE - 210 * UREA N - 29 * CREAT - 3.2 * SODIUM - 139 POTASSIUM - 3.9 CHLORIDE - 112 * TOTAL CO2 - 17 * ANION GAP - 14  -  227\n"
     ]
    },
    {
     "name": "stderr",
     "output_type": "stream",
     "text": [
      "\r",
      " 65%|████████████████████████████████████████████████████                            | 228/350 [21:27<10:55,  5.38s/it]"
     ]
    },
    {
     "name": "stdout",
     "output_type": "stream",
     "text": [
      "A CT scan of your abdomen showed a right pelvic mass , most likely a hematoma , which had been described previously in 2015-03-28 .  -  228\n"
     ]
    },
    {
     "name": "stderr",
     "output_type": "stream",
     "text": [
      "\r",
      " 65%|████████████████████████████████████████████████████▎                           | 229/350 [21:33<11:02,  5.47s/it]"
     ]
    },
    {
     "name": "stdout",
     "output_type": "stream",
     "text": [
      "Left humerus film series demonstrated no evidence of fracture or displacement .  -  229\n"
     ]
    },
    {
     "name": "stderr",
     "output_type": "stream",
     "text": [
      "\r",
      " 66%|████████████████████████████████████████████████████▌                           | 230/350 [21:36<09:17,  4.65s/it]"
     ]
    },
    {
     "name": "stdout",
     "output_type": "stream",
     "text": [
      "NON-CONTRAST HEAD CT : There is a small amount of hemorrhage within the occipital horns of both lateral ventricles , right greater than left .  -  230\n"
     ]
    },
    {
     "name": "stderr",
     "output_type": "stream",
     "text": [
      "\r",
      " 66%|████████████████████████████████████████████████████▊                           | 231/350 [21:41<09:43,  4.90s/it]"
     ]
    },
    {
     "name": "stdout",
     "output_type": "stream",
     "text": [
      "* Leukocytosis- She developed mild elevated WBC .  -  231\n"
     ]
    },
    {
     "name": "stderr",
     "output_type": "stream",
     "text": [
      "\r",
      " 66%|█████████████████████████████████████████████████████                           | 232/350 [21:43<07:49,  3.98s/it]"
     ]
    },
    {
     "name": "stdout",
     "output_type": "stream",
     "text": [
      "3. Bilateral renal artery stenosis status post stent left renal artery .  -  232\n"
     ]
    },
    {
     "name": "stderr",
     "output_type": "stream",
     "text": [
      "\r",
      " 67%|█████████████████████████████████████████████████████▎                          | 233/350 [21:46<07:03,  3.62s/it]"
     ]
    },
    {
     "name": "stdout",
     "output_type": "stream",
     "text": [
      "Sigmoid diverticulosis with focal narrowing of the sigmoid colon just distal to the dilatation with wall thickening , due to diverticulitis .  -  233\n"
     ]
    },
    {
     "name": "stderr",
     "output_type": "stream",
     "text": [
      "\r",
      " 67%|█████████████████████████████████████████████████████▍                          | 234/350 [21:51<07:47,  4.03s/it]"
     ]
    },
    {
     "name": "stdout",
     "output_type": "stream",
     "text": [
      "no N / V/HA / D no sweats , no chills , of abdominal pain , no chest pain , no pleuricy , no LEE , no paresthesias , no numbness , no shoulder pain , no jaw pain .  -  234\n"
     ]
    },
    {
     "name": "stderr",
     "output_type": "stream",
     "text": [
      "\r",
      " 67%|█████████████████████████████████████████████████████▋                          | 235/350 [22:00<10:38,  5.55s/it]"
     ]
    },
    {
     "name": "stdout",
     "output_type": "stream",
     "text": [
      "Sodium 139 ; potassium 4.1 ; BUN 15 ; creatinine 1.1 ; magnesium 1.6 ; SGPT 19 ; SGOT 20 ; alkaline phosphatase 66 ; total bilirubin 0.6 ; direct bilirubin 0.2 ; total cholesterol 234 ; triglycerides 274 ; HDL 44 ; LDL 135 ; hemoglobin A1c 6.7 ; white cell count 6.1 ; hematocrit 36.4 ; platelet count 201 .  -  235\n"
     ]
    },
    {
     "name": "stderr",
     "output_type": "stream",
     "text": [
      "\r",
      " 67%|█████████████████████████████████████████████████████▉                          | 236/350 [22:14<15:21,  8.09s/it]"
     ]
    },
    {
     "name": "stdout",
     "output_type": "stream",
     "text": [
      "EXT : L leg/calf swollen , + Johnson sign , not tense , no cord palpable , L knee w/ medial meniscus area inflammed , not warm , no crepitus , feet-2+DP pulses b/l  -  236\n"
     ]
    },
    {
     "name": "stderr",
     "output_type": "stream",
     "text": [
      "\r",
      " 68%|██████████████████████████████████████████████████████▏                         | 237/350 [22:22<14:55,  7.93s/it]"
     ]
    },
    {
     "name": "stdout",
     "output_type": "stream",
     "text": [
      "This is a 55-year-old female with multiple prior admissions for pneumonia , COPD , asthma exacerbation , over 3 weeks of upper respiratory like infection unremitting with increased nebulizer treatments at home .  -  237\n"
     ]
    },
    {
     "name": "stderr",
     "output_type": "stream",
     "text": [
      "\r",
      " 68%|██████████████████████████████████████████████████████▍                         | 238/350 [22:29<14:30,  7.77s/it]"
     ]
    },
    {
     "name": "stdout",
     "output_type": "stream",
     "text": [
      "Liver function test showed AST 21 , alkaline phosphatase 70 , total bilirubin 0.3 , total protein 6.5 , albumin 3.9 , globulin 2.6 .  -  238\n"
     ]
    },
    {
     "name": "stderr",
     "output_type": "stream",
     "text": [
      "\r",
      " 68%|██████████████████████████████████████████████████████▋                         | 239/350 [22:35<13:09,  7.11s/it]"
     ]
    },
    {
     "name": "stdout",
     "output_type": "stream",
     "text": [
      "Echocardiogram was obtained which showed moderately depressed left ventricular systolic function as well as hypokinesis of the lower half of septum and apex .  -  239\n"
     ]
    },
    {
     "name": "stderr",
     "output_type": "stream",
     "text": [
      "\r",
      " 69%|██████████████████████████████████████████████████████▊                         | 240/350 [22:40<12:03,  6.57s/it]"
     ]
    },
    {
     "name": "stdout",
     "output_type": "stream",
     "text": [
      "In TSICU , developed MRSA pneumonia with question of aspiration , treated Zosyn --> vanc / levo --> then 2 week course of Linazolid with resolution of fevers and decreased pulmonary secretions .  -  240\n"
     ]
    },
    {
     "name": "stderr",
     "output_type": "stream",
     "text": [
      "\r",
      " 69%|███████████████████████████████████████████████████████                         | 241/350 [22:47<12:25,  6.84s/it]"
     ]
    },
    {
     "name": "stdout",
     "output_type": "stream",
     "text": [
      "CXR with bibasilar consolidations .  -  241\n"
     ]
    },
    {
     "name": "stderr",
     "output_type": "stream",
     "text": [
      "\r",
      " 69%|███████████████████████████████████████████████████████▎                        | 242/350 [22:48<09:12,  5.11s/it]"
     ]
    },
    {
     "name": "stdout",
     "output_type": "stream",
     "text": [
      "On the 16th , a urine culture was obtained and did grow out greater than 100,000 colonies of E. coli which was intermittently resistant to Ciprofloxacin .  -  242\n"
     ]
    },
    {
     "name": "stderr",
     "output_type": "stream",
     "text": [
      "\r",
      " 69%|███████████████████████████████████████████████████████▌                        | 243/350 [22:54<09:37,  5.40s/it]"
     ]
    },
    {
     "name": "stdout",
     "output_type": "stream",
     "text": [
      "2019-06-19 07:20 AM BLOOD WBC - 11.1 * RBC - 3.47 * Hgb - 10.9 * Hct - 34.1 * MCV - 98 MCH - 31.3 MCHC - 31.9 RDW - 16.7 * Plt Ct - 604 *  -  243\n"
     ]
    },
    {
     "name": "stderr",
     "output_type": "stream",
     "text": [
      "\r",
      " 70%|███████████████████████████████████████████████████████▊                        | 244/350 [23:03<11:07,  6.30s/it]"
     ]
    },
    {
     "name": "stdout",
     "output_type": "stream",
     "text": [
      "Sigmoid diverticulosis with focal narrowing of the sigmoid colon just distal to the dilatation with wall thickening , due to diverticulitis .  -  244\n"
     ]
    },
    {
     "name": "stderr",
     "output_type": "stream",
     "text": [
      "\r",
      " 70%|████████████████████████████████████████████████████████                        | 245/350 [23:08<10:15,  5.87s/it]"
     ]
    },
    {
     "name": "stdout",
     "output_type": "stream",
     "text": [
      "GLUCOSE - 208 * UREA N - 21 * CREAT - 1.3 * SODIUM - 138 POTASSIUM - 4.2 CHLORIDE - 104 TOTAL CO2 - 23 ANION GAP - 15  -  245\n"
     ]
    },
    {
     "name": "stderr",
     "output_type": "stream",
     "text": [
      "\r",
      " 70%|████████████████████████████████████████████████████████▏                       | 246/350 [23:14<10:34,  6.10s/it]"
     ]
    },
    {
     "name": "stdout",
     "output_type": "stream",
     "text": [
      "HTN ventral hernia right nephrectomy s/p right facial plating  -  246\n"
     ]
    },
    {
     "name": "stderr",
     "output_type": "stream",
     "text": [
      "\r",
      " 71%|████████████████████████████████████████████████████████▍                       | 247/350 [23:16<08:22,  4.88s/it]"
     ]
    },
    {
     "name": "stdout",
     "output_type": "stream",
     "text": [
      "The patient had an MRI at an outside hospital which showed enlarged lateral ventricles and the possible diagnosis of normal pressure hydrocephalus was entertained and the patient was admitted for diagnostic lumbar puncture .  -  247\n"
     ]
    },
    {
     "name": "stderr",
     "output_type": "stream",
     "text": [
      "\r",
      " 71%|████████████████████████████████████████████████████████▋                       | 248/350 [23:24<09:42,  5.71s/it]"
     ]
    },
    {
     "name": "stdout",
     "output_type": "stream",
     "text": [
      "2019-06-18 07:55 AM BLOOD PT - 11.5 INR(PT) - 1.0  -  248\n"
     ]
    },
    {
     "name": "stderr",
     "output_type": "stream",
     "text": [
      "\r",
      " 71%|████████████████████████████████████████████████████████▉                       | 249/350 [23:26<07:52,  4.67s/it]"
     ]
    },
    {
     "name": "stdout",
     "output_type": "stream",
     "text": [
      "Further identification revealed staphylococcus coag-negative , which was sensitive to gentamicin and clindamycin .  -  249\n"
     ]
    },
    {
     "name": "stderr",
     "output_type": "stream",
     "text": [
      "\r",
      " 71%|█████████████████████████████████████████████████████████▏                      | 250/350 [23:29<07:02,  4.22s/it]"
     ]
    },
    {
     "name": "stdout",
     "output_type": "stream",
     "text": [
      "The patient was switched to ampicillin , gentamicin , and clindamycin , according to the culture , Enterococci and Staphylococcus in the wound .  -  250\n"
     ]
    },
    {
     "name": "stderr",
     "output_type": "stream",
     "text": [
      "\r",
      " 72%|█████████████████████████████████████████████████████████▎                      | 251/350 [23:35<07:30,  4.55s/it]"
     ]
    },
    {
     "name": "stdout",
     "output_type": "stream",
     "text": [
      "The patient denies any chest pain , shortness of breath , dysuria , diarrhea , bright red blood per rectum .  -  251\n"
     ]
    },
    {
     "name": "stderr",
     "output_type": "stream",
     "text": [
      "\r",
      " 72%|█████████████████████████████████████████████████████████▌                      | 252/350 [23:40<07:32,  4.62s/it]"
     ]
    },
    {
     "name": "stdout",
     "output_type": "stream",
     "text": [
      "Mr. Eugene is a 67 year old male with a remote history of chronic pancreatitis due to alcohol abuse 30 years ago , who is transferred now from Rehab Hospital of the Cape & Islands Hospital for an ERCP and work-up for a cystic lesion at the head of his pancreas on CT scan shown at the outside hospital .  -  252\n"
     ]
    },
    {
     "name": "stderr",
     "output_type": "stream",
     "text": [
      "\r",
      " 72%|█████████████████████████████████████████████████████████▊                      | 253/350 [23:53<11:45,  7.28s/it]"
     ]
    },
    {
     "name": "stdout",
     "output_type": "stream",
     "text": [
      "At baseline the patient denies any previous chest pain , pressure , dyspnea on exertion , orthopnea , PND or palpitations .  -  253\n"
     ]
    },
    {
     "name": "stderr",
     "output_type": "stream",
     "text": [
      "\r",
      " 73%|██████████████████████████████████████████████████████████                      | 254/350 [23:58<10:35,  6.62s/it]"
     ]
    },
    {
     "name": "stdout",
     "output_type": "stream",
     "text": [
      "Elavil by mouth 15 mg every night , Dulcolax rectally 10 mg once a day , Tegretol by mouth 100 mg twice a day , Benadryl by mouth 25 mg three times a day , Colace by mouth 200 mg twice a day , Vasotec by mouth 10 mg twice a day , EOC / LOC p.r./p.o. one each once a day as needed for constipation , Lasix by mouth 80 mg every morning , insulin regular according to insulin scale , Synthroid by mouth 25 mcg once a day , Maalox Plus Extra Strength by mouth 15 ml every six hours as needed for indigestion , Milk of Magnesia by mouth 30 ml once a day as needed for constipation , Asacol by mouth 400 mg every morning , Asacol 800 mg every night , Lopressor by mouth 25 mg twice a day , Miracle cream topically on skin once a day , nystatin swish and swallow by mouth 5 ml four times a day , Percocet by mouth one tab every four hours as needed for pain , and vancomycin by infusion 1 gm every 18 hours ; instructions in 250 ml slow IV infusion over one hour .  -  254\n"
     ]
    },
    {
     "name": "stderr",
     "output_type": "stream",
     "text": [
      "\r",
      " 73%|██████████████████████████████████████████████████████████▎                     | 255/350 [24:43<28:52, 18.24s/it]"
     ]
    },
    {
     "name": "stdout",
     "output_type": "stream",
     "text": [
      "History of diverticulitis , status post cholecystectomy , status post appendectomy , and hypertension .  -  255\n"
     ]
    },
    {
     "name": "stderr",
     "output_type": "stream",
     "text": [
      "\r",
      " 73%|██████████████████████████████████████████████████████████▌                     | 256/350 [24:47<21:35, 13.78s/it]"
     ]
    },
    {
     "name": "stdout",
     "output_type": "stream",
     "text": [
      "White blood cell 12.9 , hemoglobin 11.5 , hematocrit 32.8 , platelet count 197,000 , sodium 141 , potassium 3.6 , chloride 110 , bicarbonate 21 , BUN 20 , creatinine 0.7 , glucose 189 , PT 13.3 , INR 1.2 , PTT 30.0 , amylase 57 , arterial blood gas 7.32 , 35 , 159 , 19 , -7 .  -  256\n"
     ]
    },
    {
     "name": "stderr",
     "output_type": "stream",
     "text": [
      "\r",
      " 73%|██████████████████████████████████████████████████████████▋                     | 257/350 [25:00<21:15, 13.72s/it]"
     ]
    },
    {
     "name": "stdout",
     "output_type": "stream",
     "text": [
      "This is a 44 year-old right handed woman with Down &apos;s syndrome who presents with increased falling and gait unsteadiness and an increased inability to perform her activities of daily living over the past three years .  -  257\n"
     ]
    },
    {
     "name": "stderr",
     "output_type": "stream",
     "text": [
      "\r",
      " 74%|██████████████████████████████████████████████████████████▉                     | 258/350 [25:09<18:30, 12.07s/it]"
     ]
    },
    {
     "name": "stdout",
     "output_type": "stream",
     "text": [
      "There was minimal mitral valve calcification , normal left ventricular contraction , and 2+ mitral regurgitation into a large left atrium .  -  258\n"
     ]
    },
    {
     "name": "stderr",
     "output_type": "stream",
     "text": [
      "\r",
      " 74%|███████████████████████████████████████████████████████████▏                    | 259/350 [25:14<15:04,  9.94s/it]"
     ]
    },
    {
     "name": "stdout",
     "output_type": "stream",
     "text": [
      "There is moderate symmetric left ventricular hypertrophy with mild cavity dilation and severe global hypokinesis .  -  259\n"
     ]
    },
    {
     "name": "stderr",
     "output_type": "stream",
     "text": [
      "\r",
      " 74%|███████████████████████████████████████████████████████████▍                    | 260/350 [25:17<12:02,  8.03s/it]"
     ]
    },
    {
     "name": "stdout",
     "output_type": "stream",
     "text": [
      "13. Status post tracheostomy 2017-07-21 02-22 failure to wean  -  260\n"
     ]
    },
    {
     "name": "stderr",
     "output_type": "stream",
     "text": [
      "\r",
      " 75%|███████████████████████████████████████████████████████████▋                    | 261/350 [25:19<09:14,  6.23s/it]"
     ]
    },
    {
     "name": "stdout",
     "output_type": "stream",
     "text": [
      "CT chest at Erich Lindemann Mental Health Center 05-25 : large pericardial effusion , bilat pleural eff with underlying consolidation which could represent PNA vs. atelectasis  -  261\n"
     ]
    },
    {
     "name": "stderr",
     "output_type": "stream",
     "text": [
      "\r",
      " 75%|███████████████████████████████████████████████████████████▉                    | 262/350 [25:25<08:58,  6.12s/it]"
     ]
    },
    {
     "name": "stdout",
     "output_type": "stream",
     "text": [
      "On the day of admission she returned to the outside hospital Emergency Room where an abdominal CT was performed , which showed \" thickened stomach and free air .\"  -  262\n"
     ]
    },
    {
     "name": "stderr",
     "output_type": "stream",
     "text": [
      "\r",
      " 75%|████████████████████████████████████████████████████████████                    | 263/350 [25:32<09:02,  6.24s/it]"
     ]
    },
    {
     "name": "stdout",
     "output_type": "stream",
     "text": [
      "DERMOPLAST TOPICAL TP Q12H PRN Pain DOCUSATE SODIUM 100 MG PO BID PRN Constipation IBUPROFEN 400-600 MG PO Q6H PRN Pain  -  263\n"
     ]
    },
    {
     "name": "stderr",
     "output_type": "stream",
     "text": [
      "\r",
      " 75%|████████████████████████████████████████████████████████████▎                   | 264/350 [25:36<08:21,  5.84s/it]"
     ]
    },
    {
     "name": "stdout",
     "output_type": "stream",
     "text": [
      "She underwent a TTE at Erich Lindemann Mental Health Center today ( 05-26 ) showing mod-lg circumferential pericardial effusion without evidence of RV diastolic collapse and no MV inflow evidence of tamponade , pacer wire located in RV apex .  -  264\n"
     ]
    },
    {
     "name": "stderr",
     "output_type": "stream",
     "text": [
      "\r",
      " 76%|████████████████████████████████████████████████████████████▌                   | 265/350 [25:45<09:33,  6.75s/it]"
     ]
    },
    {
     "name": "stdout",
     "output_type": "stream",
     "text": [
      "While on the floor patient 's urinalysis suggestive of UTI and was put on 6 day course of levofloxacin .  -  265\n"
     ]
    },
    {
     "name": "stderr",
     "output_type": "stream",
     "text": [
      "\r",
      " 76%|████████████████████████████████████████████████████████████▊                   | 266/350 [25:50<08:30,  6.08s/it]"
     ]
    },
    {
     "name": "stdout",
     "output_type": "stream",
     "text": [
      "possible drainage of the abscess vs. hysterectomy .  -  266\n"
     ]
    },
    {
     "name": "stderr",
     "output_type": "stream",
     "text": [
      "\r",
      " 76%|█████████████████████████████████████████████████████████████                   | 267/350 [25:52<06:37,  4.79s/it]"
     ]
    },
    {
     "name": "stdout",
     "output_type": "stream",
     "text": [
      "Her Hct dropped from Hct 38.9 before fluids to 35.5 s/p 1.5L NS and was thought to be dilutional .  -  267\n"
     ]
    },
    {
     "name": "stderr",
     "output_type": "stream",
     "text": [
      "\r",
      " 77%|█████████████████████████████████████████████████████████████▎                  | 268/350 [25:56<06:25,  4.70s/it]"
     ]
    },
    {
     "name": "stdout",
     "output_type": "stream",
     "text": [
      "NSR R 60 Normal axis , intervals , incomplete RBBB , flat T aVL , V2 , TWI V1  -  268\n"
     ]
    },
    {
     "name": "stderr",
     "output_type": "stream",
     "text": [
      "\r",
      " 77%|█████████████████████████████████████████████████████████████▍                  | 269/350 [26:00<06:11,  4.58s/it]"
     ]
    },
    {
     "name": "stdout",
     "output_type": "stream",
     "text": [
      "On HD#6 , colonscopy was performed for decompression , and revealed pseudomembrane and friable colonic tissue .  -  269\n"
     ]
    },
    {
     "name": "stderr",
     "output_type": "stream",
     "text": [
      "\r",
      " 77%|█████████████████████████████████████████████████████████████▋                  | 270/350 [26:04<05:49,  4.36s/it]"
     ]
    },
    {
     "name": "stdout",
     "output_type": "stream",
     "text": [
      "Twin #1 cried spontaneously at birth , was bulb suctioned and received Blow-by oxygen .  -  270\n"
     ]
    },
    {
     "name": "stderr",
     "output_type": "stream",
     "text": [
      "\r",
      " 77%|█████████████████████████████████████████████████████████████▉                  | 271/350 [26:08<05:22,  4.08s/it]"
     ]
    },
    {
     "name": "stdout",
     "output_type": "stream",
     "text": [
      "The patient also complained of fatigue and &quot; feeling down &quot; .  -  271\n"
     ]
    },
    {
     "name": "stderr",
     "output_type": "stream",
     "text": [
      "\r",
      " 78%|██████████████████████████████████████████████████████████████▏                 | 272/350 [26:10<04:46,  3.67s/it]"
     ]
    },
    {
     "name": "stdout",
     "output_type": "stream",
     "text": [
      "A right upper quadrant ultrasound documented gallstones , without evidence of common bile duct dilatation or active cholecystitis .  -  272\n"
     ]
    },
    {
     "name": "stderr",
     "output_type": "stream",
     "text": [
      "\r",
      " 78%|██████████████████████████████████████████████████████████████▍                 | 273/350 [26:15<04:55,  3.84s/it]"
     ]
    },
    {
     "name": "stdout",
     "output_type": "stream",
     "text": [
      "50 yo M from Taheimpromong admitted w / CP for r / o MI .  -  273\n"
     ]
    },
    {
     "name": "stderr",
     "output_type": "stream",
     "text": [
      "\r",
      " 78%|██████████████████████████████████████████████████████████████▋                 | 274/350 [26:18<04:40,  3.69s/it]"
     ]
    },
    {
     "name": "stdout",
     "output_type": "stream",
     "text": [
      "This is a 61 year old male with a history of diabetes , coronary artery disease , hepatitis C , and asthma who was diagnosed recently with pancreatic cancer after he presented to Seph&apos;sju Memorial after a motor vehicle accident .  -  274\n"
     ]
    },
    {
     "name": "stderr",
     "output_type": "stream",
     "text": [
      "\r",
      " 79%|██████████████████████████████████████████████████████████████▊                 | 275/350 [26:27<06:39,  5.32s/it]"
     ]
    },
    {
     "name": "stdout",
     "output_type": "stream",
     "text": [
      "Includes recent infarct to pons , mid brain , left thalamus , bilateral temporal lobes and left visual cortex , on Coumadin .  -  275\n"
     ]
    },
    {
     "name": "stderr",
     "output_type": "stream",
     "text": [
      "\r",
      " 79%|███████████████████████████████████████████████████████████████                 | 276/350 [26:32<06:27,  5.24s/it]"
     ]
    },
    {
     "name": "stdout",
     "output_type": "stream",
     "text": [
      "f / u with PCP and Dr. Pump as scheduled , return to ED with worsening sob or increased cough or sputum production  -  276\n"
     ]
    },
    {
     "name": "stderr",
     "output_type": "stream",
     "text": [
      "\r",
      " 79%|███████████████████████████████████████████████████████████████▎                | 277/350 [26:37<06:18,  5.19s/it]"
     ]
    },
    {
     "name": "stdout",
     "output_type": "stream",
     "text": [
      "Radiographs demonstrate right hip osteoarthritis .  -  277\n"
     ]
    },
    {
     "name": "stderr",
     "output_type": "stream",
     "text": [
      "\r",
      " 79%|███████████████████████████████████████████████████████████████▌                | 278/350 [26:39<04:50,  4.03s/it]"
     ]
    },
    {
     "name": "stdout",
     "output_type": "stream",
     "text": [
      "She also developed what appeared to be urinary tract infection and was placed on PO Bactrim .  -  278\n"
     ]
    },
    {
     "name": "stderr",
     "output_type": "stream",
     "text": [
      "\r",
      " 80%|███████████████████████████████████████████████████████████████▊                | 279/350 [26:42<04:41,  3.97s/it]"
     ]
    },
    {
     "name": "stdout",
     "output_type": "stream",
     "text": [
      "6. Rectal bleeding - The patient has a history of rectal bleeding , ever since his brachytherapy for his prostate cancer .  -  279\n"
     ]
    },
    {
     "name": "stderr",
     "output_type": "stream",
     "text": [
      "\r",
      " 80%|████████████████████████████████████████████████████████████████                | 280/350 [26:47<04:58,  4.26s/it]"
     ]
    },
    {
     "name": "stdout",
     "output_type": "stream",
     "text": [
      "The patient had an initial troponin bump on admission which was most likely secondary to CHF exacerbation .  -  280\n"
     ]
    },
    {
     "name": "stderr",
     "output_type": "stream",
     "text": [
      "\r",
      " 80%|████████████████████████████████████████████████████████████████▏               | 281/350 [26:51<04:47,  4.17s/it]"
     ]
    },
    {
     "name": "stdout",
     "output_type": "stream",
     "text": [
      "The patient was discharged on Tenormin , 25 mg PO qd ; Bactrim DS , one PO bid x5 days .  -  281\n"
     ]
    },
    {
     "name": "stderr",
     "output_type": "stream",
     "text": [
      "\r",
      " 81%|████████████████████████████████████████████████████████████████▍               | 282/350 [26:56<04:54,  4.34s/it]"
     ]
    },
    {
     "name": "stdout",
     "output_type": "stream",
     "text": [
      "On discharge , the patient was maintained on standing diuretics as well as PRN nebs and INH COPD meds .  -  282\n"
     ]
    },
    {
     "name": "stderr",
     "output_type": "stream",
     "text": [
      "\r",
      " 81%|████████████████████████████████████████████████████████████████▋               | 283/350 [27:00<04:52,  4.37s/it]"
     ]
    },
    {
     "name": "stdout",
     "output_type": "stream",
     "text": [
      "Hypertension was managed with beta blocker and ACE inhibitor and Integrilin was continued post MI for 18 hours .  -  283\n"
     ]
    },
    {
     "name": "stderr",
     "output_type": "stream",
     "text": [
      "\r",
      " 81%|████████████████████████████████████████████████████████████████▉               | 284/350 [27:05<04:46,  4.34s/it]"
     ]
    },
    {
     "name": "stdout",
     "output_type": "stream",
     "text": [
      "Sodium 148 , potassium 3.4 , glucose 174 , P02 102 , PC02 115 , PH 7.11 on 40% 02 .  -  284\n"
     ]
    },
    {
     "name": "stderr",
     "output_type": "stream",
     "text": [
      "\r",
      " 81%|█████████████████████████████████████████████████████████████████▏              | 285/350 [27:10<04:50,  4.46s/it]"
     ]
    },
    {
     "name": "stdout",
     "output_type": "stream",
     "text": [
      "She has had continuing vaginal discharge , and was diagnosed with bacterial vaginosis one day prior to admission , and was given a prescription for Flagyl .  -  285\n"
     ]
    },
    {
     "name": "stderr",
     "output_type": "stream",
     "text": [
      "\r",
      " 82%|█████████████████████████████████████████████████████████████████▎              | 286/350 [27:16<05:15,  4.93s/it]"
     ]
    },
    {
     "name": "stdout",
     "output_type": "stream",
     "text": [
      "An angiogram was done which disclosed possible subsegmental pulmonary emboli of the upper lobes as well as infiltrates consistent with aspiration pneumonia .  -  286\n"
     ]
    },
    {
     "name": "stderr",
     "output_type": "stream",
     "text": [
      "\r",
      " 82%|█████████████████████████████████████████████████████████████████▌              | 287/350 [27:21<05:15,  5.00s/it]"
     ]
    },
    {
     "name": "stdout",
     "output_type": "stream",
     "text": [
      "In the Emergency Department he received aspirin , nitroglycerin drip , heparin drip , Dilaudid , and TNK with decreased in his pain but without resolution of symptoms .  -  287\n"
     ]
    },
    {
     "name": "stderr",
     "output_type": "stream",
     "text": [
      "\r",
      " 82%|█████████████████████████████████████████████████████████████████▊              | 288/350 [27:27<05:36,  5.44s/it]"
     ]
    },
    {
     "name": "stdout",
     "output_type": "stream",
     "text": [
      "The patient received ampicillin , Gentamycin and Flagyl empirically as well as Narcan to reverse fentanyl .  -  288\n"
     ]
    },
    {
     "name": "stderr",
     "output_type": "stream",
     "text": [
      "\r",
      " 83%|██████████████████████████████████████████████████████████████████              | 289/350 [27:31<05:02,  4.96s/it]"
     ]
    },
    {
     "name": "stdout",
     "output_type": "stream",
     "text": [
      "Mr. Breutzfarstxei is a 30 year old man with recently diagnosed acquired immunodeficiency syndrome and Pneumocystis carinii pneumonia who presented with pneumonia , developed adult respiratory distress syndrome , and died in the hospital after failed efforts of ventilatory support .  -  289\n"
     ]
    },
    {
     "name": "stderr",
     "output_type": "stream",
     "text": [
      "\r",
      " 83%|██████████████████████████████████████████████████████████████████▎             | 290/350 [27:40<06:11,  6.19s/it]"
     ]
    },
    {
     "name": "stdout",
     "output_type": "stream",
     "text": [
      "1. Crohn 's disease , dx 1974 s/p three bowel resections and eventual ileostomy , resulting in short gut syndrome  -  290\n"
     ]
    },
    {
     "name": "stderr",
     "output_type": "stream",
     "text": [
      "\r",
      " 83%|██████████████████████████████████████████████████████████████████▌             | 291/350 [27:45<05:34,  5.67s/it]"
     ]
    },
    {
     "name": "stdout",
     "output_type": "stream",
     "text": [
      "1. Coronary artery disease status post non-ST-elevation myocardial infarction in 2009-05-05 , status post cardiac catheterization with left anterior descending artery stent placement in 05/2001 .  -  291\n"
     ]
    },
    {
     "name": "stderr",
     "output_type": "stream",
     "text": [
      "\r",
      " 83%|██████████████████████████████████████████████████████████████████▋             | 292/350 [27:50<05:31,  5.72s/it]"
     ]
    },
    {
     "name": "stdout",
     "output_type": "stream",
     "text": [
      "Ultrasound was performed on 2014-04-01 demonstrating severe portal hypertension with massive peri splenic varices and splenorenal shunt .  -  292\n"
     ]
    },
    {
     "name": "stderr",
     "output_type": "stream",
     "text": [
      "\r",
      " 84%|██████████████████████████████████████████████████████████████████▉             | 293/350 [27:54<04:56,  5.21s/it]"
     ]
    },
    {
     "name": "stdout",
     "output_type": "stream",
     "text": [
      "The Tobramycin and Imipenem were started on 11/25/94 .  -  293\n"
     ]
    },
    {
     "name": "stderr",
     "output_type": "stream",
     "text": [
      "\r",
      " 84%|███████████████████████████████████████████████████████████████████▏            | 294/350 [27:56<03:59,  4.27s/it]"
     ]
    },
    {
     "name": "stdout",
     "output_type": "stream",
     "text": [
      "You should take a stool softener , Colace 100 mg twice daily as needed for constipation .  -  294\n"
     ]
    },
    {
     "name": "stderr",
     "output_type": "stream",
     "text": [
      "\r",
      " 84%|███████████████████████████████████████████████████████████████████▍            | 295/350 [28:00<03:48,  4.15s/it]"
     ]
    },
    {
     "name": "stdout",
     "output_type": "stream",
     "text": [
      "CALCIUM - 9.7 PHOSPHATE - 3.9 MAGNESIUM - 1.9  -  295\n"
     ]
    },
    {
     "name": "stderr",
     "output_type": "stream",
     "text": [
      "\r",
      " 85%|███████████████████████████████████████████████████████████████████▋            | 296/350 [28:02<03:10,  3.53s/it]"
     ]
    },
    {
     "name": "stdout",
     "output_type": "stream",
     "text": [
      "The patient was seen by the wound care nurse and the decubitus ulcer was felt to be mild , but was causing the patient a lot of discomfort and the wound care nurse Ivy Rose lidocaine jelly .  -  296\n"
     ]
    },
    {
     "name": "stderr",
     "output_type": "stream",
     "text": [
      "\r",
      " 85%|███████████████████████████████████████████████████████████████████▉            | 297/350 [28:11<04:27,  5.05s/it]"
     ]
    },
    {
     "name": "stdout",
     "output_type": "stream",
     "text": [
      "CXR revealed evidence of cardiomegaly and pulm edema .  -  297\n"
     ]
    },
    {
     "name": "stderr",
     "output_type": "stream",
     "text": [
      "\r",
      " 85%|████████████████████████████████████████████████████████████████████            | 298/350 [28:13<03:36,  4.17s/it]"
     ]
    },
    {
     "name": "stdout",
     "output_type": "stream",
     "text": [
      "The patient was admitted for work-up of his cholestatic jaundice picture along with work-up for his pulmonary process and treatment of both .  -  298\n"
     ]
    },
    {
     "name": "stderr",
     "output_type": "stream",
     "text": [
      "\r",
      " 85%|████████████████████████████████████████████████████████████████████▎           | 299/350 [28:18<03:48,  4.48s/it]"
     ]
    },
    {
     "name": "stdout",
     "output_type": "stream",
     "text": [
      "White count 4.1 , hematocrit 23 , platelets 144 .  -  299\n"
     ]
    },
    {
     "name": "stderr",
     "output_type": "stream",
     "text": [
      "\r",
      " 86%|████████████████████████████████████████████████████████████████████▌           | 300/350 [28:20<03:09,  3.79s/it]"
     ]
    },
    {
     "name": "stdout",
     "output_type": "stream",
     "text": [
      "Impression : mildly dilated right ventricle ; small , hyperdynamic left ventricle ; at least moderate pulmonary hypertension  -  300\n"
     ]
    },
    {
     "name": "stderr",
     "output_type": "stream",
     "text": [
      "\r",
      " 86%|████████████████████████████████████████████████████████████████████▊           | 301/350 [28:25<03:09,  3.88s/it]"
     ]
    },
    {
     "name": "stdout",
     "output_type": "stream",
     "text": [
      "She is to be maintained on metoprolol for blood pressure control and the restarting of her ACE inhibitor is to be decided by her primary care physician .  -  301\n"
     ]
    },
    {
     "name": "stderr",
     "output_type": "stream",
     "text": [
      "\r",
      " 86%|█████████████████████████████████████████████████████████████████████           | 302/350 [28:31<03:41,  4.62s/it]"
     ]
    },
    {
     "name": "stdout",
     "output_type": "stream",
     "text": [
      "She underwent a TTE at Erich Lindemann Mental Health Center today ( 05-26 ) showing mod-lg circumferential pericardial effusion without evidence of RV diastolic collapse and no MV inflow evidence of tamponade , pacer wire located in RV apex .  -  302\n"
     ]
    },
    {
     "name": "stderr",
     "output_type": "stream",
     "text": [
      "\r",
      " 87%|█████████████████████████████████████████████████████████████████████▎          | 303/350 [28:40<04:39,  5.94s/it]"
     ]
    },
    {
     "name": "stdout",
     "output_type": "stream",
     "text": [
      "She had had no further episodes of tingling in her fingers after the initial episode which had prompted us originally to draw the ionized calcium .  -  303\n"
     ]
    },
    {
     "name": "stderr",
     "output_type": "stream",
     "text": [
      "\r",
      " 87%|█████████████████████████████████████████████████████████████████████▍          | 304/350 [28:46<04:32,  5.92s/it]"
     ]
    },
    {
     "name": "stdout",
     "output_type": "stream",
     "text": [
      "An echocardiogram performed at the outside hospital while he was septic showed decreased global EF .  -  304\n"
     ]
    },
    {
     "name": "stderr",
     "output_type": "stream",
     "text": [
      "\r",
      " 87%|█████████████████████████████████████████████████████████████████████▋          | 305/350 [28:49<03:54,  5.21s/it]"
     ]
    },
    {
     "name": "stdout",
     "output_type": "stream",
     "text": [
      "There was no evidence of developing hydrocephalus , which was a concern due to the surrounding edema , and possible suppression of the fourth ventricle .  -  305\n"
     ]
    },
    {
     "name": "stderr",
     "output_type": "stream",
     "text": [
      "\r",
      " 87%|█████████████████████████████████████████████████████████████████████▉          | 306/350 [28:55<03:56,  5.37s/it]"
     ]
    },
    {
     "name": "stdout",
     "output_type": "stream",
     "text": [
      "His PMI was two finger breath width in the fifth intercostal space lateral to the midclavicular line .  -  306\n"
     ]
    },
    {
     "name": "stderr",
     "output_type": "stream",
     "text": [
      "\r",
      " 88%|██████████████████████████████████████████████████████████████████████▏         | 307/350 [28:59<03:33,  4.96s/it]"
     ]
    },
    {
     "name": "stdout",
     "output_type": "stream",
     "text": [
      "Patient denies CP , SOB , light headedness , or dizziness prior to of after the fall .  -  307\n"
     ]
    },
    {
     "name": "stderr",
     "output_type": "stream",
     "text": [
      "\r",
      " 88%|██████████████████████████████████████████████████████████████████████▍         | 308/350 [29:03<03:17,  4.70s/it]"
     ]
    },
    {
     "name": "stdout",
     "output_type": "stream",
     "text": [
      "The patient was started on Fragmin for DVT prophylaxis and the patient was also started on Dilantin levels .  -  308\n"
     ]
    },
    {
     "name": "stderr",
     "output_type": "stream",
     "text": [
      "\r",
      " 88%|██████████████████████████████████████████████████████████████████████▋         | 309/350 [29:07<03:06,  4.55s/it]"
     ]
    },
    {
     "name": "stdout",
     "output_type": "stream",
     "text": [
      "Work-up for the source of the primary tumor which is still unknown included a mammogram which identified no suspicious microcalcifications and no dominant masses .  -  309\n"
     ]
    },
    {
     "name": "stderr",
     "output_type": "stream",
     "text": [
      "\r",
      " 89%|██████████████████████████████████████████████████████████████████████▊         | 310/350 [29:13<03:15,  4.88s/it]"
     ]
    },
    {
     "name": "stdout",
     "output_type": "stream",
     "text": [
      "# ESRD : etiology likely 02-08 DM and HTN , pt tolerating HD well , and underwent dialysis without difficulty on 01-24 .  -  310\n"
     ]
    },
    {
     "name": "stderr",
     "output_type": "stream",
     "text": [
      "\r",
      " 89%|███████████████████████████████████████████████████████████████████████         | 311/350 [29:18<03:14,  4.99s/it]"
     ]
    },
    {
     "name": "stdout",
     "output_type": "stream",
     "text": [
      "thickening consistent with Trisomy 21 in the B co-twin .  -  311\n"
     ]
    },
    {
     "name": "stderr",
     "output_type": "stream",
     "text": [
      "\r",
      " 89%|███████████████████████████████████████████████████████████████████████▎        | 312/350 [29:21<02:38,  4.16s/it]"
     ]
    },
    {
     "name": "stdout",
     "output_type": "stream",
     "text": [
      "Fatigue secondary to worsening dyspnea .  -  312\n"
     ]
    },
    {
     "name": "stderr",
     "output_type": "stream",
     "text": [
      "\r",
      " 89%|███████████████████████████████████████████████████████████████████████▌        | 313/350 [29:22<02:03,  3.33s/it]"
     ]
    },
    {
     "name": "stdout",
     "output_type": "stream",
     "text": [
      "There is a persistent flow through an inferior branch of the left anterior descending to PA fistula and a persistent branch of the circumflex to PA branch fistula which anatomically were not suitable for coil embolization .  -  313\n"
     ]
    },
    {
     "name": "stderr",
     "output_type": "stream",
     "text": [
      "\r",
      " 90%|███████████████████████████████████████████████████████████████████████▊        | 314/350 [29:30<02:53,  4.82s/it]"
     ]
    },
    {
     "name": "stdout",
     "output_type": "stream",
     "text": [
      "Occasionally required Haldol / ativan at night for agitation .  -  314\n"
     ]
    },
    {
     "name": "stderr",
     "output_type": "stream",
     "text": [
      "\r",
      " 90%|████████████████████████████████████████████████████████████████████████        | 315/350 [29:32<02:21,  4.05s/it]"
     ]
    },
    {
     "name": "stdout",
     "output_type": "stream",
     "text": [
      "In the first week of November , her electrocardiogram showed T wave inversions in the lateral leads , correlating with an increase in the LDH , but not CK .  -  315\n"
     ]
    },
    {
     "name": "stderr",
     "output_type": "stream",
     "text": [
      "\r",
      " 90%|████████████████████████████████████████████████████████████████████████▏       | 316/350 [29:39<02:43,  4.81s/it]"
     ]
    },
    {
     "name": "stdout",
     "output_type": "stream",
     "text": [
      "The patient early this morning to the Ruthie with his usual nausea , vomiting , abdominal pain and was found to be hypertensive to 256/110 , HR 102 , T 99.2 , RR 22 , 92% RA .  -  316\n"
     ]
    },
    {
     "name": "stderr",
     "output_type": "stream",
     "text": [
      "\r",
      " 91%|████████████████████████████████████████████████████████████████████████▍       | 317/350 [29:48<03:15,  5.92s/it]"
     ]
    },
    {
     "name": "stdout",
     "output_type": "stream",
     "text": [
      "Chest xray reveals no consolidation or signs of edema .  -  317\n"
     ]
    },
    {
     "name": "stderr",
     "output_type": "stream",
     "text": [
      "\r",
      " 91%|████████████████████████████████████████████████████████████████████████▋       | 318/350 [29:50<02:35,  4.84s/it]"
     ]
    },
    {
     "name": "stdout",
     "output_type": "stream",
     "text": [
      "pacer DDDR ( Vitatron CL860 ) placed 05-08 for SSS with symptomatic bradycardia , c/b R PTX requiring chest tube  -  318\n"
     ]
    },
    {
     "name": "stderr",
     "output_type": "stream",
     "text": [
      "\r",
      " 91%|████████████████████████████████████████████████████████████████████████▉       | 319/350 [29:54<02:26,  4.74s/it]"
     ]
    },
    {
     "name": "stdout",
     "output_type": "stream",
     "text": [
      "However , her ionized calcium decreased to 0.97 and she was given one amp of calcium gluconate .  -  319\n"
     ]
    },
    {
     "name": "stderr",
     "output_type": "stream",
     "text": [
      "\r",
      " 91%|█████████████████████████████████████████████████████████████████████████▏      | 320/350 [29:59<02:17,  4.57s/it]"
     ]
    },
    {
     "name": "stdout",
     "output_type": "stream",
     "text": [
      "Included Prinzide 12.5 mg po daily , albuterol inhaler prn  -  320\n"
     ]
    },
    {
     "name": "stderr",
     "output_type": "stream",
     "text": [
      "\r",
      " 92%|█████████████████████████████████████████████████████████████████████████▎      | 321/350 [30:01<01:52,  3.87s/it]"
     ]
    },
    {
     "name": "stdout",
     "output_type": "stream",
     "text": [
      "1. Type II diabetes mellitus diagnosed 06/94 , well-controlled with last hemoglobin A1C 6.2  -  321\n"
     ]
    },
    {
     "name": "stderr",
     "output_type": "stream",
     "text": [
      "\r",
      " 92%|█████████████████████████████████████████████████████████████████████████▌      | 322/350 [30:04<01:43,  3.68s/it]"
     ]
    },
    {
     "name": "stdout",
     "output_type": "stream",
     "text": [
      "Patient without chest pain , heart rate and BP stable .  -  322\n"
     ]
    },
    {
     "name": "stderr",
     "output_type": "stream",
     "text": [
      "\r",
      " 92%|█████████████████████████████████████████████████████████████████████████▊      | 323/350 [30:07<01:30,  3.34s/it]"
     ]
    },
    {
     "name": "stdout",
     "output_type": "stream",
     "text": [
      "Her 05-27 CXR post procedure w/o PNX , effusion much improved , yet her 05-28 CXR worse than 05-27 with some reaccumulation of right pleural effusion .  -  323\n"
     ]
    },
    {
     "name": "stderr",
     "output_type": "stream",
     "text": [
      "\r",
      " 93%|██████████████████████████████████████████████████████████████████████████      | 324/350 [30:13<01:47,  4.14s/it]"
     ]
    },
    {
     "name": "stdout",
     "output_type": "stream",
     "text": [
      "Before this age , the family and other caregivers should be considered for immunization against influenza to protect the infant .  -  324\n"
     ]
    },
    {
     "name": "stderr",
     "output_type": "stream",
     "text": [
      "\r",
      " 93%|██████████████████████████████████████████████████████████████████████████▎     | 325/350 [30:17<01:48,  4.32s/it]"
     ]
    },
    {
     "name": "stdout",
     "output_type": "stream",
     "text": [
      "- Sinus Tach , normal axis HR 119 ST Depression V3-V5 ; S1Q3T3 , p-pulmonale .  -  325\n"
     ]
    },
    {
     "name": "stderr",
     "output_type": "stream",
     "text": [
      "\r",
      " 93%|██████████████████████████████████████████████████████████████████████████▌     | 326/350 [30:21<01:38,  4.10s/it]"
     ]
    },
    {
     "name": "stdout",
     "output_type": "stream",
     "text": [
      "She developed additional abdominal tenderness and distention .  -  326\n"
     ]
    },
    {
     "name": "stderr",
     "output_type": "stream",
     "text": [
      "\r",
      " 93%|██████████████████████████████████████████████████████████████████████████▋     | 327/350 [30:23<01:18,  3.41s/it]"
     ]
    },
    {
     "name": "stdout",
     "output_type": "stream",
     "text": [
      "The examination of the extremities showed no edema .  -  327\n"
     ]
    },
    {
     "name": "stderr",
     "output_type": "stream",
     "text": [
      "\r",
      " 94%|██████████████████████████████████████████████████████████████████████████▉     | 328/350 [30:25<01:06,  3.00s/it]"
     ]
    },
    {
     "name": "stdout",
     "output_type": "stream",
     "text": [
      "He was placed on a patient-controlled analgesia for pain control .  -  328\n"
     ]
    },
    {
     "name": "stderr",
     "output_type": "stream",
     "text": [
      "\r",
      " 94%|███████████████████████████████████████████████████████████████████████████▏    | 329/350 [30:27<00:59,  2.83s/it]"
     ]
    },
    {
     "name": "stdout",
     "output_type": "stream",
     "text": [
      "On admission include a white blood cell count of 5.6 , hematocrit of 32.5 , platelets of 202 .  -  329\n"
     ]
    },
    {
     "name": "stderr",
     "output_type": "stream",
     "text": [
      "\r",
      " 94%|███████████████████████████████████████████████████████████████████████████▍    | 330/350 [30:31<01:04,  3.24s/it]"
     ]
    },
    {
     "name": "stdout",
     "output_type": "stream",
     "text": [
      "She can be given prn lasix for weight gain or shortness of breath .  -  330\n"
     ]
    },
    {
     "name": "stderr",
     "output_type": "stream",
     "text": [
      "\r",
      " 95%|███████████████████████████████████████████████████████████████████████████▋    | 331/350 [30:35<01:01,  3.23s/it]"
     ]
    },
    {
     "name": "stdout",
     "output_type": "stream",
     "text": [
      "4. Simethicone 80 mg Tablet , Chewable Sig : 0.5-1 Tablet , Chewable PO QID ( 4 times a day ) as needed for indigestion/gas pain .  -  331\n"
     ]
    },
    {
     "name": "stderr",
     "output_type": "stream",
     "text": [
      "\r",
      " 95%|███████████████████████████████████████████████████████████████████████████▉    | 332/350 [30:41<01:13,  4.09s/it]"
     ]
    },
    {
     "name": "stdout",
     "output_type": "stream",
     "text": [
      "Review of systems was significant for progressive abdominal discomfort , decreased oral intake , and weakness in the past nine weeks .  -  332\n"
     ]
    },
    {
     "name": "stderr",
     "output_type": "stream",
     "text": [
      "\r",
      " 95%|████████████████████████████████████████████████████████████████████████████    | 333/350 [30:46<01:14,  4.38s/it]"
     ]
    },
    {
     "name": "stdout",
     "output_type": "stream",
     "text": [
      "Clinically , this was consistent with SBP , although unfortunately , fluid was never sent for cytology and a lot of those white cells are most likely due to his cancer .  -  333\n"
     ]
    },
    {
     "name": "stderr",
     "output_type": "stream",
     "text": [
      "\r",
      " 95%|████████████████████████████████████████████████████████████████████████████▎   | 334/350 [30:53<01:23,  5.22s/it]"
     ]
    },
    {
     "name": "stdout",
     "output_type": "stream",
     "text": [
      "The chest pain persisted afterwards and a relook catheterization was performed that revealed no occlusions .  -  334\n"
     ]
    },
    {
     "name": "stderr",
     "output_type": "stream",
     "text": [
      "\r",
      " 96%|████████████████████████████████████████████████████████████████████████████▌   | 335/350 [30:57<01:11,  4.74s/it]"
     ]
    },
    {
     "name": "stdout",
     "output_type": "stream",
     "text": [
      "If there is clear drainage from your incisions , cover with a dry dressing .  -  335\n"
     ]
    },
    {
     "name": "stderr",
     "output_type": "stream",
     "text": [
      "\r",
      " 96%|████████████████████████████████████████████████████████████████████████████▊   | 336/350 [31:00<01:00,  4.31s/it]"
     ]
    },
    {
     "name": "stdout",
     "output_type": "stream",
     "text": [
      "- EKG sinus 92 , no ST changes  -  336\n"
     ]
    },
    {
     "name": "stderr",
     "output_type": "stream",
     "text": [
      "\r",
      " 96%|█████████████████████████████████████████████████████████████████████████████   | 337/350 [31:02<00:46,  3.58s/it]"
     ]
    },
    {
     "name": "stdout",
     "output_type": "stream",
     "text": [
      "Cath Lab at the Pinewood , Norfolk that evening where a stent procedure to the RCA was complicated by guidewire entrapment inside of a stent requiring CT surgery to do a thoracotomy with bypass and excision of the wire .  -  337\n"
     ]
    },
    {
     "name": "stderr",
     "output_type": "stream",
     "text": [
      "\r",
      " 97%|█████████████████████████████████████████████████████████████████████████████▎  | 338/350 [31:11<01:02,  5.20s/it]"
     ]
    },
    {
     "name": "stdout",
     "output_type": "stream",
     "text": [
      "Troponin 4.7 , CK 101 , MB 3 .  -  338\n"
     ]
    },
    {
     "name": "stderr",
     "output_type": "stream",
     "text": [
      "\r",
      " 97%|█████████████████████████████████████████████████████████████████████████████▍  | 339/350 [31:13<00:46,  4.24s/it]"
     ]
    },
    {
     "name": "stdout",
     "output_type": "stream",
     "text": [
      "PT - 12.7 PTT - 23.8 INR(PT) - 1.1  -  339\n"
     ]
    },
    {
     "name": "stderr",
     "output_type": "stream",
     "text": [
      "\r",
      " 97%|█████████████████████████████████████████████████████████████████████████████▋  | 340/350 [31:15<00:35,  3.57s/it]"
     ]
    },
    {
     "name": "stdout",
     "output_type": "stream",
     "text": [
      "She received 48 hours of ampicillin and gentamycin with negative blood cultures and antibiotics were discontinued .  -  340\n"
     ]
    },
    {
     "name": "stderr",
     "output_type": "stream",
     "text": [
      "\r",
      " 97%|█████████████████████████████████████████████████████████████████████████████▉  | 341/350 [31:19<00:32,  3.65s/it]"
     ]
    },
    {
     "name": "stdout",
     "output_type": "stream",
     "text": [
      "Head computerized tomography scan showed 1.5 to 2 centimeter bleed in the right thalamus extending to the internal capsule with mild distortion only , no shift .  -  341\n"
     ]
    },
    {
     "name": "stderr",
     "output_type": "stream",
     "text": [
      "\r",
      " 98%|██████████████████████████████████████████████████████████████████████████████▏ | 342/350 [31:25<00:34,  4.37s/it]"
     ]
    },
    {
     "name": "stdout",
     "output_type": "stream",
     "text": [
      "2019-10-07 05:30 AM BLOOD Glucose - 156 * UreaN - 20 Creat - 1.0 Na - 140 K - 3.8 Cl - 99 HCO3 - 31 AnGap - 14  -  342\n"
     ]
    },
    {
     "name": "stderr",
     "output_type": "stream",
     "text": [
      "\r",
      " 98%|██████████████████████████████████████████████████████████████████████████████▍ | 343/350 [31:31<00:35,  5.01s/it]"
     ]
    },
    {
     "name": "stdout",
     "output_type": "stream",
     "text": [
      "Chest exam reveals coarse rhonchi with some bibasilar crackles .  -  343\n"
     ]
    },
    {
     "name": "stderr",
     "output_type": "stream",
     "text": [
      "\r",
      " 98%|██████████████████████████████████████████████████████████████████████████████▋ | 344/350 [31:33<00:25,  4.17s/it]"
     ]
    },
    {
     "name": "stdout",
     "output_type": "stream",
     "text": [
      "Cardiac catheterization demonstrates no significant disease in the coronary arteries .  -  344\n"
     ]
    },
    {
     "name": "stderr",
     "output_type": "stream",
     "text": [
      "\r",
      " 99%|██████████████████████████████████████████████████████████████████████████████▊ | 345/350 [31:36<00:18,  3.65s/it]"
     ]
    },
    {
     "name": "stdout",
     "output_type": "stream",
     "text": [
      "Abdominal CT showed inflammation in the right upper quadrant , small fluid in the circumferential thickening of the distal stomach .  -  345\n"
     ]
    },
    {
     "name": "stderr",
     "output_type": "stream",
     "text": [
      "\r",
      " 99%|███████████████████████████████████████████████████████████████████████████████ | 346/350 [31:40<00:15,  3.94s/it]"
     ]
    },
    {
     "name": "stdout",
     "output_type": "stream",
     "text": [
      "Postop course c/b right upper extremity DVT and postop Afib .  -  346\n"
     ]
    },
    {
     "name": "stderr",
     "output_type": "stream",
     "text": [
      "\r",
      " 99%|███████████████████████████████████████████████████████████████████████████████▎| 347/350 [31:43<00:10,  3.49s/it]"
     ]
    },
    {
     "name": "stdout",
     "output_type": "stream",
     "text": [
      "There is a persistent flow through an inferior branch of the left anterior descending to PA fistula and a persistent branch of the circumflex to PA branch fistula which anatomically were not suitable for coil embolization .  -  347\n"
     ]
    },
    {
     "name": "stderr",
     "output_type": "stream",
     "text": [
      "\r",
      " 99%|███████████████████████████████████████████████████████████████████████████████▌| 348/350 [31:51<00:09,  4.96s/it]"
     ]
    },
    {
     "name": "stdout",
     "output_type": "stream",
     "text": [
      "Neuro : no asterixis , CN II-XII intact , 5/5 strength throughout , sensation to LT intact throughout , gait deferred  -  348\n"
     ]
    },
    {
     "name": "stderr",
     "output_type": "stream",
     "text": [
      "\r",
      "100%|███████████████████████████████████████████████████████████████████████████████▊| 349/350 [31:56<00:04,  4.91s/it]"
     ]
    },
    {
     "name": "stdout",
     "output_type": "stream",
     "text": [
      "Blood pressure 156/67 , pulse 80 and respiratory rate 14 .  -  349\n"
     ]
    },
    {
     "name": "stderr",
     "output_type": "stream",
     "text": [
      "100%|████████████████████████████████████████████████████████████████████████████████| 350/350 [31:59<00:00,  5.48s/it]\n"
     ]
    }
   ],
   "source": [
    "test_features = get_features_corpus(test_sentences)"
   ]
  },
  {
   "cell_type": "code",
   "execution_count": 139,
   "metadata": {},
   "outputs": [],
   "source": [
    "train_pickle = pkl.dump(train_features, open('train_features_02Aug2021', 'wb'))\n",
    "test_pickle = pkl.dump(test_features, open('test_features_02Aug2021', 'wb'))"
   ]
  },
  {
   "cell_type": "code",
   "execution_count": 141,
   "metadata": {},
   "outputs": [],
   "source": [
    "from thinc.api import set_gpu_allocator, require_gpu"
   ]
  },
  {
   "cell_type": "code",
   "execution_count": 144,
   "metadata": {},
   "outputs": [
    {
     "ename": "ValueError",
     "evalue": "GPU is not accessible. Was the library installed correctly?",
     "output_type": "error",
     "traceback": [
      "\u001b[1;31m---------------------------------------------------------------------------\u001b[0m",
      "\u001b[1;31mValueError\u001b[0m                                Traceback (most recent call last)",
      "\u001b[1;32m<ipython-input-144-122df5fa0c8c>\u001b[0m in \u001b[0;36m<module>\u001b[1;34m\u001b[0m\n\u001b[0;32m      1\u001b[0m \u001b[1;31m#import spacy_transformers\u001b[0m\u001b[1;33m\u001b[0m\u001b[1;33m\u001b[0m\u001b[1;33m\u001b[0m\u001b[0m\n\u001b[1;32m----> 2\u001b[1;33m \u001b[0mprint\u001b[0m\u001b[1;33m(\u001b[0m\u001b[0mspacy\u001b[0m\u001b[1;33m.\u001b[0m\u001b[0mprefer_gpu\u001b[0m\u001b[1;33m(\u001b[0m\u001b[1;33m)\u001b[0m\u001b[1;33m,\u001b[0m\u001b[0mrequire_gpu\u001b[0m\u001b[1;33m(\u001b[0m\u001b[1;36m0\u001b[0m\u001b[1;33m)\u001b[0m\u001b[1;33m)\u001b[0m\u001b[1;33m\u001b[0m\u001b[1;33m\u001b[0m\u001b[0m\n\u001b[0m",
      "\u001b[1;32m~\\anaconda3\\envs\\tfgpu\\lib\\site-packages\\thinc\\util.py\u001b[0m in \u001b[0;36mrequire_gpu\u001b[1;34m(gpu_id)\u001b[0m\n\u001b[0;32m    185\u001b[0m \u001b[1;33m\u001b[0m\u001b[0m\n\u001b[0;32m    186\u001b[0m     \u001b[1;32mif\u001b[0m \u001b[0mCupyOps\u001b[0m\u001b[1;33m.\u001b[0m\u001b[0mxp\u001b[0m \u001b[1;32mis\u001b[0m \u001b[1;32mNone\u001b[0m\u001b[1;33m:\u001b[0m\u001b[1;33m\u001b[0m\u001b[1;33m\u001b[0m\u001b[0m\n\u001b[1;32m--> 187\u001b[1;33m         \u001b[1;32mraise\u001b[0m \u001b[0mValueError\u001b[0m\u001b[1;33m(\u001b[0m\u001b[1;34m\"GPU is not accessible. Was the library installed correctly?\"\u001b[0m\u001b[1;33m)\u001b[0m\u001b[1;33m\u001b[0m\u001b[1;33m\u001b[0m\u001b[0m\n\u001b[0m\u001b[0;32m    188\u001b[0m \u001b[1;33m\u001b[0m\u001b[0m\n\u001b[0;32m    189\u001b[0m     \u001b[0mset_current_ops\u001b[0m\u001b[1;33m(\u001b[0m\u001b[0mCupyOps\u001b[0m\u001b[1;33m(\u001b[0m\u001b[1;33m)\u001b[0m\u001b[1;33m)\u001b[0m\u001b[1;33m\u001b[0m\u001b[1;33m\u001b[0m\u001b[0m\n",
      "\u001b[1;31mValueError\u001b[0m: GPU is not accessible. Was the library installed correctly?"
     ]
    }
   ],
   "source": [
    "#import spacy_transformers\n",
    "print(spacy.prefer_gpu(),require_gpu(0))"
   ]
  },
  {
   "cell_type": "code",
   "execution_count": 145,
   "metadata": {},
   "outputs": [],
   "source": [
    "from tensorflow.python.client import device_lib\n",
    "\n",
    "\n",
    "def get_available_gpus():\n",
    "    local_device_protos = device_lib.list_local_devices()\n",
    "    return [x.name for x in local_device_protos if x.device_type == 'GPU']"
   ]
  },
  {
   "cell_type": "code",
   "execution_count": 146,
   "metadata": {},
   "outputs": [
    {
     "data": {
      "text/plain": [
       "['/device:GPU:0']"
      ]
     },
     "execution_count": 146,
     "metadata": {},
     "output_type": "execute_result"
    }
   ],
   "source": [
    "get_available_gpus()"
   ]
  },
  {
   "cell_type": "code",
   "execution_count": 148,
   "metadata": {},
   "outputs": [
    {
     "data": {
      "text/plain": [
       "[PhysicalDevice(name='/physical_device:GPU:0', device_type='GPU')]"
      ]
     },
     "execution_count": 148,
     "metadata": {},
     "output_type": "execute_result"
    }
   ],
   "source": [
    "import tensorflow as tf\n",
    "tf.config.list_physical_devices('GPU')"
   ]
  },
  {
   "cell_type": "code",
   "execution_count": null,
   "metadata": {},
   "outputs": [],
   "source": []
  }
 ],
 "metadata": {
  "kernelspec": {
   "display_name": "TF210GPUJupyter",
   "language": "python",
   "name": "tfgpu"
  },
  "language_info": {
   "codemirror_mode": {
    "name": "ipython",
    "version": 3
   },
   "file_extension": ".py",
   "mimetype": "text/x-python",
   "name": "python",
   "nbconvert_exporter": "python",
   "pygments_lexer": "ipython3",
   "version": "3.7.9"
  }
 },
 "nbformat": 4,
 "nbformat_minor": 4
}
