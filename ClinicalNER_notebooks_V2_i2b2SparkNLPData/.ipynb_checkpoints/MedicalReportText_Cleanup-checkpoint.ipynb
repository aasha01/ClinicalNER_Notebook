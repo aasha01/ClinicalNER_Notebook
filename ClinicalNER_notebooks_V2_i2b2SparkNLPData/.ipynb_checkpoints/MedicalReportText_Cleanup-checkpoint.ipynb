{
 "cells": [
  {
   "cell_type": "code",
   "execution_count": 154,
   "metadata": {},
   "outputs": [],
   "source": [
    "import pandas as pd"
   ]
  },
  {
   "cell_type": "code",
   "execution_count": 155,
   "metadata": {},
   "outputs": [],
   "source": [
    "#raw = pd.read_csv(\"report_data_raw.csv\")\n",
    "raw = pd.read_csv(\"full_report_all_files.csv\")"
   ]
  },
  {
   "cell_type": "code",
   "execution_count": 156,
   "metadata": {},
   "outputs": [
    {
     "data": {
      "text/html": [
       "<div>\n",
       "<style scoped>\n",
       "    .dataframe tbody tr th:only-of-type {\n",
       "        vertical-align: middle;\n",
       "    }\n",
       "\n",
       "    .dataframe tbody tr th {\n",
       "        vertical-align: top;\n",
       "    }\n",
       "\n",
       "    .dataframe thead th {\n",
       "        text-align: right;\n",
       "    }\n",
       "</style>\n",
       "<table border=\"1\" class=\"dataframe\">\n",
       "  <thead>\n",
       "    <tr style=\"text-align: right;\">\n",
       "      <th></th>\n",
       "      <th>filename</th>\n",
       "      <th>report_text</th>\n",
       "    </tr>\n",
       "  </thead>\n",
       "  <tbody>\n",
       "    <tr>\n",
       "      <th>0</th>\n",
       "      <td>100.xml</td>\n",
       "      <td>\\n\\nRecord date: 2106-02-12\\n\\nCampbell Orthop...</td>\n",
       "    </tr>\n",
       "    <tr>\n",
       "      <th>1</th>\n",
       "      <td>101.xml</td>\n",
       "      <td>\\n\\nRecord date: 2079-05-12\\n\\n\\n\\n\\n\\nMERCY C...</td>\n",
       "    </tr>\n",
       "    <tr>\n",
       "      <th>2</th>\n",
       "      <td>102.xml</td>\n",
       "      <td>\\n\\nRecord date: 2120-09-19\\n\\nPersonal Data a...</td>\n",
       "    </tr>\n",
       "    <tr>\n",
       "      <th>3</th>\n",
       "      <td>103.xml</td>\n",
       "      <td>\\n\\nRecord date: 2067-11-24\\n\\n               ...</td>\n",
       "    </tr>\n",
       "    <tr>\n",
       "      <th>4</th>\n",
       "      <td>104.xml</td>\n",
       "      <td>\\n\\nRecord date: 2094-02-16\\n\\nJENNIFER BOOKER...</td>\n",
       "    </tr>\n",
       "    <tr>\n",
       "      <th>...</th>\n",
       "      <td>...</td>\n",
       "      <td>...</td>\n",
       "    </tr>\n",
       "    <tr>\n",
       "      <th>197</th>\n",
       "      <td>392.xml</td>\n",
       "      <td>\\n\\nRecord date: 2111-09-26\\n\\nCC:  Ear pain, ...</td>\n",
       "    </tr>\n",
       "    <tr>\n",
       "      <th>198</th>\n",
       "      <td>393.xml</td>\n",
       "      <td>\\n\\nRecord date: 2081-02-10\\n\\nGI Fellow Consu...</td>\n",
       "    </tr>\n",
       "    <tr>\n",
       "      <th>199</th>\n",
       "      <td>395.xml</td>\n",
       "      <td>\\n\\nRecord date: 2104-11-10\\n\\n               ...</td>\n",
       "    </tr>\n",
       "    <tr>\n",
       "      <th>200</th>\n",
       "      <td>397.xml</td>\n",
       "      <td>\\n\\nRecord date: 2076-06-19\\n\\nPhysical exam -...</td>\n",
       "    </tr>\n",
       "    <tr>\n",
       "      <th>201</th>\n",
       "      <td>398.xml</td>\n",
       "      <td>\\n\\nRecord date: 2105-12-15\\n\\nMr. Bryan comes...</td>\n",
       "    </tr>\n",
       "  </tbody>\n",
       "</table>\n",
       "<p>202 rows × 2 columns</p>\n",
       "</div>"
      ],
      "text/plain": [
       "    filename                                        report_text\n",
       "0    100.xml  \\n\\nRecord date: 2106-02-12\\n\\nCampbell Orthop...\n",
       "1    101.xml  \\n\\nRecord date: 2079-05-12\\n\\n\\n\\n\\n\\nMERCY C...\n",
       "2    102.xml  \\n\\nRecord date: 2120-09-19\\n\\nPersonal Data a...\n",
       "3    103.xml  \\n\\nRecord date: 2067-11-24\\n\\n               ...\n",
       "4    104.xml  \\n\\nRecord date: 2094-02-16\\n\\nJENNIFER BOOKER...\n",
       "..       ...                                                ...\n",
       "197  392.xml  \\n\\nRecord date: 2111-09-26\\n\\nCC:  Ear pain, ...\n",
       "198  393.xml  \\n\\nRecord date: 2081-02-10\\n\\nGI Fellow Consu...\n",
       "199  395.xml  \\n\\nRecord date: 2104-11-10\\n\\n               ...\n",
       "200  397.xml  \\n\\nRecord date: 2076-06-19\\n\\nPhysical exam -...\n",
       "201  398.xml  \\n\\nRecord date: 2105-12-15\\n\\nMr. Bryan comes...\n",
       "\n",
       "[202 rows x 2 columns]"
      ]
     },
     "execution_count": 156,
     "metadata": {},
     "output_type": "execute_result"
    }
   ],
   "source": [
    "raw"
   ]
  },
  {
   "cell_type": "code",
   "execution_count": 157,
   "metadata": {},
   "outputs": [],
   "source": [
    "import spacy\n",
    "nlp = spacy.load(\"en_core_web_md\")"
   ]
  },
  {
   "cell_type": "code",
   "execution_count": 196,
   "metadata": {},
   "outputs": [],
   "source": [
    "# Preprocess report text\n",
    "import tqdm\n",
    "import re\n",
    "\n",
    "def split_in_sentences(text):\n",
    "    doc = nlp(text)\n",
    "    return [str(sent).strip() for sent in doc.sents if len(str(sent).strip())>0 ]\n",
    "\n",
    "def remove_special_characters_except(text, remove_digits=False):\n",
    "    pattern = r'[^a-zA-Z0-9\\s.]' if not remove_digits else r'[^a-zA-Z\\s.]'\n",
    "    text = re.sub(pattern, '', text)\n",
    "    return text\n",
    "\n",
    "def clean_report_text(text):\n",
    "    text = text.translate(text.maketrans(\"\\n\\t\\r\", \"   \"))\n",
    "    text = remove_special_characters_except(text, remove_digits=True)\n",
    "    return text\n",
    "\n",
    "def remove_multiple_spaces(text):\n",
    "    text = re.sub(' +', ' ', text)\n",
    "    return text\n",
    "\n",
    "def remove_multiple_dots(text):\n",
    "    consequitivedots = re.compile(r'\\.{2,}')\n",
    "    text = consequitivedots.sub('', text).strip()\n",
    "    return text\n",
    "\n",
    "def report_to_sentences(text):\n",
    "    text = clean_report_text(text)\n",
    "    text = remove_multiple_dots(text)\n",
    "    text = remove_multiple_spaces(text)\n",
    "    return split_in_sentences(text)\n",
    "\n",
    "#Can be used only for a dataset (collection) of text\n",
    "def report_corpus_pre_processor(text_coll):\n",
    "    norm_corpus = []\n",
    "    for doc in tqdm.tqdm(text_coll):\n",
    "        norm_corpus.extend(report_to_sentences(doc))\n",
    "    return norm_corpus\n",
    "\n"
   ]
  },
  {
   "cell_type": "code",
   "execution_count": 197,
   "metadata": {},
   "outputs": [
    {
     "name": "stderr",
     "output_type": "stream",
     "text": [
      "100%|████████████████████████████████████████████████████████████████████████████████| 202/202 [00:21<00:00,  9.39it/s]\n"
     ]
    }
   ],
   "source": [
    "sentence_data = report_corpus_pre_processor(raw.report_text)"
   ]
  },
  {
   "cell_type": "code",
   "execution_count": 198,
   "metadata": {},
   "outputs": [],
   "source": [
    "clean_report = pd.DataFrame({'report_text_sent':sentence_data})"
   ]
  },
  {
   "cell_type": "code",
   "execution_count": 199,
   "metadata": {},
   "outputs": [
    {
     "data": {
      "text/plain": [
       "9903"
      ]
     },
     "execution_count": 199,
     "metadata": {},
     "output_type": "execute_result"
    }
   ],
   "source": [
    "len(sentence_data)"
   ]
  },
  {
   "cell_type": "code",
   "execution_count": 200,
   "metadata": {},
   "outputs": [
    {
     "data": {
      "text/plain": [
       "['Record date Campbell Orthopedic Associates Madera Circle Omak GA Habib Valenzuela M.D. Valdez Harlan Jr.',\n",
       " 'February Har is a year old pound gentleman who is referred for consultation by Dr. Harlan Oneil.',\n",
       " 'About a week ago he slipped on the driveway at home and sustained an injury to his left ankle.',\n",
       " 'He was seen at TriCity Hospital and was told he had a fracture.',\n",
       " 'He was placed in an air splint and advised to be partial weight bearing and he is using a cane.',\n",
       " 'He is here for routine followup.',\n",
       " 'Past medical history is notable for no ankle injuries previously.',\n",
       " 'He has a history of diabetes and sleep apnea.',\n",
       " 'He takes Prozac Cardizem Glucophage and Amaryl.',\n",
       " 'He is also followed by Dr. Harold Nutter for an arrhythmia.',\n",
       " 'He does not smoke.',\n",
       " 'He drinks minimally.',\n",
       " 'He is a set designer at Columbia Pictures.',\n",
       " 'On examination today he has slight tenderness of the left ankle about four fingerbreadths above the malleolus.',\n",
       " 'The malleolus is nontender medially or laterally with no ligamentous tenderness either.',\n",
       " 'Dorsal flexion and plantar flexion is without pain.',\n",
       " 'There is no significant swelling.',\n",
       " 'There are no some skin changes with some small abrasions proximally.',\n",
       " 'There is no fibular tenderness proximally.',\n",
       " 'No anterior pain is noted.',\n",
       " 'No hindfoot midfoot or forefoot tenderness is noted.',\n",
       " 'I would like him to use a tube sock with his air cast.',\n",
       " 'He is using a cane for ambulation.',\n",
       " 'His xrays do not show a notable fracture pattern today and we will await the Radiology opinion.',\n",
       " 'I would like him to stay in the air splint with the sock.',\n",
       " 'I will see him back in six weeks for review at the Boxborough office.',\n",
       " 'Diagnosis Left ankle fracture.',\n",
       " 'Habib Valenzuela M.D.',\n",
       " 'HVkuntz Mmedical cc Harlan Oneil M.D.',\n",
       " 'Harold Nutter M.D. Doctors Hospital North Bruce St Omak GA Habib Valenzuela M.D. DD DT DV Not reviewed by Attending Physician',\n",
       " 'Record date MERCY CARE CENTER Mercy Internal Medicine Associates Newburgh Street Terrell AR Russell Donna Ms. Russell comes in for further evaluation.',\n",
       " 'She has been in Rhode Island for six months.',\n",
       " 'Her complaint is that she has heaviness in the chest.',\n",
       " 'She does not have any palpitations.',\n",
       " 'She does not note that this is associated with exertion.',\n",
       " 'She does have diaphoresis associated with it.',\n",
       " 'She does not have any shortness of breath.',\n",
       " 'This heaviness has been in her chest on and off for the last six weeks.',\n",
       " 'She is quite concerned.',\n",
       " 'She has a history of hypothyroidism and hypertension.',\n",
       " 'She also has hyperlipidemia and is being treated with Lipitor.',\n",
       " 'Her health maintenance has been in order.',\n",
       " 'She has just had a hysterectomy.',\n",
       " 'She needs to have a followup mammogram done.',\n",
       " 'However today I am most concerned about her chest heaviness.',\n",
       " 'PHYSICAL EXAMINATION',\n",
       " 'Her blood pressure is respiratory rate is and pulse is .',\n",
       " 'Neck is supple.',\n",
       " 'There is no lymphadenopathy.',\n",
       " 'Chest is clear to both percussion and auscultation.',\n",
       " 'Cardiac exam is regularly regular with no murmurs gallops or rubs.',\n",
       " 'Abdomen is soft and nontender.',\n",
       " 'There is no hepatosplenomegaly.',\n",
       " 'Extremities are clear of cyanosis clubbing and edema.',\n",
       " 'LABORATORY DATA',\n",
       " 'Her sodium is electrolytes are all otherwise within normal limits.',\n",
       " 'TSH is LFTs are pending at this time.',\n",
       " 'We sent her for an electrocardiogram which showed normal sinus rhythm with nonspecific STT wave changes.',\n",
       " 'We also sent her for an exercise tolerance test with preliminary reports showing that she went to a maximum heart rate of she was on the protocol for minutes seconds.',\n",
       " 'She had no evidence of ischemia.',\n",
       " 'ASSESSMENT AND PLAN .',\n",
       " 'Chest heaviness.',\n",
       " 'I am not sure what is causing this.',\n",
       " 'She may have a primary pulmonary problem.',\n",
       " 'She will be following up with us in one week.',\n",
       " 'It is heartening to see that she does not have an abnormal exercise tolerance test. .',\n",
       " 'Hypothyroidism well controlled at the present time.',\n",
       " 'Continue same dose of Synthroid. .',\n",
       " 'Hypertension well controlled presently. .',\n",
       " 'Hyperlipidemia.',\n",
       " 'We will recheck this on her next visit.',\n",
       " 'RE Russell Donna MRN',\n",
       " 'May Page We will also need to schedule a followup mammogram.',\n",
       " 'Quinn Rutledge M.D. QRQR .doc',\n",
       " 'DD DT DV',\n",
       " 'Record date Personal Data and Overall Health Patient is a yr.',\n",
       " 'old male who presents to Dr. Yager for multiple tooth extractions on .',\n",
       " 'History of Present Illness',\n",
       " 'The patient complains of a hx. of tooth abscesses.',\n",
       " 'Past Surgical History Prior surgery includes .',\n",
       " 'excision l. neck mass for post l. neck lipoma under local no complications .',\n",
       " 'bowel surgery yrs ago',\n",
       " 'g.a.',\n",
       " 'no complications .',\n",
       " 'hernia repair yrs ago GA.',\n",
       " 'no complications .',\n",
       " 'appendectomy yrs ago GA no complications .',\n",
       " 'hemorroids per patient done under spinal had severe post spinal headache.',\n",
       " 'Family History There in no family history of adverse reactions to general anesthesia.',\n",
       " 'Past Medical History Current medical problems include .',\n",
       " 'HTN .',\n",
       " 'DMxyrs per patient glucose levels run range .',\n",
       " 'hx.',\n",
       " 'of tooth abscesses .',\n",
       " 'hypercholesterolemia Social History',\n",
       " 'Smoking no Alcohol use no history of excessive use Substance abuse none Review of Systems Medications insulin RN in am R in evening hctzmg',\n",
       " 'qd captopril mg xday',\n",
       " 'lipitor mgqd zyrtec prn ecasa',\n",
       " 'vit e Allergies shellfish Cardiovascular history of hypertension no MI denies CP DOE syncope ankle edema Respiratory no history of asthma or chronic lung disease denies unusual shortness of breath Neurological no history of neurological problems Gastrointestinal no history of PUD denies reflux Hepatobiliary no history of liver disease denies jaundice or hepatitis RenalGenitourinary no history of renal failure denies hematuria dysuria obstructive uropathy Musculoskeletal denies pain or limitation of movement Endocrinemetabolic history of diabetes last yrs hypercholesterolemia HemeOnc no history of bleeding blood diseases no history of malignancy chemotherapy or radiation therapy',\n",
       " 'Psychiatric no significant psychiatric problems Exam SaO RA Ht Wt BP P HEENT good range of motion no masses neck veins flat no bruits Airway Mallampatti Class I or II Teeth in good repair Lungs clear bilaterally Heart regular rhythm no murmurs SS',\n",
       " 'no gallop Assessment ASA Physical Status II Well prepared for surgery no unusual concerns related to medical problems.',\n",
       " 'Plan Proposed Anesthetic general anesthesia Monitors standard Pain Management IVPCA Autologous blood none Premedication none Usual Medications take on day of surgery Medications to be held on day of surgery lipitor',\n",
       " 'Diabetic medications counseled to old am insulin regimen NSAIDS avoid for days before surgery Aspirin avoid for days before surgery NPO after midnight External Labs Not available',\n",
       " 'Attending Anesthesiologist Reassessment Note I have reviewed this preanesthetic assessment and concur with the assessment and recommended plan with the following exceptions',\n",
       " 'Yeomans Vertis K. M.D.',\n",
       " 'Record date HUNTINGTON EMERGENCY DEPT VISIT THOMASYOSEFJULIA VISIT DATE',\n",
       " 'This patient was seen with Dr. Earley.',\n",
       " 'The patient was interviewed and examined by me.',\n",
       " 'Residents note reviewed and confirmed.',\n",
       " 'The plan of care was discussed with the patient.',\n",
       " 'Please see chart for details.',\n",
       " 'HISTORY OF PRESENTING COMPLAINT',\n",
       " 'Briefly this is a yearold woman with a history of asthma and noninsulindependent diabetes mellitus who has had three weeks of progressive substernal chest pain radiating to the back with associated nausea vomiting shortness of breath and diaphoresis.',\n",
       " 'The episodes of pain last minutes with exertion and at rest.',\n",
       " 'PAST MEDICAL HISTORY Asthma hypothyroidism and recently diagnosed diabetes mellitus.',\n",
       " 'MEDICATIONS',\n",
       " 'Levoxyl Albuterol Protonix Tums Flovent.',\n",
       " 'SOCIAL HISTORY AND FAMILY HISTORY Remote history of smoking.',\n",
       " 'Family history Coronary artery disease in father.',\n",
       " 'PHYSICAL EXAMINATION GENERAL APPEARANCE',\n",
       " 'No acute distress painfree.',\n",
       " 'VITAL SIGNS Afebrile.',\n",
       " 'Pulse .',\n",
       " 'Respirations .',\n",
       " 'Blood pressure .',\n",
       " 'Pulse oximetry is on room air.',\n",
       " 'CARDIAC Regular rate and rhythm.',\n",
       " 'Normal S and S.',\n",
       " 'No murmurs gallops or rubs.',\n",
       " 'NECK JVP cm.',\n",
       " 'LUNGS Clear.',\n",
       " 'Breathing is unlabored.',\n",
       " 'ABDOMEN Soft nontender and nondistended with active bowel sounds.',\n",
       " 'EXTREMITIES No clubbing cyanosis or edema.',\n",
       " 'LABORATORY EVALUATION',\n",
       " 'The EKG shows a normal sinus rhythm with lateral Twave inversions and question of old septal myocardial infarction.',\n",
       " 'Chest xray shows no acute cardiopulmonary disease.',\n",
       " 'FINAL DIAGNOSIS Chest pain multiple cardiac risk factors abnormal electrocardiogram currently painfree without evidence of congestive heart failure.',\n",
       " 'DISPOSITION including condition upon discharge The plan is aspirin Lopressor and admission to telemetry.',\n",
       " 'The patient was admitted to the hospital in stable condition.',\n",
       " 'VA MARVIN UTECHT M.D. MU D T Dictated by MARVIN UTECHT M.D. MU Not reviewed by Attending Physician',\n",
       " 'Record date JENNIFER BOOKER LC Unit No NASHUA MEMORIAL HOSPITAL',\n",
       " 'ADULT MEDICINE Date February Addin visit for this yearold patient of Dr. Tapia complaining of one day of urinary urgency frequency and suprapubic discomfort and chills.',\n",
       " 'States was hospitalized last year for pyelonephritis.',\n",
       " 'MEDICATIONS',\n",
       " 'Cozaar Synthroid Wellbutrin Tegretol Humulin units q.a.m.',\n",
       " 'units q. p.m.',\n",
       " 'Allergies to Sulfur and Codeine.',\n",
       " 'The patient states has low hip discomfort.',\n",
       " 'This is not the back pain that she had last year with pilo.',\n",
       " 'Urine WBC RBCs.',\n",
       " 'Moderate bacteria.',\n",
       " 'Many squamous cells.',\n",
       " 'T. . .',\n",
       " 'Back with no vertebral tenderness.',\n",
       " 'No flank tenderness.',\n",
       " 'Tender over right SI joint.',\n",
       " 'AP Probable UTI in diabetic with history of pilo and cirrhosis.',\n",
       " 'Consult with Dr. Mcfarland.',\n",
       " 'Will treat with Cipro mg b.i.d.',\n",
       " 'X days.',\n",
       " 'The patient encouraged to increase fluids.',\n",
       " 'Return for fever chills or back pain.',\n",
       " 'Right hip pain.',\n",
       " 'Does not seem related to UTI.',\n",
       " 'Naprosyn mg b.i.d.',\n",
       " 'with no refill.',\n",
       " 'Return to clinic as scheduled .',\n",
       " 'Diane Ullah RNC ANP DUtyreeludwig',\n",
       " 'Record date August Dr. Mabel Duvall Medicine Department Bellflower Doctors Hospital RE TUTTLE Sandy MR DOB January',\n",
       " 'Dear Dr. Duvall Thank you for referring Mr. Sandy Tuttle to our Neurology Department.',\n",
       " 'I understand that he is referred here for evaluation of polyneuropathy.',\n",
       " 'Mr. Tuttle is a yearold righthanded diabetic man who has developed numbness of his lower extremities since .',\n",
       " 'The numbness started in his toes and gradually spread proximally up to the level of the knees.',\n",
       " 'In the numbness started to affect his hands.',\n",
       " 'In the patient noted atrophy of the first dorsal interosseous muscles of both hands left worse than right.',\n",
       " 'The patient denies any pain in his legs or feet.',\n",
       " 'He has a five year history of localized low back pain and neck pain radiating to his left upper extremity all the way down to his hands.',\n",
       " 'In the patient fell down a ladder from a height of about feet.',\n",
       " 'According to the patient he herniated a cervical disk but surgery was not indicated.',\n",
       " 'He remembers having pain in his left elbow and neck after the fall.',\n",
       " 'The patient developed impotence and constipation in .',\n",
       " 'In he started to have symptoms of orthostatic hypotension which he described as feeling lightheaded darkening of vision upon standing.',\n",
       " 'The patient also noted gait imbalance in prior to his retirement in .',\n",
       " 'PAST MEDICAL HISTORY',\n",
       " 'Insulin dependent diabetes since hypertension hypercholesterolemia constipation impotence macular degeneration of the eyes retinopathy sp laser treatments history of neck pain and low back pain as mentioned above history of gastroesophageal reflux disease skin problems using a number of steroid creams penile implant in .',\n",
       " 'CURRENT MEDICATIONS Atenolol Diltiazem Zestril Mevacor steroid creams Colace metoclopramide Naprosyn insulin.',\n",
       " 'ALLERGIES',\n",
       " 'No known drug allergies.',\n",
       " 'SOCIAL HISTORY',\n",
       " 'The patient is married he has two daughters and years of age.',\n",
       " 'He used to work as a Legal Secretary until he retired in December of .',\n",
       " 'The patient quit smoking in .',\n",
       " 'He denies any history of alcohol or drug abuse.',\n",
       " 'FAMILY HISTORY Father died of unclear cause at the age of .',\n",
       " 'His father was diabetic and had heart problems.',\n",
       " 'Mother died in her s.',\n",
       " 'The patient does not know the cause of death.',\n",
       " 'The patient had one brother who died in his s from diabetic complications.',\n",
       " 'He had two sister who died of diabetic complications.',\n",
       " 'Of his two living sisters one of them is also a diabetic.',\n",
       " 'The patients daughters are not diabetic.',\n",
       " 'There is no known family history of neuromuscular disorders.',\n",
       " 'PHYSICAL EXAMINATION Range of motion of the neck is limited.',\n",
       " 'Head turning degrees to either side.',\n",
       " 'Limited neck extension.',\n",
       " 'Negative straightleg raising.',\n",
       " 'Negative spine tenderness.',\n",
       " 'Regular cardiac rhythm no heart murmur.',\n",
       " 'Negative carotid bruits.',\n",
       " 'In the supine position blood pressure heart rate and regular.',\n",
       " 'Upon standing blood pressure dropped to heart rate remained .',\n",
       " 'The patient was asymptomatic.',\n",
       " 'NEUROLOGICAL EXAMINATION Mental status Alert coherent and appropriate.',\n",
       " 'The patient knows the name of his physician Dr. Duvall Dr. Villagomez and Dr. Goldberg at Pioneer Home.',\n",
       " 'Cranial nerves Visual fields full.',\n",
       " 'Visual acuity with reading glasses on the right on the left.',\n",
       " 'Extraocular movements full.',\n",
       " 'No nystagmus.',\n",
       " 'Pupils sluggishly reactive to light.',\n",
       " 'Optic discs flat bilaterally.',\n",
       " 'No facial asymmetry.',\n",
       " 'The tongue and soft palate move symmetrically.',\n",
       " 'Motor examination Atrophy of the first dorsal interosseous and ADM worse on the left hand.',\n",
       " 'No atrophy of the abductor pollicis brevis.',\n",
       " 'Negative arm drift.',\n",
       " 'Motor strength testing in all muscles of both upper extremities except for weakness of the first dorsal interosseous and abductor digiti minimi bilaterally.',\n",
       " 'No weakness of the abductor pollicis brevis on either hand.',\n",
       " 'Motor strength testing of the lower extremities except for mild weakness of toe extensors bilaterally.',\n",
       " 'The patient was able to walk on his toes and heels while holding onto the examiner.',\n",
       " 'Deep tendon reflexes bilaterally at the biceps triceps and knees.',\n",
       " 'Absent ankle jerks bilaterally.',\n",
       " 'Toes downgoing.',\n",
       " 'No spasticity of the lower extremities.',\n",
       " 'Sensory examination Significant for absent pin prick sensation in both feet up to the level of the knees.',\n",
       " 'Pin prick sensation is diminished in the dorsal aspect of all fingers and the palmar aspect of both hands.',\n",
       " 'Vibratory sensation absent in the toes intact at the ankles and knees bilaterally.',\n",
       " 'Intact vibratory sensation in the upper extremities.',\n",
       " 'Romberg test significant for body swaying',\n",
       " 'but the patient did not fall.',\n",
       " 'Tandem gait was poor but improved when holding the examiner.',\n",
       " 'No limb ataxia.',\n",
       " 'LABORATORY DATA Review of previous laboratory tests of May BUN creatinine .',\n",
       " 'glucose .',\n",
       " 'December TSH normal.',\n",
       " 'October B normal.',\n",
       " 'Negative RPR.',\n",
       " 'The patient said he was tested negative for HIV in and .',\n",
       " 'MRI of the brain in and revealed bilateral white matter changes in the cerebral hemisphere without any intracranial mass lesion.',\n",
       " 'ASSESSMENT AND PLAN',\n",
       " 'In summary we have a yearold diabetic man who appears to have significant sensorimotor polyneuropathy with autonomic involvement.',\n",
       " 'He does have constipation and impotence as well as orthostatic hypotension.',\n",
       " 'As we discussed on the phone his antihypertensive medications need to be adjusted and the patient will be following up with you regarding this.',\n",
       " 'He may benefit from Jobst stockings to reduce his symptoms of orthostatic hypotension.',\n",
       " 'I will be ordering an EMG to assess his polyneuropathy and look for any evidence of superimposed ulnar neuropathy or cervical radiculopathy on the left.',\n",
       " 'The EMG should also include RR interval variations and sympathetic skin responses.',\n",
       " 'MRI of the cervical spine was also ordered to rule out any cord compression which may also contribute to loss of sensation in the legs.',\n",
       " 'The patient does have a history of traumatic cervical herniated disk in .',\n",
       " 'He may also have had a left elbow injury at this time which can make him prone to develop tardy ulnar palsy.',\n",
       " 'The patient will return for a followup visit after the above tests.',\n",
       " 'Thank you again for referring Mr. Sandy Tuttle to our Neurology Department.',\n",
       " 'Sincerely Stanly Lang M.D. cc Dr. T. VillagomezInternal Medicine F Bellflower Doctors Hospital DD DT QY',\n",
       " 'Record date NORTHWEST IOWA HEALTH CENTER Date November RACINE MAINE Name Quiana Justus NIHC PROGRESS NOTE',\n",
       " 'DOB',\n",
       " 'Quiana is a yearold woman who comes in for followup of her hypertension.',\n",
       " 'Please see her current medication list.',\n",
       " 'She also has a history of diabetes.',\n",
       " 'Over the past few weeks to one month she has been having intermittent right shoulder pain.',\n",
       " 'It is worse with lifting.',\n",
       " 'The pain is in her deltoid muscle and radiates a little bit across her upper back.',\n",
       " 'It is worse if she actually lies on her shoulder at night.',\n",
       " 'There is no history of trauma no neck pain',\n",
       " 'no upper extremity numbness or weakness except for occasional left thumb numbness.',\n",
       " 'The thumb numbness resolves if she shakes her hand.',\n",
       " 'She is also having bilateral knee pain when she walks.',\n",
       " 'There is no swelling or effusion or heat in her knees.',\n",
       " 'She had been on Vioxx for her spinal stenosis but stopped it because it was not helping her spinal stenosis pain.',\n",
       " 'Instead for her shoulder pain she has been taking Advil mg and up to per day.',\n",
       " 'She takes the Advil with food or milk and is not having any GI upset from it.',\n",
       " 'She is having a lot of stresses with her husband whom she feels may have some early memory problems.',\n",
       " 'His minimental status on his last exam was a .',\n",
       " 'However he makes according to her arbitrary decisions does not complete projects he starts and not as taskoriented as he used to be.',\n",
       " 'He does not complete tasks or shopping errands that she would like him to do.',\n",
       " 'We discussed that he should make a followup appointment to see me to repeat his minimental status exam but that some of these problems are not likely to be easily resolvable and that she might benefit from finding ways to manage her anxiety and stress level.',\n",
       " 'She does get very anxious and upset at times.',\n",
       " 'She had been considering taking Ativan p.r.n.',\n",
       " 'when she gets very upset and frustrated.',\n",
       " 'She is also having stressors with her grandson who lives next door and has a problem with substance abuse and questionable money issues.',\n",
       " 'She denies chest pain PND orthopnea or edema.',\n",
       " 'She is on her diabetes medication.',\n",
       " 'She likes going to work because that gets her out of the house.',\n",
       " 'ON EXAMINATION',\n",
       " 'She is a pleasant animated woman in no acute distress.',\n",
       " 'Her blood pressure initially was .',\n",
       " 'After discussing her situation with her husband her blood pressure was .',\n",
       " 'Neck supple without JVD or bruits.',\n",
       " 'Lungs are clear without rales or rhonchi.',\n",
       " 'Cardiac exam shows a regular rate and rhythm and normal S S without S S or murmurs.',\n",
       " 'She has no peripheral edema.',\n",
       " 'ASSESSMENT AND PLAN Hypertension poor control.',\n",
       " 'Will increase her Zestril to mg p.o.',\n",
       " 'q.d.',\n",
       " 'Her daughter Iyanna Field who is a registered nurse will continue to monitor her blood pressure.',\n",
       " 'Right shoulder pain.',\n",
       " 'On exam she has good range of motion of her shoulder and her muscle strength and reflexes are intact.',\n",
       " 'She can continue the Advil p.r.n.',\n",
       " 'but should take it with antacids or something to protect her stomach.',\n",
       " 'Adultonset diabetes.',\n",
       " 'We will check her Hemoglobin Ac.',\n",
       " 'She will follow up for her complete physical in May.',\n",
       " 'Ida Xayachack M.D. IXdelarosaaustin',\n",
       " 'Record date EDVISITROOT PERCYCARR',\n",
       " 'RACHEL',\n",
       " 'The patient was seen in conjunction with resident Dr. Anderson.',\n",
       " 'PAs note was reviewed.',\n",
       " 'The patient was seen and examined by me.',\n",
       " 'Please see the PAs note for details of the patients past medical social family history review of systems and physical exam.',\n",
       " 'CHIEF COMPLAINT Rash on legs.',\n",
       " 'HISTORY OF PRESENT ILLNESS',\n",
       " 'A yearold man brought in by his family complaining of a pruritic rash on his bilateral ankles and today both ankles are slightly more swollen than usual.',\n",
       " 'He has no difficulty breathing no chest pain.',\n",
       " 'The patient used to live in England days ago arrived in Frankenmuth to live now permanently with his family here.',\n",
       " 'He has a history of heart problems for which he is taking Lasix enalapril and amlodipine and is compliant with these medications.',\n",
       " 'He says initially his legs were not swollen.',\n",
       " 'It was only today that the family happened to notice as he was complaining of a rash that he had slightly increased swelling of these ankles bilaterally.',\n",
       " 'The patients daughter reports that she bought him new long underwear and noticed that the rash began where the underwear elastic band hit his ankles in that similar distribution there is pruritus with evidence of excoriation.',\n",
       " 'He also does have evidence of chronic venous stasis changes in his legs.',\n",
       " 'The leg swelling is equal bilaterally does not extend to the calf and is minimal.',\n",
       " 'The patient reports that he coughs when he is out in the cold Frankenmuth air but does not produce any sputum.',\n",
       " 'Has baseline orthopnea and PND of pillows which has not changed.',\n",
       " 'He has had no worsening shortness of breath and no chest pain.',\n",
       " 'PAST MEDICAL HISTORY Significant for hypertension TIA.',\n",
       " 'He has no history of DVT.',\n",
       " 'PAST SURGICAL HISTORY',\n",
       " 'No significant surgical procedures.',\n",
       " 'SOCIAL HISTORY',\n",
       " 'He is a past smoker does not drink or use drugs.',\n",
       " 'Lives with his family.',\n",
       " 'FAMILY HISTORY Noncontributory.',\n",
       " 'REVIEW OF SYSTEMS Otherwise negative.',\n",
       " 'ALLERGIES Has no allergies.',\n",
       " 'PHYSICAL EXAMINATION',\n",
       " 'He is awake alert in no distress afebrile.',\n",
       " 'Normal and stable vital signs saturating on room air.',\n",
       " 'His exam is unremarkable except for excoriation to the bilateral ankles with chronic venous stasis changes bilaterally and trace edema bilaterally equal and the ankles only down to the mid foot.',\n",
       " 'He has strong and equal dorsalis pedis pulses in the feet.',\n",
       " 'The rest of his examination is unremarkable with clear lungs and breath sounds.',\n",
       " 'EMERGENCY DEPARTMENT COURSE',\n",
       " 'The patient said has no plans to get a doctor in America.',\n",
       " 'He filled out an application for Frankenmuth Care on arrival to the Emergency Department.',\n",
       " 'I spoke with him and his family at length about the need to immediately get a primary care doctor.',\n",
       " 'He was given the numbers for the Tobey Hospital and Heritage Residence.',\n",
       " 'He has about weeks of his medications left and he is told that he will need to see .',\n",
       " 'The family understands the urgency of this situation.',\n",
       " 'PRIMARY DIAGNOSIS Today is dermatitis.',\n",
       " 'He is told to continue his medications as prescribed to elevate the feet to decrease the swelling.',\n",
       " 'DISPOSITION Discharged in satisfactory condition to follow up with the primary care physician.',\n",
       " 'CARR',\n",
       " 'RACHEL M.D.',\n",
       " 'D T Dictated By',\n",
       " 'CARR RACHEL eScription document IFFocus Not reviewed by Attending Physician',\n",
       " 'Record date Jensen Clinic Greenfield Drive y.o.',\n",
       " 'here infection on arm.',\n",
       " 'Two days ago injured forearm on sharp corner of counter.',\n",
       " 'Thin flap of skin lifted up.',\n",
       " 'Self treated with irrigation and comporession.',\n",
       " 'Noted redness last night and today.',\n",
       " 'No fever or chills.',\n",
       " 'Medications Asa ACETYLSALICYLIC Acid MG PO QD Albuterol Inhaler PUFF INH QID PRN shortness of breath Premarin CONJUGATED',\n",
       " 'Estrogens .MG',\n",
       " 'Tablets PO QOD Kdur KCL Slow Rel.',\n",
       " 'MEQ Tablets PO QD Take as directed Lipitor',\n",
       " 'ATORVASTATIN MG Tablets PO QD Hctz HYDROCHLOROTHIAZIDE MG Tablets PO QD LISINOPRIL MG Tablets PO QD Take as directed Synthroid LEVOTHYROXINE Sodium MCG Tablets PO QD Celexa CITALOPRAM',\n",
       " 'MG Tablets PO QD Allergies Halothane Gas Unknown liver Social Hx widowed lives alone',\n",
       " 'tob ppd x began quit etoh none no exercise hobbies none TV friends ROS no polyuriapolydipsia Exam T well appearing nontoxic pleasant affect',\n",
       " 'oriented x cooperative Chest cta spine nontender CV rrr',\n",
       " 'nl s s Ext no cce.',\n",
       " 'R arm with lipoma no change in size distal pulses derm shallow ulcer L foream curvilinear shape sx shallow ulcer surrounding erythema x cm diameter',\n",
       " 'no red streaks no lad Data tsh wnl Oct ldl glucose mgdl Oct tsh qns to run AssessmentPlan .',\n",
       " 'cellulitis sp abrasion.',\n",
       " 'No foreign bodies.',\n",
       " 'Treat with Keflex qid x days.',\n",
       " 'rtc wk to reassess.',\n",
       " 'Td booster given today as patient cannot recall last booster.',\n",
       " 'Believes it is more than years maybe longer ago than which is the estimate in the chart. .',\n",
       " 'HTN',\n",
       " 'Tolerating lisinopril mg po qd. .',\n",
       " 'hypothyroid stable dose. recheck TSH .',\n",
       " 'obesity reviewed options to cut calories increase exercise Eric A. Morgan M.D.',\n",
       " 'Record date Mr. Villegas is seen today.',\n",
       " 'I have not seen him since November.',\n",
       " 'About three weeks ago he stopped his Prednisone on his own because he was gaining weight.',\n",
       " 'He does feel that his shoulders are definitely improved.',\n",
       " 'It is unclear what he is actually taking but I think based on the color of his pills and the timing of the medication that he continues taking his Atenolol for hypertension and Hydroxychloroquine tablet.',\n",
       " 'He is concerned because of the relatively recent onset of difficulties turning his head to the right.',\n",
       " 'When he does this he will note that he feels as though he is going to pass out although this has not actually happened.',\n",
       " 'This only occurs when he turns to the right and not to the left.',\n",
       " 'He has no visual changes otherwise and denies any headache or other cranial complaints.',\n",
       " 'On examination today BP .',\n",
       " 'He has no bruits over the carotid.',\n",
       " 'He has no tenderness in this region either.',\n",
       " 'He has good peripheral pulses at the arms.',\n",
       " 'His joint examination is much improved with better ROM of the shoulders and no peripheral joint synovitis.',\n",
       " 'Clinical Impression Inflammatory arthritis possibly RA with response noted to Hydroxychloroquine along with Prednisone.',\n",
       " 'He has stopped the Prednisone and I would not restart it yet.',\n",
       " 'New onset of symptoms suspicious for rightsided carotid disease.',\n",
       " 'Will arrange for carotid ultrasound studies.',\n",
       " 'Patient advised to call me if he develops any worsening symptoms.',\n",
       " 'He has been taking aspirin per day prophylaxis longterm and I stressed that he continue to do so.',\n",
       " 'He will followup with me shortly after the ultrasound study.',\n",
       " 'Xzavian G. Tavares M.D. XGTholmes DD DT DV Approved but not reviewed by Attending Provider',\n",
       " 'Record date SILVER RIDGE',\n",
       " 'EMERGENCY DEPT VISIT OROZCOKYLE VISIT DATE PRESENTING COMPLAINT Groin abscess.',\n",
       " 'HISTORY OF PRESENTING',\n",
       " 'COMPLAINT',\n",
       " 'This is a yearold male who had a renal catheterization via the right groin for renal artery stenosis on who now comes in with progressive redness swelling and some drainage over the last two days.',\n",
       " 'Some low grade fever no chills no rigors no cough no chest pain.',\n",
       " 'PAST MEDICAL HISTORY Angioplasty of his renal artery insulin dependent diabetes mellitus hypertension.',\n",
       " 'MEDICATIONS Zestril Zocor hydrochlorothiazide insulin.',\n",
       " 'ALLERGIES',\n",
       " 'No known drug allergies.',\n",
       " 'PHYSICAL EXAMINATION',\n",
       " 'This is a wellnourished welldeveloped male.',\n",
       " 'SKIN Warm and dry without rash or diaphoresis.',\n",
       " 'HEENT Normocephalic atraumatic pupils are equal round and reactive to light.',\n",
       " 'NECK',\n",
       " 'Supple full range of motion.',\n",
       " 'LUNGS Clear.',\n",
       " 'HEART Regular rate and rhythm.',\n",
       " 'ABDOMEN Soft and nontender.',\n",
       " 'The right groin has a purulent abscess which is extremely tender.',\n",
       " 'It is not pulsatile.',\n",
       " 'There is purulent drainage from it.',\n",
       " 'There is some surrounding erythema that extends on to the testicles.',\n",
       " 'The testicles are nontender.',\n",
       " 'CONSULTATIONS including PCP I have discussed the case with the primary care physician.',\n",
       " 'FINAL DIAGNOSIS Groin abscess.',\n",
       " 'DISPOSITION including condition upon discharge The patient is admitted to the operating room in stable condition.',\n",
       " 'XW FILBERT BRIGHT M.D. FB D T Dictated by FILBERT BRIGHT M.D. FB Not reviewed by Attending Physician',\n",
       " 'Record date BCH EMERGENCY DEPT VISIT HESSCLARENCE H VISIT DATE HISTORY OF PRESENTING',\n",
       " 'COMPLAINT',\n",
       " 'The patient is a year old male with complaints of chest pain and throat tightness.',\n",
       " 'The patient reported that he was stuck in traffic for about hours last night and apparently got very tense.',\n",
       " 'He felt some heat from his car thought that it was overheating and then developed some chest pain and throat tightness.',\n",
       " 'He really described what seems to be fleeting chest tightness and no diaphoresis no shortness of breath and no arm numbness or tingling.',\n",
       " 'However he did have one associated symptom of some throat tightness.',\n",
       " 'PAST MEDICAL HISTORY',\n",
       " 'The patient has had a stress test one year ago that was normal.',\n",
       " 'He had an echocardiogram at that time that was also normal.',\n",
       " 'MEDICATIONS',\n",
       " 'Claritin Proventil and cimetidine.',\n",
       " 'ALLERGIES Morphine sulfate.',\n",
       " 'PHYSICAL EXAMINATION VITAL SIGNS',\n",
       " 'The patient is afebrile.',\n",
       " 'Vital signs are normal.',\n",
       " 'HEENT Normal.',\n",
       " 'NECK Supple.',\n",
       " 'LUNGS Clear bilaterally.',\n",
       " 'CARDIAC Regular rate and rhythm without murmur.',\n",
       " 'ABDOMEN Soft and nontender.',\n",
       " 'EXTREMITIES Negative.',\n",
       " 'No CVA tenderness.',\n",
       " 'LABORATORY EVALUATION EKG shows normal sinus rhythm.',\n",
       " 'There is no change in his electrocardiogram.',\n",
       " 'Chest xray is clear.',\n",
       " 'CK is .',\n",
       " 'Troponin is Electrolytes are normal.',\n",
       " 'BUN and creatinine are and Hematocrit is white count normal.',\n",
       " 'THERAPY',\n",
       " 'RENDEREDCOURSE',\n",
       " 'IN ED The patient is a year old male with a fleeting episode of chest pain and throat tightness while stuck in traffic.',\n",
       " 'He was seen at Southwest Texas Medical Center and then sent here appearing somewhat anxious with a normal physical examination normal EKG normal chest xray and normal metabolic panel.',\n",
       " 'Most likely low probability for ischemia.',\n",
       " 'Risk factors are also very low.',\n",
       " 'DISPOSITION including condition upon discharge The patient is going to be admitted to the Short Stay Unit for a rule out MI protocol and possibly for another ETT.',\n",
       " 'NE VICTOR T. BONNER M.D.',\n",
       " 'VB D T Dictated by',\n",
       " 'VICTOR T. BONNER M.D. VB Not reviewed by Attending Physician',\n",
       " 'Record date DAMERON EMERGENCY',\n",
       " 'DEPT VISIT VALENZUELABRIAN VISIT',\n",
       " 'DATE',\n",
       " 'The patient was seen by me in the emergency department on with the resident.',\n",
       " 'The residents notes were reviewed and the patient interviewed was examined by me.',\n",
       " 'The patients complete history is limited by change in mental status and multiple sclerosis.',\n",
       " 'The patient was transferred from an Ellijay home.',\n",
       " 'PRESENTING COMPLAINT Nausea and vomiting.',\n",
       " 'HISTORY OF PRESENTING',\n",
       " 'COMPLAINT',\n",
       " 'The patient is a yearold with nausea and vomiting for the past hours rigid abdomen and no bowel sounds.',\n",
       " 'He has had some feculent emesis over the last day.',\n",
       " 'REVIEW OF SYSTEMS',\n",
       " 'No fevers or chills no bright red blood per rectum or melena but did have liquid stool earlier today.',\n",
       " 'PAST MEDICAL HISTORY Hypertension multiple sclerosis and anemia.',\n",
       " 'PHYSICAL EXAMINATION GENERAL',\n",
       " 'The patient is awake.',\n",
       " 'LUNGS',\n",
       " 'Scattered rhonchi otherwise clear.',\n",
       " 'HEART Regular rate and rhythm.',\n",
       " 'ABDOMEN Distended with absent bowel sounds nontender.',\n",
       " 'NEUROLOGICAL Nonfocal.',\n",
       " 'LABORATORY EVALUATION Remarkable for a glucose of BUN creatinine .',\n",
       " 'sodium potassium .',\n",
       " 'chloride bicarb lipase calcium White count .',\n",
       " 'hematocrit platelet count .',\n",
       " 'KUB reviewed by me shows distended small bowel and large bowel consistent with a large bowel obstruction versus an ileus.',\n",
       " 'THERAPY RENDEREDCOURSE',\n",
       " 'IN ED A nasogastric tube was placed.',\n",
       " 'CONSULTATIONS including PCP Surgery.',\n",
       " 'FINAL DIAGNOSIS Large bowel obstruction.',\n",
       " 'DISPOSITION including condition upon discharge The patient will be admitted.',\n",
       " 'Surgery was consulted.',\n",
       " 'The patient was admitted in stable condition.',\n",
       " 'GJ HAROLD OSBORNE M.D. HO D T Dictated by HAROLD OSBORNE M.D. HO Not reviewed by Attending Physician',\n",
       " 'Record date Personal Data and Overall Health year old right handed man with pure motor hemiparesis synrdrome on right from L IC stroke in .',\n",
       " 'History of Present Illness Mr. Slater comes to the stroke clinic today for an initial visit and second opinion for leftsided weakness starting in .',\n",
       " 'He was golfing at the time and suddenly developed weakness with no sensory changes.',\n",
       " 'The weakness involved the face arm and leg on the left side only.',\n",
       " 'He went to Gilmore Hospital where they checked his blood pressure and found it to be per his report.',\n",
       " 'A CT scan was performed and he was informed that it was normal.',\n",
       " 'He became frustrated with the ER there and signed out AMA.',\n",
       " 'He went to the HCH at Easton days later his BP was still elevated and they started him on clonidine.',\n",
       " 'They attempted to arrange for a renal angiogram to work up his hypertension but he declined.',\n",
       " 'No further strokeTIA workup was performed.',\n",
       " 'He comes to me for a second opinion regarding his workup.',\n",
       " 'His weakness has greatly improved but not back to normal.',\n",
       " 'He has never had sensory changes and no speech difficulties anosognosia neglect or gait instability.',\n",
       " 'He did have flashing lights in both eyes for fifteen minutes at the onset of the symptoms on the golf course but none since then.',\n",
       " 'He has never had transient monocular blindness diplopia or suddenly blurry vision.',\n",
       " 'Past Medical History Hypertension.',\n",
       " 'He is being worked up for possible renal artery stenosis.',\n",
       " 'He has not had his cholesterol checked.',\n",
       " 'Medications PROPRANOLOL PROPRANOLOL',\n",
       " 'HCL MG PO BID Start Date HCTZ HYDROCHLOROTHIAZIDE .MG',\n",
       " 'PO QD Start Date CLONIDINE HCL .MG',\n",
       " 'PO BID Start Date ZESTRIL LISINOPRIL',\n",
       " 'MG PO QD',\n",
       " 'Start Date ASA ACETYLSALICYLIC ACID',\n",
       " 'MG PO QD Start Date Allergies NKDA Social History lives in Avenal.',\n",
       " 'Retired journalist.',\n",
       " 'Widowed.',\n",
       " 'quit smoking in June former ppd x years.',\n",
       " 'EtOH couple of drinks times per week.',\n",
       " 'Family History HTN in mother aunt.',\n",
       " 'Father died of cancer.',\n",
       " 'No stroke Review of Systems denies chest pain SOB palpitations.',\n",
       " 'Exam HEENT NCAT OP clear.',\n",
       " 'Neck supple no bruits.',\n",
       " 'Lungs CTA bilaterally.',\n",
       " 'CV RRR no MRG.',\n",
       " 'Abd soft NTND BS.',\n",
       " 'EXT no CCE Neuro A Ox.',\n",
       " 'Speech fluent nondysarthric.',\n",
       " 'Naming repetition intact.',\n",
       " 'STM at min.',\n",
       " 'Follows step RL commands.',\n",
       " 'CN VFFTC EOMI without nystagmus.',\n",
       " 'PERRL facial sensation symmetry and strength intact.',\n",
       " 'Hearing intact bilaterally.',\n",
       " 'Palate moves symmetrically.',\n",
       " 'SCM strength full bilaterally.',\n",
       " 'Tongue midline.',\n",
       " 'Motor nl bulk and tone.',\n",
       " 'Power throughout.',\n",
       " 'No drift.',\n",
       " 'Sensation intact to LT PP temp vib PS throughout.',\n",
       " 'Coord nl FNF HKS bilaterally.',\n",
       " 'Gait normalbased good toe heel and tandem walk.',\n",
       " 'DTRs throughout toes downgoing.',\n",
       " 'Plan I have reviewed Mr. Slaters CT scan',\n",
       " 'and he has a lacunar infarct of the left posterior internal capsule which explains his pure motor hemiparesis syndrome.',\n",
       " 'I have counseled him that most likely the best treatment for this type of stroke is to control his hypertension and to use antiplatelet agents.',\n",
       " 'I have asked that he increase his dose of ASA to mg per day.',\n",
       " 'In addition he needs a work up.',\n",
       " 'I have arranged for him to have CNIS hour',\n",
       " 'Holter monitoring and TTE with bubble study.',\n",
       " 'Additionally we should check fasting lipids.',\n",
       " 'He wishes to have a PCP at FPC and I have requested that he have the next available appointment with Dr. Harry Tolliver of the cardiology department who could also be instrumental in adjusting his hypertension meds.',\n",
       " 'He will return to clinic in months and is to page me immediately with any new symptoms or concerns.',\n",
       " 'CC Dr. Harry Tolliver FPC cardiology unit.',\n",
       " 'Record date AH EMERGENCY DEPT VISIT BRANCHEARNEST VISIT DATE HISTORY OF PRESENTING',\n",
       " 'COMPLAINT',\n",
       " 'This patient was examined and treated in conjunction with a resident.',\n",
       " 'Briefly the history is as follows The patient is a year old male with end stage renal disease on hemodialysis who was referred for abdominal discomfort and fever.',\n",
       " 'His abdominal discomfort had begun within the preceding hours and had gradually worsened.',\n",
       " 'He had pain in the left lower quadrant radiating to the rectal area.',\n",
       " 'He did have one diarrheal bowel movement.',\n",
       " 'He specifically denied bleeding.',\n",
       " 'PHYSICAL EXAMINATION GENERAL APPEARANCE',\n",
       " 'The patient was awake and alert although somewhat sluggish and apparently uncomfortable.',\n",
       " 'VITAL SIGNS Blood pressure was pulse initial temperature .',\n",
       " 'respiratory rate .',\n",
       " 'HEENT Pupils were equal.',\n",
       " 'Sclerae were anicteric.',\n",
       " 'The oropharynx showed normal architecture.',\n",
       " 'NECK Supple.',\n",
       " 'CARDIOVASCULAR Regular rate and rhythm.',\n",
       " 'LUNGS',\n",
       " 'The breath sounds were essentially clear.',\n",
       " 'ABDOMEN',\n",
       " 'There was mild to moderate diffuse tenderness.',\n",
       " 'No definite mass can be appreciated.',\n",
       " 'Bowel sounds were diminished.',\n",
       " 'RECTAL Stool is guaiacnegative per the residents examination.',\n",
       " 'EXTREMITIES Examination of the left thigh showed slight drainage at a recent surgical incision site.',\n",
       " 'LABORATORY EVALUATION Electrolytes showed sodium potassium .',\n",
       " 'chloride CO BUN creatinine .',\n",
       " 'glucose .',\n",
       " 'White blood cell count was hematocrit .',\n",
       " 'Chest xray showed no definite infiltrate.',\n",
       " 'Abdominal xray showed dilated loops of small bowel.',\n",
       " 'EKG showed no change from previous tracings.',\n",
       " 'THERAPY RENDEREDCOURSE',\n",
       " 'IN ED The assessment and plan were reviewed with the resident.',\n",
       " 'FINAL DIAGNOSIS I confirm the provisional diagnosis of abdominal pain with question of deep venous thrombosis versus sepsis from as yet unidentified source.',\n",
       " 'DISPOSITION including condition upon discharge The care plan was reviewed.',\n",
       " 'The patient was started on antibiotics and ultimately admitted to the hospital for definitive evaluation and further care.',\n",
       " 'RD FRANK E. BENDER M.D. FB D T Dictated by FRANK E. BENDER M.D. FB Not reviewed by Attending Physician',\n",
       " 'Record date Melissa Cummings HGH Unit No SAINT VINCENT HOSPITAL ADULT MEDICINE Date September Weight .',\n",
       " 'The patient returns from Paraguay.',\n",
       " 'States while there had problems with her stomach.',\n",
       " 'Was treated by MD there with what sounds like GERD but was attempted to be treated for H. pylori.',\n",
       " 'Brings in medicines all of which she took for one week.',\n",
       " 'They are Flagyl mg b.i.d.',\n",
       " 'Metoclopramide mg q.i.d.',\n",
       " 'PC Patoprazol mg q.d.',\n",
       " 'All have been completed.',\n",
       " 'CURRENT MEDICATIONS',\n",
       " 'Lipitor',\n",
       " 'mg',\n",
       " 'b.i.d.',\n",
       " 'atenolol mg b.i.d.',\n",
       " 'Zestril mg q.d.',\n",
       " 'Glyburide mg tablets tabs b.i.d.',\n",
       " 'Patient occasionally does not take pills at supper as she is still fearful of hypoglycemia clonazepam mg b.i.d.',\n",
       " 'NTG p.r.n.',\n",
       " 'Bayer aspirin and eye drops.',\n",
       " 'Abdominal pain Off medicine.',\n",
       " 'Symptoms have resolved.',\n",
       " 'Currently on no treatment for GI symptoms.',\n",
       " 'Diabetes mellitus FBS .',\n",
       " 'p.m. p.m. p.m. .',\n",
       " 'The patient does not check prior to supper.',\n",
       " 'States she is fearful she will die during night if sugar gets too low therefore occasionally does not take pills before supper and gets higher readings at night in the s to s.',\n",
       " 'Generally avoids sweets in diet.',\n",
       " 'Takes evening pills with dinner at approximately or .',\n",
       " 'RHCM Was scheduled Dr. Yelverton for a sigmoidoscopy .',\n",
       " 'Apparently is office called and cancelled it and patient is waiting to be rescheduled.',\n",
       " 'HTN No chest pain shortness of breath or palpations.',\n",
       " 'PE Blood pressure right arm .',\n",
       " 'Chest is clear.',\n",
       " 'Cardiac regular rhythm at no murmur or gallop.',\n",
       " 'Extremities',\n",
       " 'No edema.',\n",
       " 'Labs from Hemoglobin AC .',\n",
       " 'BUN creatinine . lytes normal SGOT normal.',\n",
       " 'CBC normal.',\n",
       " 'Melissa Cummings HGH Unit No SAINT VINCENT HOSPITAL ADULT MEDICINE Date September Page AP Diabetes mellitus Irregular control secondary to patient s selfadjustment of medicine.',\n",
       " 'Have asked patient to check blood sugar prebreakfastpredinner.',\n",
       " 'If sugar below predinner may decrease Glyburide evening dose.',\n",
       " 'If sugar or greater continue the mg dose with supper.',\n",
       " 'HTN Reasonable control.',\n",
       " 'Continue current treatment.',\n",
       " 'Epigastric pain Currently stable monitor.',\n",
       " 'Routine health maintenance UTD.',\n",
       " 'Mammogram normal.',\n",
       " 'Return to clinic in three months to Dr. Eng.',\n",
       " 'Kimberly I Kidd RNC ANP KIespinozanolen',\n",
       " 'Record date July Jacob Bautista M.D. Eldorado Circle Coeburn WA',\n",
       " 'Re Umstead Kenneth MR Dear Jac I saw your patient Kenneth Umstead in the Cardiology office today and he seems to be doing very well from a cardiovascular perspective.',\n",
       " 'Apparently he has had guaiac positive stools and has undergone a colonoscopy with the identification of four polyps.',\n",
       " 'Three have been removed and he then had a GI bleed.',\n",
       " 'This has been reevaluated and he has been stable.',\n",
       " 'The fourth polyp will need to be removed at a later time.',\n",
       " 'At this point his aspirin has been discontinued for a number of days and the Lopid was also discontinued apparently because of increased liver function tests.',\n",
       " 'His current medications therefore include Lasix mg per day Metoprolol mg qd',\n",
       " 'Nifedipine XL',\n",
       " 'mg qd.',\n",
       " 'He is aware of a belching and burping sensation after eating but otherwise no exertional or other related symptoms.',\n",
       " 'He is reasonably active but somewhat limited by his claudication.',\n",
       " 'On exam today he is comfortable with a blood pressure of a heart rate of and regular.',\n",
       " 'Head and neck were unremarkable.',\n",
       " 'Chest is clear.',\n",
       " 'Cardiac exam showed no jugular venous distension at degrees.',\n",
       " 'PMI is normal.',\n",
       " 'S and S are normal with a physiologic split.',\n",
       " 'There is an S and a IVI systolic ejection murmur at the left sternal border.',\n",
       " 'Abdominal exam was unremarkable.',\n",
       " 'Extremities showed no edema or cyanosis.',\n",
       " 'His resting lead electrocardiogram demonstrates normal sinus rhythm with left axis deviation and a nonspecific left intraventricular conduction delay.',\n",
       " 'Jacob Bautista M.D.',\n",
       " 'Re Umstead Kenneth July Page I think Mr. Umstead is basically doing quite well.',\n",
       " 'It would be of value to repeat an exercise test since he has not had one since .',\n",
       " 'He had minimal ischemia at that time.',\n",
       " 'There are no symptoms that would prompt cardiac catheterization at this point and we will see how he does on the exercise test with the objective findings.',\n",
       " 'If any problems develop please dont hesitate to contact me.',\n",
       " 'Thank you very much for allowing me to help with his care.',\n",
       " 'Kindest personal regards.',\n",
       " 'Sincerely yours Marshall O. Lehman M.D. DD DT DV MOLtroutman WILSON MEDICAL CENTER Pinecrest Rd.',\n",
       " 'Tonkawa WA Approved but not reviewed by Attending Provider',\n",
       " 'Record date Ocampo NathanOliver HDH INTERNAL MEDICINE ASSOCIATES',\n",
       " 'This y.o.',\n",
       " 'white male with hypertension and hypercholesterolemia returns for followup.',\n",
       " 'His cardiovascular review of systems and other review of systems is entirely negative.',\n",
       " 'He takes Niacin SR',\n",
       " 'mg po BID and Enalapril mg po BID.',\n",
       " 'He has no complaints.',\n",
       " 'On examination today his weight is lbs BP is HEENT exam is unremarkable chest is clear heart shows a soft flow murmur abdominal examination is benign rectal is guaiac negative without masses.',\n",
       " 'Assessment',\n",
       " 'The patient is in good stable health.',\n",
       " 'I will draw some blood tests and write him a letter.',\n",
       " 'I will see him in about nine months.',\n",
       " 'Kenneth X. Sylvester M.D. DD DT DV',\n",
       " 'Record date PROBLEMS Diabetes mellitus Hypertension Psoriasis Hysterectomy due to bleeding Gastrectomy partial PUD PVD iliac disease compensated distally MEDICATIONS one touch test strips ATENOLOL MG Tablets PO QD days GLYBURIDE MG .',\n",
       " 'Tablets PO QD yo returns for med refills after yr hiatus.',\n",
       " 'Has not kept up with routine care.',\n",
       " 'Says her FBS are well controlled and feels well.',\n",
       " 'Has continued to see Dr.Hodge annually to review PVD but has not quit smoking.',\n",
       " 'Had eyes checked at SNC mths agoshe says no diabetic changes.',\n",
       " 'tobac ppd PE wgt BP HR lungs Clear to AP cor RRR A. HTN DM smoker PVD compensated wpc P. mammogram hemoccults refuses sigmoidoscopy.',\n",
       " 'HgbAc chol BUN CBC microalbumen.',\n",
       " 'Scedule PE',\n",
       " 'and consider additon of ACEI then.',\n",
       " 'Record date RACHAEL G. OBRYAN M.D. VALLEJO GENERAL HOSPITAL ENDOCRINOLOGY DIVISION Workman Edwin Lunar Lane Brookshire',\n",
       " 'MO Referring Physician Dr. Kenyon Dr. Elmer Ure Vallejo General Cardiology.',\n",
       " 'Referring Diagnosis Status post cardiac transplant.',\n",
       " 'Rule out osteoporosis.',\n",
       " 'HPI Patient is a yearold gentleman with a history of lymphoma diagnosed in when he presented with left axillary enlargement.',\n",
       " 'At the time he was staged by bone marrow transplant which was negative.',\n",
       " 'Whether this was a Hodgkins or nonHodgkis lymphoma is unclear to us but he was treated with bleomycin adriamycin and prednisone for approximately weeks.',\n",
       " 'At that point he was believed to be in remission and stayed in remission since then.',\n",
       " 'In the patient was first diagnosed with diabetes mellitus when he presented with polyuria polydipsia and blurred vision.',\n",
       " 'Subsequently he was treated with oral hypoglycemic agents for one to two years and since that time has been on insulin therapy currently on units of NPH and six of regular in the morning with NPH and six of regular presupper.',\n",
       " 'He currently checks his blood sugars four times a day and runs in the range with average being about and is followed by Dr. Nicodemus Paz of Queenstown WI his primary care doctor for this.',\n",
       " 'The patients complications of diabetes mellitus are possibly nonexistent.',\n",
       " 'There is no peripheral neuropathy.',\n",
       " 'There is no autonomic neuropathy.',\n",
       " 'No retinal disease.',\n",
       " 'However the patient does have renal disease with baseline creatinine currently of Recently the patient developed congestive heart failure with initial symptoms in the early s.',\n",
       " 'By June of the patient had fairly severe symptoms requiring hospitalizations and in the period of July to June of the patient apparently had myocardial infarctions.',\n",
       " 'In June the patient underwent orthotopic cardiac transplant here at the VGH under the care of Dr. Quentin Fitzpatrick.',\n",
       " 'Since that time the patient has done very well without evidence of rejection with relatively good exercise tolerance and with basically a minimum degree of symptoms.',\n",
       " 'The patients current medications include cyclosporine mg.',\n",
       " 'twice a day prednisone mg.',\n",
       " 'a day.',\n",
       " 'Azathioprine mg.',\n",
       " 'a day Axid mg.',\n",
       " 'twice a day Cardizem mg.',\n",
       " 'a day baby aspirin once a day',\n",
       " 'Cardura mg.',\n",
       " 'once a day and amitriptyline mg.',\n",
       " 'a day for cramping in his legs.',\n",
       " 'Review of Systems Has had one fracture of his right ring finger that was from a trauma some years ago.',\n",
       " 'Other past medical history includes history of sleep apnea and depression and the things mentioned.',\n",
       " 'RACHAEL G. OBRYAN M.D. VALLEJO GENERAL HOSPITAL ENDOCRINOLOGY DIVISION Workman Edwin Lunar Lane Brookshire MO Page Family History His sister aged and mother have osteoporosis with his mother having fairly severe osteoporosis with a normal of vertebral collapses and some nerve damage.',\n",
       " 'His father and mother have had diabetes mellitus his father dying of heart disease.',\n",
       " 'There is a yearold daughter who has a history of migraines.',\n",
       " 'There is no history of thyroid disease in the family.',\n",
       " 'Social History',\n",
       " 'He currently works at Belkin and has a desk job there.',\n",
       " 'He quit smoking and drinking years ago.',\n",
       " 'He has been married for over years.',\n",
       " 'His review of symptoms revealed the absence of GI symptoms.',\n",
       " 'There were no orthostatic symptoms no angina.',\n",
       " 'Normal sexual function.',\n",
       " 'He denied any skin problems or rashes.',\n",
       " 'He denied numbness and tingling in his feet etc.',\n",
       " 'There is a history of hypertension.',\n",
       " 'Other review of systems His height has been stable at tall.',\n",
       " 'Physical Examination Blood pressure .',\n",
       " 'Heart rate .',\n",
       " 'The patient is a wellappearing gentleman somewhat obese.',\n",
       " 'His height is .',\n",
       " 'Weight lbs.',\n",
       " 'which is apparently steadily been increasing.',\n",
       " 'He has a mild Cushingoid appearance with a little bit of posterior cervical and supraclavicular fat.',\n",
       " 'Retina appeared without lesions.',\n",
       " 'Normal extraocular movements.',\n",
       " 'His oral mucosa was moist without evidence of thrush.',\n",
       " 'Neck exam He had a supple neck with no carotid bruits.',\n",
       " 'Normal thyroid.',\n",
       " 'His chest exam revealed clear lung fields with normal excretion.',\n",
       " 'There was no bony tenderness or abnormalities on his back.',\n",
       " 'His cardiac exam He had a soft S S. Cardiac exam otherwise unremarkable.',\n",
       " 'His abdomen was soft.',\n",
       " 'He had some evidence of insulin injections but no significant hypertrophy.',\n",
       " 'He injects both in his abdomen and rotates with his arms.',\n",
       " 'His extremities revealed minimal stasis dermatitis normal pulses and were symmetric.',\n",
       " 'No edema.',\n",
       " 'Neurologically he was diffusely hyporeflexic.',\n",
       " 'He had normal to slightly decreased vibratory sensation in his big toes.',\n",
       " 'Laboratory Exam Most recent laboratories that I could find were February .',\n",
       " 'Sodium .',\n",
       " 'K . chloride .',\n",
       " 'Bicarb .',\n",
       " 'BUN .',\n",
       " 'Creatinine .',\n",
       " 'glucose .',\n",
       " 'His CK was .',\n",
       " 'Calcium Albumin .',\n",
       " 'phosphate Alkaline phosphatase was .',\n",
       " 'Uric acid .',\n",
       " 'magnesium TSH was Cholesterol .',\n",
       " 'Triglycerides .',\n",
       " 'His cyclosporine level was in the therapeutic range at .',\n",
       " 'His CBC revealed a hematocrit of and a white count of .',\n",
       " 'thousand with a normal differential.',\n",
       " 'Assessment and Plan',\n",
       " 'This is a yearold gentleman with a history of multiple medical problems.',\n",
       " 'The ones most pertinent to us currently are',\n",
       " 'RACHAEL G. OBRYAN M.D.',\n",
       " 'VALLEJO GENERAL HOSPITAL ENDOCRINOLOGY DIVISION Workman Edwin Lunar Lane Brookshire MO Page the fact that he is posttransplant has several risk factors for osteoporosis including prednisone use and a family history of osteoporosis.',\n",
       " 'The total amount of exposure to prednisone sounds like it is about a yearandahalf or so with half a year during his chemotherapy years ago and then about a year since his transplant.',\n",
       " 'The patients history of never having had fractures no bone pain',\n",
       " 'no height loss and his body habitus are consistent with someone who might be somewhat more resistant to osteoporosis than many transplant patients.',\n",
       " 'However getting a bone density study in the patient like this makes sense.',\n",
       " 'We will therefore schedule a spinal bone density on his follow up visit since he cannot have one today for scheduling reasons.',\n",
       " 'We will also check vitamin D levels given patients history of renal failure and the fact that the one thing that we might be able to do for him is to give him vitamin D.',\n",
       " 'His calcium intake was estimated to be about mg.',\n",
       " 'a day including one cup of milk green leafy vegetables and one cup of ice cream each day.',\n",
       " 'We would be a little reticent about starting higher doses of calcium given his renal failure without more information about this patient.',\n",
       " 'The patients diabetes seems to be in pretty good repair at the moment with blood sugars under fairly good control sounding like they are in the range although we dont have access to hemoglobin AC.',\n",
       " 'Given the fact that it sounds like he has got pretty good care by Dr. Paz we will not pursue this at the current time unless asked and we will focus primarily on the bone situation.',\n",
       " 'Otherwise we will see the patient back or at least talk to RACHAEL G. OBRYAN M.D. VALLEJO GENERAL HOSPITAL ENDOCRINOLOGY DIVISION Workman Edwin Lunar Lane Brookshire',\n",
       " 'MO Page the patient after we get a bone density and decide when he next needs to be seen.',\n",
       " 'Rachael Obryan M.D. Edwin Foss M.D. cc Nicodemus Paz M.D.',\n",
       " 'Queenstown WI Kevin Kenyon M.D. Cardiology Vallejo General Hospital Pheasant Lane Brookshire MO Elmer Ure M.D. Cardiology Vallejo General Hospital Pheasant Lane Brookshire',\n",
       " 'MO WJKY DD DT DV Approved but not reviewed by Attending Provider',\n",
       " 'Record date July Dr. Keys REFair',\n",
       " 'Bill MR Dear Dr. Keys Dr. Oates and I saw Bill Fair today with regard to his troublesome right knee.',\n",
       " 'As you are aware he is a year old man who is a convenience store manager.',\n",
       " 'He has had a lot of trouble with his right knee over the years mainly related to sports injuries.',\n",
       " 'He has had in particular years of pain now in his right knee.',\n",
       " 'It got so bad months ago that he required large amounts of ibuprofen to relieve that.',\n",
       " 'It has slowly got better since then.',\n",
       " 'At present his main problem is pain in the knee which mainly occurs with activity but he also has rest and night pain.',\n",
       " 'He has a restricted walking distance.',\n",
       " 'With regard to function he is able to carry out his work with difficulty and requires periods of rest in the evening on returning home from work.',\n",
       " 'He has noticed his knee is becoming slowly more bowed.',\n",
       " 'With regard to treatment he has is taking regular analgesia in the form of Tylenol but has recently noticed blood in his stool for which he is going to have a colonoscopy in the near future.',\n",
       " 'He has not tried any canes and has not had any physical therapy as yet.',\n",
       " 'On examination I note he has bilateral varus knees worse on the right than the left.',\n",
       " 'He has an antalgic gait and marked varus thrust.',\n",
       " 'He has a marked effusion that does not have any gross swelling indicative of arthritis.',\n",
       " 'He has a degree fixed flexion deformity and flexes up to degrees.',\n",
       " 'His varus deformity is not fully correctable.',\n",
       " 'He has grade quadriceps power.',\n",
       " 'Xrays reveal marked degenerative changes in his right knee with complete obliteration of joint space on the right side.',\n",
       " 'I note he also has changes in his left knee indicative of medial compartment arthritis but his left knee is currently asymptomatic.',\n",
       " 'We have discussed the operative options for him which consist of high tibial osteotomy a unicompartmental knee replacement and a total knee replacement.',\n",
       " 'At present neither he not Dr. Oates feels that his symptoms are severe enough to warrant operative intervention.',\n",
       " 'We would certainly reconsider should he run into trouble in the next few months aspirating his knee instilling some corticosteroids.',\n",
       " 'We have advised him that this will only provide him with short term relief but may allow him enough relief to begin some walking and fitness in an attempt to lose some weight.',\n",
       " 'We have organized to see him again in months time at which stage we will reassess him.',\n",
       " 'Should he run into trouble in the meantime he cal certainly ring up and make an appointment to come and see us and we will aspirate the knee and instill some corticosteroid.',\n",
       " 'With kind regards.',\n",
       " 'Yours sincerely Oliver M. Oates M.D. DD DT DV Dictated by Xavier Embry M.D. for Oliver M. Oates M.D.',\n",
       " 'OMOvaught',\n",
       " 'RJdkyfbv Not reviewed by Attending Physician',\n",
       " 'Record date Internal Medicine Medical Student Admit Note Patient Xavier S. Kaufman CCH Unit Number Date of Admission September Attending Physician',\n",
       " 'Patrick Yeates Code Status Full Source Patient and chart Chief Complaint Shortness of breath History of The Present Illness Mr. Kaufman is a year old man with a history of Insulinrequiring DM HTN chronic renal failure and Hepatitis C presents with a chief complaint of acute onset shortness of breath.',\n",
       " 'He was in his usual state of health when one week PTA he decided to abruptly discontinue his Fentanyl patch which he had for three years at mg for pain associated with peripheral neuropathy and gastroparesis.',\n",
       " 'He recently decided he no longer wanted to wear the patch because he was concerned about personality changes and side effects of the medication.',\n",
       " 'His PCP instructed him to taper the medication switching him to a mg patch but Mr. Kaufman removed the patch without a taper.',\n",
       " 'He felt fine for a few days but began to experience pain in his feet LE edema insomnia and rhinorrhea.',\n",
       " 'On the day of admission he was watching television when he experienced the acute onset of shortness of breath and chest tightness.',\n",
       " 'He described the chest tightness as like someone sitting on his R chest below his shoulder with a bandlike distribution across his upper chest intermittent nonradiating and somewhat relieved by moving his R shoulder.',\n",
       " 'This pain lasted minutes but his shortness of breath persisted.',\n",
       " 'The shortness of breath was worse with exertion not improved with rest and caused his to take rapid shallow breaths.',\n",
       " 'He also began to have a nonproductive cough this same day.',\n",
       " 'This was the first time he has ever experienced this chest discomfort and shortness of breath.',\n",
       " 'He denies nausea vomiting diaphoresis acid reflux sensation PND orthopnea fever or sick contacts.',\n",
       " 'ED Course Vitals T .',\n",
       " 'BP HR RR Sat on RA Interventions L NS Kayexcelate mg PO ASA mg',\n",
       " 'Norvasc mg PO Nexium mg PO Toprol mg PO Lopressor mg IV Morphine sulfate mg IV MSO mg IV Studies K. AM EKG see Data section CXR see Data section Past MedicalSurgical History Diabetes Mellitus dx years ago used Insulin in past has only used for weeks in past year last HgbAc .',\n",
       " 'complications include peripheral neuropathy retinal disease gastroparesis and numerous LE ulcers Hypertension initially labeled as labile hypertension SBPs often in ss on multiple medical regimens in past Chronic renal failure creatinine .',\n",
       " 'starting in Hepatitis C viral load in thought to be acquired through sexual contact denies IV drug use Allergies Reglan dystonia Medications HCTZ mg PO QD',\n",
       " 'Lisinopril mg PO QD Toprol XL mg PO QD',\n",
       " 'Norvasc mg PO BID Neurontin',\n",
       " 'mg PO QD',\n",
       " 'Protonix mg PO QD Insulin pt states he hasnt taken Insulin in months Social History Lives in Altavista VA with wife and their two children ages and .',\n",
       " 'Retired as statistical programmer at Electronic Data after DM diagnosis years ago.',\n",
       " 'No smoking history heavy drinking history stopped years ago remote drug history of acid and speed use.',\n",
       " 'Family History Father had MI age Review of Systems Please see pertinent positives and negatives in HPI.',\n",
       " 'Physical Examination Vitals upon arriving on floor T .',\n",
       " 'BP HR RR Sat on L General appears stated',\n",
       " 'age wellnourished increased work of breathing NAD',\n",
       " 'HEENT',\n",
       " 'NCAT PERRL moist mucous membranes dentures upper palate NeckNodes no cervical or supraclavicular LAD no carotid bruits JVP cm Pulmonary crackles at R base good air movement bilaterally Cardiac regular rate and rhythm normal S physiologic splitting of S',\n",
       " 'no murmurs Abdomen nondistended bowel sounds present soft nontender',\n",
       " 'no HSM no HJR Skin numerous lesions on LEs in various stages of healing fibroma on upper back Extremities no cyanosis or clubbing trace edema in LEs bilaterally pedal pulses on R pedal pulses on L Neurology alert oriented and appropriate occasionally tangential decreased vibration sense on R to lower calf vibration sense intact on L Data Chemistry Plasma Sodium mmolL Plasma Potassium .',\n",
       " 'mmolL Plasma Chloride H mmolL Plasma Carbon Dioxide .',\n",
       " 'L mmolL Plasma Urea Nitrogen H mgdl Plasma Creatinine .',\n",
       " 'H mgdl Cardiac Enzymes CK H CKMB .',\n",
       " '.H .H',\n",
       " 'CKMBRI . . .',\n",
       " 'TROPT .H',\n",
       " '.H .H',\n",
       " 'Hematology WBC .',\n",
       " 'H thcmm HCT .',\n",
       " 'L PLT thcumm MCV fl MCH .',\n",
       " 'pgrbc MCHC .',\n",
       " 'gdl RDW .',\n",
       " 'H Poly H Lymphs L Monos EOS Basos Absolute Neuts .',\n",
       " 'H thcmm Absolute Lymphs .',\n",
       " 'thcmm Absolute Monos .',\n",
       " 'H thcmm Absolute EOS .',\n",
       " 'thcmm Absolute Basos .',\n",
       " 'thcmm Urine UAGLUC',\n",
       " 'Negative UAKET Negative UASPGR .',\n",
       " 'UABLD see detail UAPH .',\n",
       " 'UAALB UANIT Negative UAWBC Negative MICSED Completed HCAST None GCAST',\n",
       " 'UASRBC',\n",
       " 'UASWBC UASBACT Negative UASSQHI Negative Radiology CXR IMPRESSION MILD INCREASE IN LINEAR OPACITIES LIKELY SECONDARY TO INTERSTITIAL EDEMA.',\n",
       " 'Cardiogram EKG BPM NSR nonspecific T wave abnormalities consisting of inverted T waves in aVL unchanged from previous EKG no evidence of ischemic changes AssessmentPlan',\n",
       " 'In summary Mr. Kaufman is a year old man with a history of insulinrequiring DM hypertension chronic renal failure and Hepatitis C who presents with acute onset shortness of breath and chest tightness in the setting of opioid withdrawal.',\n",
       " 'His initial cardiac markers were positive but are hard to interpret as a sign of ischemia in the setting of renal failure.',\n",
       " 'He has clinical evidence of pulmonary edema and findings on CXR suggestive of interstitial edema.',\n",
       " 'However his JVP was not elevated and he only presented with mild LE edema.',\n",
       " 'His symptoms of shortness of breath are consistent with leftsided heart failure possibly caused by an ischemic event.',\n",
       " 'His acute renal failure has multiple possible etiologies some of which could occur concurrently including CHF drug toxicity lisinopril and NSAIDs DMassociated nephropathy chronic hypertension and renal artery stenosis.',\n",
       " 'Problem List and Plan SOBChest tightness continue to cycle enzymes for RO CXR AP and lateral to assess presence of pulmonary edema TTE diuresis with Lasix',\n",
       " 'mg IV Hydralazine mg QID Isosorbide dinitrate mg PO TID dc Lisinopril continue O at L monitor',\n",
       " 'O sat monitor ins and outs daily weights obtain lipid panel to assess CAD risk factors and need for statin Renal failure acute over chronic baseline nephropathy due to DM and HTN history of protein in urine urine sediment spun no signs of active sediment urinary electrolytes to measure FENa dc Lisinopril dose Neurontin according to renal function consider ruling out renal artery stenosis obtain urinary eosinophils to evaluate for interstitial nephritis Hypertension hypertensive emergency considered but determined to be unlikely due to chronity of elevated SBP at similar values under treatment continue Toprol XL mg',\n",
       " 'QD',\n",
       " 'Norvasc mg BID add Hydralazine mg QID Isosorbide',\n",
       " 'dinitrate mg PO TID monitor BP and signs and symptoms of target organ damage closely Opioid withdrawalpain management Morphine PRN consult pain service DM sliding scale insulin obtain Insulin and C peptide levels because unclear if currently taking Insulin Prophylaxis mg Nexium PO QD Heparin units SC BID',\n",
       " 'Udo O. Zeitler GMS III Pager',\n",
       " 'Record date BOWNE EMERGENCY DEPT',\n",
       " 'VISIT GODWINYAIR VISIT DATE',\n",
       " 'This patient was evaluated and treated in conjunction with a resident.',\n",
       " 'I confirm the history and physical findings as documented on the handwritten record.',\n",
       " 'HISTORY OF PRESENTING COMPLAINT',\n",
       " 'Briefly this is a yearold patient with a history of mild weakness and easy fatigability who was thought to be anemic with a hematocrit of on evaluation at an outside facility.',\n",
       " 'He was referred here for further evaluation.',\n",
       " 'PHYSICAL EXAMINATION GENERAL APPEARANCE',\n",
       " 'The patient is awake alert and in no acute distress.',\n",
       " 'VITAL SIGNS Normal with the exception of a low grade temperature of HEENT Benign.',\n",
       " 'LUNGS',\n",
       " 'The breath sounds are clear.',\n",
       " 'ABDOMEN Soft nontender.',\n",
       " 'LABORATORY EVALUATION Hematocrit is determined to be .',\n",
       " 'EKG is normal.',\n",
       " 'Chest xray shows no evident abnormality.',\n",
       " 'CONSULTATIONS including PCP The patient is seen in the emergency department by the LMC physician as well.',\n",
       " 'FINAL DIAGNOSIS Mild progressive unexplained fatigue.',\n",
       " 'DISPOSITION including condition upon discharge The patient is ultimately discharged with followup for further investigation as an outpatient.',\n",
       " 'Condition upon discharge is stable.',\n",
       " 'JZ HECTOR V. OBRYAN M.D. HO D T Dictated by HECTOR V. OBRYAN M.D. HO Not reviewed by Attending Physician',\n",
       " 'Record date Patient Name YOUNT PATRICIA MRN Dictated at by BRANDON VICENTE M.D.',\n",
       " 'RENAL CONSULT NOTE',\n",
       " 'It is a pleasure seeing seeing Ms. Yount in consultation.',\n",
       " 'She was referred to us by Dr. Michael.',\n",
       " 'Ms. Yount has a history of diabetes mellitus for the last seven years.',\n",
       " 'She also has a long history of hypertension.',\n",
       " 'She retired from IBM in after working there for many years.',\n",
       " 'Her last posting was as a electrical mechanic.',\n",
       " 'She is feeling well.',\n",
       " 'She denies headaches nausea vomiting abdominal pain.',\n",
       " 'She also denies shortness of breath or complex partial seizures.',\n",
       " 'She denies swelling and presence of dysuria fever chills.',\n",
       " 'She is taking her medications regularly.',\n",
       " 'ALLERGIES',\n",
       " 'No known drug allergies.',\n",
       " 'PAST MEDICAL HISTORY .',\n",
       " 'Diabetes mellitus for about seven years. .',\n",
       " 'Hypertension. .',\n",
       " 'PVD .',\n",
       " 'Hypercholesterolemia SOCIAL HISTORY',\n",
       " 'She denies smoking or drinking.',\n",
       " 'She has one son living with her.',\n",
       " 'FAMILY HISTORY',\n",
       " 'Positive for diabetes.',\n",
       " 'MEDICATIONS',\n",
       " 'Norvasc mg q. day',\n",
       " 'Glucophage mg twice a day Glucotrol mg twice a day Avandia',\n",
       " 'mg',\n",
       " 'q. day she had incresed skin itching with attempts to increase the dose Lipitor mg q. day',\n",
       " 'Aspirin mg a day she is not taking aspirin.',\n",
       " 'REVIEW OF SYSTEMS Ms. Yount denies any recent visual change headaches.',\n",
       " 'She denies chest pain shortness of breath nausea vomiting abdominal pain diarrhea constipation dysuria fever chills.',\n",
       " 'PHYSICAL EXAM Ms. Yount looks well.',\n",
       " 'Blood pressure is .',\n",
       " 'Body weight is .',\n",
       " 'Repeat blood pressure is .',\n",
       " 'On examination of head and neck no absolutely.',\n",
       " 'Thyroid is soft nontender no nodules.',\n",
       " 'Chest is clear to percussion and auscultation.',\n",
       " 'Heart regular rate and rhythm no S. Abdomen is soft bowel sounds present.',\n",
       " 'Extremities trace edema.',\n",
       " 'LABORATORY Pending.',\n",
       " 'IMPRESSION Ms. Yount has diabetes and hypertension with a mildly elevated creatinine.',\n",
       " 'Her urine shows presence of protein which suggests diabetic nephropathy.',\n",
       " 'Upon review of her medications she is on a very good medication control and her blood pressure has been well controlled.',\n",
       " 'However today the blood pressure is running higher.',\n",
       " 'I will see her in about two to three months.',\n",
       " 'If her blood pressure continues to be high we should try to increase her dose of ARB.',\n",
       " 'I also explained to Ms. Yount the importance of taking aspirin and that she should continue her daily aspirin.',\n",
       " 'Brandon Vicente M.D. DD DT JM',\n",
       " 'Record date Shes doing much better from her painful R facial weakness Ramsay Hunt syndrome.',\n",
       " 'She di dnot take tegretol but rather increased her amytriptiline and added some darvocet acutely now off these meds.',\n",
       " ...]"
      ]
     },
     "execution_count": 200,
     "metadata": {},
     "output_type": "execute_result"
    }
   ],
   "source": [
    "sentence_data"
   ]
  },
  {
   "cell_type": "raw",
   "metadata": {},
   "source": [
    "def flatten_list(list_of_lists):\n",
    "    if len(list_of_lists) == 0:\n",
    "        return list_of_lists\n",
    "    if isinstance(list_of_lists[0], list):\n",
    "        return flatten_list(list_of_lists[0]) + flatten_list(list_of_lists[1:])\n",
    "    return list_of_lists[:1] + flatten_list(list_of_lists[1:])"
   ]
  },
  {
   "cell_type": "raw",
   "metadata": {},
   "source": [
    "data_3 = flatten_list(data_2)"
   ]
  },
  {
   "cell_type": "markdown",
   "metadata": {},
   "source": [
    "## EDA sentences"
   ]
  },
  {
   "cell_type": "code",
   "execution_count": 201,
   "metadata": {},
   "outputs": [
    {
     "data": {
      "image/svg+xml": [
       "<?xml version=\"1.0\" encoding=\"utf-8\" standalone=\"no\"?>\r\n",
       "<!DOCTYPE svg PUBLIC \"-//W3C//DTD SVG 1.1//EN\"\r\n",
       "  \"http://www.w3.org/Graphics/SVG/1.1/DTD/svg11.dtd\">\r\n",
       "<!-- Created with matplotlib (https://matplotlib.org/) -->\r\n",
       "<svg height=\"251.399844pt\" version=\"1.1\" viewBox=\"0 0 370.934062 251.399844\" width=\"370.934062pt\" xmlns=\"http://www.w3.org/2000/svg\" xmlns:xlink=\"http://www.w3.org/1999/xlink\">\r\n",
       " <metadata>\r\n",
       "  <rdf:RDF xmlns:cc=\"http://creativecommons.org/ns#\" xmlns:dc=\"http://purl.org/dc/elements/1.1/\" xmlns:rdf=\"http://www.w3.org/1999/02/22-rdf-syntax-ns#\">\r\n",
       "   <cc:Work>\r\n",
       "    <dc:type rdf:resource=\"http://purl.org/dc/dcmitype/StillImage\"/>\r\n",
       "    <dc:date>2021-04-24T21:00:39.507883</dc:date>\r\n",
       "    <dc:format>image/svg+xml</dc:format>\r\n",
       "    <dc:creator>\r\n",
       "     <cc:Agent>\r\n",
       "      <dc:title>Matplotlib v3.3.1, https://matplotlib.org/</dc:title>\r\n",
       "     </cc:Agent>\r\n",
       "    </dc:creator>\r\n",
       "   </cc:Work>\r\n",
       "  </rdf:RDF>\r\n",
       " </metadata>\r\n",
       " <defs>\r\n",
       "  <style type=\"text/css\">*{stroke-linecap:butt;stroke-linejoin:round;}</style>\r\n",
       " </defs>\r\n",
       " <g id=\"figure_1\">\r\n",
       "  <g id=\"patch_1\">\r\n",
       "   <path d=\"M 0 251.399844 \r\n",
       "L 370.934062 251.399844 \r\n",
       "L 370.934062 0 \r\n",
       "L 0 0 \r\n",
       "z\r\n",
       "\" style=\"fill:#ffffff;\"/>\r\n",
       "  </g>\r\n",
       "  <g id=\"axes_1\">\r\n",
       "   <g id=\"patch_2\">\r\n",
       "    <path d=\"M 28.934062 224.64 \r\n",
       "L 363.734062 224.64 \r\n",
       "L 363.734062 7.2 \r\n",
       "L 28.934062 7.2 \r\n",
       "z\r\n",
       "\" style=\"fill:#e5e5e5;\"/>\r\n",
       "   </g>\r\n",
       "   <g id=\"matplotlib.axis_1\">\r\n",
       "    <g id=\"xtick_1\">\r\n",
       "     <g id=\"line2d_1\">\r\n",
       "      <path clip-path=\"url(#p0b40117197)\" d=\"M 44.152244 224.64 \r\n",
       "L 44.152244 7.2 \r\n",
       "\" style=\"fill:none;stroke:#ffffff;stroke-linecap:round;\"/>\r\n",
       "     </g>\r\n",
       "     <g id=\"text_1\">\r\n",
       "      <!-- 1.0 -->\r\n",
       "      <g style=\"fill:#555555;\" transform=\"translate(36.507244 242.013594)scale(0.11 -0.11)\">\r\n",
       "       <defs>\r\n",
       "        <path d=\"M 37.25 0 \r\n",
       "L 28.46875 0 \r\n",
       "L 28.46875 56 \r\n",
       "Q 25.296875 52.984375 20.140625 49.953125 \r\n",
       "Q 14.984375 46.921875 10.890625 45.40625 \r\n",
       "L 10.890625 53.90625 \r\n",
       "Q 18.265625 57.375 23.78125 62.296875 \r\n",
       "Q 29.296875 67.234375 31.59375 71.875 \r\n",
       "L 37.25 71.875 \r\n",
       "z\r\n",
       "\" id=\"ArialMT-49\"/>\r\n",
       "        <path d=\"M 9.078125 0 \r\n",
       "L 9.078125 10.015625 \r\n",
       "L 19.09375 10.015625 \r\n",
       "L 19.09375 0 \r\n",
       "z\r\n",
       "\" id=\"ArialMT-46\"/>\r\n",
       "        <path d=\"M 4.15625 35.296875 \r\n",
       "Q 4.15625 48 6.765625 55.734375 \r\n",
       "Q 9.375 63.484375 14.515625 67.671875 \r\n",
       "Q 19.671875 71.875 27.484375 71.875 \r\n",
       "Q 33.25 71.875 37.59375 69.546875 \r\n",
       "Q 41.9375 67.234375 44.765625 62.859375 \r\n",
       "Q 47.609375 58.5 49.21875 52.21875 \r\n",
       "Q 50.828125 45.953125 50.828125 35.296875 \r\n",
       "Q 50.828125 22.703125 48.234375 14.96875 \r\n",
       "Q 45.65625 7.234375 40.5 3 \r\n",
       "Q 35.359375 -1.21875 27.484375 -1.21875 \r\n",
       "Q 17.140625 -1.21875 11.234375 6.203125 \r\n",
       "Q 4.15625 15.140625 4.15625 35.296875 \r\n",
       "z\r\n",
       "M 13.1875 35.296875 \r\n",
       "Q 13.1875 17.671875 17.3125 11.828125 \r\n",
       "Q 21.4375 6 27.484375 6 \r\n",
       "Q 33.546875 6 37.671875 11.859375 \r\n",
       "Q 41.796875 17.71875 41.796875 35.296875 \r\n",
       "Q 41.796875 52.984375 37.671875 58.78125 \r\n",
       "Q 33.546875 64.59375 27.390625 64.59375 \r\n",
       "Q 21.34375 64.59375 17.71875 59.46875 \r\n",
       "Q 13.1875 52.9375 13.1875 35.296875 \r\n",
       "z\r\n",
       "\" id=\"ArialMT-48\"/>\r\n",
       "       </defs>\r\n",
       "       <use xlink:href=\"#ArialMT-49\"/>\r\n",
       "       <use x=\"55.615234\" xlink:href=\"#ArialMT-46\"/>\r\n",
       "       <use x=\"83.398438\" xlink:href=\"#ArialMT-48\"/>\r\n",
       "      </g>\r\n",
       "     </g>\r\n",
       "    </g>\r\n",
       "    <g id=\"xtick_2\">\r\n",
       "     <g id=\"line2d_2\">\r\n",
       "      <path clip-path=\"url(#p0b40117197)\" d=\"M 82.197699 224.64 \r\n",
       "L 82.197699 7.2 \r\n",
       "\" style=\"fill:none;stroke:#ffffff;stroke-linecap:round;\"/>\r\n",
       "     </g>\r\n",
       "     <g id=\"text_2\">\r\n",
       "      <!-- 1.5 -->\r\n",
       "      <g style=\"fill:#555555;\" transform=\"translate(74.552699 242.013594)scale(0.11 -0.11)\">\r\n",
       "       <defs>\r\n",
       "        <path d=\"M 4.15625 18.75 \r\n",
       "L 13.375 19.53125 \r\n",
       "Q 14.40625 12.796875 18.140625 9.390625 \r\n",
       "Q 21.875 6 27.15625 6 \r\n",
       "Q 33.5 6 37.890625 10.78125 \r\n",
       "Q 42.28125 15.578125 42.28125 23.484375 \r\n",
       "Q 42.28125 31 38.0625 35.34375 \r\n",
       "Q 33.84375 39.703125 27 39.703125 \r\n",
       "Q 22.75 39.703125 19.328125 37.765625 \r\n",
       "Q 15.921875 35.84375 13.96875 32.765625 \r\n",
       "L 5.71875 33.84375 \r\n",
       "L 12.640625 70.609375 \r\n",
       "L 48.25 70.609375 \r\n",
       "L 48.25 62.203125 \r\n",
       "L 19.671875 62.203125 \r\n",
       "L 15.828125 42.96875 \r\n",
       "Q 22.265625 47.46875 29.34375 47.46875 \r\n",
       "Q 38.71875 47.46875 45.15625 40.96875 \r\n",
       "Q 51.609375 34.46875 51.609375 24.265625 \r\n",
       "Q 51.609375 14.546875 45.953125 7.46875 \r\n",
       "Q 39.0625 -1.21875 27.15625 -1.21875 \r\n",
       "Q 17.390625 -1.21875 11.203125 4.25 \r\n",
       "Q 5.03125 9.71875 4.15625 18.75 \r\n",
       "z\r\n",
       "\" id=\"ArialMT-53\"/>\r\n",
       "       </defs>\r\n",
       "       <use xlink:href=\"#ArialMT-49\"/>\r\n",
       "       <use x=\"55.615234\" xlink:href=\"#ArialMT-46\"/>\r\n",
       "       <use x=\"83.398438\" xlink:href=\"#ArialMT-53\"/>\r\n",
       "      </g>\r\n",
       "     </g>\r\n",
       "    </g>\r\n",
       "    <g id=\"xtick_3\">\r\n",
       "     <g id=\"line2d_3\">\r\n",
       "      <path clip-path=\"url(#p0b40117197)\" d=\"M 120.243153 224.64 \r\n",
       "L 120.243153 7.2 \r\n",
       "\" style=\"fill:none;stroke:#ffffff;stroke-linecap:round;\"/>\r\n",
       "     </g>\r\n",
       "     <g id=\"text_3\">\r\n",
       "      <!-- 2.0 -->\r\n",
       "      <g style=\"fill:#555555;\" transform=\"translate(112.598153 242.013594)scale(0.11 -0.11)\">\r\n",
       "       <defs>\r\n",
       "        <path d=\"M 50.34375 8.453125 \r\n",
       "L 50.34375 0 \r\n",
       "L 3.03125 0 \r\n",
       "Q 2.9375 3.171875 4.046875 6.109375 \r\n",
       "Q 5.859375 10.9375 9.828125 15.625 \r\n",
       "Q 13.8125 20.3125 21.34375 26.46875 \r\n",
       "Q 33.015625 36.03125 37.109375 41.625 \r\n",
       "Q 41.21875 47.21875 41.21875 52.203125 \r\n",
       "Q 41.21875 57.421875 37.46875 61 \r\n",
       "Q 33.734375 64.59375 27.734375 64.59375 \r\n",
       "Q 21.390625 64.59375 17.578125 60.78125 \r\n",
       "Q 13.765625 56.984375 13.71875 50.25 \r\n",
       "L 4.6875 51.171875 \r\n",
       "Q 5.609375 61.28125 11.65625 66.578125 \r\n",
       "Q 17.71875 71.875 27.9375 71.875 \r\n",
       "Q 38.234375 71.875 44.234375 66.15625 \r\n",
       "Q 50.25 60.453125 50.25 52 \r\n",
       "Q 50.25 47.703125 48.484375 43.546875 \r\n",
       "Q 46.734375 39.40625 42.65625 34.8125 \r\n",
       "Q 38.578125 30.21875 29.109375 22.21875 \r\n",
       "Q 21.1875 15.578125 18.9375 13.203125 \r\n",
       "Q 16.703125 10.84375 15.234375 8.453125 \r\n",
       "z\r\n",
       "\" id=\"ArialMT-50\"/>\r\n",
       "       </defs>\r\n",
       "       <use xlink:href=\"#ArialMT-50\"/>\r\n",
       "       <use x=\"55.615234\" xlink:href=\"#ArialMT-46\"/>\r\n",
       "       <use x=\"83.398438\" xlink:href=\"#ArialMT-48\"/>\r\n",
       "      </g>\r\n",
       "     </g>\r\n",
       "    </g>\r\n",
       "    <g id=\"xtick_4\">\r\n",
       "     <g id=\"line2d_4\">\r\n",
       "      <path clip-path=\"url(#p0b40117197)\" d=\"M 158.288608 224.64 \r\n",
       "L 158.288608 7.2 \r\n",
       "\" style=\"fill:none;stroke:#ffffff;stroke-linecap:round;\"/>\r\n",
       "     </g>\r\n",
       "     <g id=\"text_4\">\r\n",
       "      <!-- 2.5 -->\r\n",
       "      <g style=\"fill:#555555;\" transform=\"translate(150.643608 242.013594)scale(0.11 -0.11)\">\r\n",
       "       <use xlink:href=\"#ArialMT-50\"/>\r\n",
       "       <use x=\"55.615234\" xlink:href=\"#ArialMT-46\"/>\r\n",
       "       <use x=\"83.398438\" xlink:href=\"#ArialMT-53\"/>\r\n",
       "      </g>\r\n",
       "     </g>\r\n",
       "    </g>\r\n",
       "    <g id=\"xtick_5\">\r\n",
       "     <g id=\"line2d_5\">\r\n",
       "      <path clip-path=\"url(#p0b40117197)\" d=\"M 196.334063 224.64 \r\n",
       "L 196.334063 7.2 \r\n",
       "\" style=\"fill:none;stroke:#ffffff;stroke-linecap:round;\"/>\r\n",
       "     </g>\r\n",
       "     <g id=\"text_5\">\r\n",
       "      <!-- 3.0 -->\r\n",
       "      <g style=\"fill:#555555;\" transform=\"translate(188.689063 242.013594)scale(0.11 -0.11)\">\r\n",
       "       <defs>\r\n",
       "        <path d=\"M 4.203125 18.890625 \r\n",
       "L 12.984375 20.0625 \r\n",
       "Q 14.5 12.59375 18.140625 9.296875 \r\n",
       "Q 21.78125 6 27 6 \r\n",
       "Q 33.203125 6 37.46875 10.296875 \r\n",
       "Q 41.75 14.59375 41.75 20.953125 \r\n",
       "Q 41.75 27 37.796875 30.921875 \r\n",
       "Q 33.84375 34.859375 27.734375 34.859375 \r\n",
       "Q 25.25 34.859375 21.53125 33.890625 \r\n",
       "L 22.515625 41.609375 \r\n",
       "Q 23.390625 41.5 23.921875 41.5 \r\n",
       "Q 29.546875 41.5 34.03125 44.421875 \r\n",
       "Q 38.53125 47.359375 38.53125 53.46875 \r\n",
       "Q 38.53125 58.296875 35.25 61.46875 \r\n",
       "Q 31.984375 64.65625 26.8125 64.65625 \r\n",
       "Q 21.6875 64.65625 18.265625 61.421875 \r\n",
       "Q 14.84375 58.203125 13.875 51.765625 \r\n",
       "L 5.078125 53.328125 \r\n",
       "Q 6.6875 62.15625 12.390625 67.015625 \r\n",
       "Q 18.109375 71.875 26.609375 71.875 \r\n",
       "Q 32.46875 71.875 37.390625 69.359375 \r\n",
       "Q 42.328125 66.84375 44.9375 62.5 \r\n",
       "Q 47.5625 58.15625 47.5625 53.265625 \r\n",
       "Q 47.5625 48.640625 45.0625 44.828125 \r\n",
       "Q 42.578125 41.015625 37.703125 38.765625 \r\n",
       "Q 44.046875 37.3125 47.5625 32.6875 \r\n",
       "Q 51.078125 28.078125 51.078125 21.140625 \r\n",
       "Q 51.078125 11.765625 44.234375 5.25 \r\n",
       "Q 37.40625 -1.265625 26.953125 -1.265625 \r\n",
       "Q 17.53125 -1.265625 11.296875 4.34375 \r\n",
       "Q 5.078125 9.96875 4.203125 18.890625 \r\n",
       "z\r\n",
       "\" id=\"ArialMT-51\"/>\r\n",
       "       </defs>\r\n",
       "       <use xlink:href=\"#ArialMT-51\"/>\r\n",
       "       <use x=\"55.615234\" xlink:href=\"#ArialMT-46\"/>\r\n",
       "       <use x=\"83.398438\" xlink:href=\"#ArialMT-48\"/>\r\n",
       "      </g>\r\n",
       "     </g>\r\n",
       "    </g>\r\n",
       "    <g id=\"xtick_6\">\r\n",
       "     <g id=\"line2d_6\">\r\n",
       "      <path clip-path=\"url(#p0b40117197)\" d=\"M 234.379517 224.64 \r\n",
       "L 234.379517 7.2 \r\n",
       "\" style=\"fill:none;stroke:#ffffff;stroke-linecap:round;\"/>\r\n",
       "     </g>\r\n",
       "     <g id=\"text_6\">\r\n",
       "      <!-- 3.5 -->\r\n",
       "      <g style=\"fill:#555555;\" transform=\"translate(226.734517 242.013594)scale(0.11 -0.11)\">\r\n",
       "       <use xlink:href=\"#ArialMT-51\"/>\r\n",
       "       <use x=\"55.615234\" xlink:href=\"#ArialMT-46\"/>\r\n",
       "       <use x=\"83.398438\" xlink:href=\"#ArialMT-53\"/>\r\n",
       "      </g>\r\n",
       "     </g>\r\n",
       "    </g>\r\n",
       "    <g id=\"xtick_7\">\r\n",
       "     <g id=\"line2d_7\">\r\n",
       "      <path clip-path=\"url(#p0b40117197)\" d=\"M 272.424972 224.64 \r\n",
       "L 272.424972 7.2 \r\n",
       "\" style=\"fill:none;stroke:#ffffff;stroke-linecap:round;\"/>\r\n",
       "     </g>\r\n",
       "     <g id=\"text_7\">\r\n",
       "      <!-- 4.0 -->\r\n",
       "      <g style=\"fill:#555555;\" transform=\"translate(264.779972 242.013594)scale(0.11 -0.11)\">\r\n",
       "       <defs>\r\n",
       "        <path d=\"M 32.328125 0 \r\n",
       "L 32.328125 17.140625 \r\n",
       "L 1.265625 17.140625 \r\n",
       "L 1.265625 25.203125 \r\n",
       "L 33.9375 71.578125 \r\n",
       "L 41.109375 71.578125 \r\n",
       "L 41.109375 25.203125 \r\n",
       "L 50.78125 25.203125 \r\n",
       "L 50.78125 17.140625 \r\n",
       "L 41.109375 17.140625 \r\n",
       "L 41.109375 0 \r\n",
       "z\r\n",
       "M 32.328125 25.203125 \r\n",
       "L 32.328125 57.46875 \r\n",
       "L 9.90625 25.203125 \r\n",
       "z\r\n",
       "\" id=\"ArialMT-52\"/>\r\n",
       "       </defs>\r\n",
       "       <use xlink:href=\"#ArialMT-52\"/>\r\n",
       "       <use x=\"55.615234\" xlink:href=\"#ArialMT-46\"/>\r\n",
       "       <use x=\"83.398438\" xlink:href=\"#ArialMT-48\"/>\r\n",
       "      </g>\r\n",
       "     </g>\r\n",
       "    </g>\r\n",
       "    <g id=\"xtick_8\">\r\n",
       "     <g id=\"line2d_8\">\r\n",
       "      <path clip-path=\"url(#p0b40117197)\" d=\"M 310.470426 224.64 \r\n",
       "L 310.470426 7.2 \r\n",
       "\" style=\"fill:none;stroke:#ffffff;stroke-linecap:round;\"/>\r\n",
       "     </g>\r\n",
       "     <g id=\"text_8\">\r\n",
       "      <!-- 4.5 -->\r\n",
       "      <g style=\"fill:#555555;\" transform=\"translate(302.825426 242.013594)scale(0.11 -0.11)\">\r\n",
       "       <use xlink:href=\"#ArialMT-52\"/>\r\n",
       "       <use x=\"55.615234\" xlink:href=\"#ArialMT-46\"/>\r\n",
       "       <use x=\"83.398438\" xlink:href=\"#ArialMT-53\"/>\r\n",
       "      </g>\r\n",
       "     </g>\r\n",
       "    </g>\r\n",
       "    <g id=\"xtick_9\">\r\n",
       "     <g id=\"line2d_9\">\r\n",
       "      <path clip-path=\"url(#p0b40117197)\" d=\"M 348.515881 224.64 \r\n",
       "L 348.515881 7.2 \r\n",
       "\" style=\"fill:none;stroke:#ffffff;stroke-linecap:round;\"/>\r\n",
       "     </g>\r\n",
       "     <g id=\"text_9\">\r\n",
       "      <!-- 5.0 -->\r\n",
       "      <g style=\"fill:#555555;\" transform=\"translate(340.870881 242.013594)scale(0.11 -0.11)\">\r\n",
       "       <use xlink:href=\"#ArialMT-53\"/>\r\n",
       "       <use x=\"55.615234\" xlink:href=\"#ArialMT-46\"/>\r\n",
       "       <use x=\"83.398438\" xlink:href=\"#ArialMT-48\"/>\r\n",
       "      </g>\r\n",
       "     </g>\r\n",
       "    </g>\r\n",
       "   </g>\r\n",
       "   <g id=\"matplotlib.axis_2\">\r\n",
       "    <g id=\"ytick_1\">\r\n",
       "     <g id=\"line2d_10\">\r\n",
       "      <path clip-path=\"url(#p0b40117197)\" d=\"M 28.934062 224.64 \r\n",
       "L 363.734062 224.64 \r\n",
       "\" style=\"fill:none;stroke:#ffffff;stroke-linecap:round;\"/>\r\n",
       "     </g>\r\n",
       "     <g id=\"text_10\">\r\n",
       "      <!-- 0 -->\r\n",
       "      <g style=\"fill:#555555;\" transform=\"translate(13.317031 228.576797)scale(0.11 -0.11)\">\r\n",
       "       <use xlink:href=\"#ArialMT-48\"/>\r\n",
       "      </g>\r\n",
       "     </g>\r\n",
       "    </g>\r\n",
       "    <g id=\"ytick_2\">\r\n",
       "     <g id=\"line2d_11\">\r\n",
       "      <path clip-path=\"url(#p0b40117197)\" d=\"M 28.934062 180.57921 \r\n",
       "L 363.734062 180.57921 \r\n",
       "\" style=\"fill:none;stroke:#ffffff;stroke-linecap:round;\"/>\r\n",
       "     </g>\r\n",
       "     <g id=\"text_11\">\r\n",
       "      <!-- 20 -->\r\n",
       "      <g style=\"fill:#555555;\" transform=\"translate(7.2 184.516007)scale(0.11 -0.11)\">\r\n",
       "       <use xlink:href=\"#ArialMT-50\"/>\r\n",
       "       <use x=\"55.615234\" xlink:href=\"#ArialMT-48\"/>\r\n",
       "      </g>\r\n",
       "     </g>\r\n",
       "    </g>\r\n",
       "    <g id=\"ytick_3\">\r\n",
       "     <g id=\"line2d_12\">\r\n",
       "      <path clip-path=\"url(#p0b40117197)\" d=\"M 28.934062 136.518419 \r\n",
       "L 363.734062 136.518419 \r\n",
       "\" style=\"fill:none;stroke:#ffffff;stroke-linecap:round;\"/>\r\n",
       "     </g>\r\n",
       "     <g id=\"text_12\">\r\n",
       "      <!-- 40 -->\r\n",
       "      <g style=\"fill:#555555;\" transform=\"translate(7.2 140.455216)scale(0.11 -0.11)\">\r\n",
       "       <use xlink:href=\"#ArialMT-52\"/>\r\n",
       "       <use x=\"55.615234\" xlink:href=\"#ArialMT-48\"/>\r\n",
       "      </g>\r\n",
       "     </g>\r\n",
       "    </g>\r\n",
       "    <g id=\"ytick_4\">\r\n",
       "     <g id=\"line2d_13\">\r\n",
       "      <path clip-path=\"url(#p0b40117197)\" d=\"M 28.934062 92.457629 \r\n",
       "L 363.734062 92.457629 \r\n",
       "\" style=\"fill:none;stroke:#ffffff;stroke-linecap:round;\"/>\r\n",
       "     </g>\r\n",
       "     <g id=\"text_13\">\r\n",
       "      <!-- 60 -->\r\n",
       "      <g style=\"fill:#555555;\" transform=\"translate(7.2 96.394426)scale(0.11 -0.11)\">\r\n",
       "       <defs>\r\n",
       "        <path d=\"M 49.75 54.046875 \r\n",
       "L 41.015625 53.375 \r\n",
       "Q 39.84375 58.546875 37.703125 60.890625 \r\n",
       "Q 34.125 64.65625 28.90625 64.65625 \r\n",
       "Q 24.703125 64.65625 21.53125 62.3125 \r\n",
       "Q 17.390625 59.28125 14.984375 53.46875 \r\n",
       "Q 12.59375 47.65625 12.5 36.921875 \r\n",
       "Q 15.671875 41.75 20.265625 44.09375 \r\n",
       "Q 24.859375 46.4375 29.890625 46.4375 \r\n",
       "Q 38.671875 46.4375 44.84375 39.96875 \r\n",
       "Q 51.03125 33.5 51.03125 23.25 \r\n",
       "Q 51.03125 16.5 48.125 10.71875 \r\n",
       "Q 45.21875 4.9375 40.140625 1.859375 \r\n",
       "Q 35.0625 -1.21875 28.609375 -1.21875 \r\n",
       "Q 17.625 -1.21875 10.6875 6.859375 \r\n",
       "Q 3.765625 14.9375 3.765625 33.5 \r\n",
       "Q 3.765625 54.25 11.421875 63.671875 \r\n",
       "Q 18.109375 71.875 29.4375 71.875 \r\n",
       "Q 37.890625 71.875 43.28125 67.140625 \r\n",
       "Q 48.6875 62.40625 49.75 54.046875 \r\n",
       "z\r\n",
       "M 13.875 23.1875 \r\n",
       "Q 13.875 18.65625 15.796875 14.5 \r\n",
       "Q 17.71875 10.359375 21.1875 8.171875 \r\n",
       "Q 24.65625 6 28.46875 6 \r\n",
       "Q 34.03125 6 38.03125 10.484375 \r\n",
       "Q 42.046875 14.984375 42.046875 22.703125 \r\n",
       "Q 42.046875 30.125 38.078125 34.390625 \r\n",
       "Q 34.125 38.671875 28.125 38.671875 \r\n",
       "Q 22.171875 38.671875 18.015625 34.390625 \r\n",
       "Q 13.875 30.125 13.875 23.1875 \r\n",
       "z\r\n",
       "\" id=\"ArialMT-54\"/>\r\n",
       "       </defs>\r\n",
       "       <use xlink:href=\"#ArialMT-54\"/>\r\n",
       "       <use x=\"55.615234\" xlink:href=\"#ArialMT-48\"/>\r\n",
       "      </g>\r\n",
       "     </g>\r\n",
       "    </g>\r\n",
       "    <g id=\"ytick_5\">\r\n",
       "     <g id=\"line2d_14\">\r\n",
       "      <path clip-path=\"url(#p0b40117197)\" d=\"M 28.934062 48.396839 \r\n",
       "L 363.734062 48.396839 \r\n",
       "\" style=\"fill:none;stroke:#ffffff;stroke-linecap:round;\"/>\r\n",
       "     </g>\r\n",
       "     <g id=\"text_14\">\r\n",
       "      <!-- 80 -->\r\n",
       "      <g style=\"fill:#555555;\" transform=\"translate(7.2 52.333636)scale(0.11 -0.11)\">\r\n",
       "       <defs>\r\n",
       "        <path d=\"M 17.671875 38.8125 \r\n",
       "Q 12.203125 40.828125 9.5625 44.53125 \r\n",
       "Q 6.9375 48.25 6.9375 53.421875 \r\n",
       "Q 6.9375 61.234375 12.546875 66.546875 \r\n",
       "Q 18.171875 71.875 27.484375 71.875 \r\n",
       "Q 36.859375 71.875 42.578125 66.421875 \r\n",
       "Q 48.296875 60.984375 48.296875 53.171875 \r\n",
       "Q 48.296875 48.1875 45.671875 44.5 \r\n",
       "Q 43.0625 40.828125 37.75 38.8125 \r\n",
       "Q 44.34375 36.671875 47.78125 31.875 \r\n",
       "Q 51.21875 27.09375 51.21875 20.453125 \r\n",
       "Q 51.21875 11.28125 44.71875 5.03125 \r\n",
       "Q 38.234375 -1.21875 27.640625 -1.21875 \r\n",
       "Q 17.046875 -1.21875 10.546875 5.046875 \r\n",
       "Q 4.046875 11.328125 4.046875 20.703125 \r\n",
       "Q 4.046875 27.6875 7.59375 32.390625 \r\n",
       "Q 11.140625 37.109375 17.671875 38.8125 \r\n",
       "z\r\n",
       "M 15.921875 53.71875 \r\n",
       "Q 15.921875 48.640625 19.1875 45.40625 \r\n",
       "Q 22.46875 42.1875 27.6875 42.1875 \r\n",
       "Q 32.765625 42.1875 36.015625 45.375 \r\n",
       "Q 39.265625 48.578125 39.265625 53.21875 \r\n",
       "Q 39.265625 58.0625 35.90625 61.359375 \r\n",
       "Q 32.5625 64.65625 27.59375 64.65625 \r\n",
       "Q 22.5625 64.65625 19.234375 61.421875 \r\n",
       "Q 15.921875 58.203125 15.921875 53.71875 \r\n",
       "z\r\n",
       "M 13.09375 20.65625 \r\n",
       "Q 13.09375 16.890625 14.875 13.375 \r\n",
       "Q 16.65625 9.859375 20.171875 7.921875 \r\n",
       "Q 23.6875 6 27.734375 6 \r\n",
       "Q 34.03125 6 38.125 10.046875 \r\n",
       "Q 42.234375 14.109375 42.234375 20.359375 \r\n",
       "Q 42.234375 26.703125 38.015625 30.859375 \r\n",
       "Q 33.796875 35.015625 27.4375 35.015625 \r\n",
       "Q 21.234375 35.015625 17.15625 30.90625 \r\n",
       "Q 13.09375 26.8125 13.09375 20.65625 \r\n",
       "z\r\n",
       "\" id=\"ArialMT-56\"/>\r\n",
       "       </defs>\r\n",
       "       <use xlink:href=\"#ArialMT-56\"/>\r\n",
       "       <use x=\"55.615234\" xlink:href=\"#ArialMT-48\"/>\r\n",
       "      </g>\r\n",
       "     </g>\r\n",
       "    </g>\r\n",
       "   </g>\r\n",
       "   <g id=\"patch_3\">\r\n",
       "    <path clip-path=\"url(#p0b40117197)\" d=\"M 44.152244 224.64 \r\n",
       "L 59.370426 224.64 \r\n",
       "L 59.370426 213.624802 \r\n",
       "L 44.152244 213.624802 \r\n",
       "z\r\n",
       "\" style=\"fill:#e24a33;stroke:#eeeeee;stroke-linejoin:miter;stroke-width:0.5;\"/>\r\n",
       "   </g>\r\n",
       "   <g id=\"patch_4\">\r\n",
       "    <path clip-path=\"url(#p0b40117197)\" d=\"M 59.370426 224.64 \r\n",
       "L 74.588608 224.64 \r\n",
       "L 74.588608 224.64 \r\n",
       "L 59.370426 224.64 \r\n",
       "z\r\n",
       "\" style=\"fill:#e24a33;stroke:#eeeeee;stroke-linejoin:miter;stroke-width:0.5;\"/>\r\n",
       "   </g>\r\n",
       "   <g id=\"patch_5\">\r\n",
       "    <path clip-path=\"url(#p0b40117197)\" d=\"M 74.588608 224.64 \r\n",
       "L 89.80679 224.64 \r\n",
       "L 89.80679 224.64 \r\n",
       "L 74.588608 224.64 \r\n",
       "z\r\n",
       "\" style=\"fill:#e24a33;stroke:#eeeeee;stroke-linejoin:miter;stroke-width:0.5;\"/>\r\n",
       "   </g>\r\n",
       "   <g id=\"patch_6\">\r\n",
       "    <path clip-path=\"url(#p0b40117197)\" d=\"M 89.80679 224.64 \r\n",
       "L 105.024972 224.64 \r\n",
       "L 105.024972 224.64 \r\n",
       "L 89.80679 224.64 \r\n",
       "z\r\n",
       "\" style=\"fill:#e24a33;stroke:#eeeeee;stroke-linejoin:miter;stroke-width:0.5;\"/>\r\n",
       "   </g>\r\n",
       "   <g id=\"patch_7\">\r\n",
       "    <path clip-path=\"url(#p0b40117197)\" d=\"M 105.024972 224.64 \r\n",
       "L 120.243153 224.64 \r\n",
       "L 120.243153 224.64 \r\n",
       "L 105.024972 224.64 \r\n",
       "z\r\n",
       "\" style=\"fill:#e24a33;stroke:#eeeeee;stroke-linejoin:miter;stroke-width:0.5;\"/>\r\n",
       "   </g>\r\n",
       "   <g id=\"patch_8\">\r\n",
       "    <path clip-path=\"url(#p0b40117197)\" d=\"M 120.243153 224.64 \r\n",
       "L 135.461335 224.64 \r\n",
       "L 135.461335 114.488024 \r\n",
       "L 120.243153 114.488024 \r\n",
       "z\r\n",
       "\" style=\"fill:#e24a33;stroke:#eeeeee;stroke-linejoin:miter;stroke-width:0.5;\"/>\r\n",
       "   </g>\r\n",
       "   <g id=\"patch_9\">\r\n",
       "    <path clip-path=\"url(#p0b40117197)\" d=\"M 135.461335 224.64 \r\n",
       "L 150.679517 224.64 \r\n",
       "L 150.679517 224.64 \r\n",
       "L 135.461335 224.64 \r\n",
       "z\r\n",
       "\" style=\"fill:#e24a33;stroke:#eeeeee;stroke-linejoin:miter;stroke-width:0.5;\"/>\r\n",
       "   </g>\r\n",
       "   <g id=\"patch_10\">\r\n",
       "    <path clip-path=\"url(#p0b40117197)\" d=\"M 150.679517 224.64 \r\n",
       "L 165.897699 224.64 \r\n",
       "L 165.897699 224.64 \r\n",
       "L 150.679517 224.64 \r\n",
       "z\r\n",
       "\" style=\"fill:#e24a33;stroke:#eeeeee;stroke-linejoin:miter;stroke-width:0.5;\"/>\r\n",
       "   </g>\r\n",
       "   <g id=\"patch_11\">\r\n",
       "    <path clip-path=\"url(#p0b40117197)\" d=\"M 165.897699 224.64 \r\n",
       "L 181.115881 224.64 \r\n",
       "L 181.115881 224.64 \r\n",
       "L 165.897699 224.64 \r\n",
       "z\r\n",
       "\" style=\"fill:#e24a33;stroke:#eeeeee;stroke-linejoin:miter;stroke-width:0.5;\"/>\r\n",
       "   </g>\r\n",
       "   <g id=\"patch_12\">\r\n",
       "    <path clip-path=\"url(#p0b40117197)\" d=\"M 181.115881 224.64 \r\n",
       "L 196.334063 224.64 \r\n",
       "L 196.334063 224.64 \r\n",
       "L 181.115881 224.64 \r\n",
       "z\r\n",
       "\" style=\"fill:#e24a33;stroke:#eeeeee;stroke-linejoin:miter;stroke-width:0.5;\"/>\r\n",
       "   </g>\r\n",
       "   <g id=\"patch_13\">\r\n",
       "    <path clip-path=\"url(#p0b40117197)\" d=\"M 196.334063 224.64 \r\n",
       "L 211.552244 224.64 \r\n",
       "L 211.552244 129.909301 \r\n",
       "L 196.334063 129.909301 \r\n",
       "z\r\n",
       "\" style=\"fill:#e24a33;stroke:#eeeeee;stroke-linejoin:miter;stroke-width:0.5;\"/>\r\n",
       "   </g>\r\n",
       "   <g id=\"patch_14\">\r\n",
       "    <path clip-path=\"url(#p0b40117197)\" d=\"M 211.552244 224.64 \r\n",
       "L 226.770426 224.64 \r\n",
       "L 226.770426 224.64 \r\n",
       "L 211.552244 224.64 \r\n",
       "z\r\n",
       "\" style=\"fill:#e24a33;stroke:#eeeeee;stroke-linejoin:miter;stroke-width:0.5;\"/>\r\n",
       "   </g>\r\n",
       "   <g id=\"patch_15\">\r\n",
       "    <path clip-path=\"url(#p0b40117197)\" d=\"M 226.770426 224.64 \r\n",
       "L 241.988608 224.64 \r\n",
       "L 241.988608 224.64 \r\n",
       "L 226.770426 224.64 \r\n",
       "z\r\n",
       "\" style=\"fill:#e24a33;stroke:#eeeeee;stroke-linejoin:miter;stroke-width:0.5;\"/>\r\n",
       "   </g>\r\n",
       "   <g id=\"patch_16\">\r\n",
       "    <path clip-path=\"url(#p0b40117197)\" d=\"M 241.988608 224.64 \r\n",
       "L 257.20679 224.64 \r\n",
       "L 257.20679 224.64 \r\n",
       "L 241.988608 224.64 \r\n",
       "z\r\n",
       "\" style=\"fill:#e24a33;stroke:#eeeeee;stroke-linejoin:miter;stroke-width:0.5;\"/>\r\n",
       "   </g>\r\n",
       "   <g id=\"patch_17\">\r\n",
       "    <path clip-path=\"url(#p0b40117197)\" d=\"M 257.20679 224.64 \r\n",
       "L 272.424972 224.64 \r\n",
       "L 272.424972 224.64 \r\n",
       "L 257.20679 224.64 \r\n",
       "z\r\n",
       "\" style=\"fill:#e24a33;stroke:#eeeeee;stroke-linejoin:miter;stroke-width:0.5;\"/>\r\n",
       "   </g>\r\n",
       "   <g id=\"patch_18\">\r\n",
       "    <path clip-path=\"url(#p0b40117197)\" d=\"M 272.424972 224.64 \r\n",
       "L 287.643153 224.64 \r\n",
       "L 287.643153 17.554286 \r\n",
       "L 272.424972 17.554286 \r\n",
       "z\r\n",
       "\" style=\"fill:#e24a33;stroke:#eeeeee;stroke-linejoin:miter;stroke-width:0.5;\"/>\r\n",
       "   </g>\r\n",
       "   <g id=\"patch_19\">\r\n",
       "    <path clip-path=\"url(#p0b40117197)\" d=\"M 287.643153 224.64 \r\n",
       "L 302.861335 224.64 \r\n",
       "L 302.861335 224.64 \r\n",
       "L 287.643153 224.64 \r\n",
       "z\r\n",
       "\" style=\"fill:#e24a33;stroke:#eeeeee;stroke-linejoin:miter;stroke-width:0.5;\"/>\r\n",
       "   </g>\r\n",
       "   <g id=\"patch_20\">\r\n",
       "    <path clip-path=\"url(#p0b40117197)\" d=\"M 302.861335 224.64 \r\n",
       "L 318.079517 224.64 \r\n",
       "L 318.079517 224.64 \r\n",
       "L 302.861335 224.64 \r\n",
       "z\r\n",
       "\" style=\"fill:#e24a33;stroke:#eeeeee;stroke-linejoin:miter;stroke-width:0.5;\"/>\r\n",
       "   </g>\r\n",
       "   <g id=\"patch_21\">\r\n",
       "    <path clip-path=\"url(#p0b40117197)\" d=\"M 318.079517 224.64 \r\n",
       "L 333.297699 224.64 \r\n",
       "L 333.297699 224.64 \r\n",
       "L 318.079517 224.64 \r\n",
       "z\r\n",
       "\" style=\"fill:#e24a33;stroke:#eeeeee;stroke-linejoin:miter;stroke-width:0.5;\"/>\r\n",
       "   </g>\r\n",
       "   <g id=\"patch_22\">\r\n",
       "    <path clip-path=\"url(#p0b40117197)\" d=\"M 333.297699 224.64 \r\n",
       "L 348.515881 224.64 \r\n",
       "L 348.515881 52.802918 \r\n",
       "L 333.297699 52.802918 \r\n",
       "z\r\n",
       "\" style=\"fill:#e24a33;stroke:#eeeeee;stroke-linejoin:miter;stroke-width:0.5;\"/>\r\n",
       "   </g>\r\n",
       "   <g id=\"patch_23\">\r\n",
       "    <path d=\"M 28.934062 224.64 \r\n",
       "L 28.934062 7.2 \r\n",
       "\" style=\"fill:none;stroke:#ffffff;stroke-linecap:square;stroke-linejoin:miter;\"/>\r\n",
       "   </g>\r\n",
       "   <g id=\"patch_24\">\r\n",
       "    <path d=\"M 363.734062 224.64 \r\n",
       "L 363.734062 7.2 \r\n",
       "\" style=\"fill:none;stroke:#ffffff;stroke-linecap:square;stroke-linejoin:miter;\"/>\r\n",
       "   </g>\r\n",
       "   <g id=\"patch_25\">\r\n",
       "    <path d=\"M 28.934062 224.64 \r\n",
       "L 363.734062 224.64 \r\n",
       "\" style=\"fill:none;stroke:#ffffff;stroke-linecap:square;stroke-linejoin:miter;\"/>\r\n",
       "   </g>\r\n",
       "   <g id=\"patch_26\">\r\n",
       "    <path d=\"M 28.934062 7.2 \r\n",
       "L 363.734062 7.2 \r\n",
       "\" style=\"fill:none;stroke:#ffffff;stroke-linecap:square;stroke-linejoin:miter;\"/>\r\n",
       "   </g>\r\n",
       "  </g>\r\n",
       " </g>\r\n",
       " <defs>\r\n",
       "  <clipPath id=\"p0b40117197\">\r\n",
       "   <rect height=\"217.44\" width=\"334.8\" x=\"28.934062\" y=\"7.2\"/>\r\n",
       "  </clipPath>\r\n",
       " </defs>\r\n",
       "</svg>\r\n"
      ],
      "text/plain": [
       "<Figure size 432x288 with 1 Axes>"
      ]
     },
     "metadata": {},
     "output_type": "display_data"
    }
   ],
   "source": [
    "#Data visualisation\n",
    "import matplotlib.pyplot as plt\n",
    "import seaborn as sns\n",
    "sns.set(color_codes=True)\n",
    "sns.set(font_scale=1)\n",
    "%matplotlib inline\n",
    "%config InlineBackend.figure_format = 'svg'\n",
    "\n",
    "\n",
    "#Lets visualize how the sentences are distributed by their length\n",
    "plt.style.use(\"ggplot\")\n",
    "plt.hist([len(s) for s in clean_report['report_text_sent'] if(len(s) <= 5)], bins=20)\n",
    "plt.show()"
   ]
  },
  {
   "cell_type": "code",
   "execution_count": 202,
   "metadata": {},
   "outputs": [
    {
     "data": {
      "image/svg+xml": [
       "<?xml version=\"1.0\" encoding=\"utf-8\" standalone=\"no\"?>\r\n",
       "<!DOCTYPE svg PUBLIC \"-//W3C//DTD SVG 1.1//EN\"\r\n",
       "  \"http://www.w3.org/Graphics/SVG/1.1/DTD/svg11.dtd\">\r\n",
       "<!-- Created with matplotlib (https://matplotlib.org/) -->\r\n",
       "<svg height=\"251.399844pt\" version=\"1.1\" viewBox=\"0 0 377.051094 251.399844\" width=\"377.051094pt\" xmlns=\"http://www.w3.org/2000/svg\" xmlns:xlink=\"http://www.w3.org/1999/xlink\">\r\n",
       " <metadata>\r\n",
       "  <rdf:RDF xmlns:cc=\"http://creativecommons.org/ns#\" xmlns:dc=\"http://purl.org/dc/elements/1.1/\" xmlns:rdf=\"http://www.w3.org/1999/02/22-rdf-syntax-ns#\">\r\n",
       "   <cc:Work>\r\n",
       "    <dc:type rdf:resource=\"http://purl.org/dc/dcmitype/StillImage\"/>\r\n",
       "    <dc:date>2021-04-24T21:00:41.444602</dc:date>\r\n",
       "    <dc:format>image/svg+xml</dc:format>\r\n",
       "    <dc:creator>\r\n",
       "     <cc:Agent>\r\n",
       "      <dc:title>Matplotlib v3.3.1, https://matplotlib.org/</dc:title>\r\n",
       "     </cc:Agent>\r\n",
       "    </dc:creator>\r\n",
       "   </cc:Work>\r\n",
       "  </rdf:RDF>\r\n",
       " </metadata>\r\n",
       " <defs>\r\n",
       "  <style type=\"text/css\">*{stroke-linecap:butt;stroke-linejoin:round;}</style>\r\n",
       " </defs>\r\n",
       " <g id=\"figure_1\">\r\n",
       "  <g id=\"patch_1\">\r\n",
       "   <path d=\"M 0 251.399844 \r\n",
       "L 377.051094 251.399844 \r\n",
       "L 377.051094 0 \r\n",
       "L 0 0 \r\n",
       "z\r\n",
       "\" style=\"fill:#ffffff;\"/>\r\n",
       "  </g>\r\n",
       "  <g id=\"axes_1\">\r\n",
       "   <g id=\"patch_2\">\r\n",
       "    <path d=\"M 35.051094 224.64 \r\n",
       "L 369.851094 224.64 \r\n",
       "L 369.851094 7.2 \r\n",
       "L 35.051094 7.2 \r\n",
       "z\r\n",
       "\" style=\"fill:#e5e5e5;\"/>\r\n",
       "   </g>\r\n",
       "   <g id=\"matplotlib.axis_1\">\r\n",
       "    <g id=\"xtick_1\">\r\n",
       "     <g id=\"line2d_1\">\r\n",
       "      <path clip-path=\"url(#p045c38e6c3)\" d=\"M 50.269276 224.64 \r\n",
       "L 50.269276 7.2 \r\n",
       "\" style=\"fill:none;stroke:#ffffff;stroke-linecap:round;\"/>\r\n",
       "     </g>\r\n",
       "     <g id=\"text_1\">\r\n",
       "      <!-- 0 -->\r\n",
       "      <g style=\"fill:#555555;\" transform=\"translate(47.21076 242.013594)scale(0.11 -0.11)\">\r\n",
       "       <defs>\r\n",
       "        <path d=\"M 4.15625 35.296875 \r\n",
       "Q 4.15625 48 6.765625 55.734375 \r\n",
       "Q 9.375 63.484375 14.515625 67.671875 \r\n",
       "Q 19.671875 71.875 27.484375 71.875 \r\n",
       "Q 33.25 71.875 37.59375 69.546875 \r\n",
       "Q 41.9375 67.234375 44.765625 62.859375 \r\n",
       "Q 47.609375 58.5 49.21875 52.21875 \r\n",
       "Q 50.828125 45.953125 50.828125 35.296875 \r\n",
       "Q 50.828125 22.703125 48.234375 14.96875 \r\n",
       "Q 45.65625 7.234375 40.5 3 \r\n",
       "Q 35.359375 -1.21875 27.484375 -1.21875 \r\n",
       "Q 17.140625 -1.21875 11.234375 6.203125 \r\n",
       "Q 4.15625 15.140625 4.15625 35.296875 \r\n",
       "z\r\n",
       "M 13.1875 35.296875 \r\n",
       "Q 13.1875 17.671875 17.3125 11.828125 \r\n",
       "Q 21.4375 6 27.484375 6 \r\n",
       "Q 33.546875 6 37.671875 11.859375 \r\n",
       "Q 41.796875 17.71875 41.796875 35.296875 \r\n",
       "Q 41.796875 52.984375 37.671875 58.78125 \r\n",
       "Q 33.546875 64.59375 27.390625 64.59375 \r\n",
       "Q 21.34375 64.59375 17.71875 59.46875 \r\n",
       "Q 13.1875 52.9375 13.1875 35.296875 \r\n",
       "z\r\n",
       "\" id=\"ArialMT-48\"/>\r\n",
       "       </defs>\r\n",
       "       <use xlink:href=\"#ArialMT-48\"/>\r\n",
       "      </g>\r\n",
       "     </g>\r\n",
       "    </g>\r\n",
       "    <g id=\"xtick_2\">\r\n",
       "     <g id=\"line2d_2\">\r\n",
       "      <path clip-path=\"url(#p045c38e6c3)\" d=\"M 111.142003 224.64 \r\n",
       "L 111.142003 7.2 \r\n",
       "\" style=\"fill:none;stroke:#ffffff;stroke-linecap:round;\"/>\r\n",
       "     </g>\r\n",
       "     <g id=\"text_2\">\r\n",
       "      <!-- 10 -->\r\n",
       "      <g style=\"fill:#555555;\" transform=\"translate(105.024972 242.013594)scale(0.11 -0.11)\">\r\n",
       "       <defs>\r\n",
       "        <path d=\"M 37.25 0 \r\n",
       "L 28.46875 0 \r\n",
       "L 28.46875 56 \r\n",
       "Q 25.296875 52.984375 20.140625 49.953125 \r\n",
       "Q 14.984375 46.921875 10.890625 45.40625 \r\n",
       "L 10.890625 53.90625 \r\n",
       "Q 18.265625 57.375 23.78125 62.296875 \r\n",
       "Q 29.296875 67.234375 31.59375 71.875 \r\n",
       "L 37.25 71.875 \r\n",
       "z\r\n",
       "\" id=\"ArialMT-49\"/>\r\n",
       "       </defs>\r\n",
       "       <use xlink:href=\"#ArialMT-49\"/>\r\n",
       "       <use x=\"55.615234\" xlink:href=\"#ArialMT-48\"/>\r\n",
       "      </g>\r\n",
       "     </g>\r\n",
       "    </g>\r\n",
       "    <g id=\"xtick_3\">\r\n",
       "     <g id=\"line2d_3\">\r\n",
       "      <path clip-path=\"url(#p045c38e6c3)\" d=\"M 172.01473 224.64 \r\n",
       "L 172.01473 7.2 \r\n",
       "\" style=\"fill:none;stroke:#ffffff;stroke-linecap:round;\"/>\r\n",
       "     </g>\r\n",
       "     <g id=\"text_3\">\r\n",
       "      <!-- 20 -->\r\n",
       "      <g style=\"fill:#555555;\" transform=\"translate(165.897699 242.013594)scale(0.11 -0.11)\">\r\n",
       "       <defs>\r\n",
       "        <path d=\"M 50.34375 8.453125 \r\n",
       "L 50.34375 0 \r\n",
       "L 3.03125 0 \r\n",
       "Q 2.9375 3.171875 4.046875 6.109375 \r\n",
       "Q 5.859375 10.9375 9.828125 15.625 \r\n",
       "Q 13.8125 20.3125 21.34375 26.46875 \r\n",
       "Q 33.015625 36.03125 37.109375 41.625 \r\n",
       "Q 41.21875 47.21875 41.21875 52.203125 \r\n",
       "Q 41.21875 57.421875 37.46875 61 \r\n",
       "Q 33.734375 64.59375 27.734375 64.59375 \r\n",
       "Q 21.390625 64.59375 17.578125 60.78125 \r\n",
       "Q 13.765625 56.984375 13.71875 50.25 \r\n",
       "L 4.6875 51.171875 \r\n",
       "Q 5.609375 61.28125 11.65625 66.578125 \r\n",
       "Q 17.71875 71.875 27.9375 71.875 \r\n",
       "Q 38.234375 71.875 44.234375 66.15625 \r\n",
       "Q 50.25 60.453125 50.25 52 \r\n",
       "Q 50.25 47.703125 48.484375 43.546875 \r\n",
       "Q 46.734375 39.40625 42.65625 34.8125 \r\n",
       "Q 38.578125 30.21875 29.109375 22.21875 \r\n",
       "Q 21.1875 15.578125 18.9375 13.203125 \r\n",
       "Q 16.703125 10.84375 15.234375 8.453125 \r\n",
       "z\r\n",
       "\" id=\"ArialMT-50\"/>\r\n",
       "       </defs>\r\n",
       "       <use xlink:href=\"#ArialMT-50\"/>\r\n",
       "       <use x=\"55.615234\" xlink:href=\"#ArialMT-48\"/>\r\n",
       "      </g>\r\n",
       "     </g>\r\n",
       "    </g>\r\n",
       "    <g id=\"xtick_4\">\r\n",
       "     <g id=\"line2d_4\">\r\n",
       "      <path clip-path=\"url(#p045c38e6c3)\" d=\"M 232.887457 224.64 \r\n",
       "L 232.887457 7.2 \r\n",
       "\" style=\"fill:none;stroke:#ffffff;stroke-linecap:round;\"/>\r\n",
       "     </g>\r\n",
       "     <g id=\"text_4\">\r\n",
       "      <!-- 30 -->\r\n",
       "      <g style=\"fill:#555555;\" transform=\"translate(226.770426 242.013594)scale(0.11 -0.11)\">\r\n",
       "       <defs>\r\n",
       "        <path d=\"M 4.203125 18.890625 \r\n",
       "L 12.984375 20.0625 \r\n",
       "Q 14.5 12.59375 18.140625 9.296875 \r\n",
       "Q 21.78125 6 27 6 \r\n",
       "Q 33.203125 6 37.46875 10.296875 \r\n",
       "Q 41.75 14.59375 41.75 20.953125 \r\n",
       "Q 41.75 27 37.796875 30.921875 \r\n",
       "Q 33.84375 34.859375 27.734375 34.859375 \r\n",
       "Q 25.25 34.859375 21.53125 33.890625 \r\n",
       "L 22.515625 41.609375 \r\n",
       "Q 23.390625 41.5 23.921875 41.5 \r\n",
       "Q 29.546875 41.5 34.03125 44.421875 \r\n",
       "Q 38.53125 47.359375 38.53125 53.46875 \r\n",
       "Q 38.53125 58.296875 35.25 61.46875 \r\n",
       "Q 31.984375 64.65625 26.8125 64.65625 \r\n",
       "Q 21.6875 64.65625 18.265625 61.421875 \r\n",
       "Q 14.84375 58.203125 13.875 51.765625 \r\n",
       "L 5.078125 53.328125 \r\n",
       "Q 6.6875 62.15625 12.390625 67.015625 \r\n",
       "Q 18.109375 71.875 26.609375 71.875 \r\n",
       "Q 32.46875 71.875 37.390625 69.359375 \r\n",
       "Q 42.328125 66.84375 44.9375 62.5 \r\n",
       "Q 47.5625 58.15625 47.5625 53.265625 \r\n",
       "Q 47.5625 48.640625 45.0625 44.828125 \r\n",
       "Q 42.578125 41.015625 37.703125 38.765625 \r\n",
       "Q 44.046875 37.3125 47.5625 32.6875 \r\n",
       "Q 51.078125 28.078125 51.078125 21.140625 \r\n",
       "Q 51.078125 11.765625 44.234375 5.25 \r\n",
       "Q 37.40625 -1.265625 26.953125 -1.265625 \r\n",
       "Q 17.53125 -1.265625 11.296875 4.34375 \r\n",
       "Q 5.078125 9.96875 4.203125 18.890625 \r\n",
       "z\r\n",
       "\" id=\"ArialMT-51\"/>\r\n",
       "       </defs>\r\n",
       "       <use xlink:href=\"#ArialMT-51\"/>\r\n",
       "       <use x=\"55.615234\" xlink:href=\"#ArialMT-48\"/>\r\n",
       "      </g>\r\n",
       "     </g>\r\n",
       "    </g>\r\n",
       "    <g id=\"xtick_5\">\r\n",
       "     <g id=\"line2d_5\">\r\n",
       "      <path clip-path=\"url(#p045c38e6c3)\" d=\"M 293.760185 224.64 \r\n",
       "L 293.760185 7.2 \r\n",
       "\" style=\"fill:none;stroke:#ffffff;stroke-linecap:round;\"/>\r\n",
       "     </g>\r\n",
       "     <g id=\"text_5\">\r\n",
       "      <!-- 40 -->\r\n",
       "      <g style=\"fill:#555555;\" transform=\"translate(287.643153 242.013594)scale(0.11 -0.11)\">\r\n",
       "       <defs>\r\n",
       "        <path d=\"M 32.328125 0 \r\n",
       "L 32.328125 17.140625 \r\n",
       "L 1.265625 17.140625 \r\n",
       "L 1.265625 25.203125 \r\n",
       "L 33.9375 71.578125 \r\n",
       "L 41.109375 71.578125 \r\n",
       "L 41.109375 25.203125 \r\n",
       "L 50.78125 25.203125 \r\n",
       "L 50.78125 17.140625 \r\n",
       "L 41.109375 17.140625 \r\n",
       "L 41.109375 0 \r\n",
       "z\r\n",
       "M 32.328125 25.203125 \r\n",
       "L 32.328125 57.46875 \r\n",
       "L 9.90625 25.203125 \r\n",
       "z\r\n",
       "\" id=\"ArialMT-52\"/>\r\n",
       "       </defs>\r\n",
       "       <use xlink:href=\"#ArialMT-52\"/>\r\n",
       "       <use x=\"55.615234\" xlink:href=\"#ArialMT-48\"/>\r\n",
       "      </g>\r\n",
       "     </g>\r\n",
       "    </g>\r\n",
       "    <g id=\"xtick_6\">\r\n",
       "     <g id=\"line2d_6\">\r\n",
       "      <path clip-path=\"url(#p045c38e6c3)\" d=\"M 354.632912 224.64 \r\n",
       "L 354.632912 7.2 \r\n",
       "\" style=\"fill:none;stroke:#ffffff;stroke-linecap:round;\"/>\r\n",
       "     </g>\r\n",
       "     <g id=\"text_6\">\r\n",
       "      <!-- 50 -->\r\n",
       "      <g style=\"fill:#555555;\" transform=\"translate(348.515881 242.013594)scale(0.11 -0.11)\">\r\n",
       "       <defs>\r\n",
       "        <path d=\"M 4.15625 18.75 \r\n",
       "L 13.375 19.53125 \r\n",
       "Q 14.40625 12.796875 18.140625 9.390625 \r\n",
       "Q 21.875 6 27.15625 6 \r\n",
       "Q 33.5 6 37.890625 10.78125 \r\n",
       "Q 42.28125 15.578125 42.28125 23.484375 \r\n",
       "Q 42.28125 31 38.0625 35.34375 \r\n",
       "Q 33.84375 39.703125 27 39.703125 \r\n",
       "Q 22.75 39.703125 19.328125 37.765625 \r\n",
       "Q 15.921875 35.84375 13.96875 32.765625 \r\n",
       "L 5.71875 33.84375 \r\n",
       "L 12.640625 70.609375 \r\n",
       "L 48.25 70.609375 \r\n",
       "L 48.25 62.203125 \r\n",
       "L 19.671875 62.203125 \r\n",
       "L 15.828125 42.96875 \r\n",
       "Q 22.265625 47.46875 29.34375 47.46875 \r\n",
       "Q 38.71875 47.46875 45.15625 40.96875 \r\n",
       "Q 51.609375 34.46875 51.609375 24.265625 \r\n",
       "Q 51.609375 14.546875 45.953125 7.46875 \r\n",
       "Q 39.0625 -1.21875 27.15625 -1.21875 \r\n",
       "Q 17.390625 -1.21875 11.203125 4.25 \r\n",
       "Q 5.03125 9.71875 4.15625 18.75 \r\n",
       "z\r\n",
       "\" id=\"ArialMT-53\"/>\r\n",
       "       </defs>\r\n",
       "       <use xlink:href=\"#ArialMT-53\"/>\r\n",
       "       <use x=\"55.615234\" xlink:href=\"#ArialMT-48\"/>\r\n",
       "      </g>\r\n",
       "     </g>\r\n",
       "    </g>\r\n",
       "   </g>\r\n",
       "   <g id=\"matplotlib.axis_2\">\r\n",
       "    <g id=\"ytick_1\">\r\n",
       "     <g id=\"line2d_7\">\r\n",
       "      <path clip-path=\"url(#p045c38e6c3)\" d=\"M 35.051094 224.64 \r\n",
       "L 369.851094 224.64 \r\n",
       "\" style=\"fill:none;stroke:#ffffff;stroke-linecap:round;\"/>\r\n",
       "     </g>\r\n",
       "     <g id=\"text_7\">\r\n",
       "      <!-- 0 -->\r\n",
       "      <g style=\"fill:#555555;\" transform=\"translate(19.434063 228.576797)scale(0.11 -0.11)\">\r\n",
       "       <use xlink:href=\"#ArialMT-48\"/>\r\n",
       "      </g>\r\n",
       "     </g>\r\n",
       "    </g>\r\n",
       "    <g id=\"ytick_2\">\r\n",
       "     <g id=\"line2d_8\">\r\n",
       "      <path clip-path=\"url(#p045c38e6c3)\" d=\"M 35.051094 200.132815 \r\n",
       "L 369.851094 200.132815 \r\n",
       "\" style=\"fill:none;stroke:#ffffff;stroke-linecap:round;\"/>\r\n",
       "     </g>\r\n",
       "     <g id=\"text_8\">\r\n",
       "      <!-- 100 -->\r\n",
       "      <g style=\"fill:#555555;\" transform=\"translate(7.2 204.069612)scale(0.11 -0.11)\">\r\n",
       "       <use xlink:href=\"#ArialMT-49\"/>\r\n",
       "       <use x=\"55.615234\" xlink:href=\"#ArialMT-48\"/>\r\n",
       "       <use x=\"111.230469\" xlink:href=\"#ArialMT-48\"/>\r\n",
       "      </g>\r\n",
       "     </g>\r\n",
       "    </g>\r\n",
       "    <g id=\"ytick_3\">\r\n",
       "     <g id=\"line2d_9\">\r\n",
       "      <path clip-path=\"url(#p045c38e6c3)\" d=\"M 35.051094 175.62563 \r\n",
       "L 369.851094 175.62563 \r\n",
       "\" style=\"fill:none;stroke:#ffffff;stroke-linecap:round;\"/>\r\n",
       "     </g>\r\n",
       "     <g id=\"text_9\">\r\n",
       "      <!-- 200 -->\r\n",
       "      <g style=\"fill:#555555;\" transform=\"translate(7.2 179.562427)scale(0.11 -0.11)\">\r\n",
       "       <use xlink:href=\"#ArialMT-50\"/>\r\n",
       "       <use x=\"55.615234\" xlink:href=\"#ArialMT-48\"/>\r\n",
       "       <use x=\"111.230469\" xlink:href=\"#ArialMT-48\"/>\r\n",
       "      </g>\r\n",
       "     </g>\r\n",
       "    </g>\r\n",
       "    <g id=\"ytick_4\">\r\n",
       "     <g id=\"line2d_10\">\r\n",
       "      <path clip-path=\"url(#p045c38e6c3)\" d=\"M 35.051094 151.118445 \r\n",
       "L 369.851094 151.118445 \r\n",
       "\" style=\"fill:none;stroke:#ffffff;stroke-linecap:round;\"/>\r\n",
       "     </g>\r\n",
       "     <g id=\"text_10\">\r\n",
       "      <!-- 300 -->\r\n",
       "      <g style=\"fill:#555555;\" transform=\"translate(7.2 155.055242)scale(0.11 -0.11)\">\r\n",
       "       <use xlink:href=\"#ArialMT-51\"/>\r\n",
       "       <use x=\"55.615234\" xlink:href=\"#ArialMT-48\"/>\r\n",
       "       <use x=\"111.230469\" xlink:href=\"#ArialMT-48\"/>\r\n",
       "      </g>\r\n",
       "     </g>\r\n",
       "    </g>\r\n",
       "    <g id=\"ytick_5\">\r\n",
       "     <g id=\"line2d_11\">\r\n",
       "      <path clip-path=\"url(#p045c38e6c3)\" d=\"M 35.051094 126.61126 \r\n",
       "L 369.851094 126.61126 \r\n",
       "\" style=\"fill:none;stroke:#ffffff;stroke-linecap:round;\"/>\r\n",
       "     </g>\r\n",
       "     <g id=\"text_11\">\r\n",
       "      <!-- 400 -->\r\n",
       "      <g style=\"fill:#555555;\" transform=\"translate(7.2 130.548056)scale(0.11 -0.11)\">\r\n",
       "       <use xlink:href=\"#ArialMT-52\"/>\r\n",
       "       <use x=\"55.615234\" xlink:href=\"#ArialMT-48\"/>\r\n",
       "       <use x=\"111.230469\" xlink:href=\"#ArialMT-48\"/>\r\n",
       "      </g>\r\n",
       "     </g>\r\n",
       "    </g>\r\n",
       "    <g id=\"ytick_6\">\r\n",
       "     <g id=\"line2d_12\">\r\n",
       "      <path clip-path=\"url(#p045c38e6c3)\" d=\"M 35.051094 102.104074 \r\n",
       "L 369.851094 102.104074 \r\n",
       "\" style=\"fill:none;stroke:#ffffff;stroke-linecap:round;\"/>\r\n",
       "     </g>\r\n",
       "     <g id=\"text_12\">\r\n",
       "      <!-- 500 -->\r\n",
       "      <g style=\"fill:#555555;\" transform=\"translate(7.2 106.040871)scale(0.11 -0.11)\">\r\n",
       "       <use xlink:href=\"#ArialMT-53\"/>\r\n",
       "       <use x=\"55.615234\" xlink:href=\"#ArialMT-48\"/>\r\n",
       "       <use x=\"111.230469\" xlink:href=\"#ArialMT-48\"/>\r\n",
       "      </g>\r\n",
       "     </g>\r\n",
       "    </g>\r\n",
       "    <g id=\"ytick_7\">\r\n",
       "     <g id=\"line2d_13\">\r\n",
       "      <path clip-path=\"url(#p045c38e6c3)\" d=\"M 35.051094 77.596889 \r\n",
       "L 369.851094 77.596889 \r\n",
       "\" style=\"fill:none;stroke:#ffffff;stroke-linecap:round;\"/>\r\n",
       "     </g>\r\n",
       "     <g id=\"text_13\">\r\n",
       "      <!-- 600 -->\r\n",
       "      <g style=\"fill:#555555;\" transform=\"translate(7.2 81.533686)scale(0.11 -0.11)\">\r\n",
       "       <defs>\r\n",
       "        <path d=\"M 49.75 54.046875 \r\n",
       "L 41.015625 53.375 \r\n",
       "Q 39.84375 58.546875 37.703125 60.890625 \r\n",
       "Q 34.125 64.65625 28.90625 64.65625 \r\n",
       "Q 24.703125 64.65625 21.53125 62.3125 \r\n",
       "Q 17.390625 59.28125 14.984375 53.46875 \r\n",
       "Q 12.59375 47.65625 12.5 36.921875 \r\n",
       "Q 15.671875 41.75 20.265625 44.09375 \r\n",
       "Q 24.859375 46.4375 29.890625 46.4375 \r\n",
       "Q 38.671875 46.4375 44.84375 39.96875 \r\n",
       "Q 51.03125 33.5 51.03125 23.25 \r\n",
       "Q 51.03125 16.5 48.125 10.71875 \r\n",
       "Q 45.21875 4.9375 40.140625 1.859375 \r\n",
       "Q 35.0625 -1.21875 28.609375 -1.21875 \r\n",
       "Q 17.625 -1.21875 10.6875 6.859375 \r\n",
       "Q 3.765625 14.9375 3.765625 33.5 \r\n",
       "Q 3.765625 54.25 11.421875 63.671875 \r\n",
       "Q 18.109375 71.875 29.4375 71.875 \r\n",
       "Q 37.890625 71.875 43.28125 67.140625 \r\n",
       "Q 48.6875 62.40625 49.75 54.046875 \r\n",
       "z\r\n",
       "M 13.875 23.1875 \r\n",
       "Q 13.875 18.65625 15.796875 14.5 \r\n",
       "Q 17.71875 10.359375 21.1875 8.171875 \r\n",
       "Q 24.65625 6 28.46875 6 \r\n",
       "Q 34.03125 6 38.03125 10.484375 \r\n",
       "Q 42.046875 14.984375 42.046875 22.703125 \r\n",
       "Q 42.046875 30.125 38.078125 34.390625 \r\n",
       "Q 34.125 38.671875 28.125 38.671875 \r\n",
       "Q 22.171875 38.671875 18.015625 34.390625 \r\n",
       "Q 13.875 30.125 13.875 23.1875 \r\n",
       "z\r\n",
       "\" id=\"ArialMT-54\"/>\r\n",
       "       </defs>\r\n",
       "       <use xlink:href=\"#ArialMT-54\"/>\r\n",
       "       <use x=\"55.615234\" xlink:href=\"#ArialMT-48\"/>\r\n",
       "       <use x=\"111.230469\" xlink:href=\"#ArialMT-48\"/>\r\n",
       "      </g>\r\n",
       "     </g>\r\n",
       "    </g>\r\n",
       "    <g id=\"ytick_8\">\r\n",
       "     <g id=\"line2d_14\">\r\n",
       "      <path clip-path=\"url(#p045c38e6c3)\" d=\"M 35.051094 53.089704 \r\n",
       "L 369.851094 53.089704 \r\n",
       "\" style=\"fill:none;stroke:#ffffff;stroke-linecap:round;\"/>\r\n",
       "     </g>\r\n",
       "     <g id=\"text_14\">\r\n",
       "      <!-- 700 -->\r\n",
       "      <g style=\"fill:#555555;\" transform=\"translate(7.2 57.026501)scale(0.11 -0.11)\">\r\n",
       "       <defs>\r\n",
       "        <path d=\"M 4.734375 62.203125 \r\n",
       "L 4.734375 70.65625 \r\n",
       "L 51.078125 70.65625 \r\n",
       "L 51.078125 63.8125 \r\n",
       "Q 44.234375 56.546875 37.515625 44.484375 \r\n",
       "Q 30.8125 32.421875 27.15625 19.671875 \r\n",
       "Q 24.515625 10.6875 23.78125 0 \r\n",
       "L 14.75 0 \r\n",
       "Q 14.890625 8.453125 18.0625 20.40625 \r\n",
       "Q 21.234375 32.375 27.171875 43.484375 \r\n",
       "Q 33.109375 54.59375 39.796875 62.203125 \r\n",
       "z\r\n",
       "\" id=\"ArialMT-55\"/>\r\n",
       "       </defs>\r\n",
       "       <use xlink:href=\"#ArialMT-55\"/>\r\n",
       "       <use x=\"55.615234\" xlink:href=\"#ArialMT-48\"/>\r\n",
       "       <use x=\"111.230469\" xlink:href=\"#ArialMT-48\"/>\r\n",
       "      </g>\r\n",
       "     </g>\r\n",
       "    </g>\r\n",
       "    <g id=\"ytick_9\">\r\n",
       "     <g id=\"line2d_15\">\r\n",
       "      <path clip-path=\"url(#p045c38e6c3)\" d=\"M 35.051094 28.582519 \r\n",
       "L 369.851094 28.582519 \r\n",
       "\" style=\"fill:none;stroke:#ffffff;stroke-linecap:round;\"/>\r\n",
       "     </g>\r\n",
       "     <g id=\"text_15\">\r\n",
       "      <!-- 800 -->\r\n",
       "      <g style=\"fill:#555555;\" transform=\"translate(7.2 32.519316)scale(0.11 -0.11)\">\r\n",
       "       <defs>\r\n",
       "        <path d=\"M 17.671875 38.8125 \r\n",
       "Q 12.203125 40.828125 9.5625 44.53125 \r\n",
       "Q 6.9375 48.25 6.9375 53.421875 \r\n",
       "Q 6.9375 61.234375 12.546875 66.546875 \r\n",
       "Q 18.171875 71.875 27.484375 71.875 \r\n",
       "Q 36.859375 71.875 42.578125 66.421875 \r\n",
       "Q 48.296875 60.984375 48.296875 53.171875 \r\n",
       "Q 48.296875 48.1875 45.671875 44.5 \r\n",
       "Q 43.0625 40.828125 37.75 38.8125 \r\n",
       "Q 44.34375 36.671875 47.78125 31.875 \r\n",
       "Q 51.21875 27.09375 51.21875 20.453125 \r\n",
       "Q 51.21875 11.28125 44.71875 5.03125 \r\n",
       "Q 38.234375 -1.21875 27.640625 -1.21875 \r\n",
       "Q 17.046875 -1.21875 10.546875 5.046875 \r\n",
       "Q 4.046875 11.328125 4.046875 20.703125 \r\n",
       "Q 4.046875 27.6875 7.59375 32.390625 \r\n",
       "Q 11.140625 37.109375 17.671875 38.8125 \r\n",
       "z\r\n",
       "M 15.921875 53.71875 \r\n",
       "Q 15.921875 48.640625 19.1875 45.40625 \r\n",
       "Q 22.46875 42.1875 27.6875 42.1875 \r\n",
       "Q 32.765625 42.1875 36.015625 45.375 \r\n",
       "Q 39.265625 48.578125 39.265625 53.21875 \r\n",
       "Q 39.265625 58.0625 35.90625 61.359375 \r\n",
       "Q 32.5625 64.65625 27.59375 64.65625 \r\n",
       "Q 22.5625 64.65625 19.234375 61.421875 \r\n",
       "Q 15.921875 58.203125 15.921875 53.71875 \r\n",
       "z\r\n",
       "M 13.09375 20.65625 \r\n",
       "Q 13.09375 16.890625 14.875 13.375 \r\n",
       "Q 16.65625 9.859375 20.171875 7.921875 \r\n",
       "Q 23.6875 6 27.734375 6 \r\n",
       "Q 34.03125 6 38.125 10.046875 \r\n",
       "Q 42.234375 14.109375 42.234375 20.359375 \r\n",
       "Q 42.234375 26.703125 38.015625 30.859375 \r\n",
       "Q 33.796875 35.015625 27.4375 35.015625 \r\n",
       "Q 21.234375 35.015625 17.15625 30.90625 \r\n",
       "Q 13.09375 26.8125 13.09375 20.65625 \r\n",
       "z\r\n",
       "\" id=\"ArialMT-56\"/>\r\n",
       "       </defs>\r\n",
       "       <use xlink:href=\"#ArialMT-56\"/>\r\n",
       "       <use x=\"55.615234\" xlink:href=\"#ArialMT-48\"/>\r\n",
       "       <use x=\"111.230469\" xlink:href=\"#ArialMT-48\"/>\r\n",
       "      </g>\r\n",
       "     </g>\r\n",
       "    </g>\r\n",
       "   </g>\r\n",
       "   <g id=\"patch_3\">\r\n",
       "    <path clip-path=\"url(#p045c38e6c3)\" d=\"M 50.269276 224.64 \r\n",
       "L 56.356548 224.64 \r\n",
       "L 56.356548 106.025224 \r\n",
       "L 50.269276 106.025224 \r\n",
       "z\r\n",
       "\" style=\"fill:#e24a33;stroke:#eeeeee;stroke-linejoin:miter;stroke-width:0.5;\"/>\r\n",
       "   </g>\r\n",
       "   <g id=\"patch_4\">\r\n",
       "    <path clip-path=\"url(#p045c38e6c3)\" d=\"M 56.356548 224.64 \r\n",
       "L 62.443821 224.64 \r\n",
       "L 62.443821 41.081183 \r\n",
       "L 56.356548 41.081183 \r\n",
       "z\r\n",
       "\" style=\"fill:#e24a33;stroke:#eeeeee;stroke-linejoin:miter;stroke-width:0.5;\"/>\r\n",
       "   </g>\r\n",
       "   <g id=\"patch_5\">\r\n",
       "    <path clip-path=\"url(#p045c38e6c3)\" d=\"M 62.443821 224.64 \r\n",
       "L 68.531094 224.64 \r\n",
       "L 68.531094 26.867016 \r\n",
       "L 62.443821 26.867016 \r\n",
       "z\r\n",
       "\" style=\"fill:#e24a33;stroke:#eeeeee;stroke-linejoin:miter;stroke-width:0.5;\"/>\r\n",
       "   </g>\r\n",
       "   <g id=\"patch_6\">\r\n",
       "    <path clip-path=\"url(#p045c38e6c3)\" d=\"M 68.531094 224.64 \r\n",
       "L 74.618366 224.64 \r\n",
       "L 74.618366 17.554286 \r\n",
       "L 68.531094 17.554286 \r\n",
       "z\r\n",
       "\" style=\"fill:#e24a33;stroke:#eeeeee;stroke-linejoin:miter;stroke-width:0.5;\"/>\r\n",
       "   </g>\r\n",
       "   <g id=\"patch_7\">\r\n",
       "    <path clip-path=\"url(#p045c38e6c3)\" d=\"M 74.618366 224.64 \r\n",
       "L 80.705639 224.64 \r\n",
       "L 80.705639 47.943195 \r\n",
       "L 74.618366 47.943195 \r\n",
       "z\r\n",
       "\" style=\"fill:#e24a33;stroke:#eeeeee;stroke-linejoin:miter;stroke-width:0.5;\"/>\r\n",
       "   </g>\r\n",
       "   <g id=\"patch_8\">\r\n",
       "    <path clip-path=\"url(#p045c38e6c3)\" d=\"M 80.705639 224.64 \r\n",
       "L 86.792912 224.64 \r\n",
       "L 86.792912 59.461572 \r\n",
       "L 80.705639 59.461572 \r\n",
       "z\r\n",
       "\" style=\"fill:#e24a33;stroke:#eeeeee;stroke-linejoin:miter;stroke-width:0.5;\"/>\r\n",
       "   </g>\r\n",
       "   <g id=\"patch_9\">\r\n",
       "    <path clip-path=\"url(#p045c38e6c3)\" d=\"M 86.792912 224.64 \r\n",
       "L 92.880185 224.64 \r\n",
       "L 92.880185 71.715165 \r\n",
       "L 86.792912 71.715165 \r\n",
       "z\r\n",
       "\" style=\"fill:#e24a33;stroke:#eeeeee;stroke-linejoin:miter;stroke-width:0.5;\"/>\r\n",
       "   </g>\r\n",
       "   <g id=\"patch_10\">\r\n",
       "    <path clip-path=\"url(#p045c38e6c3)\" d=\"M 92.880185 224.64 \r\n",
       "L 98.967457 224.64 \r\n",
       "L 98.967457 95.977278 \r\n",
       "L 92.880185 95.977278 \r\n",
       "z\r\n",
       "\" style=\"fill:#e24a33;stroke:#eeeeee;stroke-linejoin:miter;stroke-width:0.5;\"/>\r\n",
       "   </g>\r\n",
       "   <g id=\"patch_11\">\r\n",
       "    <path clip-path=\"url(#p045c38e6c3)\" d=\"M 98.967457 224.64 \r\n",
       "L 105.05473 224.64 \r\n",
       "L 105.05473 105.53508 \r\n",
       "L 98.967457 105.53508 \r\n",
       "z\r\n",
       "\" style=\"fill:#e24a33;stroke:#eeeeee;stroke-linejoin:miter;stroke-width:0.5;\"/>\r\n",
       "   </g>\r\n",
       "   <g id=\"patch_12\">\r\n",
       "    <path clip-path=\"url(#p045c38e6c3)\" d=\"M 105.05473 224.64 \r\n",
       "L 111.142003 224.64 \r\n",
       "L 111.142003 113.132308 \r\n",
       "L 105.05473 113.132308 \r\n",
       "z\r\n",
       "\" style=\"fill:#e24a33;stroke:#eeeeee;stroke-linejoin:miter;stroke-width:0.5;\"/>\r\n",
       "   </g>\r\n",
       "   <g id=\"patch_13\">\r\n",
       "    <path clip-path=\"url(#p045c38e6c3)\" d=\"M 111.142003 224.64 \r\n",
       "L 117.229276 224.64 \r\n",
       "L 117.229276 129.30705 \r\n",
       "L 111.142003 129.30705 \r\n",
       "z\r\n",
       "\" style=\"fill:#e24a33;stroke:#eeeeee;stroke-linejoin:miter;stroke-width:0.5;\"/>\r\n",
       "   </g>\r\n",
       "   <g id=\"patch_14\">\r\n",
       "    <path clip-path=\"url(#p045c38e6c3)\" d=\"M 117.229276 224.64 \r\n",
       "L 123.316548 224.64 \r\n",
       "L 123.316548 141.560642 \r\n",
       "L 117.229276 141.560642 \r\n",
       "z\r\n",
       "\" style=\"fill:#e24a33;stroke:#eeeeee;stroke-linejoin:miter;stroke-width:0.5;\"/>\r\n",
       "   </g>\r\n",
       "   <g id=\"patch_15\">\r\n",
       "    <path clip-path=\"url(#p045c38e6c3)\" d=\"M 123.316548 224.64 \r\n",
       "L 129.403821 224.64 \r\n",
       "L 129.403821 144.011361 \r\n",
       "L 123.316548 144.011361 \r\n",
       "z\r\n",
       "\" style=\"fill:#e24a33;stroke:#eeeeee;stroke-linejoin:miter;stroke-width:0.5;\"/>\r\n",
       "   </g>\r\n",
       "   <g id=\"patch_16\">\r\n",
       "    <path clip-path=\"url(#p045c38e6c3)\" d=\"M 129.403821 224.64 \r\n",
       "L 135.491094 224.64 \r\n",
       "L 135.491094 154.549451 \r\n",
       "L 129.403821 154.549451 \r\n",
       "z\r\n",
       "\" style=\"fill:#e24a33;stroke:#eeeeee;stroke-linejoin:miter;stroke-width:0.5;\"/>\r\n",
       "   </g>\r\n",
       "   <g id=\"patch_17\">\r\n",
       "    <path clip-path=\"url(#p045c38e6c3)\" d=\"M 135.491094 224.64 \r\n",
       "L 141.578366 224.64 \r\n",
       "L 141.578366 169.498833 \r\n",
       "L 135.491094 169.498833 \r\n",
       "z\r\n",
       "\" style=\"fill:#e24a33;stroke:#eeeeee;stroke-linejoin:miter;stroke-width:0.5;\"/>\r\n",
       "   </g>\r\n",
       "   <g id=\"patch_18\">\r\n",
       "    <path clip-path=\"url(#p045c38e6c3)\" d=\"M 141.578366 224.64 \r\n",
       "L 147.665639 224.64 \r\n",
       "L 147.665639 176.605917 \r\n",
       "L 141.578366 176.605917 \r\n",
       "z\r\n",
       "\" style=\"fill:#e24a33;stroke:#eeeeee;stroke-linejoin:miter;stroke-width:0.5;\"/>\r\n",
       "   </g>\r\n",
       "   <g id=\"patch_19\">\r\n",
       "    <path clip-path=\"url(#p045c38e6c3)\" d=\"M 147.665639 224.64 \r\n",
       "L 153.752912 224.64 \r\n",
       "L 153.752912 177.341133 \r\n",
       "L 147.665639 177.341133 \r\n",
       "z\r\n",
       "\" style=\"fill:#e24a33;stroke:#eeeeee;stroke-linejoin:miter;stroke-width:0.5;\"/>\r\n",
       "   </g>\r\n",
       "   <g id=\"patch_20\">\r\n",
       "    <path clip-path=\"url(#p045c38e6c3)\" d=\"M 153.752912 224.64 \r\n",
       "L 159.840185 224.64 \r\n",
       "L 159.840185 179.056636 \r\n",
       "L 153.752912 179.056636 \r\n",
       "z\r\n",
       "\" style=\"fill:#e24a33;stroke:#eeeeee;stroke-linejoin:miter;stroke-width:0.5;\"/>\r\n",
       "   </g>\r\n",
       "   <g id=\"patch_21\">\r\n",
       "    <path clip-path=\"url(#p045c38e6c3)\" d=\"M 159.840185 224.64 \r\n",
       "L 165.927457 224.64 \r\n",
       "L 165.927457 189.349653 \r\n",
       "L 159.840185 189.349653 \r\n",
       "z\r\n",
       "\" style=\"fill:#e24a33;stroke:#eeeeee;stroke-linejoin:miter;stroke-width:0.5;\"/>\r\n",
       "   </g>\r\n",
       "   <g id=\"patch_22\">\r\n",
       "    <path clip-path=\"url(#p045c38e6c3)\" d=\"M 165.927457 224.64 \r\n",
       "L 172.01473 224.64 \r\n",
       "L 172.01473 193.515875 \r\n",
       "L 165.927457 193.515875 \r\n",
       "z\r\n",
       "\" style=\"fill:#e24a33;stroke:#eeeeee;stroke-linejoin:miter;stroke-width:0.5;\"/>\r\n",
       "   </g>\r\n",
       "   <g id=\"patch_23\">\r\n",
       "    <path clip-path=\"url(#p045c38e6c3)\" d=\"M 172.01473 224.64 \r\n",
       "L 178.102003 224.64 \r\n",
       "L 178.102003 196.211665 \r\n",
       "L 172.01473 196.211665 \r\n",
       "z\r\n",
       "\" style=\"fill:#e24a33;stroke:#eeeeee;stroke-linejoin:miter;stroke-width:0.5;\"/>\r\n",
       "   </g>\r\n",
       "   <g id=\"patch_24\">\r\n",
       "    <path clip-path=\"url(#p045c38e6c3)\" d=\"M 178.102003 224.64 \r\n",
       "L 184.189276 224.64 \r\n",
       "L 184.189276 197.191953 \r\n",
       "L 178.102003 197.191953 \r\n",
       "z\r\n",
       "\" style=\"fill:#e24a33;stroke:#eeeeee;stroke-linejoin:miter;stroke-width:0.5;\"/>\r\n",
       "   </g>\r\n",
       "   <g id=\"patch_25\">\r\n",
       "    <path clip-path=\"url(#p045c38e6c3)\" d=\"M 184.189276 224.64 \r\n",
       "L 190.276548 224.64 \r\n",
       "L 190.276548 200.86803 \r\n",
       "L 184.189276 200.86803 \r\n",
       "z\r\n",
       "\" style=\"fill:#e24a33;stroke:#eeeeee;stroke-linejoin:miter;stroke-width:0.5;\"/>\r\n",
       "   </g>\r\n",
       "   <g id=\"patch_26\">\r\n",
       "    <path clip-path=\"url(#p045c38e6c3)\" d=\"M 190.276548 224.64 \r\n",
       "L 196.363821 224.64 \r\n",
       "L 196.363821 206.259611 \r\n",
       "L 190.276548 206.259611 \r\n",
       "z\r\n",
       "\" style=\"fill:#e24a33;stroke:#eeeeee;stroke-linejoin:miter;stroke-width:0.5;\"/>\r\n",
       "   </g>\r\n",
       "   <g id=\"patch_27\">\r\n",
       "    <path clip-path=\"url(#p045c38e6c3)\" d=\"M 196.363821 224.64 \r\n",
       "L 202.451094 224.64 \r\n",
       "L 202.451094 206.259611 \r\n",
       "L 196.363821 206.259611 \r\n",
       "z\r\n",
       "\" style=\"fill:#e24a33;stroke:#eeeeee;stroke-linejoin:miter;stroke-width:0.5;\"/>\r\n",
       "   </g>\r\n",
       "   <g id=\"patch_28\">\r\n",
       "    <path clip-path=\"url(#p045c38e6c3)\" d=\"M 202.451094 224.64 \r\n",
       "L 208.538366 224.64 \r\n",
       "L 208.538366 207.730042 \r\n",
       "L 202.451094 207.730042 \r\n",
       "z\r\n",
       "\" style=\"fill:#e24a33;stroke:#eeeeee;stroke-linejoin:miter;stroke-width:0.5;\"/>\r\n",
       "   </g>\r\n",
       "   <g id=\"patch_29\">\r\n",
       "    <path clip-path=\"url(#p045c38e6c3)\" d=\"M 208.538366 224.64 \r\n",
       "L 214.625639 224.64 \r\n",
       "L 214.625639 212.141336 \r\n",
       "L 208.538366 212.141336 \r\n",
       "z\r\n",
       "\" style=\"fill:#e24a33;stroke:#eeeeee;stroke-linejoin:miter;stroke-width:0.5;\"/>\r\n",
       "   </g>\r\n",
       "   <g id=\"patch_30\">\r\n",
       "    <path clip-path=\"url(#p045c38e6c3)\" d=\"M 214.625639 224.64 \r\n",
       "L 220.712912 224.64 \r\n",
       "L 220.712912 210.425833 \r\n",
       "L 214.625639 210.425833 \r\n",
       "z\r\n",
       "\" style=\"fill:#e24a33;stroke:#eeeeee;stroke-linejoin:miter;stroke-width:0.5;\"/>\r\n",
       "   </g>\r\n",
       "   <g id=\"patch_31\">\r\n",
       "    <path clip-path=\"url(#p045c38e6c3)\" d=\"M 220.712912 224.64 \r\n",
       "L 226.800185 224.64 \r\n",
       "L 226.800185 215.32727 \r\n",
       "L 220.712912 215.32727 \r\n",
       "z\r\n",
       "\" style=\"fill:#e24a33;stroke:#eeeeee;stroke-linejoin:miter;stroke-width:0.5;\"/>\r\n",
       "   </g>\r\n",
       "   <g id=\"patch_32\">\r\n",
       "    <path clip-path=\"url(#p045c38e6c3)\" d=\"M 226.800185 224.64 \r\n",
       "L 232.887457 224.64 \r\n",
       "L 232.887457 214.592054 \r\n",
       "L 226.800185 214.592054 \r\n",
       "z\r\n",
       "\" style=\"fill:#e24a33;stroke:#eeeeee;stroke-linejoin:miter;stroke-width:0.5;\"/>\r\n",
       "   </g>\r\n",
       "   <g id=\"patch_33\">\r\n",
       "    <path clip-path=\"url(#p045c38e6c3)\" d=\"M 232.887457 224.64 \r\n",
       "L 238.97473 224.64 \r\n",
       "L 238.97473 213.611767 \r\n",
       "L 232.887457 213.611767 \r\n",
       "z\r\n",
       "\" style=\"fill:#e24a33;stroke:#eeeeee;stroke-linejoin:miter;stroke-width:0.5;\"/>\r\n",
       "   </g>\r\n",
       "   <g id=\"patch_34\">\r\n",
       "    <path clip-path=\"url(#p045c38e6c3)\" d=\"M 238.97473 224.64 \r\n",
       "L 245.062003 224.64 \r\n",
       "L 245.062003 215.817413 \r\n",
       "L 238.97473 215.817413 \r\n",
       "z\r\n",
       "\" style=\"fill:#e24a33;stroke:#eeeeee;stroke-linejoin:miter;stroke-width:0.5;\"/>\r\n",
       "   </g>\r\n",
       "   <g id=\"patch_35\">\r\n",
       "    <path clip-path=\"url(#p045c38e6c3)\" d=\"M 245.062003 224.64 \r\n",
       "L 251.149276 224.64 \r\n",
       "L 251.149276 216.797701 \r\n",
       "L 245.062003 216.797701 \r\n",
       "z\r\n",
       "\" style=\"fill:#e24a33;stroke:#eeeeee;stroke-linejoin:miter;stroke-width:0.5;\"/>\r\n",
       "   </g>\r\n",
       "   <g id=\"patch_36\">\r\n",
       "    <path clip-path=\"url(#p045c38e6c3)\" d=\"M 251.149276 224.64 \r\n",
       "L 257.236548 224.64 \r\n",
       "L 257.236548 219.003347 \r\n",
       "L 251.149276 219.003347 \r\n",
       "z\r\n",
       "\" style=\"fill:#e24a33;stroke:#eeeeee;stroke-linejoin:miter;stroke-width:0.5;\"/>\r\n",
       "   </g>\r\n",
       "   <g id=\"patch_37\">\r\n",
       "    <path clip-path=\"url(#p045c38e6c3)\" d=\"M 257.236548 224.64 \r\n",
       "L 263.323821 224.64 \r\n",
       "L 263.323821 217.777988 \r\n",
       "L 257.236548 217.777988 \r\n",
       "z\r\n",
       "\" style=\"fill:#e24a33;stroke:#eeeeee;stroke-linejoin:miter;stroke-width:0.5;\"/>\r\n",
       "   </g>\r\n",
       "   <g id=\"patch_38\">\r\n",
       "    <path clip-path=\"url(#p045c38e6c3)\" d=\"M 263.323821 224.64 \r\n",
       "L 269.411094 224.64 \r\n",
       "L 269.411094 219.003347 \r\n",
       "L 263.323821 219.003347 \r\n",
       "z\r\n",
       "\" style=\"fill:#e24a33;stroke:#eeeeee;stroke-linejoin:miter;stroke-width:0.5;\"/>\r\n",
       "   </g>\r\n",
       "   <g id=\"patch_39\">\r\n",
       "    <path clip-path=\"url(#p045c38e6c3)\" d=\"M 269.411094 224.64 \r\n",
       "L 275.498366 224.64 \r\n",
       "L 275.498366 221.208994 \r\n",
       "L 269.411094 221.208994 \r\n",
       "z\r\n",
       "\" style=\"fill:#e24a33;stroke:#eeeeee;stroke-linejoin:miter;stroke-width:0.5;\"/>\r\n",
       "   </g>\r\n",
       "   <g id=\"patch_40\">\r\n",
       "    <path clip-path=\"url(#p045c38e6c3)\" d=\"M 275.498366 224.64 \r\n",
       "L 281.585639 224.64 \r\n",
       "L 281.585639 220.473779 \r\n",
       "L 275.498366 220.473779 \r\n",
       "z\r\n",
       "\" style=\"fill:#e24a33;stroke:#eeeeee;stroke-linejoin:miter;stroke-width:0.5;\"/>\r\n",
       "   </g>\r\n",
       "   <g id=\"patch_41\">\r\n",
       "    <path clip-path=\"url(#p045c38e6c3)\" d=\"M 281.585639 224.64 \r\n",
       "L 287.672912 224.64 \r\n",
       "L 287.672912 218.758276 \r\n",
       "L 281.585639 218.758276 \r\n",
       "z\r\n",
       "\" style=\"fill:#e24a33;stroke:#eeeeee;stroke-linejoin:miter;stroke-width:0.5;\"/>\r\n",
       "   </g>\r\n",
       "   <g id=\"patch_42\">\r\n",
       "    <path clip-path=\"url(#p045c38e6c3)\" d=\"M 287.672912 224.64 \r\n",
       "L 293.760185 224.64 \r\n",
       "L 293.760185 220.963922 \r\n",
       "L 287.672912 220.963922 \r\n",
       "z\r\n",
       "\" style=\"fill:#e24a33;stroke:#eeeeee;stroke-linejoin:miter;stroke-width:0.5;\"/>\r\n",
       "   </g>\r\n",
       "   <g id=\"patch_43\">\r\n",
       "    <path clip-path=\"url(#p045c38e6c3)\" d=\"M 293.760185 224.64 \r\n",
       "L 299.847457 224.64 \r\n",
       "L 299.847457 221.454066 \r\n",
       "L 293.760185 221.454066 \r\n",
       "z\r\n",
       "\" style=\"fill:#e24a33;stroke:#eeeeee;stroke-linejoin:miter;stroke-width:0.5;\"/>\r\n",
       "   </g>\r\n",
       "   <g id=\"patch_44\">\r\n",
       "    <path clip-path=\"url(#p045c38e6c3)\" d=\"M 299.847457 224.64 \r\n",
       "L 305.93473 224.64 \r\n",
       "L 305.93473 221.454066 \r\n",
       "L 299.847457 221.454066 \r\n",
       "z\r\n",
       "\" style=\"fill:#e24a33;stroke:#eeeeee;stroke-linejoin:miter;stroke-width:0.5;\"/>\r\n",
       "   </g>\r\n",
       "   <g id=\"patch_45\">\r\n",
       "    <path clip-path=\"url(#p045c38e6c3)\" d=\"M 305.93473 224.64 \r\n",
       "L 312.022003 224.64 \r\n",
       "L 312.022003 221.699138 \r\n",
       "L 305.93473 221.699138 \r\n",
       "z\r\n",
       "\" style=\"fill:#e24a33;stroke:#eeeeee;stroke-linejoin:miter;stroke-width:0.5;\"/>\r\n",
       "   </g>\r\n",
       "   <g id=\"patch_46\">\r\n",
       "    <path clip-path=\"url(#p045c38e6c3)\" d=\"M 312.022003 224.64 \r\n",
       "L 318.109276 224.64 \r\n",
       "L 318.109276 222.189281 \r\n",
       "L 312.022003 222.189281 \r\n",
       "z\r\n",
       "\" style=\"fill:#e24a33;stroke:#eeeeee;stroke-linejoin:miter;stroke-width:0.5;\"/>\r\n",
       "   </g>\r\n",
       "   <g id=\"patch_47\">\r\n",
       "    <path clip-path=\"url(#p045c38e6c3)\" d=\"M 318.109276 224.64 \r\n",
       "L 324.196548 224.64 \r\n",
       "L 324.196548 223.169569 \r\n",
       "L 318.109276 223.169569 \r\n",
       "z\r\n",
       "\" style=\"fill:#e24a33;stroke:#eeeeee;stroke-linejoin:miter;stroke-width:0.5;\"/>\r\n",
       "   </g>\r\n",
       "   <g id=\"patch_48\">\r\n",
       "    <path clip-path=\"url(#p045c38e6c3)\" d=\"M 324.196548 224.64 \r\n",
       "L 330.283821 224.64 \r\n",
       "L 330.283821 221.94421 \r\n",
       "L 324.196548 221.94421 \r\n",
       "z\r\n",
       "\" style=\"fill:#e24a33;stroke:#eeeeee;stroke-linejoin:miter;stroke-width:0.5;\"/>\r\n",
       "   </g>\r\n",
       "   <g id=\"patch_49\">\r\n",
       "    <path clip-path=\"url(#p045c38e6c3)\" d=\"M 330.283821 224.64 \r\n",
       "L 336.371094 224.64 \r\n",
       "L 336.371094 224.64 \r\n",
       "L 330.283821 224.64 \r\n",
       "z\r\n",
       "\" style=\"fill:#e24a33;stroke:#eeeeee;stroke-linejoin:miter;stroke-width:0.5;\"/>\r\n",
       "   </g>\r\n",
       "   <g id=\"patch_50\">\r\n",
       "    <path clip-path=\"url(#p045c38e6c3)\" d=\"M 336.371094 224.64 \r\n",
       "L 342.458366 224.64 \r\n",
       "L 342.458366 223.169569 \r\n",
       "L 336.371094 223.169569 \r\n",
       "z\r\n",
       "\" style=\"fill:#e24a33;stroke:#eeeeee;stroke-linejoin:miter;stroke-width:0.5;\"/>\r\n",
       "   </g>\r\n",
       "   <g id=\"patch_51\">\r\n",
       "    <path clip-path=\"url(#p045c38e6c3)\" d=\"M 342.458366 224.64 \r\n",
       "L 348.545639 224.64 \r\n",
       "L 348.545639 223.169569 \r\n",
       "L 342.458366 223.169569 \r\n",
       "z\r\n",
       "\" style=\"fill:#e24a33;stroke:#eeeeee;stroke-linejoin:miter;stroke-width:0.5;\"/>\r\n",
       "   </g>\r\n",
       "   <g id=\"patch_52\">\r\n",
       "    <path clip-path=\"url(#p045c38e6c3)\" d=\"M 348.545639 224.64 \r\n",
       "L 354.632912 224.64 \r\n",
       "L 354.632912 223.169569 \r\n",
       "L 348.545639 223.169569 \r\n",
       "z\r\n",
       "\" style=\"fill:#e24a33;stroke:#eeeeee;stroke-linejoin:miter;stroke-width:0.5;\"/>\r\n",
       "   </g>\r\n",
       "   <g id=\"patch_53\">\r\n",
       "    <path d=\"M 35.051094 224.64 \r\n",
       "L 35.051094 7.2 \r\n",
       "\" style=\"fill:none;stroke:#ffffff;stroke-linecap:square;stroke-linejoin:miter;\"/>\r\n",
       "   </g>\r\n",
       "   <g id=\"patch_54\">\r\n",
       "    <path d=\"M 369.851094 224.64 \r\n",
       "L 369.851094 7.2 \r\n",
       "\" style=\"fill:none;stroke:#ffffff;stroke-linecap:square;stroke-linejoin:miter;\"/>\r\n",
       "   </g>\r\n",
       "   <g id=\"patch_55\">\r\n",
       "    <path d=\"M 35.051094 224.64 \r\n",
       "L 369.851094 224.64 \r\n",
       "\" style=\"fill:none;stroke:#ffffff;stroke-linecap:square;stroke-linejoin:miter;\"/>\r\n",
       "   </g>\r\n",
       "   <g id=\"patch_56\">\r\n",
       "    <path d=\"M 35.051094 7.2 \r\n",
       "L 369.851094 7.2 \r\n",
       "\" style=\"fill:none;stroke:#ffffff;stroke-linecap:square;stroke-linejoin:miter;\"/>\r\n",
       "   </g>\r\n",
       "  </g>\r\n",
       " </g>\r\n",
       " <defs>\r\n",
       "  <clipPath id=\"p045c38e6c3\">\r\n",
       "   <rect height=\"217.44\" width=\"334.8\" x=\"35.051094\" y=\"7.2\"/>\r\n",
       "  </clipPath>\r\n",
       " </defs>\r\n",
       "</svg>\r\n"
      ],
      "text/plain": [
       "<Figure size 432x288 with 1 Axes>"
      ]
     },
     "metadata": {},
     "output_type": "display_data"
    }
   ],
   "source": [
    "#sent.count(' ')\n",
    "\n",
    "#Lets visualize how the sentences are distributed by their length\n",
    "plt.style.use(\"ggplot\")\n",
    "plt.hist([s.count(' ') for s in clean_report['report_text_sent'] if(s.count(' ') <= 50)], bins=50)\n",
    "plt.show()"
   ]
  },
  {
   "cell_type": "code",
   "execution_count": 203,
   "metadata": {},
   "outputs": [
    {
     "name": "stdout",
     "output_type": "stream",
     "text": [
      "Maximum sentence length: 1255\n"
     ]
    }
   ],
   "source": [
    "#Lets find out the longest sentence length in the dataset\n",
    "maxlen = max([len(s) for s in clean_report['report_text_sent']])\n",
    "print ('Maximum sentence length:', maxlen)"
   ]
  },
  {
   "cell_type": "code",
   "execution_count": 204,
   "metadata": {},
   "outputs": [
    {
     "name": "stdout",
     "output_type": "stream",
     "text": [
      "Minimum sentence length: 1\n"
     ]
    }
   ],
   "source": [
    "#Lets find out the shortest sentence length in the dataset\n",
    "minlen = min([len(s) for s in clean_report['report_text_sent']])\n",
    "print ('Minimum sentence length:', minlen)"
   ]
  },
  {
   "cell_type": "code",
   "execution_count": 214,
   "metadata": {},
   "outputs": [
    {
     "name": "stdout",
     "output_type": "stream",
     "text": [
      "['g.a', 'HTN', 'q.d', 'BUN', 'PVD', 'Hct', 'p.o', 'Abd', 'BP', 'BPH', 'Wt', 'q.h', 'lbs', 'hct', 'q.d', 'q.d', 'q.d', 'Wt', 'SIG', 'fu', 'p.o', 'p.o', 'q.d', 'p.o', 'q.d', 'p.o', 'p.o', 'INF', 'IVS', 'REL', 'AC', 'q.d', 'HCT', 'PTT', 'BMI', 'CAD', 'PAD', 'p.o', 'QRS', 'QT', 'q.d', 'q.d', 'Wt', 'to', 'QRS', 'QT', 'VS', 'CK', 'M.D', 'MG', 'WBC', 'PTT', 'HTN', 'CAD', 'Cor', 'CAD', 'DP', 'PT', 'M.D', 'q.d', 'q.d', 'q.d', 'W.', 'CAD', 'Hgb', 'PTT', 'DJD', 'BPH', 'q.d', 'Glu', 'WBC', 'Hgb', 'q.d', 'PMH', 'HGB', 'PT', 'HMG', 'TP', 'Wt', 'q.d', 'Mg', 'FEV', 'On', 'q.d', 'FBS', 'M.D', 'lbs', 'Pos', 'PVC', 'in', 'and', 'q.d', 'AP', 'HGB', 'AOx']\n",
      "95\n"
     ]
    }
   ],
   "source": [
    "lst = [sent for sent in clean_report['report_text_sent'] if(len(sent)) <= 3]\n",
    "print(lst)\n",
    "print(len(lst))"
   ]
  },
  {
   "cell_type": "code",
   "execution_count": 206,
   "metadata": {},
   "outputs": [
    {
     "data": {
      "text/plain": [
       "['Hyperlipidemia.',\n",
       " 'g.a.',\n",
       " 'hx.',\n",
       " 'MEDICATIONS',\n",
       " 'MEDICATIONS',\n",
       " 'ALLERGIES',\n",
       " 'DOB',\n",
       " 'q.d.',\n",
       " 'RACHEL',\n",
       " 'CARR',\n",
       " 'HTN',\n",
       " 'COMPLAINT',\n",
       " 'ALLERGIES',\n",
       " 'NECK',\n",
       " 'COMPLAINT',\n",
       " 'MEDICATIONS',\n",
       " 'THERAPY',\n",
       " 'RENDEREDCOURSE',\n",
       " 'DATE',\n",
       " 'COMPLAINT',\n",
       " 'LUNGS',\n",
       " 'Widowed.',\n",
       " 'COMPLAINT',\n",
       " 'LUNGS',\n",
       " 'ABDOMEN',\n",
       " 'Lipitor',\n",
       " 'mg',\n",
       " 'b.i.d.',\n",
       " 'Extremities',\n",
       " 'Assessment',\n",
       " 'OMOvaught',\n",
       " 'HEENT',\n",
       " 'UASRBC',\n",
       " 'QD',\n",
       " 'LUNGS',\n",
       " 'ALLERGIES',\n",
       " 'MEDICATIONS',\n",
       " 'mg',\n",
       " 'HPI',\n",
       " 'Hypertension.',\n",
       " 'Hypercholesterolemia.',\n",
       " 'Nonsmoker.',\n",
       " 'PhosLo',\n",
       " 'Widow.',\n",
       " 'H',\n",
       " 'HEENT',\n",
       " 'Depression.',\n",
       " 'p.o.',\n",
       " 'daily.',\n",
       " 'MEDICATIONS',\n",
       " 'ALLERGIES',\n",
       " 'Hypertension.',\n",
       " 'Costochondritis.',\n",
       " 'Obesity.',\n",
       " 'MEDICATIONS',\n",
       " 'Skin',\n",
       " 'q.h.s.',\n",
       " 'PERRLA.',\n",
       " 'COMPLAINT',\n",
       " 'THERAPY',\n",
       " 'RENDEREDCOURSE',\n",
       " 'Anusperin.',\n",
       " 'DISPOSITION',\n",
       " 'Extremities',\n",
       " 'Attending',\n",
       " 'Hypertension.',\n",
       " 'Hyperlipidemia.',\n",
       " 'b.i.d.',\n",
       " 'daily.',\n",
       " 'daily.',\n",
       " 'COMPLAINT',\n",
       " 'MEDICATIONS',\n",
       " 'ALLERGIES',\n",
       " 'b.i.d.',\n",
       " 'MALEATE',\n",
       " 'Diabetes.',\n",
       " 'Dysuria.',\n",
       " 'EXAM',\n",
       " 'Abd.',\n",
       " 'Hypertension.',\n",
       " 'BPH.',\n",
       " 'MEDICATIONS',\n",
       " 'None.',\n",
       " 'XColivasfinn',\n",
       " 'b.i.d.',\n",
       " 'Hypertension.',\n",
       " 'MEDICATIONS',\n",
       " 'QEmcclainnewsom',\n",
       " 'O',\n",
       " 'afeb',\n",
       " 'Diabetes.',\n",
       " 'Diabetes.',\n",
       " 'Gout.',\n",
       " 'Hidradenitis.',\n",
       " 'Gout.',\n",
       " 'SUBJECTIVE',\n",
       " 'Diabetes.',\n",
       " 'q.h.',\n",
       " 'lbs.',\n",
       " 'HEENT',\n",
       " 'COMPLAINT',\n",
       " 'MEDICATIONS',\n",
       " 'ALLERGIES',\n",
       " 'q.i.d.',\n",
       " 'qd',\n",
       " 'mg',\n",
       " 'mcg',\n",
       " 'qd',\n",
       " 'qd',\n",
       " 'q.d.',\n",
       " 'q.d.',\n",
       " 'q.d.',\n",
       " 'ENTNeck',\n",
       " 'or',\n",
       " 'Exercises.',\n",
       " 'PS',\n",
       " 'qd',\n",
       " 'Levaquin',\n",
       " 'Resolved.',\n",
       " 'CREAM',\n",
       " 'GU',\n",
       " 'HemeOnc',\n",
       " 'Ht.',\n",
       " 'Medications',\n",
       " 't.i.d.',\n",
       " 'p.r.n.',\n",
       " 'and',\n",
       " 'Cardiac.',\n",
       " 'Hypertension.',\n",
       " 'Diabetes.',\n",
       " 'General.',\n",
       " 'Isosorbide',\n",
       " 'Gastrointestinal',\n",
       " 'Neurologic',\n",
       " 'Urologic',\n",
       " 'qd',\n",
       " 'DEVELOPED',\n",
       " 'CATH',\n",
       " 'hypercholesterolemia',\n",
       " 'JENSON',\n",
       " 'AND',\n",
       " 'SIG.',\n",
       " 'OSTEOARTHRITIS',\n",
       " 'Nontender.',\n",
       " 'nocturia',\n",
       " 'lorazepam',\n",
       " 'Cardiovascular.',\n",
       " 'HCMUTD.',\n",
       " 'mg.',\n",
       " 'p.o.',\n",
       " 'b.i.d.',\n",
       " 'p.o.',\n",
       " 'q.d.',\n",
       " 'p.o.',\n",
       " 'q.d.',\n",
       " 'p.o.',\n",
       " 'q.h.s.',\n",
       " 'p.o.',\n",
       " 'b.i.d.',\n",
       " 'TV.',\n",
       " 'RA.',\n",
       " 'VC.',\n",
       " 'PV.',\n",
       " 'INF.',\n",
       " 'PA.',\n",
       " 'IVS.',\n",
       " 'Plavix',\n",
       " 'qd',\n",
       " 'Extrem',\n",
       " 'Ranitidine',\n",
       " 'SUMMARY',\n",
       " 'Cataracts.',\n",
       " 'REL.',\n",
       " 'q.d.',\n",
       " 'mg.',\n",
       " 'H',\n",
       " '.H',\n",
       " '.L',\n",
       " 'COMPLAINT',\n",
       " 'daily',\n",
       " 'Retired.',\n",
       " 'and',\n",
       " 'Extremities',\n",
       " 'NEXIUM',\n",
       " 'RANITIDINE',\n",
       " 'HCL',\n",
       " '.',\n",
       " 'minutes.',\n",
       " 'Hyperlipidemia.',\n",
       " 'CAD.',\n",
       " 'PAD.',\n",
       " 'Obesity.',\n",
       " 'Prostatitis.',\n",
       " 'Hemorrhoids.',\n",
       " 'mg',\n",
       " 'qd',\n",
       " 'mg',\n",
       " 'mg',\n",
       " 'mg',\n",
       " 'qd',\n",
       " 'qd',\n",
       " 'Lipitor',\n",
       " 'mg',\n",
       " 'HEENT',\n",
       " 'Skin',\n",
       " 'p.o.',\n",
       " 'q.h.s.',\n",
       " 'Lasix',\n",
       " 'SUBJECTIVE',\n",
       " 'MEDICATIONS',\n",
       " 'hydrochlorothiazide',\n",
       " 'mg',\n",
       " 'q.d.',\n",
       " 'OBJECTIVE',\n",
       " 'Depression',\n",
       " 'q.d.',\n",
       " 'isosorbide',\n",
       " 'rpm',\n",
       " 'No',\n",
       " 'rg.',\n",
       " 'CKMBRI',\n",
       " 'Hg.',\n",
       " 'Micronase',\n",
       " 'ALLERGIES',\n",
       " 'HISTORY',\n",
       " 'MEDICATIONS',\n",
       " 'atorvastatin',\n",
       " 'mg',\n",
       " 'b.i.d.',\n",
       " 'Hyperlipidemia.',\n",
       " 'Angina.',\n",
       " 'Hypertension.',\n",
       " 'Weight.',\n",
       " 'Discussed.',\n",
       " 'COMPLAINT',\n",
       " 'MEDICATIONS',\n",
       " 'ALLERGIES',\n",
       " 'NECK',\n",
       " 'Supple.',\n",
       " 'PERRL.',\n",
       " 'EOMI.',\n",
       " 'Ext',\n",
       " 'Neuro',\n",
       " 'mmm',\n",
       " 'Strength',\n",
       " 'Retired.',\n",
       " 'Fatigue.',\n",
       " 'EOMI',\n",
       " 'COMPLAINT',\n",
       " 'M.D.',\n",
       " 'Steroid.',\n",
       " 'PVCs.',\n",
       " 'Hchol.',\n",
       " 'HemeOnc',\n",
       " 'COMPLAINT',\n",
       " 'THERAPY',\n",
       " 'RENDEREDCOURSE',\n",
       " 'DATE',\n",
       " 'COMPLAINT',\n",
       " 'THERAPY',\n",
       " 'RENDEREDCOURSE',\n",
       " 'MRIMRA.',\n",
       " 'Hepatobiliary',\n",
       " 'Neuro',\n",
       " 'Skin',\n",
       " 'Lymphatics',\n",
       " 'qd',\n",
       " 'mg',\n",
       " 'qd',\n",
       " 'CAD.',\n",
       " 'Diabetes.',\n",
       " 'Cor.',\n",
       " 'CAD.',\n",
       " 'Diabetes.',\n",
       " 'Vascular',\n",
       " 'M.D.',\n",
       " 'SR',\n",
       " 'Anxiety.',\n",
       " 'ASCVD.',\n",
       " 'GERD.',\n",
       " 'Hyperlipidemia.',\n",
       " 'ALLERGIES',\n",
       " 'HPIMr.',\n",
       " 'CNIS',\n",
       " 'COMPLAINT',\n",
       " 'ALLERGIES',\n",
       " 'tachypneic.',\n",
       " 'THERAPY',\n",
       " 'RENDEREDCOURSE',\n",
       " 'q.d.',\n",
       " 'q.d.',\n",
       " 'b.i.d.',\n",
       " 'q.d.',\n",
       " 'CAD.',\n",
       " 'Hypertension.',\n",
       " 'Diabetes.',\n",
       " 't.i.d.',\n",
       " 'Endo',\n",
       " 'Extremities',\n",
       " 'COMPLAINT',\n",
       " 'THERAPY',\n",
       " 'RENDEREDCOURSE',\n",
       " 'mg',\n",
       " 'Nexium',\n",
       " 'Extremities',\n",
       " 'mg',\n",
       " 'mg',\n",
       " 'MEDICATIONS',\n",
       " 'PROCEDURE',\n",
       " 'REST',\n",
       " 'ECG',\n",
       " 'Lasix',\n",
       " 'mg',\n",
       " 'mg',\n",
       " 'qd',\n",
       " 'WDWN',\n",
       " 'sec',\n",
       " 'ASSESSMENTPLAN',\n",
       " 'Hypertension.',\n",
       " 'Gout.',\n",
       " 'DJD.',\n",
       " 'Hyperlipidemia.',\n",
       " 'BPH.',\n",
       " 'MEDICATIONS',\n",
       " 'Lasix',\n",
       " 'mg',\n",
       " 'q.d.',\n",
       " 'Extremities',\n",
       " 'COMPLAINT',\n",
       " 'CONSTITUTIONAL',\n",
       " 'yesterday',\n",
       " 'pneumomedistinum.',\n",
       " 'ho',\n",
       " 'q.d.',\n",
       " 'Wt.',\n",
       " 'DATA',\n",
       " 'Yes',\n",
       " 'STEVEN',\n",
       " 'MEDICATIONS',\n",
       " 'ALLERGIES',\n",
       " 'PLAN',\n",
       " 'Hypocalcemia.',\n",
       " 'DISPOSITION',\n",
       " 'CONDITION',\n",
       " 'CholesterolHDL',\n",
       " 'VINCENTZORN',\n",
       " 'ALLERGIES',\n",
       " 'ALLERGIES',\n",
       " 'NECK',\n",
       " 'EXTREMITIES',\n",
       " 'basis.',\n",
       " 'mg',\n",
       " 'Lipitor',\n",
       " 'mg',\n",
       " 'b.i.d.',\n",
       " 'Cellcept',\n",
       " 'Hyperlipidemia.',\n",
       " 'Hyperparathyroidism.',\n",
       " 'MEDICATIONS',\n",
       " 'ALLERGIES',\n",
       " 'Hyperlipidemia.',\n",
       " 'Hyperparathyroidism.',\n",
       " 'Hypertension.',\n",
       " 'Hypertension.',\n",
       " 'Hypercholesterolemia.',\n",
       " 'Psychiatry.',\n",
       " 'MEDICATIONS',\n",
       " 'ALLERGIES',\n",
       " 'Hypertension.',\n",
       " 'Hypercholesterolemia.',\n",
       " 'Psychiatry.',\n",
       " 'QD',\n",
       " 'Medications',\n",
       " 'q.d.',\n",
       " 'Fatigue.',\n",
       " 'Fever.',\n",
       " 'Chills.',\n",
       " 'ENTNeck',\n",
       " 'Wheezing.',\n",
       " 'Cough.',\n",
       " 'Diarrhea.',\n",
       " 'GUFlankCVAPelvic',\n",
       " 'Weakness.',\n",
       " 'HemeLymphImm',\n",
       " 'ToprolXL',\n",
       " 'weekly.',\n",
       " 'HPI',\n",
       " 'Diabetes.',\n",
       " 'LN',\n",
       " 'Pt.',\n",
       " 'FENOFIBRATE',\n",
       " 'xie',\n",
       " 'ENTNeck',\n",
       " 'MusculoskelExtrBack',\n",
       " 'Neuro',\n",
       " 'xie',\n",
       " 'xie',\n",
       " 'xie',\n",
       " 'xie',\n",
       " 'xie',\n",
       " 'xie',\n",
       " 'xie',\n",
       " 'xie',\n",
       " 'Hypokalemia.',\n",
       " 'vmf',\n",
       " 'Thanks.',\n",
       " 'ROS',\n",
       " 'HEENT',\n",
       " 'reflux',\n",
       " 'but',\n",
       " 'GU',\n",
       " 'Hypertension.',\n",
       " 'Diabetes.',\n",
       " 'MEDICATIONS',\n",
       " 'ALLERGIES',\n",
       " 'COMPLAINT',\n",
       " 'MEDICATIONS',\n",
       " 'COMPLAINT',\n",
       " 'MEDICATIONS',\n",
       " 'EXTREMITIES',\n",
       " 'MEDICATIONS',\n",
       " 'Comment.',\n",
       " 'PLAN',\n",
       " 'MEDICATIONS',\n",
       " 'ALLERGIES',\n",
       " 'mg',\n",
       " 'q.d.',\n",
       " 'Neck',\n",
       " 'CorCardiac',\n",
       " 'COMPLAINT',\n",
       " 'M.D.',\n",
       " 'MEDICATIONS',\n",
       " 'ALLERGIES',\n",
       " 'COMPLAINT',\n",
       " 'THERAPY',\n",
       " 'RENDEREDCOURSE',\n",
       " 'HPI',\n",
       " 'lbs.',\n",
       " 'PERRL.',\n",
       " 'EOMI.',\n",
       " 'Pos.',\n",
       " 'PVC.',\n",
       " 'RADIOLOGY',\n",
       " 'COMPLAINT',\n",
       " 'HEENT',\n",
       " 'NECK',\n",
       " 'LUNGS',\n",
       " 'EXTREMITIES',\n",
       " 'FULL',\n",
       " 'COMPLAINT',\n",
       " 'MEDICATIONS',\n",
       " 'ALLERGIES',\n",
       " 'GENERAL',\n",
       " 'RESPIRATORY',\n",
       " 'EXTREMITIES',\n",
       " 'ALLERGIES',\n",
       " 'Metformin.',\n",
       " 'ho',\n",
       " 'Ultram',\n",
       " 'Neurontin',\n",
       " 'HTN',\n",
       " 'MEDICATIONS',\n",
       " 'ALLERGIES',\n",
       " 'HEENT',\n",
       " 'ALLERGIES',\n",
       " 'DISPOSITION',\n",
       " 'qd',\n",
       " 'qd',\n",
       " 'PERRL',\n",
       " '.',\n",
       " 'HEENT',\n",
       " 'Breast',\n",
       " 'DTIC',\n",
       " 'cc',\n",
       " 'ASSESSMENT',\n",
       " 'q.d.',\n",
       " 'Hypertension.',\n",
       " 'Neurologic.',\n",
       " 'COMPLAINT',\n",
       " 'EXTREMITIES',\n",
       " 'Divorced.',\n",
       " 'AOx.',\n",
       " 'p.',\n",
       " 'rr']"
      ]
     },
     "execution_count": 206,
     "metadata": {},
     "output_type": "execute_result"
    }
   ],
   "source": [
    "[sent for sent in clean_report['report_text_sent'] if(sent.count(' ')) < 1]"
   ]
  },
  {
   "cell_type": "code",
   "execution_count": 207,
   "metadata": {},
   "outputs": [
    {
     "data": {
      "text/html": [
       "<div>\n",
       "<style scoped>\n",
       "    .dataframe tbody tr th:only-of-type {\n",
       "        vertical-align: middle;\n",
       "    }\n",
       "\n",
       "    .dataframe tbody tr th {\n",
       "        vertical-align: top;\n",
       "    }\n",
       "\n",
       "    .dataframe thead th {\n",
       "        text-align: right;\n",
       "    }\n",
       "</style>\n",
       "<table border=\"1\" class=\"dataframe\">\n",
       "  <thead>\n",
       "    <tr style=\"text-align: right;\">\n",
       "      <th></th>\n",
       "      <th>report_text_sent</th>\n",
       "    </tr>\n",
       "  </thead>\n",
       "  <tbody>\n",
       "    <tr>\n",
       "      <th>92</th>\n",
       "      <td>hx.</td>\n",
       "    </tr>\n",
       "    <tr>\n",
       "      <th>263</th>\n",
       "      <td>DOB</td>\n",
       "    </tr>\n",
       "    <tr>\n",
       "      <th>385</th>\n",
       "      <td>HTN</td>\n",
       "    </tr>\n",
       "    <tr>\n",
       "      <th>628</th>\n",
       "      <td>mg</td>\n",
       "    </tr>\n",
       "    <tr>\n",
       "      <th>923</th>\n",
       "      <td>QD</td>\n",
       "    </tr>\n",
       "    <tr>\n",
       "      <th>...</th>\n",
       "      <td>...</td>\n",
       "    </tr>\n",
       "    <tr>\n",
       "      <th>9443</th>\n",
       "      <td>qd</td>\n",
       "    </tr>\n",
       "    <tr>\n",
       "      <th>9498</th>\n",
       "      <td>.</td>\n",
       "    </tr>\n",
       "    <tr>\n",
       "      <th>9600</th>\n",
       "      <td>cc</td>\n",
       "    </tr>\n",
       "    <tr>\n",
       "      <th>9892</th>\n",
       "      <td>p.</td>\n",
       "    </tr>\n",
       "    <tr>\n",
       "      <th>9893</th>\n",
       "      <td>rr</td>\n",
       "    </tr>\n",
       "  </tbody>\n",
       "</table>\n",
       "<p>98 rows × 1 columns</p>\n",
       "</div>"
      ],
      "text/plain": [
       "     report_text_sent\n",
       "92                hx.\n",
       "263               DOB\n",
       "385               HTN\n",
       "628                mg\n",
       "923                QD\n",
       "...               ...\n",
       "9443               qd\n",
       "9498                .\n",
       "9600               cc\n",
       "9892               p.\n",
       "9893               rr\n",
       "\n",
       "[98 rows x 1 columns]"
      ]
     },
     "execution_count": 207,
     "metadata": {},
     "output_type": "execute_result"
    }
   ],
   "source": [
    "clean_report.loc[(clean_report['report_text_sent'].str.len() <= 3)]"
   ]
  },
  {
   "cell_type": "code",
   "execution_count": 208,
   "metadata": {},
   "outputs": [
    {
     "name": "stdout",
     "output_type": "stream",
     "text": [
      "['g.a.', 'hx.', 'DOB', 'q.d.', 'CARR', 'HTN', 'NECK', 'DATE', 'mg', 'QD', 'mg', 'HPI', 'H', 'p.o.', 'Skin', 'x .', 'EXAM', 'Abd.', 'BP .', 'BPH.', 'Wt .', 'O', 'afeb', 'q.h.', 'lbs.', 'qd', 'mg', 'mcg', 'qd', 'qd', 'q.d.', 'q.d.', 'q.d.', 'or', 'PS', 'qd', 'GU', 'Ht.', 'Wt .', 'and', 'qd', 'CATH', 'AND', 'SIG.', 'fu .', 'mg.', 'p.o.', 'p.o.', 'q.d.', 'p.o.', 'q.d.', 'p.o.', 'p.o.', 'TV.', 'RA.', 'VC.', 'PV.', 'INF.', 'PA.', 'IVS.', 'qd', 'REL.', 'AC .', 'q.d.', 'mg.', 'H', '.H', '.L', 'and', 'HCL', '.', 'CAD.', 'PAD.', 'mg', 'qd', 'mg', 'mg', 'mg', 'qd', 'qd', 'mg', 'Skin', 'p.o.', 'QT .', 'mg', 'q.d.', 'q.d.', 'rpm', 'Wt .', 'No', 'rg.', 'Hg.', 'to .', 'mg', 'QT .', 'NECK', 'Ext', 'VS .', 'mmm', 'EOMI', 'CK .', 'M.D.', 'DATE', 'MG .', 'Skin', 'qd', 'mg', 'qd', 'CAD.', 'Cor.', 'CAD.', 'DP .', 'PT .', 'M.D.', 'SR', 'CNIS', 'q.d.', 'q.d.', 'q.d.', 'W. .', 'CAD.', 'Endo', 'mg', 'mg', 'mg', 'REST', 'ECG', 'mg', 'mg', 'qd', 'WDWN', 'sec', 'DJD.', 'BPH.', 'mg', 'q.d.', 'ho', 'q.d.', 'Wt.', 'DATA', 'PT .', 'Yes', 'PLAN', 'NECK', 'mg', 'mg', 'Wt .', 'QD', 'q.d.', 'HPI', 'LN', 'Pt.', 'xie', 'xie', 'xie', 'xie', 'xie', 'xie', 'xie', 'xie', 'xie', 'vmf', 'ROS', 'q hr', 'Mg .', 'but', 'GU', 'PLAN', 'mg', 'On .', 'q.d.', 'Neck', 'M.D.', 'HPI', 'lbs.', 'Pos.', 'PVC.', 'NECK', 'FULL', 'ho', 'in .', 'HTN', 'qd', 'qd', '.', 'DTIC', 'cc', 'q.d.', 'AP .', 'AOx.', 'p.', 'rr']\n",
      "192\n"
     ]
    }
   ],
   "source": [
    "lst = [sent for sent in clean_report['report_text_sent'] if(len(sent)) <= 4]\n",
    "print(lst)\n",
    "print(len(lst))"
   ]
  },
  {
   "cell_type": "code",
   "execution_count": null,
   "metadata": {},
   "outputs": [],
   "source": []
  },
  {
   "cell_type": "code",
   "execution_count": null,
   "metadata": {},
   "outputs": [],
   "source": []
  },
  {
   "cell_type": "code",
   "execution_count": null,
   "metadata": {},
   "outputs": [],
   "source": []
  },
  {
   "cell_type": "markdown",
   "metadata": {},
   "source": [
    "## Remove leading and trailing spaces from sentences. This will not remove internal spaces. "
   ]
  },
  {
   "cell_type": "code",
   "execution_count": 209,
   "metadata": {},
   "outputs": [],
   "source": [
    "clean_report['report_text_sent'] = clean_report['report_text_sent'].apply(lambda x: x.strip())"
   ]
  },
  {
   "cell_type": "markdown",
   "metadata": {},
   "source": [
    "## Drop sentences with length less than 3"
   ]
  },
  {
   "cell_type": "code",
   "execution_count": 211,
   "metadata": {},
   "outputs": [],
   "source": [
    "clean_report.drop(clean_report.loc[(clean_report['report_text_sent'].str.len() <= 3)].index, inplace = True)"
   ]
  },
  {
   "cell_type": "code",
   "execution_count": 212,
   "metadata": {},
   "outputs": [
    {
     "name": "stdout",
     "output_type": "stream",
     "text": [
      "<class 'pandas.core.frame.DataFrame'>\n",
      "Int64Index: 9805 entries, 0 to 9902\n",
      "Data columns (total 1 columns):\n",
      " #   Column            Non-Null Count  Dtype \n",
      "---  ------            --------------  ----- \n",
      " 0   report_text_sent  9805 non-null   object\n",
      "dtypes: object(1)\n",
      "memory usage: 153.2+ KB\n"
     ]
    }
   ],
   "source": [
    "clean_report.info()"
   ]
  },
  {
   "cell_type": "markdown",
   "metadata": {},
   "source": [
    "## Remove leading and trailing dots from sentences. This will not remove internal dots.¶"
   ]
  },
  {
   "cell_type": "code",
   "execution_count": 213,
   "metadata": {},
   "outputs": [],
   "source": [
    "clean_report['report_text_sent'] = clean_report['report_text_sent'].apply(lambda x: x.strip('.').strip())"
   ]
  },
  {
   "cell_type": "code",
   "execution_count": null,
   "metadata": {},
   "outputs": [],
   "source": []
  },
  {
   "cell_type": "code",
   "execution_count": 215,
   "metadata": {},
   "outputs": [],
   "source": [
    "clean_report.to_csv(\"clean_report_text_sent_April.csv\")"
   ]
  },
  {
   "cell_type": "code",
   "execution_count": null,
   "metadata": {},
   "outputs": [],
   "source": []
  },
  {
   "cell_type": "code",
   "execution_count": null,
   "metadata": {},
   "outputs": [],
   "source": []
  },
  {
   "cell_type": "code",
   "execution_count": null,
   "metadata": {},
   "outputs": [],
   "source": []
  },
  {
   "cell_type": "raw",
   "metadata": {},
   "source": [
    "##Old fashioned\n",
    "def get_G1_features_sentence(sentence):\n",
    "    G1 = pd.DataFrame(columns = ['word', 'prev_word', 'next_word', 'word_length', 'prev_2_words', 'next_2_words'])\n",
    "    words = sentence.split()\n",
    "    length = len(words)\n",
    "    for i,word in enumerate(words):\n",
    "        current = word\n",
    "        \n",
    "        if(i == 0):\n",
    "            prev_word = \"*\"\n",
    "        else:\n",
    "            prev_word = words[i-1]\n",
    "        \n",
    "        if(i == length - 1):\n",
    "            next_word = \"*\"\n",
    "        else:\n",
    "            next_word = words[i+1]\n",
    "        \n",
    "        if(i > 1):\n",
    "            prev_2_words = words[i-2] + ' ' + words[i-1]\n",
    "        else:\n",
    "            prev_2_words = \"*\"\n",
    "        \n",
    "        if(i < length - 2):\n",
    "            next_2_words = words[i+1] + ' ' + words[i+2]\n",
    "        else:\n",
    "            next_2_words = \"*\"\n",
    "            \n",
    "        word_length = len(word)\n",
    "        \n",
    "        tup = {'word':word, 'prev_word':prev_word, 'next_word':next_word, \n",
    "               'word_length':word_length, 'prev_2_words':prev_2_words, 'next_2_words':next_2_words}\n",
    "        \n",
    "        G1 = G1.append(tup,ignore_index=True)\n",
    "    return G1\n",
    "\n",
    "def get_G1_features_corpus(report_sentences):\n",
    "    G1 = pd.DataFrame(columns = ['word', 'prev_word', 'next_word', 'word_length', 'prev_2_words', 'next_2_words'])\n",
    "    for each_sentence in report_sentences:\n",
    "        G1 = G1.append(get_G1_features_sentence(each_sentence),ignore_index=True)\n",
    "    return G1"
   ]
  },
  {
   "cell_type": "raw",
   "metadata": {},
   "source": [
    "# Feature set\n",
    "def word2features(sent, i):\n",
    "    word = sent[i][0]\n",
    "    postag = sent[i][1]\n",
    "\n",
    "    features = {\n",
    "        'bias': 1.0,\n",
    "        'word.lower()': word.lower(),\n",
    "        'word[-3:]': word[-3:],\n",
    "        'word[-2:]': word[-2:],\n",
    "        'word.isupper()': word.isupper(),\n",
    "        'word.istitle()': word.istitle(),\n",
    "        'word.isdigit()': word.isdigit(),\n",
    "        'postag': postag,\n",
    "        'postag[:2]': postag[:2],\n",
    "    }\n",
    "    \n",
    "    \n",
    "    if i > 0:\n",
    "        word1 = sent[i-1][0]\n",
    "        postag1 = sent[i-1][1]\n",
    "        features.update({\n",
    "            '-1:word.lower()': word1.lower(),\n",
    "            '-1:word.istitle()': word1.istitle(),\n",
    "            '-1:word.isupper()': word1.isupper(),\n",
    "            '-1:postag': postag1,\n",
    "            '-1:postag[:2]': postag1[:2],\n",
    "        })\n",
    "    else:\n",
    "        features['BOS'] = True\n",
    "\n",
    "    if i < len(sent)-1:\n",
    "        word1 = sent[i+1][0]\n",
    "        postag1 = sent[i+1][1]\n",
    "        features.update({\n",
    "            '+1:word.lower()': word1.lower(),\n",
    "            '+1:word.istitle()': word1.istitle(),\n",
    "            '+1:word.isupper()': word1.isupper(),\n",
    "            '+1:postag': postag1,\n",
    "            '+1:postag[:2]': postag1[:2],\n",
    "        })\n",
    "    else:\n",
    "        features['EOS'] = True\n",
    "\n",
    "    return features"
   ]
  },
  {
   "cell_type": "code",
   "execution_count": null,
   "metadata": {},
   "outputs": [],
   "source": []
  },
  {
   "cell_type": "code",
   "execution_count": null,
   "metadata": {},
   "outputs": [],
   "source": []
  },
  {
   "cell_type": "code",
   "execution_count": null,
   "metadata": {},
   "outputs": [],
   "source": []
  },
  {
   "cell_type": "code",
   "execution_count": 216,
   "metadata": {},
   "outputs": [],
   "source": [
    "import pandas as pd\n",
    "import spacy\n",
    "nlp = spacy.load(\"en_core_web_md\")"
   ]
  },
  {
   "cell_type": "code",
   "execution_count": 217,
   "metadata": {},
   "outputs": [],
   "source": [
    "reports = pd.read_csv(\"clean_report_text_sent_April.csv\")"
   ]
  },
  {
   "cell_type": "code",
   "execution_count": 218,
   "metadata": {},
   "outputs": [
    {
     "data": {
      "text/html": [
       "<div>\n",
       "<style scoped>\n",
       "    .dataframe tbody tr th:only-of-type {\n",
       "        vertical-align: middle;\n",
       "    }\n",
       "\n",
       "    .dataframe tbody tr th {\n",
       "        vertical-align: top;\n",
       "    }\n",
       "\n",
       "    .dataframe thead th {\n",
       "        text-align: right;\n",
       "    }\n",
       "</style>\n",
       "<table border=\"1\" class=\"dataframe\">\n",
       "  <thead>\n",
       "    <tr style=\"text-align: right;\">\n",
       "      <th></th>\n",
       "      <th>Unnamed: 0</th>\n",
       "      <th>report_text_sent</th>\n",
       "    </tr>\n",
       "  </thead>\n",
       "  <tbody>\n",
       "    <tr>\n",
       "      <th>0</th>\n",
       "      <td>0</td>\n",
       "      <td>Record date Campbell Orthopedic Associates Mad...</td>\n",
       "    </tr>\n",
       "    <tr>\n",
       "      <th>1</th>\n",
       "      <td>1</td>\n",
       "      <td>February Har is a year old pound gentleman who...</td>\n",
       "    </tr>\n",
       "    <tr>\n",
       "      <th>2</th>\n",
       "      <td>2</td>\n",
       "      <td>About a week ago he slipped on the driveway at...</td>\n",
       "    </tr>\n",
       "    <tr>\n",
       "      <th>3</th>\n",
       "      <td>3</td>\n",
       "      <td>He was seen at TriCity Hospital and was told h...</td>\n",
       "    </tr>\n",
       "    <tr>\n",
       "      <th>4</th>\n",
       "      <td>4</td>\n",
       "      <td>He was placed in an air splint and advised to ...</td>\n",
       "    </tr>\n",
       "  </tbody>\n",
       "</table>\n",
       "</div>"
      ],
      "text/plain": [
       "   Unnamed: 0                                   report_text_sent\n",
       "0           0  Record date Campbell Orthopedic Associates Mad...\n",
       "1           1  February Har is a year old pound gentleman who...\n",
       "2           2  About a week ago he slipped on the driveway at...\n",
       "3           3  He was seen at TriCity Hospital and was told h...\n",
       "4           4  He was placed in an air splint and advised to ..."
      ]
     },
     "execution_count": 218,
     "metadata": {},
     "output_type": "execute_result"
    }
   ],
   "source": [
    "reports.head()"
   ]
  },
  {
   "cell_type": "code",
   "execution_count": 220,
   "metadata": {},
   "outputs": [
    {
     "name": "stdout",
     "output_type": "stream",
     "text": [
      "<class 'pandas.core.frame.DataFrame'>\n",
      "RangeIndex: 9805 entries, 0 to 9804\n",
      "Data columns (total 2 columns):\n",
      " #   Column            Non-Null Count  Dtype \n",
      "---  ------            --------------  ----- \n",
      " 0   Unnamed: 0        9805 non-null   int64 \n",
      " 1   report_text_sent  9805 non-null   object\n",
      "dtypes: int64(1), object(1)\n",
      "memory usage: 153.3+ KB\n"
     ]
    }
   ],
   "source": [
    "reports.info()"
   ]
  },
  {
   "cell_type": "code",
   "execution_count": 59,
   "metadata": {},
   "outputs": [],
   "source": [
    "reports['report_text_sent'] = reports['report_text_sent'].fillna('')"
   ]
  },
  {
   "cell_type": "code",
   "execution_count": 221,
   "metadata": {},
   "outputs": [],
   "source": [
    "rpt_sentences = reports['report_text_sent']"
   ]
  },
  {
   "cell_type": "code",
   "execution_count": 224,
   "metadata": {},
   "outputs": [],
   "source": [
    "import mysql.connector as mysqlCon\n",
    "import mysql.connector\n",
    "\n",
    "import pickle as pkl\n",
    "\n",
    "\n",
    "def get_connection():\n",
    "    conn = connect_umls('aasha', '24H=1day', 'localhost', 'umls')\n",
    "    return conn\n",
    "\n",
    "\n",
    "def connect_umls(uname, password, host, database):\n",
    "    connection = mysqlCon.connect(user=uname, password=password,\n",
    "                                  host=host, database=database)\n",
    "    return connection\n",
    "\n",
    "\n",
    "def close_connection(connection):\n",
    "    connection.close()\n",
    "\n",
    "\n",
    "def get_entity(string):\n",
    "    \"\"\" get definitions/descriptions for the given string \"\"\"\n",
    "    try:\n",
    "        # Get descritpions\n",
    "        sql_select_Query = \"select * from mrconso where STR like '\" + string + \"';\"\n",
    "        conn = get_connection()\n",
    "        cursor = conn.cursor()\n",
    "        cursor.execute(sql_select_Query)\n",
    "        # get all records\n",
    "        return cursor.fetchone()\n",
    "    except mysql.connector.Error as e:\n",
    "        print(e.msg)\n",
    "        return \"\"\n",
    "    finally:\n",
    "        close_connection(conn)\n",
    "\n",
    "\n",
    "def symantic_type_lookup(string):\n",
    "    \"\"\" get definitions/descriptions for the given string \"\"\"\n",
    "    \"\"\" Get Semantic Typ for a given string \"\"\"\n",
    "    try:\n",
    "        # Get descritpions\n",
    "        # sql_select_Query = \"select * from mrconso where STR like '\" + string + \"';\"\n",
    "        conn = get_connection()\n",
    "        cursor = conn.cursor()\n",
    "        cursor.execute(\"SELECT sty FROM MRCONSO a, MRSTY b WHERE a.cui = b.cui AND str = %s; \", (string,))\n",
    "        # get all records\n",
    "        next_user = cursor.fetchone()\n",
    "        if next_user is not None:\n",
    "            user_blah = next_user[0]\n",
    "        else:\n",
    "            user_blah = ''\n",
    "        return user_blah\n",
    "    except mysql.connector.Error as e:\n",
    "        print(e.msg)\n",
    "        return \"\"\n",
    "    finally:\n",
    "        close_connection(conn)\n",
    "\n",
    "\n",
    "def is_symantic_type_found(string):\n",
    "    \"\"\" find whether any semantic type available for the given string \"\"\"\n",
    "    \"\"\" return True if semantic type is available otherwise return False \"\"\"\n",
    "    try:\n",
    "        sem_type_list = symantic_type_lookup(string)\n",
    "        if not sem_type_list:\n",
    "            return False\n",
    "        else:\n",
    "            return True\n",
    "    except Exception as e:\n",
    "        print(e)\n",
    "        return False\n",
    "\n",
    "\n",
    "def cui_lookup(string):\n",
    "    \"\"\" get definitions/descriptions for the given string \"\"\"\n",
    "    \"\"\" Get Semantic Typ for a given string \"\"\"\n",
    "    try:\n",
    "        # Get descritpions\n",
    "        # sql_select_Query = \"select * from mrconso where STR like '\" + string + \"';\"\n",
    "        conn = get_connection()\n",
    "        cursor = conn.cursor()\n",
    "        cursor.execute(\"SELECT cui FROM MRCONSO WHERE str = %s;\", (string,))\n",
    "        #row = cursor.fetchone()\n",
    "        next_user = cursor.fetchone()\n",
    "        if next_user is not None:\n",
    "            user_blah = next_user[0]\n",
    "        else:\n",
    "            user_blah = ''\n",
    "        return user_blah\n",
    "    except mysql.connector.Error as e:\n",
    "        print(e.msg)\n",
    "        return \"\"\n",
    "    finally:\n",
    "        close_connection(conn)\n",
    "\n",
    "\n",
    "def is_cui_found(string):\n",
    "    \"\"\" find whether any semantic type available for the given string \"\"\"\n",
    "    \"\"\" return True if semantic type is available otherwise return False \"\"\"\n",
    "    try:\n",
    "        sem_type_list = cui_lookup(string)\n",
    "        if not sem_type_list:\n",
    "            return False\n",
    "        else:\n",
    "            return True\n",
    "    except Exception as e:\n",
    "        print(e)\n",
    "        return False\n"
   ]
  },
  {
   "cell_type": "code",
   "execution_count": 225,
   "metadata": {},
   "outputs": [],
   "source": [
    "def get_parent_token(doc, token_text):\n",
    "    for chunk in doc.noun_chunks:\n",
    "        if str(chunk).find(token_text) != -1:\n",
    "            return chunk.root.head\n",
    "        \n",
    "\n",
    "def get_features_sentence(sentence, i):\n",
    "    #G1 = pd.DataFrame(columns = ['word', 'prev_word', 'next_word', 'word_length', 'prev_2_words', 'next_2_words',\n",
    "    #                            'word_POS_tag','prev_POS_tag', 'next_POS_tag', 'lemmatized', 'parent',\n",
    "    #                             'bigram', 'trigram', 'reverse_bigram'])\n",
    "    \n",
    "    features = []\n",
    "    \n",
    "    doc = nlp(sentence)\n",
    "    doc_len = len(doc) - 1\n",
    "    \n",
    "    for token in doc:\n",
    "        current_word = token.text.lower()\n",
    "        \n",
    "        word_length = len(current_word)\n",
    "        BOS = False\n",
    "        EOS = False\n",
    "        \n",
    "        if(word_length == 0):\n",
    "            continue;\n",
    "        \n",
    "        token_index = token.i\n",
    "        \n",
    "        if(token_index == 0):\n",
    "            BOS = True\n",
    "            \n",
    "        if(token_index == doc_len):\n",
    "            EOS = True\n",
    "        \n",
    "        if(token_index == 0):\n",
    "            prev_word = \"*\"\n",
    "        else:\n",
    "            prev_token = doc[token_index - 1]\n",
    "            prev_word = prev_token.text\n",
    "        \n",
    "        \n",
    "        if(token_index < doc_len):\n",
    "            next_token = doc[token_index + 1]\n",
    "            next_word = next_token.text\n",
    "        else:\n",
    "            next_word = \"*\"\n",
    "        \n",
    "        if(token_index > 1):\n",
    "            prev_2_words = doc[token_index - 2].text + ' ' + doc[token_index - 1].text\n",
    "        elif (token_index == 1):\n",
    "            prev_2_words = doc[token_index - 1].text \n",
    "        else:\n",
    "            prev_2_words = \"*\"\n",
    "        \n",
    "        if(token_index < (doc_len - 2)):\n",
    "            next_2_words = doc[token_index + 1].text + ' ' + doc[token_index + 2].text\n",
    "        elif(token_index == (doc_len - 1)):\n",
    "            next_2_words = doc[token_index + 1].text \n",
    "        else:\n",
    "            next_2_words = \"*\"\n",
    "            \n",
    "        word_POS_tag = token.pos_\n",
    "        \n",
    "        if(token_index == 0):\n",
    "            prev_POS_tag = ''\n",
    "        else:\n",
    "            prev_POS_tag = prev_token.pos_\n",
    "            \n",
    "        if(token_index < doc_len):\n",
    "            next_POS_tag = next_token.pos_\n",
    "        else:\n",
    "            next_POS_tag = ''\n",
    "        \n",
    "        lemma = token.lemma_\n",
    "        \n",
    "        parent = get_parent_token(doc, current_word)\n",
    "        if(type(parent) == type(None)):\n",
    "            parent_text = ''\n",
    "        else:\n",
    "            parent_text = parent.text\n",
    "        #Parent node's chunk is not very accurate. So may be excluded when using it in learning CRF\n",
    "        \n",
    "        bigram = current_word + ' ' + next_word\n",
    "        trigram = prev_word + ' ' + current_word + ' ' + next_word\n",
    "        reverse_bigram = prev_word + ' ' + current_word\n",
    "        \n",
    "               \n",
    "        ## UMLS Features to Dict\n",
    "        sty_word = symantic_type_lookup(current_word)\n",
    "        sty_prev_word = symantic_type_lookup(prev_word)\n",
    "        sty_next_word = symantic_type_lookup(next_word)\n",
    "        match_bigram = is_cui_found(bigram)\n",
    "        match_trigram = is_cui_found(trigram)\n",
    "        match_reverse_bigram = is_cui_found(reverse_bigram)\n",
    "        CIU_word = cui_lookup(current_word)\n",
    "        \n",
    "        feat_dict = {'sent':i,'word':current_word, 'prev_word':prev_word, 'next_word':next_word,\n",
    "                     'word_length':word_length, 'prev_2_words':prev_2_words, 'next_2_words':next_2_words,\n",
    "                     'word_POS_tag':word_POS_tag,'prev_POS_tag':prev_POS_tag, 'next_POS_tag':next_POS_tag, \n",
    "                     'lemmatized':lemma, 'parent':parent_text, 'bigram':bigram, 'trigram':trigram,\n",
    "                     'reverse_bigram':reverse_bigram, 'BOS': BOS, 'EOS': EOS,\n",
    "                     'sty_word': sty_word, 'sty_prev_word': sty_prev_word, 'sty_next_word': sty_next_word,\n",
    "                     'match_bigram': match_bigram, 'match_trigram': match_trigram, 'match_reverse_bigram': match_reverse_bigram,\n",
    "                     'CIU_word': CIU_word}\n",
    "        \n",
    "        features.append(feat_dict)\n",
    "    return features\n",
    "\n",
    "def get_features_corpus(report_sentences):\n",
    "    corpus = []\n",
    "    for i, each_sentence in enumerate(tqdm.tqdm(report_sentences)):\n",
    "        print(each_sentence, ' - ', i)\n",
    "        corpus.append(get_features_sentence(each_sentence, i))\n",
    "    return corpus\n"
   ]
  },
  {
   "cell_type": "code",
   "execution_count": 203,
   "metadata": {},
   "outputs": [],
   "source": [
    "rpt_sentences_1000 = rpt_sentences[:999]"
   ]
  },
  {
   "cell_type": "code",
   "execution_count": 64,
   "metadata": {},
   "outputs": [],
   "source": []
  },
  {
   "cell_type": "code",
   "execution_count": 99,
   "metadata": {},
   "outputs": [],
   "source": []
  },
  {
   "cell_type": "code",
   "execution_count": 100,
   "metadata": {},
   "outputs": [
    {
     "name": "stdout",
     "output_type": "stream",
     "text": [
      "<class 'pandas.core.frame.DataFrame'>\n",
      "Int64Index: 9904 entries, 0 to 10018\n",
      "Data columns (total 2 columns):\n",
      " #   Column            Non-Null Count  Dtype \n",
      "---  ------            --------------  ----- \n",
      " 0   Unnamed: 0        9904 non-null   int64 \n",
      " 1   report_text_sent  9904 non-null   object\n",
      "dtypes: int64(1), object(1)\n",
      "memory usage: 232.1+ KB\n"
     ]
    }
   ],
   "source": [
    "reports.info()"
   ]
  },
  {
   "cell_type": "code",
   "execution_count": 92,
   "metadata": {},
   "outputs": [
    {
     "data": {
      "text/plain": [
       "0        Record date Campbell Orthopedic Associates Mad...\n",
       "1        February Har is a year old pound gentleman who...\n",
       "2        About a week ago he slipped on the driveway at...\n",
       "3        He was seen at TriCity Hospital and was told h...\n",
       "4        He was placed in an air splint and advised to ...\n",
       "                               ...                        \n",
       "10014     PROBLEMS Hypertension increase captopril to bid.\n",
       "10015    SP total hip replacement Shoemaker stable Diab...\n",
       "10016                                    loss check hgbAC.\n",
       "10017                       Eye exam OK earlier this year.\n",
       "10018    Basal cell carcinoma no new ones visible Varic...\n",
       "Name: report_text_sent, Length: 10019, dtype: object"
      ]
     },
     "execution_count": 92,
     "metadata": {},
     "output_type": "execute_result"
    }
   ],
   "source": [
    "reports['report_text_sent']"
   ]
  },
  {
   "cell_type": "code",
   "execution_count": null,
   "metadata": {},
   "outputs": [],
   "source": []
  },
  {
   "cell_type": "code",
   "execution_count": null,
   "metadata": {},
   "outputs": [],
   "source": []
  },
  {
   "cell_type": "code",
   "execution_count": null,
   "metadata": {},
   "outputs": [
    {
     "name": "stderr",
     "output_type": "stream",
     "text": [
      "\r",
      "  0%|                                                                                         | 0/9805 [00:00<?, ?it/s]"
     ]
    },
    {
     "name": "stdout",
     "output_type": "stream",
     "text": [
      "Record date Campbell Orthopedic Associates Madera Circle Omak GA Habib Valenzuela M.D. Valdez Harlan Jr  -  0\n"
     ]
    },
    {
     "name": "stderr",
     "output_type": "stream",
     "text": [
      "\r",
      "  0%|                                                                              | 1/9805 [00:06<16:51:48,  6.19s/it]"
     ]
    },
    {
     "name": "stdout",
     "output_type": "stream",
     "text": [
      "February Har is a year old pound gentleman who is referred for consultation by Dr. Harlan Oneil  -  1\n"
     ]
    },
    {
     "name": "stderr",
     "output_type": "stream",
     "text": [
      "\r",
      "  0%|                                                                              | 2/9805 [00:13<17:29:27,  6.42s/it]"
     ]
    },
    {
     "name": "stdout",
     "output_type": "stream",
     "text": [
      "About a week ago he slipped on the driveway at home and sustained an injury to his left ankle  -  2\n"
     ]
    },
    {
     "name": "stderr",
     "output_type": "stream",
     "text": [
      "\r",
      "  0%|                                                                              | 3/9805 [00:21<18:42:41,  6.87s/it]"
     ]
    },
    {
     "name": "stdout",
     "output_type": "stream",
     "text": [
      "He was seen at TriCity Hospital and was told he had a fracture  -  3\n"
     ]
    },
    {
     "name": "stderr",
     "output_type": "stream",
     "text": [
      "\r",
      "  0%|                                                                              | 4/9805 [00:26<17:20:46,  6.37s/it]"
     ]
    },
    {
     "name": "stdout",
     "output_type": "stream",
     "text": [
      "He was placed in an air splint and advised to be partial weight bearing and he is using a cane  -  4\n"
     ]
    },
    {
     "name": "stderr",
     "output_type": "stream",
     "text": [
      "\r",
      "  0%|                                                                              | 5/9805 [00:34<19:05:20,  7.01s/it]"
     ]
    },
    {
     "name": "stdout",
     "output_type": "stream",
     "text": [
      "He is here for routine followup  -  5\n"
     ]
    },
    {
     "name": "stderr",
     "output_type": "stream",
     "text": [
      "\r",
      "  0%|                                                                              | 6/9805 [00:37<15:20:56,  5.64s/it]"
     ]
    },
    {
     "name": "stdout",
     "output_type": "stream",
     "text": [
      "Past medical history is notable for no ankle injuries previously  -  6\n"
     ]
    },
    {
     "name": "stderr",
     "output_type": "stream",
     "text": [
      "\r",
      "  0%|                                                                              | 7/9805 [00:41<14:10:11,  5.21s/it]"
     ]
    },
    {
     "name": "stdout",
     "output_type": "stream",
     "text": [
      "He has a history of diabetes and sleep apnea  -  7\n"
     ]
    },
    {
     "name": "stderr",
     "output_type": "stream",
     "text": [
      "\r",
      "  0%|                                                                              | 8/9805 [00:45<13:05:54,  4.81s/it]"
     ]
    },
    {
     "name": "stdout",
     "output_type": "stream",
     "text": [
      "He takes Prozac Cardizem Glucophage and Amaryl  -  8\n"
     ]
    },
    {
     "name": "stderr",
     "output_type": "stream",
     "text": [
      "\r",
      "  0%|                                                                              | 9/9805 [00:48<11:32:44,  4.24s/it]"
     ]
    },
    {
     "name": "stdout",
     "output_type": "stream",
     "text": [
      "He is also followed by Dr. Harold Nutter for an arrhythmia  -  9\n"
     ]
    },
    {
     "name": "stderr",
     "output_type": "stream",
     "text": [
      "\r",
      "  0%|                                                                             | 10/9805 [00:52<11:32:01,  4.24s/it]"
     ]
    },
    {
     "name": "stdout",
     "output_type": "stream",
     "text": [
      "He does not smoke  -  10\n"
     ]
    },
    {
     "name": "stderr",
     "output_type": "stream",
     "text": [
      "\r",
      "  0%|                                                                              | 11/9805 [00:53<9:08:55,  3.36s/it]"
     ]
    },
    {
     "name": "stdout",
     "output_type": "stream",
     "text": [
      "He drinks minimally  -  11\n"
     ]
    },
    {
     "name": "stderr",
     "output_type": "stream",
     "text": [
      "\r",
      "  0%|                                                                              | 12/9805 [00:54<7:14:40,  2.66s/it]"
     ]
    },
    {
     "name": "stdout",
     "output_type": "stream",
     "text": [
      "He is a set designer at Columbia Pictures  -  12\n"
     ]
    },
    {
     "name": "stderr",
     "output_type": "stream",
     "text": [
      "\r",
      "  0%|                                                                              | 13/9805 [00:57<7:29:46,  2.76s/it]"
     ]
    },
    {
     "name": "stdout",
     "output_type": "stream",
     "text": [
      "On examination today he has slight tenderness of the left ankle about four fingerbreadths above the malleolus  -  13\n"
     ]
    },
    {
     "name": "stderr",
     "output_type": "stream",
     "text": [
      "\r",
      "  0%|                                                                             | 14/9805 [01:03<10:13:41,  3.76s/it]"
     ]
    },
    {
     "name": "stdout",
     "output_type": "stream",
     "text": [
      "The malleolus is nontender medially or laterally with no ligamentous tenderness either  -  14\n"
     ]
    },
    {
     "name": "stderr",
     "output_type": "stream",
     "text": [
      "\r",
      "  0%|                                                                             | 15/9805 [01:08<10:31:58,  3.87s/it]"
     ]
    },
    {
     "name": "stdout",
     "output_type": "stream",
     "text": [
      "Dorsal flexion and plantar flexion is without pain  -  15\n"
     ]
    },
    {
     "name": "stderr",
     "output_type": "stream",
     "text": [
      "\r",
      "  0%|▏                                                                             | 16/9805 [01:10<9:45:28,  3.59s/it]"
     ]
    },
    {
     "name": "stdout",
     "output_type": "stream",
     "text": [
      "There is no significant swelling  -  16\n"
     ]
    },
    {
     "name": "stderr",
     "output_type": "stream",
     "text": [
      "\r",
      "  0%|▏                                                                             | 17/9805 [01:12<8:23:31,  3.09s/it]"
     ]
    },
    {
     "name": "stdout",
     "output_type": "stream",
     "text": [
      "There are no some skin changes with some small abrasions proximally  -  17\n"
     ]
    },
    {
     "name": "stderr",
     "output_type": "stream",
     "text": [
      "\r",
      "  0%|▏                                                                             | 18/9805 [01:16<9:06:32,  3.35s/it]"
     ]
    },
    {
     "name": "stdout",
     "output_type": "stream",
     "text": [
      "There is no fibular tenderness proximally  -  18\n"
     ]
    },
    {
     "name": "stderr",
     "output_type": "stream",
     "text": [
      "\r",
      "  0%|▏                                                                             | 19/9805 [01:19<8:10:09,  3.01s/it]"
     ]
    },
    {
     "name": "stdout",
     "output_type": "stream",
     "text": [
      "No anterior pain is noted  -  19\n"
     ]
    },
    {
     "name": "stderr",
     "output_type": "stream",
     "text": [
      "\r",
      "  0%|▏                                                                             | 20/9805 [01:20<7:04:57,  2.61s/it]"
     ]
    },
    {
     "name": "stdout",
     "output_type": "stream",
     "text": [
      "No hindfoot midfoot or forefoot tenderness is noted  -  20\n"
     ]
    },
    {
     "name": "stderr",
     "output_type": "stream",
     "text": [
      "\r",
      "  0%|▏                                                                             | 21/9805 [01:23<7:18:15,  2.69s/it]"
     ]
    },
    {
     "name": "stdout",
     "output_type": "stream",
     "text": [
      "I would like him to use a tube sock with his air cast  -  21\n"
     ]
    },
    {
     "name": "stderr",
     "output_type": "stream",
     "text": [
      "\r",
      "  0%|▏                                                                             | 22/9805 [01:28<8:55:55,  3.29s/it]"
     ]
    },
    {
     "name": "stdout",
     "output_type": "stream",
     "text": [
      "He is using a cane for ambulation  -  22\n"
     ]
    },
    {
     "name": "stderr",
     "output_type": "stream",
     "text": [
      "\r",
      "  0%|▏                                                                             | 23/9805 [01:30<8:17:53,  3.05s/it]"
     ]
    },
    {
     "name": "stdout",
     "output_type": "stream",
     "text": [
      "His xrays do not show a notable fracture pattern today and we will await the Radiology opinion  -  23\n"
     ]
    },
    {
     "name": "stderr",
     "output_type": "stream",
     "text": [
      "\r",
      "  0%|▏                                                                            | 24/9805 [01:36<10:52:37,  4.00s/it]"
     ]
    },
    {
     "name": "stdout",
     "output_type": "stream",
     "text": [
      "I would like him to stay in the air splint with the sock  -  24\n"
     ]
    },
    {
     "name": "stderr",
     "output_type": "stream",
     "text": [
      "\r",
      "  0%|▏                                                                            | 25/9805 [01:41<11:25:45,  4.21s/it]"
     ]
    },
    {
     "name": "stdout",
     "output_type": "stream",
     "text": [
      "I will see him back in six weeks for review at the Boxborough office  -  25\n"
     ]
    },
    {
     "name": "stderr",
     "output_type": "stream",
     "text": [
      "\r",
      "  0%|▏                                                                            | 26/9805 [01:46<12:00:50,  4.42s/it]"
     ]
    },
    {
     "name": "stdout",
     "output_type": "stream",
     "text": [
      "Diagnosis Left ankle fracture  -  26\n"
     ]
    },
    {
     "name": "stderr",
     "output_type": "stream",
     "text": [
      "\r",
      "  0%|▏                                                                             | 27/9805 [01:48<9:34:37,  3.53s/it]"
     ]
    },
    {
     "name": "stdout",
     "output_type": "stream",
     "text": [
      "Habib Valenzuela M.D  -  27\n"
     ]
    },
    {
     "name": "stderr",
     "output_type": "stream",
     "text": [
      "\r",
      "  0%|▏                                                                             | 28/9805 [01:49<7:36:34,  2.80s/it]"
     ]
    },
    {
     "name": "stdout",
     "output_type": "stream",
     "text": [
      "HVkuntz Mmedical cc Harlan Oneil M.D  -  28\n"
     ]
    },
    {
     "name": "stderr",
     "output_type": "stream",
     "text": [
      "\r",
      "  0%|▏                                                                             | 29/9805 [01:51<7:03:33,  2.60s/it]"
     ]
    },
    {
     "name": "stdout",
     "output_type": "stream",
     "text": [
      "Harold Nutter M.D. Doctors Hospital North Bruce St Omak GA Habib Valenzuela M.D. DD DT DV Not reviewed by Attending Physician  -  29\n"
     ]
    },
    {
     "name": "stderr",
     "output_type": "stream",
     "text": [
      "\r",
      "  0%|▏                                                                            | 30/9805 [01:58<11:04:22,  4.08s/it]"
     ]
    },
    {
     "name": "stdout",
     "output_type": "stream",
     "text": [
      "Record date MERCY CARE CENTER Mercy Internal Medicine Associates Newburgh Street Terrell AR Russell Donna Ms. Russell comes in for further evaluation  -  30\n"
     ]
    },
    {
     "name": "stderr",
     "output_type": "stream",
     "text": [
      "\r",
      "  0%|▏                                                                            | 31/9805 [02:06<13:58:18,  5.15s/it]"
     ]
    },
    {
     "name": "stdout",
     "output_type": "stream",
     "text": [
      "She has been in Rhode Island for six months  -  31\n"
     ]
    },
    {
     "name": "stderr",
     "output_type": "stream",
     "text": [
      "\r",
      "  0%|▎                                                                            | 32/9805 [02:09<12:17:20,  4.53s/it]"
     ]
    },
    {
     "name": "stdout",
     "output_type": "stream",
     "text": [
      "Her complaint is that she has heaviness in the chest  -  32\n"
     ]
    },
    {
     "name": "stderr",
     "output_type": "stream",
     "text": [
      "\r",
      "  0%|▎                                                                            | 33/9805 [02:13<11:33:42,  4.26s/it]"
     ]
    },
    {
     "name": "stdout",
     "output_type": "stream",
     "text": [
      "She does not have any palpitations  -  33\n"
     ]
    },
    {
     "name": "stderr",
     "output_type": "stream",
     "text": [
      "\r",
      "  0%|▎                                                                             | 34/9805 [02:15<9:54:46,  3.65s/it]"
     ]
    },
    {
     "name": "stdout",
     "output_type": "stream",
     "text": [
      "She does not note that this is associated with exertion  -  34\n"
     ]
    },
    {
     "name": "stderr",
     "output_type": "stream",
     "text": [
      "\r",
      "  0%|▎                                                                             | 35/9805 [02:18<9:47:11,  3.61s/it]"
     ]
    },
    {
     "name": "stdout",
     "output_type": "stream",
     "text": [
      "She does have diaphoresis associated with it  -  35\n"
     ]
    },
    {
     "name": "stderr",
     "output_type": "stream",
     "text": [
      "\r",
      "  0%|▎                                                                             | 36/9805 [02:21<8:43:18,  3.21s/it]"
     ]
    },
    {
     "name": "stdout",
     "output_type": "stream",
     "text": [
      "She does not have any shortness of breath  -  36\n"
     ]
    },
    {
     "name": "stderr",
     "output_type": "stream",
     "text": [
      "\r",
      "  0%|▎                                                                             | 37/9805 [02:24<8:28:04,  3.12s/it]"
     ]
    },
    {
     "name": "stdout",
     "output_type": "stream",
     "text": [
      "This heaviness has been in her chest on and off for the last six weeks  -  37\n"
     ]
    },
    {
     "name": "stderr",
     "output_type": "stream",
     "text": [
      "\r",
      "  0%|▎                                                                            | 38/9805 [02:29<10:26:47,  3.85s/it]"
     ]
    },
    {
     "name": "stdout",
     "output_type": "stream",
     "text": [
      "She is quite concerned  -  38\n"
     ]
    },
    {
     "name": "stderr",
     "output_type": "stream",
     "text": [
      "\r",
      "  0%|▎                                                                             | 39/9805 [02:31<8:27:26,  3.12s/it]"
     ]
    },
    {
     "name": "stdout",
     "output_type": "stream",
     "text": [
      "She has a history of hypothyroidism and hypertension  -  39\n"
     ]
    }
   ],
   "source": [
    "features = get_features_corpus(rpt_sentences)"
   ]
  },
  {
   "cell_type": "code",
   "execution_count": null,
   "metadata": {},
   "outputs": [],
   "source": [
    "filenm = 'Word_Features_24April.pickle'\n",
    "#Step 1: Create or open a file with write-binary mode and save the model to it\n",
    "pickle = pkl.dump(features, open(filenm, 'wb'))"
   ]
  },
  {
   "cell_type": "code",
   "execution_count": 208,
   "metadata": {},
   "outputs": [
    {
     "data": {
      "text/plain": [
       "[{'sent': 0,\n",
       "  'word': 'record',\n",
       "  'prev_word': '*',\n",
       "  'next_word': 'date',\n",
       "  'word_length': 6,\n",
       "  'prev_2_words': '*',\n",
       "  'next_2_words': 'date Campbell',\n",
       "  'word_POS_tag': 'NOUN',\n",
       "  'prev_POS_tag': '',\n",
       "  'next_POS_tag': 'NOUN',\n",
       "  'lemmatized': 'record',\n",
       "  'parent': '',\n",
       "  'bigram': 'record date',\n",
       "  'trigram': '* record date',\n",
       "  'reverse_bigram': '* record',\n",
       "  'BOS': True,\n",
       "  'EOS': False,\n",
       "  'sty_word': 'Intellectual Product',\n",
       "  'sty_prev_word': '',\n",
       "  'sty_next_word': 'Food',\n",
       "  'match_bigram': False,\n",
       "  'match_trigram': False,\n",
       "  'match_reverse_bigram': False,\n",
       "  'CIU_word': 'C0034869'},\n",
       " {'sent': 0,\n",
       "  'word': 'date',\n",
       "  'prev_word': 'Record',\n",
       "  'next_word': 'Campbell',\n",
       "  'word_length': 4,\n",
       "  'prev_2_words': 'Record',\n",
       "  'next_2_words': 'Campbell Orthopedic',\n",
       "  'word_POS_tag': 'NOUN',\n",
       "  'prev_POS_tag': 'NOUN',\n",
       "  'next_POS_tag': 'PROPN',\n",
       "  'lemmatized': 'date',\n",
       "  'parent': 'Jr.',\n",
       "  'bigram': 'date Campbell',\n",
       "  'trigram': 'Record date Campbell',\n",
       "  'reverse_bigram': 'Record date',\n",
       "  'BOS': False,\n",
       "  'EOS': False,\n",
       "  'sty_word': 'Food',\n",
       "  'sty_prev_word': 'Intellectual Product',\n",
       "  'sty_next_word': 'Health Care Related Organization',\n",
       "  'match_bigram': False,\n",
       "  'match_trigram': False,\n",
       "  'match_reverse_bigram': False,\n",
       "  'CIU_word': 'C2348077'},\n",
       " {'sent': 0,\n",
       "  'word': 'campbell',\n",
       "  'prev_word': 'date',\n",
       "  'next_word': 'Orthopedic',\n",
       "  'word_length': 8,\n",
       "  'prev_2_words': 'Record date',\n",
       "  'next_2_words': 'Orthopedic Associates',\n",
       "  'word_POS_tag': 'PROPN',\n",
       "  'prev_POS_tag': 'NOUN',\n",
       "  'next_POS_tag': 'PROPN',\n",
       "  'lemmatized': 'Campbell',\n",
       "  'parent': '',\n",
       "  'bigram': 'campbell Orthopedic',\n",
       "  'trigram': 'date campbell Orthopedic',\n",
       "  'reverse_bigram': 'date campbell',\n",
       "  'BOS': False,\n",
       "  'EOS': False,\n",
       "  'sty_word': 'Health Care Related Organization',\n",
       "  'sty_prev_word': 'Food',\n",
       "  'sty_next_word': 'Biomedical Occupation or Discipline',\n",
       "  'match_bigram': False,\n",
       "  'match_trigram': False,\n",
       "  'match_reverse_bigram': False,\n",
       "  'CIU_word': 'C0331936'},\n",
       " {'sent': 0,\n",
       "  'word': 'orthopedic',\n",
       "  'prev_word': 'Campbell',\n",
       "  'next_word': 'Associates',\n",
       "  'word_length': 10,\n",
       "  'prev_2_words': 'date Campbell',\n",
       "  'next_2_words': 'Associates Madera',\n",
       "  'word_POS_tag': 'PROPN',\n",
       "  'prev_POS_tag': 'PROPN',\n",
       "  'next_POS_tag': 'PROPN',\n",
       "  'lemmatized': 'Orthopedic',\n",
       "  'parent': '',\n",
       "  'bigram': 'orthopedic Associates',\n",
       "  'trigram': 'Campbell orthopedic Associates',\n",
       "  'reverse_bigram': 'Campbell orthopedic',\n",
       "  'BOS': False,\n",
       "  'EOS': False,\n",
       "  'sty_word': 'Biomedical Occupation or Discipline',\n",
       "  'sty_prev_word': 'Health Care Related Organization',\n",
       "  'sty_next_word': '',\n",
       "  'match_bigram': False,\n",
       "  'match_trigram': False,\n",
       "  'match_reverse_bigram': False,\n",
       "  'CIU_word': 'C0029355'},\n",
       " {'sent': 0,\n",
       "  'word': 'associates',\n",
       "  'prev_word': 'Orthopedic',\n",
       "  'next_word': 'Madera',\n",
       "  'word_length': 10,\n",
       "  'prev_2_words': 'Campbell Orthopedic',\n",
       "  'next_2_words': 'Madera Circle',\n",
       "  'word_POS_tag': 'PROPN',\n",
       "  'prev_POS_tag': 'PROPN',\n",
       "  'next_POS_tag': 'PROPN',\n",
       "  'lemmatized': 'Associates',\n",
       "  'parent': '',\n",
       "  'bigram': 'associates Madera',\n",
       "  'trigram': 'Orthopedic associates Madera',\n",
       "  'reverse_bigram': 'Orthopedic associates',\n",
       "  'BOS': False,\n",
       "  'EOS': False,\n",
       "  'sty_word': '',\n",
       "  'sty_prev_word': 'Biomedical Occupation or Discipline',\n",
       "  'sty_next_word': 'Substance',\n",
       "  'match_bigram': False,\n",
       "  'match_trigram': False,\n",
       "  'match_reverse_bigram': False,\n",
       "  'CIU_word': ''},\n",
       " {'sent': 0,\n",
       "  'word': 'madera',\n",
       "  'prev_word': 'Associates',\n",
       "  'next_word': 'Circle',\n",
       "  'word_length': 6,\n",
       "  'prev_2_words': 'Orthopedic Associates',\n",
       "  'next_2_words': 'Circle Omak',\n",
       "  'word_POS_tag': 'PROPN',\n",
       "  'prev_POS_tag': 'PROPN',\n",
       "  'next_POS_tag': 'PROPN',\n",
       "  'lemmatized': 'Madera',\n",
       "  'parent': '',\n",
       "  'bigram': 'madera Circle',\n",
       "  'trigram': 'Associates madera Circle',\n",
       "  'reverse_bigram': 'Associates madera',\n",
       "  'BOS': False,\n",
       "  'EOS': False,\n",
       "  'sty_word': 'Substance',\n",
       "  'sty_prev_word': '',\n",
       "  'sty_next_word': 'Spatial Concept',\n",
       "  'match_bigram': False,\n",
       "  'match_trigram': False,\n",
       "  'match_reverse_bigram': False,\n",
       "  'CIU_word': 'C0043217'},\n",
       " {'sent': 0,\n",
       "  'word': 'circle',\n",
       "  'prev_word': 'Madera',\n",
       "  'next_word': 'Omak',\n",
       "  'word_length': 6,\n",
       "  'prev_2_words': 'Associates Madera',\n",
       "  'next_2_words': 'Omak GA',\n",
       "  'word_POS_tag': 'PROPN',\n",
       "  'prev_POS_tag': 'PROPN',\n",
       "  'next_POS_tag': 'PROPN',\n",
       "  'lemmatized': 'Circle',\n",
       "  'parent': '',\n",
       "  'bigram': 'circle Omak',\n",
       "  'trigram': 'Madera circle Omak',\n",
       "  'reverse_bigram': 'Madera circle',\n",
       "  'BOS': False,\n",
       "  'EOS': False,\n",
       "  'sty_word': 'Spatial Concept',\n",
       "  'sty_prev_word': 'Substance',\n",
       "  'sty_next_word': '',\n",
       "  'match_bigram': False,\n",
       "  'match_trigram': False,\n",
       "  'match_reverse_bigram': False,\n",
       "  'CIU_word': 'C1282913'},\n",
       " {'sent': 0,\n",
       "  'word': 'omak',\n",
       "  'prev_word': 'Circle',\n",
       "  'next_word': 'GA',\n",
       "  'word_length': 4,\n",
       "  'prev_2_words': 'Madera Circle',\n",
       "  'next_2_words': 'GA Habib',\n",
       "  'word_POS_tag': 'PROPN',\n",
       "  'prev_POS_tag': 'PROPN',\n",
       "  'next_POS_tag': 'PROPN',\n",
       "  'lemmatized': 'Omak',\n",
       "  'parent': '',\n",
       "  'bigram': 'omak GA',\n",
       "  'trigram': 'Circle omak GA',\n",
       "  'reverse_bigram': 'Circle omak',\n",
       "  'BOS': False,\n",
       "  'EOS': False,\n",
       "  'sty_word': '',\n",
       "  'sty_prev_word': 'Spatial Concept',\n",
       "  'sty_next_word': 'Therapeutic or Preventive Procedure',\n",
       "  'match_bigram': False,\n",
       "  'match_trigram': False,\n",
       "  'match_reverse_bigram': False,\n",
       "  'CIU_word': ''},\n",
       " {'sent': 0,\n",
       "  'word': 'ga',\n",
       "  'prev_word': 'Omak',\n",
       "  'next_word': 'Habib',\n",
       "  'word_length': 2,\n",
       "  'prev_2_words': 'Circle Omak',\n",
       "  'next_2_words': 'Habib Valenzuela',\n",
       "  'word_POS_tag': 'PROPN',\n",
       "  'prev_POS_tag': 'PROPN',\n",
       "  'next_POS_tag': 'PROPN',\n",
       "  'lemmatized': 'GA',\n",
       "  'parent': '',\n",
       "  'bigram': 'ga Habib',\n",
       "  'trigram': 'Omak ga Habib',\n",
       "  'reverse_bigram': 'Omak ga',\n",
       "  'BOS': False,\n",
       "  'EOS': False,\n",
       "  'sty_word': 'Therapeutic or Preventive Procedure',\n",
       "  'sty_prev_word': '',\n",
       "  'sty_next_word': '',\n",
       "  'match_bigram': False,\n",
       "  'match_trigram': False,\n",
       "  'match_reverse_bigram': False,\n",
       "  'CIU_word': 'C0002915'},\n",
       " {'sent': 0,\n",
       "  'word': 'habib',\n",
       "  'prev_word': 'GA',\n",
       "  'next_word': 'Valenzuela',\n",
       "  'word_length': 5,\n",
       "  'prev_2_words': 'Omak GA',\n",
       "  'next_2_words': 'Valenzuela M.D.',\n",
       "  'word_POS_tag': 'PROPN',\n",
       "  'prev_POS_tag': 'PROPN',\n",
       "  'next_POS_tag': 'PROPN',\n",
       "  'lemmatized': 'Habib',\n",
       "  'parent': '',\n",
       "  'bigram': 'habib Valenzuela',\n",
       "  'trigram': 'GA habib Valenzuela',\n",
       "  'reverse_bigram': 'GA habib',\n",
       "  'BOS': False,\n",
       "  'EOS': False,\n",
       "  'sty_word': '',\n",
       "  'sty_prev_word': 'Therapeutic or Preventive Procedure',\n",
       "  'sty_next_word': 'Eukaryote',\n",
       "  'match_bigram': False,\n",
       "  'match_trigram': False,\n",
       "  'match_reverse_bigram': False,\n",
       "  'CIU_word': ''},\n",
       " {'sent': 0,\n",
       "  'word': 'valenzuela',\n",
       "  'prev_word': 'Habib',\n",
       "  'next_word': 'M.D.',\n",
       "  'word_length': 10,\n",
       "  'prev_2_words': 'GA Habib',\n",
       "  'next_2_words': 'M.D. Valdez',\n",
       "  'word_POS_tag': 'PROPN',\n",
       "  'prev_POS_tag': 'PROPN',\n",
       "  'next_POS_tag': 'PROPN',\n",
       "  'lemmatized': 'Valenzuela',\n",
       "  'parent': '',\n",
       "  'bigram': 'valenzuela M.D.',\n",
       "  'trigram': 'Habib valenzuela M.D.',\n",
       "  'reverse_bigram': 'Habib valenzuela',\n",
       "  'BOS': False,\n",
       "  'EOS': False,\n",
       "  'sty_word': 'Eukaryote',\n",
       "  'sty_prev_word': '',\n",
       "  'sty_next_word': 'Intellectual Product',\n",
       "  'match_bigram': False,\n",
       "  'match_trigram': False,\n",
       "  'match_reverse_bigram': False,\n",
       "  'CIU_word': 'C1210080'},\n",
       " {'sent': 0,\n",
       "  'word': 'm.d.',\n",
       "  'prev_word': 'Valenzuela',\n",
       "  'next_word': 'Valdez',\n",
       "  'word_length': 4,\n",
       "  'prev_2_words': 'Habib Valenzuela',\n",
       "  'next_2_words': 'Valdez Harlan',\n",
       "  'word_POS_tag': 'PROPN',\n",
       "  'prev_POS_tag': 'PROPN',\n",
       "  'next_POS_tag': 'PROPN',\n",
       "  'lemmatized': 'M.D.',\n",
       "  'parent': '',\n",
       "  'bigram': 'm.d. Valdez',\n",
       "  'trigram': 'Valenzuela m.d. Valdez',\n",
       "  'reverse_bigram': 'Valenzuela m.d.',\n",
       "  'BOS': False,\n",
       "  'EOS': False,\n",
       "  'sty_word': 'Intellectual Product',\n",
       "  'sty_prev_word': 'Eukaryote',\n",
       "  'sty_next_word': '',\n",
       "  'match_bigram': False,\n",
       "  'match_trigram': False,\n",
       "  'match_reverse_bigram': False,\n",
       "  'CIU_word': 'C1512018'},\n",
       " {'sent': 0,\n",
       "  'word': 'valdez',\n",
       "  'prev_word': 'M.D.',\n",
       "  'next_word': 'Harlan',\n",
       "  'word_length': 6,\n",
       "  'prev_2_words': 'Valenzuela M.D.',\n",
       "  'next_2_words': '*',\n",
       "  'word_POS_tag': 'PROPN',\n",
       "  'prev_POS_tag': 'PROPN',\n",
       "  'next_POS_tag': 'PROPN',\n",
       "  'lemmatized': 'Valdez',\n",
       "  'parent': '',\n",
       "  'bigram': 'valdez Harlan',\n",
       "  'trigram': 'M.D. valdez Harlan',\n",
       "  'reverse_bigram': 'M.D. valdez',\n",
       "  'BOS': False,\n",
       "  'EOS': False,\n",
       "  'sty_word': '',\n",
       "  'sty_prev_word': 'Intellectual Product',\n",
       "  'sty_next_word': '',\n",
       "  'match_bigram': False,\n",
       "  'match_trigram': False,\n",
       "  'match_reverse_bigram': False,\n",
       "  'CIU_word': ''},\n",
       " {'sent': 0,\n",
       "  'word': 'harlan',\n",
       "  'prev_word': 'Valdez',\n",
       "  'next_word': 'Jr.',\n",
       "  'word_length': 6,\n",
       "  'prev_2_words': 'M.D. Valdez',\n",
       "  'next_2_words': 'Jr.',\n",
       "  'word_POS_tag': 'PROPN',\n",
       "  'prev_POS_tag': 'PROPN',\n",
       "  'next_POS_tag': 'PROPN',\n",
       "  'lemmatized': 'Harlan',\n",
       "  'parent': '',\n",
       "  'bigram': 'harlan Jr.',\n",
       "  'trigram': 'Valdez harlan Jr.',\n",
       "  'reverse_bigram': 'Valdez harlan',\n",
       "  'BOS': False,\n",
       "  'EOS': False,\n",
       "  'sty_word': '',\n",
       "  'sty_prev_word': '',\n",
       "  'sty_next_word': '',\n",
       "  'match_bigram': False,\n",
       "  'match_trigram': False,\n",
       "  'match_reverse_bigram': False,\n",
       "  'CIU_word': ''},\n",
       " {'sent': 0,\n",
       "  'word': 'jr.',\n",
       "  'prev_word': 'Harlan',\n",
       "  'next_word': '*',\n",
       "  'word_length': 3,\n",
       "  'prev_2_words': 'Valdez Harlan',\n",
       "  'next_2_words': '*',\n",
       "  'word_POS_tag': 'PROPN',\n",
       "  'prev_POS_tag': 'PROPN',\n",
       "  'next_POS_tag': '',\n",
       "  'lemmatized': 'Jr.',\n",
       "  'parent': '',\n",
       "  'bigram': 'jr. *',\n",
       "  'trigram': 'Harlan jr. *',\n",
       "  'reverse_bigram': 'Harlan jr.',\n",
       "  'BOS': False,\n",
       "  'EOS': True,\n",
       "  'sty_word': '',\n",
       "  'sty_prev_word': '',\n",
       "  'sty_next_word': '',\n",
       "  'match_bigram': False,\n",
       "  'match_trigram': False,\n",
       "  'match_reverse_bigram': False,\n",
       "  'CIU_word': ''}]"
      ]
     },
     "execution_count": 208,
     "metadata": {},
     "output_type": "execute_result"
    }
   ],
   "source": [
    "features[0]"
   ]
  },
  {
   "cell_type": "code",
   "execution_count": null,
   "metadata": {},
   "outputs": [],
   "source": []
  },
  {
   "cell_type": "code",
   "execution_count": 65,
   "metadata": {},
   "outputs": [
    {
     "data": {
      "text/plain": [
       "[{'sent': 1,\n",
       "  'word': 'function',\n",
       "  'prev_word': '*',\n",
       "  'next_word': 'can',\n",
       "  'word_length': 8,\n",
       "  'prev_2_words': '*',\n",
       "  'next_2_words': 'can be',\n",
       "  'word_POS_tag': 'NOUN',\n",
       "  'prev_POS_tag': '',\n",
       "  'next_POS_tag': 'AUX',\n",
       "  'lemmatized': 'function',\n",
       "  'parent': 'be',\n",
       "  'bigram': 'function can',\n",
       "  'trigram': '* function can',\n",
       "  'reverse_bigram': '* function',\n",
       "  'BOS': True,\n",
       "  'EOS': False,\n",
       "  'sty_word': 'Intellectual Product',\n",
       "  'sty_prev_word': '',\n",
       "  'sty_next_word': 'Gene or Genome',\n",
       "  'match_bigram': False,\n",
       "  'match_trigram': False,\n",
       "  'match_reverse_bigram': False,\n",
       "  'CIU_word': 'C1705273'},\n",
       " {'sent': 1,\n",
       "  'word': 'can',\n",
       "  'prev_word': 'function',\n",
       "  'next_word': 'be',\n",
       "  'word_length': 3,\n",
       "  'prev_2_words': 'function',\n",
       "  'next_2_words': 'be use',\n",
       "  'word_POS_tag': 'AUX',\n",
       "  'prev_POS_tag': 'NOUN',\n",
       "  'next_POS_tag': 'VERB',\n",
       "  'lemmatized': 'can',\n",
       "  'parent': '',\n",
       "  'bigram': 'can be',\n",
       "  'trigram': 'function can be',\n",
       "  'reverse_bigram': 'function can',\n",
       "  'BOS': False,\n",
       "  'EOS': False,\n",
       "  'sty_word': 'Gene or Genome',\n",
       "  'sty_prev_word': 'Intellectual Product',\n",
       "  'sty_next_word': 'Hazardous or Poisonous Substance',\n",
       "  'match_bigram': False,\n",
       "  'match_trigram': False,\n",
       "  'match_reverse_bigram': False,\n",
       "  'CIU_word': 'C1704852'},\n",
       " {'sent': 1,\n",
       "  'word': 'be',\n",
       "  'prev_word': 'can',\n",
       "  'next_word': 'use',\n",
       "  'word_length': 2,\n",
       "  'prev_2_words': 'function can',\n",
       "  'next_2_words': 'use to',\n",
       "  'word_POS_tag': 'VERB',\n",
       "  'prev_POS_tag': 'AUX',\n",
       "  'next_POS_tag': 'VERB',\n",
       "  'lemmatized': 'be',\n",
       "  'parent': '',\n",
       "  'bigram': 'be use',\n",
       "  'trigram': 'can be use',\n",
       "  'reverse_bigram': 'can be',\n",
       "  'BOS': False,\n",
       "  'EOS': False,\n",
       "  'sty_word': 'Hazardous or Poisonous Substance',\n",
       "  'sty_prev_word': 'Gene or Genome',\n",
       "  'sty_next_word': 'Functional Concept',\n",
       "  'match_bigram': False,\n",
       "  'match_trigram': False,\n",
       "  'match_reverse_bigram': False,\n",
       "  'CIU_word': 'C0005139'},\n",
       " {'sent': 1,\n",
       "  'word': 'use',\n",
       "  'prev_word': 'be',\n",
       "  'next_word': 'to',\n",
       "  'word_length': 3,\n",
       "  'prev_2_words': 'can be',\n",
       "  'next_2_words': 'to iterate',\n",
       "  'word_POS_tag': 'VERB',\n",
       "  'prev_POS_tag': 'VERB',\n",
       "  'next_POS_tag': 'PART',\n",
       "  'lemmatized': 'use',\n",
       "  'parent': '',\n",
       "  'bigram': 'use to',\n",
       "  'trigram': 'be use to',\n",
       "  'reverse_bigram': 'be use',\n",
       "  'BOS': False,\n",
       "  'EOS': False,\n",
       "  'sty_word': 'Functional Concept',\n",
       "  'sty_prev_word': 'Hazardous or Poisonous Substance',\n",
       "  'sty_next_word': 'Intellectual Product',\n",
       "  'match_bigram': False,\n",
       "  'match_trigram': False,\n",
       "  'match_reverse_bigram': False,\n",
       "  'CIU_word': 'C0457083'},\n",
       " {'sent': 1,\n",
       "  'word': 'to',\n",
       "  'prev_word': 'use',\n",
       "  'next_word': 'iterate',\n",
       "  'word_length': 2,\n",
       "  'prev_2_words': 'be use',\n",
       "  'next_2_words': 'iterate over',\n",
       "  'word_POS_tag': 'PART',\n",
       "  'prev_POS_tag': 'VERB',\n",
       "  'next_POS_tag': 'VERB',\n",
       "  'lemmatized': 'to',\n",
       "  'parent': '',\n",
       "  'bigram': 'to iterate',\n",
       "  'trigram': 'use to iterate',\n",
       "  'reverse_bigram': 'use to',\n",
       "  'BOS': False,\n",
       "  'EOS': False,\n",
       "  'sty_word': 'Intellectual Product',\n",
       "  'sty_prev_word': 'Functional Concept',\n",
       "  'sty_next_word': '',\n",
       "  'match_bigram': False,\n",
       "  'match_trigram': False,\n",
       "  'match_reverse_bigram': False,\n",
       "  'CIU_word': 'C1706540'},\n",
       " {'sent': 1,\n",
       "  'word': 'iterate',\n",
       "  'prev_word': 'to',\n",
       "  'next_word': 'over',\n",
       "  'word_length': 7,\n",
       "  'prev_2_words': 'use to',\n",
       "  'next_2_words': 'over indices',\n",
       "  'word_POS_tag': 'VERB',\n",
       "  'prev_POS_tag': 'PART',\n",
       "  'next_POS_tag': 'ADP',\n",
       "  'lemmatized': 'iterate',\n",
       "  'parent': '',\n",
       "  'bigram': 'iterate over',\n",
       "  'trigram': 'to iterate over',\n",
       "  'reverse_bigram': 'to iterate',\n",
       "  'BOS': False,\n",
       "  'EOS': False,\n",
       "  'sty_word': '',\n",
       "  'sty_prev_word': 'Intellectual Product',\n",
       "  'sty_next_word': 'Spatial Concept',\n",
       "  'match_bigram': False,\n",
       "  'match_trigram': False,\n",
       "  'match_reverse_bigram': False,\n",
       "  'CIU_word': ''},\n",
       " {'sent': 1,\n",
       "  'word': 'over',\n",
       "  'prev_word': 'iterate',\n",
       "  'next_word': 'indices',\n",
       "  'word_length': 4,\n",
       "  'prev_2_words': 'to iterate',\n",
       "  'next_2_words': 'indices and',\n",
       "  'word_POS_tag': 'ADP',\n",
       "  'prev_POS_tag': 'VERB',\n",
       "  'next_POS_tag': 'NOUN',\n",
       "  'lemmatized': 'over',\n",
       "  'parent': '',\n",
       "  'bigram': 'over indices',\n",
       "  'trigram': 'iterate over indices',\n",
       "  'reverse_bigram': 'iterate over',\n",
       "  'BOS': False,\n",
       "  'EOS': False,\n",
       "  'sty_word': 'Spatial Concept',\n",
       "  'sty_prev_word': '',\n",
       "  'sty_next_word': 'Intellectual Product',\n",
       "  'match_bigram': False,\n",
       "  'match_trigram': False,\n",
       "  'match_reverse_bigram': False,\n",
       "  'CIU_word': 'C0205136'},\n",
       " {'sent': 1,\n",
       "  'word': 'indices',\n",
       "  'prev_word': 'over',\n",
       "  'next_word': 'and',\n",
       "  'word_length': 7,\n",
       "  'prev_2_words': 'iterate over',\n",
       "  'next_2_words': 'and items',\n",
       "  'word_POS_tag': 'NOUN',\n",
       "  'prev_POS_tag': 'ADP',\n",
       "  'next_POS_tag': 'CCONJ',\n",
       "  'lemmatized': 'index',\n",
       "  'parent': 'over',\n",
       "  'bigram': 'indices and',\n",
       "  'trigram': 'over indices and',\n",
       "  'reverse_bigram': 'over indices',\n",
       "  'BOS': False,\n",
       "  'EOS': False,\n",
       "  'sty_word': 'Intellectual Product',\n",
       "  'sty_prev_word': 'Spatial Concept',\n",
       "  'sty_next_word': 'Intellectual Product',\n",
       "  'match_bigram': False,\n",
       "  'match_trigram': False,\n",
       "  'match_reverse_bigram': False,\n",
       "  'CIU_word': 'C0918012'},\n",
       " {'sent': 1,\n",
       "  'word': 'and',\n",
       "  'prev_word': 'indices',\n",
       "  'next_word': 'items',\n",
       "  'word_length': 3,\n",
       "  'prev_2_words': 'over indices',\n",
       "  'next_2_words': 'items of',\n",
       "  'word_POS_tag': 'CCONJ',\n",
       "  'prev_POS_tag': 'NOUN',\n",
       "  'next_POS_tag': 'NOUN',\n",
       "  'lemmatized': 'and',\n",
       "  'parent': '',\n",
       "  'bigram': 'and items',\n",
       "  'trigram': 'indices and items',\n",
       "  'reverse_bigram': 'indices and',\n",
       "  'BOS': False,\n",
       "  'EOS': False,\n",
       "  'sty_word': 'Intellectual Product',\n",
       "  'sty_prev_word': 'Intellectual Product',\n",
       "  'sty_next_word': '',\n",
       "  'match_bigram': False,\n",
       "  'match_trigram': False,\n",
       "  'match_reverse_bigram': False,\n",
       "  'CIU_word': 'C1706368'},\n",
       " {'sent': 1,\n",
       "  'word': 'items',\n",
       "  'prev_word': 'and',\n",
       "  'next_word': 'of',\n",
       "  'word_length': 5,\n",
       "  'prev_2_words': 'indices and',\n",
       "  'next_2_words': 'of a',\n",
       "  'word_POS_tag': 'NOUN',\n",
       "  'prev_POS_tag': 'CCONJ',\n",
       "  'next_POS_tag': 'ADP',\n",
       "  'lemmatized': 'item',\n",
       "  'parent': 'indices',\n",
       "  'bigram': 'items of',\n",
       "  'trigram': 'and items of',\n",
       "  'reverse_bigram': 'and items',\n",
       "  'BOS': False,\n",
       "  'EOS': False,\n",
       "  'sty_word': '',\n",
       "  'sty_prev_word': 'Intellectual Product',\n",
       "  'sty_next_word': 'Gene or Genome',\n",
       "  'match_bigram': False,\n",
       "  'match_trigram': False,\n",
       "  'match_reverse_bigram': False,\n",
       "  'CIU_word': ''},\n",
       " {'sent': 1,\n",
       "  'word': 'of',\n",
       "  'prev_word': 'items',\n",
       "  'next_word': 'a',\n",
       "  'word_length': 2,\n",
       "  'prev_2_words': 'and items',\n",
       "  'next_2_words': '*',\n",
       "  'word_POS_tag': 'ADP',\n",
       "  'prev_POS_tag': 'NOUN',\n",
       "  'next_POS_tag': 'DET',\n",
       "  'lemmatized': 'of',\n",
       "  'parent': '',\n",
       "  'bigram': 'of a',\n",
       "  'trigram': 'items of a',\n",
       "  'reverse_bigram': 'items of',\n",
       "  'BOS': False,\n",
       "  'EOS': False,\n",
       "  'sty_word': 'Gene or Genome',\n",
       "  'sty_prev_word': '',\n",
       "  'sty_next_word': 'Quantitative Concept',\n",
       "  'match_bigram': False,\n",
       "  'match_trigram': False,\n",
       "  'match_reverse_bigram': False,\n",
       "  'CIU_word': 'C1879775'},\n",
       " {'sent': 1,\n",
       "  'word': 'a',\n",
       "  'prev_word': 'of',\n",
       "  'next_word': 'list',\n",
       "  'word_length': 1,\n",
       "  'prev_2_words': 'items of',\n",
       "  'next_2_words': 'list',\n",
       "  'word_POS_tag': 'DET',\n",
       "  'prev_POS_tag': 'ADP',\n",
       "  'next_POS_tag': 'NOUN',\n",
       "  'lemmatized': 'a',\n",
       "  'parent': 'of',\n",
       "  'bigram': 'a list',\n",
       "  'trigram': 'of a list',\n",
       "  'reverse_bigram': 'of a',\n",
       "  'BOS': False,\n",
       "  'EOS': False,\n",
       "  'sty_word': 'Quantitative Concept',\n",
       "  'sty_prev_word': 'Gene or Genome',\n",
       "  'sty_next_word': 'Intellectual Product',\n",
       "  'match_bigram': False,\n",
       "  'match_trigram': False,\n",
       "  'match_reverse_bigram': False,\n",
       "  'CIU_word': 'C0457243'},\n",
       " {'sent': 1,\n",
       "  'word': 'list',\n",
       "  'prev_word': 'a',\n",
       "  'next_word': '*',\n",
       "  'word_length': 4,\n",
       "  'prev_2_words': 'of a',\n",
       "  'next_2_words': '*',\n",
       "  'word_POS_tag': 'NOUN',\n",
       "  'prev_POS_tag': 'DET',\n",
       "  'next_POS_tag': '',\n",
       "  'lemmatized': 'list',\n",
       "  'parent': 'of',\n",
       "  'bigram': 'list *',\n",
       "  'trigram': 'a list *',\n",
       "  'reverse_bigram': 'a list',\n",
       "  'BOS': False,\n",
       "  'EOS': True,\n",
       "  'sty_word': 'Intellectual Product',\n",
       "  'sty_prev_word': 'Quantitative Concept',\n",
       "  'sty_next_word': '',\n",
       "  'match_bigram': False,\n",
       "  'match_trigram': False,\n",
       "  'match_reverse_bigram': False,\n",
       "  'CIU_word': 'C0745732'}]"
      ]
     },
     "execution_count": 65,
     "metadata": {},
     "output_type": "execute_result"
    }
   ],
   "source": [
    "text = \"function can be use to iterate over indices and items of a list\"\n",
    "get_features_sentence(text, 1)"
   ]
  },
  {
   "cell_type": "code",
   "execution_count": 67,
   "metadata": {},
   "outputs": [
    {
     "data": {
      "text/plain": [
       "[[{'sent': 0,\n",
       "   'word': 'record',\n",
       "   'prev_word': '*',\n",
       "   'next_word': 'date',\n",
       "   'word_length': 6,\n",
       "   'prev_2_words': '*',\n",
       "   'next_2_words': 'date   ',\n",
       "   'word_POS_tag': 'NOUN',\n",
       "   'prev_POS_tag': '',\n",
       "   'next_POS_tag': 'NOUN',\n",
       "   'lemmatized': 'record',\n",
       "   'parent': '',\n",
       "   'bigram': 'record date',\n",
       "   'trigram': '* record date',\n",
       "   'reverse_bigram': '* record',\n",
       "   'BOS': True,\n",
       "   'EOS': False,\n",
       "   'sty_word': 'Intellectual Product',\n",
       "   'sty_prev_word': '',\n",
       "   'sty_next_word': 'Food',\n",
       "   'match_bigram': False,\n",
       "   'match_trigram': False,\n",
       "   'match_reverse_bigram': False,\n",
       "   'CIU_word': 'C0034869'},\n",
       "  {'sent': 0,\n",
       "   'word': 'date',\n",
       "   'prev_word': 'Record',\n",
       "   'next_word': '  ',\n",
       "   'word_length': 4,\n",
       "   'prev_2_words': 'Record',\n",
       "   'next_2_words': '   Campbell',\n",
       "   'word_POS_tag': 'NOUN',\n",
       "   'prev_POS_tag': 'NOUN',\n",
       "   'next_POS_tag': 'SPACE',\n",
       "   'lemmatized': 'date',\n",
       "   'parent': 'date',\n",
       "   'bigram': 'date   ',\n",
       "   'trigram': 'Record date   ',\n",
       "   'reverse_bigram': 'Record date',\n",
       "   'BOS': False,\n",
       "   'EOS': False,\n",
       "   'sty_word': 'Food',\n",
       "   'sty_prev_word': 'Intellectual Product',\n",
       "   'sty_next_word': '',\n",
       "   'match_bigram': True,\n",
       "   'match_trigram': False,\n",
       "   'match_reverse_bigram': False,\n",
       "   'CIU_word': 'C2348077'},\n",
       "  {'sent': 0,\n",
       "   'word': '  ',\n",
       "   'prev_word': 'date',\n",
       "   'next_word': 'Campbell',\n",
       "   'word_length': 2,\n",
       "   'prev_2_words': 'Record date',\n",
       "   'next_2_words': 'Campbell Orthopedic',\n",
       "   'word_POS_tag': 'SPACE',\n",
       "   'prev_POS_tag': 'NOUN',\n",
       "   'next_POS_tag': 'PROPN',\n",
       "   'lemmatized': '  ',\n",
       "   'parent': '',\n",
       "   'bigram': '   Campbell',\n",
       "   'trigram': 'date    Campbell',\n",
       "   'reverse_bigram': 'date   ',\n",
       "   'BOS': False,\n",
       "   'EOS': False,\n",
       "   'sty_word': '',\n",
       "   'sty_prev_word': 'Food',\n",
       "   'sty_next_word': 'Health Care Related Organization',\n",
       "   'match_bigram': False,\n",
       "   'match_trigram': False,\n",
       "   'match_reverse_bigram': True,\n",
       "   'CIU_word': ''},\n",
       "  {'sent': 0,\n",
       "   'word': 'campbell',\n",
       "   'prev_word': '  ',\n",
       "   'next_word': 'Orthopedic',\n",
       "   'word_length': 8,\n",
       "   'prev_2_words': 'date   ',\n",
       "   'next_2_words': '*',\n",
       "   'word_POS_tag': 'PROPN',\n",
       "   'prev_POS_tag': 'SPACE',\n",
       "   'next_POS_tag': 'PROPN',\n",
       "   'lemmatized': 'Campbell',\n",
       "   'parent': '',\n",
       "   'bigram': 'campbell Orthopedic',\n",
       "   'trigram': '   campbell Orthopedic',\n",
       "   'reverse_bigram': '   campbell',\n",
       "   'BOS': False,\n",
       "   'EOS': False,\n",
       "   'sty_word': 'Health Care Related Organization',\n",
       "   'sty_prev_word': '',\n",
       "   'sty_next_word': 'Biomedical Occupation or Discipline',\n",
       "   'match_bigram': False,\n",
       "   'match_trigram': False,\n",
       "   'match_reverse_bigram': False,\n",
       "   'CIU_word': 'C0331936'},\n",
       "  {'sent': 0,\n",
       "   'word': 'orthopedic',\n",
       "   'prev_word': 'Campbell',\n",
       "   'next_word': 'Associates',\n",
       "   'word_length': 10,\n",
       "   'prev_2_words': '   Campbell',\n",
       "   'next_2_words': 'Associates',\n",
       "   'word_POS_tag': 'PROPN',\n",
       "   'prev_POS_tag': 'PROPN',\n",
       "   'next_POS_tag': 'PROPN',\n",
       "   'lemmatized': 'Orthopedic',\n",
       "   'parent': '',\n",
       "   'bigram': 'orthopedic Associates',\n",
       "   'trigram': 'Campbell orthopedic Associates',\n",
       "   'reverse_bigram': 'Campbell orthopedic',\n",
       "   'BOS': False,\n",
       "   'EOS': False,\n",
       "   'sty_word': 'Biomedical Occupation or Discipline',\n",
       "   'sty_prev_word': 'Health Care Related Organization',\n",
       "   'sty_next_word': '',\n",
       "   'match_bigram': False,\n",
       "   'match_trigram': False,\n",
       "   'match_reverse_bigram': False,\n",
       "   'CIU_word': 'C0029355'},\n",
       "  {'sent': 0,\n",
       "   'word': 'associates',\n",
       "   'prev_word': 'Orthopedic',\n",
       "   'next_word': '*',\n",
       "   'word_length': 10,\n",
       "   'prev_2_words': 'Campbell Orthopedic',\n",
       "   'next_2_words': '*',\n",
       "   'word_POS_tag': 'PROPN',\n",
       "   'prev_POS_tag': 'PROPN',\n",
       "   'next_POS_tag': '',\n",
       "   'lemmatized': 'Associates',\n",
       "   'parent': '',\n",
       "   'bigram': 'associates *',\n",
       "   'trigram': 'Orthopedic associates *',\n",
       "   'reverse_bigram': 'Orthopedic associates',\n",
       "   'BOS': False,\n",
       "   'EOS': True,\n",
       "   'sty_word': '',\n",
       "   'sty_prev_word': 'Biomedical Occupation or Discipline',\n",
       "   'sty_next_word': '',\n",
       "   'match_bigram': False,\n",
       "   'match_trigram': False,\n",
       "   'match_reverse_bigram': False,\n",
       "   'CIU_word': ''}],\n",
       " [{'sent': 1,\n",
       "   'word': 'madera',\n",
       "   'prev_word': '*',\n",
       "   'next_word': 'Circle',\n",
       "   'word_length': 6,\n",
       "   'prev_2_words': '*',\n",
       "   'next_2_words': 'Circle Omak',\n",
       "   'word_POS_tag': 'PROPN',\n",
       "   'prev_POS_tag': '',\n",
       "   'next_POS_tag': 'PROPN',\n",
       "   'lemmatized': 'Madera',\n",
       "   'parent': '',\n",
       "   'bigram': 'madera Circle',\n",
       "   'trigram': '* madera Circle',\n",
       "   'reverse_bigram': '* madera',\n",
       "   'BOS': True,\n",
       "   'EOS': False,\n",
       "   'sty_word': 'Substance',\n",
       "   'sty_prev_word': '',\n",
       "   'sty_next_word': 'Spatial Concept',\n",
       "   'match_bigram': False,\n",
       "   'match_trigram': False,\n",
       "   'match_reverse_bigram': False,\n",
       "   'CIU_word': 'C0043217'},\n",
       "  {'sent': 1,\n",
       "   'word': 'circle',\n",
       "   'prev_word': 'Madera',\n",
       "   'next_word': 'Omak',\n",
       "   'word_length': 6,\n",
       "   'prev_2_words': 'Madera',\n",
       "   'next_2_words': '*',\n",
       "   'word_POS_tag': 'PROPN',\n",
       "   'prev_POS_tag': 'PROPN',\n",
       "   'next_POS_tag': 'PROPN',\n",
       "   'lemmatized': 'Circle',\n",
       "   'parent': '',\n",
       "   'bigram': 'circle Omak',\n",
       "   'trigram': 'Madera circle Omak',\n",
       "   'reverse_bigram': 'Madera circle',\n",
       "   'BOS': False,\n",
       "   'EOS': False,\n",
       "   'sty_word': 'Spatial Concept',\n",
       "   'sty_prev_word': 'Substance',\n",
       "   'sty_next_word': '',\n",
       "   'match_bigram': False,\n",
       "   'match_trigram': False,\n",
       "   'match_reverse_bigram': False,\n",
       "   'CIU_word': 'C1282913'},\n",
       "  {'sent': 1,\n",
       "   'word': 'omak',\n",
       "   'prev_word': 'Circle',\n",
       "   'next_word': 'GA',\n",
       "   'word_length': 4,\n",
       "   'prev_2_words': 'Madera Circle',\n",
       "   'next_2_words': 'GA',\n",
       "   'word_POS_tag': 'PROPN',\n",
       "   'prev_POS_tag': 'PROPN',\n",
       "   'next_POS_tag': 'PROPN',\n",
       "   'lemmatized': 'Omak',\n",
       "   'parent': '',\n",
       "   'bigram': 'omak GA',\n",
       "   'trigram': 'Circle omak GA',\n",
       "   'reverse_bigram': 'Circle omak',\n",
       "   'BOS': False,\n",
       "   'EOS': False,\n",
       "   'sty_word': '',\n",
       "   'sty_prev_word': 'Spatial Concept',\n",
       "   'sty_next_word': 'Therapeutic or Preventive Procedure',\n",
       "   'match_bigram': False,\n",
       "   'match_trigram': False,\n",
       "   'match_reverse_bigram': False,\n",
       "   'CIU_word': ''},\n",
       "  {'sent': 1,\n",
       "   'word': 'ga',\n",
       "   'prev_word': 'Omak',\n",
       "   'next_word': '*',\n",
       "   'word_length': 2,\n",
       "   'prev_2_words': 'Circle Omak',\n",
       "   'next_2_words': '*',\n",
       "   'word_POS_tag': 'PROPN',\n",
       "   'prev_POS_tag': 'PROPN',\n",
       "   'next_POS_tag': '',\n",
       "   'lemmatized': 'GA',\n",
       "   'parent': '',\n",
       "   'bigram': 'ga *',\n",
       "   'trigram': 'Omak ga *',\n",
       "   'reverse_bigram': 'Omak ga',\n",
       "   'BOS': False,\n",
       "   'EOS': True,\n",
       "   'sty_word': 'Therapeutic or Preventive Procedure',\n",
       "   'sty_prev_word': '',\n",
       "   'sty_next_word': '',\n",
       "   'match_bigram': False,\n",
       "   'match_trigram': False,\n",
       "   'match_reverse_bigram': False,\n",
       "   'CIU_word': 'C0002915'}]]"
      ]
     },
     "execution_count": 67,
     "metadata": {},
     "output_type": "execute_result"
    }
   ],
   "source": [
    "G1"
   ]
  },
  {
   "cell_type": "code",
   "execution_count": 68,
   "metadata": {},
   "outputs": [
    {
     "data": {
      "text/plain": [
       "'Disease or Syndrome'"
      ]
     },
     "execution_count": 68,
     "metadata": {},
     "output_type": "execute_result"
    }
   ],
   "source": [
    "symantic_type_lookup('Actinomycosis')"
   ]
  },
  {
   "cell_type": "code",
   "execution_count": 69,
   "metadata": {},
   "outputs": [
    {
     "data": {
      "text/plain": [
       "'C0001261'"
      ]
     },
     "execution_count": 69,
     "metadata": {},
     "output_type": "execute_result"
    }
   ],
   "source": [
    "cui_lookup('Actinomycosis')"
   ]
  },
  {
   "cell_type": "code",
   "execution_count": 209,
   "metadata": {},
   "outputs": [],
   "source": [
    "from tqdm import tqdm\n",
    "\n",
    "def get_training_data_sentence(sentence, i):\n",
    "    G1 = pd.DataFrame(columns = ['Sentence #', 'Word', 'POS', 'Tag'])\n",
    "    \n",
    "    doc = nlp(sentence)\n",
    "    doc_len = len(doc) - 1\n",
    "    \n",
    "    for token in doc:\n",
    "        current_word = token.text\n",
    "              \n",
    "        token_index = token.i\n",
    "        \n",
    "        #\tSentence #\tWord\tPOS\tTag\n",
    "        \n",
    "        train_data = {'Sentence #':i,'Word':current_word, 'POS':token.pos_, 'Tag':''}\n",
    "        \n",
    "        G1 = G1.append(train_data,ignore_index=True)\n",
    "    return G1\n",
    "\n",
    "def get_training_data_corpus(report_sentences):\n",
    "    G1 = pd.DataFrame(columns = ['Sentence #', 'Word', 'POS', 'Tag'])\n",
    "    for i, each_sentence in enumerate(tqdm(report_sentences)):\n",
    "        print(each_sentence, ' - ', i)\n",
    "        G1 = G1.append(get_training_data_sentence(each_sentence, i),ignore_index=True)\n",
    "    return G1"
   ]
  },
  {
   "cell_type": "code",
   "execution_count": 210,
   "metadata": {},
   "outputs": [
    {
     "name": "stderr",
     "output_type": "stream",
     "text": [
      "  0%|▏                                                                                 | 2/999 [00:00<01:00, 16.53it/s]"
     ]
    },
    {
     "name": "stdout",
     "output_type": "stream",
     "text": [
      "Record date Campbell Orthopedic Associates Madera Circle Omak GA Habib Valenzuela M.D. Valdez Harlan Jr.  -  0\n",
      "February Har is a year old pound gentleman who is referred for consultation by Dr. Harlan Oneil.  -  1\n",
      "About a week ago he slipped on the driveway at home and sustained an injury to his left ankle.  -  2\n",
      "He was seen at TriCity Hospital and was told he had a fracture.  -  3\n"
     ]
    },
    {
     "name": "stderr",
     "output_type": "stream",
     "text": [
      "  1%|▍                                                                                 | 6/999 [00:00<00:57, 17.24it/s]"
     ]
    },
    {
     "name": "stdout",
     "output_type": "stream",
     "text": [
      "He was placed in an air splint and advised to be partial weight bearing and he is using a cane.  -  4\n",
      "He is here for routine followup.  -  5\n",
      "Past medical history is notable for no ankle injuries previously.  -  6\n",
      "He has a history of diabetes and sleep apnea.  -  7\n",
      "He takes Prozac Cardizem Glucophage and Amaryl.  -  8\n"
     ]
    },
    {
     "name": "stderr",
     "output_type": "stream",
     "text": [
      "  1%|█                                                                                | 13/999 [00:00<00:46, 21.26it/s]"
     ]
    },
    {
     "name": "stdout",
     "output_type": "stream",
     "text": [
      "He is also followed by Dr. Harold Nutter for an arrhythmia.  -  9\n",
      "He does not smoke.  -  10\n",
      "He drinks minimally.  -  11\n",
      "He is a set designer at Columbia Pictures.  -  12\n",
      "On examination today he has slight tenderness of the left ankle about four fingerbreadths above the malleolus.  -  13\n",
      "The malleolus is nontender medially or laterally with no ligamentous tenderness either.  -  14\n"
     ]
    },
    {
     "name": "stderr",
     "output_type": "stream",
     "text": [
      "  2%|█▍                                                                               | 18/999 [00:00<00:44, 22.14it/s]"
     ]
    },
    {
     "name": "stdout",
     "output_type": "stream",
     "text": [
      "Dorsal flexion and plantar flexion is without pain.  -  15\n",
      "There is no significant swelling.  -  16\n",
      "There are no some skin changes with some small abrasions proximally.  -  17\n",
      "There is no fibular tenderness proximally.  -  18\n",
      "No anterior pain is noted.  -  19\n",
      "No hindfoot midfoot or forefoot tenderness is noted.  -  20\n"
     ]
    },
    {
     "name": "stderr",
     "output_type": "stream",
     "text": [
      "  2%|█▉                                                                               | 24/999 [00:01<00:42, 22.93it/s]"
     ]
    },
    {
     "name": "stdout",
     "output_type": "stream",
     "text": [
      "I would like him to use a tube sock with his air cast.  -  21\n",
      "He is using a cane for ambulation.  -  22\n",
      "His xrays do not show a notable fracture pattern today and we will await the Radiology opinion.  -  23\n",
      "I would like him to stay in the air splint with the sock.  -  24\n"
     ]
    },
    {
     "name": "stderr",
     "output_type": "stream",
     "text": [
      "  3%|██▍                                                                              | 30/999 [00:01<00:41, 23.32it/s]"
     ]
    },
    {
     "name": "stdout",
     "output_type": "stream",
     "text": [
      "I will see him back in six weeks for review at the Boxborough office.  -  25\n",
      "Diagnosis Left ankle fracture.  -  26\n",
      "Habib Valenzuela M.D.  -  27\n",
      "HVkuntz Mmedical cc Harlan Oneil M.D.  -  28\n",
      "Harold Nutter M.D. Doctors Hospital North Bruce St Omak GA Habib Valenzuela M.D. DD DT DV Not reviewed by Attending Physician  -  29\n"
     ]
    },
    {
     "name": "stderr",
     "output_type": "stream",
     "text": [
      "\r",
      "  3%|██▋                                                                              | 33/999 [00:01<00:39, 24.74it/s]"
     ]
    },
    {
     "name": "stdout",
     "output_type": "stream",
     "text": [
      "Record date CAMPBELL EMERGENCY DEPT VISIT VALDEZHARLANJR.  -  30\n",
      "VISIT DATE  -  31\n",
      "The patient was seen and examined in the emergency department.  -  32\n",
      "The patient was seen by the Emergency Medicine resident.  -  33\n",
      "I have discussed the management with the resident.  -  34\n",
      "I have also seen the patient primarily and reviewed the medical record.  -  35\n"
     ]
    },
    {
     "name": "stderr",
     "output_type": "stream",
     "text": [
      "  4%|███▏                                                                             | 39/999 [00:01<00:39, 24.13it/s]"
     ]
    },
    {
     "name": "stdout",
     "output_type": "stream",
     "text": [
      "This is a brief addendum to the medical record.  -  36\n",
      "HISTORY OF PRESENTING COMPLAINT  -  37\n",
      "Briefly this is a yearold male who complains of several days of nausea vomiting and left lower quadrant discomfort.  -  38\n",
      "He also describes intermittent chest pain which he has had for a number of months without significant change.  -  39\n"
     ]
    },
    {
     "name": "stderr",
     "output_type": "stream",
     "text": [
      "\r",
      "  4%|███▍                                                                             | 42/999 [00:01<00:49, 19.18it/s]"
     ]
    },
    {
     "name": "stdout",
     "output_type": "stream",
     "text": [
      "He was sent in from his primary care doctor today with this pain and was also noted to have some EKG changes.  -  40\n",
      "The patient has no chest pain at the time of evaluation in the emergency department and no shortness of breath.  -  41\n",
      "REVIEW OF SYSTEMS  -  42\n",
      "As indicated and otherwise negative.  -  43\n",
      "PAST MEDICAL HISTORY  -  44\n"
     ]
    },
    {
     "name": "stderr",
     "output_type": "stream",
     "text": [
      "  5%|████                                                                             | 50/999 [00:02<00:39, 24.19it/s]"
     ]
    },
    {
     "name": "stdout",
     "output_type": "stream",
     "text": [
      "As indicated in the chart.  -  45\n",
      "SOCIAL HISTORY AND FAMILY HISTORY  -  46\n",
      "As indicated in the chart.  -  47\n",
      "PHYSICAL EXAMINATION  -  48\n",
      "On physical examination the patient is very wellappearing a smiling very pleasant gentleman in no acute distress.  -  49\n",
      "The blood pressure is the pulse and the temperature .  -  50\n"
     ]
    },
    {
     "name": "stderr",
     "output_type": "stream",
     "text": [
      "\r",
      "  6%|████▍                                                                            | 55/999 [00:02<00:35, 26.74it/s]"
     ]
    },
    {
     "name": "stdout",
     "output_type": "stream",
     "text": [
      "degrees.  -  51\n",
      "Normocephalic and atraumatic.  -  52\n",
      "The chest is clear to auscultation.  -  53\n",
      "The heart has a regular rate and rhythm.  -  54\n",
      "The abdomen is soft.  -  55\n",
      "He has left lower quadrant tenderness.  -  56\n",
      "He also of note on cardiovascular examination has a soft murmur which he says he has had since childhood.  -  57\n"
     ]
    },
    {
     "name": "stderr",
     "output_type": "stream",
     "text": [
      "  6%|█████▏                                                                           | 64/999 [00:02<00:32, 28.79it/s]"
     ]
    },
    {
     "name": "stdout",
     "output_type": "stream",
     "text": [
      "The extremities are normal.  -  58\n",
      "The neurologic examination is nonfocal.  -  59\n",
      "THERAPY  -  60\n",
      "RENDEREDCOURSE  -  61\n",
      "IN ED  -  62\n",
      "This is a gentleman with abdominal pain who will receive a CAT scan to rule out diverticulitis.  -  63\n",
      "He has also had some nonspecific ST changes on his EKG.  -  64\n",
      "He is painfree at this time.  -  65\n"
     ]
    },
    {
     "name": "stderr",
     "output_type": "stream",
     "text": [
      "\r",
      "  7%|█████▌                                                                           | 68/999 [00:02<00:39, 23.28it/s]"
     ]
    },
    {
     "name": "stdout",
     "output_type": "stream",
     "text": [
      "He does not describe a classic exertional pattern for his chest pain but given that he is a diabetic and with EKG changes he will also be admitted for rule out MI.  -  66\n",
      "A CT is pending at the time of this dictation.  -  67\n",
      "DISPOSITION including condition upon discharge As above.  -  68\n",
      "The patients condition is currently stable.  -  69\n"
     ]
    },
    {
     "name": "stderr",
     "output_type": "stream",
     "text": [
      "  8%|██████                                                                           | 75/999 [00:03<00:36, 25.16it/s]"
     ]
    },
    {
     "name": "stdout",
     "output_type": "stream",
     "text": [
      "CK JAY CARROLL  -  70\n",
      "M.D. JC D T Dictated by JAY CARROLL  -  71\n",
      "M.D. JC Not reviewed by Attending Physician  -  72\n",
      "Record date September Vicente Blair M.D. Internal Medical Doctors Hospital North Omak Georgia RE  -  73\n",
      "VALDEZ Harlan DHN DATE OF BIRTH CURRENT CLINIC VISIT  -  74\n",
      "DATE Dear Vicente Thank you in advance for allowing me to share in the medical care of Mr. Harlan B. Valdez a yearold male patient with prior polysomnographic evidence of sleep disordered breathing as well as a history of difficulty in sleep reinitiation and maintenance and increased early morning awakenings as well as mixed systemic medical conditions.  -  75\n"
     ]
    },
    {
     "name": "stderr",
     "output_type": "stream",
     "text": [
      "\r",
      "  8%|██████▎                                                                          | 78/999 [00:03<01:04, 14.35it/s]"
     ]
    },
    {
     "name": "stdout",
     "output_type": "stream",
     "text": [
      "HISTORY OF PRESENT ILLNESS  -  76\n",
      "As you already know Mr. Valdez who demonstrates a history of difficulties of sleep reinitiation and maintenance as well as increased early morning awakenings has noted an exacerbation of these sleep difficulties occurring in temporal association with his loss of his wife from pancreatic cancer last year.  -  77\n",
      "He is now placed in the unfortunate situation of being a single parent to a yearold son and a yearold daughter and describes a modification of his current employment duties of a set designer.  -  78\n",
      "In particular Mr. Valdez describes undergoing on frequent international travelling which has bee markedly curtailed as he is tending to his family situation closer to home.  -  79\n"
     ]
    },
    {
     "name": "stderr",
     "output_type": "stream",
     "text": [
      "\r",
      "  8%|██████▌                                                                          | 81/999 [00:03<01:12, 12.66it/s]"
     ]
    },
    {
     "name": "stdout",
     "output_type": "stream",
     "text": [
      "He described a history of intermittent snoring symptomatology but is unaware of specific nocturnal respiratory pauses.  -  80\n",
      "He is unaware of a restless lower limb sensory complaints which may impact on his ability to initiate or reinitiate sleep.  -  81\n",
      "He denies a history of a night owl personality or circadian rhythm dysfunction which may have played a role with respect to nocturnal sleep disruptions or sleep difficulties.  -  82\n"
     ]
    },
    {
     "name": "stderr",
     "output_type": "stream",
     "text": [
      "\r",
      "  8%|██████▋                                                                          | 83/999 [00:03<01:17, 11.88it/s]"
     ]
    },
    {
     "name": "stdout",
     "output_type": "stream",
     "text": [
      "He denies a history of paroxysmal abnormal disturbances or associated narcoleptic symptoms.  -  83\n",
      "Mr. Valdez underwent an initial formal polysomnographic evaluation at the center for sleep diagnostics at Holy Cross on during which time he was noted to demonstrate a respiratory disturbance index of hour particularly exacerbated in the supine position and characterized predominantly by hypopneas with equal distribution during nonREM and stage REM sleep and with associated O desaturation Nadir of The respiratory disturbances were predominantly obstructive or mixed hypopneas.  -  84\n"
     ]
    },
    {
     "name": "stderr",
     "output_type": "stream",
     "text": [
      "  9%|███████▏                                                                         | 88/999 [00:04<01:19, 11.41it/s]"
     ]
    },
    {
     "name": "stdout",
     "output_type": "stream",
     "text": [
      "In addition loud snoring was noted.  -  85\n",
      "There was evidence of a sleep efficiency of and a short sleep onset latency of minutes.  -  86\n",
      "There was a predominance of light nonREM stages III sleep and a concomitant inability to achieve significant slowwave or stage REM sleep.  -  87\n",
      "There was also alpha intrusions and alpha delta sleep evident during the initial sleep study.  -  88\n"
     ]
    },
    {
     "name": "stderr",
     "output_type": "stream",
     "text": [
      "\r",
      "  9%|███████▍                                                                         | 91/999 [00:04<01:16, 11.87it/s]"
     ]
    },
    {
     "name": "stdout",
     "output_type": "stream",
     "text": [
      "In addition premature ventricular contractions were noted.  -  89\n",
      "The patient underwent a CPAP titration on also at the Tenacre Foundation Nursing Home in Boxborough during which time there was a marked reduction in the frequency of hypopneas respiratory disturbance index equals hour with CPAP titrations between cm.  -  90\n",
      "Sleep efficiency improved to a short sleep onset latency was also noted minutes.  -  91\n"
     ]
    },
    {
     "name": "stderr",
     "output_type": "stream",
     "text": [
      "\r",
      "  9%|███████▌                                                                         | 93/999 [00:04<01:10, 12.94it/s]"
     ]
    },
    {
     "name": "stdout",
     "output_type": "stream",
     "text": [
      "There was once again an increased predominance of light nonREM stage III sleep with concomitant inability to achieve sustained slow wave sleep.  -  92\n",
      "Since his initial trial of nocturnal CPAP titration at cm of water pressure and with various CPAP mask modifications including CPAP nasal face mask and a Mallinckrodt Breeze supportive head gear with nasal pillows.  -  93\n"
     ]
    },
    {
     "name": "stderr",
     "output_type": "stream",
     "text": [
      "\r",
      " 10%|███████▋                                                                         | 95/999 [00:05<01:21, 11.05it/s]"
     ]
    },
    {
     "name": "stdout",
     "output_type": "stream",
     "text": [
      "The patient describes associated claustrophobic symptomatology relative difficulties with sustained nocturnal home CPAP use and difficulties with regards to CPAP to being and complications by the bulkiness of the CPAP machine in general.  -  94\n",
      "As a result he has not utilized nocturnal CPAP therapy for a period of time although he still maintains the CPAP equipment in his house.  -  95\n",
      "Of particular note and exacerbation of the past year the patient demonstrates increased early morning awakenings averaging in number with typical awakenings occurring approximately two hours after sleep initiation at p.m. the patient describes one awakening at p.m. and the second awakening at a.m. of unclear causative etiology.  -  96\n"
     ]
    },
    {
     "name": "stderr",
     "output_type": "stream",
     "text": [
      " 10%|████████                                                                         | 99/999 [00:05<01:23, 10.80it/s]"
     ]
    },
    {
     "name": "stdout",
     "output_type": "stream",
     "text": [
      "The patient then might awaken at a.m. and be ready for the day.  -  97\n",
      "If he is able to reinitiate sleep thereafter the patient may demonstrate additional two early morning awakenings after a final awakening at a.m.  -  98\n",
      "The patient is noted to have a history of mixed systemic conditions including diabetes coronary artery disease depressive disorder as well as a relatively stable gastrointestinal condition with no upper GI evidence of gastroparesis.  -  99\n"
     ]
    },
    {
     "name": "stderr",
     "output_type": "stream",
     "text": [
      " 11%|████████▍                                                                       | 106/999 [00:05<00:59, 15.11it/s]"
     ]
    },
    {
     "name": "stdout",
     "output_type": "stream",
     "text": [
      "MEDICATIONS .  -  100\n",
      "Provigil mg p.o.  -  101\n",
      "q. a.m. PRN. .  -  102\n",
      "Lithium. .  -  103\n",
      "Valproate. .  -  104\n",
      "Glucophage mg t.i.d. .  -  105\n",
      "Humulin units at night. .  -  106\n",
      "Folate. .  -  107\n",
      "Metoprolol. .  -  108\n"
     ]
    },
    {
     "name": "stderr",
     "output_type": "stream",
     "text": [
      " 12%|█████████▏                                                                      | 115/999 [00:05<00:39, 22.15it/s]"
     ]
    },
    {
     "name": "stdout",
     "output_type": "stream",
     "text": [
      "Cardia. .  -  109\n",
      "Vitamin E. .  -  110\n",
      "Coated aspirin.  -  111\n",
      "ALLERGIESADVERSE REACTIONS  -  112\n",
      "The patient describes an enhancement to suicidal tendencies in association with prior Prozac usage.  -  113\n",
      "SOCIAL HISTORY  -  114\n",
      "The patient denies active tobacco or alcoholic beverage usage.  -  115\n",
      "He has lost pounds over the past several years.  -  116\n"
     ]
    },
    {
     "name": "stderr",
     "output_type": "stream",
     "text": [
      "\r",
      " 12%|█████████▌                                                                      | 119/999 [00:06<00:42, 20.67it/s]"
     ]
    },
    {
     "name": "stdout",
     "output_type": "stream",
     "text": [
      "His current weight is pounds.  -  117\n",
      "He is desirous of losing some additional weight with regards to more regular exercise but his hectic social situation makes this somewhat difficult at the present time.  -  118\n"
     ]
    },
    {
     "name": "stderr",
     "output_type": "stream",
     "text": [
      "\r",
      " 12%|█████████▊                                                                      | 122/999 [00:06<00:46, 18.71it/s]"
     ]
    },
    {
     "name": "stdout",
     "output_type": "stream",
     "text": [
      "On examination the patient demonstrates a blood pressure of seated left arm respiratory rate .  -  119\n",
      "HEENT EXAMINATION Borderline small posterior oropharyngeal aperture with slightly increased redundant tissue evident posteriorly and a slightly elongated uvula noted.  -  120\n",
      "The patient appears awake alert with speech clear and fluent and receptive language function essentially intact.  -  121\n"
     ]
    },
    {
     "name": "stderr",
     "output_type": "stream",
     "text": [
      "\r",
      " 13%|██████████                                                                      | 125/999 [00:06<00:42, 20.65it/s]"
     ]
    },
    {
     "name": "stdout",
     "output_type": "stream",
     "text": [
      "He is presently wearing dental braces.  -  122\n",
      "No obvious cranial nerve deficits are appreciated.  -  123\n",
      "No focal sensory motor or neurologic deficits are noted.  -  124\n",
      "No significant appendicular dystaxias or dysmetrias are currently in evidence.  -  125\n",
      "The routine gait appears to be normal based without evidence of significant gait dystaxias.  -  126\n"
     ]
    },
    {
     "name": "stderr",
     "output_type": "stream",
     "text": [
      "\r",
      " 13%|██████████▎                                                                     | 128/999 [00:06<00:41, 21.01it/s]"
     ]
    },
    {
     "name": "stdout",
     "output_type": "stream",
     "text": [
      "No current clinical ictal manifestations are present.  -  127\n",
      "No acute evidence of microsleeps are noted.  -  128\n",
      "IMPRESSION .  -  129\n",
      "Sleep stagearrousal dysfunction .  -  130\n",
      "Manifested by subjective complaints of nonrestorative sleep increased daytime fatigue and alternating hypersomnia and recurrent polysomnographic evidence of lightened sleep pattern with increased predominance of nonREM stages sleep and with the presence of alpha intrusions and alpha delta component to deeper sleep.  -  131\n"
     ]
    },
    {
     "name": "stderr",
     "output_type": "stream",
     "text": [
      "\r",
      " 13%|██████████▌                                                                     | 132/999 [00:06<00:43, 19.93it/s]"
     ]
    },
    {
     "name": "stdout",
     "output_type": "stream",
     "text": [
      "These latter EEG findings have been described in association with subjective complaints of nonrestorative sleep as well as clinical setting of chronic pain related complaints depressive or anxiety disorder or intercurrent psychotropics agents used but more usually associated with benzodiazepine or barbituate usage. .  -  132\n",
      "Sleep disordered breathing As evidenced during prior polysomnographic evaluations mostly of obstructive and or mixed hypopnea.  -  133\n"
     ]
    },
    {
     "name": "stderr",
     "output_type": "stream",
     "text": [
      "\r",
      " 14%|██████████▊                                                                     | 135/999 [00:07<00:58, 14.75it/s]"
     ]
    },
    {
     "name": "stdout",
     "output_type": "stream",
     "text": [
      "The patient appears largely refractory to a trial of CPAP therapy particularly in so far as he demonstrates associated claustrophobic symptoms in association with its usage despite relatively modest CPAP water pressures cm.  -  134\n",
      "In addition he has tried various nasal CPAP face mask including the Mallinckrodt Breeze supportive head gear with nasal pillows and with limited success.  -  135\n",
      "One might consider repeating a polysomnographic evaluation in the future and if so utilizing a potential trial of BIPAP titration which may help to improve claustrophobic symptoms but the patient will still be left with the issues referable to tangled tubing at night and issues referable to nasal face mask usage as noted above. .  -  136\n"
     ]
    },
    {
     "name": "stderr",
     "output_type": "stream",
     "text": [
      "\r",
      " 14%|██████████▉                                                                     | 137/999 [00:07<01:14, 11.52it/s]"
     ]
    },
    {
     "name": "stdout",
     "output_type": "stream",
     "text": [
      "Relative difficulties in sleep reinitiation and maintenance The patient describes at least early morning awakenings with difficulty in sleep reinitiation and maintenance thereby compounding his current sleep problem.  -  137\n",
      "While there would logically be a relationship between his current sleep exacerbations and the recent death of his wife from pancreatic cancer last year there may also be evidence of other nocturnal sleep disturbances for which a repeat polysomnographic evaluation i.e. in particular looking for the presence of increased spontaneous arousals or limb associated arousals or periodic limb movements of sleep may be of a special clinical benefit.  -  138\n"
     ]
    },
    {
     "name": "stderr",
     "output_type": "stream",
     "text": [
      " 14%|███████████▎                                                                    | 141/999 [00:07<01:31,  9.43it/s]"
     ]
    },
    {
     "name": "stdout",
     "output_type": "stream",
     "text": [
      "PLAN .  -  139\n",
      "In the short course in so far as the patient describes himself as being exceedingly tired and unable to perform the routine daily tasks of work and managing a family in the absence of his deceased wife I have suggested initiation of PRN Zolpidem tartrate therapy mg tablets utilizing one to two tablets p.o.  -  140\n",
      "q.  -  141\n"
     ]
    },
    {
     "name": "stderr",
     "output_type": "stream",
     "text": [
      "\r",
      " 14%|███████████▌                                                                    | 144/999 [00:08<01:17, 11.07it/s]"
     ]
    },
    {
     "name": "stdout",
     "output_type": "stream",
     "text": [
      "h.s. PRN for difficulties of sleep reinitiation and maintenance. .  -  142\n",
      "The patient is advised to take Zolpidem tartrate therapy no more than times per week in an effort to avoid any issues of physiologic dependency. .  -  143\n",
      "The patient was advised against potential adverse behavioral and or systemic side effects of Zolpidem tartrate therapy including hypersomnolence gastric upset loose stools diarrhea and or cardiac palpitations.  -  144\n"
     ]
    },
    {
     "name": "stderr",
     "output_type": "stream",
     "text": [
      "\r",
      " 15%|███████████▋                                                                    | 146/999 [00:08<01:26,  9.92it/s]"
     ]
    },
    {
     "name": "stdout",
     "output_type": "stream",
     "text": [
      "Pending his clinical response of his Zolpidem tartrate therapy I then might seek direct treatment for his sleep disordered breathing issues which may include a repeat sleep study with potential trial of BIPAP therapy in an effort to modify or attenuate claustrophobic symptoms.  -  145\n",
      "If he proves poorly responsive to trial of BIPAP therapy however I might consider supplemental O therapy at night and with this in mind a follow up sleep study should have associated endtidal CO monitoring as well. .  -  146\n"
     ]
    },
    {
     "name": "stderr",
     "output_type": "stream",
     "text": [
      "\r",
      " 15%|███████████▊                                                                    | 148/999 [00:08<01:28,  9.65it/s]"
     ]
    },
    {
     "name": "stdout",
     "output_type": "stream",
     "text": [
      "In the meantime the patient was advised to contact the sleep disorders clinic for any acute sleep related concerns in the interim. .  -  147\n",
      "The patient may also benefit from nonpharmacologic approaches with regards to sleep reinitiation such as hypnotherapy but I will hold off on these strategies pending follow up sleep disorders clinic evaluation in approximately four months time.  -  148\n",
      "Once again thank you again for allowing me to share in the medical care of Mr. Harlan Valdez.  -  "
     ]
    },
    {
     "name": "stderr",
     "output_type": "stream",
     "text": [
      "\r",
      " 15%|████████████                                                                    | 150/999 [00:08<01:27,  9.72it/s]"
     ]
    },
    {
     "name": "stdout",
     "output_type": "stream",
     "text": [
      "149\n",
      "I hope this letter finds you well.  -  150\n",
      "Sincerely yours  -  151\n",
      "Yovani Vergara M.D.  -  152\n",
      "Sleep Clinic Doctors Hospital North cc Sleep Clinic DHN DD DT TX  -  153\n"
     ]
    },
    {
     "name": "stderr",
     "output_type": "stream",
     "text": [
      " 16%|████████████▍                                                                   | 156/999 [00:09<01:15, 11.14it/s]"
     ]
    },
    {
     "name": "stdout",
     "output_type": "stream",
     "text": [
      "Record date CCU JAR Transfer Note Admission Date Transfer Patient Name Valdez Harlan MRN Cardiologist Dr. Nutter PCP Vicente Barker CC Chest Pain Cath VF arrest RCA stenting History of Present Illness obtained on admission Pt is a yo male with ho DMII hypercholesterolemia  -  154\n",
      "Bipolar do and depression who began to have substernal day prior to admission in car and presyncope profound weakness.  -  155\n"
     ]
    },
    {
     "name": "stderr",
     "output_type": "stream",
     "text": [
      "\r",
      " 16%|████████████▋                                                                   | 159/999 [00:09<01:05, 12.75it/s]"
     ]
    },
    {
     "name": "stdout",
     "output_type": "stream",
     "text": [
      "This CP was minimal but the weakness made him pull over.  -  156\n",
      "He had a repeat of these symptoms day of admission.  -  157\n",
      "His EKG cw showed flattened Twave in V and TWI in V and flattened Twaves in I aVL.  -  158\n",
      "His trop was negative but MB index was elevated.  -  159\n",
      "Due to Twave flattening history and elevated index it was decided to start on heparin and ASA and take to cath lab.  -  160\n"
     ]
    },
    {
     "name": "stderr",
     "output_type": "stream",
     "text": [
      " 16%|█████████████                                                                   | 163/999 [00:09<00:57, 14.63it/s]"
     ]
    },
    {
     "name": "stdout",
     "output_type": "stream",
     "text": [
      "Cath showed right dominant system with prox Cx LAD clear RCA prox lesion and ostial PDA .  -  161\n",
      "During final dye injection pt had VF arrest and shocks.  -  162\n",
      "Pt regained puls and was in AF new with RVR.  -  163\n",
      "Pt was started on amio.  -  164\n",
      "Pt then began to experience discomfort in the RVR and it was decided to intervene.  -  165\n"
     ]
    },
    {
     "name": "stderr",
     "output_type": "stream",
     "text": [
      " 17%|█████████████▍                                                                  | 168/999 [00:09<00:51, 16.04it/s]"
     ]
    },
    {
     "name": "stdout",
     "output_type": "stream",
     "text": [
      "POBA was done to ostial PDA.  -  166\n",
      "A first noeluting stent was placed in prox RCA and pt had dissection and thus cd stent was placed.  -  167\n",
      "On admission to CCU pt still in AF with RVR s.  -  168\n",
      "He was on amio drip BB loaded on plavix ASA lipitor integrilin and was placed on Avandia study.  -  169\n"
     ]
    },
    {
     "name": "stderr",
     "output_type": "stream",
     "text": [
      " 17%|█████████████▊                                                                  | 172/999 [00:09<00:52, 15.62it/s]"
     ]
    },
    {
     "name": "stdout",
     "output_type": "stream",
     "text": [
      "His complaint of some mild chest pain not same as anginal pain day before thought to be from defibrillation.  -  170\n",
      "Past Medical History DMII hyperchol bipolarHTN depression sp ECT Medications on admission ASA Lipitor lopressor bid folate  -  171\n",
      "norvasc qd lithium bid depakote bid sonata mg qhs doxylamine qhs mirtazapine qd Meds on Transfer please see green sheets Medications ASA Lipitor  -  172\n"
     ]
    },
    {
     "name": "stderr",
     "output_type": "stream",
     "text": [
      " 18%|██████████████                                                                  | 176/999 [00:10<00:50, 16.17it/s]"
     ]
    },
    {
     "name": "stdout",
     "output_type": "stream",
     "text": [
      "lopressor bid folate norvasc qd lithium bid depakote bid sonata mg qhs doxylamine qhs mirtazapine qd  -  173\n",
      "Allergies NKDA Family History family ho CAD Social History  -  174\n",
      "No EtOH no tob no illicits Review of Systems per HPI Allergies NKDA Family History family  -  175\n",
      "ho CAD Social History  -  176\n",
      "No EtOH no tob no illicits Review of Systems per HPI CCU course plan Cards a. Rhythm on night of admission patient was started on an esmolol drip as well as amio bloused and rhythm converted to NSR.  -  177\n"
     ]
    },
    {
     "name": "stderr",
     "output_type": "stream",
     "text": [
      " 18%|██████████████▍                                                                 | 180/999 [00:10<01:03, 12.91it/s]"
     ]
    },
    {
     "name": "stdout",
     "output_type": "stream",
     "text": [
      "Esmolol drip as well as amio was stopped and BB was escalated and patient has remained in NSR.  -  178\n",
      "i. Ramp up lopressor as tolerated by BP b. Pump patient has remained euvolemic and had a Echo with EF and aortic stenosis c. Ischemia was stented x to the prox RCA lesion and was on integrilin x hrs prior.  -  179\n"
     ]
    },
    {
     "name": "stderr",
     "output_type": "stream",
     "text": [
      "\r",
      " 18%|██████████████▋                                                                 | 183/999 [00:10<00:54, 14.94it/s]"
     ]
    },
    {
     "name": "stdout",
     "output_type": "stream",
     "text": [
      "He was started on plavix.  -  180\n",
      "i. Cont plavix lopressor lisinopril lipitor ASA Psych patient with long history of bipolar disorder depression.  -  181\n",
      "He was on depakote lithium and remeron as outpt.  -  182\n",
      "He was seen by psychiatry here.  -  183\n",
      "a.  -  184\n",
      "Continue depakote and lithium had subthereapeutic level that psych thought was likely due to noncompliance.  -  185\n"
     ]
    },
    {
     "name": "stderr",
     "output_type": "stream",
     "text": [
      " 19%|███████████████▏                                                                | 189/999 [00:10<00:43, 18.69it/s]"
     ]
    },
    {
     "name": "stdout",
     "output_type": "stream",
     "text": [
      "b.  -  186\n",
      "Continue remeron qhs c. Fu TSH DM Blood sugars were originally elevated as amio drip he was originally on for AF contained dextrose.  -  187\n",
      "He has remained on NPH with RISS.  -  188\n",
      "a. NPH RISS Prophy Fragmin nexium LABS PE see todays progress note EKG AFIB with RVR diffuse twave flattening Impression yo male with ho DMII hypercholesterolemia  -  189\n"
     ]
    },
    {
     "name": "stderr",
     "output_type": "stream",
     "text": [
      "\r",
      " 19%|███████████████▍                                                                | 192/999 [00:11<00:49, 16.31it/s]"
     ]
    },
    {
     "name": "stdout",
     "output_type": "stream",
     "text": [
      "Bipolar do and depression and CAD pw CP and presycope found to have RCA prox lesion and ostial PDA stents to RCA and POBA to PDA.  -  190\n",
      "Cath cb VF arrest after dye load and resultant afib with RVR.  -  191\n",
      "Plan  -  192\n",
      "As outlined in CCU course.  -  193\n",
      "Victor Shepard MD  -  194\n"
     ]
    },
    {
     "name": "stderr",
     "output_type": "stream",
     "text": [
      "\r",
      " 20%|███████████████▊                                                                | 197/999 [00:11<00:41, 19.52it/s]"
     ]
    },
    {
     "name": "stdout",
     "output_type": "stream",
     "text": [
      "Record date NEUROLOGY CMF ADMISSION NOTE  -  195\n",
      "Name VALDEZ Harlan DOB MR Date pm FOR DETAILS PLEASE SEE AALIYAH IRAHETAS  -  196\n",
      "NOTE  -  197\n",
      "IDCC yoRHM w PMH signif for CAD Afib DM Bipolar who presents w RLE weaknessdecreased sensation x hrs HPI yoRHM w PMH signif for CAD Afib DM Bipolar who was in USOH until d ago when had weakness in his L arm.  -  198\n"
     ]
    },
    {
     "name": "stderr",
     "output_type": "stream",
     "text": [
      "\r",
      " 20%|████████████████                                                                | 200/999 [00:11<00:43, 18.28it/s]"
     ]
    },
    {
     "name": "stdout",
     "output_type": "stream",
     "text": [
      "Thought this was sleeping on it.  -  199\n",
      "Involved whole arm from shoulder down.  -  200\n",
      "Was still doing his ADLs but felt like the arm was slightly weaker took days to get back to normal.  -  201\n",
      "Then was eating dinner w a friend got up to go to BR found he had RLE weaknessstiffness.  -  202\n"
     ]
    },
    {
     "name": "stderr",
     "output_type": "stream",
     "text": [
      " 21%|████████████████▍                                                               | 206/999 [00:11<00:41, 18.91it/s]"
     ]
    },
    {
     "name": "stdout",
     "output_type": "stream",
     "text": [
      "Noticed it was hard to climb stairs.  -  203\n",
      "Went to sleep woke up at am nearly fell weakness in his leg.  -  204\n",
      "In addition has sensory loss in RLE esp foot felt cold and dead.  -  205\n",
      "The sensory loss was worst distally but extended up to his thigh.  -  206\n",
      "Never had trouble speaking or understanding others did not have a facial droop no problems w his RUE.  -  207\n"
     ]
    },
    {
     "name": "stderr",
     "output_type": "stream",
     "text": [
      "\r",
      " 21%|████████████████▋                                                               | 209/999 [00:12<00:43, 18.33it/s]"
     ]
    },
    {
     "name": "stdout",
     "output_type": "stream",
     "text": [
      "Stayed in bed until am when he called his PCP who told him to come to ED.  -  208\n",
      "Of note in OctNov had cardiac cath x .  -  209\n",
      "Had NSTEMI on Oct taken to cardiac cath cath showed significant RCA disease and prox LCx  -  210\n",
      "cb Vfib needing defib stent placed for stenotic RCA lesion cb dissection needing nd stent placed.  -  211\n"
     ]
    },
    {
     "name": "stderr",
     "output_type": "stream",
     "text": [
      " 22%|█████████████████▏                                                              | 215/999 [00:12<00:41, 18.75it/s]"
     ]
    },
    {
     "name": "stdout",
     "output_type": "stream",
     "text": [
      "Post cath had Afib requiring amiodarone.  -  212\n",
      "Then had subsequent cath Nov after an episode of CP stents patent other vessels stable.  -  213\n",
      "After his inpt cardiac hospitalization was admitted to psych for wk for suicidalitydepression.  -  214\n",
      "Previously in spring had L eye visual disturbance nearly blind went to GHIC where was dxed w retinal venous occlusion treated w cortisone and laser surgery w mild improvement in vision now blurred in that eye.  -  215\n"
     ]
    },
    {
     "name": "stderr",
     "output_type": "stream",
     "text": [
      "\r",
      " 22%|█████████████████▍                                                              | 217/999 [00:12<00:49, 15.82it/s]"
     ]
    },
    {
     "name": "stdout",
     "output_type": "stream",
     "text": [
      "No HA no tinnitus no vertigo.  -  216\n",
      "No blurry vision except in L eye from venous occlusion no diplopia.  -  217\n",
      "No problems w speech.  -  218\n",
      "PMH DM insulin x years CAD sp NSTEMI as above Bipolar disorder on lithium and depakote has required inpt hospitalization and ECT in past Afib as above Hyperchol MEDS Insulin units bid Asa Plavix Lithium dose bid on prior note Norvasc dose on prior note Mirtazapine dose on prior note Naltrexone Nexium on prior note Lipitor on prior note Cozaar dose Depakote dose bid on prior note Lopressor po  -  219\n"
     ]
    },
    {
     "name": "stderr",
     "output_type": "stream",
     "text": [
      " 22%|█████████████████▊                                                              | 223/999 [00:12<00:50, 15.25it/s]"
     ]
    },
    {
     "name": "stdout",
     "output_type": "stream",
     "text": [
      "q per prior notes Folate ALL Lisinopril cough SH Tob occas cigar EtOH used to have EtOH problems IVDA  -  220\n",
      "Lives w yo son.  -  221\n",
      "Has yo daughter who lives w his sister.  -  222\n",
      "Widower x yrs.  -  223\n",
      "FH Mom w PM at age died of MI at .  -  224\n",
      "Father w EtOH HTN.  -  225\n"
     ]
    },
    {
     "name": "stderr",
     "output_type": "stream",
     "text": [
      " 23%|██████████████████▌                                                             | 232/999 [00:13<00:33, 22.59it/s]"
     ]
    },
    {
     "name": "stdout",
     "output_type": "stream",
     "text": [
      "Sister w miscarriages.  -  226\n",
      "VS on RA General WNWD NAD  -  227\n",
      "HEENT NCAT.  -  228\n",
      "No scleral icterus.  -  229\n",
      "MMM.  -  230\n",
      "OP benign.  -  231\n",
      "Neck Supple no carotid bruits.  -  232\n",
      "CV RRR S S. IIIIIVI sys murmur best at RUSB rad to clav and neck.  -  233\n"
     ]
    },
    {
     "name": "stderr",
     "output_type": "stream",
     "text": [
      " 24%|███████████████████▎                                                            | 241/999 [00:13<00:27, 27.47it/s]"
     ]
    },
    {
     "name": "stdout",
     "output_type": "stream",
     "text": [
      "second murmur at axilla systolic as well vs. Galiverdins sign.  -  234\n",
      "Resp CTAB.  -  235\n",
      "No rwr Abd BS.  -  236\n",
      "SoftNTND.  -  237\n",
      "Ext No CCE DP bilat.  -  238\n",
      "Skin  -  239\n",
      "No rashes intact.  -  240\n",
      "Neuro MS Conversationally intact.  -  241\n",
      "CN IIIII Pupils mm round reactive to light to mm visual field full to confrontation optic discs sharp IIIIVVIextraocular movements full wo nystagmus L eyelid is slightly weaker longstanding since L eye problem Vsensation to LT and pinprick intact bilaterally VIIfacial expression muscles symmetric without weakness IXXpalate elevates symmetrically XISCMs XIItongue protrudes midline Motor normal bulk and tone no tremor.  -  242\n"
     ]
    },
    {
     "name": "stderr",
     "output_type": "stream",
     "text": [
      "\r",
      " 25%|███████████████████▌                                                            | 245/999 [00:13<00:37, 19.93it/s]"
     ]
    },
    {
     "name": "stdout",
     "output_type": "stream",
     "text": [
      "No pronator drift.  -  243\n",
      "Delt ElF ElE WrE FE IO HpF KnE KnF Dors Plan EHL L R Sensory endorses a difference in sensation to LT and temp RLE vs. LLE.  -  244\n",
      "Zone of difference feels colder is most pronounced R lateral calf area not a particular dermatomal distribution also w toe position sense mildly decreased R great toe.  -  245\n"
     ]
    },
    {
     "name": "stderr",
     "output_type": "stream",
     "text": [
      " 25%|████████████████████▏                                                           | 252/999 [00:14<00:34, 21.76it/s]"
     ]
    },
    {
     "name": "stdout",
     "output_type": "stream",
     "text": [
      "Mild vibratory loss to ankles bilat symmetrical.  -  246\n",
      "Reflex Bic Tric Bra Hoff Pat Ank Toes L Neg  -  247\n",
      "Down R Neg Up Coord no dysmetria on fingernosefinger or heelkneeshin  -  248\n",
      "Gait favors L leg slightly when walking Romberg  -  249\n",
      "normal LABSSTUDIES Chemistry LytesRenalGlucose  -  250\n",
      "Sodium mmolL L Potassium . ..  -  251\n"
     ]
    },
    {
     "name": "stderr",
     "output_type": "stream",
     "text": [
      "\r",
      " 26%|████████████████████▌                                                           | 257/999 [00:14<00:30, 24.70it/s]"
     ]
    },
    {
     "name": "stdout",
     "output_type": "stream",
     "text": [
      "mmolL .H  -  252\n",
      "Chloride H  -  253\n",
      "mmolL H Carbon Dioxide . ..  -  254\n",
      "mmolL .L BUN mgdl Creatinine . ..  -  255\n",
      "mgdl Glucose H mgdl H General Chemistries Calcium . ..  -  256\n",
      "mgdl .L Phosphorus . ..  -  257\n",
      "mgdl .L  -  258\n",
      "Magnesium . ..  -  259\n",
      "meqL Lipid Tests Cholesterol mgdl H  -  260"
     ]
    },
    {
     "name": "stderr",
     "output_type": "stream",
     "text": [
      "\r",
      " 26%|████████████████████▉                                                           | 262/999 [00:14<00:27, 26.90it/s]"
     ]
    },
    {
     "name": "stdout",
     "output_type": "stream",
     "text": [
      "\n",
      "Triglycerides H mgdl H HDL Cholesterol L mgdl L LDL Cholesterol mgdl CholHDL Ratio .  -  261\n",
      "Chemistry Miscellaneous Calc Mean Bld...  -  262\n",
      "mg Chemistry Com... see detail Hemoglobin AC .H .. .H  -  263\n",
      "Hematology Complete Blood Count WBC .  -  264\n",
      ".. thcmm .H RBC .  -  265\n"
     ]
    },
    {
     "name": "stderr",
     "output_type": "stream",
     "text": [
      " 27%|█████████████████████▊                                                          | 272/999 [00:14<00:21, 33.38it/s]"
     ]
    },
    {
     "name": "stdout",
     "output_type": "stream",
     "text": [
      "..  -  266\n",
      "milcm .L  -  267\n",
      "Hgb . ..  -  268\n",
      "gmdl .L HCT .L ..  -  269\n",
      ".L  -  270\n",
      "MCV fl MCH . ..  -  271\n",
      "pgrbc MCHC . ..  -  272\n",
      "gdl PLT thcumm RDW . ..  -  273\n",
      "Other Hematology ESR mmhr Urinalysis Negative Therapeutic Drugs Therapeutic Drug Monitoring Lithium .L ..  -  274\n"
     ]
    },
    {
     "name": "stderr",
     "output_type": "stream",
     "text": [
      "\r",
      " 28%|██████████████████████                                                          | 276/999 [00:14<00:24, 29.57it/s]"
     ]
    },
    {
     "name": "stdout",
     "output_type": "stream",
     "text": [
      "mmolL .L MRI brain Acutesubacute infarcts DWI brightADC darkFLAIR bright in L cerebellum punctate and R precentral gyrus small elliptical area.  -  275\n",
      "CTA headneck has aberrant origin of R vert from CCA both ACAs come off of L carotid also w bilateral fetal PCAs and likely congenitally small vertebrobasilar vessels.  -  276\n",
      "No significant focal stenoses or atheromatous calcifications.  -  277\n",
      "EKG pending MRI LS spine negative IMPRESSION yoRHM w PMH signif for CAD DM Bipolar disorder afib sp recent cardiac cath who presents w LUE weakness d prior to admission resolving after days and RLE weaknesssensory deficit Imaging reveals R precentral gyrus small infarct L cerebellar infarct no significant vessel stenoses.  -  278\n"
     ]
    },
    {
     "name": "stderr",
     "output_type": "stream",
     "text": [
      " 28%|██████████████████████▋                                                         | 283/999 [00:15<00:35, 20.43it/s]"
     ]
    },
    {
     "name": "stdout",
     "output_type": "stream",
     "text": [
      "Neuro exam w brisker reflexes on R equivocal RLE weakness R sensory sx R upgoing toe.  -  279\n",
      "Clinical picture and imaging are not consistent.  -  280\n",
      "Unclear if pt is a poor historian and current sx are nonobjective sensory findings and meaningful event was LUE weakness  -  281\n",
      "d ago.  -  282\n"
     ]
    },
    {
     "name": "stderr",
     "output_type": "stream",
     "text": [
      "\r",
      " 29%|██████████████████████▉                                                         | 286/999 [00:15<00:37, 19.14it/s]"
     ]
    },
    {
     "name": "stdout",
     "output_type": "stream",
     "text": [
      "NEURO stroke wu including TTEHolter lipidslipoproteinhomocysteine.  -  283\n",
      "Will also send hypercoag wu including hypercoag panel PT Factor V Leiden APLA lupus anticoagulant given hx of retinal venous thrombus and young age.  -  284\n",
      "Will also send BCx given recent cardiac cath although ESR wnl reassuring re of endocarditis.  -  285\n"
     ]
    },
    {
     "name": "stderr",
     "output_type": "stream",
     "text": [
      " 29%|███████████████████████▍                                                        | 292/999 [00:15<00:31, 22.29it/s]"
     ]
    },
    {
     "name": "stdout",
     "output_type": "stream",
     "text": [
      "Will check Ac re of adequate DM control.  -  286\n",
      "Given psych hx will check tox screen and LFTs.  -  287\n",
      "Unclear if afib was only in context of postcath post Vfib.  -  288\n",
      "Will look for LAE holter abnl.  -  289\n",
      "Could make a case to anticoagulate regardless as has had documented afib.  -  290\n",
      "CV hold antihtn meds now.  -  291\n"
     ]
    },
    {
     "name": "stderr",
     "output_type": "stream",
     "text": [
      "\r",
      " 30%|███████████████████████▋                                                        | 296/999 [00:15<00:28, 24.47it/s]"
     ]
    },
    {
     "name": "stdout",
     "output_type": "stream",
     "text": [
      "Continue lipitor at outpt dose.  -  292\n",
      "Allow SBP up to .  -  293\n",
      "PSYCH continue w depakote and lithium.  -  294\n",
      "Mood is ok now but will need to be monitored.  -  295\n",
      "FEN no IVF ada low chollow fat diet.  -  296\n",
      "ENDO NPH bid for now titrate up as needed RISS.  -  297\n"
     ]
    },
    {
     "name": "stderr",
     "output_type": "stream",
     "text": [
      " 30%|████████████████████████▎                                                       | 303/999 [00:16<00:27, 25.47it/s]"
     ]
    },
    {
     "name": "stdout",
     "output_type": "stream",
     "text": [
      "Checking Ac.  -  298\n",
      "PPX put on sc fragmin nexium.  -  299\n",
      "Pneumoboots.  -  300\n",
      "Anna V. WendyBird MD HPC Neuro Resident Case discussed w Vern Snow senior resident.  -  301\n",
      "Record date Campbell Orthopedic Associates Madera Circle Omak GA Habib Valenzuela M.D. Valdez Harlan Jr.  -  302\n",
      "February Har is a year old pound gentleman who is referred for consultation by Dr. Harlan Oneil.  -  303\n"
     ]
    },
    {
     "name": "stderr",
     "output_type": "stream",
     "text": [
      "\r",
      " 31%|████████████████████████▌                                                       | 306/999 [00:16<00:32, 21.06it/s]"
     ]
    },
    {
     "name": "stdout",
     "output_type": "stream",
     "text": [
      "About a week ago he slipped on the driveway at home and sustained an injury to his left ankle.  -  304\n",
      "He was seen at TriCity Hospital and was told he had a fracture.  -  305\n",
      "He was placed in an air splint and advised to be partial weight bearing and he is using a cane.  -  306\n",
      "He is here for routine followup.  -  307\n"
     ]
    },
    {
     "name": "stderr",
     "output_type": "stream",
     "text": [
      " 31%|████████████████████████▉                                                       | 312/999 [00:16<00:31, 21.49it/s]"
     ]
    },
    {
     "name": "stdout",
     "output_type": "stream",
     "text": [
      "Past medical history is notable for no ankle injuries previously.  -  308\n",
      "He has a history of diabetes and sleep apnea.  -  309\n",
      "He takes Prozac Cardizem Glucophage and Amaryl.  -  310\n",
      "He is also followed by Dr. Harold Nutter for an arrhythmia.  -  311\n",
      "He does not smoke.  -  312\n",
      "He drinks minimally.  -  313\n"
     ]
    },
    {
     "name": "stderr",
     "output_type": "stream",
     "text": [
      "\r",
      " 32%|█████████████████████████▎                                                      | 316/999 [00:16<00:31, 21.94it/s]"
     ]
    },
    {
     "name": "stdout",
     "output_type": "stream",
     "text": [
      "He is a set designer at Columbia Pictures.  -  314\n",
      "On examination today he has slight tenderness of the left ankle about four fingerbreadths above the malleolus.  -  315\n",
      "The malleolus is nontender medially or laterally with no ligamentous tenderness either.  -  316\n"
     ]
    },
    {
     "name": "stderr",
     "output_type": "stream",
     "text": [
      " 32%|█████████████████████████▊                                                      | 322/999 [00:16<00:28, 23.94it/s]"
     ]
    },
    {
     "name": "stdout",
     "output_type": "stream",
     "text": [
      "Dorsal flexion and plantar flexion is without pain.  -  317\n",
      "There is no significant swelling.  -  318\n",
      "There are no some skin changes with some small abrasions proximally.  -  319\n",
      "There is no fibular tenderness proximally.  -  320\n",
      "No anterior pain is noted.  -  321\n"
     ]
    },
    {
     "name": "stderr",
     "output_type": "stream",
     "text": [
      "\r",
      " 33%|██████████████████████████                                                      | 325/999 [00:17<00:28, 24.03it/s]"
     ]
    },
    {
     "name": "stdout",
     "output_type": "stream",
     "text": [
      "No hindfoot midfoot or forefoot tenderness is noted.  -  322\n",
      "I would like him to use a tube sock with his air cast.  -  323\n",
      "He is using a cane for ambulation.  -  324\n",
      "His xrays do not show a notable fracture pattern today and we will await the Radiology opinion.  -  325\n",
      "I would like him to stay in the air splint with the sock.  -  326\n"
     ]
    },
    {
     "name": "stderr",
     "output_type": "stream",
     "text": [
      "\r",
      " 33%|██████████████████████████▎                                                     | 328/999 [00:17<00:31, 21.43it/s]"
     ]
    },
    {
     "name": "stdout",
     "output_type": "stream",
     "text": [
      "I will see him back in six weeks for review at the Boxborough office.  -  327\n",
      "Diagnosis Left ankle fracture.  -  328\n",
      "Habib Valenzuela M.D.  -  329\n",
      "HVkuntz Mmedical cc Harlan Oneil M.D.  -  330\n",
      "Harold Nutter M.D. Doctors Hospital North Bruce St Omak GA Habib Valenzuela M.D. DD DT DV Not reviewed by Attending Physician  -  331\n"
     ]
    },
    {
     "name": "stderr",
     "output_type": "stream",
     "text": [
      " 34%|██████████████████████████▉                                                     | 336/999 [00:17<00:27, 23.88it/s]"
     ]
    },
    {
     "name": "stdout",
     "output_type": "stream",
     "text": [
      "Record date CAMPBELL EMERGENCY DEPT VISIT VALDEZHARLANJR.  -  332\n",
      "VISIT DATE  -  333\n",
      "The patient was seen and examined in the emergency department.  -  334\n",
      "The patient was seen by the Emergency Medicine resident.  -  335\n",
      "I have discussed the management with the resident.  -  336\n",
      "I have also seen the patient primarily and reviewed the medical record.  -  337\n"
     ]
    },
    {
     "name": "stderr",
     "output_type": "stream",
     "text": [
      "\r",
      " 34%|███████████████████████████▏                                                    | 339/999 [00:17<00:27, 23.65it/s]"
     ]
    },
    {
     "name": "stdout",
     "output_type": "stream",
     "text": [
      "This is a brief addendum to the medical record.  -  338\n",
      "HISTORY OF PRESENTING COMPLAINT  -  339\n",
      "Briefly this is a yearold male who complains of several days of nausea vomiting and left lower quadrant discomfort.  -  340\n",
      "He also describes intermittent chest pain which he has had for a number of months without significant change.  -  341\n"
     ]
    },
    {
     "name": "stderr",
     "output_type": "stream",
     "text": [
      " 35%|███████████████████████████▋                                                    | 345/999 [00:17<00:33, 19.79it/s]"
     ]
    },
    {
     "name": "stdout",
     "output_type": "stream",
     "text": [
      "He was sent in from his primary care doctor today with this pain and was also noted to have some EKG changes.  -  342\n",
      "The patient has no chest pain at the time of evaluation in the emergency department and no shortness of breath.  -  343\n",
      "REVIEW OF SYSTEMS  -  344\n"
     ]
    },
    {
     "name": "stderr",
     "output_type": "stream",
     "text": [
      " 35%|████████████████████████████▏                                                   | 352/999 [00:18<00:26, 24.49it/s]"
     ]
    },
    {
     "name": "stdout",
     "output_type": "stream",
     "text": [
      "As indicated and otherwise negative.  -  345\n",
      "PAST MEDICAL HISTORY  -  346\n",
      "As indicated in the chart.  -  347\n",
      "SOCIAL HISTORY AND FAMILY HISTORY  -  348\n",
      "As indicated in the chart.  -  349\n",
      "PHYSICAL EXAMINATION  -  350\n",
      "On physical examination the patient is very wellappearing a smiling very pleasant gentleman in no acute distress.  -  351\n"
     ]
    },
    {
     "name": "stderr",
     "output_type": "stream",
     "text": [
      "\r",
      " 36%|████████████████████████████▌                                                   | 356/999 [00:18<00:23, 27.11it/s]"
     ]
    },
    {
     "name": "stdout",
     "output_type": "stream",
     "text": [
      "The blood pressure is the pulse and the temperature .  -  352\n",
      "degrees.  -  353\n",
      "Normocephalic and atraumatic.  -  354\n",
      "The chest is clear to auscultation.  -  355\n",
      "The heart has a regular rate and rhythm.  -  356\n",
      "The abdomen is soft.  -  357\n",
      "He has left lower quadrant tenderness.  -  358\n"
     ]
    },
    {
     "name": "stderr",
     "output_type": "stream",
     "text": [
      "\r",
      " 36%|████████████████████████████▊                                                   | 360/999 [00:18<00:24, 25.58it/s]"
     ]
    },
    {
     "name": "stdout",
     "output_type": "stream",
     "text": [
      "He also of note on cardiovascular examination has a soft murmur which he says he has had since childhood.  -  359\n",
      "The extremities are normal.  -  360\n",
      "The neurologic examination is nonfocal.  -  361\n",
      "THERAPY  -  362\n",
      "RENDEREDCOURSE  -  363\n",
      "IN ED  -  364\n",
      "This is a gentleman with abdominal pain who will receive a CAT scan to rule out diverticulitis.  -  365\n"
     ]
    },
    {
     "name": "stderr",
     "output_type": "stream",
     "text": [
      "\r",
      " 37%|█████████████████████████████▎                                                  | 366/999 [00:18<00:22, 28.57it/s]"
     ]
    },
    {
     "name": "stdout",
     "output_type": "stream",
     "text": [
      "He has also had some nonspecific ST changes on his EKG.  -  366\n",
      "He is painfree at this time.  -  367\n",
      "He does not describe a classic exertional pattern for his chest pain but given that he is a diabetic and with EKG changes he will also be admitted for rule out MI.  -  368\n",
      "A CT is pending at the time of this dictation.  -  369\n"
     ]
    },
    {
     "name": "stderr",
     "output_type": "stream",
     "text": [
      " 37%|█████████████████████████████▉                                                  | 374/999 [00:18<00:23, 26.43it/s]"
     ]
    },
    {
     "name": "stdout",
     "output_type": "stream",
     "text": [
      "DISPOSITION including condition upon discharge As above.  -  370\n",
      "The patients condition is currently stable.  -  371\n",
      "CK JAY CARROLL  -  372\n",
      "M.D. JC D T Dictated by JAY CARROLL  -  373\n",
      "M.D. JC Not reviewed by Attending Physician  -  374\n",
      "Record date September Vicente Blair M.D. Internal Medical Doctors Hospital North Omak Georgia RE  -  375\n"
     ]
    },
    {
     "name": "stderr",
     "output_type": "stream",
     "text": [
      "\r",
      " 38%|██████████████████████████████▏                                                 | 377/999 [00:19<00:24, 25.34it/s]"
     ]
    },
    {
     "name": "stdout",
     "output_type": "stream",
     "text": [
      "VALDEZ Harlan DHN DATE OF BIRTH CURRENT CLINIC VISIT  -  376\n",
      "DATE Dear Vicente Thank you in advance for allowing me to share in the medical care of Mr. Harlan B. Valdez a yearold male patient with prior polysomnographic evidence of sleep disordered breathing as well as a history of difficulty in sleep reinitiation and maintenance and increased early morning awakenings as well as mixed systemic medical conditions.  -  377\n"
     ]
    },
    {
     "name": "stderr",
     "output_type": "stream",
     "text": [
      "\r",
      " 38%|██████████████████████████████▍                                                 | 380/999 [00:19<00:40, 15.34it/s]"
     ]
    },
    {
     "name": "stdout",
     "output_type": "stream",
     "text": [
      "HISTORY OF PRESENT ILLNESS  -  378\n",
      "As you already know Mr. Valdez who demonstrates a history of difficulties of sleep reinitiation and maintenance as well as increased early morning awakenings has noted an exacerbation of these sleep difficulties occurring in temporal association with his loss of his wife from pancreatic cancer last year.  -  379\n",
      "He is now placed in the unfortunate situation of being a single parent to a yearold son and a yearold daughter and describes a modification of his current employment duties of a set designer.  -  380\n"
     ]
    },
    {
     "name": "stderr",
     "output_type": "stream",
     "text": [
      "\r",
      " 38%|██████████████████████████████▋                                                 | 383/999 [00:19<00:45, 13.68it/s]"
     ]
    },
    {
     "name": "stdout",
     "output_type": "stream",
     "text": [
      "In particular Mr. Valdez describes undergoing on frequent international travelling which has bee markedly curtailed as he is tending to his family situation closer to home.  -  381\n",
      "He described a history of intermittent snoring symptomatology but is unaware of specific nocturnal respiratory pauses.  -  382\n",
      "He is unaware of a restless lower limb sensory complaints which may impact on his ability to initiate or reinitiate sleep.  -  383\n"
     ]
    },
    {
     "name": "stderr",
     "output_type": "stream",
     "text": [
      "\r",
      " 39%|██████████████████████████████▊                                                 | 385/999 [00:19<00:48, 12.75it/s]"
     ]
    },
    {
     "name": "stdout",
     "output_type": "stream",
     "text": [
      "He denies a history of a night owl personality or circadian rhythm dysfunction which may have played a role with respect to nocturnal sleep disruptions or sleep difficulties.  -  384\n",
      "He denies a history of paroxysmal abnormal disturbances or associated narcoleptic symptoms.  -  385\n",
      "Mr. Valdez underwent an initial formal polysomnographic evaluation at the center for sleep diagnostics at Holy Cross on during which time he was noted to demonstrate a respiratory disturbance index of hour particularly exacerbated in the supine position and characterized predominantly by hypopneas with equal distribution during nonREM and stage REM sleep and with associated O desaturation Nadir of The respiratory disturbances were predominantly obstructive or mixed hypopneas.  -  386\n"
     ]
    },
    {
     "name": "stderr",
     "output_type": "stream",
     "text": [
      " 39%|███████████████████████████████▏                                                | 390/999 [00:20<00:53, 11.42it/s]"
     ]
    },
    {
     "name": "stdout",
     "output_type": "stream",
     "text": [
      "In addition loud snoring was noted.  -  387\n",
      "There was evidence of a sleep efficiency of and a short sleep onset latency of minutes.  -  388\n",
      "There was a predominance of light nonREM stages III sleep and a concomitant inability to achieve significant slowwave or stage REM sleep.  -  389\n"
     ]
    },
    {
     "name": "stderr",
     "output_type": "stream",
     "text": [
      "\r",
      " 39%|███████████████████████████████▍                                                | 392/999 [00:20<00:46, 12.94it/s]"
     ]
    },
    {
     "name": "stdout",
     "output_type": "stream",
     "text": [
      "There was also alpha intrusions and alpha delta sleep evident during the initial sleep study.  -  390\n",
      "In addition premature ventricular contractions were noted.  -  391\n",
      "The patient underwent a CPAP titration on also at the Tenacre Foundation Nursing Home in Boxborough during which time there was a marked reduction in the frequency of hypopneas respiratory disturbance index equals hour with CPAP titrations between cm.  -  392\n"
     ]
    },
    {
     "name": "stderr",
     "output_type": "stream",
     "text": [
      "\r",
      " 39%|███████████████████████████████▌                                                | 394/999 [00:20<00:51, 11.86it/s]"
     ]
    },
    {
     "name": "stdout",
     "output_type": "stream",
     "text": [
      "Sleep efficiency improved to a short sleep onset latency was also noted minutes.  -  393\n",
      "There was once again an increased predominance of light nonREM stage III sleep with concomitant inability to achieve sustained slow wave sleep.  -  394\n",
      "Since his initial trial of nocturnal CPAP titration at cm of water pressure and with various CPAP mask modifications including CPAP nasal face mask and a Mallinckrodt Breeze supportive head gear with nasal pillows.  -  395\n"
     ]
    },
    {
     "name": "stderr",
     "output_type": "stream",
     "text": [
      "\r",
      " 40%|███████████████████████████████▋                                                | 396/999 [00:20<00:53, 11.25it/s]"
     ]
    },
    {
     "name": "stdout",
     "output_type": "stream",
     "text": [
      "The patient describes associated claustrophobic symptomatology relative difficulties with sustained nocturnal home CPAP use and difficulties with regards to CPAP to being and complications by the bulkiness of the CPAP machine in general.  -  396\n",
      "As a result he has not utilized nocturnal CPAP therapy for a period of time although he still maintains the CPAP equipment in his house.  -  397\n"
     ]
    },
    {
     "name": "stderr",
     "output_type": "stream",
     "text": [
      "\r",
      " 40%|███████████████████████████████▊                                                | 398/999 [00:21<00:57, 10.53it/s]"
     ]
    },
    {
     "name": "stdout",
     "output_type": "stream",
     "text": [
      "Of particular note and exacerbation of the past year the patient demonstrates increased early morning awakenings averaging in number with typical awakenings occurring approximately two hours after sleep initiation at p.m. the patient describes one awakening at p.m. and the second awakening at a.m. of unclear causative etiology.  -  398\n",
      "The patient then might awaken at a.m. and be ready for the day.  -  399\n"
     ]
    },
    {
     "name": "stderr",
     "output_type": "stream",
     "text": [
      "\r",
      " 40%|████████████████████████████████                                                | 400/999 [00:21<01:00,  9.87it/s]"
     ]
    },
    {
     "name": "stdout",
     "output_type": "stream",
     "text": [
      "If he is able to reinitiate sleep thereafter the patient may demonstrate additional two early morning awakenings after a final awakening at a.m.  -  400\n",
      "The patient is noted to have a history of mixed systemic conditions including diabetes coronary artery disease depressive disorder as well as a relatively stable gastrointestinal condition with no upper GI evidence of gastroparesis.  -  401\n"
     ]
    },
    {
     "name": "stderr",
     "output_type": "stream",
     "text": [
      " 41%|████████████████████████████████▌                                               | 407/999 [00:21<00:46, 12.67it/s]"
     ]
    },
    {
     "name": "stdout",
     "output_type": "stream",
     "text": [
      "MEDICATIONS .  -  402\n",
      "Provigil mg p.o.  -  403\n",
      "q. a.m. PRN. .  -  404\n",
      "Lithium. .  -  405\n",
      "Valproate. .  -  406\n",
      "Glucophage mg t.i.d. .  -  407\n",
      "Humulin units at night. .  -  408\n",
      "Folate. .  -  409\n",
      "Metoprolol. .  -  410\n"
     ]
    },
    {
     "name": "stderr",
     "output_type": "stream",
     "text": [
      " 42%|█████████████████████████████████▎                                              | 416/999 [00:21<00:30, 19.17it/s]"
     ]
    },
    {
     "name": "stdout",
     "output_type": "stream",
     "text": [
      "Cardia. .  -  411\n",
      "Vitamin E. .  -  412\n",
      "Coated aspirin.  -  413\n",
      "ALLERGIESADVERSE REACTIONS  -  414\n",
      "The patient describes an enhancement to suicidal tendencies in association with prior Prozac usage.  -  415\n",
      "SOCIAL HISTORY  -  416\n",
      "The patient denies active tobacco or alcoholic beverage usage.  -  417\n",
      "He has lost pounds over the past several years.  -  418\n"
     ]
    },
    {
     "name": "stderr",
     "output_type": "stream",
     "text": [
      "\r",
      " 42%|█████████████████████████████████▋                                              | 420/999 [00:22<00:26, 21.73it/s]"
     ]
    },
    {
     "name": "stdout",
     "output_type": "stream",
     "text": [
      "His current weight is pounds.  -  419\n",
      "He is desirous of losing some additional weight with regards to more regular exercise but his hectic social situation makes this somewhat difficult at the present time.  -  420\n",
      "On examination the patient demonstrates a blood pressure of seated left arm respiratory rate .  -  421\n",
      "HEENT EXAMINATION Borderline small posterior oropharyngeal aperture with slightly increased redundant tissue evident posteriorly and a slightly elongated uvula noted.  -  422\n"
     ]
    },
    {
     "name": "stderr",
     "output_type": "stream",
     "text": [
      " 43%|██████████████████████████████████▏                                             | 427/999 [00:22<00:28, 19.72it/s]"
     ]
    },
    {
     "name": "stdout",
     "output_type": "stream",
     "text": [
      "The patient appears awake alert with speech clear and fluent and receptive language function essentially intact.  -  423\n",
      "He is presently wearing dental braces.  -  424\n",
      "No obvious cranial nerve deficits are appreciated.  -  425\n",
      "No focal sensory motor or neurologic deficits are noted.  -  426\n"
     ]
    },
    {
     "name": "stderr",
     "output_type": "stream",
     "text": [
      "\r",
      " 43%|██████████████████████████████████▍                                             | 430/999 [00:22<00:28, 20.15it/s]"
     ]
    },
    {
     "name": "stdout",
     "output_type": "stream",
     "text": [
      "No significant appendicular dystaxias or dysmetrias are currently in evidence.  -  427\n",
      "The routine gait appears to be normal based without evidence of significant gait dystaxias.  -  428\n",
      "No current clinical ictal manifestations are present.  -  429\n",
      "No acute evidence of microsleeps are noted.  -  430\n",
      "IMPRESSION .  -  431\n",
      "Sleep stagearrousal dysfunction .  -  432"
     ]
    },
    {
     "name": "stderr",
     "output_type": "stream",
     "text": [
      "\r",
      " 43%|██████████████████████████████████▊                                             | 434/999 [00:22<00:29, 19.38it/s]"
     ]
    },
    {
     "name": "stdout",
     "output_type": "stream",
     "text": [
      "\n",
      "Manifested by subjective complaints of nonrestorative sleep increased daytime fatigue and alternating hypersomnia and recurrent polysomnographic evidence of lightened sleep pattern with increased predominance of nonREM stages sleep and with the presence of alpha intrusions and alpha delta component to deeper sleep.  -  433\n",
      "These latter EEG findings have been described in association with subjective complaints of nonrestorative sleep as well as clinical setting of chronic pain related complaints depressive or anxiety disorder or intercurrent psychotropics agents used but more usually associated with benzodiazepine or barbituate usage. .  -  434\n"
     ]
    },
    {
     "name": "stderr",
     "output_type": "stream",
     "text": [
      "\r",
      " 44%|██████████████████████████████████▉                                             | 437/999 [00:23<00:38, 14.46it/s]"
     ]
    },
    {
     "name": "stdout",
     "output_type": "stream",
     "text": [
      "Sleep disordered breathing As evidenced during prior polysomnographic evaluations mostly of obstructive and or mixed hypopnea.  -  435\n",
      "The patient appears largely refractory to a trial of CPAP therapy particularly in so far as he demonstrates associated claustrophobic symptoms in association with its usage despite relatively modest CPAP water pressures cm.  -  436\n"
     ]
    },
    {
     "name": "stderr",
     "output_type": "stream",
     "text": [
      "\r",
      " 44%|███████████████████████████████████▏                                            | 439/999 [00:23<00:50, 11.13it/s]"
     ]
    },
    {
     "name": "stdout",
     "output_type": "stream",
     "text": [
      "In addition he has tried various nasal CPAP face mask including the Mallinckrodt Breeze supportive head gear with nasal pillows and with limited success.  -  437\n",
      "One might consider repeating a polysomnographic evaluation in the future and if so utilizing a potential trial of BIPAP titration which may help to improve claustrophobic symptoms but the patient will still be left with the issues referable to tangled tubing at night and issues referable to nasal face mask usage as noted above. .  -  438\n",
      "Relative difficulties in sleep reinitiation and maintenance The patient describes at least early morning awakenings with difficulty in sleep reinitiation and maintenance thereby compounding his current sleep problem.  -  439\n",
      "While there would logically be a relationship between his current sleep exacerbations and the recent death of his wife from pancreatic cancer last year there may also be evidence of other nocturnal sleep disturbances for which a repeat polysomnographic evaluation i.e. in particular looking for the presence of increased spontaneous arousals or limb associated arousals or periodic limb movements of sleep may be of a special clinical benefit.  -  440\n"
     ]
    },
    {
     "name": "stderr",
     "output_type": "stream",
     "text": [
      " 44%|███████████████████████████████████▍                                            | 443/999 [00:23<01:00,  9.26it/s]"
     ]
    },
    {
     "name": "stdout",
     "output_type": "stream",
     "text": [
      "PLAN .  -  441\n",
      "In the short course in so far as the patient describes himself as being exceedingly tired and unable to perform the routine daily tasks of work and managing a family in the absence of his deceased wife I have suggested initiation of PRN Zolpidem tartrate therapy mg tablets utilizing one to two tablets p.o.  -  442\n"
     ]
    },
    {
     "name": "stderr",
     "output_type": "stream",
     "text": [
      "\r",
      " 45%|███████████████████████████████████▋                                            | 446/999 [00:24<00:50, 10.99it/s]"
     ]
    },
    {
     "name": "stdout",
     "output_type": "stream",
     "text": [
      "q.  -  443\n",
      "h.s. PRN for difficulties of sleep reinitiation and maintenance. .  -  444\n",
      "The patient is advised to take Zolpidem tartrate therapy no more than times per week in an effort to avoid any issues of physiologic dependency. .  -  445\n",
      "The patient was advised against potential adverse behavioral and or systemic side effects of Zolpidem tartrate therapy including hypersomnolence gastric upset loose stools diarrhea and or cardiac palpitations.  -  446\n"
     ]
    },
    {
     "name": "stderr",
     "output_type": "stream",
     "text": [
      "\r",
      " 45%|███████████████████████████████████▉                                            | 448/999 [00:24<00:55,  9.95it/s]"
     ]
    },
    {
     "name": "stdout",
     "output_type": "stream",
     "text": [
      "Pending his clinical response of his Zolpidem tartrate therapy I then might seek direct treatment for his sleep disordered breathing issues which may include a repeat sleep study with potential trial of BIPAP therapy in an effort to modify or attenuate claustrophobic symptoms.  -  447\n",
      "If he proves poorly responsive to trial of BIPAP therapy however I might consider supplemental O therapy at night and with this in mind a follow up sleep study should have associated endtidal CO monitoring as well. .  -  448\n"
     ]
    },
    {
     "name": "stderr",
     "output_type": "stream",
     "text": [
      "\r",
      " 45%|████████████████████████████████████                                            | 450/999 [00:24<00:57,  9.57it/s]"
     ]
    },
    {
     "name": "stdout",
     "output_type": "stream",
     "text": [
      "In the meantime the patient was advised to contact the sleep disorders clinic for any acute sleep related concerns in the interim. .  -  449\n",
      "The patient may also benefit from nonpharmacologic approaches with regards to sleep reinitiation such as hypnotherapy but I will hold off on these strategies pending follow up sleep disorders clinic evaluation in approximately four months time.  -  450\n"
     ]
    },
    {
     "name": "stderr",
     "output_type": "stream",
     "text": [
      "\r",
      " 45%|████████████████████████████████████▏                                           | 452/999 [00:24<00:55,  9.79it/s]"
     ]
    },
    {
     "name": "stdout",
     "output_type": "stream",
     "text": [
      "Once again thank you again for allowing me to share in the medical care of Mr. Harlan Valdez.  -  451\n",
      "I hope this letter finds you well.  -  452\n",
      "Sincerely yours  -  453\n",
      "Yovani Vergara M.D.  -  454\n",
      "Sleep Clinic Doctors Hospital North cc Sleep Clinic DHN DD DT TX  -  455\n"
     ]
    },
    {
     "name": "stderr",
     "output_type": "stream",
     "text": [
      "\r",
      " 46%|████████████████████████████████████▌                                           | 456/999 [00:24<00:44, 12.12it/s]"
     ]
    },
    {
     "name": "stdout",
     "output_type": "stream",
     "text": [
      "Record date CCU JAR Transfer Note Admission Date Transfer Patient Name Valdez Harlan MRN Cardiologist Dr. Nutter PCP Vicente Barker CC Chest Pain Cath VF arrest RCA stenting History of Present Illness obtained on admission Pt is a yo male with ho DMII hypercholesterolemia  -  456\n",
      "Bipolar do and depression who began to have substernal day prior to admission in car and presyncope profound weakness.  -  457\n"
     ]
    },
    {
     "name": "stderr",
     "output_type": "stream",
     "text": [
      " 46%|████████████████████████████████████▉                                           | 461/999 [00:25<00:44, 12.20it/s]"
     ]
    },
    {
     "name": "stdout",
     "output_type": "stream",
     "text": [
      "This CP was minimal but the weakness made him pull over.  -  458\n",
      "He had a repeat of these symptoms day of admission.  -  459\n",
      "His EKG cw showed flattened Twave in V and TWI in V and flattened Twaves in I aVL.  -  460\n",
      "His trop was negative but MB index was elevated.  -  461\n"
     ]
    },
    {
     "name": "stderr",
     "output_type": "stream",
     "text": [
      " 47%|█████████████████████████████████████▏                                          | 465/999 [00:25<00:37, 14.29it/s]"
     ]
    },
    {
     "name": "stdout",
     "output_type": "stream",
     "text": [
      "Due to Twave flattening history and elevated index it was decided to start on heparin and ASA and take to cath lab.  -  462\n",
      "Cath showed right dominant system with prox Cx LAD clear RCA prox lesion and ostial PDA .  -  463\n",
      "During final dye injection pt had VF arrest and shocks.  -  464\n"
     ]
    },
    {
     "name": "stderr",
     "output_type": "stream",
     "text": [
      "\r",
      " 47%|█████████████████████████████████████▍                                          | 468/999 [00:25<00:33, 15.72it/s]"
     ]
    },
    {
     "name": "stdout",
     "output_type": "stream",
     "text": [
      "Pt regained puls and was in AF new with RVR.  -  465\n",
      "Pt was started on amio.  -  466\n",
      "Pt then began to experience discomfort in the RVR and it was decided to intervene.  -  467\n",
      "POBA was done to ostial PDA.  -  468\n",
      "A first noeluting stent was placed in prox RCA and pt had dissection and thus cd stent was placed.  -  469\n"
     ]
    },
    {
     "name": "stderr",
     "output_type": "stream",
     "text": [
      " 47%|█████████████████████████████████████▊                                          | 472/999 [00:25<00:31, 16.70it/s]"
     ]
    },
    {
     "name": "stdout",
     "output_type": "stream",
     "text": [
      "On admission to CCU pt still in AF with RVR s.  -  470\n",
      "He was on amio drip BB loaded on plavix ASA lipitor integrilin and was placed on Avandia study.  -  471\n",
      "His complaint of some mild chest pain not same as anginal pain day before thought to be from defibrillation.  -  472\n",
      "Past Medical History DMII hyperchol bipolarHTN depression sp ECT Medications on admission ASA Lipitor lopressor bid folate  -  473\n"
     ]
    },
    {
     "name": "stderr",
     "output_type": "stream",
     "text": [
      " 48%|██████████████████████████████████████                                          | 476/999 [00:26<00:33, 15.54it/s]"
     ]
    },
    {
     "name": "stdout",
     "output_type": "stream",
     "text": [
      "norvasc qd lithium bid depakote bid sonata mg qhs doxylamine qhs mirtazapine qd Meds on Transfer please see green sheets Medications ASA Lipitor  -  474\n",
      "lopressor bid folate norvasc qd lithium bid depakote bid sonata mg qhs doxylamine qhs mirtazapine qd  -  475\n",
      "Allergies NKDA Family History family ho CAD Social History  -  476\n",
      "No EtOH no tob no illicits Review of Systems per HPI Allergies NKDA Family History family  -  477\n"
     ]
    },
    {
     "name": "stderr",
     "output_type": "stream",
     "text": [
      " 48%|██████████████████████████████████████▌                                         | 481/999 [00:26<00:35, 14.43it/s]"
     ]
    },
    {
     "name": "stdout",
     "output_type": "stream",
     "text": [
      "ho CAD Social History  -  478\n",
      "No EtOH no tob no illicits Review of Systems per HPI CCU course plan Cards a. Rhythm on night of admission patient was started on an esmolol drip as well as amio bloused and rhythm converted to NSR.  -  479\n",
      "Esmolol drip as well as amio was stopped and BB was escalated and patient has remained in NSR.  -  480\n"
     ]
    },
    {
     "name": "stderr",
     "output_type": "stream",
     "text": [
      "\r",
      " 48%|██████████████████████████████████████▋                                         | 483/999 [00:26<00:38, 13.54it/s]"
     ]
    },
    {
     "name": "stdout",
     "output_type": "stream",
     "text": [
      "i. Ramp up lopressor as tolerated by BP b. Pump patient has remained euvolemic and had a Echo with EF and aortic stenosis c. Ischemia was stented x to the prox RCA lesion and was on integrilin x hrs prior.  -  481\n",
      "He was started on plavix.  -  482\n",
      "i. Cont plavix lopressor lisinopril lipitor ASA Psych patient with long history of bipolar disorder depression.  -  483\n"
     ]
    },
    {
     "name": "stderr",
     "output_type": "stream",
     "text": [
      " 49%|███████████████████████████████████████                                         | 488/999 [00:26<00:29, 17.39it/s]"
     ]
    },
    {
     "name": "stdout",
     "output_type": "stream",
     "text": [
      "He was on depakote lithium and remeron as outpt.  -  484\n",
      "He was seen by psychiatry here.  -  485\n",
      "a.  -  486\n",
      "Continue depakote and lithium had subthereapeutic level that psych thought was likely due to noncompliance.  -  487\n",
      "b.  -  488\n",
      "Continue remeron qhs c. Fu TSH DM Blood sugars were originally elevated as amio drip he was originally on for AF contained dextrose.  -  489\n"
     ]
    },
    {
     "name": "stderr",
     "output_type": "stream",
     "text": [
      "\r",
      " 49%|███████████████████████████████████████▎                                        | 491/999 [00:27<00:27, 18.17it/s]"
     ]
    },
    {
     "name": "stdout",
     "output_type": "stream",
     "text": [
      "He has remained on NPH with RISS.  -  490\n",
      "a. NPH RISS Prophy Fragmin nexium LABS PE see todays progress note EKG AFIB with RVR diffuse twave flattening Impression yo male with ho DMII hypercholesterolemia  -  491\n",
      "Bipolar do and depression and CAD pw CP and presycope found to have RCA prox lesion and ostial PDA stents to RCA and POBA to PDA.  -  492\n"
     ]
    },
    {
     "name": "stderr",
     "output_type": "stream",
     "text": [
      " 50%|███████████████████████████████████████▉                                        | 499/999 [00:27<00:25, 19.24it/s]"
     ]
    },
    {
     "name": "stdout",
     "output_type": "stream",
     "text": [
      "Cath cb VF arrest after dye load and resultant afib with RVR.  -  493\n",
      "Plan  -  494\n",
      "As outlined in CCU course.  -  495\n",
      "Victor Shepard MD  -  496\n",
      "Record date NEUROLOGY CMF ADMISSION NOTE  -  497\n",
      "Name VALDEZ Harlan DOB MR Date pm FOR DETAILS PLEASE SEE AALIYAH IRAHETAS  -  498\n",
      "NOTE  -  499\n",
      "IDCC yoRHM w PMH signif for CAD Afib DM Bipolar who presents w RLE weaknessdecreased sensation x hrs HPI yoRHM w PMH signif for CAD Afib DM Bipolar who was in USOH until d ago when had weakness in his L arm.  -  500\n",
      "Thought this was sleeping on it.  -  501\n"
     ]
    },
    {
     "name": "stderr",
     "output_type": "stream",
     "text": [
      " 51%|████████████████████████████████████████▍                                       | 505/999 [00:27<00:28, 17.57it/s]"
     ]
    },
    {
     "name": "stdout",
     "output_type": "stream",
     "text": [
      "Involved whole arm from shoulder down.  -  502\n",
      "Was still doing his ADLs but felt like the arm was slightly weaker took days to get back to normal.  -  503\n",
      "Then was eating dinner w a friend got up to go to BR found he had RLE weaknessstiffness.  -  504\n",
      "Noticed it was hard to climb stairs.  -  505\n",
      "Went to sleep woke up at am nearly fell weakness in his leg. "
     ]
    },
    {
     "name": "stderr",
     "output_type": "stream",
     "text": [
      "\r",
      " 51%|████████████████████████████████████████▋                                       | 508/999 [00:27<00:27, 18.07it/s]"
     ]
    },
    {
     "name": "stdout",
     "output_type": "stream",
     "text": [
      " -  506\n",
      "In addition has sensory loss in RLE esp foot felt cold and dead.  -  507\n",
      "The sensory loss was worst distally but extended up to his thigh.  -  508\n",
      "Never had trouble speaking or understanding others did not have a facial droop no problems w his RUE.  -  509\n"
     ]
    },
    {
     "name": "stderr",
     "output_type": "stream",
     "text": [
      " 51%|█████████████████████████████████████████                                       | 512/999 [00:28<00:27, 17.82it/s]"
     ]
    },
    {
     "name": "stdout",
     "output_type": "stream",
     "text": [
      "Stayed in bed until am when he called his PCP who told him to come to ED.  -  510\n",
      "Of note in OctNov had cardiac cath x .  -  511\n",
      "Had NSTEMI on Oct taken to cardiac cath cath showed significant RCA disease and prox LCx  -  512\n",
      "cb Vfib needing defib stent placed for stenotic RCA lesion cb dissection needing nd stent placed.  -  513\n"
     ]
    },
    {
     "name": "stderr",
     "output_type": "stream",
     "text": [
      " 52%|█████████████████████████████████████████▍                                      | 517/999 [00:28<00:24, 19.60it/s]"
     ]
    },
    {
     "name": "stdout",
     "output_type": "stream",
     "text": [
      "Post cath had Afib requiring amiodarone.  -  514\n",
      "Then had subsequent cath Nov after an episode of CP stents patent other vessels stable.  -  515\n",
      "After his inpt cardiac hospitalization was admitted to psych for wk for suicidalitydepression.  -  516\n",
      "Previously in spring had L eye visual disturbance nearly blind went to GHIC where was dxed w retinal venous occlusion treated w cortisone and laser surgery w mild improvement in vision now blurred in that eye.  -  517\n",
      "No HA no tinnitus no vertigo.  -  518\n"
     ]
    },
    {
     "name": "stderr",
     "output_type": "stream",
     "text": [
      "\r",
      " 52%|█████████████████████████████████████████▋                                      | 520/999 [00:28<00:24, 19.72it/s]"
     ]
    },
    {
     "name": "stdout",
     "output_type": "stream",
     "text": [
      "No blurry vision except in L eye from venous occlusion no diplopia.  -  519\n",
      "No problems w speech.  -  520\n",
      "PMH DM insulin x years CAD sp NSTEMI as above Bipolar disorder on lithium and depakote has required inpt hospitalization and ECT in past Afib as above Hyperchol MEDS Insulin units bid Asa Plavix Lithium dose bid on prior note Norvasc dose on prior note Mirtazapine dose on prior note Naltrexone Nexium on prior note Lipitor on prior note Cozaar dose Depakote dose bid on prior note Lopressor po  -  521\n"
     ]
    },
    {
     "name": "stderr",
     "output_type": "stream",
     "text": [
      " 53%|██████████████████████████████████████████▎                                     | 528/999 [00:28<00:22, 20.92it/s]"
     ]
    },
    {
     "name": "stdout",
     "output_type": "stream",
     "text": [
      "q per prior notes Folate ALL Lisinopril cough SH Tob occas cigar EtOH used to have EtOH problems IVDA  -  522\n",
      "Lives w yo son.  -  523\n",
      "Has yo daughter who lives w his sister.  -  524\n",
      "Widower x yrs.  -  525\n",
      "FH Mom w PM at age died of MI at .  -  526\n",
      "Father w EtOH HTN.  -  527\n",
      "Sister w miscarriages.  -  528\n",
      "VS on RA General WNWD NAD  -  529\n",
      "HEENT NCAT.  -  530\n",
      "No scleral icterus.  -  531\n",
      "MMM.  -  532\n"
     ]
    },
    {
     "name": "stderr",
     "output_type": "stream",
     "text": [
      " 54%|███████████████████████████████████████████                                     | 538/999 [00:29<00:16, 28.32it/s]"
     ]
    },
    {
     "name": "stdout",
     "output_type": "stream",
     "text": [
      "OP benign.  -  533\n",
      "Neck Supple no carotid bruits.  -  534\n",
      "CV RRR S S. IIIIIVI sys murmur best at RUSB rad to clav and neck.  -  535\n",
      "second murmur at axilla systolic as well vs. Galiverdins sign.  -  536\n",
      "Resp CTAB.  -  537\n",
      "No rwr Abd BS.  -  538\n",
      "SoftNTND.  -  539\n",
      "Ext No CCE DP bilat.  -  540\n",
      "Skin  -  541\n"
     ]
    },
    {
     "name": "stderr",
     "output_type": "stream",
     "text": [
      "\r",
      " 54%|███████████████████████████████████████████▍                                    | 543/999 [00:29<00:14, 32.30it/s]"
     ]
    },
    {
     "name": "stdout",
     "output_type": "stream",
     "text": [
      "No rashes intact.  -  542\n",
      "Neuro MS Conversationally intact.  -  543\n",
      "CN IIIII Pupils mm round reactive to light to mm visual field full to confrontation optic discs sharp IIIIVVIextraocular movements full wo nystagmus L eyelid is slightly weaker longstanding since L eye problem Vsensation to LT and pinprick intact bilaterally VIIfacial expression muscles symmetric without weakness IXXpalate elevates symmetrically XISCMs XIItongue protrudes midline Motor normal bulk and tone no tremor.  -  544\n",
      "No pronator drift.  -  545\n"
     ]
    },
    {
     "name": "stderr",
     "output_type": "stream",
     "text": [
      "\r",
      " 55%|███████████████████████████████████████████▊                                    | 547/999 [00:29<00:18, 23.89it/s]"
     ]
    },
    {
     "name": "stdout",
     "output_type": "stream",
     "text": [
      "Delt ElF ElE WrE FE IO HpF KnE KnF Dors Plan EHL L R Sensory endorses a difference in sensation to LT and temp RLE vs. LLE.  -  546\n",
      "Zone of difference feels colder is most pronounced R lateral calf area not a particular dermatomal distribution also w toe position sense mildly decreased R great toe.  -  547\n",
      "Mild vibratory loss to ankles bilat symmetrical.  -  548\n",
      "Reflex Bic Tric Bra Hoff Pat Ank Toes L Neg  -  549\n",
      "Down R Neg Up Coord no dysmetria on fingernosefinger or heelkneeshin  -  550\n"
     ]
    },
    {
     "name": "stderr",
     "output_type": "stream",
     "text": [
      " 56%|████████████████████████████████████████████▍                                   | 555/999 [00:29<00:16, 27.61it/s]"
     ]
    },
    {
     "name": "stdout",
     "output_type": "stream",
     "text": [
      "Gait favors L leg slightly when walking Romberg  -  551\n",
      "normal LABSSTUDIES Chemistry LytesRenalGlucose  -  552\n",
      "Sodium mmolL L Potassium . ..  -  553\n",
      "mmolL .H  -  554\n",
      "Chloride H  -  555\n",
      "mmolL H Carbon Dioxide . ..  -  556\n",
      "mmolL .L BUN mgdl Creatinine . ..  -  557\n",
      "mgdl Glucose H mgdl H General Chemistries Calcium . ..  -  558\n",
      "mgdl .L Phosphorus . ..  -  559\n"
     ]
    },
    {
     "name": "stderr",
     "output_type": "stream",
     "text": [
      " 57%|█████████████████████████████████████████████▏                                  | 565/999 [00:30<00:13, 32.99it/s]"
     ]
    },
    {
     "name": "stdout",
     "output_type": "stream",
     "text": [
      "mgdl .L  -  560\n",
      "Magnesium . ..  -  561\n",
      "meqL Lipid Tests Cholesterol mgdl H  -  562\n",
      "Triglycerides H mgdl H HDL Cholesterol L mgdl L LDL Cholesterol mgdl CholHDL Ratio .  -  563\n",
      "Chemistry Miscellaneous Calc Mean Bld...  -  564\n",
      "mg Chemistry Com... see detail Hemoglobin AC .H .. .H  -  565\n",
      "Hematology Complete Blood Count WBC .  -  566\n"
     ]
    },
    {
     "name": "stderr",
     "output_type": "stream",
     "text": [
      " 58%|██████████████████████████████████████████████                                  | 575/999 [00:30<00:10, 38.55it/s]"
     ]
    },
    {
     "name": "stdout",
     "output_type": "stream",
     "text": [
      ".. thcmm .H RBC .  -  567\n",
      "..  -  568\n",
      "milcm .L  -  569\n",
      "Hgb . ..  -  570\n",
      "gmdl .L HCT .L ..  -  571\n",
      ".L  -  572\n",
      "MCV fl MCH . ..  -  573\n",
      "pgrbc MCHC . ..  -  574\n",
      "gdl PLT thcumm RDW . ..  -  575\n",
      "Other Hematology ESR mmhr Urinalysis Negative Therapeutic Drugs Therapeutic Drug Monitoring Lithium .L ..  -  576\n",
      "mmolL .L MRI brain Acutesubacute infarcts DWI brightADC darkFLAIR bright in L cerebellum punctate and R precentral gyrus small elliptical area.  -  577\n",
      "CTA headneck has aberrant origin of R vert from CCA both ACAs come off of L carotid also w bilateral fetal PCAs and likely congenitally small vertebrobasilar vessels.  -  578\n",
      "No significant focal stenoses or atheromatous calcifications.  -  579\n"
     ]
    },
    {
     "name": "stderr",
     "output_type": "stream",
     "text": [
      "\r",
      " 58%|██████████████████████████████████████████████▍                                 | 580/999 [00:30<00:14, 28.64it/s]"
     ]
    },
    {
     "name": "stdout",
     "output_type": "stream",
     "text": [
      "EKG pending MRI LS spine negative IMPRESSION yoRHM w PMH signif for CAD DM Bipolar disorder afib sp recent cardiac cath who presents w LUE weakness d prior to admission resolving after days and RLE weaknesssensory deficit Imaging reveals R precentral gyrus small infarct L cerebellar infarct no significant vessel stenoses.  -  580\n",
      "Neuro exam w brisker reflexes on R equivocal RLE weakness R sensory sx R upgoing toe.  -  581\n"
     ]
    },
    {
     "name": "stderr",
     "output_type": "stream",
     "text": [
      "\r",
      " 58%|██████████████████████████████████████████████▊                                 | 584/999 [00:30<00:20, 20.43it/s]"
     ]
    },
    {
     "name": "stdout",
     "output_type": "stream",
     "text": [
      "Clinical picture and imaging are not consistent.  -  582\n",
      "Unclear if pt is a poor historian and current sx are nonobjective sensory findings and meaningful event was LUE weakness  -  583\n",
      "d ago.  -  584\n",
      "NEURO stroke wu including TTEHolter lipidslipoproteinhomocysteine.  -  585\n",
      "Will also send hypercoag wu including hypercoag panel PT Factor V Leiden APLA lupus anticoagulant given hx of retinal venous thrombus and young age.  -  586\n"
     ]
    },
    {
     "name": "stderr",
     "output_type": "stream",
     "text": [
      " 59%|███████████████████████████████████████████████▏                                | 590/999 [00:31<00:19, 21.44it/s]"
     ]
    },
    {
     "name": "stdout",
     "output_type": "stream",
     "text": [
      "Will also send BCx given recent cardiac cath although ESR wnl reassuring re of endocarditis.  -  587\n",
      "Will check Ac re of adequate DM control.  -  588\n",
      "Given psych hx will check tox screen and LFTs.  -  589\n",
      "Unclear if afib was only in context of postcath post Vfib.  -  590\n",
      "Will look for LAE holter abnl.  -  591\n",
      "Could make a case to anticoagulate regardless as has had documented afib.  -  592\n"
     ]
    },
    {
     "name": "stderr",
     "output_type": "stream",
     "text": [
      " 60%|███████████████████████████████████████████████▉                                | 598/999 [00:31<00:15, 25.22it/s]"
     ]
    },
    {
     "name": "stdout",
     "output_type": "stream",
     "text": [
      "CV hold antihtn meds now.  -  593\n",
      "Continue lipitor at outpt dose.  -  594\n",
      "Allow SBP up to .  -  595\n",
      "PSYCH continue w depakote and lithium.  -  596\n",
      "Mood is ok now but will need to be monitored.  -  597\n",
      "FEN no IVF ada low chollow fat diet.  -  598\n",
      "ENDO NPH bid for now titrate up as needed RISS.  -  599\n",
      "Checking Ac.  -  600\n"
     ]
    },
    {
     "name": "stderr",
     "output_type": "stream",
     "text": [
      " 61%|████████████████████████████████████████████████▌                               | 606/999 [00:31<00:15, 26.05it/s]"
     ]
    },
    {
     "name": "stdout",
     "output_type": "stream",
     "text": [
      "PPX put on sc fragmin nexium.  -  601\n",
      "Pneumoboots.  -  602\n",
      "Anna V. WendyBird MD HPC Neuro Resident Case discussed w Vern Snow senior resident.  -  603\n",
      "Record date Campbell Orthopedic Associates Madera Circle Omak GA Habib Valenzuela M.D. Valdez Harlan Jr.  -  604\n",
      "February Har is a year old pound gentleman who is referred for consultation by Dr. Harlan Oneil.  -  605\n"
     ]
    },
    {
     "name": "stderr",
     "output_type": "stream",
     "text": [
      "\r",
      " 61%|████████████████████████████████████████████████▊                               | 609/999 [00:31<00:17, 22.46it/s]"
     ]
    },
    {
     "name": "stdout",
     "output_type": "stream",
     "text": [
      "About a week ago he slipped on the driveway at home and sustained an injury to his left ankle.  -  606\n",
      "He was seen at TriCity Hospital and was told he had a fracture.  -  607\n",
      "He was placed in an air splint and advised to be partial weight bearing and he is using a cane.  -  608\n"
     ]
    },
    {
     "name": "stderr",
     "output_type": "stream",
     "text": [
      "\r",
      " 61%|█████████████████████████████████████████████████                               | 612/999 [00:31<00:16, 23.86it/s]"
     ]
    },
    {
     "name": "stdout",
     "output_type": "stream",
     "text": [
      "He is here for routine followup.  -  609\n",
      "Past medical history is notable for no ankle injuries previously.  -  610\n",
      "He has a history of diabetes and sleep apnea.  -  611\n",
      "He takes Prozac Cardizem Glucophage and Amaryl.  -  612\n",
      "He is also followed by Dr. Harold Nutter for an arrhythmia.  -  613\n",
      "He does not smoke.  -  614\n",
      "He drinks minimally.  -  615\n"
     ]
    },
    {
     "name": "stderr",
     "output_type": "stream",
     "text": [
      " 62%|█████████████████████████████████████████████████▌                              | 619/999 [00:32<00:14, 25.36it/s]"
     ]
    },
    {
     "name": "stdout",
     "output_type": "stream",
     "text": [
      "He is a set designer at Columbia Pictures.  -  616\n",
      "On examination today he has slight tenderness of the left ankle about four fingerbreadths above the malleolus.  -  617\n",
      "The malleolus is nontender medially or laterally with no ligamentous tenderness either.  -  618\n",
      "Dorsal flexion and plantar flexion is without pain.  -  619\n",
      "There is no significant swelling.  -  620\n",
      "There are no some skin changes with some small abrasions proximally."
     ]
    },
    {
     "name": "stderr",
     "output_type": "stream",
     "text": [
      "\r",
      " 62%|█████████████████████████████████████████████████▊                              | 622/999 [00:32<00:14, 25.92it/s]"
     ]
    },
    {
     "name": "stdout",
     "output_type": "stream",
     "text": [
      "  -  621\n",
      "There is no fibular tenderness proximally.  -  622\n",
      "No anterior pain is noted.  -  623\n",
      "No hindfoot midfoot or forefoot tenderness is noted.  -  624\n",
      "I would like him to use a tube sock with his air cast.  -  625\n"
     ]
    },
    {
     "name": "stderr",
     "output_type": "stream",
     "text": [
      " 63%|██████████████████████████████████████████████████▎                             | 629/999 [00:32<00:15, 23.76it/s]"
     ]
    },
    {
     "name": "stdout",
     "output_type": "stream",
     "text": [
      "He is using a cane for ambulation.  -  626\n",
      "His xrays do not show a notable fracture pattern today and we will await the Radiology opinion.  -  627\n",
      "I would like him to stay in the air splint with the sock.  -  628\n",
      "I will see him back in six weeks for review at the Boxborough office.  -  629\n"
     ]
    },
    {
     "name": "stderr",
     "output_type": "stream",
     "text": [
      " 64%|██████████████████████████████████████████████████▉                             | 636/999 [00:32<00:14, 25.49it/s]"
     ]
    },
    {
     "name": "stdout",
     "output_type": "stream",
     "text": [
      "Diagnosis Left ankle fracture.  -  630\n",
      "Habib Valenzuela M.D.  -  631\n",
      "HVkuntz Mmedical cc Harlan Oneil M.D.  -  632\n",
      "Harold Nutter M.D. Doctors Hospital North Bruce St Omak GA Habib Valenzuela M.D. DD DT DV Not reviewed by Attending Physician  -  633\n",
      "Record date CAMPBELL EMERGENCY DEPT VISIT VALDEZHARLANJR.  -  634\n",
      "VISIT DATE  -  635\n"
     ]
    },
    {
     "name": "stderr",
     "output_type": "stream",
     "text": [
      "\r",
      " 64%|███████████████████████████████████████████████████▏                            | 639/999 [00:32<00:14, 25.38it/s]"
     ]
    },
    {
     "name": "stdout",
     "output_type": "stream",
     "text": [
      "The patient was seen and examined in the emergency department.  -  636\n",
      "The patient was seen by the Emergency Medicine resident.  -  637\n",
      "I have discussed the management with the resident.  -  638\n",
      "I have also seen the patient primarily and reviewed the medical record.  -  639\n",
      "This is a brief addendum to the medical record.  -  640\n"
     ]
    },
    {
     "name": "stderr",
     "output_type": "stream",
     "text": [
      "\r",
      " 64%|███████████████████████████████████████████████████▍                            | 642/999 [00:33<00:13, 26.23it/s]"
     ]
    },
    {
     "name": "stdout",
     "output_type": "stream",
     "text": [
      "HISTORY OF PRESENTING COMPLAINT  -  641\n",
      "Briefly this is a yearold male who complains of several days of nausea vomiting and left lower quadrant discomfort.  -  642\n",
      "He also describes intermittent chest pain which he has had for a number of months without significant change.  -  643\n",
      "He was sent in from his primary care doctor today with this pain and was also noted to have some EKG changes.  -  644\n"
     ]
    },
    {
     "name": "stderr",
     "output_type": "stream",
     "text": [
      " 65%|███████████████████████████████████████████████████▉                            | 648/999 [00:33<00:15, 23.17it/s]"
     ]
    },
    {
     "name": "stdout",
     "output_type": "stream",
     "text": [
      "The patient has no chest pain at the time of evaluation in the emergency department and no shortness of breath.  -  645\n",
      "REVIEW OF SYSTEMS  -  646\n",
      "As indicated and otherwise negative.  -  647\n",
      "PAST MEDICAL HISTORY  -  648\n",
      "As indicated in the chart.  -  649\n",
      "SOCIAL HISTORY AND FAMILY HISTORY  -  650\n",
      "As indicated in the chart.  -  651\n",
      "PHYSICAL EXAMINATION  -  652\n"
     ]
    },
    {
     "name": "stderr",
     "output_type": "stream",
     "text": [
      " 66%|████████████████████████████████████████████████████▌                           | 657/999 [00:33<00:11, 29.04it/s]"
     ]
    },
    {
     "name": "stdout",
     "output_type": "stream",
     "text": [
      "On physical examination the patient is very wellappearing a smiling very pleasant gentleman in no acute distress.  -  653\n",
      "The blood pressure is the pulse and the temperature .  -  654\n",
      "degrees.  -  655\n",
      "Normocephalic and atraumatic.  -  656\n",
      "The chest is clear to auscultation.  -  657\n",
      "The heart has a regular rate and rhythm.  -  658\n",
      "The abdomen is soft.  -  659\n",
      "He has left lower quadrant tenderness.  -  660\n"
     ]
    },
    {
     "name": "stderr",
     "output_type": "stream",
     "text": [
      " 67%|█████████████████████████████████████████████████████▎                          | 665/999 [00:33<00:10, 30.70it/s]"
     ]
    },
    {
     "name": "stdout",
     "output_type": "stream",
     "text": [
      "He also of note on cardiovascular examination has a soft murmur which he says he has had since childhood.  -  661\n",
      "The extremities are normal.  -  662\n",
      "The neurologic examination is nonfocal.  -  663\n",
      "THERAPY  -  664\n",
      "RENDEREDCOURSE  -  665\n",
      "IN ED  -  666\n",
      "This is a gentleman with abdominal pain who will receive a CAT scan to rule out diverticulitis.  -  667\n"
     ]
    },
    {
     "name": "stderr",
     "output_type": "stream",
     "text": [
      "\r",
      " 67%|█████████████████████████████████████████████████████▌                          | 669/999 [00:33<00:10, 30.35it/s]"
     ]
    },
    {
     "name": "stdout",
     "output_type": "stream",
     "text": [
      "He has also had some nonspecific ST changes on his EKG.  -  668\n",
      "He is painfree at this time.  -  669\n",
      "He does not describe a classic exertional pattern for his chest pain but given that he is a diabetic and with EKG changes he will also be admitted for rule out MI.  -  670\n",
      "A CT is pending at the time of this dictation.  -  671\n"
     ]
    },
    {
     "name": "stderr",
     "output_type": "stream",
     "text": [
      " 68%|██████████████████████████████████████████████████████▏                         | 677/999 [00:34<00:11, 27.93it/s]"
     ]
    },
    {
     "name": "stdout",
     "output_type": "stream",
     "text": [
      "DISPOSITION including condition upon discharge As above.  -  672\n",
      "The patients condition is currently stable.  -  673\n",
      "CK JAY CARROLL  -  674\n",
      "M.D. JC D T Dictated by JAY CARROLL  -  675\n",
      "M.D. JC Not reviewed by Attending Physician  -  676\n",
      "Record date September Vicente Blair M.D. Internal Medical Doctors Hospital North Omak Georgia RE  -  677\n",
      "VALDEZ Harlan DHN DATE OF BIRTH CURRENT CLINIC VISIT  -  678\n"
     ]
    },
    {
     "name": "stderr",
     "output_type": "stream",
     "text": [
      "\r",
      " 68%|██████████████████████████████████████████████████████▌                         | 681/999 [00:34<00:14, 21.69it/s]"
     ]
    },
    {
     "name": "stdout",
     "output_type": "stream",
     "text": [
      "DATE Dear Vicente Thank you in advance for allowing me to share in the medical care of Mr. Harlan B. Valdez a yearold male patient with prior polysomnographic evidence of sleep disordered breathing as well as a history of difficulty in sleep reinitiation and maintenance and increased early morning awakenings as well as mixed systemic medical conditions.  -  679\n",
      "HISTORY OF PRESENT ILLNESS  -  680\n",
      "As you already know Mr. Valdez who demonstrates a history of difficulties of sleep reinitiation and maintenance as well as increased early morning awakenings has noted an exacerbation of these sleep difficulties occurring in temporal association with his loss of his wife from pancreatic cancer last year.  -  681\n",
      "He is now placed in the unfortunate situation of being a single parent to a yearold son and a yearold daughter and describes a modification of his current employment duties of a set designer.  -  682\n"
     ]
    },
    {
     "name": "stderr",
     "output_type": "stream",
     "text": [
      "\r",
      " 68%|██████████████████████████████████████████████████████▊                         | 684/999 [00:34<00:19, 16.42it/s]"
     ]
    },
    {
     "name": "stdout",
     "output_type": "stream",
     "text": [
      "In particular Mr. Valdez describes undergoing on frequent international travelling which has bee markedly curtailed as he is tending to his family situation closer to home.  -  683\n",
      "He described a history of intermittent snoring symptomatology but is unaware of specific nocturnal respiratory pauses.  -  684\n",
      "He is unaware of a restless lower limb sensory complaints which may impact on his ability to initiate or reinitiate sleep.  -  685\n",
      "He denies a history of a night owl personality or circadian rhythm dysfunction which may have played a role with respect to nocturnal sleep disruptions or sleep difficulties.  -  686\n"
     ]
    },
    {
     "name": "stderr",
     "output_type": "stream",
     "text": [
      "\r",
      " 69%|███████████████████████████████████████████████████████                         | 687/999 [00:35<00:20, 15.58it/s]"
     ]
    },
    {
     "name": "stdout",
     "output_type": "stream",
     "text": [
      "He denies a history of paroxysmal abnormal disturbances or associated narcoleptic symptoms.  -  687\n",
      "Mr. Valdez underwent an initial formal polysomnographic evaluation at the center for sleep diagnostics at Holy Cross on during which time he was noted to demonstrate a respiratory disturbance index of hour particularly exacerbated in the supine position and characterized predominantly by hypopneas with equal distribution during nonREM and stage REM sleep and with associated O desaturation Nadir of The respiratory disturbances were predominantly obstructive or mixed hypopneas.  -  688\n"
     ]
    },
    {
     "name": "stderr",
     "output_type": "stream",
     "text": [
      " 69%|███████████████████████████████████████████████████████▍                        | 692/999 [00:35<00:23, 13.04it/s]"
     ]
    },
    {
     "name": "stdout",
     "output_type": "stream",
     "text": [
      "In addition loud snoring was noted.  -  689\n",
      "There was evidence of a sleep efficiency of and a short sleep onset latency of minutes.  -  690\n",
      "There was a predominance of light nonREM stages III sleep and a concomitant inability to achieve significant slowwave or stage REM sleep.  -  691\n",
      "There was also alpha intrusions and alpha delta sleep evident during the initial sleep study.  -  692\n"
     ]
    },
    {
     "name": "stderr",
     "output_type": "stream",
     "text": [
      "\r",
      " 70%|███████████████████████████████████████████████████████▋                        | 695/999 [00:35<00:22, 13.31it/s]"
     ]
    },
    {
     "name": "stdout",
     "output_type": "stream",
     "text": [
      "In addition premature ventricular contractions were noted.  -  693\n",
      "The patient underwent a CPAP titration on also at the Tenacre Foundation Nursing Home in Boxborough during which time there was a marked reduction in the frequency of hypopneas respiratory disturbance index equals hour with CPAP titrations between cm.  -  694\n",
      "Sleep efficiency improved to a short sleep onset latency was also noted minutes.  -  695\n"
     ]
    },
    {
     "name": "stderr",
     "output_type": "stream",
     "text": [
      "\r",
      " 70%|███████████████████████████████████████████████████████▊                        | 697/999 [00:35<00:21, 13.80it/s]"
     ]
    },
    {
     "name": "stdout",
     "output_type": "stream",
     "text": [
      "There was once again an increased predominance of light nonREM stage III sleep with concomitant inability to achieve sustained slow wave sleep.  -  696\n",
      "Since his initial trial of nocturnal CPAP titration at cm of water pressure and with various CPAP mask modifications including CPAP nasal face mask and a Mallinckrodt Breeze supportive head gear with nasal pillows.  -  697\n",
      "The patient describes associated claustrophobic symptomatology relative difficulties with sustained nocturnal home CPAP use and difficulties with regards to CPAP to being and complications by the bulkiness of the CPAP machine in general.  -  698\n"
     ]
    },
    {
     "name": "stderr",
     "output_type": "stream",
     "text": [
      "\r",
      " 70%|███████████████████████████████████████████████████████▉                        | 699/999 [00:36<00:25, 11.70it/s]"
     ]
    },
    {
     "name": "stdout",
     "output_type": "stream",
     "text": [
      "As a result he has not utilized nocturnal CPAP therapy for a period of time although he still maintains the CPAP equipment in his house.  -  699\n",
      "Of particular note and exacerbation of the past year the patient demonstrates increased early morning awakenings averaging in number with typical awakenings occurring approximately two hours after sleep initiation at p.m. the patient describes one awakening at p.m. and the second awakening at a.m. of unclear causative etiology.  -  700\n"
     ]
    },
    {
     "name": "stderr",
     "output_type": "stream",
     "text": [
      " 70%|████████████████████████████████████████████████████████▎                       | 703/999 [00:36<00:25, 11.65it/s]"
     ]
    },
    {
     "name": "stdout",
     "output_type": "stream",
     "text": [
      "The patient then might awaken at a.m. and be ready for the day.  -  701\n",
      "If he is able to reinitiate sleep thereafter the patient may demonstrate additional two early morning awakenings after a final awakening at a.m.  -  702\n",
      "The patient is noted to have a history of mixed systemic conditions including diabetes coronary artery disease depressive disorder as well as a relatively stable gastrointestinal condition with no upper GI evidence of gastroparesis.  -  703\n"
     ]
    },
    {
     "name": "stderr",
     "output_type": "stream",
     "text": [
      " 71%|████████████████████████████████████████████████████████▉                       | 711/999 [00:36<00:16, 17.11it/s]"
     ]
    },
    {
     "name": "stdout",
     "output_type": "stream",
     "text": [
      "MEDICATIONS .  -  704\n",
      "Provigil mg p.o.  -  705\n",
      "q. a.m. PRN. .  -  706\n",
      "Lithium. .  -  707\n",
      "Valproate. .  -  708\n",
      "Glucophage mg t.i.d. .  -  709\n",
      "Humulin units at night. .  -  710\n",
      "Folate. .  -  711\n",
      "Metoprolol. .  -  712\n",
      "Cardia. .  -  713\n",
      "Vitamin E. .  -  714\n",
      "Coated aspirin.  -  715\n",
      "ALLERGIESADVERSE REACTIONS  -  716\n"
     ]
    },
    {
     "name": "stderr",
     "output_type": "stream",
     "text": [
      " 72%|█████████████████████████████████████████████████████████▊                      | 722/999 [00:36<00:11, 24.25it/s]"
     ]
    },
    {
     "name": "stdout",
     "output_type": "stream",
     "text": [
      "The patient describes an enhancement to suicidal tendencies in association with prior Prozac usage.  -  717\n",
      "SOCIAL HISTORY  -  718\n",
      "The patient denies active tobacco or alcoholic beverage usage.  -  719\n",
      "He has lost pounds over the past several years.  -  720\n",
      "His current weight is pounds.  -  721\n",
      "He is desirous of losing some additional weight with regards to more regular exercise but his hectic social situation makes this somewhat difficult at the present time.  -  722\n"
     ]
    },
    {
     "name": "stderr",
     "output_type": "stream",
     "text": [
      "\r",
      " 73%|██████████████████████████████████████████████████████████▏                     | 726/999 [00:37<00:13, 20.54it/s]"
     ]
    },
    {
     "name": "stdout",
     "output_type": "stream",
     "text": [
      "On examination the patient demonstrates a blood pressure of seated left arm respiratory rate .  -  723\n",
      "HEENT EXAMINATION Borderline small posterior oropharyngeal aperture with slightly increased redundant tissue evident posteriorly and a slightly elongated uvula noted.  -  724\n",
      "The patient appears awake alert with speech clear and fluent and receptive language function essentially intact.  -  725\n"
     ]
    },
    {
     "name": "stderr",
     "output_type": "stream",
     "text": [
      "\r",
      " 73%|██████████████████████████████████████████████████████████▍                     | 730/999 [00:37<00:11, 22.74it/s]"
     ]
    },
    {
     "name": "stdout",
     "output_type": "stream",
     "text": [
      "He is presently wearing dental braces.  -  726\n",
      "No obvious cranial nerve deficits are appreciated.  -  727\n",
      "No focal sensory motor or neurologic deficits are noted.  -  728\n",
      "No significant appendicular dystaxias or dysmetrias are currently in evidence.  -  729\n",
      "The routine gait appears to be normal based without evidence of significant gait dystaxias.  -  730\n",
      "No current clinical ictal manifestations are present.  -  731\n",
      "No acute evidence of microsleeps are noted.  -  732\n"
     ]
    },
    {
     "name": "stderr",
     "output_type": "stream",
     "text": [
      " 74%|██████████████████████████████████████████████████████████▉                     | 736/999 [00:37<00:11, 23.42it/s]"
     ]
    },
    {
     "name": "stdout",
     "output_type": "stream",
     "text": [
      "IMPRESSION .  -  733\n",
      "Sleep stagearrousal dysfunction .  -  734\n",
      "Manifested by subjective complaints of nonrestorative sleep increased daytime fatigue and alternating hypersomnia and recurrent polysomnographic evidence of lightened sleep pattern with increased predominance of nonREM stages sleep and with the presence of alpha intrusions and alpha delta component to deeper sleep.  -  735\n",
      "These latter EEG findings have been described in association with subjective complaints of nonrestorative sleep as well as clinical setting of chronic pain related complaints depressive or anxiety disorder or intercurrent psychotropics agents used but more usually associated with benzodiazepine or barbituate usage. .  -  736\n"
     ]
    },
    {
     "name": "stderr",
     "output_type": "stream",
     "text": [
      "\r",
      " 74%|███████████████████████████████████████████████████████████▏                    | 739/999 [00:37<00:15, 17.11it/s]"
     ]
    },
    {
     "name": "stdout",
     "output_type": "stream",
     "text": [
      "Sleep disordered breathing As evidenced during prior polysomnographic evaluations mostly of obstructive and or mixed hypopnea.  -  737\n",
      "The patient appears largely refractory to a trial of CPAP therapy particularly in so far as he demonstrates associated claustrophobic symptoms in association with its usage despite relatively modest CPAP water pressures cm.  -  738\n",
      "In addition he has tried various nasal CPAP face mask including the Mallinckrodt Breeze supportive head gear with nasal pillows and with limited success.  -  739\n",
      "One might consider repeating a polysomnographic evaluation in the future and if so utilizing a potential trial of BIPAP titration which may help to improve claustrophobic symptoms but the patient will still be left with the issues referable to tangled tubing at night and issues referable to nasal face mask usage as noted above. .  -  740\n",
      "Relative difficulties in sleep reinitiation and maintenance The patient describes at least early morning awakenings with difficulty in sleep reinitiation and maintenance thereby compounding his current sleep problem.  -  741\n"
     ]
    },
    {
     "name": "stderr",
     "output_type": "stream",
     "text": [
      " 74%|███████████████████████████████████████████████████████████▌                    | 744/999 [00:38<00:20, 12.65it/s]"
     ]
    },
    {
     "name": "stdout",
     "output_type": "stream",
     "text": [
      "While there would logically be a relationship between his current sleep exacerbations and the recent death of his wife from pancreatic cancer last year there may also be evidence of other nocturnal sleep disturbances for which a repeat polysomnographic evaluation i.e. in particular looking for the presence of increased spontaneous arousals or limb associated arousals or periodic limb movements of sleep may be of a special clinical benefit.  -  742\n",
      "PLAN .  -  743\n"
     ]
    },
    {
     "name": "stderr",
     "output_type": "stream",
     "text": [
      "\r",
      " 75%|███████████████████████████████████████████████████████████▋                    | 746/999 [00:38<00:19, 12.71it/s]"
     ]
    },
    {
     "name": "stdout",
     "output_type": "stream",
     "text": [
      "In the short course in so far as the patient describes himself as being exceedingly tired and unable to perform the routine daily tasks of work and managing a family in the absence of his deceased wife I have suggested initiation of PRN Zolpidem tartrate therapy mg tablets utilizing one to two tablets p.o.  -  744\n",
      "q.  -  745\n",
      "h.s. PRN for difficulties of sleep reinitiation and maintenance. .  -  746\n",
      "The patient is advised to take Zolpidem tartrate therapy no more than times per week in an effort to avoid any issues of physiologic dependency. ."
     ]
    },
    {
     "name": "stderr",
     "output_type": "stream",
     "text": [
      "\r",
      " 75%|███████████████████████████████████████████████████████████▉                    | 748/999 [00:38<00:18, 13.81it/s]"
     ]
    },
    {
     "name": "stdout",
     "output_type": "stream",
     "text": [
      "  -  747\n",
      "The patient was advised against potential adverse behavioral and or systemic side effects of Zolpidem tartrate therapy including hypersomnolence gastric upset loose stools diarrhea and or cardiac palpitations.  -  748\n",
      "Pending his clinical response of his Zolpidem tartrate therapy I then might seek direct treatment for his sleep disordered breathing issues which may include a repeat sleep study with potential trial of BIPAP therapy in an effort to modify or attenuate claustrophobic symptoms.  -  749\n"
     ]
    },
    {
     "name": "stderr",
     "output_type": "stream",
     "text": [
      " 75%|████████████████████████████████████████████████████████████▏                   | 752/999 [00:38<00:19, 12.70it/s]"
     ]
    },
    {
     "name": "stdout",
     "output_type": "stream",
     "text": [
      "If he proves poorly responsive to trial of BIPAP therapy however I might consider supplemental O therapy at night and with this in mind a follow up sleep study should have associated endtidal CO monitoring as well. .  -  750\n",
      "In the meantime the patient was advised to contact the sleep disorders clinic for any acute sleep related concerns in the interim. .  -  751\n",
      "The patient may also benefit from nonpharmacologic approaches with regards to sleep reinitiation such as hypnotherapy but I will hold off on these strategies pending follow up sleep disorders clinic evaluation in approximately four months time.  -  752\n"
     ]
    },
    {
     "name": "stderr",
     "output_type": "stream",
     "text": [
      " 76%|████████████████████████████████████████████████████████████▋                   | 758/999 [00:39<00:14, 16.26it/s]"
     ]
    },
    {
     "name": "stdout",
     "output_type": "stream",
     "text": [
      "Once again thank you again for allowing me to share in the medical care of Mr. Harlan Valdez.  -  753\n",
      "I hope this letter finds you well.  -  754\n",
      "Sincerely yours  -  755\n",
      "Yovani Vergara M.D.  -  756\n",
      "Sleep Clinic Doctors Hospital North cc Sleep Clinic DHN DD DT TX  -  757\n",
      "Record date CCU JAR Transfer Note Admission Date Transfer Patient Name Valdez Harlan MRN Cardiologist Dr. Nutter PCP Vicente Barker CC Chest Pain Cath VF arrest RCA stenting History of Present Illness obtained on admission Pt is a yo male with ho DMII hypercholesterolemia  -  758\n"
     ]
    },
    {
     "name": "stderr",
     "output_type": "stream",
     "text": [
      " 76%|█████████████████████████████████████████████████████████████▏                  | 764/999 [00:39<00:12, 18.38it/s]"
     ]
    },
    {
     "name": "stdout",
     "output_type": "stream",
     "text": [
      "Bipolar do and depression who began to have substernal day prior to admission in car and presyncope profound weakness.  -  759\n",
      "This CP was minimal but the weakness made him pull over.  -  760\n",
      "He had a repeat of these symptoms day of admission.  -  761\n",
      "His EKG cw showed flattened Twave in V and TWI in V and flattened Twaves in I aVL.  -  762\n",
      "His trop was negative but MB index was elevated.  -  763\n"
     ]
    },
    {
     "name": "stderr",
     "output_type": "stream",
     "text": [
      "\r",
      " 77%|█████████████████████████████████████████████████████████████▍                  | 767/999 [00:39<00:11, 19.41it/s]"
     ]
    },
    {
     "name": "stdout",
     "output_type": "stream",
     "text": [
      "Due to Twave flattening history and elevated index it was decided to start on heparin and ASA and take to cath lab.  -  764\n",
      "Cath showed right dominant system with prox Cx LAD clear RCA prox lesion and ostial PDA .  -  765\n",
      "During final dye injection pt had VF arrest and shocks.  -  766\n",
      "Pt regained puls and was in AF new with RVR.  -  767\n",
      "Pt was started on amio.  -  768\n",
      "Pt then began to experience discomfort in the RVR and it was decided to intervene.  -  769\n"
     ]
    },
    {
     "name": "stderr",
     "output_type": "stream",
     "text": [
      " 77%|█████████████████████████████████████████████████████████████▉                  | 774/999 [00:39<00:09, 22.57it/s]"
     ]
    },
    {
     "name": "stdout",
     "output_type": "stream",
     "text": [
      "POBA was done to ostial PDA.  -  770\n",
      "A first noeluting stent was placed in prox RCA and pt had dissection and thus cd stent was placed.  -  771\n",
      "On admission to CCU pt still in AF with RVR s.  -  772\n",
      "He was on amio drip BB loaded on plavix ASA lipitor integrilin and was placed on Avandia study.  -  773\n",
      "His complaint of some mild chest pain not same as anginal pain day before thought to be from defibrillation.  -  774\n",
      "Past Medical History DMII hyperchol bipolarHTN depression sp ECT Medications on admission ASA Lipitor lopressor bid folate  -  775\n"
     ]
    },
    {
     "name": "stderr",
     "output_type": "stream",
     "text": [
      " 78%|██████████████████████████████████████████████████████████████▍                 | 780/999 [00:40<00:10, 21.73it/s]"
     ]
    },
    {
     "name": "stdout",
     "output_type": "stream",
     "text": [
      "norvasc qd lithium bid depakote bid sonata mg qhs doxylamine qhs mirtazapine qd Meds on Transfer please see green sheets Medications ASA Lipitor  -  776\n",
      "lopressor bid folate norvasc qd lithium bid depakote bid sonata mg qhs doxylamine qhs mirtazapine qd  -  777\n",
      "Allergies NKDA Family History family ho CAD Social History  -  778\n",
      "No EtOH no tob no illicits Review of Systems per HPI Allergies NKDA Family History family  -  779\n"
     ]
    },
    {
     "name": "stderr",
     "output_type": "stream",
     "text": [
      "\r",
      " 78%|██████████████████████████████████████████████████████████████▋                 | 783/999 [00:40<00:10, 20.16it/s]"
     ]
    },
    {
     "name": "stdout",
     "output_type": "stream",
     "text": [
      "ho CAD Social History  -  780\n",
      "No EtOH no tob no illicits Review of Systems per HPI CCU course plan Cards a. Rhythm on night of admission patient was started on an esmolol drip as well as amio bloused and rhythm converted to NSR.  -  781\n",
      "Esmolol drip as well as amio was stopped and BB was escalated and patient has remained in NSR.  -  782\n",
      "i. Ramp up lopressor as tolerated by BP b. Pump patient has remained euvolemic and had a Echo with EF and aortic stenosis c. Ischemia was stented x to the prox RCA lesion and was on integrilin x hrs prior.  -  783\n"
     ]
    },
    {
     "name": "stderr",
     "output_type": "stream",
     "text": [
      " 79%|███████████████████████████████████████████████████████████████▎                | 790/999 [00:40<00:09, 22.47it/s]"
     ]
    },
    {
     "name": "stdout",
     "output_type": "stream",
     "text": [
      "He was started on plavix.  -  784\n",
      "i. Cont plavix lopressor lisinopril lipitor ASA Psych patient with long history of bipolar disorder depression.  -  785\n",
      "He was on depakote lithium and remeron as outpt.  -  786\n",
      "He was seen by psychiatry here.  -  787\n",
      "a.  -  788\n",
      "Continue depakote and lithium had subthereapeutic level that psych thought was likely due to noncompliance.  -  789\n",
      "b.  -  790\n",
      "Continue remeron qhs c. Fu TSH DM Blood sugars were originally elevated as amio drip he was originally on for AF contained dextrose."
     ]
    },
    {
     "name": "stderr",
     "output_type": "stream",
     "text": [
      "\r",
      " 79%|███████████████████████████████████████████████████████████████▌                | 793/999 [00:40<00:08, 24.28it/s]"
     ]
    },
    {
     "name": "stdout",
     "output_type": "stream",
     "text": [
      "  -  791\n",
      "He has remained on NPH with RISS.  -  792\n",
      "a. NPH RISS Prophy Fragmin nexium LABS PE see todays progress note EKG AFIB with RVR diffuse twave flattening Impression yo male with ho DMII hypercholesterolemia  -  793\n",
      "Bipolar do and depression and CAD pw CP and presycope found to have RCA prox lesion and ostial PDA stents to RCA and POBA to PDA.  -  794\n"
     ]
    },
    {
     "name": "stderr",
     "output_type": "stream",
     "text": [
      " 80%|████████████████████████████████████████████████████████████████▏               | 801/999 [00:41<00:08, 24.41it/s]"
     ]
    },
    {
     "name": "stdout",
     "output_type": "stream",
     "text": [
      "Cath cb VF arrest after dye load and resultant afib with RVR.  -  795\n",
      "Plan  -  796\n",
      "As outlined in CCU course.  -  797\n",
      "Victor Shepard MD  -  798\n",
      "Record date NEUROLOGY CMF ADMISSION NOTE  -  799\n",
      "Name VALDEZ Harlan DOB MR Date pm FOR DETAILS PLEASE SEE AALIYAH IRAHETAS  -  800\n",
      "NOTE  -  801\n",
      "IDCC yoRHM w PMH signif for CAD Afib DM Bipolar who presents w RLE weaknessdecreased sensation x hrs HPI yoRHM w PMH signif for CAD Afib DM Bipolar who was in USOH until d ago when had weakness in his L arm.  -  802\n"
     ]
    },
    {
     "name": "stderr",
     "output_type": "stream",
     "text": [
      " 81%|████████████████████████████████████████████████████████████████▌               | 807/999 [00:41<00:08, 21.83it/s]"
     ]
    },
    {
     "name": "stdout",
     "output_type": "stream",
     "text": [
      "Thought this was sleeping on it.  -  803\n",
      "Involved whole arm from shoulder down.  -  804\n",
      "Was still doing his ADLs but felt like the arm was slightly weaker took days to get back to normal.  -  805\n",
      "Then was eating dinner w a friend got up to go to BR found he had RLE weaknessstiffness.  -  806\n",
      "Noticed it was hard to climb stairs.  -  807\n",
      "Went to sleep woke up at am nearly fell weakness in his leg.  -  808\n"
     ]
    },
    {
     "name": "stderr",
     "output_type": "stream",
     "text": [
      "\r",
      " 81%|████████████████████████████████████████████████████████████████▊               | 810/999 [00:41<00:08, 22.55it/s]"
     ]
    },
    {
     "name": "stdout",
     "output_type": "stream",
     "text": [
      "In addition has sensory loss in RLE esp foot felt cold and dead.  -  809\n",
      "The sensory loss was worst distally but extended up to his thigh.  -  810\n",
      "Never had trouble speaking or understanding others did not have a facial droop no problems w his RUE.  -  811\n",
      "Stayed in bed until am when he called his PCP who told him to come to ED.  -  812\n"
     ]
    },
    {
     "name": "stderr",
     "output_type": "stream",
     "text": [
      " 82%|█████████████████████████████████████████████████████████████████▎              | 816/999 [00:41<00:08, 22.31it/s]"
     ]
    },
    {
     "name": "stdout",
     "output_type": "stream",
     "text": [
      "Of note in OctNov had cardiac cath x .  -  813\n",
      "Had NSTEMI on Oct taken to cardiac cath cath showed significant RCA disease and prox LCx  -  814\n",
      "cb Vfib needing defib stent placed for stenotic RCA lesion cb dissection needing nd stent placed.  -  815\n",
      "Post cath had Afib requiring amiodarone.  -  816\n",
      "Then had subsequent cath Nov after an episode of CP stents patent other vessels stable.  -  817\n",
      "After his inpt cardiac hospitalization was admitted to psych for wk for suicidalitydepression.  -  818\n"
     ]
    },
    {
     "name": "stderr",
     "output_type": "stream",
     "text": [
      " 82%|█████████████████████████████████████████████████████████████████▊              | 822/999 [00:42<00:07, 22.61it/s]"
     ]
    },
    {
     "name": "stdout",
     "output_type": "stream",
     "text": [
      "Previously in spring had L eye visual disturbance nearly blind went to GHIC where was dxed w retinal venous occlusion treated w cortisone and laser surgery w mild improvement in vision now blurred in that eye.  -  819\n",
      "No HA no tinnitus no vertigo.  -  820\n",
      "No blurry vision except in L eye from venous occlusion no diplopia.  -  821\n",
      "No problems w speech.  -  822\n",
      "PMH DM insulin x years CAD sp NSTEMI as above Bipolar disorder on lithium and depakote has required inpt hospitalization and ECT in past Afib as above Hyperchol MEDS Insulin units bid Asa Plavix Lithium dose bid on prior note Norvasc dose on prior note Mirtazapine dose on prior note Naltrexone Nexium on prior note Lipitor on prior note Cozaar dose Depakote dose bid on prior note Lopressor po  -  823\n"
     ]
    },
    {
     "name": "stderr",
     "output_type": "stream",
     "text": [
      " 83%|██████████████████████████████████████████████████████████████████▍             | 829/999 [00:42<00:08, 19.39it/s]"
     ]
    },
    {
     "name": "stdout",
     "output_type": "stream",
     "text": [
      "q per prior notes Folate ALL Lisinopril cough SH Tob occas cigar EtOH used to have EtOH problems IVDA  -  824\n",
      "Lives w yo son.  -  825\n",
      "Has yo daughter who lives w his sister.  -  826\n",
      "Widower x yrs.  -  827\n",
      "FH Mom w PM at age died of MI at .  -  828\n"
     ]
    },
    {
     "name": "stderr",
     "output_type": "stream",
     "text": [
      "\r",
      " 84%|██████████████████████████████████████████████████████████████████▊             | 835/999 [00:42<00:06, 24.02it/s]"
     ]
    },
    {
     "name": "stdout",
     "output_type": "stream",
     "text": [
      "Father w EtOH HTN.  -  829\n",
      "Sister w miscarriages.  -  830\n",
      "VS on RA General WNWD NAD  -  831\n",
      "HEENT NCAT.  -  832\n",
      "No scleral icterus.  -  833\n",
      "MMM.  -  834\n",
      "OP benign.  -  835\n",
      "Neck Supple no carotid bruits.  -  836\n",
      "CV RRR S S. IIIIIVI sys murmur best at RUSB rad to clav and neck.  -  837\n",
      "second murmur at axilla systolic as well vs. Galiverdins sign.  -  838\n"
     ]
    },
    {
     "name": "stderr",
     "output_type": "stream",
     "text": [
      " 85%|███████████████████████████████████████████████████████████████████▋            | 845/999 [00:42<00:04, 31.56it/s]"
     ]
    },
    {
     "name": "stdout",
     "output_type": "stream",
     "text": [
      "Resp CTAB.  -  839\n",
      "No rwr Abd BS.  -  840\n",
      "SoftNTND.  -  841\n",
      "Ext No CCE DP bilat.  -  842\n",
      "Skin  -  843\n",
      "No rashes intact.  -  844\n",
      "Neuro MS Conversationally intact.  -  845\n",
      "CN IIIII Pupils mm round reactive to light to mm visual field full to confrontation optic discs sharp IIIIVVIextraocular movements full wo nystagmus L eyelid is slightly weaker longstanding since L eye problem Vsensation to LT and pinprick intact bilaterally VIIfacial expression muscles symmetric without weakness IXXpalate elevates symmetrically XISCMs XIItongue protrudes midline Motor normal bulk and tone no tremor.  -  846\n"
     ]
    },
    {
     "name": "stderr",
     "output_type": "stream",
     "text": [
      "\r",
      " 85%|████████████████████████████████████████████████████████████████████            | 850/999 [00:43<00:06, 23.38it/s]"
     ]
    },
    {
     "name": "stdout",
     "output_type": "stream",
     "text": [
      "No pronator drift.  -  847\n",
      "Delt ElF ElE WrE FE IO HpF KnE KnF Dors Plan EHL L R Sensory endorses a difference in sensation to LT and temp RLE vs. LLE.  -  848\n",
      "Zone of difference feels colder is most pronounced R lateral calf area not a particular dermatomal distribution also w toe position sense mildly decreased R great toe.  -  849\n",
      "Mild vibratory loss to ankles bilat symmetrical.  -  850\n",
      "Reflex Bic Tric Bra Hoff Pat Ank Toes L Neg  -  851\n"
     ]
    },
    {
     "name": "stderr",
     "output_type": "stream",
     "text": [
      " 86%|████████████████████████████████████████████████████████████████████▊           | 860/999 [00:43<00:04, 30.66it/s]"
     ]
    },
    {
     "name": "stdout",
     "output_type": "stream",
     "text": [
      "Down R Neg Up Coord no dysmetria on fingernosefinger or heelkneeshin  -  852\n",
      "Gait favors L leg slightly when walking Romberg  -  853\n",
      "normal LABSSTUDIES Chemistry LytesRenalGlucose  -  854\n",
      "Sodium mmolL L Potassium . ..  -  855\n",
      "mmolL .H  -  856\n",
      "Chloride H  -  857\n",
      "mmolL H Carbon Dioxide . ..  -  858\n",
      "mmolL .L BUN mgdl Creatinine . ..  -  859\n",
      "mgdl Glucose H mgdl H General Chemistries Calcium . ..  -  860\n"
     ]
    },
    {
     "name": "stderr",
     "output_type": "stream",
     "text": [
      "\r",
      " 87%|█████████████████████████████████████████████████████████████████████▎          | 865/999 [00:43<00:03, 34.37it/s]"
     ]
    },
    {
     "name": "stdout",
     "output_type": "stream",
     "text": [
      "mgdl .L Phosphorus . ..  -  861\n",
      "mgdl .L  -  862\n",
      "Magnesium . ..  -  863\n",
      "meqL Lipid Tests Cholesterol mgdl H  -  864\n",
      "Triglycerides H mgdl H HDL Cholesterol L mgdl L LDL Cholesterol mgdl CholHDL Ratio .  -  865\n",
      "Chemistry Miscellaneous Calc Mean Bld...  -  866\n",
      "mg Chemistry Com... see detail Hemoglobin AC .H .. .H  -  867\n",
      "Hematology Complete Blood Count WBC .  -  868\n"
     ]
    },
    {
     "name": "stderr",
     "output_type": "stream",
     "text": [
      " 88%|██████████████████████████████████████████████████████████████████████▏         | 876/999 [00:43<00:03, 38.36it/s]"
     ]
    },
    {
     "name": "stdout",
     "output_type": "stream",
     "text": [
      ".. thcmm .H RBC .  -  869\n",
      "..  -  870\n",
      "milcm .L  -  871\n",
      "Hgb . ..  -  872\n",
      "gmdl .L HCT .L ..  -  873\n",
      ".L  -  874\n",
      "MCV fl MCH . ..  -  875\n",
      "pgrbc MCHC . ..  -  876\n",
      "gdl PLT thcumm RDW . ..  -  877\n",
      "Other Hematology ESR mmhr Urinalysis Negative Therapeutic Drugs Therapeutic Drug Monitoring Lithium .L ..  -  878\n"
     ]
    },
    {
     "name": "stderr",
     "output_type": "stream",
     "text": [
      "\r",
      " 88%|██████████████████████████████████████████████████████████████████████▌         | 881/999 [00:43<00:03, 30.36it/s]"
     ]
    },
    {
     "name": "stdout",
     "output_type": "stream",
     "text": [
      "mmolL .L MRI brain Acutesubacute infarcts DWI brightADC darkFLAIR bright in L cerebellum punctate and R precentral gyrus small elliptical area.  -  879\n",
      "CTA headneck has aberrant origin of R vert from CCA both ACAs come off of L carotid also w bilateral fetal PCAs and likely congenitally small vertebrobasilar vessels.  -  880\n",
      "No significant focal stenoses or atheromatous calcifications.  -  881\n",
      "EKG pending MRI LS spine negative IMPRESSION yoRHM w PMH signif for CAD DM Bipolar disorder afib sp recent cardiac cath who presents w LUE weakness d prior to admission resolving after days and RLE weaknesssensory deficit Imaging reveals R precentral gyrus small infarct L cerebellar infarct no significant vessel stenoses.  -  882\n"
     ]
    },
    {
     "name": "stderr",
     "output_type": "stream",
     "text": [
      "\r",
      " 89%|██████████████████████████████████████████████████████████████████████▊         | 885/999 [00:44<00:04, 22.95it/s]"
     ]
    },
    {
     "name": "stdout",
     "output_type": "stream",
     "text": [
      "Neuro exam w brisker reflexes on R equivocal RLE weakness R sensory sx R upgoing toe.  -  883\n",
      "Clinical picture and imaging are not consistent.  -  884\n",
      "Unclear if pt is a poor historian and current sx are nonobjective sensory findings and meaningful event was LUE weakness  -  885\n",
      "d ago.  -  886\n",
      "NEURO stroke wu including TTEHolter lipidslipoproteinhomocysteine.  -  887\n",
      "Will also send hypercoag wu including hypercoag panel PT Factor V Leiden APLA lupus anticoagulant given hx of retinal venous thrombus and young age.  -  888\n"
     ]
    },
    {
     "name": "stderr",
     "output_type": "stream",
     "text": [
      " 89%|███████████████████████████████████████████████████████████████████████▍        | 892/999 [00:44<00:04, 23.14it/s]"
     ]
    },
    {
     "name": "stdout",
     "output_type": "stream",
     "text": [
      "Will also send BCx given recent cardiac cath although ESR wnl reassuring re of endocarditis.  -  889\n",
      "Will check Ac re of adequate DM control.  -  890\n",
      "Given psych hx will check tox screen and LFTs.  -  891\n",
      "Unclear if afib was only in context of postcath post Vfib.  -  892\n",
      "Will look for LAE holter abnl.  -  893\n",
      "Could make a case to anticoagulate regardless as has had documented afib.  -  894\n"
     ]
    },
    {
     "name": "stderr",
     "output_type": "stream",
     "text": [
      " 90%|████████████████████████████████████████████████████████████████████████        | 900/999 [00:44<00:03, 26.07it/s]"
     ]
    },
    {
     "name": "stdout",
     "output_type": "stream",
     "text": [
      "CV hold antihtn meds now.  -  895\n",
      "Continue lipitor at outpt dose.  -  896\n",
      "Allow SBP up to .  -  897\n",
      "PSYCH continue w depakote and lithium.  -  898\n",
      "Mood is ok now but will need to be monitored.  -  899\n"
     ]
    },
    {
     "name": "stderr",
     "output_type": "stream",
     "text": [
      "\r",
      " 90%|████████████████████████████████████████████████████████████████████████▍       | 904/999 [00:44<00:03, 27.69it/s]"
     ]
    },
    {
     "name": "stdout",
     "output_type": "stream",
     "text": [
      "FEN no IVF ada low chollow fat diet.  -  900\n",
      "ENDO NPH bid for now titrate up as needed RISS.  -  901\n",
      "Checking Ac.  -  902\n",
      "PPX put on sc fragmin nexium.  -  903\n",
      "Pneumoboots.  -  904\n",
      "Anna V. WendyBird MD HPC Neuro Resident Case discussed w Vern Snow senior resident.  -  905\n",
      "Record date Campbell Orthopedic Associates Madera Circle Omak GA Habib Valenzuela M.D. Valdez Harlan Jr.  -  906\n"
     ]
    },
    {
     "name": "stderr",
     "output_type": "stream",
     "text": [
      "\r",
      " 91%|████████████████████████████████████████████████████████████████████████▋       | 908/999 [00:45<00:03, 25.83it/s]"
     ]
    },
    {
     "name": "stdout",
     "output_type": "stream",
     "text": [
      "February Har is a year old pound gentleman who is referred for consultation by Dr. Harlan Oneil.  -  907\n",
      "About a week ago he slipped on the driveway at home and sustained an injury to his left ankle.  -  908\n",
      "He was seen at TriCity Hospital and was told he had a fracture.  -  909\n",
      "He was placed in an air splint and advised to be partial weight bearing and he is using a cane.  -  910\n"
     ]
    },
    {
     "name": "stderr",
     "output_type": "stream",
     "text": [
      " 91%|█████████████████████████████████████████████████████████████████████████▏      | 914/999 [00:45<00:03, 23.87it/s]"
     ]
    },
    {
     "name": "stdout",
     "output_type": "stream",
     "text": [
      "He is here for routine followup.  -  911\n",
      "Past medical history is notable for no ankle injuries previously.  -  912\n",
      "He has a history of diabetes and sleep apnea.  -  913\n",
      "He takes Prozac Cardizem Glucophage and Amaryl.  -  914\n",
      "He is also followed by Dr. Harold Nutter for an arrhythmia.  -  915\n",
      "He does not smoke.  -  916\n",
      "He drinks minimally.  -  917\n"
     ]
    },
    {
     "name": "stderr",
     "output_type": "stream",
     "text": [
      " 92%|█████████████████████████████████████████████████████████████████████████▊      | 921/999 [00:45<00:03, 24.97it/s]"
     ]
    },
    {
     "name": "stdout",
     "output_type": "stream",
     "text": [
      "He is a set designer at Columbia Pictures.  -  918\n",
      "On examination today he has slight tenderness of the left ankle about four fingerbreadths above the malleolus.  -  919\n",
      "The malleolus is nontender medially or laterally with no ligamentous tenderness either.  -  920\n",
      "Dorsal flexion and plantar flexion is without pain.  -  921\n",
      "There is no significant swelling.  -  922\n"
     ]
    },
    {
     "name": "stderr",
     "output_type": "stream",
     "text": [
      " 93%|██████████████████████████████████████████████████████████████████████████▎     | 928/999 [00:45<00:02, 28.19it/s]"
     ]
    },
    {
     "name": "stdout",
     "output_type": "stream",
     "text": [
      "There are no some skin changes with some small abrasions proximally.  -  923\n",
      "There is no fibular tenderness proximally.  -  924\n",
      "No anterior pain is noted.  -  925\n",
      "No hindfoot midfoot or forefoot tenderness is noted.  -  926\n",
      "I would like him to use a tube sock with his air cast.  -  927\n",
      "He is using a cane for ambulation.  -  928\n",
      "His xrays do not show a notable fracture pattern today and we will await the Radiology opinion.  -  929\n"
     ]
    },
    {
     "name": "stderr",
     "output_type": "stream",
     "text": [
      "\r",
      " 93%|██████████████████████████████████████████████████████████████████████████▋     | 932/999 [00:46<00:02, 26.58it/s]"
     ]
    },
    {
     "name": "stdout",
     "output_type": "stream",
     "text": [
      "I would like him to stay in the air splint with the sock.  -  930\n",
      "I will see him back in six weeks for review at the Boxborough office.  -  931\n",
      "Diagnosis Left ankle fracture.  -  932\n",
      "Habib Valenzuela M.D.  -  933\n",
      "HVkuntz Mmedical cc Harlan Oneil M.D.  -  934\n",
      "Harold Nutter M.D. Doctors Hospital North Bruce St Omak GA Habib Valenzuela M.D. DD DT DV Not reviewed by Attending Physician  -  935\n"
     ]
    },
    {
     "name": "stderr",
     "output_type": "stream",
     "text": [
      " 94%|███████████████████████████████████████████████████████████████████████████▎    | 940/999 [00:46<00:02, 28.58it/s]"
     ]
    },
    {
     "name": "stdout",
     "output_type": "stream",
     "text": [
      "Record date CAMPBELL EMERGENCY DEPT VISIT VALDEZHARLANJR.  -  936\n",
      "VISIT DATE  -  937\n",
      "The patient was seen and examined in the emergency department.  -  938\n",
      "The patient was seen by the Emergency Medicine resident.  -  939\n",
      "I have discussed the management with the resident.  -  940\n",
      "I have also seen the patient primarily and reviewed the medical record.  -  941\n",
      "This is a brief addendum to the medical record.  -  942\n"
     ]
    },
    {
     "name": "stderr",
     "output_type": "stream",
     "text": [
      " 95%|███████████████████████████████████████████████████████████████████████████▊    | 946/999 [00:46<00:02, 25.93it/s]"
     ]
    },
    {
     "name": "stdout",
     "output_type": "stream",
     "text": [
      "HISTORY OF PRESENTING COMPLAINT  -  943\n",
      "Briefly this is a yearold male who complains of several days of nausea vomiting and left lower quadrant discomfort.  -  944\n",
      "He also describes intermittent chest pain which he has had for a number of months without significant change.  -  945\n",
      "He was sent in from his primary care doctor today with this pain and was also noted to have some EKG changes.  -  946\n",
      "The patient has no chest pain at the time of evaluation in the emergency department and no shortness of breath.  -  947\n"
     ]
    },
    {
     "name": "stderr",
     "output_type": "stream",
     "text": [
      " 95%|████████████████████████████████████████████████████████████████████████████▍   | 954/999 [00:46<00:01, 27.52it/s]"
     ]
    },
    {
     "name": "stdout",
     "output_type": "stream",
     "text": [
      "REVIEW OF SYSTEMS  -  948\n",
      "As indicated and otherwise negative.  -  949\n",
      "PAST MEDICAL HISTORY  -  950\n",
      "As indicated in the chart.  -  951\n",
      "SOCIAL HISTORY AND FAMILY HISTORY  -  952\n",
      "As indicated in the chart.  -  953\n",
      "PHYSICAL EXAMINATION  -  954\n",
      "On physical examination the patient is very wellappearing a smiling very pleasant gentleman in no acute distress.  -  955\n"
     ]
    },
    {
     "name": "stderr",
     "output_type": "stream",
     "text": [
      " 96%|█████████████████████████████████████████████████████████████████████████████   | 962/999 [00:47<00:01, 31.18it/s]"
     ]
    },
    {
     "name": "stdout",
     "output_type": "stream",
     "text": [
      "The blood pressure is the pulse and the temperature .  -  956\n",
      "degrees.  -  957\n",
      "Normocephalic and atraumatic.  -  958\n",
      "The chest is clear to auscultation.  -  959\n",
      "The heart has a regular rate and rhythm.  -  960\n",
      "The abdomen is soft.  -  961\n",
      "He has left lower quadrant tenderness.  -  962\n",
      "He also of note on cardiovascular examination has a soft murmur which he says he has had since childhood.  -  963\n"
     ]
    },
    {
     "name": "stderr",
     "output_type": "stream",
     "text": [
      " 97%|█████████████████████████████████████████████████████████████████████████████▊  | 971/999 [00:47<00:00, 31.56it/s]"
     ]
    },
    {
     "name": "stdout",
     "output_type": "stream",
     "text": [
      "The extremities are normal.  -  964\n",
      "The neurologic examination is nonfocal.  -  965\n",
      "THERAPY  -  966\n",
      "RENDEREDCOURSE  -  967\n",
      "IN ED  -  968\n",
      "This is a gentleman with abdominal pain who will receive a CAT scan to rule out diverticulitis.  -  969\n",
      "He has also had some nonspecific ST changes on his EKG.  -  970\n"
     ]
    },
    {
     "name": "stderr",
     "output_type": "stream",
     "text": [
      "\r",
      " 98%|██████████████████████████████████████████████████████████████████████████████  | 975/999 [00:47<00:00, 26.80it/s]"
     ]
    },
    {
     "name": "stdout",
     "output_type": "stream",
     "text": [
      "He is painfree at this time.  -  971\n",
      "He does not describe a classic exertional pattern for his chest pain but given that he is a diabetic and with EKG changes he will also be admitted for rule out MI.  -  972\n",
      "A CT is pending at the time of this dictation.  -  973\n",
      "DISPOSITION including condition upon discharge As above.  -  974\n"
     ]
    },
    {
     "name": "stderr",
     "output_type": "stream",
     "text": [
      "\r",
      " 98%|██████████████████████████████████████████████████████████████████████████████▍ | 979/999 [00:47<00:00, 29.60it/s]"
     ]
    },
    {
     "name": "stdout",
     "output_type": "stream",
     "text": [
      "The patients condition is currently stable.  -  975\n",
      "CK JAY CARROLL  -  976\n",
      "M.D. JC D T Dictated by JAY CARROLL  -  977\n",
      "M.D. JC Not reviewed by Attending Physician  -  978\n",
      "Record date September Vicente Blair M.D. Internal Medical Doctors Hospital North Omak Georgia RE  -  979\n",
      "VALDEZ Harlan DHN DATE OF BIRTH CURRENT CLINIC VISIT  -  980\n",
      "DATE Dear Vicente Thank you in advance for allowing me to share in the medical care of Mr. Harlan B. Valdez a yearold male patient with prior polysomnographic evidence of sleep disordered breathing as well as a history of difficulty in sleep reinitiation and maintenance and increased early morning awakenings as well as mixed systemic medical conditions.  -  981\n"
     ]
    },
    {
     "name": "stderr",
     "output_type": "stream",
     "text": [
      "\r",
      " 98%|██████████████████████████████████████████████████████████████████████████████▋ | 983/999 [00:47<00:00, 23.60it/s]"
     ]
    },
    {
     "name": "stdout",
     "output_type": "stream",
     "text": [
      "HISTORY OF PRESENT ILLNESS  -  982\n",
      "As you already know Mr. Valdez who demonstrates a history of difficulties of sleep reinitiation and maintenance as well as increased early morning awakenings has noted an exacerbation of these sleep difficulties occurring in temporal association with his loss of his wife from pancreatic cancer last year.  -  983\n",
      "He is now placed in the unfortunate situation of being a single parent to a yearold son and a yearold daughter and describes a modification of his current employment duties of a set designer.  -  984\n"
     ]
    },
    {
     "name": "stderr",
     "output_type": "stream",
     "text": [
      "\r",
      " 99%|██████████████████████████████████████████████████████████████████████████████▉ | 986/999 [00:48<00:00, 15.58it/s]"
     ]
    },
    {
     "name": "stdout",
     "output_type": "stream",
     "text": [
      "In particular Mr. Valdez describes undergoing on frequent international travelling which has bee markedly curtailed as he is tending to his family situation closer to home.  -  985\n",
      "He described a history of intermittent snoring symptomatology but is unaware of specific nocturnal respiratory pauses.  -  986\n",
      "He is unaware of a restless lower limb sensory complaints which may impact on his ability to initiate or reinitiate sleep.  -  987\n"
     ]
    },
    {
     "name": "stderr",
     "output_type": "stream",
     "text": [
      "\r",
      " 99%|███████████████████████████████████████████████████████████████████████████████▏| 989/999 [00:48<00:00, 15.42it/s]"
     ]
    },
    {
     "name": "stdout",
     "output_type": "stream",
     "text": [
      "He denies a history of a night owl personality or circadian rhythm dysfunction which may have played a role with respect to nocturnal sleep disruptions or sleep difficulties.  -  988\n",
      "He denies a history of paroxysmal abnormal disturbances or associated narcoleptic symptoms.  -  989\n",
      "Mr. Valdez underwent an initial formal polysomnographic evaluation at the center for sleep diagnostics at Holy Cross on during which time he was noted to demonstrate a respiratory disturbance index of hour particularly exacerbated in the supine position and characterized predominantly by hypopneas with equal distribution during nonREM and stage REM sleep and with associated O desaturation Nadir of The respiratory disturbances were predominantly obstructive or mixed hypopneas.  -  990\n"
     ]
    },
    {
     "name": "stderr",
     "output_type": "stream",
     "text": [
      " 99%|███████████████████████████████████████████████████████████████████████████████▌| 994/999 [00:48<00:00, 14.51it/s]"
     ]
    },
    {
     "name": "stdout",
     "output_type": "stream",
     "text": [
      "In addition loud snoring was noted.  -  991\n",
      "There was evidence of a sleep efficiency of and a short sleep onset latency of minutes.  -  992\n",
      "There was a predominance of light nonREM stages III sleep and a concomitant inability to achieve significant slowwave or stage REM sleep.  -  993\n",
      "There was also alpha intrusions and alpha delta sleep evident during the initial sleep study.  -  994\n",
      "In addition premature ventricular contractions were noted.  -  995\n"
     ]
    },
    {
     "name": "stderr",
     "output_type": "stream",
     "text": [
      "\r",
      "100%|███████████████████████████████████████████████████████████████████████████████▊| 997/999 [00:48<00:00, 14.79it/s]"
     ]
    },
    {
     "name": "stdout",
     "output_type": "stream",
     "text": [
      "The patient underwent a CPAP titration on also at the Tenacre Foundation Nursing Home in Boxborough during which time there was a marked reduction in the frequency of hypopneas respiratory disturbance index equals hour with CPAP titrations between cm.  -  996\n",
      "Sleep efficiency improved to a short sleep onset latency was also noted minutes.  -  997\n",
      "There was once again an increased predominance of light nonREM stage III sleep with concomitant inability to achieve sustained slow wave sleep.  -  998\n"
     ]
    },
    {
     "name": "stderr",
     "output_type": "stream",
     "text": [
      "100%|████████████████████████████████████████████████████████████████████████████████| 999/999 [00:49<00:00, 20.35it/s]"
     ]
    },
    {
     "name": "stdout",
     "output_type": "stream",
     "text": [
      "Wall time: 49.1 s\n"
     ]
    },
    {
     "name": "stderr",
     "output_type": "stream",
     "text": [
      "\n"
     ]
    }
   ],
   "source": [
    "%%time\n",
    "train_df = get_training_data_corpus(rpt_sentences)"
   ]
  },
  {
   "cell_type": "code",
   "execution_count": 211,
   "metadata": {},
   "outputs": [
    {
     "data": {
      "text/html": [
       "<div>\n",
       "<style scoped>\n",
       "    .dataframe tbody tr th:only-of-type {\n",
       "        vertical-align: middle;\n",
       "    }\n",
       "\n",
       "    .dataframe tbody tr th {\n",
       "        vertical-align: top;\n",
       "    }\n",
       "\n",
       "    .dataframe thead th {\n",
       "        text-align: right;\n",
       "    }\n",
       "</style>\n",
       "<table border=\"1\" class=\"dataframe\">\n",
       "  <thead>\n",
       "    <tr style=\"text-align: right;\">\n",
       "      <th></th>\n",
       "      <th>Sentence #</th>\n",
       "      <th>Word</th>\n",
       "      <th>POS</th>\n",
       "      <th>Tag</th>\n",
       "    </tr>\n",
       "  </thead>\n",
       "  <tbody>\n",
       "    <tr>\n",
       "      <th>0</th>\n",
       "      <td>0</td>\n",
       "      <td>Record</td>\n",
       "      <td>NOUN</td>\n",
       "      <td></td>\n",
       "    </tr>\n",
       "    <tr>\n",
       "      <th>1</th>\n",
       "      <td>0</td>\n",
       "      <td>date</td>\n",
       "      <td>NOUN</td>\n",
       "      <td></td>\n",
       "    </tr>\n",
       "    <tr>\n",
       "      <th>2</th>\n",
       "      <td>0</td>\n",
       "      <td>Campbell</td>\n",
       "      <td>PROPN</td>\n",
       "      <td></td>\n",
       "    </tr>\n",
       "    <tr>\n",
       "      <th>3</th>\n",
       "      <td>0</td>\n",
       "      <td>Orthopedic</td>\n",
       "      <td>PROPN</td>\n",
       "      <td></td>\n",
       "    </tr>\n",
       "    <tr>\n",
       "      <th>4</th>\n",
       "      <td>0</td>\n",
       "      <td>Associates</td>\n",
       "      <td>PROPN</td>\n",
       "      <td></td>\n",
       "    </tr>\n",
       "    <tr>\n",
       "      <th>...</th>\n",
       "      <td>...</td>\n",
       "      <td>...</td>\n",
       "      <td>...</td>\n",
       "      <td>...</td>\n",
       "    </tr>\n",
       "    <tr>\n",
       "      <th>13584</th>\n",
       "      <td>998</td>\n",
       "      <td>sustained</td>\n",
       "      <td>ADJ</td>\n",
       "      <td></td>\n",
       "    </tr>\n",
       "    <tr>\n",
       "      <th>13585</th>\n",
       "      <td>998</td>\n",
       "      <td>slow</td>\n",
       "      <td>ADJ</td>\n",
       "      <td></td>\n",
       "    </tr>\n",
       "    <tr>\n",
       "      <th>13586</th>\n",
       "      <td>998</td>\n",
       "      <td>wave</td>\n",
       "      <td>NOUN</td>\n",
       "      <td></td>\n",
       "    </tr>\n",
       "    <tr>\n",
       "      <th>13587</th>\n",
       "      <td>998</td>\n",
       "      <td>sleep</td>\n",
       "      <td>NOUN</td>\n",
       "      <td></td>\n",
       "    </tr>\n",
       "    <tr>\n",
       "      <th>13588</th>\n",
       "      <td>998</td>\n",
       "      <td>.</td>\n",
       "      <td>PUNCT</td>\n",
       "      <td></td>\n",
       "    </tr>\n",
       "  </tbody>\n",
       "</table>\n",
       "<p>13589 rows × 4 columns</p>\n",
       "</div>"
      ],
      "text/plain": [
       "      Sentence #        Word    POS Tag\n",
       "0              0      Record   NOUN    \n",
       "1              0        date   NOUN    \n",
       "2              0    Campbell  PROPN    \n",
       "3              0  Orthopedic  PROPN    \n",
       "4              0  Associates  PROPN    \n",
       "...          ...         ...    ...  ..\n",
       "13584        998   sustained    ADJ    \n",
       "13585        998        slow    ADJ    \n",
       "13586        998        wave   NOUN    \n",
       "13587        998       sleep   NOUN    \n",
       "13588        998           .  PUNCT    \n",
       "\n",
       "[13589 rows x 4 columns]"
      ]
     },
     "execution_count": 211,
     "metadata": {},
     "output_type": "execute_result"
    }
   ],
   "source": [
    "train_df"
   ]
  },
  {
   "cell_type": "code",
   "execution_count": 212,
   "metadata": {},
   "outputs": [],
   "source": [
    "train_df.to_csv(\"rpt_words_clean_24April.csv\")"
   ]
  },
  {
   "cell_type": "code",
   "execution_count": 213,
   "metadata": {},
   "outputs": [
    {
     "data": {
      "text/html": [
       "<div>\n",
       "<style scoped>\n",
       "    .dataframe tbody tr th:only-of-type {\n",
       "        vertical-align: middle;\n",
       "    }\n",
       "\n",
       "    .dataframe tbody tr th {\n",
       "        vertical-align: top;\n",
       "    }\n",
       "\n",
       "    .dataframe thead th {\n",
       "        text-align: right;\n",
       "    }\n",
       "</style>\n",
       "<table border=\"1\" class=\"dataframe\">\n",
       "  <thead>\n",
       "    <tr style=\"text-align: right;\">\n",
       "      <th></th>\n",
       "      <th>Sentence #</th>\n",
       "      <th>Word</th>\n",
       "      <th>POS</th>\n",
       "      <th>Tag</th>\n",
       "    </tr>\n",
       "  </thead>\n",
       "  <tbody>\n",
       "    <tr>\n",
       "      <th>3946</th>\n",
       "      <td>283</td>\n",
       "      <td>lipidslipoproteinhomocysteine</td>\n",
       "      <td>NOUN</td>\n",
       "      <td></td>\n",
       "    </tr>\n",
       "    <tr>\n",
       "      <th>8068</th>\n",
       "      <td>585</td>\n",
       "      <td>lipidslipoproteinhomocysteine</td>\n",
       "      <td>NOUN</td>\n",
       "      <td></td>\n",
       "    </tr>\n",
       "    <tr>\n",
       "      <th>12190</th>\n",
       "      <td>887</td>\n",
       "      <td>lipidslipoproteinhomocysteine</td>\n",
       "      <td>NOUN</td>\n",
       "      <td></td>\n",
       "    </tr>\n",
       "  </tbody>\n",
       "</table>\n",
       "</div>"
      ],
      "text/plain": [
       "      Sentence #                           Word   POS Tag\n",
       "3946         283  lipidslipoproteinhomocysteine  NOUN    \n",
       "8068         585  lipidslipoproteinhomocysteine  NOUN    \n",
       "12190        887  lipidslipoproteinhomocysteine  NOUN    "
      ]
     },
     "execution_count": 213,
     "metadata": {},
     "output_type": "execute_result"
    }
   ],
   "source": [
    "train_df.loc[train_df['Word'].str.len() == train_df['Word'].str.len().max()]"
   ]
  },
  {
   "cell_type": "code",
   "execution_count": 220,
   "metadata": {},
   "outputs": [],
   "source": [
    "train_df['Word_clean'] = train_df['Word'].apply(lambda x: x.strip())"
   ]
  },
  {
   "cell_type": "code",
   "execution_count": 221,
   "metadata": {},
   "outputs": [
    {
     "data": {
      "text/plain": [
       "(29, 29)"
      ]
     },
     "execution_count": 221,
     "metadata": {},
     "output_type": "execute_result"
    }
   ],
   "source": [
    "train_df['Word'].str.len().max(), train_df['Word_clean'].str.len().max()"
   ]
  },
  {
   "cell_type": "code",
   "execution_count": 222,
   "metadata": {},
   "outputs": [],
   "source": [
    "train_df['Word'] = train_df['Word_clean']"
   ]
  },
  {
   "cell_type": "code",
   "execution_count": 223,
   "metadata": {},
   "outputs": [],
   "source": [
    "train_df = train_df.drop(['Word_clean'], axis = 1)"
   ]
  },
  {
   "cell_type": "code",
   "execution_count": 232,
   "metadata": {},
   "outputs": [],
   "source": [
    "train_df['Sty_avail'] = train_df['Word'].apply(lambda x: symantic_type_lookup(x))\n",
    "\n",
    "train_df['cui_avail'] = train_df['Word'].apply(lambda x: cui_lookup(x))"
   ]
  },
  {
   "cell_type": "code",
   "execution_count": 233,
   "metadata": {},
   "outputs": [
    {
     "data": {
      "text/html": [
       "<div>\n",
       "<style scoped>\n",
       "    .dataframe tbody tr th:only-of-type {\n",
       "        vertical-align: middle;\n",
       "    }\n",
       "\n",
       "    .dataframe tbody tr th {\n",
       "        vertical-align: top;\n",
       "    }\n",
       "\n",
       "    .dataframe thead th {\n",
       "        text-align: right;\n",
       "    }\n",
       "</style>\n",
       "<table border=\"1\" class=\"dataframe\">\n",
       "  <thead>\n",
       "    <tr style=\"text-align: right;\">\n",
       "      <th></th>\n",
       "      <th>Sentence #</th>\n",
       "      <th>Word</th>\n",
       "      <th>POS</th>\n",
       "      <th>Tag</th>\n",
       "      <th>Sty_avail</th>\n",
       "    </tr>\n",
       "  </thead>\n",
       "  <tbody>\n",
       "    <tr>\n",
       "      <th>0</th>\n",
       "      <td>0</td>\n",
       "      <td>Record</td>\n",
       "      <td>NOUN</td>\n",
       "      <td></td>\n",
       "      <td>Intellectual Product</td>\n",
       "    </tr>\n",
       "    <tr>\n",
       "      <th>1</th>\n",
       "      <td>0</td>\n",
       "      <td>date</td>\n",
       "      <td>NOUN</td>\n",
       "      <td></td>\n",
       "      <td>Food</td>\n",
       "    </tr>\n",
       "    <tr>\n",
       "      <th>2</th>\n",
       "      <td>0</td>\n",
       "      <td>Campbell</td>\n",
       "      <td>PROPN</td>\n",
       "      <td></td>\n",
       "      <td>Health Care Related Organization</td>\n",
       "    </tr>\n",
       "    <tr>\n",
       "      <th>3</th>\n",
       "      <td>0</td>\n",
       "      <td>Orthopedic</td>\n",
       "      <td>PROPN</td>\n",
       "      <td></td>\n",
       "      <td>Biomedical Occupation or Discipline</td>\n",
       "    </tr>\n",
       "    <tr>\n",
       "      <th>4</th>\n",
       "      <td>0</td>\n",
       "      <td>Associates</td>\n",
       "      <td>PROPN</td>\n",
       "      <td></td>\n",
       "      <td></td>\n",
       "    </tr>\n",
       "    <tr>\n",
       "      <th>...</th>\n",
       "      <td>...</td>\n",
       "      <td>...</td>\n",
       "      <td>...</td>\n",
       "      <td>...</td>\n",
       "      <td>...</td>\n",
       "    </tr>\n",
       "    <tr>\n",
       "      <th>13584</th>\n",
       "      <td>998</td>\n",
       "      <td>sustained</td>\n",
       "      <td>ADJ</td>\n",
       "      <td></td>\n",
       "      <td>Functional Concept</td>\n",
       "    </tr>\n",
       "    <tr>\n",
       "      <th>13585</th>\n",
       "      <td>998</td>\n",
       "      <td>slow</td>\n",
       "      <td>ADJ</td>\n",
       "      <td></td>\n",
       "      <td>Qualitative Concept</td>\n",
       "    </tr>\n",
       "    <tr>\n",
       "      <th>13586</th>\n",
       "      <td>998</td>\n",
       "      <td>wave</td>\n",
       "      <td>NOUN</td>\n",
       "      <td></td>\n",
       "      <td>Gene or Genome</td>\n",
       "    </tr>\n",
       "    <tr>\n",
       "      <th>13587</th>\n",
       "      <td>998</td>\n",
       "      <td>sleep</td>\n",
       "      <td>NOUN</td>\n",
       "      <td></td>\n",
       "      <td>Pharmacologic Substance</td>\n",
       "    </tr>\n",
       "    <tr>\n",
       "      <th>13588</th>\n",
       "      <td>998</td>\n",
       "      <td>.</td>\n",
       "      <td>PUNCT</td>\n",
       "      <td></td>\n",
       "      <td></td>\n",
       "    </tr>\n",
       "  </tbody>\n",
       "</table>\n",
       "<p>13589 rows × 5 columns</p>\n",
       "</div>"
      ],
      "text/plain": [
       "      Sentence #        Word    POS Tag                            Sty_avail\n",
       "0              0      Record   NOUN                     Intellectual Product\n",
       "1              0        date   NOUN                                     Food\n",
       "2              0    Campbell  PROPN         Health Care Related Organization\n",
       "3              0  Orthopedic  PROPN      Biomedical Occupation or Discipline\n",
       "4              0  Associates  PROPN                                         \n",
       "...          ...         ...    ...  ..                                  ...\n",
       "13584        998   sustained    ADJ                       Functional Concept\n",
       "13585        998        slow    ADJ                      Qualitative Concept\n",
       "13586        998        wave   NOUN                           Gene or Genome\n",
       "13587        998       sleep   NOUN                  Pharmacologic Substance\n",
       "13588        998           .  PUNCT                                         \n",
       "\n",
       "[13589 rows x 5 columns]"
      ]
     },
     "execution_count": 233,
     "metadata": {},
     "output_type": "execute_result"
    }
   ],
   "source": [
    "train_df"
   ]
  },
  {
   "cell_type": "code",
   "execution_count": 235,
   "metadata": {},
   "outputs": [],
   "source": [
    "train_df.to_csv(\"rpt_words_clean_1000.csv\")"
   ]
  },
  {
   "cell_type": "code",
   "execution_count": 7,
   "metadata": {},
   "outputs": [],
   "source": [
    "train_df = pd.read_csv(\"rpt_words_clean_1000.csv\")"
   ]
  },
  {
   "cell_type": "code",
   "execution_count": 9,
   "metadata": {},
   "outputs": [
    {
     "data": {
      "text/html": [
       "<div>\n",
       "<style scoped>\n",
       "    .dataframe tbody tr th:only-of-type {\n",
       "        vertical-align: middle;\n",
       "    }\n",
       "\n",
       "    .dataframe tbody tr th {\n",
       "        vertical-align: top;\n",
       "    }\n",
       "\n",
       "    .dataframe thead th {\n",
       "        text-align: right;\n",
       "    }\n",
       "</style>\n",
       "<table border=\"1\" class=\"dataframe\">\n",
       "  <thead>\n",
       "    <tr style=\"text-align: right;\">\n",
       "      <th></th>\n",
       "      <th>Unnamed: 0</th>\n",
       "      <th>Sentence #</th>\n",
       "      <th>Word</th>\n",
       "      <th>POS</th>\n",
       "      <th>Unnamed: 4</th>\n",
       "      <th>Sty_avail</th>\n",
       "      <th>cui_avail</th>\n",
       "    </tr>\n",
       "  </thead>\n",
       "  <tbody>\n",
       "    <tr>\n",
       "      <th>0</th>\n",
       "      <td>0</td>\n",
       "      <td>0</td>\n",
       "      <td>Record</td>\n",
       "      <td>NOUN</td>\n",
       "      <td>NaN</td>\n",
       "      <td>Intellectual Product</td>\n",
       "      <td>C0034869</td>\n",
       "    </tr>\n",
       "    <tr>\n",
       "      <th>1</th>\n",
       "      <td>1</td>\n",
       "      <td>0</td>\n",
       "      <td>date</td>\n",
       "      <td>NOUN</td>\n",
       "      <td>NaN</td>\n",
       "      <td>Food</td>\n",
       "      <td>C2348077</td>\n",
       "    </tr>\n",
       "    <tr>\n",
       "      <th>2</th>\n",
       "      <td>2</td>\n",
       "      <td>0</td>\n",
       "      <td>Campbell</td>\n",
       "      <td>PROPN</td>\n",
       "      <td>NaN</td>\n",
       "      <td>Health Care Related Organization</td>\n",
       "      <td>C0331936</td>\n",
       "    </tr>\n",
       "    <tr>\n",
       "      <th>3</th>\n",
       "      <td>3</td>\n",
       "      <td>0</td>\n",
       "      <td>Orthopedic</td>\n",
       "      <td>PROPN</td>\n",
       "      <td>NaN</td>\n",
       "      <td>Biomedical Occupation or Discipline</td>\n",
       "      <td>C0029355</td>\n",
       "    </tr>\n",
       "    <tr>\n",
       "      <th>4</th>\n",
       "      <td>4</td>\n",
       "      <td>0</td>\n",
       "      <td>Associates</td>\n",
       "      <td>PROPN</td>\n",
       "      <td>NaN</td>\n",
       "      <td>NaN</td>\n",
       "      <td></td>\n",
       "    </tr>\n",
       "  </tbody>\n",
       "</table>\n",
       "</div>"
      ],
      "text/plain": [
       "   Unnamed: 0  Sentence #        Word    POS Unnamed: 4  \\\n",
       "0           0           0      Record   NOUN        NaN   \n",
       "1           1           0        date   NOUN        NaN   \n",
       "2           2           0    Campbell  PROPN        NaN   \n",
       "3           3           0  Orthopedic  PROPN        NaN   \n",
       "4           4           0  Associates  PROPN        NaN   \n",
       "\n",
       "                             Sty_avail cui_avail  \n",
       "0                 Intellectual Product  C0034869  \n",
       "1                                 Food  C2348077  \n",
       "2     Health Care Related Organization  C0331936  \n",
       "3  Biomedical Occupation or Discipline  C0029355  \n",
       "4                                  NaN            "
      ]
     },
     "execution_count": 9,
     "metadata": {},
     "output_type": "execute_result"
    }
   ],
   "source": [
    "train_df.head()"
   ]
  },
  {
   "cell_type": "code",
   "execution_count": 11,
   "metadata": {},
   "outputs": [
    {
     "data": {
      "text/plain": [
       "Index(['Unnamed: 0', 'Sentence #', 'Word', 'POS', 'Unnamed: 4', 'Sty_avail',\n",
       "       'cui_avail'],\n",
       "      dtype='object')"
      ]
     },
     "execution_count": 11,
     "metadata": {},
     "output_type": "execute_result"
    }
   ],
   "source": [
    "train_df.columns"
   ]
  },
  {
   "cell_type": "code",
   "execution_count": 12,
   "metadata": {},
   "outputs": [],
   "source": [
    "train_df_new = train_df.copy()"
   ]
  },
  {
   "cell_type": "code",
   "execution_count": 13,
   "metadata": {},
   "outputs": [],
   "source": [
    "train_df_new = train_df_new.rename(columns={'Unnamed: 0': 'RNo', 'Unnamed: 4: ': 'Tag'})"
   ]
  },
  {
   "cell_type": "code",
   "execution_count": 16,
   "metadata": {},
   "outputs": [
    {
     "data": {
      "text/html": [
       "<div>\n",
       "<style scoped>\n",
       "    .dataframe tbody tr th:only-of-type {\n",
       "        vertical-align: middle;\n",
       "    }\n",
       "\n",
       "    .dataframe tbody tr th {\n",
       "        vertical-align: top;\n",
       "    }\n",
       "\n",
       "    .dataframe thead th {\n",
       "        text-align: right;\n",
       "    }\n",
       "</style>\n",
       "<table border=\"1\" class=\"dataframe\">\n",
       "  <thead>\n",
       "    <tr style=\"text-align: right;\">\n",
       "      <th></th>\n",
       "      <th>RNo</th>\n",
       "      <th>Sentence #</th>\n",
       "      <th>Word</th>\n",
       "      <th>POS</th>\n",
       "      <th>Tag</th>\n",
       "      <th>Sty_avail</th>\n",
       "      <th>cui_avail</th>\n",
       "    </tr>\n",
       "  </thead>\n",
       "  <tbody>\n",
       "    <tr>\n",
       "      <th>0</th>\n",
       "      <td>0</td>\n",
       "      <td>0</td>\n",
       "      <td>Record</td>\n",
       "      <td>NOUN</td>\n",
       "      <td>NaN</td>\n",
       "      <td>Intellectual Product</td>\n",
       "      <td>C0034869</td>\n",
       "    </tr>\n",
       "    <tr>\n",
       "      <th>1</th>\n",
       "      <td>1</td>\n",
       "      <td>0</td>\n",
       "      <td>date</td>\n",
       "      <td>NOUN</td>\n",
       "      <td>NaN</td>\n",
       "      <td>Food</td>\n",
       "      <td>C2348077</td>\n",
       "    </tr>\n",
       "    <tr>\n",
       "      <th>2</th>\n",
       "      <td>2</td>\n",
       "      <td>0</td>\n",
       "      <td>Campbell</td>\n",
       "      <td>PROPN</td>\n",
       "      <td>NaN</td>\n",
       "      <td>Health Care Related Organization</td>\n",
       "      <td>C0331936</td>\n",
       "    </tr>\n",
       "    <tr>\n",
       "      <th>3</th>\n",
       "      <td>3</td>\n",
       "      <td>0</td>\n",
       "      <td>Orthopedic</td>\n",
       "      <td>PROPN</td>\n",
       "      <td>NaN</td>\n",
       "      <td>Biomedical Occupation or Discipline</td>\n",
       "      <td>C0029355</td>\n",
       "    </tr>\n",
       "    <tr>\n",
       "      <th>4</th>\n",
       "      <td>4</td>\n",
       "      <td>0</td>\n",
       "      <td>Associates</td>\n",
       "      <td>PROPN</td>\n",
       "      <td>NaN</td>\n",
       "      <td>NaN</td>\n",
       "      <td></td>\n",
       "    </tr>\n",
       "  </tbody>\n",
       "</table>\n",
       "</div>"
      ],
      "text/plain": [
       "   RNo  Sentence #        Word    POS  Tag  \\\n",
       "0    0           0      Record   NOUN  NaN   \n",
       "1    1           0        date   NOUN  NaN   \n",
       "2    2           0    Campbell  PROPN  NaN   \n",
       "3    3           0  Orthopedic  PROPN  NaN   \n",
       "4    4           0  Associates  PROPN  NaN   \n",
       "\n",
       "                             Sty_avail cui_avail  \n",
       "0                 Intellectual Product  C0034869  \n",
       "1                                 Food  C2348077  \n",
       "2     Health Care Related Organization  C0331936  \n",
       "3  Biomedical Occupation or Discipline  C0029355  \n",
       "4                                  NaN            "
      ]
     },
     "execution_count": 16,
     "metadata": {},
     "output_type": "execute_result"
    }
   ],
   "source": [
    "train_df_new.head()"
   ]
  },
  {
   "cell_type": "code",
   "execution_count": 15,
   "metadata": {},
   "outputs": [],
   "source": [
    "train_df_new.rename(columns={'Unnamed: 4': 'Tag'}, inplace= True)"
   ]
  },
  {
   "cell_type": "code",
   "execution_count": 18,
   "metadata": {},
   "outputs": [
    {
     "name": "stdout",
     "output_type": "stream",
     "text": [
      "<class 'pandas.core.frame.DataFrame'>\n",
      "RangeIndex: 13589 entries, 0 to 13588\n",
      "Data columns (total 7 columns):\n",
      " #   Column      Non-Null Count  Dtype \n",
      "---  ------      --------------  ----- \n",
      " 0   RNo         13589 non-null  int64 \n",
      " 1   Sentence #  13589 non-null  int64 \n",
      " 2   Word        13589 non-null  object\n",
      " 3   POS         13589 non-null  object\n",
      " 4   Tag         1 non-null      object\n",
      " 5   Sty_avail   10795 non-null  object\n",
      " 6   cui_avail   13589 non-null  object\n",
      "dtypes: int64(2), object(5)\n",
      "memory usage: 743.3+ KB\n"
     ]
    }
   ],
   "source": [
    "train_df_new.info()"
   ]
  },
  {
   "cell_type": "code",
   "execution_count": null,
   "metadata": {},
   "outputs": [],
   "source": []
  },
  {
   "cell_type": "code",
   "execution_count": null,
   "metadata": {},
   "outputs": [],
   "source": []
  },
  {
   "cell_type": "code",
   "execution_count": null,
   "metadata": {},
   "outputs": [],
   "source": []
  },
  {
   "cell_type": "code",
   "execution_count": 224,
   "metadata": {},
   "outputs": [
    {
     "data": {
      "text/html": [
       "<div>\n",
       "<style scoped>\n",
       "    .dataframe tbody tr th:only-of-type {\n",
       "        vertical-align: middle;\n",
       "    }\n",
       "\n",
       "    .dataframe tbody tr th {\n",
       "        vertical-align: top;\n",
       "    }\n",
       "\n",
       "    .dataframe thead th {\n",
       "        text-align: right;\n",
       "    }\n",
       "</style>\n",
       "<table border=\"1\" class=\"dataframe\">\n",
       "  <thead>\n",
       "    <tr style=\"text-align: right;\">\n",
       "      <th></th>\n",
       "      <th>Sentence #</th>\n",
       "      <th>Word</th>\n",
       "      <th>POS</th>\n",
       "      <th>Tag</th>\n",
       "    </tr>\n",
       "  </thead>\n",
       "  <tbody>\n",
       "    <tr>\n",
       "      <th>3946</th>\n",
       "      <td>283</td>\n",
       "      <td>lipidslipoproteinhomocysteine</td>\n",
       "      <td>NOUN</td>\n",
       "      <td></td>\n",
       "    </tr>\n",
       "    <tr>\n",
       "      <th>8068</th>\n",
       "      <td>585</td>\n",
       "      <td>lipidslipoproteinhomocysteine</td>\n",
       "      <td>NOUN</td>\n",
       "      <td></td>\n",
       "    </tr>\n",
       "    <tr>\n",
       "      <th>12190</th>\n",
       "      <td>887</td>\n",
       "      <td>lipidslipoproteinhomocysteine</td>\n",
       "      <td>NOUN</td>\n",
       "      <td></td>\n",
       "    </tr>\n",
       "  </tbody>\n",
       "</table>\n",
       "</div>"
      ],
      "text/plain": [
       "      Sentence #                           Word   POS Tag\n",
       "3946         283  lipidslipoproteinhomocysteine  NOUN    \n",
       "8068         585  lipidslipoproteinhomocysteine  NOUN    \n",
       "12190        887  lipidslipoproteinhomocysteine  NOUN    "
      ]
     },
     "execution_count": 224,
     "metadata": {},
     "output_type": "execute_result"
    }
   ],
   "source": [
    "train_df.loc[train_df['Word'].str.len() == train_df['Word'].str.len().max()]"
   ]
  },
  {
   "cell_type": "code",
   "execution_count": 225,
   "metadata": {},
   "outputs": [
    {
     "data": {
      "text/html": [
       "<div>\n",
       "<style scoped>\n",
       "    .dataframe tbody tr th:only-of-type {\n",
       "        vertical-align: middle;\n",
       "    }\n",
       "\n",
       "    .dataframe tbody tr th {\n",
       "        vertical-align: top;\n",
       "    }\n",
       "\n",
       "    .dataframe thead th {\n",
       "        text-align: right;\n",
       "    }\n",
       "</style>\n",
       "<table border=\"1\" class=\"dataframe\">\n",
       "  <thead>\n",
       "    <tr style=\"text-align: right;\">\n",
       "      <th></th>\n",
       "      <th>Sentence #</th>\n",
       "      <th>Word</th>\n",
       "      <th>POS</th>\n",
       "      <th>Tag</th>\n",
       "    </tr>\n",
       "  </thead>\n",
       "  <tbody>\n",
       "    <tr>\n",
       "      <th>0</th>\n",
       "      <td>0</td>\n",
       "      <td>Record</td>\n",
       "      <td>NOUN</td>\n",
       "      <td></td>\n",
       "    </tr>\n",
       "    <tr>\n",
       "      <th>1</th>\n",
       "      <td>0</td>\n",
       "      <td>date</td>\n",
       "      <td>NOUN</td>\n",
       "      <td></td>\n",
       "    </tr>\n",
       "    <tr>\n",
       "      <th>2</th>\n",
       "      <td>0</td>\n",
       "      <td>Campbell</td>\n",
       "      <td>PROPN</td>\n",
       "      <td></td>\n",
       "    </tr>\n",
       "    <tr>\n",
       "      <th>3</th>\n",
       "      <td>0</td>\n",
       "      <td>Orthopedic</td>\n",
       "      <td>PROPN</td>\n",
       "      <td></td>\n",
       "    </tr>\n",
       "    <tr>\n",
       "      <th>4</th>\n",
       "      <td>0</td>\n",
       "      <td>Associates</td>\n",
       "      <td>PROPN</td>\n",
       "      <td></td>\n",
       "    </tr>\n",
       "    <tr>\n",
       "      <th>5</th>\n",
       "      <td>0</td>\n",
       "      <td>Madera</td>\n",
       "      <td>PROPN</td>\n",
       "      <td></td>\n",
       "    </tr>\n",
       "    <tr>\n",
       "      <th>6</th>\n",
       "      <td>0</td>\n",
       "      <td>Circle</td>\n",
       "      <td>PROPN</td>\n",
       "      <td></td>\n",
       "    </tr>\n",
       "    <tr>\n",
       "      <th>7</th>\n",
       "      <td>0</td>\n",
       "      <td>Omak</td>\n",
       "      <td>PROPN</td>\n",
       "      <td></td>\n",
       "    </tr>\n",
       "    <tr>\n",
       "      <th>8</th>\n",
       "      <td>0</td>\n",
       "      <td>GA</td>\n",
       "      <td>PROPN</td>\n",
       "      <td></td>\n",
       "    </tr>\n",
       "    <tr>\n",
       "      <th>9</th>\n",
       "      <td>0</td>\n",
       "      <td>Habib</td>\n",
       "      <td>PROPN</td>\n",
       "      <td></td>\n",
       "    </tr>\n",
       "  </tbody>\n",
       "</table>\n",
       "</div>"
      ],
      "text/plain": [
       "  Sentence #        Word    POS Tag\n",
       "0          0      Record   NOUN    \n",
       "1          0        date   NOUN    \n",
       "2          0    Campbell  PROPN    \n",
       "3          0  Orthopedic  PROPN    \n",
       "4          0  Associates  PROPN    \n",
       "5          0      Madera  PROPN    \n",
       "6          0      Circle  PROPN    \n",
       "7          0        Omak  PROPN    \n",
       "8          0          GA  PROPN    \n",
       "9          0       Habib  PROPN    "
      ]
     },
     "execution_count": 225,
     "metadata": {},
     "output_type": "execute_result"
    }
   ],
   "source": [
    "train_df.head(10)"
   ]
  },
  {
   "cell_type": "code",
   "execution_count": 219,
   "metadata": {},
   "outputs": [
    {
     "data": {
      "text/plain": [
       "'lipidslipoproteinhomocysteine'"
      ]
     },
     "execution_count": 219,
     "metadata": {},
     "output_type": "execute_result"
    }
   ],
   "source": [
    "train_df.Word[3946]"
   ]
  },
  {
   "cell_type": "code",
   "execution_count": 86,
   "metadata": {},
   "outputs": [
    {
     "data": {
      "text/plain": [
       "73654"
      ]
     },
     "execution_count": 86,
     "metadata": {},
     "output_type": "execute_result"
    }
   ],
   "source": [
    "len(rpt_sentences)"
   ]
  },
  {
   "cell_type": "code",
   "execution_count": 91,
   "metadata": {},
   "outputs": [],
   "source": [
    "df = pd.DataFrame(rpt_sentences)"
   ]
  },
  {
   "cell_type": "code",
   "execution_count": 97,
   "metadata": {},
   "outputs": [
    {
     "data": {
      "text/plain": [
       "report_text_sent    73654\n",
       "dtype: int64"
      ]
     },
     "execution_count": 97,
     "metadata": {},
     "output_type": "execute_result"
    }
   ],
   "source": [
    "df.isna().count()"
   ]
  },
  {
   "cell_type": "code",
   "execution_count": 98,
   "metadata": {},
   "outputs": [
    {
     "data": {
      "text/html": [
       "<div>\n",
       "<style scoped>\n",
       "    .dataframe tbody tr th:only-of-type {\n",
       "        vertical-align: middle;\n",
       "    }\n",
       "\n",
       "    .dataframe tbody tr th {\n",
       "        vertical-align: top;\n",
       "    }\n",
       "\n",
       "    .dataframe thead th {\n",
       "        text-align: right;\n",
       "    }\n",
       "</style>\n",
       "<table border=\"1\" class=\"dataframe\">\n",
       "  <thead>\n",
       "    <tr style=\"text-align: right;\">\n",
       "      <th></th>\n",
       "      <th>report_text_sent</th>\n",
       "    </tr>\n",
       "  </thead>\n",
       "  <tbody>\n",
       "    <tr>\n",
       "      <th>8235</th>\n",
       "      <td>NaN</td>\n",
       "    </tr>\n",
       "    <tr>\n",
       "      <th>12190</th>\n",
       "      <td>NaN</td>\n",
       "    </tr>\n",
       "    <tr>\n",
       "      <th>18993</th>\n",
       "      <td>NaN</td>\n",
       "    </tr>\n",
       "    <tr>\n",
       "      <th>51079</th>\n",
       "      <td>NaN</td>\n",
       "    </tr>\n",
       "    <tr>\n",
       "      <th>72217</th>\n",
       "      <td>NaN</td>\n",
       "    </tr>\n",
       "  </tbody>\n",
       "</table>\n",
       "</div>"
      ],
      "text/plain": [
       "      report_text_sent\n",
       "8235               NaN\n",
       "12190              NaN\n",
       "18993              NaN\n",
       "51079              NaN\n",
       "72217              NaN"
      ]
     },
     "execution_count": 98,
     "metadata": {},
     "output_type": "execute_result"
    }
   ],
   "source": [
    "df[df.isnull().any(axis=1)]"
   ]
  },
  {
   "cell_type": "code",
   "execution_count": 99,
   "metadata": {},
   "outputs": [],
   "source": [
    "df = df.fillna('')"
   ]
  },
  {
   "cell_type": "code",
   "execution_count": 100,
   "metadata": {},
   "outputs": [
    {
     "data": {
      "text/html": [
       "<div>\n",
       "<style scoped>\n",
       "    .dataframe tbody tr th:only-of-type {\n",
       "        vertical-align: middle;\n",
       "    }\n",
       "\n",
       "    .dataframe tbody tr th {\n",
       "        vertical-align: top;\n",
       "    }\n",
       "\n",
       "    .dataframe thead th {\n",
       "        text-align: right;\n",
       "    }\n",
       "</style>\n",
       "<table border=\"1\" class=\"dataframe\">\n",
       "  <thead>\n",
       "    <tr style=\"text-align: right;\">\n",
       "      <th></th>\n",
       "      <th>report_text_sent</th>\n",
       "    </tr>\n",
       "  </thead>\n",
       "  <tbody>\n",
       "  </tbody>\n",
       "</table>\n",
       "</div>"
      ],
      "text/plain": [
       "Empty DataFrame\n",
       "Columns: [report_text_sent]\n",
       "Index: []"
      ]
     },
     "execution_count": 100,
     "metadata": {},
     "output_type": "execute_result"
    }
   ],
   "source": [
    "df[df.isnull().any(axis=1)]"
   ]
  },
  {
   "cell_type": "code",
   "execution_count": 108,
   "metadata": {},
   "outputs": [
    {
     "data": {
      "text/html": [
       "<div>\n",
       "<style scoped>\n",
       "    .dataframe tbody tr th:only-of-type {\n",
       "        vertical-align: middle;\n",
       "    }\n",
       "\n",
       "    .dataframe tbody tr th {\n",
       "        vertical-align: top;\n",
       "    }\n",
       "\n",
       "    .dataframe thead th {\n",
       "        text-align: right;\n",
       "    }\n",
       "</style>\n",
       "<table border=\"1\" class=\"dataframe\">\n",
       "  <thead>\n",
       "    <tr style=\"text-align: right;\">\n",
       "      <th></th>\n",
       "      <th>report_text_sent</th>\n",
       "    </tr>\n",
       "  </thead>\n",
       "  <tbody>\n",
       "    <tr>\n",
       "      <th>0</th>\n",
       "      <td>Record date   Campbell Orthopedic Associates</td>\n",
       "    </tr>\n",
       "    <tr>\n",
       "      <th>1</th>\n",
       "      <td>Madera Circle Omak GA</td>\n",
       "    </tr>\n",
       "    <tr>\n",
       "      <th>2</th>\n",
       "      <td>Habib Valenzuela M.D.</td>\n",
       "    </tr>\n",
       "    <tr>\n",
       "      <th>3</th>\n",
       "      <td>Valdez Harlan Jr.</td>\n",
       "    </tr>\n",
       "    <tr>\n",
       "      <th>4</th>\n",
       "      <td>February    Har is a  year old   pound gentlem...</td>\n",
       "    </tr>\n",
       "    <tr>\n",
       "      <th>...</th>\n",
       "      <td>...</td>\n",
       "    </tr>\n",
       "    <tr>\n",
       "      <th>73649</th>\n",
       "      <td>Patient receiving FFP to reverse anticoagulation.</td>\n",
       "    </tr>\n",
       "    <tr>\n",
       "      <th>73650</th>\n",
       "      <td>Will continue Levaquin renal dosing Please sen...</td>\n",
       "    </tr>\n",
       "    <tr>\n",
       "      <th>73651</th>\n",
       "      <td>Will recheck chem.</td>\n",
       "    </tr>\n",
       "    <tr>\n",
       "      <th>73652</th>\n",
       "      <td>CBC coags in morning.</td>\n",
       "    </tr>\n",
       "    <tr>\n",
       "      <th>73653</th>\n",
       "      <td>Evelyn Xuan MD HRC Urology</td>\n",
       "    </tr>\n",
       "  </tbody>\n",
       "</table>\n",
       "<p>73654 rows × 1 columns</p>\n",
       "</div>"
      ],
      "text/plain": [
       "                                        report_text_sent\n",
       "0           Record date   Campbell Orthopedic Associates\n",
       "1                                  Madera Circle Omak GA\n",
       "2                                  Habib Valenzuela M.D.\n",
       "3                                      Valdez Harlan Jr.\n",
       "4      February    Har is a  year old   pound gentlem...\n",
       "...                                                  ...\n",
       "73649  Patient receiving FFP to reverse anticoagulation.\n",
       "73650  Will continue Levaquin renal dosing Please sen...\n",
       "73651                                 Will recheck chem.\n",
       "73652                              CBC coags in morning.\n",
       "73653                         Evelyn Xuan MD HRC Urology\n",
       "\n",
       "[73654 rows x 1 columns]"
      ]
     },
     "execution_count": 108,
     "metadata": {},
     "output_type": "execute_result"
    }
   ],
   "source": [
    "df"
   ]
  },
  {
   "cell_type": "code",
   "execution_count": 109,
   "metadata": {},
   "outputs": [],
   "source": [
    "rpt_sentences_clean = df.report_text_sent"
   ]
  },
  {
   "cell_type": "code",
   "execution_count": 193,
   "metadata": {},
   "outputs": [],
   "source": [
    "text_lst = [\"  Patient receiving FFP to ... reverse anticoagulation. H.V.N..   \",\n",
    "            \"Evelyn Xuan MD HRC Urology   \",\n",
    "            \"  CBC coags in morning....  \"]\n",
    "text = \"  Patient receiving FFP to ... reverse anticoagulation. H.V.N..   ..\""
   ]
  },
  {
   "cell_type": "code",
   "execution_count": 188,
   "metadata": {},
   "outputs": [
    {
     "data": {
      "text/plain": [
       "'Patient receiving FFP to ... reverse anticoagulation. H.V.N..'"
      ]
     },
     "execution_count": 188,
     "metadata": {},
     "output_type": "execute_result"
    }
   ],
   "source": [
    "text.strip('.').strip()"
   ]
  },
  {
   "cell_type": "code",
   "execution_count": 194,
   "metadata": {},
   "outputs": [
    {
     "data": {
      "text/plain": [
       "'Patient receiving FFP to  reverse anticoagulation. H.V.N'"
      ]
     },
     "execution_count": 194,
     "metadata": {},
     "output_type": "execute_result"
    }
   ],
   "source": [
    "consequitivedots = re.compile(r'\\.{2,}')\n",
    "consequitivedots.sub('', text).strip()"
   ]
  },
  {
   "cell_type": "code",
   "execution_count": 185,
   "metadata": {},
   "outputs": [
    {
     "data": {
      "text/plain": [
       "'  Patient receiving FFP to ... reverse anticoagulation. H.V.N..   '"
      ]
     },
     "execution_count": 185,
     "metadata": {},
     "output_type": "execute_result"
    }
   ],
   "source": [
    "text"
   ]
  },
  {
   "cell_type": "code",
   "execution_count": null,
   "metadata": {},
   "outputs": [],
   "source": []
  }
 ],
 "metadata": {
  "kernelspec": {
   "display_name": "Python 3",
   "language": "python",
   "name": "python3"
  },
  "language_info": {
   "codemirror_mode": {
    "name": "ipython",
    "version": 3
   },
   "file_extension": ".py",
   "mimetype": "text/x-python",
   "name": "python",
   "nbconvert_exporter": "python",
   "pygments_lexer": "ipython3",
   "version": "3.7.9"
  }
 },
 "nbformat": 4,
 "nbformat_minor": 4
}
