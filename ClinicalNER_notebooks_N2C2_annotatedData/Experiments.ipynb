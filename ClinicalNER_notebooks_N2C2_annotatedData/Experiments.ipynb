{
 "cells": [
  {
   "cell_type": "code",
   "execution_count": 1,
   "metadata": {},
   "outputs": [],
   "source": [
    "import pandas as pd"
   ]
  },
  {
   "cell_type": "code",
   "execution_count": 2,
   "metadata": {},
   "outputs": [
    {
     "data": {
      "text/plain": [
       "'\\n\\nRecord date: 2106-02-12\\n\\nCampbell Orthopedic Associates\\n4 Madera Circle\\nOmak, GA 28172\\n \\nHabib Valenzuela, M.D.\\n \\n \\n                                             Valdez, Harlan Jr.  \\n                                           845-41-54-4\\n                                             February 12, 2106 \\nHar is a 43 year old 6\\' 214 pound gentleman who is referred for\\nconsultation by Dr. Harlan Oneil.  About a week ago he slipped on\\nthe driveway at home and sustained an injury to his left ankle. \\nHe was seen at Tri-City Hospital and was told he had a\\nfracture.  He was placed in an air splint and advised to be\\npartial weight bearing, and he is using a cane.  He is here for\\nroutine follow-up. \\nPast medical history is notable for no ankle injuries previously. \\nHe has a history of diabetes and sleep apnea.  He takes Prozac,\\nCardizem, Glucophage and Amaryl.  He is also followed by Dr. Harold\\nNutter for an arrhythmia.  He does not smoke.  He drinks\\nminimally.  He is a set designer at Columbia Pictures.\\n \\nOn examination today he has slight tenderness of the left ankle\\nabout four fingerbreadths above the malleolus.  The malleolus is\\nnon-tender medially or laterally with no ligamentous tenderness\\neither.  Dorsal flexion and plantar flexion is without pain. \\nThere is no significant swelling.  There are no some skin changes\\nwith some small abrasions proximally.  There is no fibular\\ntenderness proximally.  No anterior pain is noted.  No hindfoot,\\nmidfoot or forefoot tenderness is noted. \\nI would like him to use a tube sock with his air cast.  He is\\nusing a cane for ambulation.  His x-rays do not show a notable\\nfracture pattern today, and we will await the Radiology opinion. \\nI would like him to stay in the air splint with the sock.  I will\\nsee him back in six weeks for review at the Boxborough office. \\n \\n \\nDiagnosis:  Left ankle fracture.\\n \\n \\n \\n \\n \\n__________________________________________\\nHabib Valenzuela, M.D.\\n \\nHV/kuntz\\nMmedical\\n \\ncc:  Harlan Oneil, M.D.\\n     \\n     Harold Nutter, M.D.\\n     Doctors Hospital North\\n     64 Bruce St\\n     Omak, GA 72196\\n \\nHabib Valenzuela, M.D.\\n \\nDD: 02/12/06\\nDT: 02/17/06\\nDV: 02/12/06\\n ******** Not reviewed by Attending Physician ********\\n\\n\\n\\n\\n****************************************************************************************************\\nRecord date: 2108-03-14\\n\\n                     CAMPBELL EMERGENCY DEPT VISIT\\n\\n \\n\\nVALDEZ,HARLAN,JR.   845-41-54-4                VISIT DATE: 03/14/08\\n\\nThe patient was seen and examined in the emergency department.  The \\n\\npatient was seen by the Emergency Medicine resident.  I have \\n\\ndiscussed the management with the resident.  I have also seen the \\n\\npatient primarily and reviewed the medical record.  This is a brief \\n\\naddendum to the medical record.\\n\\nHISTORY OF PRESENTING COMPLAINT:  Briefly, this is a 45-year-old \\n\\nmale who complains of several days of nausea, vomiting, and left \\n\\nlower quadrant discomfort.  He also describes intermittent chest \\n\\npain, which he has had for a number of months without significant \\n\\nchange.  He was sent in from his primary care doctor today with \\n\\nthis pain and was also noted to have some EKG changes.  The patient \\n\\nhas no chest pain at the time of evaluation in the emergency \\n\\ndepartment and no shortness of breath.\\n\\nREVIEW OF SYSTEMS:  As indicated and otherwise negative.\\n\\nPAST MEDICAL HISTORY:  As indicated in the chart.\\n\\nSOCIAL HISTORY AND FAMILY HISTORY:  As indicated in the chart.\\n\\nPHYSICAL EXAMINATION:  On physical examination, the patient is very \\n\\nwell-appearing, a smiling, very pleasant gentleman in no acute \\n\\ndistress.  The blood pressure is 119/90, the pulse 82, and the \\n\\ntemperature 97.9 degrees.  Normocephalic and atraumatic.  The chest \\n\\nis clear to auscultation.  The heart has a regular rate and rhythm. \\n\\nThe abdomen is soft.  He has left lower quadrant tenderness.  He \\n\\nalso, of note on cardiovascular examination, has a soft murmur \\n\\nwhich he says he has had since childhood.  The extremities are \\n\\nnormal.  The neurologic examination is non-focal. \\n\\nTHERAPY RENDERED/COURSE IN ED:  This is a gentleman with abdominal \\n\\npain who will receive a CAT scan to rule out diverticulitis.  He \\n\\nhas also had some non-specific ST changes on his EKG.  He is \\n\\npain-free at this time.  He does not describe a classic exertional \\n\\npattern for his chest pain, but given that he is a diabetic and \\n\\nwith EKG changes, he will also be admitted for rule out MI.  A CT \\n\\nis pending at the time of this dictation.\\n\\nDISPOSITION (including condition upon discharge):  As above.  The \\n\\npatient\\'s condition is currently stable. \\n\\n___________________________________                    CK498/89095 \\n\\nJAY CARROLL, M.D.  JC72                                 D:03/14/08 \\n\\n                                                       T:03/14/08 \\n\\nDictated by:  JAY CARROLL, M.D.  JC72 \\n\\n ******** Not reviewed by Attending Physician ********\\n\\n\\n\\n\\n\\n****************************************************************************************************\\nRecord date: 2109-09-14\\n\\n \\nSeptember 14, 2109 \\n \\nVicente Blair, M.D.  \\nInternal Medical \\nDoctors Hospital North \\nOmak, Georgia 72196 \\n \\nRE: VALDEZ, Harlan \\nDHN#: 7672624 \\nDATE OF BIRTH: 11/09/2062 \\nCURRENT CLINIC VISIT DATE: 09/14/2109 \\n \\nDear Vicente, \\n \\nThank you in advance for allowing me to share in the medical care of Mr. Harlan B. Valdez, a 46-year-old male patient with prior polysomnographic evidence of sleep disordered breathing, as well as a history of difficulty in sleep, reinitiation and maintenance and increased early morning awakenings, as well as mixed systemic medical conditions.  \\n \\nHISTORY OF PRESENT ILLNESS: As you already know, Mr. Valdez who demonstrates a history of difficulties of sleep reinitiation and maintenance, as well as increased early morning awakenings, has noted an exacerbation of these sleep difficulties, occurring in temporal association with his loss of his wife from pancreatic cancer last year. He is now placed in the unfortunate situation of being a single parent to a 15-year-old son and a 10-year-old daughter and describes a modification of his current employment duties of a set designer. In particular, Mr. Valdez describes undergoing on frequent international travelling which has bee markedly curtailed as he is tending to his family situation closer to home.  \\n \\nHe described a history of intermittent snoring symptomatology but is unaware of specific nocturnal respiratory pauses. He is unaware of a \"restless\" lower limb sensory complaints which may impact on his ability to initiate or reinitiate sleep. He denies a history of a \" night owl\" personality or circadian rhythm dysfunction which may have played a role with respect to nocturnal sleep disruptions or sleep difficulties.   \\nHe denies a history of paroxysmal abnormal disturbances or associated narcoleptic symptoms.  \\n \\nMr. Valdez underwent an initial formal polysomnographic evaluation at the center for sleep diagnostics at Holy Cross on 11/26/05, during which time he was noted to demonstrate a respiratory disturbance index of 81/hour, particularly exacerbated in the supine position and characterized predominantly by hypopneas, with equal distribution during non-REM and stage REM sleep and with associated O2 desaturation Nadir of 88% The respiratory disturbances were predominantly obstructive or mixed hypopneas. In addition, loud snoring was noted.  \\n \\nThere was evidence of a sleep efficiency of 88% and a short sleep onset latency of 4 minutes. There was a predominance of \"light\" non-REM stages I-II sleep, and a concomitant inability to achieve significant \"slow-wave\" or stage REM sleep. There was also \"alpha intrusions and alpha delta sleep\" evident during the initial sleep study. In addition premature ventricular contractions were noted.  \\n \\nThe patient underwent a CPAP titration on 01/15/06, also at the Tenacre Foundation Nursing Home in Boxborough, during which time there was a marked reduction in the frequency of hypopneas (respiratory disturbance index equals 2/hour) with CPAP titrations between 4-6 cm. Sleep efficiency improved to 91%, a short sleep onset latency was also noted (3 minutes). There was once again an increased predominance of \"light\" non-REM stage I-II sleep, with concomitant inability to achieve sustained \"slow wave sleep\".  \\n \\nSince his initial trial of nocturnal CPAP titration (at 6 cm of water pressure) and with various CPAP mask modifications (including CPAP nasal face mask and a Mallinckrodt \"Breeze\" supportive head gear with \"nasal pillows\". The patient describes associated claustrophobic symptomatology, relative difficulties with sustained nocturnal home CPAP use, and difficulties with regards to CPAP to being and complications by the bulkiness of the CPAP machine in general. As a result, he has not utilized nocturnal CPAP therapy for a period of time, although he still maintains the CPAP equipment in his house.  \\n \\nOf particular note, and exacerbation of the past year, the patient demonstrates increased early morning awakenings (averaging 2-4 in number) with typical awakenings occurring approximately two hours after sleep initiation at 9:30 p.m. (the patient describes one awakening at 11:30 p.m. and the second awakening at 11:45 a.m., of unclear causative etiology). The patient then might awaken at 3 a.m. and be \"ready for the day\".  If he is able to reinitiate sleep thereafter, the patient may demonstrate additional two early morning awakenings after a final awakening at 6 a.m.  \\n \\nThe patient is noted to have a history of mixed systemic conditions including diabetes, coronary artery disease, depressive disorder, as well as a relatively stable gastrointestinal condition, with no upper GI evidence of gastroparesis.  \\n \\nMEDICATIONS:  \\n1. Provigil 200 mg p.o. q. a.m. PRN.  \\n2. Lithium.  \\n3. Valproate.  \\n4. Glucophage 850 mg t.i.d.  \\n5. Humulin 15 units at night.  \\n6. Folate.  \\n7. Metoprolol.  \\n8. Cardia.  \\n9. Vitamin E.  \\n10. Coated aspirin.  \\n \\nALLERGIES/ADVERSE REACTIONS: The patient describes an enhancement to suicidal tendencies in association with prior Prozac usage.   \\nSOCIAL HISTORY: The patient denies active tobacco or alcoholic beverage usage. He has lost 15-20 pounds over the past several years. His current weight is 195 pounds. He is desirous of losing some additional weight with regards to more regular exercise, but his hectic social situation makes this somewhat difficult at the present time.  \\n \\nOn examination, the patient demonstrates a blood pressure of 146/88, (seated, left arm), respiratory rate 16.  \\n \\nHEENT EXAMINATION: Borderline small posterior oropharyngeal aperture, with slightly increased redundant tissue evident posteriorly and a slightly elongated uvula noted.  \\n \\nThe patient appears awake, alert, with speech clear and fluent and receptive language function essentially intact. He is presently wearing dental braces. No obvious cranial nerve deficits are appreciated. No focal, sensory, motor or neurologic deficits are noted. No significant appendicular dystaxias or dysmetrias are currently in evidence. The routine gait appears to be normal based, without evidence of significant gait dystaxias.  No current clinical ictal manifestations are present. No acute evidence of \"micro-sleeps\" are noted.  \\n \\nIMPRESSION:  \\n1. Sleep stage/arrousal dysfunction (780.56): Manifested by subjective complaints of nonrestorative sleep, increased daytime fatigue and alternating hypersomnia, and recurrent polysomnographic evidence of \"lightened\" sleep pattern, with increased predominance of non-REM stages 1-2 sleep, and with the presence of \"alpha\" intrusions and \"alpha delta\" component to deeper sleep. These latter EEG findings have been described in association with subjective complaints of nonrestorative sleep, as well as clinical setting of chronic pain related complaints, depressive or anxiety disorder or intercurrent psychotropics agents used (but more usually associated with benzodiazepine or barbituate usage).  \\n2. Sleep disordered breathing: As evidenced during prior polysomnographic evaluations, mostly of obstructive and or mixed hypopnea. The patient appears largely refractory to a trial of CPAP therapy, particularly in so far as he demonstrates associated claustrophobic symptoms in association with it\\'s usage, despite relatively modest CPAP water pressures (6 cm). In addition, he has tried various nasal CPAP face mask, including the Mallinckrodt \"Breeze\" supportive head gear with \"nasal pillows\" and with limited success. One might consider repeating a polysomnographic evaluation in the future, and if so, utilizing a potential trial of BIPAP titration, which may help to improve claustrophobic symptoms, but the patient will still be left with the issues referable to \"tangled tubing at night\" and issues referable to nasal face mask usage, as noted above.  3. Relative difficulties in sleep reinitiation and maintenance:  The patient describes at least 2-4 early morning awakenings with difficulty in sleep reinitiation and maintenance, thereby compounding his current sleep problem. While there would logically be a relationship between his current sleep exacerbations and the recent death of his wife from pancreatic cancer last year, there may also be evidence of other nocturnal sleep disturbances for which a repeat polysomnographic evaluation; i.e. in particular looking for the presence of increased spontaneous arousals or limb associated arousals or periodic limb movements of sleep may be of a special clinical benefit.  \\n \\nPLAN:  \\n1. In the short course, in so far as the patient describes himself as being exceedingly tired, and unable to perform the routine daily tasks of work and managing a family in the absence of his deceased wife, I have suggested initiation of PRN Zolpidem tartrate therapy, 5 mg tablets, utilizing one to two tablets p.o.  q. h.s. PRN for difficulties of sleep reinitiation and maintenance.  \\n2. The patient is advised to take Zolpidem tartrate therapy no more than 2-3 times per week, in an effort to avoid any issues of physiologic dependency.  \\n3. The patient was advised against potential adverse behavioral and or systemic side effects of Zolpidem tartrate therapy including  hypersomnolence, gastric upset, loose stools, diarrhea, and or cardiac palpitations.  \\nPending his clinical response of his Zolpidem tartrate therapy, I then might seek direct treatment for his sleep disordered breathing issues which may include a repeat sleep study with potential trial of BIPAP therapy (in an effort to modify or attenuate claustrophobic symptoms). If he proves poorly responsive to trial of BIPAP therapy however, I might consider supplemental O2 therapy at night and, with this in mind a follow up sleep study should have associated end-tidal CO2 monitoring as well.  \\n4. In the meantime, the patient was advised to contact the sleep disorders clinic for any acute sleep related concerns in the interim.  \\n5. The patient may also benefit from nonpharmacologic approaches with regards to sleep reinitiation such as hypnotherapy, but I will hold off on these strategies pending follow up sleep disorders clinic evaluation (in approximately four months time).   \\nOnce again, thank you again for allowing me to share in the medical care of Mr. Harlan Valdez. I hope this letter finds you well.  \\n \\nSincerely yours, \\n \\n \\nYovani Vergara, M.D.  \\nSleep Clinic \\nDoctors Hospital North \\n \\n \\ncc: Sleep Clinic DHN \\n \\nDD:09/14/2109 \\nDT:09/15/2109 \\nTX:24217     :1991 \\n \\n\\n\\n\\n\\n****************************************************************************************************\\nRecord date: 2111-10-10\\n\\n    \\n\\n\\n\\nCCU JAR Transfer Note\\n\\nAdmission Date: 10/8/11\\n\\nTransfer: 10/10/11\\n\\nPatient Name: Valdez, Harlan \\n\\nMRN#: 7672624\\n\\nCardiologist:  Dr. Nutter\\n\\nPCP:  Vicente Barker\\n\\n\\n\\nCC: Chest Pain    Cath    VF arrest    RCA stenting\\n\\n\\n\\nHistory of Present Illness (obtained on admission):  Pt is a 48 yo male with h/o DMII, hypercholesterolemia, Bipolar d/o, and depression who began to have sub-sternal day prior to admission in car and pre-syncope + profound weakness.  This CP was minimal, but the weakness made him pull over.  He had a repeat of these symptoms day of admission.  His EKG c/w 2/2107 showed flattened T-wave in V2 and TWI in V3 and flattened T-waves in I, aVL. His trop was negative, but MB index was elevated.  Due to T-wave flattening, history and elevated index it was decided to start on heparin and ASA and take to cath lab.  \\n\\n\\n\\nCath showed right dominant system with prox Cx 40%, LAD clear, RCA prox 70-80% lesion and ostial PDA 90%.  During final dye injection, pt had VF arrest and 2 shocks.  Pt regained puls and was in AF (new) with RVR. Pt was started on amio.  Pt then began to experience discomfort in the RVR and it was decided to intervene.  POBA was done to ostial PDA.  A first no-eluting stent was placed in prox RCA and pt had dissection and thus 2cd stent was placed.  On admission to CCU, pt still in AF with RVR (120\\'s).  He was on amio drip, BB, loaded on plavix, ASA, lipitor, integrilin and was placed on Avandia study.  His complaint of some mild chest pain (not same as anginal pain day before) thought to be from defibrillation.\\n\\n\\n\\nPast Medical History: DMII, hyperchol, bipolar,HTN, depression (s/p ECT)\\n\\n \\n\\nMedications on admission: ASA, Lipitor 20, lopressor 50 bid, folate, norvasc 5 qd; lithium, 300 bid; depakote 500 bid; sonata 10 mg qhs, doxylamine 25 qhs, mirtazapine 45 qd \\n\\n\\n\\nMeds on Transfer: please see green sheets\\n\\n \\n\\nMedications: ASA, Lipitor 20, lopressor 50 bid, folate, norvasc 5 qd; lithium, 300 bid; depakote 500 bid; sonata 10 mg qhs, doxylamine 25 qhs, mirtazapine 45 qd \\n\\n\\n\\nAllergies:  NKDA\\n\\n\\n\\nFamily History:  family h/o CAD\\n\\n\\n\\nSocial History: No EtOH, no tob, no illicits\\n\\n\\n\\nReview of Systems:  per HPI\\n\\n\\n\\nAllergies:  NKDA\\n\\n\\n\\nFamily History:  family h/o CAD\\n\\n\\n\\nSocial History: No EtOH, no tob, no illicits\\n\\n\\n\\nReview of Systems:  per HPI\\n\\n\\n\\nCCU course + plan:\\n\\n1)\\tCards\\n\\na.\\tRhythm - on night of admission patient was started on an esmolol drip as well as amio bloused and rhythm converted to NSR.  Esmolol drip as well as amio was stopped and BB was escalated and patient has remained in NSR.\\n\\ni.\\tRamp up lopressor as tolerated by BP\\n\\nb.\\tPump - patient has remained euvolemic and had a Echo with EF 84% and aortic stenosis\\n\\nc.\\tIschemia - was stented x 2 to the prox RCA lesion and was on integrilin x 24hrs prior.  He was started on plavix.\\n\\ni.\\tCont plavix, lopressor, lisinopril, lipitor, ASA\\n\\n\\n\\n2)\\tPsych - patient with long history of bipolar disorder + depression.  He was on depakote, lithium and remeron as outpt.  He was seen by psychiatry here.\\n\\na.\\tContinue depakote and lithium (had subthereapeutic level that psych thought was likely  due to non-compliance.\\n\\nb.\\tContinue remeron qhs\\n\\nc.\\tF/u TSH\\n\\n\\n\\n3)\\tDM - Blood sugars were originally elevated as amio drip he was originally on for AF contained dextrose. He has remained on NPH with RISS.\\n\\na.\\tNPH, RISS\\n\\n\\n\\n4)\\tProphy - Fragmin nexium\\n\\n\\n\\n\\n\\nLABS + PE - see today\\'s progress note\\n\\n\\n\\n\\n\\nEKG - AFIB with RVR, diffuse t-wave flattening\\n\\n\\n\\nImpression:  48 yo male with h/o DMII, hypercholesterolemia, Bipolar d/o, and depression and CAD p/w CP and pre-sycope found to have RCA prox 70-80% lesion and ostial PDA 90% (stents to RCA and POBA to PDA).  Cath c/b VF arrest after dye load and resultant afib with RVR.\\n\\n\\n\\nPlan:  \\n\\nAs outlined in CCU course.\\n\\n\\n\\n\\n\\nVictor Shepard MD\\n\\n39693\\n\\n   \\n\\n\\n\\n****************************************************************************************************\\nRecord date: 2111-12-14\\n\\n \\n\\n\\n\\nNEUROLOGY CMF ADMISSION NOTE\\n\\n\\n\\nName: \\tVALDEZ, Harlan\\n\\nDOB:\\t11-9-2062\\n\\nMR#: \\t7672624\\n\\nDate:\\t12/13/11, 9:30pm\\n\\n\\n\\nFOR DETAILS, PLEASE SEE AALIYAH IRAHETA\\'S NOTE\\n\\n\\n\\nID/CC: 49yoRHM w/ PMH signif for CAD, Afib, DM, Bipolar, who presents w/ RLE weakness/decreased sensation x 24hrs\\n\\n\\n\\nHPI: 49yoRHM w/ PMH signif for CAD, Afib, DM, Bipolar, who was in USOH until 10d ago, when had weakness in his L arm.  Thought this was 2/2 sleeping on it.  Involved whole arm from shoulder down.  Was still doing his ADL\\'s but felt like the arm was slightly weaker, took 4-5 days to get back to normal.  \\n\\n\\n\\nThen, 12/12/11, was eating dinner w/ a friend, got up to go to BR, found he had RLE weakness/stiffness.  Noticed it was hard to climb stairs.  Went to sleep    woke up at 2am    nearly fell 2/2 weakness in his leg.  In addition, has sensory loss in RLE, esp foot - felt    cold and dead.     The sensory loss was worst distally, but extended up to his thigh.  Never had trouble speaking or understanding others, did not have a facial droop, no problems w/ his RUE.  Stayed in bed until am, when he called his PCP, who told him to come to ED.  \\n\\n\\n\\nOf note, in Oct-Nov 2111, had cardiac cath x 2.  Had NSTEMI on Oct 8, 2111    taken to cardiac cath    cath showed significant RCA disease and 40% prox LCx    c/b Vfib needing defib    stent placed for stenotic RCA lesion, c/b dissection needing 2nd stent placed.  Post cath had Afib requiring amiodarone.  Then had subsequent cath Nov 1 after an episode of CP, stents patent, other vessels stable.  After his inpt cardiac hospitalization, was admitted to psych for 1 wk for suicidality/depression.  \\n\\n\\n\\nPreviously, in spring 2110, had L eye visual disturbance    nearly blind    went to GHIC where was dx\\'ed w/ retinal venous occlusion, treated w/ cortisone and laser surgery, w/ mild improvement in vision (now blurred in that eye).\\n\\n\\n\\nNo HA, no tinnitus, no vertigo.  No blurry vision except in L eye from venous occlusion, no diplopia.  No problems w/ speech.\\n\\n\\n\\nPMH: \\n\\nDM - insulin x years \\n\\nCAD s/p NSTEMI as above\\n\\nBipolar disorder - on lithium and depakote, has required inpt hospitalization and ECT in past\\n\\nAfib as above\\n\\nHyperchol\\n\\n\\n\\nMEDS: \\n\\nInsulin 70/30  22 units bid\\n\\nAsa 81\\n\\nPlavix 75\\n\\nLithium ? dose (600 bid on prior note)\\n\\nNorvasc ? dose (5 on prior note)\\n\\nMirtazapine ? dose (45 on prior note)\\n\\nNaltrexone \\n\\nNexium (20 on prior note)\\n\\nLipitor (40 on prior note)\\n\\nCozaar ? dose\\n\\nDepakote ? dose (500 bid on prior note)\\n\\n(Lopressor 75 po q8 per prior notes)\\n\\nFolate\\n\\n\\t    \\n\\nALL: Lisinopril    cough\\n\\n\\n\\nSH:  \\tTob:\\toccas cigar\\tEtOH: 0 (used to have EtOH problems)       IVDA:      0\\n\\n\\tLives w/ 17yo son.  Has 13yo daughter who lives w/ his sister.  Widower x 3yrs.  \\n\\n\\n\\nFH:\\tMom w/ PM at age 50, died of MI at 71.  Father w/ EtOH, HTN.  Sister w/ 4 miscarriages.  \\n\\n\\n\\nVS:  \\t129/80\\t\\t89\\t20\\t97% on RA\\n\\nGeneral:\\tWNWD, NAD\\n\\nHEENT:\\tNC/AT.  No scleral icterus.  MMM.  OP benign.  \\n\\nNeck:\\tSupple, no carotid bruits.  \\n\\nCV:\\t\\tRRR S1, S2.  II-III/VI sys murmur best at RUSB rad to clav and neck. ? second murmur at axilla systolic as well vs. Galiverdin\\'s sign.\\n\\nResp:\\tCTAB.  No r/w/r\\n\\nAbd:\\t\\t+BS.    Soft/NT/ND.\\n\\nExt:\\t\\tNo C/C/E, DP 2+ bilat.  \\n\\nSkin:\\t\\tNo rashes, intact.  \\n\\n\\n\\nNeuro:\\n\\nMS:\\tConversationally intact.\\n\\n\\n\\nCN: \\tII,III- Pupils 5mm, round , reactive to light to 3mm; visual field full to confrontation; optic discs sharp\\n\\nIII,IV,VI-extraocular movements full, w/o nystagmus, L eyelid is slightly weaker longstanding since L eye problem\\n\\nV--sensation to LT and pin-prick intact bilaterally\\n\\nVII-facial expression muscles symmetric without weakness\\n\\nIX,X--palate elevates symmetrically\\n\\nXI--SCMs 5/5\\n\\nXII--tongue protrudes midline\\n\\n\\n\\nMotor:\\tnormal bulk and tone; no tremor. No pronator drift. \\n\\n\\n\\n\\tDelt\\tElF\\tElE\\tWrE\\tFE\\tIO\\tHpF\\tKnE\\tKnF\\tDors\\tPlan\\tEHL\\t\\n\\nL\\t5\\t5\\t5\\t5\\t5\\t5\\t5\\t5\\t5\\t5\\t5\\t5\\t\\n\\nR\\t5\\t5\\t5\\t5\\t5\\t5\\t5\\t5\\t5\\t4+\\t5\\t5\\t\\n\\n\\n\\nSensory: \\tendorses a difference in sensation to LT and temp RLE vs. LLE.  Zone of difference (feels colder) is most pronounced R lateral calf area, not a particular dermatomal distribution, also w/ toe position sense mildly decreased R great toe.  Mild vibratory loss to ankles bilat symmetrical.   \\n\\nReflex:\\t\\n\\n\\tBic\\tTric\\tBra\\tHoff\\tPat\\tAnk\\tToes\\t\\n\\nL\\t2\\t2\\t2\\tNeg\\t2\\t2\\tDown\\t\\n\\nR\\t2+\\t2\\t2+\\tNeg\\t3\\t2\\tUp?\\t\\n\\n\\n\\nCoord:\\tno dysmetria on finger-nose-finger or heel-knee-shin\\n\\nGait:\\tfavors L leg slightly when walking\\n\\n\\n\\nRomberg:  normal \\n\\n\\n\\nLABS/STUDIES:\\n\\nChemistry\\n\\n  Lytes/Renal/Glucose\\n\\n    Sodium                 136   135-145 mmol/L     12/13/11 18:35     133(L) 12/13/11 09:43\\n\\n    Potassium              3.6   3.4-4.8 mmol/L     12/13/11 18:35     4.9(H) 10/31/11 12:55\\n\\n    Chloride               109H  100-108 mmol/L     12/13/11 18:35     109(H) 12/13/11 18:35\\n\\n    Carbon Dioxide        27.0   23.0-31.9 mmol/L   12/13/11 18:35    22.9(L) 12/10/11 20:33\\n\\n    BUN                     11   8-25 mg/dl         12/13/11 18:35\\n\\n    Creatinine             1.0   0.6-1.5 mg/dl      12/13/11 18:35\\n\\n    Glucose                216H  70-110 mg/dl       12/13/11 18:35     216(H) 12/13/11 18:35\\n\\n  General Chemistries\\n\\n    Calcium                9.4   8.5-10.5 mg/dl     12/13/11 10:40     8.3(L) 10/10/11 06:15\\n\\n    Phosphorus             3.2   2.6-4.5 mg/dl      12/13/11 10:40     2.4(L) 11/02/11 15:10\\n\\n    Magnesium              1.6   1.4-2.0 meq/L      12/13/11 10:40\\n\\n  Lipid Tests\\n\\n    Cholesterol            173   mg/dl              12/10/11 20:33     228(H) 09/03/07 10:46\\n\\n    Triglycerides          547H  40-150 mg/dl       12/10/11 20:33     547(H) 12/10/11 20:33\\n\\n    HDL Cholesterol         25L  35-100 mg/dl       12/10/11 20:33      25(L) 12/10/11 20:33\\n\\n    LDL Cholesterol         --   mg/dl              12/10/11 20:33\\n\\n    Chol/HDL Ratio         6.9                      12/10/11 20:33\\n\\n  Chemistry Miscellaneous\\n\\n    Calc Mean Bld...       254   mg%                12/12/11 10:34\\n\\n    Chemistry Com...  see detail                    05/09/08 21:58\\n\\n    Hemoglobin A1C       10.20H  3.80-6.40 %        12/12/11 10:34   10.20(H) 12/12/11 10:34\\n\\nHematology\\n\\n  Complete Blood Count\\n\\n    WBC                    6.1   4.5-11.0 th/cmm    12/13/11 09:51    11.1(H) 10/08/11 20:16\\n\\n    RBC                   4.51   4.50-5.90 mil/cm   12/13/11 09:51    4.37(L) 11/03/11 11:15\\n\\n    Hgb                   13.7   13.5-17.5 gm/dl    12/13/11 09:51    13.1(L) 11/01/11 04:52\\n\\n    HCT                   39.4L  41.0-53.0 %        12/13/11 09:51    39.4(L) 12/13/11 09:51\\n\\n    MCV                     87   80-100 fl          12/13/11 09:51\\n\\n    MCH                   30.4   26.0-34.0 pg/rbc   12/13/11 09:51\\n\\n    MCHC                  34.9   31.0-37.0 g/dl     12/13/11 09:51\\n\\n    PLT                    210   150-350 th/cumm    12/13/11 09:51\\n\\n    RDW                   13.5   11.5-14.5 %        12/13/11 09:51\\n\\n  Other Hematology\\n\\n    ESR                     14   0-17 mm/hr         12/13/11 19:51\\n\\nUrinalysis\\tNegative\\n\\nTherapeutic Drugs\\n\\n  Therapeutic Drug Monitoring\\n\\n    Lithium              <0.10L  0.50-1.50 mmol/L   12/13/11 20:40   <0.10(L) 12/13/11 20:40\\n\\n\\n\\nMRI brain: Acute/subacute infarcts (DWI bright/ADC dark/FLAIR bright) in L cerebellum (punctate) and R precentral gyrus (small elliptical area).  \\n\\n\\n\\nCT-A head/neck: has aberrant origin of R vert from CCA, both ACA\\'s come off of L carotid, also w/ bilateral fetal PCA\\'s and likely congenitally small vertebrobasilar vessels.  No significant focal stenoses or atheromatous calcifications.  \\n\\n\\n\\nEKG: pending\\n\\n\\n\\nMRI L/S spine: negative\\n\\n\\n\\nIMPRESSION:\\n\\n49yoRHM w/ PMH signif for CAD, DM, Bipolar disorder, afib, s/p recent cardiac cath who presents w/ LUE weakness 10d prior to admission resolving after 4-5 days, and RLE weakness?/sensory deficit? Imaging reveals R precentral gyrus small infarct, L cerebellar infarct, no significant vessel stenoses.  Neuro exam w/ brisker reflexes on R, equivocal RLE weakness, R sensory sx, ? R upgoing toe.  Clinical picture and imaging are not consistent.  Unclear if pt is a poor historian and current sx are non-objective sensory findings and meaningful event was LUE weakness 4-5d ago.\\n\\nNEURO: stroke w/u including TTE/Holter, lipids/lipoprotein/homocysteine.  \\n\\n--Will also send hypercoag w/u (including hypercoag panel, PT20210, Factor V Leiden, APLA, lupus anticoagulant) given hx of retinal venous thrombus and young age.\\n\\n--Will also send BCx2 given recent cardiac cath, although ESR wnl reassuring re ? of endocarditis.\\n\\n--Will check A1c re ? of adequate DM control.\\n\\n--Given psych hx, will check tox screen and LFT\\'s.\\n\\n--Unclear if afib was only in context of post-cath, post Vfib.  Will look for LAE, holter abnl.  Could make a case to anti-coagulate regardless as has had documented afib.  \\n\\nCV: hold anti-htn meds now.  Continue lipitor at outpt dose.  Allow SBP up to 180.\\n\\nPSYCH: continue w/ depakote and lithium.  Mood is ok now, but will need to be monitored.\\n\\nFEN: no IVF, ada 1800 low chol/low fat diet.  \\n\\nENDO: NPH 20 bid for now, titrate up as needed, RISS.  Checking A1c.\\n\\nPPX: put on sc fragmin, nexium.  Pneumoboots.  \\n\\n\\n\\nAnna V. Wendy-Bird, MD\\n\\nHPC Neuro Resident #48600\\n\\nCase discussed w/ Vern Snow, senior resident.  \\n\\n\\n\\n\\n\\n\\n\\n      \\n\\n\\n\\n****************************************************************************************************\\n'"
      ]
     },
     "execution_count": 2,
     "metadata": {},
     "output_type": "execute_result"
    }
   ],
   "source": [
    "raw = pd.read_csv(\"data1.csv\")\n",
    "raw.report_text[0]"
   ]
  },
  {
   "cell_type": "code",
   "execution_count": 2,
   "metadata": {},
   "outputs": [],
   "source": [
    "raw = pd.read_csv(\"clean_report_text_sent.csv\")\n"
   ]
  },
  {
   "cell_type": "code",
   "execution_count": 3,
   "metadata": {},
   "outputs": [
    {
     "data": {
      "text/plain": [
       "('Record date   Campbell Orthopedic Associates',\n",
       " 'Madera Circle Omak GA',\n",
       " 'Habib Valenzuela M.D.',\n",
       " 'Valdez Harlan Jr.')"
      ]
     },
     "execution_count": 3,
     "metadata": {},
     "output_type": "execute_result"
    }
   ],
   "source": [
    "raw.report_text_sent[0],raw.report_text_sent[1],raw.report_text_sent[2],raw.report_text_sent[3]"
   ]
  },
  {
   "cell_type": "code",
   "execution_count": null,
   "metadata": {},
   "outputs": [],
   "source": [
    "text = 'Record date   Campbell Orthopedic Associates'\n"
   ]
  },
  {
   "cell_type": "code",
   "execution_count": 5,
   "metadata": {},
   "outputs": [],
   "source": [
    "import spacy\n",
    "\n",
    "nlp = spacy.load(\"en_core_web_md\")"
   ]
  },
  {
   "cell_type": "code",
   "execution_count": 6,
   "metadata": {},
   "outputs": [
    {
     "name": "stdout",
     "output_type": "stream",
     "text": [
      "Current Token: Why - Prev Token: it\n",
      "Current Token: does - Prev Token: hurt\n",
      "Current Token: it - Prev Token: to\n",
      "Current Token: hurt - Prev Token: run\n",
      "Current Token: to - Prev Token: very\n",
      "Current Token: run - Prev Token: fast\n",
      "Current Token: very - Prev Token: .\n"
     ]
    },
    {
     "ename": "IndexError",
     "evalue": "[E040] Attempt to access token at 9, max length 9.",
     "output_type": "error",
     "traceback": [
      "\u001b[1;31m---------------------------------------------------------------------------\u001b[0m",
      "\u001b[1;31mIndexError\u001b[0m                                Traceback (most recent call last)",
      "\u001b[1;32m<ipython-input-6-cc7e7f3297e9>\u001b[0m in \u001b[0;36m<module>\u001b[1;34m\u001b[0m\n\u001b[0;32m      4\u001b[0m \u001b[1;32mfor\u001b[0m \u001b[0mtoken\u001b[0m \u001b[1;32min\u001b[0m \u001b[0mdoc\u001b[0m\u001b[1;33m:\u001b[0m\u001b[1;33m\u001b[0m\u001b[1;33m\u001b[0m\u001b[0m\n\u001b[0;32m      5\u001b[0m     \u001b[0mtoken_index\u001b[0m \u001b[1;33m=\u001b[0m \u001b[0mtoken\u001b[0m\u001b[1;33m.\u001b[0m\u001b[0mi\u001b[0m  \u001b[1;31m# this is the token index in the document\u001b[0m\u001b[1;33m\u001b[0m\u001b[1;33m\u001b[0m\u001b[0m\n\u001b[1;32m----> 6\u001b[1;33m     \u001b[0mprev_token\u001b[0m \u001b[1;33m=\u001b[0m \u001b[0mdoc\u001b[0m\u001b[1;33m[\u001b[0m\u001b[0mtoken_index\u001b[0m \u001b[1;33m+\u001b[0m \u001b[1;36m2\u001b[0m\u001b[1;33m]\u001b[0m  \u001b[1;31m# the previous token in the document\u001b[0m\u001b[1;33m\u001b[0m\u001b[1;33m\u001b[0m\u001b[0m\n\u001b[0m\u001b[0;32m      7\u001b[0m     \u001b[0mprint\u001b[0m\u001b[1;33m(\u001b[0m\u001b[1;34m\"Current Token:\"\u001b[0m\u001b[1;33m,\u001b[0m \u001b[0mtoken\u001b[0m\u001b[1;33m.\u001b[0m\u001b[0mtext\u001b[0m\u001b[1;33m,\u001b[0m \u001b[1;34m\"- Prev Token:\"\u001b[0m\u001b[1;33m,\u001b[0m \u001b[0mprev_token\u001b[0m\u001b[1;33m.\u001b[0m\u001b[0mtext\u001b[0m\u001b[1;33m)\u001b[0m\u001b[1;33m\u001b[0m\u001b[1;33m\u001b[0m\u001b[0m\n\u001b[0;32m      8\u001b[0m             \u001b[1;31m# and so on\u001b[0m\u001b[1;33m\u001b[0m\u001b[1;33m\u001b[0m\u001b[1;33m\u001b[0m\u001b[0m\n",
      "\u001b[1;32m~\\anaconda3\\envs\\tfgpu\\lib\\site-packages\\spacy\\tokens\\doc.pyx\u001b[0m in \u001b[0;36mspacy.tokens.doc.Doc.__getitem__\u001b[1;34m()\u001b[0m\n",
      "\u001b[1;32m~\\anaconda3\\envs\\tfgpu\\lib\\site-packages\\spacy\\tokens\\token.pxd\u001b[0m in \u001b[0;36mspacy.tokens.token.Token.cinit\u001b[1;34m()\u001b[0m\n",
      "\u001b[1;31mIndexError\u001b[0m: [E040] Attempt to access token at 9, max length 9."
     ]
    }
   ],
   "source": [
    "chunks = []\n",
    "doc = nlp(\"Why does it hurt to run very fast.\")\n",
    "\n",
    "for token in doc:\n",
    "    token_index = token.i  # this is the token index in the document\n",
    "    prev_token = doc[token_index + 2]  # the previous token in the document\n",
    "    print(\"Current Token:\", token.text, \"- Prev Token:\", prev_token.text)\n",
    "            # and so on"
   ]
  },
  {
   "cell_type": "code",
   "execution_count": 7,
   "metadata": {},
   "outputs": [
    {
     "name": "stdout",
     "output_type": "stream",
     "text": [
      "Record 92 NOUN\n",
      "date 92 NOUN\n",
      "   103 SPACE\n",
      "Campbell 96 PROPN\n",
      "Orthopedic 96 PROPN\n",
      "Associates 96 PROPN\n"
     ]
    }
   ],
   "source": [
    "text = 'Record date   Campbell Orthopedic Associates'\n",
    "doc = nlp(text)\n",
    "for token in doc:\n",
    "    print(token.text, token.pos, token.pos_)"
   ]
  },
  {
   "cell_type": "code",
   "execution_count": 8,
   "metadata": {},
   "outputs": [
    {
     "name": "stdout",
     "output_type": "stream",
     "text": [
      "                           lay                            \n",
      "  __________________________|_________                     \n",
      " |   |       |              |        was                  \n",
      " |   |       |              |      ___|_________           \n",
      " |   |       |              |     |   |      silence      \n",
      " |   |       |              |     |   |    _____|______    \n",
      " |   |       |              |     |   |   |            of \n",
      " |   |       |              |     |   |   |            |   \n",
      " |   |      Inn             in    |   |   |          parts\n",
      " |   |    ___|_____         |     |   |   |            |   \n",
      " ,  and The     Waystone silence  it  .   a          three\n",
      "\n"
     ]
    },
    {
     "data": {
      "text/plain": [
       "[None]"
      ]
     },
     "execution_count": 8,
     "metadata": {},
     "output_type": "execute_result"
    }
   ],
   "source": [
    "import spacy\n",
    "from nltk import Tree\n",
    "\n",
    "document_string = \"The Waystone Inn lay in silence, and it was a silence of three parts. \"\n",
    "\n",
    "doc = nlp(document_string)\n",
    "\n",
    "def to_nltk_tree(node):\n",
    "    if node.n_lefts + node.n_rights > 0:\n",
    "        return Tree(node.orth_, [to_nltk_tree(child) for child in node.children])\n",
    "    else:\n",
    "        return node.orth_\n",
    "\n",
    "\n",
    "[to_nltk_tree(sent.root).pretty_print() for sent in doc.sents]\n",
    "\n"
   ]
  },
  {
   "cell_type": "code",
   "execution_count": 9,
   "metadata": {},
   "outputs": [],
   "source": [
    "def print_table(rows, padding=0):\n",
    "    \"\"\" Print `rows` with content-based column widths. \"\"\"\n",
    "    col_widths = [\n",
    "        max(len(str(value)) for value in col) + padding\n",
    "        for col in zip(*rows)\n",
    "    ]\n",
    "    total_width = sum(col_widths) + len(col_widths) - 1\n",
    "    fmt = ' '.join('%%-%ds' % width for width in col_widths)\n",
    "    print(fmt % tuple(rows[0]))\n",
    "    print('~' * total_width)\n",
    "    for row in rows[1:]:\n",
    "        print(fmt % tuple(row))"
   ]
  },
  {
   "cell_type": "code",
   "execution_count": 10,
   "metadata": {},
   "outputs": [
    {
     "name": "stdout",
     "output_type": "stream",
     "text": [
      "Chunk                .root       root.dep_     .root.head    \n",
      "~~~~~~~~~~~~~~~~~~~~~~~~~~~~~~~~~~~~~~~~~~~~~~~~~~~~~~~~~~~~~\n",
      "The Waystone Inn     Inn         nsubj         lay           \n",
      "silence              silence     pobj          in            \n",
      "it                   it          nsubj         was           \n",
      "a silence            silence     attr          was           \n",
      "three parts          parts       pobj          of            \n"
     ]
    }
   ],
   "source": [
    "rows = [['Chunk', '.root', 'root.dep_', '.root.head']]\n",
    "for chunk in doc.noun_chunks:\n",
    "    rows.append([\n",
    "        chunk,            # A Span object with the full phrase.\n",
    "        chunk.root,       # The key Token within this phrase.\n",
    "        chunk.root.dep_,  # The grammatical role of this phrase.\n",
    "        chunk.root.head   # The grammatical parent Token.\n",
    "    ])\n",
    "print_table(rows, padding=4)"
   ]
  },
  {
   "cell_type": "code",
   "execution_count": 23,
   "metadata": {},
   "outputs": [],
   "source": [
    "def get_Parent_dep(doc, token_text):\n",
    "    for chunk in doc.noun_chunks:\n",
    "        if (str(chunk)).find(token_text) != -1:\n",
    "            return chunk, '-', token_text, '-', chunk.root.head.text\n",
    "        "
   ]
  },
  {
   "cell_type": "code",
   "execution_count": 24,
   "metadata": {},
   "outputs": [
    {
     "name": "stdout",
     "output_type": "stream",
     "text": [
      "The (The Waystone Inn, '-', 'The', '-', 'lay')\n",
      "Waystone (The Waystone Inn, '-', 'Waystone', '-', 'lay')\n",
      "Inn (The Waystone Inn, '-', 'Inn', '-', 'lay')\n",
      "lay None\n",
      "in None\n",
      "silence (silence, '-', 'silence', '-', 'in')\n",
      ", None\n",
      "and None\n",
      "it (it, '-', 'it', '-', 'was')\n",
      "was None\n",
      "a (The Waystone Inn, '-', 'a', '-', 'lay')\n",
      "silence (silence, '-', 'silence', '-', 'in')\n",
      "of None\n",
      "three (three parts, '-', 'three', '-', 'of')\n",
      "parts (three parts, '-', 'parts', '-', 'of')\n",
      ". None\n"
     ]
    }
   ],
   "source": [
    "document_string = \"The Waystone Inn lay in silence, and it was a silence of three parts. \"\n",
    "\n",
    "doc = nlp(document_string)\n",
    "\n",
    "for tkn in doc:\n",
    "    print(tkn.text, get_Parent_dep(doc, tkn.text))"
   ]
  },
  {
   "cell_type": "code",
   "execution_count": null,
   "metadata": {},
   "outputs": [],
   "source": []
  },
  {
   "cell_type": "code",
   "execution_count": 9,
   "metadata": {},
   "outputs": [
    {
     "name": "stdout",
     "output_type": "stream",
     "text": [
      "\n",
      "T\n",
      "Th\n",
      "The\n",
      "he \n",
      "e W\n",
      " Wa\n",
      "Way\n",
      "ays\n",
      "yst\n",
      "sto\n",
      "ton\n",
      "one\n",
      "ne \n",
      "e I\n",
      " In\n",
      "Inn\n",
      "nn \n",
      "n l\n",
      " la\n",
      "lay\n",
      "ay \n",
      "y i\n",
      " in\n",
      "in \n",
      "n s\n",
      " si\n",
      "sil\n",
      "ile\n",
      "len\n",
      "enc\n",
      "nce\n",
      "ce,\n",
      "e, \n",
      ", a\n",
      " an\n",
      "and\n",
      "nd \n",
      "d i\n",
      " it\n",
      "it \n",
      "t w\n",
      " wa\n",
      "was\n",
      "as \n",
      "s a\n",
      " a \n",
      "a s\n",
      " si\n",
      "sil\n",
      "ile\n",
      "len\n",
      "enc\n",
      "nce\n",
      "ce \n",
      "e o\n",
      " of\n",
      "of \n",
      "f t\n",
      " th\n",
      "thr\n",
      "hre\n",
      "ree\n",
      "ee \n",
      "e p\n",
      " pa\n",
      "par\n",
      "art\n",
      "rts\n",
      "ts.\n"
     ]
    }
   ],
   "source": [
    "sentences = [\"The Waystone Inn lay in silence, and it was a silence of three parts. \",\"this is a new sentence\"]\n",
    "sentence = sentences[0]\n",
    "window = 3\n",
    "n = len(sentence)\n",
    "\n",
    "# Previous unigrams\n",
    "for i in range(n):\n",
    "    end = min(i, window)\n",
    "    unigrams = sentence[i - end:i]\n",
    "    print(unigrams)\n",
    "    #for j, u in enumerate(unigrams):\n",
    "        #print(u)\n",
    "        #features_list[i][('prev_unigrams-%d' % j, u)] = 1\n",
    "\n",
    "# Next     unigrams\n",
    "for i in range(n):\n",
    "    end = min(i + window, n - 1)\n",
    "    unigrams = sentence[i + 1:end + 1]\n",
    "    #for j, u in enumerate(unigrams):\n",
    "        #print(u)\n",
    "        #features_list[i][('next_unigrams-%d' % j, u)] = 1"
   ]
  },
  {
   "cell_type": "code",
   "execution_count": 3,
   "metadata": {},
   "outputs": [],
   "source": [
    "\n",
    "def IOB_prose_features(sentence):\n",
    "    \"\"\"\n",
    "    IOB_prose_features\n",
    "\n",
    "    @param sentence. A list of strings\n",
    "    @return          A list of dictionaries of features\n",
    "\n",
    "    \"\"\"\n",
    "    features_list = []\n",
    "\n",
    "    # Feature: Bag of Words unigram conext (window=3)\n",
    "    if 'unigram_context' in enabled_IOB_prose_sentence_features:\n",
    "        window = 3\n",
    "        n = len(sentence)\n",
    "\n",
    "        # Previous unigrams\n",
    "        for i in range(n):\n",
    "            end = min(i, window)\n",
    "            unigrams = sentence[i - end:i]\n",
    "            for j, u in enumerate(unigrams):\n",
    "                features_list[i][('prev_unigrams-%d' % j, u)] = 1\n",
    "\n",
    "        # Next     unigrams\n",
    "        for i in range(n):\n",
    "            end = min(i + window, n - 1)\n",
    "            unigrams = sentence[i + 1:end + 1]\n",
    "            for j, u in enumerate(unigrams):\n",
    "                features_list[i][('next_unigrams-%d' % j, u)] = 1\n",
    "\n",
    "    # Only POS tag once\n",
    "    if 'pos' in enabled_IOB_prose_sentence_features:\n",
    "        pos_tagged = nltk_tagger.tag(sentence)\n",
    "\n",
    "    # Allow for particular features to be enabled\n",
    "    for feature in enabled_IOB_prose_sentence_features:\n",
    "\n",
    "        # Feature: Part of Speech\n",
    "        if feature == 'pos':\n",
    "            for (i, (_, pos)) in enumerate(pos_tagged):\n",
    "                features_list[i].update({('pos', pos): 1})\n",
    "\n",
    "        # Feature: POS context\n",
    "        if 'pos_context' in enabled_IOB_prose_sentence_features:\n",
    "            window = 3\n",
    "            n = len(sentence)\n",
    "\n",
    "            # Previous POS\n",
    "            for i in range(n):\n",
    "                end = min(i, window)\n",
    "                for j, p in enumerate(pos_tagged[i - end:i]):\n",
    "                    pos = p[1]\n",
    "                    features_list[i][('prev_pos_context-%d' % j, pos)] = 1\n",
    "\n",
    "            # Next POS\n",
    "            for i in range(n):\n",
    "                end = min(i + window, n - 1)\n",
    "                for j, p in enumerate(pos_tagged[i + 1:i + end + 1]):\n",
    "                    pos = p[1]\n",
    "                    features_list[i][('prev_pos_context-%d' % j, pos)] = 1\n",
    "\n",
    "        # GENIA features\n",
    "        # if (feature == 'GENIA') and enabled['GENIA']:\n",
    "        #\n",
    "        #     # Get GENIA features\n",
    "        #     genia_feat_list = feat_genia.features(sentence)\n",
    "        #\n",
    "        #     '''\n",
    "        #     print '\\t', sentence\n",
    "        #\n",
    "        #     print '\\n\\n'\n",
    "        #     for gf in genia_feat_list:\n",
    "        #         print '\\t', gf\n",
    "        #         print\n",
    "        #     print '\\n\\n'\n",
    "        #     '''\n",
    "        #\n",
    "        #     for i,feat_dict in enumerate(genia_feat_list):\n",
    "        #         features_list[i].update(feat_dict)\n",
    "\n",
    "        # Feature: UMLS Word Features (only use prose ones)\n",
    "        if (feature == \"UMLS\"):\n",
    "            umls_features = feat_umls.IOB_prose_features(sentence)\n",
    "            for i in range(len(sentence)):\n",
    "                features_list[i].update(umls_features[i])\n",
    "\n",
    "    # Used for 'prev' and 'next' features\n",
    "    ngram_features = [{} for i in range(len(features_list))]\n",
    "    if \"prev\" in enabled_IOB_prose_sentence_features:\n",
    "        prev = lambda f: {(\"prev_\" + k[0], k[1]): v for k, v in f.items()}\n",
    "        prev_list = map(prev, features_list)\n",
    "        for i in range(len(features_list)):\n",
    "            if i == 0:\n",
    "                ngram_features[i][(\"prev\", \"*\")] = 1\n",
    "            else:\n",
    "                ngram_features[i].update(prev_list[i - 1])\n",
    "\n",
    "    if \"prev2\" in enabled_IOB_prose_sentence_features:\n",
    "        prev2 = lambda f: {(\"prev2_\" + k[0], k[1]): v / 2.0 for k, v in f.items()}\n",
    "        prev_list = map(prev2, features_list)\n",
    "        for i in range(len(features_list)):\n",
    "            if i == 0:\n",
    "                ngram_features[i][(\"prev2\", \"*\")] = 1\n",
    "            elif i == 1:\n",
    "                ngram_features[i][(\"prev2\", \"*\")] = 1\n",
    "            else:\n",
    "                ngram_features[i].update(prev_list[i - 2])\n",
    "\n",
    "    if \"next\" in enabled_IOB_prose_sentence_features:\n",
    "        next = lambda f: {(\"next_\" + k[0], k[1]): v for k, v in f.items()}\n",
    "        next_list = map(next, features_list)\n",
    "        for i in range(len(features_list)):\n",
    "            if i < len(features_list) - 1:\n",
    "                ngram_features[i].update(next_list[i + 1])\n",
    "            else:\n",
    "                ngram_features[i][(\"next\", \"*\")] = 1\n",
    "\n",
    "    if \"next2\" in enabled_IOB_prose_sentence_features:\n",
    "        next2 = lambda f: {(\"next2_\" + k[0], k[1]): v / 2.0 for k, v in f.items()}\n",
    "        next_list = map(next2, features_list)\n",
    "        for i in range(len(features_list)):\n",
    "            if i < len(features_list) - 2:\n",
    "                ngram_features[i].update(next_list[i + 2])\n",
    "            elif i == len(features_list) - 2:\n",
    "                ngram_features[i][(\"next2\", \"**\")] = 1\n",
    "            else:\n",
    "                ngram_features[i][(\"next2\", \"*\")] = 1\n",
    "\n",
    "    merged = lambda d1, d2: dict(d1.items() + d2.items())\n",
    "    features_list = [merged(features_list[i], ngram_features[i])\n",
    "                     for i in range(len(features_list))]\n",
    "\n",
    "    '''\n",
    "    for f in features_list:\n",
    "        print sorted(f.items())\n",
    "        print\n",
    "    print '\\n\\n\\n'\n",
    "    '''\n",
    "\n",
    "    return features_list\n"
   ]
  },
  {
   "cell_type": "code",
   "execution_count": 2,
   "metadata": {},
   "outputs": [
    {
     "ename": "NameError",
     "evalue": "name 'feat_word' is not defined",
     "output_type": "error",
     "traceback": [
      "\u001b[1;31m---------------------------------------------------------------------------\u001b[0m",
      "\u001b[1;31mNameError\u001b[0m                                 Traceback (most recent call last)",
      "\u001b[1;32m<ipython-input-2-dca5488eaafa>\u001b[0m in \u001b[0;36m<module>\u001b[1;34m\u001b[0m\n\u001b[0;32m      1\u001b[0m \u001b[0mtext\u001b[0m \u001b[1;33m=\u001b[0m \u001b[1;34m\"The Waystone Inn lay in silence, and it was a silence of three parts. \"\u001b[0m\u001b[1;33m\u001b[0m\u001b[1;33m\u001b[0m\u001b[0m\n\u001b[1;32m----> 2\u001b[1;33m \u001b[0mIOB_prose_features\u001b[0m\u001b[1;33m(\u001b[0m\u001b[0mtext\u001b[0m\u001b[1;33m)\u001b[0m\u001b[1;33m\u001b[0m\u001b[1;33m\u001b[0m\u001b[0m\n\u001b[0m",
      "\u001b[1;32m<ipython-input-1-f5343f0a3c8b>\u001b[0m in \u001b[0;36mIOB_prose_features\u001b[1;34m(sentence, data)\u001b[0m\n\u001b[0;32m     18\u001b[0m     \u001b[1;31m# Get a feature set for each word in the sentence\u001b[0m\u001b[1;33m\u001b[0m\u001b[1;33m\u001b[0m\u001b[1;33m\u001b[0m\u001b[0m\n\u001b[0;32m     19\u001b[0m     \u001b[1;32mfor\u001b[0m \u001b[0mi\u001b[0m\u001b[1;33m,\u001b[0m \u001b[0mword\u001b[0m \u001b[1;32min\u001b[0m \u001b[0menumerate\u001b[0m\u001b[1;33m(\u001b[0m\u001b[0msentence\u001b[0m\u001b[1;33m)\u001b[0m\u001b[1;33m:\u001b[0m\u001b[1;33m\u001b[0m\u001b[1;33m\u001b[0m\u001b[0m\n\u001b[1;32m---> 20\u001b[1;33m         \u001b[0mfeatures_list\u001b[0m\u001b[1;33m.\u001b[0m\u001b[0mappend\u001b[0m\u001b[1;33m(\u001b[0m\u001b[0mfeat_word\u001b[0m\u001b[1;33m.\u001b[0m\u001b[0mIOB_prose_features\u001b[0m\u001b[1;33m(\u001b[0m\u001b[0msentence\u001b[0m\u001b[1;33m[\u001b[0m\u001b[0mi\u001b[0m\u001b[1;33m]\u001b[0m\u001b[1;33m)\u001b[0m\u001b[1;33m)\u001b[0m\u001b[1;33m\u001b[0m\u001b[1;33m\u001b[0m\u001b[0m\n\u001b[0m\u001b[0;32m     21\u001b[0m \u001b[1;33m\u001b[0m\u001b[0m\n\u001b[0;32m     22\u001b[0m     \u001b[1;31m# Feature: Bag of Words unigram conext (window=3)\u001b[0m\u001b[1;33m\u001b[0m\u001b[1;33m\u001b[0m\u001b[1;33m\u001b[0m\u001b[0m\n",
      "\u001b[1;31mNameError\u001b[0m: name 'feat_word' is not defined"
     ]
    }
   ],
   "source": [
    "text = \"The Waystone Inn lay in silence, and it was a silence of three parts. \"\n",
    "IOB_prose_features(text)"
   ]
  },
  {
   "cell_type": "code",
   "execution_count": null,
   "metadata": {},
   "outputs": [],
   "source": []
  },
  {
   "cell_type": "code",
   "execution_count": null,
   "metadata": {},
   "outputs": [],
   "source": []
  },
  {
   "cell_type": "code",
   "execution_count": null,
   "metadata": {},
   "outputs": [],
   "source": []
  }
 ],
 "metadata": {
  "kernelspec": {
   "display_name": "Python 3",
   "language": "python",
   "name": "python3"
  },
  "language_info": {
   "codemirror_mode": {
    "name": "ipython",
    "version": 3
   },
   "file_extension": ".py",
   "mimetype": "text/x-python",
   "name": "python",
   "nbconvert_exporter": "python",
   "pygments_lexer": "ipython3",
   "version": "3.7.9"
  }
 },
 "nbformat": 4,
 "nbformat_minor": 4
}
